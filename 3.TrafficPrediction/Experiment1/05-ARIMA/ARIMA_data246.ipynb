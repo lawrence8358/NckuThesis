{
 "cells": [
  {
   "cell_type": "markdown",
   "id": "0ec5b60c-856b-4b65-811b-2b2b69cad641",
   "metadata": {
    "papermill": {
     "duration": 0.016517,
     "end_time": "2025-06-19T03:09:56.576995",
     "exception": false,
     "start_time": "2025-06-19T03:09:56.560478",
     "status": "completed"
    },
    "tags": []
   },
   "source": [
    "# 參考網站 \n",
    "+ [微軟的範例](https://github.com/microsoft/ML-For-Beginners/tree/main/7-TimeSeries/2-ARIMA)\n",
    "+ [ARIMA-GARCH 模型(上)](https://medium.com/tej-api-%E9%87%91%E8%9E%8D%E8%B3%87%E6%96%99%E5%88%86%E6%9E%90/%E8%B3%87%E6%96%99%E7%A7%91%E5%AD%B8-%E5%8D%81-arima-garch%E6%A8%A1%E5%9E%8B-%E4%B8%8A-4cf07dac75fd)"
   ]
  },
  {
   "cell_type": "markdown",
   "id": "b58c8be2",
   "metadata": {
    "papermill": {
     "duration": 0.006379,
     "end_time": "2025-06-19T03:09:56.592066",
     "exception": false,
     "start_time": "2025-06-19T03:09:56.585687",
     "status": "completed"
    },
    "tags": []
   },
   "source": [
    "# 參考網站 \n",
    "+ [微軟的範例](https://github.com/microsoft/ML-For-Beginners/tree/main/7-TimeSeries/2-ARIMA)\n",
    "+ [ARIMA-GARCH 模型(上)](https://medium.com/tej-api-%E9%87%91%E8%9E%8D%E8%B3%87%E6%96%99%E5%88%86%E6%9E%90/%E8%B3%87%E6%96%99%E7%A7%91%E5%AD%B8-%E5%8D%81-arima-garch%E6%A8%A1%E5%9E%8B-%E4%B8%8A-4cf07dac75fd)"
   ]
  },
  {
   "cell_type": "markdown",
   "id": "e507bd4a",
   "metadata": {
    "papermill": {
     "duration": 0.005378,
     "end_time": "2025-06-19T03:09:56.603937",
     "exception": false,
     "start_time": "2025-06-19T03:09:56.598559",
     "status": "completed"
    },
    "tags": []
   },
   "source": [
    "# 參數設定"
   ]
  },
  {
   "cell_type": "code",
   "execution_count": 1,
   "id": "e104c664",
   "metadata": {
    "execution": {
     "iopub.execute_input": "2025-06-19T03:09:56.613885Z",
     "iopub.status.busy": "2025-06-19T03:09:56.613516Z",
     "iopub.status.idle": "2025-06-19T03:09:56.618188Z",
     "shell.execute_reply": "2025-06-19T03:09:56.617753Z"
    },
    "papermill": {
     "duration": 0.011041,
     "end_time": "2025-06-19T03:09:56.619348",
     "exception": false,
     "start_time": "2025-06-19T03:09:56.608307",
     "status": "completed"
    },
    "tags": []
   },
   "outputs": [],
   "source": [
    "HORIZON = 1 # 0: 預設當日、1: 預測隔日(原本深度學習)，程式寫法僅支援 0,1\n",
    "\n",
    "predict_types = [2,4,6]\n",
    "fieldName = 'GroupCount'\n",
    "\n",
    "# predict_types = [1]\n",
    "# fieldName = 'GroupCount'\n",
    "\n",
    "# training_window = @training_window@ # 過去天數，用於訓練資料中的歷史資料長度\n",
    "# predict_type = @predict_type@\n",
    "# fieldName = '@label_column@' \n",
    "\n",
    "# ==== 底下的參數基本上都不要亂動 ====\n",
    "training_window = 14  # 過去天數，用於訓練資料中的歷史資料長度 \n",
    "train_split_rate = 0.04  # 訓練集佔整體資料集的比例\n",
    "# includeTraingData = False  # 資料來源是否包含訓練集最後 14 天，正常要包含，但有少數一些資料會有問題，若遇到有問題，把這個改成 False\n",
    " \n",
    "\n",
    "actFiledName = fieldName \n",
    "if HORIZON == 1:\n",
    "    actFiledName = f'{actFiledName}1'\n",
    "    \n",
    "model_dir = 'ARIMA/_Model'"
   ]
  },
  {
   "cell_type": "markdown",
   "id": "2d7164c1-3b25-454e-b698-1b01e0177548",
   "metadata": {
    "papermill": {
     "duration": 0.004185,
     "end_time": "2025-06-19T03:09:56.627594",
     "exception": false,
     "start_time": "2025-06-19T03:09:56.623409",
     "status": "completed"
    },
    "tags": []
   },
   "source": [
    "# 定義類別"
   ]
  },
  {
   "cell_type": "code",
   "execution_count": 2,
   "id": "9cf1d82a",
   "metadata": {
    "execution": {
     "iopub.execute_input": "2025-06-19T03:09:56.634635Z",
     "iopub.status.busy": "2025-06-19T03:09:56.634479Z",
     "iopub.status.idle": "2025-06-19T03:09:57.581497Z",
     "shell.execute_reply": "2025-06-19T03:09:57.581186Z"
    },
    "papermill": {
     "duration": 0.95124,
     "end_time": "2025-06-19T03:09:57.582141",
     "exception": false,
     "start_time": "2025-06-19T03:09:56.630901",
     "status": "completed"
    },
    "tags": []
   },
   "outputs": [
    {
     "name": "stdout",
     "output_type": "stream",
     "text": [
      "/Users/elliesu/Developer/nckuenv\n"
     ]
    }
   ],
   "source": [
    "# 重新載入 Lib，讓檔案可以直接修改使用 \n",
    "import importlib\n",
    "import ArimaLib \n",
    "importlib.reload(ArimaLib)   \n",
    "\n",
    "from ArimaLib import * \n",
    "arima = ArimaLib()\n",
    "\n",
    "import sys\n",
    "print(sys.prefix)"
   ]
  },
  {
   "cell_type": "markdown",
   "id": "bbed42f9",
   "metadata": {
    "papermill": {
     "duration": 0.001892,
     "end_time": "2025-06-19T03:09:57.586206",
     "exception": false,
     "start_time": "2025-06-19T03:09:57.584314",
     "status": "completed"
    },
    "tags": []
   },
   "source": [
    "# 清除舊的訓練資料"
   ]
  },
  {
   "cell_type": "code",
   "execution_count": 3,
   "id": "f32ad035",
   "metadata": {
    "execution": {
     "iopub.execute_input": "2025-06-19T03:09:57.590511Z",
     "iopub.status.busy": "2025-06-19T03:09:57.590273Z",
     "iopub.status.idle": "2025-06-19T03:09:57.592347Z",
     "shell.execute_reply": "2025-06-19T03:09:57.592115Z"
    },
    "papermill": {
     "duration": 0.004941,
     "end_time": "2025-06-19T03:09:57.592958",
     "exception": false,
     "start_time": "2025-06-19T03:09:57.588017",
     "status": "completed"
    },
    "tags": []
   },
   "outputs": [
    {
     "name": "stdout",
     "output_type": "stream",
     "text": [
      "result_file_name: ARIMA/_Model/GroupCount_data246.result.json\n"
     ]
    }
   ],
   "source": [
    "result_file_name = arima.reset_data(\n",
    "    model_dir, \n",
    "    label_name = fieldName, \n",
    "    predicteds = predict_types\n",
    ")"
   ]
  },
  {
   "cell_type": "markdown",
   "id": "4761aae3",
   "metadata": {
    "papermill": {
     "duration": 0.001866,
     "end_time": "2025-06-19T03:09:57.596780",
     "exception": false,
     "start_time": "2025-06-19T03:09:57.594914",
     "status": "completed"
    },
    "tags": []
   },
   "source": [
    "# 載入數據"
   ]
  },
  {
   "cell_type": "code",
   "execution_count": 4,
   "id": "4b0f3759-245a-459a-9963-316766e14b6a",
   "metadata": {
    "execution": {
     "iopub.execute_input": "2025-06-19T03:09:57.601026Z",
     "iopub.status.busy": "2025-06-19T03:09:57.600923Z",
     "iopub.status.idle": "2025-06-19T03:09:57.613554Z",
     "shell.execute_reply": "2025-06-19T03:09:57.613347Z"
    },
    "papermill": {
     "duration": 0.015472,
     "end_time": "2025-06-19T03:09:57.614189",
     "exception": false,
     "start_time": "2025-06-19T03:09:57.598717",
     "status": "completed"
    },
    "tags": []
   },
   "outputs": [
    {
     "name": "stdout",
     "output_type": "stream",
     "text": [
      "\u001b[93m# 載入數據\u001b[0m\n"
     ]
    },
    {
     "data": {
      "text/html": [
       "<div>\n",
       "<style scoped>\n",
       "    .dataframe tbody tr th:only-of-type {\n",
       "        vertical-align: middle;\n",
       "    }\n",
       "\n",
       "    .dataframe tbody tr th {\n",
       "        vertical-align: top;\n",
       "    }\n",
       "\n",
       "    .dataframe thead th {\n",
       "        text-align: right;\n",
       "    }\n",
       "</style>\n",
       "<table border=\"1\" class=\"dataframe\">\n",
       "  <thead>\n",
       "    <tr style=\"text-align: right;\">\n",
       "      <th></th>\n",
       "      <th>GroupCount</th>\n",
       "    </tr>\n",
       "    <tr>\n",
       "      <th>RequestTime</th>\n",
       "      <th></th>\n",
       "    </tr>\n",
       "  </thead>\n",
       "  <tbody>\n",
       "    <tr>\n",
       "      <th>2023-04-02</th>\n",
       "      <td>1175</td>\n",
       "    </tr>\n",
       "    <tr>\n",
       "      <th>2023-04-03</th>\n",
       "      <td>1516</td>\n",
       "    </tr>\n",
       "    <tr>\n",
       "      <th>2023-04-04</th>\n",
       "      <td>1351</td>\n",
       "    </tr>\n",
       "    <tr>\n",
       "      <th>2023-04-05</th>\n",
       "      <td>1606</td>\n",
       "    </tr>\n",
       "    <tr>\n",
       "      <th>2023-04-06</th>\n",
       "      <td>3835</td>\n",
       "    </tr>\n",
       "    <tr>\n",
       "      <th>...</th>\n",
       "      <td>...</td>\n",
       "    </tr>\n",
       "    <tr>\n",
       "      <th>2024-04-26</th>\n",
       "      <td>2735</td>\n",
       "    </tr>\n",
       "    <tr>\n",
       "      <th>2024-04-27</th>\n",
       "      <td>2130</td>\n",
       "    </tr>\n",
       "    <tr>\n",
       "      <th>2024-04-28</th>\n",
       "      <td>2108</td>\n",
       "    </tr>\n",
       "    <tr>\n",
       "      <th>2024-04-29</th>\n",
       "      <td>2704</td>\n",
       "    </tr>\n",
       "    <tr>\n",
       "      <th>2024-04-30</th>\n",
       "      <td>2832</td>\n",
       "    </tr>\n",
       "  </tbody>\n",
       "</table>\n",
       "<p>395 rows × 1 columns</p>\n",
       "</div>"
      ],
      "text/plain": [
       "             GroupCount\n",
       "RequestTime            \n",
       "2023-04-02         1175\n",
       "2023-04-03         1516\n",
       "2023-04-04         1351\n",
       "2023-04-05         1606\n",
       "2023-04-06         3835\n",
       "...                 ...\n",
       "2024-04-26         2735\n",
       "2024-04-27         2130\n",
       "2024-04-28         2108\n",
       "2024-04-29         2704\n",
       "2024-04-30         2832\n",
       "\n",
       "[395 rows x 1 columns]"
      ]
     },
     "execution_count": 4,
     "metadata": {},
     "output_type": "execute_result"
    }
   ],
   "source": [
    "arima_data = arima.load_data(predict_types)[[fieldName]]\n",
    "arima_data"
   ]
  },
  {
   "cell_type": "markdown",
   "id": "c1f38426-2715-4ca9-a07d-8507d69c153d",
   "metadata": {
    "papermill": {
     "duration": 0.002028,
     "end_time": "2025-06-19T03:09:57.618354",
     "exception": false,
     "start_time": "2025-06-19T03:09:57.616326",
     "status": "completed"
    },
    "tags": []
   },
   "source": [
    "# 切割訓練和測試資料集"
   ]
  },
  {
   "cell_type": "code",
   "execution_count": 5,
   "id": "133203f5",
   "metadata": {
    "execution": {
     "iopub.execute_input": "2025-06-19T03:09:57.622812Z",
     "iopub.status.busy": "2025-06-19T03:09:57.622715Z",
     "iopub.status.idle": "2025-06-19T03:09:57.624695Z",
     "shell.execute_reply": "2025-06-19T03:09:57.624478Z"
    },
    "papermill": {
     "duration": 0.004872,
     "end_time": "2025-06-19T03:09:57.625286",
     "exception": false,
     "start_time": "2025-06-19T03:09:57.620414",
     "status": "completed"
    },
    "tags": []
   },
   "outputs": [
    {
     "name": "stdout",
     "output_type": "stream",
     "text": [
      "\u001b[93m# 切割訓練和測試資料集，split rate 0.04\u001b[0m\n",
      "這裡切割訓練和測試跟深度學習不同，這裡只是單純的要切割測試資料集區間，實際上並沒有用到訓練集\n",
      "data length: 395\n",
      "train_data.shape: (15, 1)\n",
      "test_data.shape: (380, 1)\n"
     ]
    }
   ],
   "source": [
    "train_data, test_data = arima.split_train_test_data(arima_data, train_split_rate)\n",
    "# train_data, test_data = arima.split_train_test_data2(arima_data, training_window=training_window)"
   ]
  },
  {
   "cell_type": "markdown",
   "id": "de018e92-9474-4878-9b29-76cc105e2907",
   "metadata": {
    "papermill": {
     "duration": 0.002038,
     "end_time": "2025-06-19T03:09:57.629448",
     "exception": false,
     "start_time": "2025-06-19T03:09:57.627410",
     "status": "completed"
    },
    "tags": []
   },
   "source": [
    "# 原始資料視覺化"
   ]
  },
  {
   "cell_type": "code",
   "execution_count": 6,
   "id": "80aa4aa9-29b7-470e-97fe-f77b7eaef3df",
   "metadata": {
    "execution": {
     "iopub.execute_input": "2025-06-19T03:09:57.633937Z",
     "iopub.status.busy": "2025-06-19T03:09:57.633844Z",
     "iopub.status.idle": "2025-06-19T03:09:57.837083Z",
     "shell.execute_reply": "2025-06-19T03:09:57.836393Z"
    },
    "papermill": {
     "duration": 0.207085,
     "end_time": "2025-06-19T03:09:57.838588",
     "exception": false,
     "start_time": "2025-06-19T03:09:57.631503",
     "status": "completed"
    },
    "tags": []
   },
   "outputs": [
    {
     "data": {
      "image/png": "[encoded data removed]",
      "text/plain": [
       "<Figure size 800x200 with 1 Axes>"
      ]
     },
     "metadata": {},
     "output_type": "display_data"
    },
    {
     "data": {
      "image/png": "[encoded data removed]",
      "text/plain": [
       "<Figure size 800x200 with 1 Axes>"
      ]
     },
     "metadata": {},
     "output_type": "display_data"
    }
   ],
   "source": [
    "plt.figure(figsize=(8, 2))\n",
    "plt.plot(arima_data.index, arima_data[fieldName], label='完整')\n",
    "\n",
    "plt.xlabel('RequestTime')\n",
    "plt.ylabel(fieldName)\n",
    "plt.legend()\n",
    "plt.show()\n",
    "\n",
    "plt.figure(figsize=(8, 2))\n",
    "plt.plot(train_data.index, train_data[fieldName], label='Train Data')\n",
    "plt.plot(test_data.index, test_data[fieldName], label='Test Data', linestyle='--')\n",
    "\n",
    "plt.xlabel('RequestTime')\n",
    "plt.ylabel(fieldName)\n",
    "plt.legend()\n",
    "plt.show()"
   ]
  },
  {
   "cell_type": "markdown",
   "id": "c6cc95e7-ee37-4442-a0d8-7e52dfe73e4c",
   "metadata": {
    "execution": {
     "iopub.execute_input": "2024-06-22T10:55:49.481597Z",
     "iopub.status.busy": "2024-06-22T10:55:49.481524Z",
     "iopub.status.idle": "2024-06-22T10:55:49.483170Z",
     "shell.execute_reply": "2024-06-22T10:55:49.482836Z",
     "shell.execute_reply.started": "2024-06-22T10:55:49.481589Z"
    },
    "papermill": {
     "duration": 0.004307,
     "end_time": "2025-06-19T03:09:57.850433",
     "exception": false,
     "start_time": "2025-06-19T03:09:57.846126",
     "status": "completed"
    },
    "tags": []
   },
   "source": [
    "# 找出最佳參數"
   ]
  },
  {
   "cell_type": "code",
   "execution_count": 7,
   "id": "97ac2766",
   "metadata": {
    "execution": {
     "iopub.execute_input": "2025-06-19T03:09:57.863081Z",
     "iopub.status.busy": "2025-06-19T03:09:57.862793Z",
     "iopub.status.idle": "2025-06-19T03:10:32.104139Z",
     "shell.execute_reply": "2025-06-19T03:10:32.103862Z"
    },
    "papermill": {
     "duration": 34.249357,
     "end_time": "2025-06-19T03:10:32.106939",
     "exception": false,
     "start_time": "2025-06-19T03:09:57.857582",
     "status": "completed"
    },
    "tags": []
   },
   "outputs": [
    {
     "name": "stdout",
     "output_type": "stream",
     "text": [
      "395\n",
      "\u001b[93m# 找到最佳的 p, d, q 值，window_size: 14 \u001b[0m\n"
     ]
    },
    {
     "name": "stdout",
     "output_type": "stream",
     "text": [
      "\n",
      "Best model:  ARIMA(13,0,6)(0,0,0)[0]          \n",
      "Total fit time: 34.201 seconds\n",
      "                               SARIMAX Results                                \n",
      "==============================================================================\n",
      "Dep. Variable:                      y   No. Observations:                  395\n",
      "Model:              SARIMAX(13, 0, 6)   Log Likelihood               -3595.330\n",
      "Date:                Thu, 19 Jun 2025   AIC                           7230.660\n",
      "Time:                        11:10:32   BIC                           7310.238\n",
      "Sample:                             0   HQIC                          7262.190\n",
      "                                - 395                                         \n",
      "Covariance Type:                  opg                                         \n",
      "==============================================================================\n",
      "                 coef    std err          z      P>|z|      [0.025      0.975]\n",
      "------------------------------------------------------------------------------\n",
      "ar.L1         -0.2044      0.521     -0.392      0.695      -1.226       0.817\n",
      "ar.L2          1.1274      0.402      2.803      0.005       0.339       1.916\n",
      "ar.L3         -0.0974      0.368     -0.265      0.791      -0.819       0.624\n",
      "ar.L4         -0.9486      0.379     -2.504      0.012      -1.691      -0.206\n",
      "ar.L5          0.5293      0.325      1.629      0.103      -0.107       1.166\n",
      "ar.L6          0.8020      0.543      1.477      0.140      -0.262       1.866\n",
      "ar.L7         -0.0681      0.192     -0.355      0.723      -0.445       0.308\n",
      "ar.L8      -7.081e-05      0.225     -0.000      1.000      -0.441       0.441\n",
      "ar.L9         -0.0901      0.212     -0.425      0.671      -0.505       0.325\n",
      "ar.L10        -0.0546      0.217     -0.252      0.801      -0.480       0.370\n",
      "ar.L11        -0.0160      0.200     -0.080      0.936      -0.409       0.376\n",
      "ar.L12        -0.0028      0.141     -0.020      0.984      -0.278       0.273\n",
      "ar.L13         0.0230      0.137      0.168      0.867      -0.246       0.292\n",
      "ma.L1          0.3658      0.531      0.689      0.491      -0.675       1.406\n",
      "ma.L2         -1.0431      0.338     -3.089      0.002      -1.705      -0.381\n",
      "ma.L3          0.0168      0.390      0.043      0.966      -0.747       0.780\n",
      "ma.L4          0.9938      0.352      2.827      0.005       0.305       1.683\n",
      "ma.L5         -0.4055      0.322     -1.260      0.208      -1.036       0.225\n",
      "ma.L6         -0.8689      0.478     -1.817      0.069      -1.806       0.068\n",
      "sigma2      5.146e+06    1.7e-06   3.03e+12      0.000    5.15e+06    5.15e+06\n",
      "===================================================================================\n",
      "Ljung-Box (L1) (Q):                   0.58   Jarque-Bera (JB):            603082.36\n",
      "Prob(Q):                              0.45   Prob(JB):                         0.00\n",
      "Heteroskedasticity (H):               8.16   Skew:                            11.88\n",
      "Prob(H) (two-sided):                  0.00   Kurtosis:                       192.94\n",
      "===================================================================================\n",
      "\n",
      "Warnings:\n",
      "[1] Covariance matrix calculated using the outer product of gradients (complex-step).\n",
      "[2] Covariance matrix is singular or near-singular, with condition number 6.04e+27. Standard errors may be unstable.\n",
      "最佳的 AIC 值: 7230.660172138802\n",
      "最佳的 BIC 值: 7310.237887436825\n",
      "最佳的 p 值: 13\n",
      "最佳的 d 值: 0\n",
      "最佳的 q 值: 6\n",
      "pvalues: ['0.6949369314', '0.0050701965', '0.7913581281', '0.0122797870', '0.1032093897', '0.1396526814', '0.7227592781', '0.9997491325', '0.6705295359', '0.8011316061', '0.9361862268', '0.9841010038', '0.8667200781', '0.4908348367', '0.0020104524', '0.9656929735', '0.0047002721', '0.2075776128', '0.0691410538', '0.0000000000']\n",
      "best_ar_pvalue: 0.4908348367\n",
      "best_ma_pvalue: 0.0000000000\n"
     ]
    }
   ],
   "source": [
    "# if includeTraingData:\n",
    "#     print(f'使用訓練集前 {training_window} 天')\n",
    "#     aic_data = [x for x in train_data[fieldName]]\n",
    "#     aic_data = aic_data[(-training_window):] \n",
    "#     aic_data.extend(test_data[fieldName].values) \n",
    "# else:\n",
    "#     print(f'不使用訓練集前 {training_window} 天')\n",
    "#     aic_data = test_data[fieldName].values\n",
    "\n",
    "aic_data = arima_data[fieldName].values\n",
    "print(len(aic_data))\n",
    "\n",
    "auto_model, best_p, best_d, best_q, best_aic, arima_resid, best_ar_pvalue, best_ma_pvalue = \\\n",
    "    arima.find_best_config(aic_data, window_size=training_window)\n",
    "# 基本上選出來的 P-Vaule 都要小於 0.05，才達到顯著的效果，代表是平穩的序列"
   ]
  },
  {
   "cell_type": "markdown",
   "id": "d4e15454",
   "metadata": {
    "papermill": {
     "duration": 0.00269,
     "end_time": "2025-06-19T03:10:32.112890",
     "exception": false,
     "start_time": "2025-06-19T03:10:32.110200",
     "status": "completed"
    },
    "tags": []
   },
   "source": [
    "# 使用 ARMIA 套件再次驗證"
   ]
  },
  {
   "cell_type": "code",
   "execution_count": 8,
   "id": "6fd66cc1",
   "metadata": {
    "execution": {
     "iopub.execute_input": "2025-06-19T03:10:32.118812Z",
     "iopub.status.busy": "2025-06-19T03:10:32.118687Z",
     "iopub.status.idle": "2025-06-19T03:10:33.387912Z",
     "shell.execute_reply": "2025-06-19T03:10:33.387669Z"
    },
    "papermill": {
     "duration": 1.273144,
     "end_time": "2025-06-19T03:10:33.388609",
     "exception": false,
     "start_time": "2025-06-19T03:10:32.115465",
     "status": "completed"
    },
    "tags": []
   },
   "outputs": [
    {
     "name": "stdout",
     "output_type": "stream",
     "text": [
      "\u001b[93m# 檢查 ARIMA 模型\u001b[0m\n"
     ]
    },
    {
     "name": "stderr",
     "output_type": "stream",
     "text": [
      "/Users/elliesu/Developer/nckuenv/lib/python3.12/site-packages/statsmodels/tsa/statespace/sarimax.py:966: UserWarning: Non-stationary starting autoregressive parameters found. Using zeros as starting parameters.\n",
      "  warn('Non-stationary starting autoregressive parameters'\n",
      "/Users/elliesu/Developer/nckuenv/lib/python3.12/site-packages/statsmodels/tsa/statespace/sarimax.py:978: UserWarning: Non-invertible starting MA parameters found. Using zeros as starting parameters.\n",
      "  warn('Non-invertible starting MA parameters found.'\n"
     ]
    },
    {
     "name": "stdout",
     "output_type": "stream",
     "text": [
      "                               SARIMAX Results                                \n",
      "==============================================================================\n",
      "Dep. Variable:                      y   No. Observations:                  395\n",
      "Model:                ARIMA(13, 0, 6)   Log Likelihood               -3585.710\n",
      "Date:                Thu, 19 Jun 2025   AIC                           7213.419\n",
      "Time:                        11:10:33   BIC                           7296.976\n",
      "Sample:                             0   HQIC                          7246.525\n",
      "                                - 395                                         \n",
      "Covariance Type:                  opg                                         \n",
      "==============================================================================\n",
      "                 coef    std err          z      P>|z|      [0.025      0.975]\n",
      "------------------------------------------------------------------------------\n",
      "const       3156.9769    281.609     11.211      0.000    2605.034    3708.919\n",
      "ar.L1         -0.1887      1.058     -0.178      0.858      -2.263       1.885\n",
      "ar.L2          1.0725      0.828      1.296      0.195      -0.549       2.694\n",
      "ar.L3         -0.1642      1.063     -0.155      0.877      -2.247       1.919\n",
      "ar.L4         -0.9303      1.229     -0.757      0.449      -3.339       1.478\n",
      "ar.L5          0.5440      0.547      0.995      0.320      -0.528       1.616\n",
      "ar.L6          0.8142      1.025      0.794      0.427      -1.194       2.823\n",
      "ar.L7         -0.0823      0.186     -0.443      0.658      -0.446       0.282\n",
      "ar.L8         -0.0002      0.178     -0.001      0.999      -0.348       0.348\n",
      "ar.L9         -0.0853      0.131     -0.650      0.516      -0.343       0.172\n",
      "ar.L10        -0.0653      0.169     -0.387      0.699      -0.396       0.265\n",
      "ar.L11         0.0009      0.151      0.006      0.995      -0.296       0.297\n",
      "ar.L12        -0.0301      0.121     -0.249      0.804      -0.267       0.207\n",
      "ar.L13        -0.0319      0.143     -0.223      0.824      -0.313       0.249\n",
      "ma.L1          0.3527      1.050      0.336      0.737      -1.705       2.410\n",
      "ma.L2         -0.9781      0.701     -1.396      0.163      -2.351       0.395\n",
      "ma.L3          0.0866      1.051      0.082      0.934      -1.973       2.146\n",
      "ma.L4          0.9704      1.128      0.860      0.390      -1.240       3.181\n",
      "ma.L5         -0.4108      0.567     -0.724      0.469      -1.522       0.701\n",
      "ma.L6         -0.8791      1.001     -0.878      0.380      -2.841       1.083\n",
      "sigma2      4.801e+06      0.011   4.24e+08      0.000     4.8e+06     4.8e+06\n",
      "===================================================================================\n",
      "Ljung-Box (L1) (Q):                   0.02   Jarque-Bera (JB):            614554.96\n",
      "Prob(Q):                              0.90   Prob(JB):                         0.00\n",
      "Heteroskedasticity (H):               9.32   Skew:                            11.95\n",
      "Prob(H) (two-sided):                  0.00   Kurtosis:                       194.75\n",
      "===================================================================================\n",
      "\n",
      "Warnings:\n",
      "[1] Covariance matrix calculated using the outer product of gradients (complex-step).\n",
      "[2] Covariance matrix is singular or near-singular, with condition number 2.43e+24. Standard errors may be unstable.\n"
     ]
    }
   ],
   "source": [
    "model_summary_fit = arima.check_arima_model(aic_data, best_p, best_d, best_q)"
   ]
  },
  {
   "cell_type": "markdown",
   "id": "f619600e-80cd-46e6-808c-2e2a9b6dee91",
   "metadata": {
    "papermill": {
     "duration": 0.003062,
     "end_time": "2025-06-19T03:10:33.394582",
     "exception": false,
     "start_time": "2025-06-19T03:10:33.391520",
     "status": "completed"
    },
    "tags": []
   },
   "source": [
    "# Shift 預測資料"
   ]
  },
  {
   "cell_type": "code",
   "execution_count": 9,
   "id": "e0a0bd9b-c49d-4ec1-8d8b-cbba0d29ec9f",
   "metadata": {
    "execution": {
     "iopub.execute_input": "2025-06-19T03:10:33.400241Z",
     "iopub.status.busy": "2025-06-19T03:10:33.400129Z",
     "iopub.status.idle": "2025-06-19T03:10:33.403121Z",
     "shell.execute_reply": "2025-06-19T03:10:33.402897Z"
    },
    "papermill": {
     "duration": 0.006555,
     "end_time": "2025-06-19T03:10:33.403748",
     "exception": false,
     "start_time": "2025-06-19T03:10:33.397193",
     "status": "completed"
    },
    "tags": []
   },
   "outputs": [
    {
     "name": "stdout",
     "output_type": "stream",
     "text": [
      "\u001b[93m# 整理預測未來的資料\u001b[0m\n",
      "380\n"
     ]
    }
   ],
   "source": [
    "test_shifted = arima.shift_data(test_data, fieldName, HORIZON)\n",
    "test_shifted.head()\n",
    "print(len(test_shifted))"
   ]
  },
  {
   "cell_type": "markdown",
   "id": "6a5d28d6-5bbc-451b-aef7-c6d7cb64c603",
   "metadata": {
    "papermill": {
     "duration": 0.002535,
     "end_time": "2025-06-19T03:10:33.408996",
     "exception": false,
     "start_time": "2025-06-19T03:10:33.406461",
     "status": "completed"
    },
    "tags": []
   },
   "source": [
    "# 執行預測"
   ]
  },
  {
   "cell_type": "code",
   "execution_count": 10,
   "id": "521a47e4",
   "metadata": {
    "execution": {
     "iopub.execute_input": "2025-06-19T03:10:33.414507Z",
     "iopub.status.busy": "2025-06-19T03:10:33.414412Z",
     "iopub.status.idle": "2025-06-19T03:14:08.902471Z",
     "shell.execute_reply": "2025-06-19T03:14:08.902178Z"
    },
    "papermill": {
     "duration": 215.491636,
     "end_time": "2025-06-19T03:14:08.903162",
     "exception": false,
     "start_time": "2025-06-19T03:10:33.411526",
     "status": "completed"
    },
    "tags": []
   },
   "outputs": [
    {
     "name": "stdout",
     "output_type": "stream",
     "text": [
      "\u001b[93m# 開始預測\u001b[0m\n",
      "第一個預測日 :  2023-04-17 00:00:00\n",
      "第一個預測日，前 {training_window} 日數據 :               GroupCount\n",
      "RequestTime            \n",
      "2023-04-03         1516\n",
      "2023-04-04         1351\n",
      "2023-04-05         1606\n",
      "2023-04-06         3835\n",
      "2023-04-07         3561\n",
      "2023-04-08         2179\n",
      "2023-04-09         2191\n",
      "2023-04-10         4012\n",
      "2023-04-11         3989\n",
      "2023-04-12         4790\n",
      "2023-04-13         4615\n",
      "2023-04-14         4882\n",
      "2023-04-15         3509\n",
      "2023-04-16         3005\n",
      "第一個預測日當日 :  5168.0\n",
      "第一個預測日隔日 :  4245.0\n",
      "第一個預測日，前 {training_window} 日數據 :  [1175, 1516, 1351, 1606, 3835, 3561, 2179, 2191, 4012, 3989, 4790, 4615, 4882, 3509, 3005]\n",
      "最佳的 p 值: 13\n",
      "最佳的 d 值: 0\n",
      "最佳的 q 值: 6\n",
      "-------------------------------------------------------\n",
      "-------------------------------------------------------\n",
      "\n"
     ]
    },
    {
     "name": "stderr",
     "output_type": "stream",
     "text": [
      "/Users/elliesu/Developer/nckuenv/lib/python3.12/site-packages/statsmodels/tsa/statespace/sarimax.py:866: UserWarning: Too few observations to estimate starting parameters for ARMA and trend. All parameters except for variances will be set to zeros.\n",
      "  warn('Too few observations to estimate starting parameters%s.'\n"
     ]
    },
    {
     "name": "stdout",
     "output_type": "stream",
     "text": [
      "yhat: [-10512.31741469 143435.44543746]\n",
      "( 0). 實際 : 4245.0 預測 : 143435.44543745636 差距 : -139190.44543745636\n",
      "yhat: [-27292.95480329 189781.13124392]\n",
      "( 1). 實際 : 8843.0 預測 : 189781.13124392208 差距 : -180938.13124392208\n"
     ]
    },
    {
     "name": "stdout",
     "output_type": "stream",
     "text": [
      "yhat: [-55220.14701479  32417.51887877]\n",
      "( 2). 實際 : 4557.0 預測 : 32417.51887877381 差距 : -27860.51887877381\n",
      "yhat: [-4505.82364344 15732.88356652]\n",
      "( 3). 實際 : 4428.0 預測 : 15732.883566521607 差距 : -11304.883566521607\n"
     ]
    },
    {
     "name": "stdout",
     "output_type": "stream",
     "text": [
      "yhat: [6316.74226044 1450.6287593 ]\n",
      "( 4). 實際 : 3100.0 預測 : 1450.6287593034767 差距 : 1649.3712406965233\n",
      "yhat: [1976.42681367  114.22600817]\n",
      "( 5). 實際 : 2634.0 預測 : 114.22600816775594 差距 : 2519.773991832244\n"
     ]
    },
    {
     "name": "stdout",
     "output_type": "stream",
     "text": [
      "yhat: [  165.92517971 10360.62447661]\n",
      "( 6). 實際 : 4393.0 預測 : 10360.624476605284 差距 : -5967.624476605284\n",
      "yhat: [9660.56480698 3589.40975288]\n",
      "( 7). 實際 : 4177.0 預測 : 3589.40975288239 差距 : 587.59024711761\n"
     ]
    },
    {
     "name": "stdout",
     "output_type": "stream",
     "text": [
      "yhat: [9203.2776068  9395.18532932]\n",
      "( 8). 實際 : 4762.0 預測 : 9395.185329318965 差距 : -4633.185329318965\n",
      "yhat: [16083.70643828 -6524.32373337]\n",
      "( 9). 實際 : 5352.0 預測 : -6524.323733369802 差距 : 11876.323733369802\n"
     ]
    },
    {
     "name": "stdout",
     "output_type": "stream",
     "text": [
      "yhat: [ 1474.27336652 -3441.72348365]\n",
      "(10). 實際 : 4564.0 預測 : -3441.723483647909 差距 : 8005.723483647909\n",
      "yhat: [-5897.75875357  1565.98055658]\n",
      "(11). 實際 : 2599.0 預測 : 1565.9805565830488 差距 : 1033.0194434169512\n"
     ]
    },
    {
     "name": "stdout",
     "output_type": "stream",
     "text": [
      "yhat: [-3406.52023842  9679.64062262]\n",
      "(12). 實際 : 2210.0 預測 : 9679.640622616263 差距 : -7469.6406226162635\n",
      "yhat: [4396.52360953  972.53587279]\n",
      "(13). 實際 : 2492.0 預測 : 972.5358727933631 差距 : 1519.464127206637\n"
     ]
    },
    {
     "name": "stdout",
     "output_type": "stream",
     "text": [
      "yhat: [-2723.82992214  3574.34449889]\n",
      "(14). 實際 : 4600.0 預測 : 3574.3444988892365 差距 : 1025.6555011107635\n",
      "yhat: [4227.14857889 5929.30031063]\n",
      "(15). 實際 : 4140.0 預測 : 5929.3003106341785 差距 : -1789.3003106341785\n"
     ]
    },
    {
     "name": "stdout",
     "output_type": "stream",
     "text": [
      "yhat: [7184.34684539 1502.283662  ]\n",
      "(16). 實際 : 4289.0 預測 : 1502.2836620035073 差距 : 2786.7163379964927\n",
      "yhat: [4962.79201864 1472.4898948 ]\n",
      "(17). 實際 : 3725.0 預測 : 1472.4898948023265 差距 : 2252.5101051976735\n"
     ]
    },
    {
     "name": "stderr",
     "output_type": "stream",
     "text": [
      "/Users/elliesu/Developer/nckuenv/lib/python3.12/site-packages/statsmodels/tsa/statespace/sarimax.py:978: UserWarning: Non-invertible starting MA parameters found. Using zeros as starting parameters.\n",
      "  warn('Non-invertible starting MA parameters found.'\n"
     ]
    },
    {
     "name": "stdout",
     "output_type": "stream",
     "text": [
      "yhat: [3048.73759621 3694.45147453]\n",
      "(18). 實際 : 2732.0 預測 : 3694.451474528933 差距 : -962.451474528933\n",
      "yhat: [2288.34119845 3894.01929665]\n",
      "(19). 實際 : 2154.0 預測 : 3894.0192966452296 差距 : -1740.0192966452296\n"
     ]
    },
    {
     "name": "stdout",
     "output_type": "stream",
     "text": [
      "yhat: [  423.80172553 -7279.63788917]\n",
      "(20). 實際 : 3736.0 預測 : -7279.637889172625 差距 : 11015.637889172625\n",
      "yhat: [-6096.35212991 -5405.11095975]\n",
      "(21). 實際 : 3718.0 預測 : -5405.110959748696 差距 : 9123.110959748696\n"
     ]
    },
    {
     "name": "stdout",
     "output_type": "stream",
     "text": [
      "yhat: [-1802.98595681  8878.29195716]\n",
      "(22). 實際 : 4004.0 預測 : 8878.291957158654 差距 : -4874.2919571586535\n",
      "yhat: [5160.80821119 1856.71845698]\n",
      "(23). 實際 : 4029.0 預測 : 1856.718456980696 差距 : 2172.281543019304\n"
     ]
    },
    {
     "name": "stdout",
     "output_type": "stream",
     "text": [
      "yhat: [4084.784671   2566.43530654]\n",
      "(24). 實際 : 3983.0 預測 : 2566.435306535047 差距 : 1416.564693464953\n",
      "yhat: [2782.67825817 3094.54210858]\n",
      "(25). 實際 : 2403.0 預測 : 3094.5421085835223 差距 : -691.5421085835223\n"
     ]
    },
    {
     "name": "stdout",
     "output_type": "stream",
     "text": [
      "yhat: [3027.47866767 2195.58014145]\n",
      "(26). 實際 : 2020.0 預測 : 2195.5801414467624 差距 : -175.58014144676235\n",
      "yhat: [2205.13562575 3424.88282971]\n",
      "(27). 實際 : 3347.0 預測 : 3424.882829706788 差距 : -77.88282970678802\n"
     ]
    },
    {
     "name": "stdout",
     "output_type": "stream",
     "text": [
      "yhat: [3231.2307697  3920.02037136]\n",
      "(28). 實際 : 1619.0 預測 : 3920.020371357168 差距 : -2301.020371357168\n",
      "yhat: [3849.08108682 4908.42873145]\n",
      "(29). 實際 : 2528.0 預測 : 4908.428731447767 差距 : -2380.428731447767\n"
     ]
    },
    {
     "name": "stdout",
     "output_type": "stream",
     "text": [
      "yhat: [4592.76304658 4762.38722245]\n",
      "(30). 實際 : 3470.0 預測 : 4762.387222447296 差距 : -1292.3872224472962\n",
      "yhat: [4304.96227988 4467.91318465]\n",
      "(31). 實際 : 3444.0 預測 : 4467.913184654604 差距 : -1023.9131846546043\n"
     ]
    },
    {
     "name": "stdout",
     "output_type": "stream",
     "text": [
      "yhat: [3968.46055788 3773.50924726]\n",
      "(32). 實際 : 2261.0 預測 : 3773.509247258965 差距 : -1512.509247258965\n",
      "yhat: [3702.49616531 3418.83617253]\n",
      "(33). 實際 : 2110.0 預測 : 3418.8361725314803 差距 : -1308.8361725314803\n"
     ]
    },
    {
     "name": "stdout",
     "output_type": "stream",
     "text": [
      "yhat: [3008.59583454 2846.41502599]\n",
      "(34). 實際 : 3815.0 預測 : 2846.415025990535 差距 : 968.584974009465\n",
      "yhat: [2409.20502979 2672.91598488]\n",
      "(35). 實際 : 3700.0 預測 : 2672.915984881202 差距 : 1027.084015118798\n"
     ]
    },
    {
     "name": "stdout",
     "output_type": "stream",
     "text": [
      "yhat: [2465.41367373 2967.11697814]\n",
      "(36). 實際 : 3822.0 預測 : 2967.1169781410126 差距 : 854.8830218589874\n",
      "yhat: [2951.06841934 4220.823186  ]\n",
      "(37). 實際 : 3574.0 預測 : 4220.823186004 差距 : -646.8231860039996\n"
     ]
    },
    {
     "name": "stdout",
     "output_type": "stream",
     "text": [
      "yhat: [4337.52443823 3741.757677  ]\n",
      "(38). 實際 : 3607.0 預測 : 3741.7576770046912 差距 : -134.75767700469123\n",
      "yhat: [3281.265267   2786.39605002]\n",
      "(39). 實際 : 2373.0 預測 : 2786.3960500209273 差距 : -413.3960500209273\n"
     ]
    },
    {
     "name": "stdout",
     "output_type": "stream",
     "text": [
      "yhat: [2229.57179608 3161.61700181]\n",
      "(40). 實際 : 1664.0 預測 : 3161.617001811911 差距 : -1497.617001811911\n",
      "yhat: [2849.82852328 4357.50475844]\n",
      "(41). 實際 : 3360.0 預測 : 4357.504758443492 差距 : -997.5047584434924\n"
     ]
    },
    {
     "name": "stdout",
     "output_type": "stream",
     "text": [
      "yhat: [4354.82485876 3130.78215458]\n",
      "(42). 實際 : 3420.0 預測 : 3130.7821545760416 差距 : 289.21784542395835\n",
      "yhat: [3068.09304802 3038.60771407]\n",
      "(43). 實際 : 3143.0 預測 : 3038.6077140741063 差距 : 104.3922859258937\n"
     ]
    },
    {
     "name": "stdout",
     "output_type": "stream",
     "text": [
      "yhat: [3091.23254709 4831.71784894]\n",
      "(44). 實際 : 2985.0 預測 : 4831.717848937315 差距 : -1846.7178489373146\n",
      "yhat: [4838.32937593 4421.75124872]\n",
      "(45). 實際 : 3348.0 預測 : 4421.751248721381 差距 : -1073.7512487213808\n"
     ]
    },
    {
     "name": "stdout",
     "output_type": "stream",
     "text": [
      "yhat: [4080.01395003 1779.46083649]\n",
      "(46). 實際 : 2380.0 預測 : 1779.460836490939 差距 : 600.5391635090609\n",
      "yhat: [1758.00026532 2030.75082608]\n",
      "(47). 實際 : 1951.0 預測 : 2030.7508260763009 差距 : -79.75082607630088\n"
     ]
    },
    {
     "name": "stdout",
     "output_type": "stream",
     "text": [
      "yhat: [2362.61894536 4294.08442606]\n",
      "(48). 實際 : 4956.0 預測 : 4294.084426063711 差距 : 661.9155739362886\n"
     ]
    },
    {
     "name": "stdout",
     "output_type": "stream",
     "text": [
      "yhat: [4115.5684397  3977.98977829]\n",
      "(49). 實際 : 2450.0 預測 : 3977.989778290804 差距 : -1527.9897782908042\n"
     ]
    },
    {
     "name": "stdout",
     "output_type": "stream",
     "text": [
      "yhat: [4365.2379484 2869.0248104]\n",
      "(50). 實際 : 2712.0 預測 : 2869.0248104017837 差距 : -157.02481040178372\n"
     ]
    },
    {
     "name": "stdout",
     "output_type": "stream",
     "text": [
      "yhat: [2750.7437586  3424.15148038]\n",
      "(51). 實際 : 6810.0 預測 : 3424.1514803769305 差距 : 3385.8485196230695\n"
     ]
    },
    {
     "name": "stdout",
     "output_type": "stream",
     "text": [
      "yhat: [3319.52311904 3929.60298233]\n",
      "(52). 實際 : 5094.0 預測 : 3929.602982333235 差距 : 1164.397017666765\n"
     ]
    },
    {
     "name": "stdout",
     "output_type": "stream",
     "text": [
      "yhat: [3737.59699019 2332.05333794]\n",
      "(53). 實際 : 3428.0 預測 : 2332.0533379420594 差距 : 1095.9466620579406\n"
     ]
    },
    {
     "name": "stdout",
     "output_type": "stream",
     "text": [
      "yhat: [2863.35876003 3607.70673999]\n",
      "(54). 實際 : 1356.0 預測 : 3607.7067399862026 差距 : -2251.7067399862026\n"
     ]
    },
    {
     "name": "stdout",
     "output_type": "stream",
     "text": [
      "yhat: [3400.27737827 5238.85468158]\n",
      "(55). 實際 : 2442.0 預測 : 5238.854681581275 差距 : -2796.854681581275\n"
     ]
    },
    {
     "name": "stdout",
     "output_type": "stream",
     "text": [
      "yhat: [5115.72992796 3899.21727617]\n",
      "(56). 實際 : 1849.0 預測 : 3899.2172761747483 差距 : -2050.2172761747483\n"
     ]
    },
    {
     "name": "stdout",
     "output_type": "stream",
     "text": [
      "yhat: [3569.46242371 3513.20388069]\n",
      "(57). 實際 : 2776.0 預測 : 3513.203880690177 差距 : -737.2038806901769\n"
     ]
    },
    {
     "name": "stdout",
     "output_type": "stream",
     "text": [
      "yhat: [3726.39429808 5392.38918716]\n",
      "(58). 實際 : 2736.0 預測 : 5392.389187162873 差距 : -2656.389187162873\n"
     ]
    },
    {
     "name": "stdout",
     "output_type": "stream",
     "text": [
      "yhat: [5612.29640078 4219.35838064]\n",
      "(59). 實際 : 1677.0 預測 : 4219.358380644924 差距 : -2542.358380644924\n"
     ]
    },
    {
     "name": "stdout",
     "output_type": "stream",
     "text": [
      "yhat: [4444.15459616 3414.43487231]\n",
      "(60). 實際 : 2309.0 預測 : 3414.4348723107087 差距 : -1105.4348723107087\n"
     ]
    },
    {
     "name": "stdout",
     "output_type": "stream",
     "text": [
      "yhat: [  8520.75158515 -15923.06518772]\n",
      "(61). 實際 : 1237.0 預測 : -15923.065187721024 差距 : 17160.065187721026\n"
     ]
    },
    {
     "name": "stdout",
     "output_type": "stream",
     "text": [
      "yhat: [5356.65054511 2339.33843922]\n",
      "(62). 實際 : 1594.0 預測 : 2339.338439221659 差距 : -745.338439221659\n"
     ]
    },
    {
     "name": "stdout",
     "output_type": "stream",
     "text": [
      "yhat: [5608.78583273  649.79046024]\n",
      "(63). 實際 : 2390.0 預測 : 649.7904602375552 差距 : 1740.2095397624448\n"
     ]
    },
    {
     "name": "stdout",
     "output_type": "stream",
     "text": [
      "yhat: [5188.8496103   893.93884387]\n",
      "(64). 實際 : 1564.0 預測 : 893.9388438722144 差距 : 670.0611561277856\n"
     ]
    },
    {
     "name": "stdout",
     "output_type": "stream",
     "text": [
      "yhat: [  11754.19758657 -104923.45698881]\n",
      "(65). 實際 : 1060.0 預測 : -104923.45698881266 差距 : 105983.45698881266\n"
     ]
    },
    {
     "name": "stdout",
     "output_type": "stream",
     "text": [
      "yhat: [ 8229.66725979 -1832.25381938]\n",
      "(66). 實際 : 1019.0 預測 : -1832.253819376484 差距 : 2851.253819376484\n"
     ]
    },
    {
     "name": "stdout",
     "output_type": "stream",
     "text": [
      "yhat: [6468.92259188 3889.55266234]\n",
      "(67). 實際 : 1257.0 預測 : 3889.5526623389437 差距 : -2632.5526623389437\n"
     ]
    },
    {
     "name": "stdout",
     "output_type": "stream",
     "text": [
      "yhat: [2597.37328706 1621.75007335]\n",
      "(68). 實際 : 1179.0 預測 : 1621.7500733513916 差距 : -442.7500733513916\n"
     ]
    },
    {
     "name": "stdout",
     "output_type": "stream",
     "text": [
      "yhat: [1728.26949277 1310.84601735]\n",
      "(69). 實際 : 3697.0 預測 : 1310.8460173509905 差距 : 2386.15398264901\n"
     ]
    },
    {
     "name": "stdout",
     "output_type": "stream",
     "text": [
      "yhat: [1712.87518367 2611.79546599]\n",
      "(70). 實際 : 1604.0 預測 : 2611.7954659918732 差距 : -1007.7954659918732\n"
     ]
    },
    {
     "name": "stdout",
     "output_type": "stream",
     "text": [
      "yhat: [2827.21825035 4486.87317865]\n",
      "(71). 實際 : 2765.0 預測 : 4486.8731786471435 差距 : -1721.8731786471435\n"
     ]
    },
    {
     "name": "stdout",
     "output_type": "stream",
     "text": [
      "yhat: [2189.12020676 3536.27085506]\n",
      "(72). 實際 : 2821.0 預測 : 3536.2708550632174 差距 : -715.2708550632174\n"
     ]
    },
    {
     "name": "stdout",
     "output_type": "stream",
     "text": [
      "yhat: [2894.77567035 2592.61050982]\n",
      "(73). 實際 : 2960.0 預測 : 2592.610509816879 差距 : 367.38949018312087\n"
     ]
    },
    {
     "name": "stdout",
     "output_type": "stream",
     "text": [
      "yhat: [2307.42723283 3353.59394352]\n",
      "(74). 實際 : 3123.0 預測 : 3353.5939435245273 差距 : -230.59394352452728\n"
     ]
    },
    {
     "name": "stdout",
     "output_type": "stream",
     "text": [
      "yhat: [2887.8035321  2310.29166541]\n",
      "(75). 實際 : 2024.0 預測 : 2310.291665408797 差距 : -286.29166540879714\n"
     ]
    },
    {
     "name": "stdout",
     "output_type": "stream",
     "text": [
      "yhat: [2225.22897798 4182.63727632]\n",
      "(76). 實際 : 3437.0 預測 : 4182.637276319234 差距 : -745.6372763192339\n"
     ]
    },
    {
     "name": "stdout",
     "output_type": "stream",
     "text": [
      "yhat: [4153.52702944 3743.23662919]\n",
      "(77). 實際 : 2560.0 預測 : 3743.236629193993 差距 : -1183.236629193993\n"
     ]
    },
    {
     "name": "stdout",
     "output_type": "stream",
     "text": [
      "yhat: [3567.7066429  3819.19117397]\n",
      "(78). 實際 : 2009.0 預測 : 3819.1911739721536 差距 : -1810.1911739721536\n"
     ]
    },
    {
     "name": "stdout",
     "output_type": "stream",
     "text": [
      "yhat: [3511.41348932 2671.44895629]\n",
      "(79). 實際 : 4249.0 預測 : 2671.448956287348 差距 : 1577.5510437126518\n"
     ]
    },
    {
     "name": "stdout",
     "output_type": "stream",
     "text": [
      "yhat: [2265.77311763 3082.62509992]\n",
      "(80). 實際 : 1679.0 預測 : 3082.6250999221606 差距 : -1403.6250999221606\n"
     ]
    },
    {
     "name": "stdout",
     "output_type": "stream",
     "text": [
      "yhat: [3957.92943259 4246.62278489]\n",
      "(81). 實際 : 1655.0 預測 : 4246.622784893286 差距 : -2591.622784893286\n"
     ]
    },
    {
     "name": "stdout",
     "output_type": "stream",
     "text": [
      "yhat: [3426.57019219 3103.50341532]\n",
      "(82). 實際 : 1236.0 預測 : 3103.5034153157235 差距 : -1867.5034153157235\n"
     ]
    },
    {
     "name": "stdout",
     "output_type": "stream",
     "text": [
      "yhat: [2677.89263337 2326.16515135]\n",
      "(83). 實際 : 1502.0 預測 : 2326.165151345073 差距 : -824.1651513450729\n"
     ]
    },
    {
     "name": "stdout",
     "output_type": "stream",
     "text": [
      "yhat: [2030.83000703 2637.55171814]\n",
      "(84). 實際 : 4055.0 預測 : 2637.551718141277 差距 : 1417.448281858723\n"
     ]
    },
    {
     "name": "stdout",
     "output_type": "stream",
     "text": [
      "yhat: [2305.43114393 2215.5483583 ]\n",
      "(85). 實際 : 3323.0 預測 : 2215.548358303193 差距 : 1107.4516416968072\n"
     ]
    },
    {
     "name": "stdout",
     "output_type": "stream",
     "text": [
      "yhat: [3280.52835886 4257.20373737]\n",
      "(86). 實際 : 3208.0 預測 : 4257.203737374537 差距 : -1049.203737374537\n"
     ]
    },
    {
     "name": "stdout",
     "output_type": "stream",
     "text": [
      "yhat: [3750.22673735 3270.45800148]\n",
      "(87). 實際 : 2084.0 預測 : 3270.4580014810876 差距 : -1186.4580014810876\n"
     ]
    },
    {
     "name": "stdout",
     "output_type": "stream",
     "text": [
      "yhat: [2779.48802331 2775.01891831]\n",
      "(88). 實際 : 1933.0 預測 : 2775.0189183056063 差距 : -842.0189183056063\n"
     ]
    },
    {
     "name": "stdout",
     "output_type": "stream",
     "text": [
      "yhat: [2880.89438394 3094.79836477]\n",
      "(89). 實際 : 1606.0 預測 : 3094.7983647651636 差距 : -1488.7983647651636\n"
     ]
    },
    {
     "name": "stdout",
     "output_type": "stream",
     "text": [
      "yhat: [2848.97433448 2658.04644441]\n",
      "(90). 實際 : 3829.0 預測 : 2658.046444408497 差距 : 1170.9535555915031\n"
     ]
    },
    {
     "name": "stdout",
     "output_type": "stream",
     "text": [
      "yhat: [2215.83553314 2733.50140046]\n",
      "(91). 實際 : 4194.0 預測 : 2733.501400459099 差距 : 1460.498599540901\n"
     ]
    },
    {
     "name": "stdout",
     "output_type": "stream",
     "text": [
      "yhat: [3276.86081033 3740.67551979]\n",
      "(92). 實際 : 4485.0 預測 : 3740.6755197864904 差距 : 744.3244802135096\n"
     ]
    },
    {
     "name": "stdout",
     "output_type": "stream",
     "text": [
      "yhat: [3752.55216324 3598.91724047]\n",
      "(93). 實際 : 4516.0 預測 : 3598.9172404656306 差距 : 917.0827595343694\n"
     ]
    },
    {
     "name": "stdout",
     "output_type": "stream",
     "text": [
      "yhat: [3936.68242434 3260.38334965]\n",
      "(94). 實際 : 4405.0 預測 : 3260.383349649584 差距 : 1144.616650350416\n"
     ]
    },
    {
     "name": "stdout",
     "output_type": "stream",
     "text": [
      "yhat: [3637.82387888 2571.63643903]\n",
      "(95). 實際 : 3305.0 預測 : 2571.6364390254234 差距 : 733.3635609745766\n"
     ]
    },
    {
     "name": "stdout",
     "output_type": "stream",
     "text": [
      "yhat: [3193.523789   3267.12758579]\n",
      "(96). 實際 : 4532.0 預測 : 3267.127585791433 差距 : 1264.872414208567\n"
     ]
    },
    {
     "name": "stdout",
     "output_type": "stream",
     "text": [
      "yhat: [3141.80120411 3303.5443058 ]\n",
      "(97). 實際 : 3714.0 預測 : 3303.5443058038672 差距 : 410.45569419613275\n"
     ]
    },
    {
     "name": "stdout",
     "output_type": "stream",
     "text": [
      "yhat: [4213.19010382 4286.826726  ]\n",
      "(98). 實際 : 3552.0 預測 : 4286.826725999677 差距 : -734.8267259996774\n"
     ]
    },
    {
     "name": "stdout",
     "output_type": "stream",
     "text": [
      "yhat: [4269.77466851 4665.98137167]\n",
      "(99). 實際 : 3838.0 預測 : 4665.981371671976 差距 : -827.9813716719764\n"
     ]
    },
    {
     "name": "stdout",
     "output_type": "stream",
     "text": [
      "yhat: [4171.44855124 4054.39649588]\n",
      "(100). 實際 : 1930.0 預測 : 4054.3964958768775 差距 : -2124.3964958768775\n"
     ]
    },
    {
     "name": "stdout",
     "output_type": "stream",
     "text": [
      "yhat: [4026.96919038 4027.37310382]\n",
      "(101). 實際 : 2862.0 預測 : 4027.3731038191145 差距 : -1165.3731038191145\n"
     ]
    },
    {
     "name": "stdout",
     "output_type": "stream",
     "text": [
      "yhat: [3298.84909932 2801.91647203]\n",
      "(102). 實際 : 1600.0 預測 : 2801.916472025046 差距 : -1201.916472025046\n"
     ]
    },
    {
     "name": "stdout",
     "output_type": "stream",
     "text": [
      "yhat: [2772.80670349 3085.21010821]\n",
      "(103). 實際 : 1603.0 預測 : 3085.2101082092177 差距 : -1482.2101082092177\n"
     ]
    },
    {
     "name": "stdout",
     "output_type": "stream",
     "text": [
      "yhat: [2561.35880152 3038.02077016]\n",
      "(104). 實際 : 3707.0 預測 : 3038.0207701583586 差距 : 668.9792298416414\n"
     ]
    },
    {
     "name": "stdout",
     "output_type": "stream",
     "text": [
      "yhat: [2674.22304224 2609.92998173]\n",
      "(105). 實際 : 5180.0 預測 : 2609.9299817319716 差距 : 2570.0700182680284\n"
     ]
    },
    {
     "name": "stdout",
     "output_type": "stream",
     "text": [
      "yhat: [2825.07988644 3415.0371832 ]\n",
      "(106). 實際 : 3271.0 預測 : 3415.0371831997873 差距 : -144.03718319978725\n"
     ]
    },
    {
     "name": "stdout",
     "output_type": "stream",
     "text": [
      "yhat: [4257.81988587 3843.91211677]\n",
      "(107). 實際 : 4025.0 預測 : 3843.9121167663334 差距 : 181.08788323366662\n"
     ]
    },
    {
     "name": "stdout",
     "output_type": "stream",
     "text": [
      "yhat: [3233.36339452 3616.83839709]\n",
      "(108). 實際 : 3554.0 預測 : 3616.83839709055 差距 : -62.83839709055019\n"
     ]
    },
    {
     "name": "stdout",
     "output_type": "stream",
     "text": [
      "yhat: [3776.23258979 2408.89481796]\n",
      "(109). 實際 : 2979.0 預測 : 2408.894817956256 差距 : 570.1051820437442\n"
     ]
    },
    {
     "name": "stdout",
     "output_type": "stream",
     "text": [
      "yhat: [2230.62825917 5234.1806871 ]\n",
      "(110). 實際 : 2139.0 預測 : 5234.1806870993805 差距 : -3095.1806870993805\n"
     ]
    },
    {
     "name": "stdout",
     "output_type": "stream",
     "text": [
      "yhat: [4645.66612784 8277.18880286]\n",
      "(111). 實際 : 4511.0 預測 : 8277.188802861017 差距 : -3766.1888028610174\n"
     ]
    },
    {
     "name": "stdout",
     "output_type": "stream",
     "text": [
      "yhat: [2116.57938396 2379.66968132]\n",
      "(112). 實際 : 4253.0 預測 : 2379.6696813241233 差距 : 1873.3303186758767\n"
     ]
    },
    {
     "name": "stdout",
     "output_type": "stream",
     "text": [
      "yhat: [32587.96819379   847.11912353]\n",
      "(113). 實際 : 4796.0 預測 : 847.1191235258416 差距 : 3948.8808764741584\n"
     ]
    },
    {
     "name": "stdout",
     "output_type": "stream",
     "text": [
      "yhat: [-106113.93846956 -687117.93988215]\n",
      "(114). 實際 : 4628.0 預測 : -687117.9398821502 差距 : 691745.9398821502\n"
     ]
    },
    {
     "name": "stdout",
     "output_type": "stream",
     "text": [
      "yhat: [-5.60958244e+06 -2.31881539e+10]\n",
      "(115). 實際 : 3434.0 預測 : -23188153864.362072 差距 : 23188157298.362072\n"
     ]
    },
    {
     "name": "stdout",
     "output_type": "stream",
     "text": [
      "yhat: [-6.16930002e+05  2.38276923e+08]\n",
      "(116). 實際 : 1989.0 預測 : 238276923.04237488 差距 : -238274934.04237488\n"
     ]
    },
    {
     "name": "stdout",
     "output_type": "stream",
     "text": [
      "yhat: [-6.73343155e+06  4.52700639e+09]\n",
      "(117). 實際 : 1942.0 預測 : 4527006393.168844 差距 : -4527004451.168844\n"
     ]
    },
    {
     "name": "stdout",
     "output_type": "stream",
     "text": [
      "yhat: [-1.26393866e+07 -5.95079334e+10]\n",
      "(118). 實際 : 3947.0 預測 : -59507933389.853294 差距 : 59507937336.853294\n"
     ]
    },
    {
     "name": "stdout",
     "output_type": "stream",
     "text": [
      "yhat: [   237648.41955766 -16933516.60800886]\n",
      "(119). 實際 : 5737.0 預測 : -16933516.60800886 差距 : 16939253.60800886\n"
     ]
    },
    {
     "name": "stdout",
     "output_type": "stream",
     "text": [
      "yhat: [-2109.54295869 42560.76974865]\n",
      "(120). 實際 : 3020.0 預測 : 42560.76974864622 差距 : -39540.76974864622\n"
     ]
    },
    {
     "name": "stdout",
     "output_type": "stream",
     "text": [
      "yhat: [-11778.29699261 226751.87414973]\n",
      "(121). 實際 : 3062.0 預測 : 226751.87414972685 差距 : -223689.87414972685\n"
     ]
    },
    {
     "name": "stdout",
     "output_type": "stream",
     "text": [
      "yhat: [  57997.48567934 -860752.81742889]\n",
      "(122). 實際 : 2721.0 預測 : -860752.8174288907 差距 : 863473.8174288907\n"
     ]
    },
    {
     "name": "stdout",
     "output_type": "stream",
     "text": [
      "yhat: [  6576.8209312  -15134.13460104]\n",
      "(123). 實際 : 1717.0 預測 : -15134.134601039612 差距 : 16851.134601039612\n"
     ]
    },
    {
     "name": "stdout",
     "output_type": "stream",
     "text": [
      "yhat: [1628.87983074 3683.11516099]\n",
      "(124). 實際 : 1417.0 預測 : 3683.1151609872486 差距 : -2266.1151609872486\n"
     ]
    },
    {
     "name": "stdout",
     "output_type": "stream",
     "text": [
      "yhat: [3600.85730489 1461.47365593]\n",
      "(125). 實際 : 2628.0 預測 : 1461.4736559250089 差距 : 1166.5263440749911\n"
     ]
    },
    {
     "name": "stdout",
     "output_type": "stream",
     "text": [
      "yhat: [ 12752.30801653 -75523.19553105]\n",
      "(126). 實際 : 2833.0 預測 : -75523.1955310502 差距 : 78356.1955310502\n"
     ]
    },
    {
     "name": "stdout",
     "output_type": "stream",
     "text": [
      "yhat: [  5874.3341989  -14751.59512169]\n",
      "(127). 實際 : 3540.0 預測 : -14751.595121691882 差距 : 18291.595121691884\n"
     ]
    },
    {
     "name": "stdout",
     "output_type": "stream",
     "text": [
      "yhat: [ 11125.2003342  -15431.42584096]\n",
      "(128). 實際 : 2987.0 預測 : -15431.425840963711 差距 : 18418.42584096371\n"
     ]
    },
    {
     "name": "stdout",
     "output_type": "stream",
     "text": [
      "yhat: [-3547.17181591 38796.32350709]\n",
      "(129). 實際 : 4056.0 預測 : 38796.32350708619 差距 : -34740.32350708619\n"
     ]
    },
    {
     "name": "stdout",
     "output_type": "stream",
     "text": [
      "yhat: [  6077.35510143 -15005.94119877]\n",
      "(130). 實際 : 1811.0 預測 : -15005.941198766533 差距 : 16816.941198766533\n"
     ]
    },
    {
     "name": "stdout",
     "output_type": "stream",
     "text": [
      "yhat: [1807.65517064 5912.27463501]\n",
      "(131). 實際 : 1708.0 預測 : 5912.274635007976 差距 : -4204.274635007976\n"
     ]
    },
    {
     "name": "stdout",
     "output_type": "stream",
     "text": [
      "yhat: [ 5130.56075547 -4163.2814945 ]\n",
      "(132). 實際 : 2822.0 預測 : -4163.281494504148 差距 : 6985.281494504148\n"
     ]
    },
    {
     "name": "stdout",
     "output_type": "stream",
     "text": [
      "yhat: [2488.55331473 4987.08013391]\n",
      "(133). 實際 : 3822.0 預測 : 4987.080133905101 差距 : -1165.0801339051013\n"
     ]
    },
    {
     "name": "stdout",
     "output_type": "stream",
     "text": [
      "yhat: [4751.79620554 2331.39708148]\n",
      "(134). 實際 : 3263.0 預測 : 2331.397081476317 差距 : 931.602918523683\n"
     ]
    },
    {
     "name": "stdout",
     "output_type": "stream",
     "text": [
      "yhat: [2593.38102806 4483.23557993]\n",
      "(135). 實際 : 3156.0 預測 : 4483.235579930706 差距 : -1327.235579930706\n"
     ]
    },
    {
     "name": "stdout",
     "output_type": "stream",
     "text": [
      "yhat: [4921.77148105 1734.68793304]\n",
      "(136). 實際 : 3799.0 預測 : 1734.6879330353345 差距 : 2064.3120669646655\n"
     ]
    },
    {
     "name": "stdout",
     "output_type": "stream",
     "text": [
      "yhat: [1398.85062808 2194.27328712]\n",
      "(137). 實際 : 2037.0 預測 : 2194.2732871190206 差距 : -157.27328711902055\n"
     ]
    },
    {
     "name": "stdout",
     "output_type": "stream",
     "text": [
      "yhat: [3051.70872166 1895.24719536]\n",
      "(138). 實際 : 1580.0 預測 : 1895.2471953616687 差距 : -315.2471953616687\n"
     ]
    },
    {
     "name": "stdout",
     "output_type": "stream",
     "text": [
      "yhat: [1149.38079448 1972.01486114]\n",
      "(139). 實際 : 3181.0 預測 : 1972.0148611391924 差距 : 1208.9851388608076\n"
     ]
    },
    {
     "name": "stdout",
     "output_type": "stream",
     "text": [
      "yhat: [1929.19168443 2209.08215045]\n",
      "(140). 實際 : 12267.0 預測 : 2209.082150453736 差距 : 10057.917849546264\n"
     ]
    },
    {
     "name": "stdout",
     "output_type": "stream",
     "text": [
      "yhat: [2543.9296265  4789.02710102]\n",
      "(141). 實際 : 2889.0 預測 : 4789.027101018379 差距 : -1900.0271010183787\n"
     ]
    },
    {
     "name": "stdout",
     "output_type": "stream",
     "text": [
      "yhat: [5286.43890014 5688.48165018]\n",
      "(142). 實際 : 4456.0 預測 : 5688.481650183624 差距 : -1232.481650183624\n"
     ]
    },
    {
     "name": "stdout",
     "output_type": "stream",
     "text": [
      "yhat: [4698.38442551 3776.08725926]\n",
      "(143). 實際 : 3652.0 預測 : 3776.087259257227 差距 : -124.08725925722683\n"
     ]
    },
    {
     "name": "stdout",
     "output_type": "stream",
     "text": [
      "yhat: [4516.14686412 2636.49922022]\n",
      "(144). 實際 : 2536.0 預測 : 2636.499220217761 差距 : -100.49922021776092\n"
     ]
    },
    {
     "name": "stdout",
     "output_type": "stream",
     "text": [
      "yhat: [3367.42484093 1771.07185341]\n",
      "(145). 實際 : 1748.0 預測 : 1771.0718534108646 差距 : -23.071853410864605\n"
     ]
    },
    {
     "name": "stdout",
     "output_type": "stream",
     "text": [
      "yhat: [2840.00975838 4076.39035238]\n",
      "(146). 實際 : 3818.0 預測 : 4076.390352378828 差距 : -258.3903523788281\n"
     ]
    },
    {
     "name": "stdout",
     "output_type": "stream",
     "text": [
      "yhat: [4466.62939095 6269.51707134]\n",
      "(147). 實際 : 3444.0 預測 : 6269.517071342432 差距 : -2825.5170713424322\n"
     ]
    },
    {
     "name": "stdout",
     "output_type": "stream",
     "text": [
      "yhat: [6073.46668489 3533.58877511]\n",
      "(148). 實際 : 3247.0 預測 : 3533.588775106875 差距 : -286.5887751068749\n"
     ]
    },
    {
     "name": "stdout",
     "output_type": "stream",
     "text": [
      "yhat: [3143.96021708 2820.02289199]\n",
      "(149). 實際 : 3154.0 預測 : 2820.022891985429 差距 : 333.97710801457106\n"
     ]
    },
    {
     "name": "stdout",
     "output_type": "stream",
     "text": [
      "yhat: [3330.07439935 3416.66749154]\n",
      "(150). 實際 : 2744.0 預測 : 3416.6674915423505 差距 : -672.6674915423505\n"
     ]
    },
    {
     "name": "stdout",
     "output_type": "stream",
     "text": [
      "yhat: [3970.63819502 1956.06350498]\n",
      "(151). 實際 : 1628.0 預測 : 1956.0635049778111 差距 : -328.06350497781114\n"
     ]
    },
    {
     "name": "stdout",
     "output_type": "stream",
     "text": [
      "yhat: [1692.25186496  147.63661215]\n",
      "(152). 實際 : 1602.0 預測 : 147.636612145262 差距 : 1454.363387854738\n"
     ]
    },
    {
     "name": "stdout",
     "output_type": "stream",
     "text": [
      "yhat: [-102.37062263 3033.79391948]\n",
      "(153). 實際 : 3467.0 預測 : 3033.7939194803657 差距 : 433.20608051963427\n"
     ]
    },
    {
     "name": "stdout",
     "output_type": "stream",
     "text": [
      "yhat: [3738.17755444 5014.27605627]\n",
      "(154). 實際 : 3424.0 預測 : 5014.276056274272 差距 : -1590.2760562742724\n"
     ]
    },
    {
     "name": "stdout",
     "output_type": "stream",
     "text": [
      "yhat: [4995.51262049 3782.30682714]\n",
      "(155). 實際 : 4579.0 預測 : 3782.3068271408347 差距 : 796.6931728591653\n"
     ]
    },
    {
     "name": "stdout",
     "output_type": "stream",
     "text": [
      "yhat: [4293.87027453 3159.78569406]\n",
      "(156). 實際 : 4019.0 預測 : 3159.7856940604483 差距 : 859.2143059395517\n"
     ]
    },
    {
     "name": "stdout",
     "output_type": "stream",
     "text": [
      "yhat: [3169.40044612 3276.54194187]\n",
      "(157). 實際 : 3172.0 預測 : 3276.5419418726256 差距 : -104.54194187262556\n"
     ]
    },
    {
     "name": "stdout",
     "output_type": "stream",
     "text": [
      "yhat: [3590.37473057 1993.7332508 ]\n",
      "(158). 實際 : 3631.0 預測 : 1993.7332508023917 差距 : 1637.2667491976083\n"
     ]
    },
    {
     "name": "stdout",
     "output_type": "stream",
     "text": [
      "yhat: [2078.23019407 1613.82701984]\n",
      "(159). 實際 : 2221.0 預測 : 1613.8270198418725 差距 : 607.1729801581275\n"
     ]
    },
    {
     "name": "stdout",
     "output_type": "stream",
     "text": [
      "yhat: [2320.45964393 3216.06810149]\n",
      "(160). 實際 : 3624.0 預測 : 3216.0681014858615 差距 : 407.93189851413854\n"
     ]
    },
    {
     "name": "stdout",
     "output_type": "stream",
     "text": [
      "yhat: [3008.03934568 4583.03921004]\n",
      "(161). 實際 : 3829.0 預測 : 4583.03921003708 差距 : -754.03921003708\n"
     ]
    },
    {
     "name": "stdout",
     "output_type": "stream",
     "text": [
      "yhat: [4835.55374968 3384.36627088]\n",
      "(162). 實際 : 3955.0 預測 : 3384.366270884686 差距 : 570.633729115314\n"
     ]
    },
    {
     "name": "stdout",
     "output_type": "stream",
     "text": [
      "yhat: [3227.3348875  3309.02275433]\n",
      "(163). 實際 : 2788.0 預測 : 3309.0227543268593 差距 : -521.0227543268593\n"
     ]
    },
    {
     "name": "stdout",
     "output_type": "stream",
     "text": [
      "yhat: [3325.27303308 3483.25321369]\n",
      "(164). 實際 : 1421.0 預測 : 3483.253213691767 差距 : -2062.253213691767\n"
     ]
    },
    {
     "name": "stdout",
     "output_type": "stream",
     "text": [
      "yhat: [3640.4975652  3499.80502706]\n",
      "(165). 實際 : 1356.0 預測 : 3499.805027060652 差距 : -2143.805027060652\n"
     ]
    },
    {
     "name": "stdout",
     "output_type": "stream",
     "text": [
      "yhat: [2685.96859293 2260.22464282]\n",
      "(166). 實際 : 1636.0 預測 : 2260.224642818912 差距 : -624.2246428189119\n"
     ]
    },
    {
     "name": "stdout",
     "output_type": "stream",
     "text": [
      "yhat: [2413.18363701 2865.73731755]\n",
      "(167). 實際 : 3637.0 預測 : 2865.737317545148 差距 : 771.262682454852\n"
     ]
    },
    {
     "name": "stdout",
     "output_type": "stream",
     "text": [
      "yhat: [2665.40057457 3338.49231324]\n",
      "(168). 實際 : 3158.0 預測 : 3338.492313236021 差距 : -180.4923132360209\n"
     ]
    },
    {
     "name": "stdout",
     "output_type": "stream",
     "text": [
      "yhat: [3814.36692589 3450.09100331]\n",
      "(169). 實際 : 3156.0 預測 : 3450.0910033059945 差距 : -294.0910033059945\n"
     ]
    },
    {
     "name": "stdout",
     "output_type": "stream",
     "text": [
      "yhat: [3391.37881552 2606.42829474]\n",
      "(170). 實際 : 2336.0 預測 : 2606.428294742931 差距 : -270.42829474293103\n"
     ]
    },
    {
     "name": "stdout",
     "output_type": "stream",
     "text": [
      "yhat: [2674.40910514 2258.71132662]\n",
      "(171). 實際 : 2632.0 預測 : 2258.7113266163215 差距 : 373.28867338367854\n"
     ]
    },
    {
     "name": "stdout",
     "output_type": "stream",
     "text": [
      "yhat: [2832.92904763 2368.63791044]\n",
      "(172). 實際 : 1585.0 預測 : 2368.637910437164 差距 : -783.637910437164\n"
     ]
    },
    {
     "name": "stdout",
     "output_type": "stream",
     "text": [
      "yhat: [2270.77394655 2746.56165867]\n",
      "(173). 實際 : 1136.0 預測 : 2746.561658672037 差距 : -1610.561658672037\n"
     ]
    },
    {
     "name": "stdout",
     "output_type": "stream",
     "text": [
      "yhat: [2811.10849761 3338.85657733]\n",
      "(174). 實際 : 1089.0 預測 : 3338.8565773298924 差距 : -2249.8565773298924\n"
     ]
    },
    {
     "name": "stdout",
     "output_type": "stream",
     "text": [
      "yhat: [2947.58344557 3641.47315605]\n",
      "(175). 實際 : 1322.0 預測 : 3641.4731560529594 差距 : -2319.4731560529594\n"
     ]
    },
    {
     "name": "stdout",
     "output_type": "stream",
     "text": [
      "yhat: [3586.58445084 3427.34588726]\n",
      "(176). 實際 : 3529.0 預測 : 3427.3458872570172 差距 : 101.65411274298276\n"
     ]
    },
    {
     "name": "stdout",
     "output_type": "stream",
     "text": [
      "yhat: [2399.41359823 2680.02575289]\n",
      "(177). 實際 : 4345.0 預測 : 2680.0257528927023 差距 : 1664.9742471072977\n"
     ]
    },
    {
     "name": "stdout",
     "output_type": "stream",
     "text": [
      "yhat: [2940.21024328 2038.40264427]\n",
      "(178). 實際 : 3514.0 預測 : 2038.4026442669788 差距 : 1475.5973557330212\n"
     ]
    },
    {
     "name": "stdout",
     "output_type": "stream",
     "text": [
      "yhat: [2250.10365064 1933.63121603]\n",
      "(179). 實際 : 2692.0 預測 : 1933.6312160329717 差距 : 758.3687839670283\n"
     ]
    },
    {
     "name": "stdout",
     "output_type": "stream",
     "text": [
      "yhat: [2217.59129229 1874.9090221 ]\n",
      "(180). 實際 : 3407.0 預測 : 1874.90902210168 差距 : 1532.09097789832\n"
     ]
    },
    {
     "name": "stdout",
     "output_type": "stream",
     "text": [
      "yhat: [2066.79943186 3185.71852399]\n",
      "(181). 實際 : 3191.0 預測 : 3185.7185239903524 差距 : 5.281476009647577\n"
     ]
    },
    {
     "name": "stdout",
     "output_type": "stream",
     "text": [
      "yhat: [2966.40898841 2682.60248555]\n",
      "(182). 實際 : 3602.0 預測 : 2682.6024855506694 差距 : 919.3975144493306\n"
     ]
    },
    {
     "name": "stdout",
     "output_type": "stream",
     "text": [
      "yhat: [2805.16894455 3826.94566479]\n",
      "(183). 實際 : 4339.0 預測 : 3826.9456647917837 差距 : 512.0543352082163\n"
     ]
    },
    {
     "name": "stdout",
     "output_type": "stream",
     "text": [
      "yhat: [4053.51130988 3391.11637608]\n",
      "(184). 實際 : 3307.0 預測 : 3391.116376084369 差距 : -84.11637608436922\n"
     ]
    },
    {
     "name": "stdout",
     "output_type": "stream",
     "text": [
      "yhat: [3592.9729324  2870.18320639]\n",
      "(185). 實際 : 3952.0 預測 : 2870.1832063917304 差距 : 1081.8167936082696\n"
     ]
    },
    {
     "name": "stdout",
     "output_type": "stream",
     "text": [
      "yhat: [2848.18722549 2252.02815059]\n",
      "(186). 實際 : 2200.0 預測 : 2252.02815059298 差距 : -52.02815059298018\n"
     ]
    },
    {
     "name": "stdout",
     "output_type": "stream",
     "text": [
      "yhat: [2603.41552112 3039.15975117]\n",
      "(187). 實際 : 11231.0 預測 : 3039.1597511684886 差距 : 8191.840248831511\n"
     ]
    },
    {
     "name": "stdout",
     "output_type": "stream",
     "text": [
      "yhat: [2875.50444092 2916.57853865]\n",
      "(188). 實際 : 3940.0 預測 : 2916.578538654095 差距 : 1023.4214613459048\n"
     ]
    },
    {
     "name": "stdout",
     "output_type": "stream",
     "text": [
      "yhat: [4954.32341562 4521.58485861]\n",
      "(189). 實際 : 4698.0 預測 : 4521.58485860737 差距 : 176.41514139263018\n"
     ]
    },
    {
     "name": "stdout",
     "output_type": "stream",
     "text": [
      "yhat: [4179.64794825 3606.33896055]\n",
      "(190). 實際 : 4438.0 預測 : 3606.338960546999 差距 : 831.6610394530012\n"
     ]
    },
    {
     "name": "stdout",
     "output_type": "stream",
     "text": [
      "yhat: [3725.04841784 3774.86202422]\n",
      "(191). 實際 : 4600.0 預測 : 3774.862024219876 差距 : 825.1379757801242\n"
     ]
    },
    {
     "name": "stdout",
     "output_type": "stream",
     "text": [
      "yhat: [3876.8089577  3175.64710598]\n",
      "(192). 實際 : 4585.0 預測 : 3175.6471059786927 差距 : 1409.3528940213073\n"
     ]
    },
    {
     "name": "stdout",
     "output_type": "stream",
     "text": [
      "yhat: [3292.27845711 4142.08538507]\n",
      "(193). 實際 : 3008.0 預測 : 4142.085385070753 差距 : -1134.0853850707526\n"
     ]
    },
    {
     "name": "stdout",
     "output_type": "stream",
     "text": [
      "yhat: [4319.7642318  5962.74368906]\n",
      "(194). 實際 : 2723.0 預測 : 5962.743689060559 差距 : -3239.7436890605586\n"
     ]
    },
    {
     "name": "stdout",
     "output_type": "stream",
     "text": [
      "yhat: [5782.92691951 3714.53855785]\n",
      "(195). 實際 : 3619.0 預測 : 3714.538557845124 差距 : -95.53855784512416\n"
     ]
    },
    {
     "name": "stdout",
     "output_type": "stream",
     "text": [
      "yhat: [3581.16294205 2352.95594328]\n",
      "(196). 實際 : 3585.0 預測 : 2352.9559432813558 差距 : 1232.0440567186442\n"
     ]
    },
    {
     "name": "stdout",
     "output_type": "stream",
     "text": [
      "yhat: [3187.01680002 3466.46508067]\n",
      "(197). 實際 : 3666.0 預測 : 3466.465080666141 差距 : 199.53491933385885\n"
     ]
    },
    {
     "name": "stdout",
     "output_type": "stream",
     "text": [
      "yhat: [3245.74503144 3870.15456098]\n",
      "(198). 實際 : 3605.0 預測 : 3870.154560984925 差距 : -265.15456098492496\n"
     ]
    },
    {
     "name": "stdout",
     "output_type": "stream",
     "text": [
      "yhat: [3539.7093912  2344.05150425]\n",
      "(199). 實際 : 3808.0 預測 : 2344.051504249561 差距 : 1463.9484957504392\n"
     ]
    },
    {
     "name": "stdout",
     "output_type": "stream",
     "text": [
      "yhat: [1902.59347568 2665.02960369]\n",
      "(200). 實際 : 2327.0 預測 : 2665.0296036937198 差距 : -338.02960369371976\n"
     ]
    },
    {
     "name": "stdout",
     "output_type": "stream",
     "text": [
      "yhat: [3193.72924014 3380.00615601]\n",
      "(201). 實際 : 1893.0 預測 : 3380.0061560148342 差距 : -1487.0061560148342\n"
     ]
    },
    {
     "name": "stdout",
     "output_type": "stream",
     "text": [
      "yhat: [3900.33645627 3848.17895509]\n",
      "(202). 實際 : 3850.0 預測 : 3848.1789550942676 差距 : 1.8210449057323785\n"
     ]
    },
    {
     "name": "stdout",
     "output_type": "stream",
     "text": [
      "yhat: [3459.41515792 2655.50238558]\n",
      "(203). 實際 : 4591.0 預測 : 2655.5023855831155 差距 : 1935.4976144168845\n"
     ]
    },
    {
     "name": "stdout",
     "output_type": "stream",
     "text": [
      "yhat: [2629.50162342 3495.60954247]\n",
      "(204). 實際 : 5334.0 預測 : 3495.609542472769 差距 : 1838.3904575272309\n"
     ]
    },
    {
     "name": "stdout",
     "output_type": "stream",
     "text": [
      "yhat: [2809.22350003 3194.93460954]\n",
      "(205). 實際 : 4533.0 預測 : 3194.934609541987 差距 : 1338.065390458013\n"
     ]
    },
    {
     "name": "stdout",
     "output_type": "stream",
     "text": [
      "yhat: [3160.6762723 3705.2086569]\n",
      "(206). 實際 : 3400.0 預測 : 3705.2086569018416 差距 : -305.20865690184155\n"
     ]
    },
    {
     "name": "stdout",
     "output_type": "stream",
     "text": [
      "yhat: [3570.17799758 2665.41499439]\n",
      "(207). 實際 : 2179.0 預測 : 2665.414994394296 差距 : -486.4149943942962\n"
     ]
    },
    {
     "name": "stdout",
     "output_type": "stream",
     "text": [
      "yhat: [2842.2350716  3201.38128203]\n",
      "(208). 實際 : 1935.0 預測 : 3201.3812820293024 差距 : -1266.3812820293024\n"
     ]
    },
    {
     "name": "stdout",
     "output_type": "stream",
     "text": [
      "yhat: [3699.05139564 3679.36221651]\n",
      "(209). 實際 : 4067.0 預測 : 3679.36221651312 差距 : 387.6377834868799\n"
     ]
    },
    {
     "name": "stdout",
     "output_type": "stream",
     "text": [
      "yhat: [3336.20724836 3931.39436044]\n",
      "(210). 實際 : 4518.0 預測 : 3931.394360440274 差距 : 586.6056395597261\n"
     ]
    },
    {
     "name": "stdout",
     "output_type": "stream",
     "text": [
      "yhat: [3769.75165717 3912.11027447]\n",
      "(211). 實際 : 4041.0 預測 : 3912.110274466632 差距 : 128.88972553336816\n"
     ]
    },
    {
     "name": "stdout",
     "output_type": "stream",
     "text": [
      "yhat: [4008.0751733  3688.80751314]\n",
      "(212). 實際 : 3695.0 預測 : 3688.807513143639 差距 : 6.192486856361029\n"
     ]
    },
    {
     "name": "stdout",
     "output_type": "stream",
     "text": [
      "yhat: [3698.52080588 3005.16984659]\n",
      "(213). 實際 : 3342.0 預測 : 3005.1698465896575 差距 : 336.8301534103425\n"
     ]
    },
    {
     "name": "stdout",
     "output_type": "stream",
     "text": [
      "yhat: [2988.08798025 2605.26658797]\n",
      "(214). 實際 : 2101.0 預測 : 2605.266587973754 差距 : -504.2665879737542\n"
     ]
    },
    {
     "name": "stdout",
     "output_type": "stream",
     "text": [
      "yhat: [2709.64207327 2847.62625384]\n",
      "(215). 實際 : 1690.0 預測 : 2847.626253841939 差距 : -1157.6262538419392\n"
     ]
    },
    {
     "name": "stdout",
     "output_type": "stream",
     "text": [
      "yhat: [2788.90220996 3527.72143824]\n",
      "(216). 實際 : 3318.0 預測 : 3527.7214382406296 差距 : -209.7214382406296\n"
     ]
    },
    {
     "name": "stdout",
     "output_type": "stream",
     "text": [
      "yhat: [3060.44122255 3820.43665424]\n",
      "(217). 實際 : 4519.0 預測 : 3820.4366542426906 差距 : 698.5633457573094\n"
     ]
    },
    {
     "name": "stdout",
     "output_type": "stream",
     "text": [
      "yhat: [3995.47945206 3925.08794698]\n",
      "(218). 實際 : 4032.0 預測 : 3925.0879469809224 差距 : 106.91205301907758\n"
     ]
    },
    {
     "name": "stdout",
     "output_type": "stream",
     "text": [
      "yhat: [4039.79641671 3294.97592473]\n",
      "(219). 實際 : 3501.0 預測 : 3294.975924734176 差距 : 206.0240752658242\n"
     ]
    },
    {
     "name": "stdout",
     "output_type": "stream",
     "text": [
      "yhat: [3301.94412559 3036.77295709]\n",
      "(220). 實際 : 3860.0 預測 : 3036.772957088944 差距 : 823.2270429110558\n"
     ]
    },
    {
     "name": "stdout",
     "output_type": "stream",
     "text": [
      "yhat: [3186.56917473 2568.54698743]\n",
      "(221). 實際 : 1782.0 預測 : 2568.5469874331784 差距 : -786.5469874331784\n"
     ]
    },
    {
     "name": "stdout",
     "output_type": "stream",
     "text": [
      "yhat: [2876.21441011 2513.51187276]\n",
      "(222). 實際 : 1787.0 預測 : 2513.5118727606596 差距 : -726.5118727606596\n"
     ]
    },
    {
     "name": "stdout",
     "output_type": "stream",
     "text": [
      "yhat: [2502.93813665 3478.73038137]\n",
      "(223). 實際 : 2756.0 預測 : 3478.730381365195 差距 : -722.7303813651952\n"
     ]
    },
    {
     "name": "stdout",
     "output_type": "stream",
     "text": [
      "yhat: [3373.24063787 3830.36430366]\n",
      "(224). 實際 : 3151.0 預測 : 3830.3643036618923 差距 : -679.3643036618923\n"
     ]
    },
    {
     "name": "stdout",
     "output_type": "stream",
     "text": [
      "yhat: [3710.64956151 3557.68060336]\n",
      "(225). 實際 : 3439.0 預測 : 3557.6806033591492 差距 : -118.68060335914925\n"
     ]
    },
    {
     "name": "stdout",
     "output_type": "stream",
     "text": [
      "yhat: [3573.5907756  3116.37405237]\n",
      "(226). 實際 : 4275.0 預測 : 3116.3740523678907 差距 : 1158.6259476321093\n"
     ]
    },
    {
     "name": "stdout",
     "output_type": "stream",
     "text": [
      "yhat: [3086.64251484 2974.41530025]\n",
      "(227). 實際 : 3924.0 預測 : 2974.4153002458033 差距 : 949.5846997541967\n"
     ]
    },
    {
     "name": "stdout",
     "output_type": "stream",
     "text": [
      "yhat: [3231.89711699 2391.45852908]\n",
      "(228). 實際 : 1746.0 預測 : 2391.4585290783907 差距 : -645.4585290783907\n"
     ]
    },
    {
     "name": "stdout",
     "output_type": "stream",
     "text": [
      "yhat: [2651.96458603 2434.93264485]\n",
      "(229). 實際 : 2690.0 預測 : 2434.9326448491724 差距 : 255.06735515082755\n"
     ]
    },
    {
     "name": "stdout",
     "output_type": "stream",
     "text": [
      "yhat: [2170.16087151 3166.81545354]\n",
      "(230). 實際 : 3659.0 預測 : 3166.8154535400863 差距 : 492.1845464599137\n"
     ]
    },
    {
     "name": "stdout",
     "output_type": "stream",
     "text": [
      "yhat: [3334.05094165 3852.6762574 ]\n",
      "(231). 實際 : 3681.0 預測 : 3852.676257400985 差距 : -171.67625740098492\n"
     ]
    },
    {
     "name": "stdout",
     "output_type": "stream",
     "text": [
      "yhat: [4013.28380299 3771.91234773]\n",
      "(232). 實際 : 5102.0 預測 : 3771.91234772697 差距 : 1330.08765227303\n"
     ]
    },
    {
     "name": "stdout",
     "output_type": "stream",
     "text": [
      "yhat: [3766.27789347 3640.05652636]\n",
      "(233). 實際 : 5152.0 預測 : 3640.056526364144 差距 : 1511.9434736358562\n"
     ]
    },
    {
     "name": "stdout",
     "output_type": "stream",
     "text": [
      "yhat: [3849.83290613 3472.93296298]\n",
      "(234). 實際 : 4226.0 預測 : 3472.9329629837284 差距 : 753.0670370162716\n"
     ]
    },
    {
     "name": "stdout",
     "output_type": "stream",
     "text": [
      "yhat: [3844.28665545 2711.86388776]\n",
      "(235). 實際 : 1742.0 預測 : 2711.8638877581125 差距 : -969.8638877581125\n"
     ]
    },
    {
     "name": "stdout",
     "output_type": "stream",
     "text": [
      "yhat: [2798.68830546 3058.03799058]\n",
      "(236). 實際 : 2600.0 預測 : 3058.037990576161 差距 : -458.03799057616106\n"
     ]
    },
    {
     "name": "stdout",
     "output_type": "stream",
     "text": [
      "yhat: [2803.75406859 3354.61999869]\n",
      "(237). 實際 : 3051.0 預測 : 3354.6199986858255 差距 : -303.6199986858255\n"
     ]
    },
    {
     "name": "stdout",
     "output_type": "stream",
     "text": [
      "yhat: [3296.19129553 3878.32510465]\n",
      "(238). 實際 : 4699.0 預測 : 3878.325104647341 差距 : 820.674895352659\n"
     ]
    },
    {
     "name": "stdout",
     "output_type": "stream",
     "text": [
      "yhat: [3840.55763769 3813.31896283]\n",
      "(239). 實際 : 4568.0 預測 : 3813.318962833973 差距 : 754.6810371660272\n"
     ]
    },
    {
     "name": "stdout",
     "output_type": "stream",
     "text": [
      "yhat: [4064.13115531 4109.11068449]\n",
      "(240). 實際 : 4173.0 預測 : 4109.110684488977 差距 : 63.88931551102269\n"
     ]
    },
    {
     "name": "stdout",
     "output_type": "stream",
     "text": [
      "yhat: [4241.31949086 3352.65675509]\n",
      "(241). 實際 : 4044.0 預測 : 3352.656755085719 差距 : 691.3432449142811\n"
     ]
    },
    {
     "name": "stdout",
     "output_type": "stream",
     "text": [
      "yhat: [3341.7029842  2619.47480274]\n",
      "(242). 實際 : 1861.0 預測 : 2619.47480273916 差距 : -758.4748027391602\n"
     ]
    },
    {
     "name": "stdout",
     "output_type": "stream",
     "text": [
      "yhat: [2719.02682582 2716.24040246]\n",
      "(243). 實際 : 1537.0 預測 : 2716.2404024585458 差距 : -1179.2404024585458\n"
     ]
    },
    {
     "name": "stdout",
     "output_type": "stream",
     "text": [
      "yhat: [2518.73060251 3196.64195268]\n",
      "(244). 實際 : 3142.0 預測 : 3196.6419526832 差距 : -54.64195268320009\n"
     ]
    },
    {
     "name": "stdout",
     "output_type": "stream",
     "text": [
      "yhat: [3193.72900222 3613.17976625]\n",
      "(245). 實際 : 4212.0 預測 : 3613.1797662522054 差距 : 598.8202337477946\n"
     ]
    },
    {
     "name": "stdout",
     "output_type": "stream",
     "text": [
      "yhat: [3603.97508547 3880.09096085]\n",
      "(246). 實際 : 3238.0 預測 : 3880.090960854364 差距 : -642.0909608543639\n"
     ]
    },
    {
     "name": "stdout",
     "output_type": "stream",
     "text": [
      "yhat: [3939.32268352 3800.44932516]\n",
      "(247). 實際 : 2562.0 預測 : 3800.449325158338 差距 : -1238.449325158338\n"
     ]
    },
    {
     "name": "stdout",
     "output_type": "stream",
     "text": [
      "yhat: [3689.29283326 3220.46418211]\n",
      "(248). 實際 : 2834.0 預測 : 3220.4641821147025 差距 : -386.46418211470245\n"
     ]
    },
    {
     "name": "stdout",
     "output_type": "stream",
     "text": [
      "yhat: [2963.86453228 2088.31630693]\n",
      "(249). 實際 : 1598.0 預測 : 2088.316306929254 差距 : -490.3163069292541\n"
     ]
    },
    {
     "name": "stdout",
     "output_type": "stream",
     "text": [
      "yhat: [2045.17592732 2106.57569792]\n",
      "(250). 實際 : 1473.0 預測 : 2106.5756979194553 差距 : -633.5756979194553\n"
     ]
    },
    {
     "name": "stdout",
     "output_type": "stream",
     "text": [
      "yhat: [1977.35221732 2928.07193804]\n",
      "(251). 實際 : 2377.0 預測 : 2928.0719380369555 差距 : -551.0719380369555\n"
     ]
    },
    {
     "name": "stdout",
     "output_type": "stream",
     "text": [
      "yhat: [2845.38037684 3590.91438674]\n",
      "(252). 實際 : 2475.0 預測 : 3590.914386736462 差距 : -1115.914386736462\n"
     ]
    },
    {
     "name": "stdout",
     "output_type": "stream",
     "text": [
      "yhat: [3478.22464495 3433.28829878]\n",
      "(253). 實際 : 3599.0 預測 : 3433.2882987762146 差距 : 165.71170122378544\n"
     ]
    },
    {
     "name": "stdout",
     "output_type": "stream",
     "text": [
      "yhat: [3044.76556975 3210.25213491]\n",
      "(254). 實際 : 3215.0 預測 : 3210.2521349136828 差距 : 4.747865086317233\n"
     ]
    },
    {
     "name": "stdout",
     "output_type": "stream",
     "text": [
      "yhat: [3272.60816955 2836.58051222]\n",
      "(255). 實際 : 2750.0 預測 : 2836.5805122217507 差距 : -86.58051222175072\n"
     ]
    },
    {
     "name": "stdout",
     "output_type": "stream",
     "text": [
      "yhat: [2917.3089686  2224.80513931]\n",
      "(256). 實際 : 1839.0 預測 : 2224.805139307239 差距 : -385.8051393072392\n"
     ]
    },
    {
     "name": "stdout",
     "output_type": "stream",
     "text": [
      "yhat: [2285.04023233 2021.41629267]\n",
      "(257). 實際 : 1262.0 預測 : 2021.41629266726 差距 : -759.41629266726\n"
     ]
    },
    {
     "name": "stdout",
     "output_type": "stream",
     "text": [
      "yhat: [1892.79172075 2746.44887919]\n",
      "(258). 實際 : 1447.0 預測 : 2746.4488791914937 差距 : -1299.4488791914937\n"
     ]
    },
    {
     "name": "stdout",
     "output_type": "stream",
     "text": [
      "yhat: [2668.81310932 3236.13533783]\n",
      "(259). 實際 : 3201.0 預測 : 3236.1353378325875 差距 : -35.13533783258754\n"
     ]
    },
    {
     "name": "stdout",
     "output_type": "stream",
     "text": [
      "yhat: [3096.80809387 3604.52791897]\n",
      "(260). 實際 : 2893.0 預測 : 3604.52791896643 差距 : -711.5279189664302\n"
     ]
    },
    {
     "name": "stdout",
     "output_type": "stream",
     "text": [
      "yhat: [3537.94241926 3255.07241501]\n",
      "(261). 實際 : 3529.0 預測 : 3255.0724150101664 差距 : 273.9275849898336\n"
     ]
    },
    {
     "name": "stdout",
     "output_type": "stream",
     "text": [
      "yhat: [2985.05986258 2752.57217831]\n",
      "(262). 實際 : 3312.0 預測 : 2752.572178308063 差距 : 559.427821691937\n"
     ]
    },
    {
     "name": "stdout",
     "output_type": "stream",
     "text": [
      "yhat: [2908.89140987 2110.29963715]\n",
      "(263). 實際 : 2303.0 預測 : 2110.299637146668 差距 : 192.70036285333208\n"
     ]
    },
    {
     "name": "stdout",
     "output_type": "stream",
     "text": [
      "yhat: [2154.86594244 2123.08570121]\n",
      "(264). 實際 : 2142.0 預測 : 2123.0857012094775 差距 : 18.91429879052248\n"
     ]
    },
    {
     "name": "stdout",
     "output_type": "stream",
     "text": [
      "yhat: [2160.46829436 2559.44449583]\n",
      "(265). 實際 : 3885.0 預測 : 2559.4444958265412 差距 : 1325.5555041734588\n"
     ]
    },
    {
     "name": "stdout",
     "output_type": "stream",
     "text": [
      "yhat: [2598.63070279 3680.9034037 ]\n",
      "(266). 實際 : 4012.0 預測 : 3680.903403697021 差距 : 331.0965963029789\n"
     ]
    },
    {
     "name": "stdout",
     "output_type": "stream",
     "text": [
      "yhat: [3886.25065125 3768.36534028]\n",
      "(267). 實際 : 3718.0 預測 : 3768.3653402821274 差距 : -50.36534028212736\n"
     ]
    },
    {
     "name": "stdout",
     "output_type": "stream",
     "text": [
      "yhat: [3784.53775275 3890.59781503]\n",
      "(268). 實際 : 3347.0 預測 : 3890.597815028168 差距 : -543.597815028168\n"
     ]
    },
    {
     "name": "stdout",
     "output_type": "stream",
     "text": [
      "yhat: [3892.81308837 3171.42760227]\n",
      "(269). 實際 : 3215.0 預測 : 3171.42760227114 差距 : 43.57239772885987\n"
     ]
    },
    {
     "name": "stdout",
     "output_type": "stream",
     "text": [
      "yhat: [3086.10376692 2662.03362072]\n",
      "(270). 實際 : 1943.0 預測 : 2662.0336207223595 差距 : -719.0336207223595\n"
     ]
    },
    {
     "name": "stdout",
     "output_type": "stream",
     "text": [
      "yhat: [2633.22971192 2238.90274674]\n",
      "(271). 實際 : 1920.0 預測 : 2238.902746740662 差距 : -318.9027467406622\n"
     ]
    },
    {
     "name": "stdout",
     "output_type": "stream",
     "text": [
      "yhat: [2085.49705577 3111.78546777]\n",
      "(272). 實際 : 3297.0 預測 : 3111.7854677689247 差距 : 185.21453223107528\n"
     ]
    },
    {
     "name": "stdout",
     "output_type": "stream",
     "text": [
      "yhat: [3074.52338684 3457.8694152 ]\n",
      "(273). 實際 : 3352.0 預測 : 3457.869415201455 差距 : -105.86941520145501\n"
     ]
    },
    {
     "name": "stdout",
     "output_type": "stream",
     "text": [
      "yhat: [3540.81734168 3845.62401296]\n",
      "(274). 實際 : 4242.0 預測 : 3845.6240129646776 差距 : 396.3759870353224\n"
     ]
    },
    {
     "name": "stdout",
     "output_type": "stream",
     "text": [
      "yhat: [3801.86124922 3398.35671432]\n",
      "(275). 實際 : 3789.0 預測 : 3398.356714318575 差距 : 390.6432856814249\n"
     ]
    },
    {
     "name": "stdout",
     "output_type": "stream",
     "text": [
      "yhat: [3521.98458441 3406.76687631]\n",
      "(276). 實際 : 3521.0 預測 : 3406.7668763065453 差距 : 114.23312369345467\n"
     ]
    },
    {
     "name": "stdout",
     "output_type": "stream",
     "text": [
      "yhat: [3440.52501687 2342.14182647]\n",
      "(277). 實際 : 2235.0 預測 : 2342.14182646875 差距 : -107.14182646874997\n"
     ]
    },
    {
     "name": "stdout",
     "output_type": "stream",
     "text": [
      "yhat: [2341.23730519 2518.70656806]\n",
      "(278). 實際 : 2418.0 預測 : 2518.706568059178 差距 : -100.70656805917815\n"
     ]
    },
    {
     "name": "stdout",
     "output_type": "stream",
     "text": [
      "yhat: [2473.96031746 2947.56140128]\n",
      "(279). 實際 : 3576.0 預測 : 2947.5614012800243 差距 : 628.4385987199757\n"
     ]
    },
    {
     "name": "stdout",
     "output_type": "stream",
     "text": [
      "yhat: [2950.85218303 3876.65140471]\n",
      "(280). 實際 : 2914.0 預測 : 3876.651404713227 差距 : -962.6514047132268\n"
     ]
    },
    {
     "name": "stdout",
     "output_type": "stream",
     "text": [
      "yhat: [3987.24889249 3860.26062735]\n",
      "(281). 實際 : 3354.0 預測 : 3860.2606273522424 差距 : -506.2606273522424\n"
     ]
    },
    {
     "name": "stdout",
     "output_type": "stream",
     "text": [
      "yhat: [3622.99552919 3723.04030013]\n",
      "(282). 實際 : 2620.0 預測 : 3723.040300133824 差距 : -1103.040300133824\n"
     ]
    },
    {
     "name": "stdout",
     "output_type": "stream",
     "text": [
      "yhat: [3663.34320934 3018.48542507]\n",
      "(283). 實際 : 2388.0 預測 : 3018.485425072548 差距 : -630.485425072548\n"
     ]
    },
    {
     "name": "stdout",
     "output_type": "stream",
     "text": [
      "yhat: [2797.09731055 2247.26098206]\n",
      "(284). 實際 : 1404.0 預測 : 2247.2609820560356 差距 : -843.2609820560356\n"
     ]
    },
    {
     "name": "stdout",
     "output_type": "stream",
     "text": [
      "yhat: [2141.75999296 1969.38112579]\n",
      "(285). 實際 : 1056.0 預測 : 1969.3811257871826 差距 : -913.3811257871826\n"
     ]
    },
    {
     "name": "stdout",
     "output_type": "stream",
     "text": [
      "yhat: [1849.29315906 2869.47566733]\n",
      "(286). 實際 : 1383.0 預測 : 2869.475667331245 差距 : -1486.475667331245\n"
     ]
    },
    {
     "name": "stdout",
     "output_type": "stream",
     "text": [
      "yhat: [2650.22829789 3041.09841721]\n",
      "(287). 實際 : 1876.0 預測 : 3041.098417211294 差距 : -1165.098417211294\n"
     ]
    },
    {
     "name": "stdout",
     "output_type": "stream",
     "text": [
      "yhat: [2730.6539753  3203.72040723]\n",
      "(288). 實際 : 1514.0 預測 : 3203.7204072309755 差距 : -1689.7204072309755\n"
     ]
    },
    {
     "name": "stdout",
     "output_type": "stream",
     "text": [
      "yhat: [3046.27170266 2770.26656336]\n",
      "(289). 實際 : 1777.0 預測 : 2770.2665633550528 差距 : -993.2665633550528\n"
     ]
    },
    {
     "name": "stdout",
     "output_type": "stream",
     "text": [
      "yhat: [2530.53580758 2466.00105469]\n",
      "(290). 實際 : 1502.0 預測 : 2466.001054689871 差距 : -964.0010546898711\n"
     ]
    },
    {
     "name": "stdout",
     "output_type": "stream",
     "text": [
      "yhat: [2263.62174043 1442.92239833]\n",
      "(291). 實際 : 906.0 預測 : 1442.9223983312982 差距 : -536.9223983312982\n"
     ]
    },
    {
     "name": "stdout",
     "output_type": "stream",
     "text": [
      "yhat: [1269.95739042 1610.67429395]\n",
      "(292). 實際 : 898.0 預測 : 1610.6742939454525 差距 : -712.6742939454525\n"
     ]
    },
    {
     "name": "stdout",
     "output_type": "stream",
     "text": [
      "yhat: [1413.77790898 1996.83658929]\n",
      "(293). 實際 : 1373.0 預測 : 1996.8365892884035 差距 : -623.8365892884035\n"
     ]
    },
    {
     "name": "stdout",
     "output_type": "stream",
     "text": [
      "yhat: [1942.86230783 2877.90792389]\n",
      "(294). 實際 : 1378.0 預測 : 2877.907923891241 差距 : -1499.907923891241\n"
     ]
    },
    {
     "name": "stdout",
     "output_type": "stream",
     "text": [
      "yhat: [2701.46654564 2753.56146775]\n",
      "(295). 實際 : 1075.0 預測 : 2753.561467747419 差距 : -1678.561467747419\n"
     ]
    },
    {
     "name": "stdout",
     "output_type": "stream",
     "text": [
      "yhat: [2389.19015948 2679.66007307]\n",
      "(296). 實際 : 581.0 預測 : 2679.6600730681334 差距 : -2098.6600730681334\n"
     ]
    },
    {
     "name": "stdout",
     "output_type": "stream",
     "text": [
      "yhat: [2327.13521175 1783.62442096]\n",
      "(297). 實際 : 466.0 預測 : 1783.6244209640759 差距 : -1317.6244209640759\n"
     ]
    },
    {
     "name": "stdout",
     "output_type": "stream",
     "text": [
      "yhat: [1473.18483451  994.33772624]\n",
      "(298). 實際 : 582.0 預測 : 994.3377262363724 差距 : -412.3377262363724\n"
     ]
    },
    {
     "name": "stdout",
     "output_type": "stream",
     "text": [
      "yhat: [761.61466726 790.03525104]\n",
      "(299). 實際 : 480.0 預測 : 790.0352510367406 差距 : -310.03525103674065\n"
     ]
    },
    {
     "name": "stdout",
     "output_type": "stream",
     "text": [
      "yhat: [ 837.12111592 1588.64532896]\n",
      "(300). 實際 : 650.0 預測 : 1588.6453289593296 差距 : -938.6453289593296\n"
     ]
    },
    {
     "name": "stdout",
     "output_type": "stream",
     "text": [
      "yhat: [1525.38097205 2170.02171797]\n",
      "(301). 實際 : 482.0 預測 : 2170.021717973432 差距 : -1688.0217179734318\n"
     ]
    },
    {
     "name": "stdout",
     "output_type": "stream",
     "text": [
      "yhat: [1877.63715228 2120.83519114]\n",
      "(302). 實際 : 616.0 預測 : 2120.835191141399 差距 : -1504.8351911413988\n"
     ]
    },
    {
     "name": "stdout",
     "output_type": "stream",
     "text": [
      "yhat: [1739.38158354 1702.58100616]\n",
      "(303). 實際 : 2003.0 預測 : 1702.5810061617206 差距 : 300.41899383827945\n"
     ]
    },
    {
     "name": "stdout",
     "output_type": "stream",
     "text": [
      "yhat: [1377.58107258 1176.92248118]\n",
      "(304). 實際 : 2070.0 預測 : 1176.922481179224 差距 : 893.077518820776\n"
     ]
    },
    {
     "name": "stdout",
     "output_type": "stream",
     "text": [
      "yhat: [1320.8855932   984.04797849]\n",
      "(305). 實際 : 1885.0 預測 : 984.0479784863705 差距 : 900.9520215136295\n"
     ]
    },
    {
     "name": "stdout",
     "output_type": "stream",
     "text": [
      "yhat: [1208.72995682 1204.71056444]\n",
      "(306). 實際 : 1289.0 預測 : 1204.7105644388882 差距 : 84.28943556111176\n"
     ]
    },
    {
     "name": "stdout",
     "output_type": "stream",
     "text": [
      "yhat: [1375.69149911 1910.24874008]\n",
      "(307). 實際 : 3871.0 預測 : 1910.2487400839173 差距 : 1960.7512599160827\n"
     ]
    },
    {
     "name": "stdout",
     "output_type": "stream",
     "text": [
      "yhat: [1883.11812146 2391.07631327]\n",
      "(308). 實際 : 3107.0 預測 : 2391.0763132657194 差距 : 715.9236867342806\n"
     ]
    },
    {
     "name": "stdout",
     "output_type": "stream",
     "text": [
      "yhat: [2902.27681837 3233.68509424]\n",
      "(309). 實際 : 5726.0 預測 : 3233.6850942398937 差距 : 2492.3149057601063\n"
     ]
    },
    {
     "name": "stdout",
     "output_type": "stream",
     "text": [
      "yhat: [3224.7219809  3207.48162546]\n",
      "(310). 實際 : 39386.0 預測 : 3207.481625455878 差距 : 36178.518374544125\n"
     ]
    },
    {
     "name": "stdout",
     "output_type": "stream",
     "text": [
      "yhat: [3911.89434275 3336.02870352]\n",
      "(311). 實際 : 4734.0 預測 : 3336.0287035168053 差距 : 1397.9712964831947\n"
     ]
    },
    {
     "name": "stdout",
     "output_type": "stream",
     "text": [
      "yhat: [21149.04327031 15698.97127652]\n",
      "(312). 實際 : 1863.0 預測 : 15698.97127652066 差距 : -13835.97127652066\n"
     ]
    },
    {
     "name": "stdout",
     "output_type": "stream",
     "text": [
      "yhat: [10274.12509225 13142.28430791]\n",
      "(313). 實際 : 1842.0 預測 : 13142.284307907557 差距 : -11300.284307907557\n"
     ]
    },
    {
     "name": "stdout",
     "output_type": "stream",
     "text": [
      "yhat: [12886.64876076  8495.75390192]\n",
      "(314). 實際 : 3116.0 預測 : 8495.753901915738 差距 : -5379.7539019157375\n"
     ]
    },
    {
     "name": "stdout",
     "output_type": "stream",
     "text": [
      "yhat: [ 6661.19436235 10004.61250619]\n",
      "(315). 實際 : 2922.0 預測 : 10004.612506188005 差距 : -7082.612506188005\n"
     ]
    },
    {
     "name": "stdout",
     "output_type": "stream",
     "text": [
      "yhat: [ 8754.06790095 12630.5863855 ]\n",
      "(316). 實際 : 2015.0 預測 : 12630.586385497942 差距 : -10615.586385497942\n"
     ]
    },
    {
     "name": "stdout",
     "output_type": "stream",
     "text": [
      "yhat: [12767.25085302 14780.01240375]\n",
      "(317). 實際 : 3001.0 預測 : 14780.012403749528 差距 : -11779.012403749528\n"
     ]
    },
    {
     "name": "stdout",
     "output_type": "stream",
     "text": [
      "yhat: [13646.96923979   259.27996227]\n",
      "(318). 實際 : 3091.0 預測 : 259.27996227486483 差距 : 2831.720037725135\n"
     ]
    },
    {
     "name": "stdout",
     "output_type": "stream",
     "text": [
      "yhat: [2611.65998173 1825.96341935]\n",
      "(319). 實際 : 2013.0 預測 : 1825.9634193504726 差距 : 187.03658064952742\n"
     ]
    },
    {
     "name": "stdout",
     "output_type": "stream",
     "text": [
      "yhat: [3046.02892595 3045.70082168]\n",
      "(320). 實際 : 1753.0 預測 : 3045.7008216768077 差距 : -1292.7008216768077\n"
     ]
    },
    {
     "name": "stdout",
     "output_type": "stream",
     "text": [
      "yhat: [-2325.85417023  3795.96597184]\n",
      "(321). 實際 : 3282.0 預測 : 3795.965971835766 差距 : -513.9659718357661\n"
     ]
    },
    {
     "name": "stdout",
     "output_type": "stream",
     "text": [
      "yhat: [1878.83863731 4019.03379749]\n",
      "(322). 實際 : 3105.0 預測 : 4019.0337974885633 差距 : -914.0337974885633\n"
     ]
    },
    {
     "name": "stdout",
     "output_type": "stream",
     "text": [
      "yhat: [ -90.59392827 2968.63236146]\n",
      "(323). 實際 : 4334.0 預測 : 2968.6323614626294 差距 : 1365.3676385373706\n"
     ]
    },
    {
     "name": "stdout",
     "output_type": "stream",
     "text": [
      "yhat: [3166.61936116 2668.88171328]\n",
      "(324). 實際 : 3168.0 預測 : 2668.8817132786885 差距 : 499.1182867213115\n"
     ]
    },
    {
     "name": "stdout",
     "output_type": "stream",
     "text": [
      "yhat: [-2162.70925639 10461.40805448]\n",
      "(325). 實際 : 2914.0 預測 : 10461.4080544848 差距 : -7547.4080544848\n"
     ]
    },
    {
     "name": "stdout",
     "output_type": "stream",
     "text": [
      "yhat: [ 5189.70297832 -5467.10663267]\n",
      "(326). 實際 : 2025.0 預測 : -5467.106632670862 差距 : 7492.106632670862\n"
     ]
    },
    {
     "name": "stdout",
     "output_type": "stream",
     "text": [
      "yhat: [102.8398321  340.56045366]\n",
      "(327). 實際 : 1713.0 預測 : 340.56045366448507 差距 : 1372.439546335515\n"
     ]
    },
    {
     "name": "stdout",
     "output_type": "stream",
     "text": [
      "yhat: [-277.06155499 5286.31358148]\n",
      "(328). 實際 : 3551.0 預測 : 5286.313581480032 差距 : -1735.3135814800316\n"
     ]
    },
    {
     "name": "stdout",
     "output_type": "stream",
     "text": [
      "yhat: [2944.7997651  3551.72745673]\n",
      "(329). 實際 : 3282.0 預測 : 3551.72745673445 差距 : -269.7274567344498\n"
     ]
    },
    {
     "name": "stdout",
     "output_type": "stream",
     "text": [
      "yhat: [3920.83829001 4348.07335039]\n",
      "(330). 實際 : 3160.0 預測 : 4348.0733503882575 差距 : -1188.0733503882575\n"
     ]
    },
    {
     "name": "stdout",
     "output_type": "stream",
     "text": [
      "yhat: [4380.27437432 4777.0489911 ]\n",
      "(331). 實際 : 3628.0 預測 : 4777.0489910973165 差距 : -1149.0489910973165\n"
     ]
    },
    {
     "name": "stdout",
     "output_type": "stream",
     "text": [
      "yhat: [4747.51577342 3593.82569523]\n",
      "(332). 實際 : 4039.0 預測 : 3593.8256952280863 差距 : 445.17430477191374\n"
     ]
    },
    {
     "name": "stdout",
     "output_type": "stream",
     "text": [
      "yhat: [3627.66403843 2573.76999451]\n",
      "(333). 實際 : 3242.0 預測 : 2573.769994506571 差距 : 668.230005493429\n"
     ]
    },
    {
     "name": "stdout",
     "output_type": "stream",
     "text": [
      "yhat: [3130.84750274 1922.87337156]\n",
      "(334). 實際 : 2172.0 預測 : 1922.873371561182 差距 : 249.126628438818\n"
     ]
    },
    {
     "name": "stdout",
     "output_type": "stream",
     "text": [
      "yhat: [1866.43961302 2424.06013334]\n",
      "(335). 實際 : 4385.0 預測 : 2424.0601333439217 差距 : 1960.9398666560783\n"
     ]
    },
    {
     "name": "stdout",
     "output_type": "stream",
     "text": [
      "yhat: [2529.1566706  3070.20435131]\n",
      "(336). 實際 : 4008.0 預測 : 3070.2043513125827 差距 : 937.7956486874173\n"
     ]
    },
    {
     "name": "stdout",
     "output_type": "stream",
     "text": [
      "yhat: [3528.38268659 4785.85686129]\n",
      "(337). 實際 : 3326.0 預測 : 4785.856861290469 差距 : -1459.8568612904692\n"
     ]
    },
    {
     "name": "stdout",
     "output_type": "stream",
     "text": [
      "yhat: [4631.14375512 4602.81010279]\n",
      "(338). 實際 : 3385.0 預測 : 4602.8101027903185 差距 : -1217.8101027903185\n"
     ]
    },
    {
     "name": "stdout",
     "output_type": "stream",
     "text": [
      "yhat: [4434.82811137 4008.97442239]\n",
      "(339). 實際 : 2919.0 預測 : 4008.9744223851003 差距 : -1089.9744223851003\n"
     ]
    },
    {
     "name": "stdout",
     "output_type": "stream",
     "text": [
      "yhat: [4089.81520123 3103.98381623]\n",
      "(340). 實際 : 3126.0 預測 : 3103.983816233892 差距 : 22.016183766108043\n"
     ]
    },
    {
     "name": "stdout",
     "output_type": "stream",
     "text": [
      "yhat: [2684.13142483 2199.47777602]\n",
      "(341). 實際 : 2019.0 預測 : 2199.477776023079 差距 : -180.47777602307906\n"
     ]
    },
    {
     "name": "stdout",
     "output_type": "stream",
     "text": [
      "yhat: [2254.24627049 2393.3806593 ]\n",
      "(342). 實際 : 3799.0 預測 : 2393.3806592997307 差距 : 1405.6193407002693\n"
     ]
    },
    {
     "name": "stdout",
     "output_type": "stream",
     "text": [
      "yhat: [2352.40176126 3337.77312529]\n",
      "(343). 實際 : 4238.0 預測 : 3337.7731252918043 差距 : 900.2268747081957\n"
     ]
    },
    {
     "name": "stdout",
     "output_type": "stream",
     "text": [
      "yhat: [3674.75462628 4239.29664299]\n",
      "(344). 實際 : 4181.0 預測 : 4239.296642989697 差距 : -58.29664298969692\n"
     ]
    },
    {
     "name": "stdout",
     "output_type": "stream",
     "text": [
      "yhat: [4333.47670373 4492.95396632]\n",
      "(345). 實際 : 5064.0 預測 : 4492.953966321507 差距 : 571.0460336784927\n"
     ]
    },
    {
     "name": "stdout",
     "output_type": "stream",
     "text": [
      "yhat: [4426.61399978 3836.71583284]\n",
      "(346). 實際 : 4373.0 預測 : 3836.7158328380483 差距 : 536.2841671619517\n"
     ]
    },
    {
     "name": "stdout",
     "output_type": "stream",
     "text": [
      "yhat: [3970.41098378 2935.90919464]\n",
      "(347). 實際 : 2433.0 預測 : 2935.9091946410936 差距 : -502.90919464109356\n"
     ]
    },
    {
     "name": "stdout",
     "output_type": "stream",
     "text": [
      "yhat: [2900.90360009 2362.87832676]\n",
      "(348). 實際 : 1999.0 預測 : 2362.878326757811 差距 : -363.878326757811\n"
     ]
    },
    {
     "name": "stdout",
     "output_type": "stream",
     "text": [
      "yhat: [2251.24753478 2697.20708127]\n",
      "(349). 實際 : 3274.0 預測 : 2697.2070812676875 差距 : 576.7929187323125\n"
     ]
    },
    {
     "name": "stdout",
     "output_type": "stream",
     "text": [
      "yhat: [2594.9328101  3344.43140697]\n",
      "(350). 實際 : 4397.0 預測 : 3344.4314069680713 差距 : 1052.5685930319287\n"
     ]
    },
    {
     "name": "stdout",
     "output_type": "stream",
     "text": [
      "yhat: [3513.52113685 4228.68572606]\n",
      "(351). 實際 : 3154.0 預測 : 4228.685726059713 差距 : -1074.6857260597126\n"
     ]
    },
    {
     "name": "stdout",
     "output_type": "stream",
     "text": [
      "yhat: [4410.22966347 4343.54711067]\n",
      "(352). 實際 : 2217.0 預測 : 4343.547110667257 差距 : -2126.5471106672567\n"
     ]
    },
    {
     "name": "stdout",
     "output_type": "stream",
     "text": [
      "yhat: [4241.70752789 3669.41055927]\n",
      "(353). 實際 : 1757.0 預測 : 3669.410559271781 差距 : -1912.410559271781\n"
     ]
    },
    {
     "name": "stdout",
     "output_type": "stream",
     "text": [
      "yhat: [3389.84232467 2509.84969951]\n",
      "(354). 實際 : 2077.0 預測 : 2509.8496995067017 差距 : -432.84969950670165\n"
     ]
    },
    {
     "name": "stdout",
     "output_type": "stream",
     "text": [
      "yhat: [2218.98453559 1925.30646313]\n",
      "(355). 實際 : 1417.0 預測 : 1925.306463130812 差距 : -508.30646313081206\n"
     ]
    },
    {
     "name": "stdout",
     "output_type": "stream",
     "text": [
      "yhat: [1927.27372409 2396.52763082]\n",
      "(356). 實際 : 3230.0 預測 : 2396.5276308167176 差距 : 833.4723691832824\n"
     ]
    },
    {
     "name": "stdout",
     "output_type": "stream",
     "text": [
      "yhat: [2173.09819631 3198.1815355 ]\n",
      "(357). 實際 : 3346.0 預測 : 3198.18153550434 差距 : 147.81846449566\n"
     ]
    },
    {
     "name": "stdout",
     "output_type": "stream",
     "text": [
      "yhat: [3397.03291177 3944.0446068 ]\n",
      "(358). 實際 : 2834.0 預測 : 3944.0446068016636 差距 : -1110.0446068016636\n"
     ]
    },
    {
     "name": "stdout",
     "output_type": "stream",
     "text": [
      "yhat: [3916.560705   4166.68326457]\n",
      "(359). 實際 : 3144.0 預測 : 4166.683264571933 差距 : -1022.6832645719333\n"
     ]
    },
    {
     "name": "stdout",
     "output_type": "stream",
     "text": [
      "yhat: [3870.33337678 3339.6603585 ]\n",
      "(360). 實際 : 3494.0 預測 : 3339.66035850064 差距 : 154.3396414993599\n"
     ]
    },
    {
     "name": "stdout",
     "output_type": "stream",
     "text": [
      "yhat: [3163.71603136 2579.44152549]\n",
      "(361). 實際 : 3061.0 預測 : 2579.4415254862133 差距 : 481.5584745137867\n"
     ]
    },
    {
     "name": "stdout",
     "output_type": "stream",
     "text": [
      "yhat: [2586.75890575 2036.79136071]\n",
      "(362). 實際 : 2871.0 預測 : 2036.7913607071785 差距 : 834.2086392928215\n"
     ]
    },
    {
     "name": "stdout",
     "output_type": "stream",
     "text": [
      "yhat: [2153.77097877 2641.92835966]\n",
      "(363). 實際 : 3460.0 預測 : 2641.928359655883 差距 : 818.071640344117\n"
     ]
    },
    {
     "name": "stdout",
     "output_type": "stream",
     "text": [
      "yhat: [2831.16380248 3492.98892632]\n",
      "(364). 實際 : 3586.0 預測 : 3492.988926315556 差距 : 93.011073684444\n"
     ]
    },
    {
     "name": "stdout",
     "output_type": "stream",
     "text": [
      "yhat: [3575.81696014 4230.7826992 ]\n",
      "(365). 實際 : 4133.0 預測 : 4230.78269919553 差距 : -97.78269919552986\n"
     ]
    },
    {
     "name": "stdout",
     "output_type": "stream",
     "text": [
      "yhat: [4235.77900699 4171.56432143]\n",
      "(366). 實際 : 4015.0 預測 : 4171.564321432239 差距 : -156.564321432239\n"
     ]
    },
    {
     "name": "stdout",
     "output_type": "stream",
     "text": [
      "yhat: [4218.57627991 3637.94270526]\n",
      "(367). 實際 : 4196.0 預測 : 3637.9427052580163 差距 : 558.0572947419837\n"
     ]
    },
    {
     "name": "stdout",
     "output_type": "stream",
     "text": [
      "yhat: [3650.69238989 2763.18752061]\n",
      "(368). 實際 : 3394.0 預測 : 2763.1875206091195 差距 : 630.8124793908805\n"
     ]
    },
    {
     "name": "stdout",
     "output_type": "stream",
     "text": [
      "yhat: [2868.9676808 2584.0631525]\n",
      "(369). 實際 : 1973.0 預測 : 2584.06315249809 差距 : -611.06315249809\n"
     ]
    },
    {
     "name": "stdout",
     "output_type": "stream",
     "text": [
      "yhat: [2597.23403567 2776.26254248]\n",
      "(370). 實際 : 3784.0 預測 : 2776.26254247633 差距 : 1007.73745752367\n"
     ]
    },
    {
     "name": "stdout",
     "output_type": "stream",
     "text": [
      "yhat: [2679.3158925  3599.22571875]\n",
      "(371). 實際 : 4123.0 預測 : 3599.225718749417 差距 : 523.774281250583\n"
     ]
    },
    {
     "name": "stdout",
     "output_type": "stream",
     "text": [
      "yhat: [3837.26678029 4138.89502009]\n",
      "(372). 實際 : 3974.0 預測 : 4138.895020087761 差距 : -164.8950200877607\n"
     ]
    },
    {
     "name": "stdout",
     "output_type": "stream",
     "text": [
      "yhat: [4201.97050672 4300.83706325]\n",
      "(373). 實際 : 3332.0 預測 : 4300.837063253554 差距 : -968.8370632535543\n"
     ]
    },
    {
     "name": "stdout",
     "output_type": "stream",
     "text": [
      "yhat: [4244.73175455 3481.56774373]\n",
      "(374). 實際 : 2735.0 預測 : 3481.567743733409 差距 : -746.5677437334089\n"
     ]
    },
    {
     "name": "stdout",
     "output_type": "stream",
     "text": [
      "yhat: [3373.70483646 2716.73218189]\n",
      "(375). 實際 : 2130.0 預測 : 2716.732181893676 差距 : -586.7321818936762\n"
     ]
    },
    {
     "name": "stdout",
     "output_type": "stream",
     "text": [
      "yhat: [2660.653113   2212.84231903]\n",
      "(376). 實際 : 2108.0 預測 : 2212.84231902957 差距 : -104.84231902956981\n"
     ]
    },
    {
     "name": "stdout",
     "output_type": "stream",
     "text": [
      "yhat: [2138.26525784 2618.31493752]\n",
      "(377). 實際 : 2704.0 預測 : 2618.314937515018 差距 : 85.68506248498215\n"
     ]
    },
    {
     "name": "stdout",
     "output_type": "stream",
     "text": [
      "yhat: [2681.79145954 3341.44411023]\n",
      "(378). 實際 : 2832.0 預測 : 3341.4441102330948 差距 : -509.44411023309476\n"
     ]
    },
    {
     "name": "stdout",
     "output_type": "stream",
     "text": [
      "yhat: [3335.57817697 4063.68420598]\n",
      "(379). 實際 : nan 預測 : 4063.684205984711 差距 : nan\n"
     ]
    }
   ],
   "source": [
    "test_ts, predictions = arima.predict(\n",
    "    train_data, test_shifted, \n",
    "    field_name=fieldName, \n",
    "    act_field_name=actFiledName,\n",
    "    best_d=best_d,\n",
    "    best_p=best_p,\n",
    "    best_q=best_q,\n",
    "    training_window=training_window,\n",
    "    horizon=HORIZON\n",
    ")"
   ]
  },
  {
   "cell_type": "markdown",
   "id": "bacd68db-5bfa-43a3-a583-cff048cf9dec",
   "metadata": {
    "papermill": {
     "duration": 0.009402,
     "end_time": "2025-06-19T03:14:08.922362",
     "exception": false,
     "start_time": "2025-06-19T03:14:08.912960",
     "status": "completed"
    },
    "tags": []
   },
   "source": [
    "# 評估數據"
   ]
  },
  {
   "cell_type": "code",
   "execution_count": 11,
   "id": "59070cf7",
   "metadata": {
    "execution": {
     "iopub.execute_input": "2025-06-19T03:14:08.941847Z",
     "iopub.status.busy": "2025-06-19T03:14:08.941733Z",
     "iopub.status.idle": "2025-06-19T03:14:08.943522Z",
     "shell.execute_reply": "2025-06-19T03:14:08.943291Z"
    },
    "papermill": {
     "duration": 0.012224,
     "end_time": "2025-06-19T03:14:08.944131",
     "exception": false,
     "start_time": "2025-06-19T03:14:08.931907",
     "status": "completed"
    },
    "tags": []
   },
   "outputs": [
    {
     "name": "stdout",
     "output_type": "stream",
     "text": [
      "NaN 值的索引： []\n"
     ]
    }
   ],
   "source": [
    "# predictions 找出 nan 的值\n",
    "nan_mask = np.isnan(predictions)\n",
    "\n",
    "nan_indices = np.where(nan_mask)[0]\n",
    "print(\"NaN 值的索引：\", nan_indices)"
   ]
  },
  {
   "cell_type": "code",
   "execution_count": 12,
   "id": "7eef1717",
   "metadata": {
    "execution": {
     "iopub.execute_input": "2025-06-19T03:14:08.963546Z",
     "iopub.status.busy": "2025-06-19T03:14:08.963441Z",
     "iopub.status.idle": "2025-06-19T03:14:08.967059Z",
     "shell.execute_reply": "2025-06-19T03:14:08.966830Z"
    },
    "papermill": {
     "duration": 0.013998,
     "end_time": "2025-06-19T03:14:08.967701",
     "exception": false,
     "start_time": "2025-06-19T03:14:08.953703",
     "status": "completed"
    },
    "tags": []
   },
   "outputs": [
    {
     "name": "stdout",
     "output_type": "stream",
     "text": [
      "\u001b[93m# 評估預測結果\u001b[0m\n",
      "平均絕對誤差（MAE）: 230821426.51342\n",
      "平均絕對百分比誤差（MAPE）: 64074.18958\n",
      "均方誤差（MSE）: 10816454030385276928.00000\n",
      "均方根誤差（RMSE）: 3288837793.26152\n",
      "R square: -2094374718434.34033\n"
     ]
    },
    {
     "name": "stderr",
     "output_type": "stream",
     "text": [
      "/Users/elliesu/Developer/nckuenv/lib/python3.12/site-packages/sklearn/metrics/_regression.py:492: FutureWarning: 'squared' is deprecated in version 1.4 and will be removed in 1.6. To calculate the root mean squared error, use the function'root_mean_squared_error'.\n",
      "  warnings.warn(\n"
     ]
    }
   ],
   "source": [
    "eval_df = test_ts.copy() \n",
    "test_acts = eval_df[actFiledName].values\n",
    "\n",
    "# predictions 若有 nan 補中位數\n",
    "predictions = np.nan_to_num(predictions, nan=np.nanmedian(predictions)) \n",
    "  \n",
    "mae, mape, mse, rmse, r_square = arima.score(actual=test_ts[actFiledName].values, predict=predictions)"
   ]
  },
  {
   "cell_type": "code",
   "execution_count": 13,
   "id": "6ae03f02-c567-4641-b809-b221db33cc4b",
   "metadata": {
    "execution": {
     "iopub.execute_input": "2025-06-19T03:14:08.987165Z",
     "iopub.status.busy": "2025-06-19T03:14:08.987069Z",
     "iopub.status.idle": "2025-06-19T03:14:08.991611Z",
     "shell.execute_reply": "2025-06-19T03:14:08.991376Z"
    },
    "papermill": {
     "duration": 0.014877,
     "end_time": "2025-06-19T03:14:08.992196",
     "exception": false,
     "start_time": "2025-06-19T03:14:08.977319",
     "status": "completed"
    },
    "tags": []
   },
   "outputs": [
    {
     "data": {
      "text/html": [
       "<div>\n",
       "<style scoped>\n",
       "    .dataframe tbody tr th:only-of-type {\n",
       "        vertical-align: middle;\n",
       "    }\n",
       "\n",
       "    .dataframe tbody tr th {\n",
       "        vertical-align: top;\n",
       "    }\n",
       "\n",
       "    .dataframe thead th {\n",
       "        text-align: right;\n",
       "    }\n",
       "</style>\n",
       "<table border=\"1\" class=\"dataframe\">\n",
       "  <thead>\n",
       "    <tr style=\"text-align: right;\">\n",
       "      <th></th>\n",
       "      <th>Actual</th>\n",
       "      <th>Predicted</th>\n",
       "      <th>Error</th>\n",
       "      <th>Percentage Error</th>\n",
       "    </tr>\n",
       "  </thead>\n",
       "  <tbody>\n",
       "    <tr>\n",
       "      <th>0</th>\n",
       "      <td>4245.0</td>\n",
       "      <td>143435.445437</td>\n",
       "      <td>139190.445437</td>\n",
       "      <td>32.789269</td>\n",
       "    </tr>\n",
       "    <tr>\n",
       "      <th>1</th>\n",
       "      <td>8843.0</td>\n",
       "      <td>189781.131244</td>\n",
       "      <td>180938.131244</td>\n",
       "      <td>20.461171</td>\n",
       "    </tr>\n",
       "    <tr>\n",
       "      <th>2</th>\n",
       "      <td>4557.0</td>\n",
       "      <td>32417.518879</td>\n",
       "      <td>27860.518879</td>\n",
       "      <td>6.113785</td>\n",
       "    </tr>\n",
       "    <tr>\n",
       "      <th>3</th>\n",
       "      <td>4428.0</td>\n",
       "      <td>15732.883567</td>\n",
       "      <td>11304.883567</td>\n",
       "      <td>2.553045</td>\n",
       "    </tr>\n",
       "    <tr>\n",
       "      <th>4</th>\n",
       "      <td>3100.0</td>\n",
       "      <td>1450.628759</td>\n",
       "      <td>1649.371241</td>\n",
       "      <td>0.532055</td>\n",
       "    </tr>\n",
       "    <tr>\n",
       "      <th>...</th>\n",
       "      <td>...</td>\n",
       "      <td>...</td>\n",
       "      <td>...</td>\n",
       "      <td>...</td>\n",
       "    </tr>\n",
       "    <tr>\n",
       "      <th>374</th>\n",
       "      <td>2735.0</td>\n",
       "      <td>3481.567744</td>\n",
       "      <td>746.567744</td>\n",
       "      <td>0.272968</td>\n",
       "    </tr>\n",
       "    <tr>\n",
       "      <th>375</th>\n",
       "      <td>2130.0</td>\n",
       "      <td>2716.732182</td>\n",
       "      <td>586.732182</td>\n",
       "      <td>0.275461</td>\n",
       "    </tr>\n",
       "    <tr>\n",
       "      <th>376</th>\n",
       "      <td>2108.0</td>\n",
       "      <td>2212.842319</td>\n",
       "      <td>104.842319</td>\n",
       "      <td>0.049735</td>\n",
       "    </tr>\n",
       "    <tr>\n",
       "      <th>377</th>\n",
       "      <td>2704.0</td>\n",
       "      <td>2618.314938</td>\n",
       "      <td>85.685062</td>\n",
       "      <td>0.031688</td>\n",
       "    </tr>\n",
       "    <tr>\n",
       "      <th>378</th>\n",
       "      <td>2832.0</td>\n",
       "      <td>3341.444110</td>\n",
       "      <td>509.444110</td>\n",
       "      <td>0.179888</td>\n",
       "    </tr>\n",
       "  </tbody>\n",
       "</table>\n",
       "<p>379 rows × 4 columns</p>\n",
       "</div>"
      ],
      "text/plain": [
       "     Actual      Predicted          Error  Percentage Error\n",
       "0    4245.0  143435.445437  139190.445437         32.789269\n",
       "1    8843.0  189781.131244  180938.131244         20.461171\n",
       "2    4557.0   32417.518879   27860.518879          6.113785\n",
       "3    4428.0   15732.883567   11304.883567          2.553045\n",
       "4    3100.0    1450.628759    1649.371241          0.532055\n",
       "..      ...            ...            ...               ...\n",
       "374  2735.0    3481.567744     746.567744          0.272968\n",
       "375  2130.0    2716.732182     586.732182          0.275461\n",
       "376  2108.0    2212.842319     104.842319          0.049735\n",
       "377  2704.0    2618.314938      85.685062          0.031688\n",
       "378  2832.0    3341.444110     509.444110          0.179888\n",
       "\n",
       "[379 rows x 4 columns]"
      ]
     },
     "execution_count": 13,
     "metadata": {},
     "output_type": "execute_result"
    }
   ],
   "source": [
    "# 創建 DataFrame\n",
    "data = {\n",
    "    'Actual': test_acts, \n",
    "    'Predicted': predictions, \n",
    "    'Error': np.abs(test_acts - predictions),\n",
    "    'Percentage Error': np.abs(test_acts - predictions) / test_acts\n",
    "}\n",
    "pd.DataFrame(data)"
   ]
  },
  {
   "cell_type": "markdown",
   "id": "6a7713d0",
   "metadata": {
    "papermill": {
     "duration": 0.00982,
     "end_time": "2025-06-19T03:14:09.011596",
     "exception": false,
     "start_time": "2025-06-19T03:14:09.001776",
     "status": "completed"
    },
    "tags": []
   },
   "source": [
    "# GARCH 模型前置分析"
   ]
  },
  {
   "cell_type": "markdown",
   "id": "4c66f5bd",
   "metadata": {
    "papermill": {
     "duration": 0.009674,
     "end_time": "2025-06-19T03:14:09.030932",
     "exception": false,
     "start_time": "2025-06-19T03:14:09.021258",
     "status": "completed"
    },
    "tags": []
   },
   "source": [
    "## 殘差診斷"
   ]
  },
  {
   "cell_type": "code",
   "execution_count": 14,
   "id": "6354040f",
   "metadata": {
    "execution": {
     "iopub.execute_input": "2025-06-19T03:14:09.050971Z",
     "iopub.status.busy": "2025-06-19T03:14:09.050764Z",
     "iopub.status.idle": "2025-06-19T03:14:09.357359Z",
     "shell.execute_reply": "2025-06-19T03:14:09.357127Z"
    },
    "papermill": {
     "duration": 0.317427,
     "end_time": "2025-06-19T03:14:09.358078",
     "exception": false,
     "start_time": "2025-06-19T03:14:09.040651",
     "status": "completed"
    },
    "tags": []
   },
   "outputs": [
    {
     "data": {
      "image/png": "[encoded data removed]",
      "text/plain": [
       "<Figure size 1500x1000 with 4 Axes>"
      ]
     },
     "metadata": {},
     "output_type": "display_data"
    }
   ],
   "source": [
    "# 殘差診斷(原本 Auto-ARIMA 模型的)，這個只是拿來分析用，實際跑的是拿 ARIMA 的\n",
    "auto_model.plot_diagnostics(figsize = (15, 10))\n",
    "plt.show()"
   ]
  },
  {
   "cell_type": "code",
   "execution_count": 15,
   "id": "9ab88d7b",
   "metadata": {
    "execution": {
     "iopub.execute_input": "2025-06-19T03:14:09.380148Z",
     "iopub.status.busy": "2025-06-19T03:14:09.380041Z",
     "iopub.status.idle": "2025-06-19T03:14:09.590477Z",
     "shell.execute_reply": "2025-06-19T03:14:09.590220Z"
    },
    "papermill": {
     "duration": 0.221648,
     "end_time": "2025-06-19T03:14:09.591208",
     "exception": false,
     "start_time": "2025-06-19T03:14:09.369560",
     "status": "completed"
    },
    "tags": []
   },
   "outputs": [
    {
     "data": {
      "image/png": "[encoded data removed]",
      "text/plain": [
       "<Figure size 1500x1000 with 4 Axes>"
      ]
     },
     "metadata": {},
     "output_type": "display_data"
    }
   ],
   "source": [
    "# 殘差診斷(原本 ARIMA 模型的)\n",
    "model_summary_fit.plot_diagnostics(figsize = (15, 10))\n",
    "plt.show()"
   ]
  },
  {
   "cell_type": "markdown",
   "id": "e5aba527",
   "metadata": {
    "papermill": {
     "duration": 0.011232,
     "end_time": "2025-06-19T03:14:09.614206",
     "exception": false,
     "start_time": "2025-06-19T03:14:09.602974",
     "status": "completed"
    },
    "tags": []
   },
   "source": [
    "## 白噪音檢定\n",
    "藉由 Ljung-Box 定觀察 ARIMA 模型的殘差項是否為隨機變動，若檢定結果呈現白噪音(隨機)，則可以知道ARIMA模型的配適程度良好，便直接做預測；然而，若檢定結果呈現誤差項目並非白噪音，則需要用 `GARCH 模型找出誤差項中的變異數解釋變量`。\n",
    "\n",
    "+ lb_stat : 這是 Ljung-Box 檢驗的檢驗統計量，用於檢查序列的自相關性，值越高表示序列具有較強的自相關性。\n",
    "+ lb_pvalue : 這是對應於 Ljung-Box 統計量的 p 值，`用於檢驗零假設，即序列是白噪聲`，p 值小於 0.05（或選擇的顯著性水平）表示可以拒絕零假設，即序列可能具有顯著的自相關性，不是白噪聲。"
   ]
  },
  {
   "cell_type": "code",
   "execution_count": 16,
   "id": "445ee3ce",
   "metadata": {
    "execution": {
     "iopub.execute_input": "2025-06-19T03:14:09.636907Z",
     "iopub.status.busy": "2025-06-19T03:14:09.636781Z",
     "iopub.status.idle": "2025-06-19T03:14:09.640891Z",
     "shell.execute_reply": "2025-06-19T03:14:09.640641Z"
    },
    "papermill": {
     "duration": 0.016235,
     "end_time": "2025-06-19T03:14:09.641561",
     "exception": false,
     "start_time": "2025-06-19T03:14:09.625326",
     "status": "completed"
    },
    "tags": []
   },
   "outputs": [
    {
     "name": "stdout",
     "output_type": "stream",
     "text": [
      "\u001b[93m# Ljung-Box 檢驗\u001b[0m\n",
      " H0: 誤差項為白噪音，資料是隨機的\n",
      " H1: 誤差項不是白噪音\n",
      "\n",
      "誤差項 (P-value >= 0.05)，不能拒絕原假設(H0 成立)，殘差 \"是\" 白噪聲，代表殘差項目中沒有其他解釋變量可以提取，可直接使用 ARIMA 檢驗，理論上就可以停了\n",
      "↓↓↓↓ Ljung-Box 檢驗結果 ↓↓↓↓\n"
     ]
    },
    {
     "data": {
      "text/html": [
       "<div>\n",
       "<style scoped>\n",
       "    .dataframe tbody tr th:only-of-type {\n",
       "        vertical-align: middle;\n",
       "    }\n",
       "\n",
       "    .dataframe tbody tr th {\n",
       "        vertical-align: top;\n",
       "    }\n",
       "\n",
       "    .dataframe thead th {\n",
       "        text-align: right;\n",
       "    }\n",
       "</style>\n",
       "<table border=\"1\" class=\"dataframe\">\n",
       "  <thead>\n",
       "    <tr style=\"text-align: right;\">\n",
       "      <th></th>\n",
       "      <th>lb_stat</th>\n",
       "      <th>lb_pvalue</th>\n",
       "    </tr>\n",
       "  </thead>\n",
       "  <tbody>\n",
       "    <tr>\n",
       "      <th>14</th>\n",
       "      <td>2.828985</td>\n",
       "      <td>0.999339</td>\n",
       "    </tr>\n",
       "  </tbody>\n",
       "</table>\n",
       "</div>"
      ],
      "text/plain": [
       "     lb_stat  lb_pvalue\n",
       "14  2.828985   0.999339"
      ]
     },
     "execution_count": 16,
     "metadata": {},
     "output_type": "execute_result"
    }
   ],
   "source": [
    "lb_pvalue, white_noise_arima = arima.arima_acorr_ljungbox(arima_resid, training_window)\n",
    "\n",
    "print('↓↓↓↓ Ljung-Box 檢驗結果 ↓↓↓↓') \n",
    "white_noise_arima"
   ]
  },
  {
   "cell_type": "markdown",
   "id": "fdd21952",
   "metadata": {
    "papermill": {
     "duration": 0.011173,
     "end_time": "2025-06-19T03:14:09.664121",
     "exception": false,
     "start_time": "2025-06-19T03:14:09.652948",
     "status": "completed"
    },
    "tags": []
   },
   "source": [
    "## ARCH Effect 檢定"
   ]
  },
  {
   "cell_type": "code",
   "execution_count": 17,
   "id": "58d70de5",
   "metadata": {
    "execution": {
     "iopub.execute_input": "2025-06-19T03:14:09.686419Z",
     "iopub.status.busy": "2025-06-19T03:14:09.686306Z",
     "iopub.status.idle": "2025-06-19T03:14:09.689076Z",
     "shell.execute_reply": "2025-06-19T03:14:09.688842Z"
    },
    "papermill": {
     "duration": 0.014316,
     "end_time": "2025-06-19T03:14:09.689682",
     "exception": false,
     "start_time": "2025-06-19T03:14:09.675366",
     "status": "completed"
    },
    "tags": []
   },
   "outputs": [
    {
     "name": "stdout",
     "output_type": "stream",
     "text": [
      "\u001b[93m# ARCH Effect 檢定\u001b[0m\n",
      " H0: 資料中不存在 ARCH 效應\n",
      " H1: 資料中存在 ARCH 效應\n",
      "\n",
      "殘差的方差 (P-value > 0.05)，不能拒原假設(H0 成立)，不存在顯著的 ARCH 效應，理論上就可以停了\n",
      "↓↓↓↓ ARCH 檢驗結果 ↓↓↓↓\n",
      "ARCH 檢驗統計量: 0.11544811965884183\n",
      "p 值: 0.9999999999995971\n",
      "F 統計量: 0.007924038096984401\n",
      "F 統計量的 p 值: 0.9999999999996586\n"
     ]
    }
   ],
   "source": [
    "arch_test_result = arima.arima_het_arch(arima_resid, training_window)"
   ]
  },
  {
   "cell_type": "markdown",
   "id": "3742f113",
   "metadata": {
    "papermill": {
     "duration": 0.010716,
     "end_time": "2025-06-19T03:14:09.722274",
     "exception": false,
     "start_time": "2025-06-19T03:14:09.711558",
     "status": "completed"
    },
    "tags": []
   },
   "source": [
    "# 顯示預測圖表"
   ]
  },
  {
   "cell_type": "code",
   "execution_count": 18,
   "id": "198c8fd7",
   "metadata": {
    "execution": {
     "iopub.execute_input": "2025-06-19T03:14:09.744038Z",
     "iopub.status.busy": "2025-06-19T03:14:09.743921Z",
     "iopub.status.idle": "2025-06-19T03:14:09.868516Z",
     "shell.execute_reply": "2025-06-19T03:14:09.868287Z"
    },
    "papermill": {
     "duration": 0.136284,
     "end_time": "2025-06-19T03:14:09.869168",
     "exception": false,
     "start_time": "2025-06-19T03:14:09.732884",
     "status": "completed"
    },
    "tags": []
   },
   "outputs": [
    {
     "name": "stdout",
     "output_type": "stream",
     "text": [
      "\u001b[93m# 顯示預測圖表\u001b[0m\n"
     ]
    },
    {
     "data": {
      "image/png": "[encoded data removed]",
      "text/plain": [
       "<Figure size 800x200 with 1 Axes>"
      ]
     },
     "metadata": {},
     "output_type": "display_data"
    },
    {
     "data": {
      "image/png": "[encoded data removed]",
      "text/plain": [
       "<Figure size 800x200 with 1 Axes>"
      ]
     },
     "metadata": {},
     "output_type": "display_data"
    },
    {
     "data": {
      "image/png": "[encoded data removed]",
      "text/plain": [
       "<Figure size 800x200 with 1 Axes>"
      ]
     },
     "metadata": {},
     "output_type": "display_data"
    }
   ],
   "source": [
    "title = f'Test {fieldName}:{predict_types}, MAE:{round(mae, 5)}, MAPE:{round(mape, 5)}'\n",
    "\n",
    "arima.show_predict_chart(\n",
    "    eval_df,   \n",
    "    actual = test_acts,\n",
    "    predict = predictions,\n",
    "    title = title\n",
    ")\n",
    "\n",
    "plt.figure(figsize=(8, 2))\n",
    "plt.plot(test_acts, label='Actual')\n",
    "plt.title('測試集')\n",
    "plt.show()\n",
    "\n",
    "plt.figure(figsize=(8, 2))\n",
    "plt.plot(predictions)\n",
    "plt.title('預測結果')\n",
    "plt.show()"
   ]
  },
  {
   "cell_type": "markdown",
   "id": "b6e99b07-2483-4fa8-b2df-fdf38b5e9b63",
   "metadata": {
    "papermill": {
     "duration": 0.011621,
     "end_time": "2025-06-19T03:14:09.892864",
     "exception": false,
     "start_time": "2025-06-19T03:14:09.881243",
     "status": "completed"
    },
    "tags": []
   },
   "source": [
    "# 儲存結果"
   ]
  },
  {
   "cell_type": "code",
   "execution_count": 19,
   "id": "31686513-7c6c-42f8-929a-319ab2d20a8f",
   "metadata": {
    "execution": {
     "iopub.execute_input": "2025-06-19T03:14:09.917061Z",
     "iopub.status.busy": "2025-06-19T03:14:09.916894Z",
     "iopub.status.idle": "2025-06-19T03:14:09.920536Z",
     "shell.execute_reply": "2025-06-19T03:14:09.920213Z"
    },
    "papermill": {
     "duration": 0.016835,
     "end_time": "2025-06-19T03:14:09.921444",
     "exception": false,
     "start_time": "2025-06-19T03:14:09.904609",
     "status": "completed"
    },
    "tags": []
   },
   "outputs": [
    {
     "name": "stdout",
     "output_type": "stream",
     "text": [
      "\u001b[93m# 儲存評估結果到 JSON 檔案\u001b[0m\n",
      "{'label': 'GroupCount', 'predicteds': [2, 4, 6], 'arima_p': 13, 'arima_d': 0, 'arima_q': 6, 'aic': 7230.660172138802, 'test_mae': 230821426.51342, 'test_mape': 64074.18958, 'test_mse': 1.0816454030385277e+19, 'test_rmse': 3288837793.26152, 'test_r_square': -2094374718434.3403, 'ar_pvalue': '0.4908348367', 'ma_pvalue': '0.0000000000', 'lb_pvalue': 0.9993394117903976, 'arch_pvalue': 0.9999999999995971}\n",
      "儲存評估結果到 ARIMA/_Model/GroupCount_data246.result.json\n"
     ]
    }
   ],
   "source": [
    "arima.save_json_file(\n",
    "    result_file_name, \n",
    "    label = fieldName,\n",
    "    predicteds = predict_types,\n",
    "    best_p = best_p,\n",
    "    best_d = best_d,\n",
    "    best_q = best_q,\n",
    "    best_aic = best_aic,\n",
    "    best_ar_pvalue = best_ar_pvalue,\n",
    "    best_ma_pvalue = best_ma_pvalue,\n",
    "    mae_test = mae,\n",
    "    mape_test = mape, \n",
    "    mse_test = mse,\n",
    "    rmse_test = rmse,\n",
    "    r_square_test = r_square,\n",
    "    lb_pvalue = lb_pvalue,\n",
    "    arch_pvalue = arch_test_result[1]\n",
    ") "
   ]
  }
 ],
 "metadata": {
  "kernelspec": {
   "display_name": "nckuenv",
   "language": "python",
   "name": "nckuenv"
  },
  "language_info": {
   "codemirror_mode": {
    "name": "ipython",
    "version": 3
   },
   "file_extension": ".py",
   "mimetype": "text/x-python",
   "name": "python",
   "nbconvert_exporter": "python",
   "pygments_lexer": "ipython3",
   "version": "3.12.4"
  },
  "papermill": {
   "default_parameters": {},
   "duration": 256.86664,
   "end_time": "2025-06-19T03:14:12.555680",
   "environment_variables": {},
   "exception": null,
   "input_path": "Temp_runtime.ipynb",
   "output_path": "ARIMA/GroupCount/ARIMA_data246.ipynb",
   "parameters": {},
   "start_time": "2025-06-19T03:09:55.689040",
   "version": "2.6.0"
  }
 },
 "nbformat": 4,
 "nbformat_minor": 5
}