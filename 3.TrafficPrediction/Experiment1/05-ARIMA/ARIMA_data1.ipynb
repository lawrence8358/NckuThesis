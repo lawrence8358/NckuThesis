{
 "cells": [
  {
   "cell_type": "markdown",
   "id": "0ec5b60c-856b-4b65-811b-2b2b69cad641",
   "metadata": {
    "papermill": {
     "duration": 0.002723,
     "end_time": "2025-06-19T02:56:36.765377",
     "exception": false,
     "start_time": "2025-06-19T02:56:36.762654",
     "status": "completed"
    },
    "tags": []
   },
   "source": [
    "# 參考網站 \n",
    "+ [微軟的範例](https://github.com/microsoft/ML-For-Beginners/tree/main/7-TimeSeries/2-ARIMA)\n",
    "+ [ARIMA-GARCH 模型(上)](https://medium.com/tej-api-%E9%87%91%E8%9E%8D%E8%B3%87%E6%96%99%E5%88%86%E6%9E%90/%E8%B3%87%E6%96%99%E7%A7%91%E5%AD%B8-%E5%8D%81-arima-garch%E6%A8%A1%E5%9E%8B-%E4%B8%8A-4cf07dac75fd)"
   ]
  },
  {
   "cell_type": "markdown",
   "id": "2b136775",
   "metadata": {
    "papermill": {
     "duration": 0.002497,
     "end_time": "2025-06-19T02:56:36.770519",
     "exception": false,
     "start_time": "2025-06-19T02:56:36.768022",
     "status": "completed"
    },
    "tags": []
   },
   "source": [
    "# 參考網站 \n",
    "+ [微軟的範例](https://github.com/microsoft/ML-For-Beginners/tree/main/7-TimeSeries/2-ARIMA)\n",
    "+ [ARIMA-GARCH 模型(上)](https://medium.com/tej-api-%E9%87%91%E8%9E%8D%E8%B3%87%E6%96%99%E5%88%86%E6%9E%90/%E8%B3%87%E6%96%99%E7%A7%91%E5%AD%B8-%E5%8D%81-arima-garch%E6%A8%A1%E5%9E%8B-%E4%B8%8A-4cf07dac75fd)"
   ]
  },
  {
   "cell_type": "markdown",
   "id": "e507bd4a",
   "metadata": {
    "papermill": {
     "duration": 0.00199,
     "end_time": "2025-06-19T02:56:36.774984",
     "exception": false,
     "start_time": "2025-06-19T02:56:36.772994",
     "status": "completed"
    },
    "tags": []
   },
   "source": [
    "# 參數設定"
   ]
  },
  {
   "cell_type": "code",
   "execution_count": 1,
   "id": "e104c664",
   "metadata": {
    "execution": {
     "iopub.execute_input": "2025-06-19T02:56:36.779616Z",
     "iopub.status.busy": "2025-06-19T02:56:36.779479Z",
     "iopub.status.idle": "2025-06-19T02:56:36.782724Z",
     "shell.execute_reply": "2025-06-19T02:56:36.782463Z"
    },
    "papermill": {
     "duration": 0.006801,
     "end_time": "2025-06-19T02:56:36.783756",
     "exception": false,
     "start_time": "2025-06-19T02:56:36.776955",
     "status": "completed"
    },
    "tags": []
   },
   "outputs": [],
   "source": [
    "HORIZON = 1 # 0: 預設當日、1: 預測隔日(原本深度學習)，程式寫法僅支援 0,1\n",
    "\n",
    "predict_types = [1]\n",
    "fieldName = 'GroupCount'\n",
    "\n",
    "# predict_types = [1]\n",
    "# fieldName = 'GroupCount'\n",
    "\n",
    "# training_window = @training_window@ # 過去天數，用於訓練資料中的歷史資料長度\n",
    "# predict_type = @predict_type@\n",
    "# fieldName = '@label_column@' \n",
    "\n",
    "# ==== 底下的參數基本上都不要亂動 ====\n",
    "training_window = 14  # 過去天數，用於訓練資料中的歷史資料長度 \n",
    "train_split_rate = 0.04  # 訓練集佔整體資料集的比例\n",
    "# includeTraingData = False  # 資料來源是否包含訓練集最後 14 天，正常要包含，但有少數一些資料會有問題，若遇到有問題，把這個改成 False\n",
    " \n",
    "\n",
    "actFiledName = fieldName \n",
    "if HORIZON == 1:\n",
    "    actFiledName = f'{actFiledName}1'\n",
    "    \n",
    "model_dir = 'ARIMA/_Model'"
   ]
  },
  {
   "cell_type": "markdown",
   "id": "2d7164c1-3b25-454e-b698-1b01e0177548",
   "metadata": {
    "papermill": {
     "duration": 0.002541,
     "end_time": "2025-06-19T02:56:36.788484",
     "exception": false,
     "start_time": "2025-06-19T02:56:36.785943",
     "status": "completed"
    },
    "tags": []
   },
   "source": [
    "# 定義類別"
   ]
  },
  {
   "cell_type": "code",
   "execution_count": 2,
   "id": "9cf1d82a",
   "metadata": {
    "execution": {
     "iopub.execute_input": "2025-06-19T02:56:36.793038Z",
     "iopub.status.busy": "2025-06-19T02:56:36.792888Z",
     "iopub.status.idle": "2025-06-19T02:56:37.906184Z",
     "shell.execute_reply": "2025-06-19T02:56:37.905772Z"
    },
    "papermill": {
     "duration": 1.116466,
     "end_time": "2025-06-19T02:56:37.906921",
     "exception": false,
     "start_time": "2025-06-19T02:56:36.790455",
     "status": "completed"
    },
    "tags": []
   },
   "outputs": [
    {
     "name": "stdout",
     "output_type": "stream",
     "text": [
      "/Users/elliesu/Developer/nckuenv\n"
     ]
    }
   ],
   "source": [
    "# 重新載入 Lib，讓檔案可以直接修改使用 \n",
    "import importlib\n",
    "import ArimaLib \n",
    "importlib.reload(ArimaLib)   \n",
    "\n",
    "from ArimaLib import * \n",
    "arima = ArimaLib()\n",
    "\n",
    "import sys\n",
    "print(sys.prefix)"
   ]
  },
  {
   "cell_type": "markdown",
   "id": "bbed42f9",
   "metadata": {
    "papermill": {
     "duration": 0.002041,
     "end_time": "2025-06-19T02:56:37.911832",
     "exception": false,
     "start_time": "2025-06-19T02:56:37.909791",
     "status": "completed"
    },
    "tags": []
   },
   "source": [
    "# 清除舊的訓練資料"
   ]
  },
  {
   "cell_type": "code",
   "execution_count": 3,
   "id": "f32ad035",
   "metadata": {
    "execution": {
     "iopub.execute_input": "2025-06-19T02:56:37.916599Z",
     "iopub.status.busy": "2025-06-19T02:56:37.916288Z",
     "iopub.status.idle": "2025-06-19T02:56:37.918789Z",
     "shell.execute_reply": "2025-06-19T02:56:37.918555Z"
    },
    "papermill": {
     "duration": 0.005651,
     "end_time": "2025-06-19T02:56:37.919406",
     "exception": false,
     "start_time": "2025-06-19T02:56:37.913755",
     "status": "completed"
    },
    "tags": []
   },
   "outputs": [
    {
     "name": "stdout",
     "output_type": "stream",
     "text": [
      "result_file_name: ARIMA/_Model/GroupCount_data1.result.json\n"
     ]
    }
   ],
   "source": [
    "result_file_name = arima.reset_data(\n",
    "    model_dir, \n",
    "    label_name = fieldName, \n",
    "    predicteds = predict_types\n",
    ")"
   ]
  },
  {
   "cell_type": "markdown",
   "id": "4761aae3",
   "metadata": {
    "papermill": {
     "duration": 0.002026,
     "end_time": "2025-06-19T02:56:37.923588",
     "exception": false,
     "start_time": "2025-06-19T02:56:37.921562",
     "status": "completed"
    },
    "tags": []
   },
   "source": [
    "# 載入數據"
   ]
  },
  {
   "cell_type": "code",
   "execution_count": 4,
   "id": "4b0f3759-245a-459a-9963-316766e14b6a",
   "metadata": {
    "execution": {
     "iopub.execute_input": "2025-06-19T02:56:37.928087Z",
     "iopub.status.busy": "2025-06-19T02:56:37.927967Z",
     "iopub.status.idle": "2025-06-19T02:56:37.939968Z",
     "shell.execute_reply": "2025-06-19T02:56:37.939738Z"
    },
    "papermill": {
     "duration": 0.015036,
     "end_time": "2025-06-19T02:56:37.940623",
     "exception": false,
     "start_time": "2025-06-19T02:56:37.925587",
     "status": "completed"
    },
    "tags": []
   },
   "outputs": [
    {
     "name": "stdout",
     "output_type": "stream",
     "text": [
      "\u001b[93m# 載入數據\u001b[0m\n"
     ]
    },
    {
     "data": {
      "text/html": [
       "<div>\n",
       "<style scoped>\n",
       "    .dataframe tbody tr th:only-of-type {\n",
       "        vertical-align: middle;\n",
       "    }\n",
       "\n",
       "    .dataframe tbody tr th {\n",
       "        vertical-align: top;\n",
       "    }\n",
       "\n",
       "    .dataframe thead th {\n",
       "        text-align: right;\n",
       "    }\n",
       "</style>\n",
       "<table border=\"1\" class=\"dataframe\">\n",
       "  <thead>\n",
       "    <tr style=\"text-align: right;\">\n",
       "      <th></th>\n",
       "      <th>GroupCount</th>\n",
       "    </tr>\n",
       "    <tr>\n",
       "      <th>RequestTime</th>\n",
       "      <th></th>\n",
       "    </tr>\n",
       "  </thead>\n",
       "  <tbody>\n",
       "    <tr>\n",
       "      <th>2023-04-02</th>\n",
       "      <td>9923</td>\n",
       "    </tr>\n",
       "    <tr>\n",
       "      <th>2023-04-03</th>\n",
       "      <td>13065</td>\n",
       "    </tr>\n",
       "    <tr>\n",
       "      <th>2023-04-04</th>\n",
       "      <td>14207</td>\n",
       "    </tr>\n",
       "    <tr>\n",
       "      <th>2023-04-05</th>\n",
       "      <td>15636</td>\n",
       "    </tr>\n",
       "    <tr>\n",
       "      <th>2023-04-06</th>\n",
       "      <td>38862</td>\n",
       "    </tr>\n",
       "    <tr>\n",
       "      <th>...</th>\n",
       "      <td>...</td>\n",
       "    </tr>\n",
       "    <tr>\n",
       "      <th>2024-04-26</th>\n",
       "      <td>20652</td>\n",
       "    </tr>\n",
       "    <tr>\n",
       "      <th>2024-04-27</th>\n",
       "      <td>13194</td>\n",
       "    </tr>\n",
       "    <tr>\n",
       "      <th>2024-04-28</th>\n",
       "      <td>12238</td>\n",
       "    </tr>\n",
       "    <tr>\n",
       "      <th>2024-04-29</th>\n",
       "      <td>19482</td>\n",
       "    </tr>\n",
       "    <tr>\n",
       "      <th>2024-04-30</th>\n",
       "      <td>20069</td>\n",
       "    </tr>\n",
       "  </tbody>\n",
       "</table>\n",
       "<p>395 rows × 1 columns</p>\n",
       "</div>"
      ],
      "text/plain": [
       "             GroupCount\n",
       "RequestTime            \n",
       "2023-04-02         9923\n",
       "2023-04-03        13065\n",
       "2023-04-04        14207\n",
       "2023-04-05        15636\n",
       "2023-04-06        38862\n",
       "...                 ...\n",
       "2024-04-26        20652\n",
       "2024-04-27        13194\n",
       "2024-04-28        12238\n",
       "2024-04-29        19482\n",
       "2024-04-30        20069\n",
       "\n",
       "[395 rows x 1 columns]"
      ]
     },
     "execution_count": 4,
     "metadata": {},
     "output_type": "execute_result"
    }
   ],
   "source": [
    "arima_data = arima.load_data(predict_types)[[fieldName]]\n",
    "arima_data"
   ]
  },
  {
   "cell_type": "markdown",
   "id": "c1f38426-2715-4ca9-a07d-8507d69c153d",
   "metadata": {
    "papermill": {
     "duration": 0.002209,
     "end_time": "2025-06-19T02:56:37.945167",
     "exception": false,
     "start_time": "2025-06-19T02:56:37.942958",
     "status": "completed"
    },
    "tags": []
   },
   "source": [
    "# 切割訓練和測試資料集"
   ]
  },
  {
   "cell_type": "code",
   "execution_count": 5,
   "id": "133203f5",
   "metadata": {
    "execution": {
     "iopub.execute_input": "2025-06-19T02:56:37.950939Z",
     "iopub.status.busy": "2025-06-19T02:56:37.950751Z",
     "iopub.status.idle": "2025-06-19T02:56:37.953535Z",
     "shell.execute_reply": "2025-06-19T02:56:37.953282Z"
    },
    "papermill": {
     "duration": 0.006525,
     "end_time": "2025-06-19T02:56:37.954245",
     "exception": false,
     "start_time": "2025-06-19T02:56:37.947720",
     "status": "completed"
    },
    "tags": []
   },
   "outputs": [
    {
     "name": "stdout",
     "output_type": "stream",
     "text": [
      "\u001b[93m# 切割訓練和測試資料集，split rate 0.04\u001b[0m\n",
      "這裡切割訓練和測試跟深度學習不同，這裡只是單純的要切割測試資料集區間，實際上並沒有用到訓練集\n",
      "data length: 395\n",
      "train_data.shape: (15, 1)\n",
      "test_data.shape: (380, 1)\n"
     ]
    }
   ],
   "source": [
    "train_data, test_data = arima.split_train_test_data(arima_data, train_split_rate)\n",
    "# train_data, test_data = arima.split_train_test_data2(arima_data, training_window=training_window)"
   ]
  },
  {
   "cell_type": "markdown",
   "id": "de018e92-9474-4878-9b29-76cc105e2907",
   "metadata": {
    "papermill": {
     "duration": 0.002223,
     "end_time": "2025-06-19T02:56:37.958956",
     "exception": false,
     "start_time": "2025-06-19T02:56:37.956733",
     "status": "completed"
    },
    "tags": []
   },
   "source": [
    "# 原始資料視覺化"
   ]
  },
  {
   "cell_type": "code",
   "execution_count": 6,
   "id": "80aa4aa9-29b7-470e-97fe-f77b7eaef3df",
   "metadata": {
    "execution": {
     "iopub.execute_input": "2025-06-19T02:56:37.963939Z",
     "iopub.status.busy": "2025-06-19T02:56:37.963755Z",
     "iopub.status.idle": "2025-06-19T02:56:38.208047Z",
     "shell.execute_reply": "2025-06-19T02:56:38.202878Z"
    },
    "papermill": {
     "duration": 0.24848,
     "end_time": "2025-06-19T02:56:38.209558",
     "exception": false,
     "start_time": "2025-06-19T02:56:37.961078",
     "status": "completed"
    },
    "tags": []
   },
   "outputs": [
    {
     "data": {
      "image/png": "[encoded data removed]",
      "text/plain": [
       "<Figure size 800x200 with 1 Axes>"
      ]
     },
     "metadata": {},
     "output_type": "display_data"
    },
    {
     "data": {
      "image/png": "[encoded data removed]",
      "text/plain": [
       "<Figure size 800x200 with 1 Axes>"
      ]
     },
     "metadata": {},
     "output_type": "display_data"
    }
   ],
   "source": [
    "plt.figure(figsize=(8, 2))\n",
    "plt.plot(arima_data.index, arima_data[fieldName], label='完整')\n",
    "\n",
    "plt.xlabel('RequestTime')\n",
    "plt.ylabel(fieldName)\n",
    "plt.legend()\n",
    "plt.show()\n",
    "\n",
    "plt.figure(figsize=(8, 2))\n",
    "plt.plot(train_data.index, train_data[fieldName], label='Train Data')\n",
    "plt.plot(test_data.index, test_data[fieldName], label='Test Data', linestyle='--')\n",
    "\n",
    "plt.xlabel('RequestTime')\n",
    "plt.ylabel(fieldName)\n",
    "plt.legend()\n",
    "plt.show()"
   ]
  },
  {
   "cell_type": "markdown",
   "id": "c6cc95e7-ee37-4442-a0d8-7e52dfe73e4c",
   "metadata": {
    "execution": {
     "iopub.execute_input": "2024-06-22T10:55:49.481597Z",
     "iopub.status.busy": "2024-06-22T10:55:49.481524Z",
     "iopub.status.idle": "2024-06-22T10:55:49.483170Z",
     "shell.execute_reply": "2024-06-22T10:55:49.482836Z",
     "shell.execute_reply.started": "2024-06-22T10:55:49.481589Z"
    },
    "papermill": {
     "duration": 0.00274,
     "end_time": "2025-06-19T02:56:38.220759",
     "exception": false,
     "start_time": "2025-06-19T02:56:38.218019",
     "status": "completed"
    },
    "tags": []
   },
   "source": [
    "# 找出最佳參數"
   ]
  },
  {
   "cell_type": "code",
   "execution_count": 7,
   "id": "97ac2766",
   "metadata": {
    "execution": {
     "iopub.execute_input": "2025-06-19T02:56:38.238062Z",
     "iopub.status.busy": "2025-06-19T02:56:38.237735Z",
     "iopub.status.idle": "2025-06-19T02:57:18.497825Z",
     "shell.execute_reply": "2025-06-19T02:57:18.497529Z"
    },
    "papermill": {
     "duration": 40.275727,
     "end_time": "2025-06-19T02:57:18.503810",
     "exception": false,
     "start_time": "2025-06-19T02:56:38.228083",
     "status": "completed"
    },
    "tags": []
   },
   "outputs": [
    {
     "name": "stdout",
     "output_type": "stream",
     "text": [
      "395\n",
      "\u001b[93m# 找到最佳的 p, d, q 值，window_size: 14 \u001b[0m\n"
     ]
    },
    {
     "name": "stdout",
     "output_type": "stream",
     "text": [
      "\n",
      "Best model:  ARIMA(8,1,10)(0,0,0)[0] intercept\n",
      "Total fit time: 40.146 seconds\n",
      "                               SARIMAX Results                                \n",
      "==============================================================================\n",
      "Dep. Variable:                      y   No. Observations:                  395\n",
      "Model:              SARIMAX(8, 1, 10)   Log Likelihood               -4208.750\n",
      "Date:                Thu, 19 Jun 2025   AIC                           8457.500\n",
      "Time:                        10:57:18   BIC                           8537.027\n",
      "Sample:                             0   HQIC                          8489.013\n",
      "                                - 395                                         \n",
      "Covariance Type:                  opg                                         \n",
      "==============================================================================\n",
      "                 coef    std err          z      P>|z|      [0.025      0.975]\n",
      "------------------------------------------------------------------------------\n",
      "intercept     14.8288     73.643      0.201      0.840    -129.508     159.166\n",
      "ar.L1          0.4758      0.794      0.599      0.549      -1.081       2.032\n",
      "ar.L2         -0.1414      0.412     -0.343      0.732      -0.950       0.667\n",
      "ar.L3         -0.0614      0.379     -0.162      0.871      -0.804       0.682\n",
      "ar.L4         -0.0882      0.418     -0.211      0.833      -0.908       0.731\n",
      "ar.L5         -0.1035      0.330     -0.313      0.754      -0.751       0.544\n",
      "ar.L6         -0.0517      0.339     -0.152      0.879      -0.717       0.614\n",
      "ar.L7          0.8515      0.323      2.634      0.008       0.218       1.485\n",
      "ar.L8         -0.5072      0.700     -0.725      0.468      -1.878       0.864\n",
      "ma.L1         -0.7011      0.788     -0.890      0.373      -2.245       0.843\n",
      "ma.L2         -0.0662      0.431     -0.154      0.878      -0.911       0.778\n",
      "ma.L3          0.1614      0.468      0.345      0.730      -0.756       1.079\n",
      "ma.L4          0.0058      0.425      0.014      0.989      -0.828       0.840\n",
      "ma.L5          0.0131      0.375      0.035      0.972      -0.721       0.748\n",
      "ma.L6         -0.0499      0.352     -0.142      0.887      -0.741       0.641\n",
      "ma.L7         -0.8646      0.373     -2.319      0.020      -1.595      -0.134\n",
      "ma.L8          0.6188      0.804      0.769      0.442      -0.957       2.195\n",
      "ma.L9          0.0860      0.126      0.685      0.493      -0.160       0.332\n",
      "ma.L10        -0.1732      0.130     -1.337      0.181      -0.427       0.081\n",
      "sigma2      1.243e+08      0.000   9.44e+11      0.000    1.24e+08    1.24e+08\n",
      "===================================================================================\n",
      "Ljung-Box (L1) (Q):                   0.05   Jarque-Bera (JB):             20189.90\n",
      "Prob(Q):                              0.82   Prob(JB):                         0.00\n",
      "Heteroskedasticity (H):               0.30   Skew:                             2.79\n",
      "Prob(H) (two-sided):                  0.00   Kurtosis:                        37.62\n",
      "===================================================================================\n",
      "\n",
      "Warnings:\n",
      "[1] Covariance matrix calculated using the outer product of gradients (complex-step).\n",
      "[2] Covariance matrix is singular or near-singular, with condition number 1.37e+27. Standard errors may be unstable.\n",
      "最佳的 AIC 值: 8457.500335518098\n",
      "最佳的 BIC 值: 8537.027353704056\n",
      "最佳的 p 值: 8\n",
      "最佳的 d 值: 1\n",
      "最佳的 q 值: 10\n",
      "pvalues: ['0.8404157403', '0.5490578472', '0.7315984416', '0.8713048053', '0.8328714528', '0.7539260442', '0.8788788549', '0.0084431904', '0.4684407019', '0.3733997282', '0.8779189246', '0.7302038251', '0.9890475501', '0.9721998949', '0.8874346306', '0.0203864949', '0.4415985934', '0.4932283697', '0.1811016251', '0.0000000000']\n",
      "best_ar_pvalue: 0.4684407019\n",
      "best_ma_pvalue: 0.1811016251\n"
     ]
    }
   ],
   "source": [
    "# if includeTraingData:\n",
    "#     print(f'使用訓練集前 {training_window} 天')\n",
    "#     aic_data = [x for x in train_data[fieldName]]\n",
    "#     aic_data = aic_data[(-training_window):] \n",
    "#     aic_data.extend(test_data[fieldName].values) \n",
    "# else:\n",
    "#     print(f'不使用訓練集前 {training_window} 天')\n",
    "#     aic_data = test_data[fieldName].values\n",
    "\n",
    "aic_data = arima_data[fieldName].values\n",
    "print(len(aic_data))\n",
    "\n",
    "auto_model, best_p, best_d, best_q, best_aic, arima_resid, best_ar_pvalue, best_ma_pvalue = \\\n",
    "    arima.find_best_config(aic_data, window_size=training_window)\n",
    "# 基本上選出來的 P-Vaule 都要小於 0.05，才達到顯著的效果，代表是平穩的序列"
   ]
  },
  {
   "cell_type": "markdown",
   "id": "d4e15454",
   "metadata": {
    "papermill": {
     "duration": 0.002482,
     "end_time": "2025-06-19T02:57:18.509064",
     "exception": false,
     "start_time": "2025-06-19T02:57:18.506582",
     "status": "completed"
    },
    "tags": []
   },
   "source": [
    "# 使用 ARMIA 套件再次驗證"
   ]
  },
  {
   "cell_type": "code",
   "execution_count": 8,
   "id": "6fd66cc1",
   "metadata": {
    "execution": {
     "iopub.execute_input": "2025-06-19T02:57:18.515021Z",
     "iopub.status.busy": "2025-06-19T02:57:18.514887Z",
     "iopub.status.idle": "2025-06-19T02:57:19.457832Z",
     "shell.execute_reply": "2025-06-19T02:57:19.457537Z"
    },
    "papermill": {
     "duration": 0.947015,
     "end_time": "2025-06-19T02:57:19.458545",
     "exception": false,
     "start_time": "2025-06-19T02:57:18.511530",
     "status": "completed"
    },
    "tags": []
   },
   "outputs": [
    {
     "name": "stdout",
     "output_type": "stream",
     "text": [
      "\u001b[93m# 檢查 ARIMA 模型\u001b[0m\n"
     ]
    },
    {
     "name": "stdout",
     "output_type": "stream",
     "text": [
      "                               SARIMAX Results                                \n",
      "==============================================================================\n",
      "Dep. Variable:                      y   No. Observations:                  395\n",
      "Model:                ARIMA(8, 1, 10)   Log Likelihood               -4208.471\n",
      "Date:                Thu, 19 Jun 2025   AIC                           8454.943\n",
      "Time:                        10:57:19   BIC                           8530.493\n",
      "Sample:                             0   HQIC                          8484.879\n",
      "                                - 395                                         \n",
      "Covariance Type:                  opg                                         \n",
      "==============================================================================\n",
      "                 coef    std err          z      P>|z|      [0.025      0.975]\n",
      "------------------------------------------------------------------------------\n",
      "ar.L1          0.4973      1.375      0.362      0.718      -2.197       3.192\n",
      "ar.L2         -0.0467      0.324     -0.144      0.885      -0.682       0.588\n",
      "ar.L3         -0.1616      0.295     -0.548      0.584      -0.740       0.417\n",
      "ar.L4          0.0280      0.430      0.065      0.948      -0.814       0.870\n",
      "ar.L5         -0.1822      0.221     -0.824      0.410      -0.616       0.251\n",
      "ar.L6          0.0023      0.441      0.005      0.996      -0.862       0.866\n",
      "ar.L7          0.8653      0.229      3.781      0.000       0.417       1.314\n",
      "ar.L8         -0.5707      1.015     -0.562      0.574      -2.560       1.418\n",
      "ma.L1         -0.7267      1.363     -0.533      0.594      -3.398       1.945\n",
      "ma.L2         -0.1744      0.158     -1.107      0.268      -0.483       0.134\n",
      "ma.L3          0.2652      0.316      0.840      0.401      -0.353       0.884\n",
      "ma.L4         -0.1178      0.221     -0.533      0.594      -0.551       0.315\n",
      "ma.L5          0.0988      0.192      0.515      0.606      -0.277       0.475\n",
      "ma.L6         -0.0869      0.183     -0.474      0.635      -0.446       0.272\n",
      "ma.L7         -0.9000      0.185     -4.874      0.000      -1.262      -0.538\n",
      "ma.L8          0.7209      1.257      0.574      0.566      -1.743       3.184\n",
      "ma.L9          0.0768      0.100      0.768      0.443      -0.119       0.273\n",
      "ma.L10        -0.1358      0.156     -0.869      0.385      -0.442       0.171\n",
      "sigma2      1.243e+08   2.01e-07   6.18e+14      0.000    1.24e+08    1.24e+08\n",
      "===================================================================================\n",
      "Ljung-Box (L1) (Q):                   0.01   Jarque-Bera (JB):             20545.89\n",
      "Prob(Q):                              0.90   Prob(JB):                         0.00\n",
      "Heteroskedasticity (H):               0.32   Skew:                             3.08\n",
      "Prob(H) (two-sided):                  0.00   Kurtosis:                        37.84\n",
      "===================================================================================\n",
      "\n",
      "Warnings:\n",
      "[1] Covariance matrix calculated using the outer product of gradients (complex-step).\n",
      "[2] Covariance matrix is singular or near-singular, with condition number 1.28e+30. Standard errors may be unstable.\n"
     ]
    }
   ],
   "source": [
    "model_summary_fit = arima.check_arima_model(aic_data, best_p, best_d, best_q)"
   ]
  },
  {
   "cell_type": "markdown",
   "id": "f619600e-80cd-46e6-808c-2e2a9b6dee91",
   "metadata": {
    "papermill": {
     "duration": 0.002596,
     "end_time": "2025-06-19T02:57:19.464071",
     "exception": false,
     "start_time": "2025-06-19T02:57:19.461475",
     "status": "completed"
    },
    "tags": []
   },
   "source": [
    "# Shift 預測資料"
   ]
  },
  {
   "cell_type": "code",
   "execution_count": 9,
   "id": "e0a0bd9b-c49d-4ec1-8d8b-cbba0d29ec9f",
   "metadata": {
    "execution": {
     "iopub.execute_input": "2025-06-19T02:57:19.470007Z",
     "iopub.status.busy": "2025-06-19T02:57:19.469893Z",
     "iopub.status.idle": "2025-06-19T02:57:19.472814Z",
     "shell.execute_reply": "2025-06-19T02:57:19.472578Z"
    },
    "papermill": {
     "duration": 0.006768,
     "end_time": "2025-06-19T02:57:19.473449",
     "exception": false,
     "start_time": "2025-06-19T02:57:19.466681",
     "status": "completed"
    },
    "tags": []
   },
   "outputs": [
    {
     "name": "stdout",
     "output_type": "stream",
     "text": [
      "\u001b[93m# 整理預測未來的資料\u001b[0m\n",
      "380\n"
     ]
    }
   ],
   "source": [
    "test_shifted = arima.shift_data(test_data, fieldName, HORIZON)\n",
    "test_shifted.head()\n",
    "print(len(test_shifted))"
   ]
  },
  {
   "cell_type": "markdown",
   "id": "6a5d28d6-5bbc-451b-aef7-c6d7cb64c603",
   "metadata": {
    "papermill": {
     "duration": 0.002535,
     "end_time": "2025-06-19T02:57:19.478696",
     "exception": false,
     "start_time": "2025-06-19T02:57:19.476161",
     "status": "completed"
    },
    "tags": []
   },
   "source": [
    "# 執行預測"
   ]
  },
  {
   "cell_type": "code",
   "execution_count": 10,
   "id": "521a47e4",
   "metadata": {
    "execution": {
     "iopub.execute_input": "2025-06-19T02:57:19.484244Z",
     "iopub.status.busy": "2025-06-19T02:57:19.484137Z",
     "iopub.status.idle": "2025-06-19T03:00:23.851913Z",
     "shell.execute_reply": "2025-06-19T03:00:23.851607Z"
    },
    "papermill": {
     "duration": 184.371367,
     "end_time": "2025-06-19T03:00:23.852582",
     "exception": false,
     "start_time": "2025-06-19T02:57:19.481215",
     "status": "completed"
    },
    "tags": []
   },
   "outputs": [
    {
     "name": "stdout",
     "output_type": "stream",
     "text": [
      "\u001b[93m# 開始預測\u001b[0m\n",
      "第一個預測日 :  2023-04-17 00:00:00\n",
      "第一個預測日，前 {training_window} 日數據 :               GroupCount\n",
      "RequestTime            \n",
      "2023-04-03        13065\n",
      "2023-04-04        14207\n",
      "2023-04-05        15636\n",
      "2023-04-06        38862\n",
      "2023-04-07        31772\n",
      "2023-04-08        20238\n",
      "2023-04-09        19085\n",
      "2023-04-10        39217\n",
      "2023-04-11        38250\n",
      "2023-04-12        45895\n",
      "2023-04-13        48103\n",
      "2023-04-14        50519\n",
      "2023-04-15        31795\n",
      "2023-04-16        24193\n",
      "第一個預測日當日 :  47117.0\n",
      "第一個預測日隔日 :  38519.0\n",
      "第一個預測日，前 {training_window} 日數據 :  [9923, 13065, 14207, 15636, 38862, 31772, 20238, 19085, 39217, 38250, 45895, 48103, 50519, 31795, 24193]\n",
      "最佳的 p 值: 8\n",
      "最佳的 d 值: 1\n",
      "最佳的 q 值: 10\n",
      "-------------------------------------------------------\n",
      "-------------------------------------------------------\n",
      "\n",
      "yhat: [24917.87922986 30992.41911814]\n",
      "( 0). 實際 : 38519.0 預測 : 30992.419118139755 差距 : 7526.580881860245\n"
     ]
    },
    {
     "name": "stderr",
     "output_type": "stream",
     "text": [
      "/Users/elliesu/Developer/nckuenv/lib/python3.12/site-packages/statsmodels/tsa/statespace/sarimax.py:866: UserWarning: Too few observations to estimate starting parameters for ARMA and trend. All parameters except for variances will be set to zeros.\n",
      "  warn('Too few observations to estimate starting parameters%s.'\n"
     ]
    },
    {
     "name": "stdout",
     "output_type": "stream",
     "text": [
      "yhat: [55529.02567069 50766.61251534]\n",
      "( 1). 實際 : 41804.0 預測 : 50766.61251534312 差距 : -8962.61251534312\n",
      "yhat: [40147.72632764 47753.34185044]\n",
      "( 2). 實際 : 37041.0 預測 : 47753.34185043873 差距 : -10712.34185043873\n",
      "yhat: [47930.90678968 59645.9015947 ]\n",
      "( 3). 實際 : 39725.0 預測 : 59645.901594704796 差距 : -19920.901594704796\n"
     ]
    },
    {
     "name": "stdout",
     "output_type": "stream",
     "text": [
      "yhat: [58624.61466944 34415.84437729]\n",
      "( 4). 實際 : 25155.0 預測 : 34415.84437728865 差距 : -9260.844377288653\n",
      "yhat: [34252.29898351 16901.78969031]\n",
      "( 5). 實際 : 21423.0 預測 : 16901.78969030959 差距 : 4521.21030969041\n"
     ]
    },
    {
     "name": "stdout",
     "output_type": "stream",
     "text": [
      "yhat: [20188.87152434 47937.90892978]\n",
      "( 6). 實際 : 36611.0 預測 : 47937.90892978138 差距 : -11326.908929781377\n",
      "yhat: [47211.89493739 33168.99377199]\n",
      "( 7). 實際 : 38107.0 預測 : 33168.99377198683 差距 : 4938.006228013168\n"
     ]
    },
    {
     "name": "stdout",
     "output_type": "stream",
     "text": [
      "yhat: [37814.36891313 31267.46192817]\n",
      "( 8). 實際 : 40559.0 預測 : 31267.461928169505 差距 : 9291.538071830495\n",
      "yhat: [33696.61081466 33051.90043958]\n",
      "( 9). 實際 : 44003.0 預測 : 33051.90043957646 差距 : 10951.099560423543\n",
      "yhat: [31647.41402198 34888.95211573]\n",
      "(10). 實際 : 34605.0 預測 : 34888.95211573178 差距 : -283.9521157317795\n"
     ]
    },
    {
     "name": "stdout",
     "output_type": "stream",
     "text": [
      "yhat: [40738.02960243 30652.54462608]\n",
      "(11). 實際 : 22026.0 預測 : 30652.54462608162 差距 : -8626.54462608162\n",
      "yhat: [26940.53057263 20093.50624407]\n",
      "(12). 實際 : 17053.0 預測 : 20093.506244074684 差距 : -3040.506244074684\n"
     ]
    },
    {
     "name": "stdout",
     "output_type": "stream",
     "text": [
      "yhat: [16156.30029394 25215.18301903]\n",
      "(13). 實際 : 21285.0 預測 : 25215.18301903235 差距 : -3930.183019032349\n",
      "yhat: [26046.36858895 36914.7523902 ]\n",
      "(14). 實際 : 36805.0 預測 : 36914.75239019925 差距 : -109.75239019925357\n"
     ]
    },
    {
     "name": "stdout",
     "output_type": "stream",
     "text": [
      "yhat: [31588.1675358  42496.67323699]\n",
      "(15). 實際 : 36528.0 預測 : 42496.673236988834 差距 : -5968.673236988834\n",
      "yhat: [46402.83848455 55230.68969075]\n",
      "(16). 實際 : 33698.0 預測 : 55230.6896907504 差距 : -21532.689690750398\n"
     ]
    },
    {
     "name": "stdout",
     "output_type": "stream",
     "text": [
      "yhat: [55678.38204855 34455.83507257]\n",
      "(17). 實際 : 29386.0 預測 : 34455.83507257121 差距 : -5069.835072571208\n",
      "yhat: [30222.36687997  7794.97495266]\n",
      "(18). 實際 : 21939.0 預測 : 7794.974952657129 差距 : 14144.025047342871\n"
     ]
    },
    {
     "name": "stdout",
     "output_type": "stream",
     "text": [
      "yhat: [6959.60592039 6718.33875335]\n",
      "(19). 實際 : 17716.0 預測 : 6718.338753347343 差距 : 10997.661246652657\n",
      "yhat: [ 9513.20025144 17412.41678255]\n",
      "(20). 實際 : 31090.0 預測 : 17412.416782547538 差距 : 13677.583217452462\n"
     ]
    },
    {
     "name": "stdout",
     "output_type": "stream",
     "text": [
      "yhat: [25932.89840823 46274.76405178]\n",
      "(21). 實際 : 32057.0 預測 : 46274.76405178305 差距 : -14217.764051783051\n",
      "yhat: [49919.38941651 47659.64365933]\n",
      "(22). 實際 : 32282.0 預測 : 47659.643659329915 差距 : -15377.643659329915\n"
     ]
    },
    {
     "name": "stdout",
     "output_type": "stream",
     "text": [
      "yhat: [44062.33776283 36721.18694406]\n",
      "(23). 實際 : 34092.0 預測 : 36721.18694406336 差距 : -2629.18694406336\n",
      "yhat: [21481.21077612  9635.14571699]\n",
      "(24). 實際 : 29939.0 預測 : 9635.145716993375 差距 : 20303.854283006625\n"
     ]
    },
    {
     "name": "stdout",
     "output_type": "stream",
     "text": [
      "yhat: [25236.59864586 28272.56401633]\n",
      "(25). 實際 : 17451.0 預測 : 28272.56401633453 差距 : -10821.56401633453\n",
      "yhat: [31994.31224024 22003.16109069]\n",
      "(26). 實際 : 16334.0 預測 : 22003.161090690242 差距 : -5669.161090690242\n",
      "yhat: [27085.69339874 31306.87501386]\n",
      "(27). 實際 : 32529.0 預測 : 31306.87501385549 差距 : 1222.1249861445103\n"
     ]
    },
    {
     "name": "stderr",
     "output_type": "stream",
     "text": [
      "/Users/elliesu/Developer/nckuenv/lib/python3.12/site-packages/statsmodels/tsa/statespace/sarimax.py:978: UserWarning: Non-invertible starting MA parameters found. Using zeros as starting parameters.\n",
      "  warn('Non-invertible starting MA parameters found.'\n"
     ]
    },
    {
     "name": "stdout",
     "output_type": "stream",
     "text": [
      "yhat: [-3637478.16698462  4360945.00765207]\n",
      "(28). 實際 : 31443.0 預測 : 4360945.007652074 差距 : -4329502.007652074\n",
      "yhat: [32457.7485534  35582.92294964]\n",
      "(29). 實際 : 32548.0 預測 : 35582.92294964136 差距 : -3034.922949641361\n"
     ]
    },
    {
     "name": "stdout",
     "output_type": "stream",
     "text": [
      "yhat: [25798.22305614 33022.18678522]\n",
      "(30). 實際 : 37228.0 預測 : 33022.1867852163 差距 : 4205.813214783702\n",
      "yhat: [33140.65853075 23202.93665892]\n",
      "(31). 實際 : 35912.0 預測 : 23202.93665891922 差距 : 12709.063341080779\n"
     ]
    },
    {
     "name": "stdout",
     "output_type": "stream",
     "text": [
      "yhat: [29150.39121542  8162.37048336]\n",
      "(32). 實際 : 20683.0 預測 : 8162.370483362534 差距 : 12520.629516637466\n",
      "yhat: [26256.67081535 24791.33346894]\n",
      "(33). 實際 : 16484.0 預測 : 24791.333468936864 差距 : -8307.333468936864\n"
     ]
    },
    {
     "name": "stdout",
     "output_type": "stream",
     "text": [
      "yhat: [3.07545087e+22 9.35554815e+22]\n",
      "(34). 實際 : 33919.0 預測 : 9.355548146581055e+22 差距 : -9.355548146581055e+22\n",
      "yhat: [28799.08065254 31767.74873702]\n",
      "(35). 實際 : 32520.0 預測 : 31767.74873702448 差距 : 752.2512629755183\n"
     ]
    },
    {
     "name": "stdout",
     "output_type": "stream",
     "text": [
      "yhat: [39205.83969174 34539.8705701 ]\n",
      "(36). 實際 : 33245.0 預測 : 34539.8705700973 差距 : -1294.8705700973005\n",
      "yhat: [31685.5813656 36334.2633779]\n",
      "(37). 實際 : 28808.0 預測 : 36334.2633778959 差距 : -7526.263377895899\n"
     ]
    },
    {
     "name": "stdout",
     "output_type": "stream",
     "text": [
      "yhat: [33990.25546819 30170.44294514]\n",
      "(38). 實際 : 26356.0 預測 : 30170.442945141698 差距 : -3814.442945141698\n",
      "yhat: [33208.27367947 20307.54258518]\n",
      "(39). 實際 : 15593.0 預測 : 20307.542585177805 差距 : -4714.542585177805\n"
     ]
    },
    {
     "name": "stdout",
     "output_type": "stream",
     "text": [
      "yhat: [20891.27432892 13369.58867948]\n",
      "(40). 實際 : 13439.0 預測 : 13369.588679482578 差距 : 69.4113205174217\n",
      "yhat: [ 9802.44587654 25673.66081858]\n",
      "(41). 實際 : 28047.0 預測 : 25673.660818575427 差距 : 2373.3391814245733\n"
     ]
    },
    {
     "name": "stdout",
     "output_type": "stream",
     "text": [
      "yhat: [26901.22080249 29675.5137021 ]\n",
      "(42). 實際 : 29102.0 預測 : 29675.513702104698 差距 : -573.5137021046976\n",
      "yhat: [31118.87016335 35944.5056054 ]\n",
      "(43). 實際 : 25529.0 預測 : 35944.505605395716 差距 : -10415.505605395716\n"
     ]
    },
    {
     "name": "stdout",
     "output_type": "stream",
     "text": [
      "yhat: [34072.66731732 30472.70391442]\n",
      "(44). 實際 : 26819.0 預測 : 30472.70391441965 差距 : -3653.7039144196497\n",
      "yhat: [25521.33364007 25826.65954368]\n",
      "(45). 實際 : 29215.0 預測 : 25826.659543679834 差距 : 3388.3404563201657\n"
     ]
    },
    {
     "name": "stdout",
     "output_type": "stream",
     "text": [
      "yhat: [27849.02189091 18011.72720665]\n",
      "(46). 實際 : 22276.0 預測 : 18011.727206654352 差距 : 4264.272793345648\n",
      "yhat: [16693.7495335  17594.83825498]\n",
      "(47). 實際 : 17925.0 預測 : 17594.838254983304 差距 : 330.16174501669593\n"
     ]
    },
    {
     "name": "stdout",
     "output_type": "stream",
     "text": [
      "yhat: [21956.53561218 29899.65092611]\n",
      "(48). 實際 : 47254.0 預測 : 29899.65092610981 差距 : 17354.34907389019\n",
      "yhat: [28333.39324086 33063.22082397]\n",
      "(49). 實際 : 53567.0 預測 : 33063.22082397302 差距 : 20503.779176026983\n"
     ]
    },
    {
     "name": "stdout",
     "output_type": "stream",
     "text": [
      "yhat: [36853.62990947 28719.10329686]\n",
      "(50). 實際 : 52761.0 預測 : 28719.103296856465 差距 : 24041.896703143535\n",
      "yhat: [39486.04133335 45498.02658784]\n",
      "(51). 實際 : 129828.0 預測 : 45498.02658784157 差距 : 84329.97341215843\n"
     ]
    },
    {
     "name": "stdout",
     "output_type": "stream",
     "text": [
      "yhat: [51193.6765024  50657.63080126]\n",
      "(52). 實際 : 200222.0 預測 : 50657.63080125904 差距 : 149564.36919874095\n",
      "yhat: [160218.34810476 192390.66804459]\n",
      "(53). 實際 : 72469.0 預測 : 192390.66804459493 差距 : -119921.66804459493\n"
     ]
    },
    {
     "name": "stdout",
     "output_type": "stream",
     "text": [
      "yhat: [285936.01611484 499307.34204107]\n",
      "(54). 實際 : 47850.0 預測 : 499307.3420410701 差距 : -451457.3420410701\n"
     ]
    },
    {
     "name": "stdout",
     "output_type": "stream",
     "text": [
      "yhat: [-27251.61271568 149816.9555513 ]\n",
      "(55). 實際 : 55592.0 預測 : 149816.9555513028 差距 : -94224.95555130279\n"
     ]
    },
    {
     "name": "stdout",
     "output_type": "stream",
     "text": [
      "yhat: [253495.36147601 192992.07700428]\n",
      "(56). 實際 : 45133.0 預測 : 192992.07700427558 差距 : -147859.07700427558\n"
     ]
    },
    {
     "name": "stdout",
     "output_type": "stream",
     "text": [
      "yhat: [-76820.31079219 -90985.93530733]\n",
      "(57). 實際 : 42200.0 預測 : -90985.93530733365 差距 : 133185.93530733365\n"
     ]
    },
    {
     "name": "stdout",
     "output_type": "stream",
     "text": [
      "yhat: [ 41318.05966787 163815.236187  ]\n",
      "(58). 實際 : 36338.0 預測 : 163815.23618699625 差距 : -127477.23618699625\n"
     ]
    },
    {
     "name": "stdout",
     "output_type": "stream",
     "text": [
      "yhat: [199377.26015455 230347.38231598]\n",
      "(59). 實際 : 34525.0 預測 : 230347.3823159785 差距 : -195822.3823159785\n"
     ]
    },
    {
     "name": "stdout",
     "output_type": "stream",
     "text": [
      "yhat: [85591.8736293  34746.55709053]\n",
      "(60). 實際 : 32811.0 預測 : 34746.55709053161 差距 : -1935.5570905316126\n"
     ]
    },
    {
     "name": "stdout",
     "output_type": "stream",
     "text": [
      "yhat: [-36047.62256938 -32173.21018187]\n",
      "(61). 實際 : 19331.0 預測 : -32173.21018186664 差距 : 51504.21018186664\n"
     ]
    },
    {
     "name": "stdout",
     "output_type": "stream",
     "text": [
      "yhat: [-8588.41392762 12580.12880906]\n",
      "(62). 實際 : 27695.0 預測 : 12580.128809062808 差距 : 15114.871190937192\n"
     ]
    },
    {
     "name": "stdout",
     "output_type": "stream",
     "text": [
      "yhat: [64749.1413865  79247.28004146]\n",
      "(63). 實際 : 29529.0 預測 : 79247.28004145733 差距 : -49718.28004145733\n"
     ]
    },
    {
     "name": "stdout",
     "output_type": "stream",
     "text": [
      "yhat: [49964.87105966 17241.99072393]\n",
      "(64). 實際 : 25178.0 預測 : 17241.99072393462 差距 : 7936.009276065379\n"
     ]
    },
    {
     "name": "stdout",
     "output_type": "stream",
     "text": [
      "yhat: [ 4240.99571185 44981.11675345]\n",
      "(65). 實際 : 12713.0 預測 : 44981.11675344658 差距 : -32268.11675344658\n"
     ]
    },
    {
     "name": "stdout",
     "output_type": "stream",
     "text": [
      "yhat: [56580.79204031 72683.95358369]\n",
      "(66). 實際 : 10769.0 預測 : 72683.95358369488 差距 : -61914.95358369488\n"
     ]
    },
    {
     "name": "stdout",
     "output_type": "stream",
     "text": [
      "yhat: [23701.42447582 21533.51368829]\n",
      "(67). 實際 : 12887.0 預測 : 21533.513688288585 差距 : -8646.513688288585\n"
     ]
    },
    {
     "name": "stdout",
     "output_type": "stream",
     "text": [
      "yhat: [  3798.91628738 -11701.4848889 ]\n",
      "(68). 實際 : 12546.0 預測 : -11701.484888901008 差距 : 24247.48488890101\n"
     ]
    },
    {
     "name": "stdout",
     "output_type": "stream",
     "text": [
      "yhat: [ 2463.66240975 10459.99418839]\n",
      "(69). 實際 : 30103.0 預測 : 10459.994188389888 差距 : 19643.005811610114\n"
     ]
    },
    {
     "name": "stdout",
     "output_type": "stream",
     "text": [
      "yhat: [21082.91346139 25651.42979515]\n",
      "(70). 實際 : 31876.0 預測 : 25651.429795154414 差距 : 6224.570204845586\n"
     ]
    },
    {
     "name": "stdout",
     "output_type": "stream",
     "text": [
      "yhat: [34069.92388932 18024.63973884]\n",
      "(71). 實際 : 28045.0 預測 : 18024.639738843005 差距 : 10020.360261156995\n"
     ]
    },
    {
     "name": "stdout",
     "output_type": "stream",
     "text": [
      "yhat: [15689.03933635 31877.63726589]\n",
      "(72). 實際 : 27290.0 預測 : 31877.637265885925 差距 : -4587.637265885925\n"
     ]
    },
    {
     "name": "stdout",
     "output_type": "stream",
     "text": [
      "yhat: [45623.29239212 52124.88046163]\n",
      "(73). 實際 : 28426.0 預測 : 52124.88046162941 差距 : -23698.880461629407\n"
     ]
    },
    {
     "name": "stdout",
     "output_type": "stream",
     "text": [
      "yhat: [40198.34628504 32304.61556028]\n",
      "(74). 實際 : 31879.0 預測 : 32304.61556028219 差距 : -425.6155602821891\n"
     ]
    },
    {
     "name": "stdout",
     "output_type": "stream",
     "text": [
      "yhat: [21461.1446795  23591.64564661]\n",
      "(75). 實際 : 18086.0 預測 : 23591.64564660871 差距 : -5505.645646608711\n"
     ]
    },
    {
     "name": "stdout",
     "output_type": "stream",
     "text": [
      "yhat: [34266.37264902 43649.21677138]\n",
      "(76). 實際 : 29962.0 預測 : 43649.216771377854 差距 : -13687.216771377854\n"
     ]
    },
    {
     "name": "stdout",
     "output_type": "stream",
     "text": [
      "yhat: [27579.07154853 41389.25010493]\n",
      "(77). 實際 : 29604.0 預測 : 41389.25010493322 差距 : -11785.25010493322\n"
     ]
    },
    {
     "name": "stdout",
     "output_type": "stream",
     "text": [
      "yhat: [38652.51635239 23563.95956908]\n",
      "(78). 實際 : 27949.0 預測 : 23563.95956907878 差距 : 4385.040430921221\n"
     ]
    },
    {
     "name": "stdout",
     "output_type": "stream",
     "text": [
      "yhat: [21186.59896624 28728.95067371]\n",
      "(79). 實際 : 26382.0 預測 : 28728.95067371341 差距 : -2346.9506737134107\n"
     ]
    },
    {
     "name": "stdout",
     "output_type": "stream",
     "text": [
      "yhat: [30821.02065426 48327.30554388]\n",
      "(80). 實際 : 25297.0 預測 : 48327.30554388327 差距 : -23030.305543883267\n"
     ]
    },
    {
     "name": "stdout",
     "output_type": "stream",
     "text": [
      "yhat: [42028.86962251 31240.15385403]\n",
      "(81). 實際 : 16118.0 預測 : 31240.15385403228 差距 : -15122.15385403228\n"
     ]
    },
    {
     "name": "stdout",
     "output_type": "stream",
     "text": [
      "yhat: [17816.09363274 13262.86978221]\n",
      "(82). 實際 : 12474.0 預測 : 13262.869782205315 差距 : -788.8697822053146\n"
     ]
    },
    {
     "name": "stdout",
     "output_type": "stream",
     "text": [
      "yhat: [14874.53183525 24786.43404784]\n",
      "(83). 實際 : 24352.0 預測 : 24786.43404784188 差距 : -434.4340478418817\n"
     ]
    },
    {
     "name": "stdout",
     "output_type": "stream",
     "text": [
      "yhat: [21479.12484652 32522.91123863]\n",
      "(84). 實際 : 28786.0 預測 : 32522.911238632318 差距 : -3736.9112386323177\n"
     ]
    },
    {
     "name": "stdout",
     "output_type": "stream",
     "text": [
      "yhat: [34831.18030785 23488.39124767]\n",
      "(85). 實際 : 27978.0 預測 : 23488.391247666717 差距 : 4489.608752333283\n"
     ]
    },
    {
     "name": "stdout",
     "output_type": "stream",
     "text": [
      "yhat: [18323.31147677 31090.89181967]\n",
      "(86). 實際 : 28488.0 預測 : 31090.89181966919 差距 : -2602.8918196691884\n"
     ]
    },
    {
     "name": "stdout",
     "output_type": "stream",
     "text": [
      "yhat: [43249.23238396 50138.76086587]\n",
      "(87). 實際 : 28533.0 預測 : 50138.76086587157 差距 : -21605.76086587157\n"
     ]
    },
    {
     "name": "stdout",
     "output_type": "stream",
     "text": [
      "yhat: [37901.92487239 37325.80223506]\n",
      "(88). 實際 : 18374.0 預測 : 37325.80223506454 差距 : -18951.80223506454\n"
     ]
    },
    {
     "name": "stdout",
     "output_type": "stream",
     "text": [
      "yhat: [26363.93966998 17479.66965778]\n",
      "(89). 實際 : 14331.0 預測 : 17479.669657778017 差距 : -3148.6696577780167\n"
     ]
    },
    {
     "name": "stdout",
     "output_type": "stream",
     "text": [
      "yhat: [10106.95707479 26500.40475034]\n",
      "(90). 實際 : 31302.0 預測 : 26500.404750343867 差距 : 4801.595249656133\n"
     ]
    },
    {
     "name": "stdout",
     "output_type": "stream",
     "text": [
      "yhat: [28878.70648773 33222.10554774]\n",
      "(91). 實際 : 37521.0 預測 : 33222.105547735715 差距 : 4298.894452264285\n"
     ]
    },
    {
     "name": "stdout",
     "output_type": "stream",
     "text": [
      "yhat: [31000.58612143 23112.76077714]\n",
      "(92). 實際 : 29485.0 預測 : 23112.760777144482 差距 : 6372.239222855518\n"
     ]
    },
    {
     "name": "stdout",
     "output_type": "stream",
     "text": [
      "yhat: [29212.05654224 29442.738497  ]\n",
      "(93). 實際 : 25726.0 預測 : 29442.73849700147 差距 : -3716.738497001468\n"
     ]
    },
    {
     "name": "stdout",
     "output_type": "stream",
     "text": [
      "yhat: [33182.01196932 45601.03191159]\n",
      "(94). 實際 : 24411.0 預測 : 45601.03191158975 差距 : -21190.03191158975\n"
     ]
    },
    {
     "name": "stdout",
     "output_type": "stream",
     "text": [
      "yhat: [39268.20746917 27977.1207097 ]\n",
      "(95). 實際 : 16887.0 預測 : 27977.120709699317 差距 : -11090.120709699317\n"
     ]
    },
    {
     "name": "stdout",
     "output_type": "stream",
     "text": [
      "yhat: [16780.26902526 11620.40036052]\n",
      "(96). 實際 : 17319.0 預測 : 11620.400360522166 差距 : 5698.599639477834\n"
     ]
    },
    {
     "name": "stdout",
     "output_type": "stream",
     "text": [
      "yhat: [11175.77344838 22240.63196403]\n",
      "(97). 實際 : 26220.0 預測 : 22240.63196403359 差距 : 3979.3680359664104\n"
     ]
    },
    {
     "name": "stdout",
     "output_type": "stream",
     "text": [
      "yhat: [27228.18891505 38548.52688198]\n",
      "(98). 實際 : 24536.0 預測 : 38548.52688198304 差距 : -14012.526881983038\n"
     ]
    },
    {
     "name": "stdout",
     "output_type": "stream",
     "text": [
      "yhat: [37577.60577991 30308.88607693]\n",
      "(99). 實際 : 22850.0 預測 : 30308.88607692927 差距 : -7458.88607692927\n"
     ]
    },
    {
     "name": "stdout",
     "output_type": "stream",
     "text": [
      "yhat: [16984.23694339 25525.36469381]\n",
      "(100). 實際 : 23972.0 預測 : 25525.36469380714 差距 : -1553.3646938071397\n"
     ]
    },
    {
     "name": "stdout",
     "output_type": "stream",
     "text": [
      "yhat: [28822.7281945  32525.09962676]\n",
      "(101). 實際 : 22291.0 預測 : 32525.099626757183 差距 : -10234.099626757183\n"
     ]
    },
    {
     "name": "stdout",
     "output_type": "stream",
     "text": [
      "yhat: [30197.00526472 26546.23085384]\n",
      "(102). 實際 : 16327.0 預測 : 26546.230853843346 差距 : -10219.230853843346\n"
     ]
    },
    {
     "name": "stdout",
     "output_type": "stream",
     "text": [
      "yhat: [18911.8488227  10270.04066587]\n",
      "(103). 實際 : 16181.0 預測 : 10270.040665869315 差距 : 5910.9593341306845\n"
     ]
    },
    {
     "name": "stdout",
     "output_type": "stream",
     "text": [
      "yhat: [ 8548.62234432 20714.47086981]\n",
      "(104). 實際 : 29654.0 預測 : 20714.470869813107 差距 : 8939.529130186893\n"
     ]
    },
    {
     "name": "stdout",
     "output_type": "stream",
     "text": [
      "yhat: [28421.51848705 34203.35139972]\n",
      "(105). 實際 : 44963.0 預測 : 34203.35139971637 差距 : 10759.648600283632\n"
     ]
    },
    {
     "name": "stdout",
     "output_type": "stream",
     "text": [
      "yhat: [36498.04817687 30226.84476561]\n",
      "(106). 實際 : 38937.0 預測 : 30226.844765605543 差距 : 8710.155234394457\n"
     ]
    },
    {
     "name": "stdout",
     "output_type": "stream",
     "text": [
      "yhat: [38430.99928915 28619.65640184]\n",
      "(107). 實際 : 29355.0 預測 : 28619.656401839824 差距 : 735.343598160176\n"
     ]
    },
    {
     "name": "stdout",
     "output_type": "stream",
     "text": [
      "yhat: [29137.94157001 32608.10402135]\n",
      "(108). 實際 : 31731.0 預測 : 32608.104021352447 差距 : -877.1040213524466\n"
     ]
    },
    {
     "name": "stdout",
     "output_type": "stream",
     "text": [
      "yhat: [32566.3316953  26646.14332155]\n",
      "(109). 實際 : 17202.0 預測 : 26646.14332154796 差距 : -9444.14332154796\n"
     ]
    },
    {
     "name": "stdout",
     "output_type": "stream",
     "text": [
      "yhat: [26046.18853121 16511.58190236]\n",
      "(110). 實際 : 15778.0 預測 : 16511.581902361162 差距 : -733.5819023611621\n"
     ]
    },
    {
     "name": "stdout",
     "output_type": "stream",
     "text": [
      "yhat: [ 8609.78524453 21803.18990075]\n",
      "(111). 實際 : 30801.0 預測 : 21803.18990075166 差距 : 8997.810099248341\n"
     ]
    },
    {
     "name": "stdout",
     "output_type": "stream",
     "text": [
      "yhat: [27273.04198416 38814.44966114]\n",
      "(112). 實際 : 27804.0 預測 : 38814.4496611433 差距 : -11010.449661143299\n"
     ]
    },
    {
     "name": "stdout",
     "output_type": "stream",
     "text": [
      "yhat: [41571.76348333 33155.99706022]\n",
      "(113). 實際 : 30891.0 預測 : 33155.997060222595 差距 : -2264.997060222595\n"
     ]
    },
    {
     "name": "stdout",
     "output_type": "stream",
     "text": [
      "yhat: [21458.17060596 23774.30446285]\n",
      "(114). 實際 : 29299.0 預測 : 23774.304462847234 差距 : 5524.695537152766\n"
     ]
    },
    {
     "name": "stdout",
     "output_type": "stream",
     "text": [
      "yhat: [30897.49051793 29486.80374425]\n",
      "(115). 實際 : 27290.0 預測 : 29486.80374425091 差距 : -2196.8037442509085\n"
     ]
    },
    {
     "name": "stdout",
     "output_type": "stream",
     "text": [
      "yhat: [27230.7125394  23416.79640525]\n",
      "(116). 實際 : 14345.0 預測 : 23416.796405245255 差距 : -9071.796405245255\n"
     ]
    },
    {
     "name": "stdout",
     "output_type": "stream",
     "text": [
      "yhat: [22803.57547973 15010.75258249]\n",
      "(117). 實際 : 14353.0 預測 : 15010.752582490577 差距 : -657.752582490577\n"
     ]
    },
    {
     "name": "stdout",
     "output_type": "stream",
     "text": [
      "yhat: [ 7261.28556573 20687.72327739]\n",
      "(118). 實際 : 26630.0 預測 : 20687.72327738505 差距 : 5942.276722614952\n"
     ]
    },
    {
     "name": "stdout",
     "output_type": "stream",
     "text": [
      "yhat: [27448.24686721 36840.05668679]\n",
      "(119). 實際 : 30014.0 預測 : 36840.05668678865 差距 : -6826.056686788652\n"
     ]
    },
    {
     "name": "stdout",
     "output_type": "stream",
     "text": [
      "yhat: [36499.42183891 31682.09671712]\n",
      "(120). 實際 : 32418.0 預測 : 31682.0967171152 差距 : 735.9032828847994\n"
     ]
    },
    {
     "name": "stdout",
     "output_type": "stream",
     "text": [
      "yhat: [25070.06244783 22029.46484332]\n",
      "(121). 實際 : 25328.0 預測 : 22029.464843323305 差距 : 3298.535156676695\n"
     ]
    },
    {
     "name": "stdout",
     "output_type": "stream",
     "text": [
      "yhat: [28463.63184664 28462.75708756]\n",
      "(122). 實際 : 22239.0 預測 : 28462.75708755857 差距 : -6223.75708755857\n"
     ]
    },
    {
     "name": "stdout",
     "output_type": "stream",
     "text": [
      "yhat: [24952.45374063 22787.85038836]\n",
      "(123). 實際 : 13300.0 預測 : 22787.850388355415 差距 : -9487.850388355415\n"
     ]
    },
    {
     "name": "stdout",
     "output_type": "stream",
     "text": [
      "yhat: [20541.53239607 15872.41475432]\n",
      "(124). 實際 : 11082.0 預測 : 15872.414754323705 差距 : -4790.414754323705\n"
     ]
    },
    {
     "name": "stdout",
     "output_type": "stream",
     "text": [
      "yhat: [ 9449.80869391 21256.50833127]\n",
      "(125). 實際 : 23653.0 預測 : 21256.508331273035 差距 : 2396.491668726965\n"
     ]
    },
    {
     "name": "stdout",
     "output_type": "stream",
     "text": [
      "yhat: [22613.72236343 34639.91018747]\n",
      "(126). 實際 : 22019.0 預測 : 34639.91018747384 差距 : -12620.91018747384\n"
     ]
    },
    {
     "name": "stdout",
     "output_type": "stream",
     "text": [
      "yhat: [35687.08471235 29971.67255437]\n",
      "(127). 實際 : 21112.0 預測 : 29971.672554365272 差距 : -8859.672554365272\n"
     ]
    },
    {
     "name": "stdout",
     "output_type": "stream",
     "text": [
      "yhat: [15556.63845677 18933.83320409]\n",
      "(128). 實際 : 20767.0 預測 : 18933.833204092643 差距 : 1833.1667959073566\n"
     ]
    },
    {
     "name": "stdout",
     "output_type": "stream",
     "text": [
      "yhat: [23539.94169358 24440.10120654]\n",
      "(129). 實際 : 19383.0 預測 : 24440.10120654406 差距 : -5057.101206544059\n"
     ]
    },
    {
     "name": "stdout",
     "output_type": "stream",
     "text": [
      "yhat: [21569.79182586 17752.4391429 ]\n",
      "(130). 實際 : 12353.0 預測 : 17752.439142899482 差距 : -5399.439142899482\n"
     ]
    },
    {
     "name": "stdout",
     "output_type": "stream",
     "text": [
      "yhat: [16613.03516643 12404.75350936]\n",
      "(131). 實際 : 11587.0 預測 : 12404.75350935823 差距 : -817.7535093582301\n"
     ]
    },
    {
     "name": "stdout",
     "output_type": "stream",
     "text": [
      "yhat: [ 8886.78415418 22408.84479261]\n",
      "(132). 實際 : 20149.0 預測 : 22408.844792610107 差距 : -2259.844792610107\n"
     ]
    },
    {
     "name": "stdout",
     "output_type": "stream",
     "text": [
      "yhat: [25344.25160044 32972.41053396]\n",
      "(133). 實際 : 22076.0 預測 : 32972.410533958646 差距 : -10896.410533958646\n"
     ]
    },
    {
     "name": "stdout",
     "output_type": "stream",
     "text": [
      "yhat: [29096.00857422 25060.68449576]\n",
      "(134). 實際 : 24881.0 預測 : 25060.68449576249 差距 : -179.68449576248895\n"
     ]
    },
    {
     "name": "stdout",
     "output_type": "stream",
     "text": [
      "yhat: [17612.31534618 16816.57637897]\n",
      "(135). 實際 : 22636.0 預測 : 16816.57637897033 差距 : 5819.423621029669\n"
     ]
    },
    {
     "name": "stdout",
     "output_type": "stream",
     "text": [
      "yhat: [21021.76353018 20908.32343378]\n",
      "(136). 實際 : 20928.0 預測 : 20908.323433777252 差距 : 19.67656622274808\n"
     ]
    },
    {
     "name": "stdout",
     "output_type": "stream",
     "text": [
      "yhat: [22386.24257736 19194.90463037]\n",
      "(137). 實際 : 13446.0 預測 : 19194.904630372588 差距 : -5748.904630372588\n"
     ]
    },
    {
     "name": "stdout",
     "output_type": "stream",
     "text": [
      "yhat: [18021.50456734 15328.56297449]\n",
      "(138). 實際 : 10489.0 預測 : 15328.562974487226 差距 : -4839.562974487226\n"
     ]
    },
    {
     "name": "stdout",
     "output_type": "stream",
     "text": [
      "yhat: [11654.7181534 23866.2883694]\n",
      "(139). 實際 : 17425.0 預測 : 23866.28836939951 差距 : -6441.28836939951\n"
     ]
    },
    {
     "name": "stdout",
     "output_type": "stream",
     "text": [
      "yhat: [21969.44812451 30967.61943986]\n",
      "(140). 實際 : 20828.0 預測 : 30967.619439864662 差距 : -10139.619439864662\n"
     ]
    },
    {
     "name": "stdout",
     "output_type": "stream",
     "text": [
      "yhat: [27357.98993385 22991.99708472]\n",
      "(141). 實際 : 21654.0 預測 : 22991.99708471659 差距 : -1337.9970847165896\n"
     ]
    },
    {
     "name": "stdout",
     "output_type": "stream",
     "text": [
      "yhat: [16338.04214173 15026.45364058]\n",
      "(142). 實際 : 21676.0 預測 : 15026.45364057536 差距 : 6649.546359424639\n"
     ]
    },
    {
     "name": "stdout",
     "output_type": "stream",
     "text": [
      "yhat: [19164.85373576 19902.67957244]\n",
      "(143). 實際 : 19596.0 預測 : 19902.679572436326 差距 : -306.67957243632554\n"
     ]
    },
    {
     "name": "stdout",
     "output_type": "stream",
     "text": [
      "yhat: [22268.30327693 19728.79431689]\n",
      "(144). 實際 : 12268.0 預測 : 19728.794316894448 差距 : -7460.794316894448\n"
     ]
    },
    {
     "name": "stdout",
     "output_type": "stream",
     "text": [
      "yhat: [17403.70184758 15341.8880685 ]\n",
      "(145). 實際 : 11978.0 預測 : 15341.888068502289 差距 : -3363.8880685022887\n"
     ]
    },
    {
     "name": "stdout",
     "output_type": "stream",
     "text": [
      "yhat: [11251.30634076 23207.21759208]\n",
      "(146). 實際 : 21436.0 預測 : 23207.21759207526 差距 : -1771.2175920752597\n"
     ]
    },
    {
     "name": "stdout",
     "output_type": "stream",
     "text": [
      "yhat: [24131.51365145 29135.51775694]\n",
      "(147). 實際 : 21328.0 預測 : 29135.517756938996 差距 : -7807.517756938996\n"
     ]
    },
    {
     "name": "stdout",
     "output_type": "stream",
     "text": [
      "yhat: [27244.48190733 21224.37044521]\n",
      "(148). 實際 : 20610.0 預測 : 21224.370445205775 差距 : -614.3704452057755\n"
     ]
    },
    {
     "name": "stdout",
     "output_type": "stream",
     "text": [
      "yhat: [15373.45463017 16333.00350388]\n",
      "(149). 實際 : 19980.0 預測 : 16333.003503875263 差距 : 3646.996496124737\n"
     ]
    },
    {
     "name": "stdout",
     "output_type": "stream",
     "text": [
      "yhat: [21795.61534253 22910.70058145]\n",
      "(150). 實際 : 18386.0 預測 : 22910.700581445024 差距 : -4524.700581445024\n"
     ]
    },
    {
     "name": "stdout",
     "output_type": "stream",
     "text": [
      "yhat: [21338.47144064 16677.8793499 ]\n",
      "(151). 實際 : 10179.0 預測 : 16677.879349897965 差距 : -6498.879349897965\n"
     ]
    },
    {
     "name": "stdout",
     "output_type": "stream",
     "text": [
      "yhat: [14360.00985217 14766.9373062 ]\n",
      "(152). 實際 : 11576.0 預測 : 14766.937306200607 差距 : -3190.937306200607\n"
     ]
    },
    {
     "name": "stdout",
     "output_type": "stream",
     "text": [
      "yhat: [11399.56160186 23671.81788372]\n",
      "(153). 實際 : 20098.0 預測 : 23671.817883722695 差距 : -3573.817883722695\n"
     ]
    },
    {
     "name": "stdout",
     "output_type": "stream",
     "text": [
      "yhat: [23911.06285621 26358.5390999 ]\n",
      "(154). 實際 : 21089.0 預測 : 26358.53909989828 差距 : -5269.53909989828\n"
     ]
    },
    {
     "name": "stdout",
     "output_type": "stream",
     "text": [
      "yhat: [23800.94625271 17312.21170795]\n",
      "(155). 實際 : 18129.0 預測 : 17312.211707948878 差距 : 816.788292051122\n"
     ]
    },
    {
     "name": "stdout",
     "output_type": "stream",
     "text": [
      "yhat: [15032.81699786 17151.19849087]\n",
      "(156). 實際 : 20078.0 預測 : 17151.19849087283 差距 : 2926.80150912717\n"
     ]
    },
    {
     "name": "stdout",
     "output_type": "stream",
     "text": [
      "yhat: [18936.98401424 21222.80639415]\n",
      "(157). 實際 : 19137.0 預測 : 21222.806394153085 差距 : -2085.8063941530854\n"
     ]
    },
    {
     "name": "stdout",
     "output_type": "stream",
     "text": [
      "yhat: [21261.17685821 16053.30978435]\n",
      "(158). 實際 : 19129.0 預測 : 16053.309784345607 差距 : 3075.690215654393\n"
     ]
    },
    {
     "name": "stdout",
     "output_type": "stream",
     "text": [
      "yhat: [13888.74239654 15480.46294296]\n",
      "(159). 實際 : 11644.0 預測 : 15480.462942955619 差距 : -3836.462942955619\n"
     ]
    },
    {
     "name": "stdout",
     "output_type": "stream",
     "text": [
      "yhat: [19128.05196192 26644.44159597]\n",
      "(160). 實際 : 18721.0 預測 : 26644.44159597176 差距 : -7923.441595971759\n"
     ]
    },
    {
     "name": "stdout",
     "output_type": "stream",
     "text": [
      "yhat: [19747.49787939 25792.32274496]\n",
      "(161). 實際 : 20751.0 預測 : 25792.32274496447 差距 : -5041.322744964469\n"
     ]
    },
    {
     "name": "stdout",
     "output_type": "stream",
     "text": [
      "yhat: [24525.94693719 17222.88325705]\n",
      "(162). 實際 : 20065.0 預測 : 17222.883257046502 差距 : 2842.116742953498\n"
     ]
    },
    {
     "name": "stdout",
     "output_type": "stream",
     "text": [
      "yhat: [13941.04583938 14943.94677236]\n",
      "(163). 實際 : 17000.0 預測 : 14943.946772355044 差距 : 2056.0532276449558\n"
     ]
    },
    {
     "name": "stdout",
     "output_type": "stream",
     "text": [
      "yhat: [19643.50521676 21868.36502646]\n",
      "(164). 實際 : 8496.0 預測 : 21868.365026457614 差距 : -13372.365026457614\n"
     ]
    },
    {
     "name": "stdout",
     "output_type": "stream",
     "text": [
      "yhat: [19294.78350839 17805.78640316]\n",
      "(165). 實際 : 7949.0 預測 : 17805.786403163467 差距 : -9856.786403163467\n"
     ]
    },
    {
     "name": "stdout",
     "output_type": "stream",
     "text": [
      "yhat: [ 8951.33351435 14413.58644611]\n",
      "(166). 實際 : 8907.0 預測 : 14413.58644611117 差距 : -5506.5864461111705\n"
     ]
    },
    {
     "name": "stdout",
     "output_type": "stream",
     "text": [
      "yhat: [14650.34819018 21080.11616051]\n",
      "(167). 實際 : 18439.0 預測 : 21080.116160507972 差距 : -2641.1161605079724\n"
     ]
    },
    {
     "name": "stdout",
     "output_type": "stream",
     "text": [
      "yhat: [15709.00637408 19543.64715925]\n",
      "(168). 實際 : 17062.0 預測 : 19543.647159254248 差距 : -2481.6471592542475\n"
     ]
    },
    {
     "name": "stdout",
     "output_type": "stream",
     "text": [
      "yhat: [21676.4743733 15910.1361396]\n",
      "(169). 實際 : 15375.0 預測 : 15910.13613959826 差距 : -535.1361395982603\n"
     ]
    },
    {
     "name": "stdout",
     "output_type": "stream",
     "text": [
      "yhat: [11534.46471416 14333.9809525 ]\n",
      "(170). 實際 : 14090.0 預測 : 14333.980952495243 差距 : -243.9809524952434\n"
     ]
    },
    {
     "name": "stdout",
     "output_type": "stream",
     "text": [
      "yhat: [17463.59323709 17260.1585726 ]\n",
      "(171). 實際 : 14763.0 預測 : 17260.158572598095 差距 : -2497.158572598095\n"
     ]
    },
    {
     "name": "stdout",
     "output_type": "stream",
     "text": [
      "yhat: [14506.04672811 14053.31479624]\n",
      "(172). 實際 : 9275.0 預測 : 14053.31479623614 差距 : -4778.31479623614\n"
     ]
    },
    {
     "name": "stdout",
     "output_type": "stream",
     "text": [
      "yhat: [14444.58651325 15295.23896761]\n",
      "(173). 實際 : 7486.0 預測 : 15295.238967610132 差距 : -7809.238967610132\n"
     ]
    },
    {
     "name": "stdout",
     "output_type": "stream",
     "text": [
      "yhat: [10931.57624107 19134.98607386]\n",
      "(174). 實際 : 7737.0 預測 : 19134.986073858297 差距 : -11397.986073858297\n"
     ]
    },
    {
     "name": "stdout",
     "output_type": "stream",
     "text": [
      "yhat: [16022.92770994 17915.95267958]\n",
      "(175). 實際 : 9806.0 預測 : 17915.952679579903 差距 : -8109.952679579903\n"
     ]
    },
    {
     "name": "stdout",
     "output_type": "stream",
     "text": [
      "yhat: [10535.18513684 10684.14097539]\n",
      "(176). 實際 : 19653.0 預測 : 10684.14097538679 差距 : 8968.85902461321\n"
     ]
    },
    {
     "name": "stdout",
     "output_type": "stream",
     "text": [
      "yhat: [ 9956.26367899 10981.06762473]\n",
      "(177). 實際 : 19127.0 預測 : 10981.067624731004 差距 : 8145.932375268996\n"
     ]
    },
    {
     "name": "stdout",
     "output_type": "stream",
     "text": [
      "yhat: [19549.70840091 17642.9263385 ]\n",
      "(178). 實際 : 20708.0 預測 : 17642.926338495992 差距 : 3065.0736615040078\n"
     ]
    },
    {
     "name": "stdout",
     "output_type": "stream",
     "text": [
      "yhat: [17177.33633156 16489.96535397]\n",
      "(179). 實際 : 12331.0 預測 : 16489.965353966007 差距 : -4158.965353966007\n"
     ]
    },
    {
     "name": "stdout",
     "output_type": "stream",
     "text": [
      "yhat: [19573.30850318 19127.12815976]\n",
      "(180). 實際 : 11719.0 預測 : 19127.128159762775 差距 : -7408.128159762775\n"
     ]
    },
    {
     "name": "stdout",
     "output_type": "stream",
     "text": [
      "yhat: [12684.56295722 18685.42697607]\n",
      "(181). 實際 : 22093.0 預測 : 18685.426976066236 差距 : 3407.5730239337645\n"
     ]
    },
    {
     "name": "stdout",
     "output_type": "stream",
     "text": [
      "yhat: [18168.45121041 17212.91126898]\n",
      "(182). 實際 : 23052.0 預測 : 17212.911268975255 差距 : 5839.088731024745\n"
     ]
    },
    {
     "name": "stdout",
     "output_type": "stream",
     "text": [
      "yhat: [21149.08713783 15882.38777566]\n",
      "(183). 實際 : 24410.0 預測 : 15882.387775657182 差距 : 8527.612224342818\n"
     ]
    },
    {
     "name": "stdout",
     "output_type": "stream",
     "text": [
      "yhat: [17144.79487106 17560.93152212]\n",
      "(184). 實際 : 23692.0 預測 : 17560.931522117717 差距 : 6131.068477882283\n"
     ]
    },
    {
     "name": "stdout",
     "output_type": "stream",
     "text": [
      "yhat: [23524.87087051 22339.70904328]\n",
      "(185). 實際 : 19934.0 預測 : 22339.70904327833 差距 : -2405.70904327833\n"
     ]
    },
    {
     "name": "stdout",
     "output_type": "stream",
     "text": [
      "yhat: [22836.65571512 21020.62129982]\n",
      "(186). 實際 : 12105.0 預測 : 21020.62129982227 差距 : -8915.621299822269\n"
     ]
    },
    {
     "name": "stdout",
     "output_type": "stream",
     "text": [
      "yhat: [18423.88361031 18947.65218128]\n",
      "(187). 實際 : 13653.0 預測 : 18947.65218127899 差距 : -5294.652181278991\n"
     ]
    },
    {
     "name": "stdout",
     "output_type": "stream",
     "text": [
      "yhat: [13224.14349047 18760.39437275]\n",
      "(188). 實際 : 23108.0 預測 : 18760.39437275231 差距 : 4347.605627247689\n"
     ]
    },
    {
     "name": "stdout",
     "output_type": "stream",
     "text": [
      "yhat: [18944.69563794 17048.61081525]\n",
      "(189). 實際 : 22911.0 預測 : 17048.610815248314 差距 : 5862.389184751686\n"
     ]
    },
    {
     "name": "stdout",
     "output_type": "stream",
     "text": [
      "yhat: [21847.31774077 17275.89156236]\n",
      "(190). 實際 : 26904.0 預測 : 17275.891562357574 差距 : 9628.108437642426\n"
     ]
    },
    {
     "name": "stdout",
     "output_type": "stream",
     "text": [
      "yhat: [18231.16174571 19778.11322086]\n",
      "(191). 實際 : 25320.0 預測 : 19778.113220859268 差距 : 5541.886779140732\n"
     ]
    },
    {
     "name": "stdout",
     "output_type": "stream",
     "text": [
      "yhat: [26389.94246934 21287.95831304]\n",
      "(192). 實際 : 23248.0 預測 : 21287.95831304441 差距 : 1960.0416869555884\n"
     ]
    },
    {
     "name": "stdout",
     "output_type": "stream",
     "text": [
      "yhat: [20178.54184041 15928.28359643]\n",
      "(193). 實際 : 13850.0 預測 : 15928.28359643017 差距 : -2078.2835964301703\n"
     ]
    },
    {
     "name": "stdout",
     "output_type": "stream",
     "text": [
      "yhat: [19407.80731481 18967.25563612]\n",
      "(194). 實際 : 12840.0 預測 : 18967.255636118498 差距 : -6127.255636118498\n"
     ]
    },
    {
     "name": "stdout",
     "output_type": "stream",
     "text": [
      "yhat: [13224.74532311 20836.7869374 ]\n",
      "(195). 實際 : 25144.0 預測 : 20836.7869374047 差距 : 4307.2130625953\n"
     ]
    },
    {
     "name": "stdout",
     "output_type": "stream",
     "text": [
      "yhat: [20292.9172024 22157.7387228]\n",
      "(196). 實際 : 23911.0 預測 : 22157.738722803864 差距 : 1753.2612771961358\n"
     ]
    },
    {
     "name": "stdout",
     "output_type": "stream",
     "text": [
      "yhat: [26586.70608476 22616.37464018]\n",
      "(197). 實際 : 26093.0 預測 : 22616.374640177695 差距 : 3476.6253598223047\n"
     ]
    },
    {
     "name": "stdout",
     "output_type": "stream",
     "text": [
      "yhat: [20019.46628853 21216.70741742]\n",
      "(198). 實際 : 23833.0 預測 : 21216.70741742403 差距 : 2616.2925825759703\n"
     ]
    },
    {
     "name": "stdout",
     "output_type": "stream",
     "text": [
      "yhat: [26708.08424251 21317.81853309]\n",
      "(199). 實際 : 23368.0 預測 : 21317.818533085527 差距 : 2050.1814669144733\n"
     ]
    },
    {
     "name": "stdout",
     "output_type": "stream",
     "text": [
      "yhat: [18888.60069222 14797.70033284]\n",
      "(200). 實際 : 13032.0 預測 : 14797.700332836457 差距 : -1765.7003328364572\n"
     ]
    },
    {
     "name": "stdout",
     "output_type": "stream",
     "text": [
      "yhat: [18953.6144903  17295.56681437]\n",
      "(201). 實際 : 11918.0 預測 : 17295.566814372713 差距 : -5377.5668143727125\n"
     ]
    },
    {
     "name": "stdout",
     "output_type": "stream",
     "text": [
      "yhat: [11986.42563811 20828.95199052]\n",
      "(202). 實際 : 28392.0 預測 : 20828.951990518137 差距 : 7563.048009481863\n"
     ]
    },
    {
     "name": "stdout",
     "output_type": "stream",
     "text": [
      "yhat: [20615.03654022 22661.45974884]\n",
      "(203). 實際 : 36027.0 預測 : 22661.459748836183 差距 : 13365.540251163817\n"
     ]
    },
    {
     "name": "stdout",
     "output_type": "stream",
     "text": [
      "yhat: [29888.79094824 24763.32473063]\n",
      "(204). 實際 : 103460.0 預測 : 24763.324730629018 差距 : 78696.67526937099\n"
     ]
    },
    {
     "name": "stdout",
     "output_type": "stream",
     "text": [
      "yhat: [30174.04657332 27025.09570423]\n",
      "(205). 實際 : 34622.0 預測 : 27025.095704233783 差距 : 7596.904295766217\n"
     ]
    },
    {
     "name": "stdout",
     "output_type": "stream",
     "text": [
      "yhat: [93204.49779503 55672.06275414]\n",
      "(206). 實際 : 24292.0 預測 : 55672.06275413885 差距 : -31380.062754138853\n"
     ]
    },
    {
     "name": "stdout",
     "output_type": "stream",
     "text": [
      "yhat: [ -414.50591874 16146.23833037]\n",
      "(207). 實際 : 14203.0 預測 : 16146.238330367509 差距 : -1943.2383303675088\n"
     ]
    },
    {
     "name": "stdout",
     "output_type": "stream",
     "text": [
      "yhat: [30019.78572548 25577.15464357]\n",
      "(208). 實際 : 14164.0 預測 : 25577.154643573933 差距 : -11413.154643573933\n"
     ]
    },
    {
     "name": "stdout",
     "output_type": "stream",
     "text": [
      "yhat: [15975.93419531 25783.84098927]\n",
      "(209). 實際 : 22413.0 預測 : 25783.840989265787 差距 : -3370.8409892657874\n"
     ]
    },
    {
     "name": "stdout",
     "output_type": "stream",
     "text": [
      "yhat: [26229.72415446 25698.88270445]\n",
      "(210). 實際 : 22775.0 預測 : 25698.882704447708 差距 : -2923.8827044477075\n"
     ]
    },
    {
     "name": "stdout",
     "output_type": "stream",
     "text": [
      "yhat: [24141.34317226 39635.58491335]\n",
      "(211). 實際 : 25180.0 預測 : 39635.58491335231 差距 : -14455.584913352308\n"
     ]
    },
    {
     "name": "stdout",
     "output_type": "stream",
     "text": [
      "yhat: [37309.08640862 27918.91715606]\n",
      "(212). 實際 : 22898.0 預測 : 27918.91715606352 差距 : -5020.917156063519\n"
     ]
    },
    {
     "name": "stdout",
     "output_type": "stream",
     "text": [
      "yhat: [19509.85346355 16782.10172544]\n",
      "(213). 實際 : 17567.0 預測 : 16782.10172544117 差距 : 784.8982745588291\n"
     ]
    },
    {
     "name": "stdout",
     "output_type": "stream",
     "text": [
      "yhat: [20434.90111898 10595.71007067]\n",
      "(214). 實際 : 11514.0 預測 : 10595.710070674815 差距 : 918.2899293251849\n"
     ]
    },
    {
     "name": "stdout",
     "output_type": "stream",
     "text": [
      "yhat: [ 9294.96764501 14153.52918324]\n",
      "(215). 實際 : 10285.0 預測 : 14153.529183238385 差距 : -3868.5291832383846\n"
     ]
    },
    {
     "name": "stdout",
     "output_type": "stream",
     "text": [
      "yhat: [17870.31456936 20859.90122155]\n",
      "(216). 實際 : 21196.0 預測 : 20859.901221551652 差距 : 336.09877844834773\n"
     ]
    },
    {
     "name": "stdout",
     "output_type": "stream",
     "text": [
      "yhat: [19376.12438208 20217.80141807]\n",
      "(217). 實際 : 21977.0 預測 : 20217.801418074778 差距 : 1759.1985819252222\n"
     ]
    },
    {
     "name": "stdout",
     "output_type": "stream",
     "text": [
      "yhat: [23563.87236257 35587.16613111]\n",
      "(218). 實際 : 20992.0 預測 : 35587.16613111088 差距 : -14595.166131110876\n"
     ]
    },
    {
     "name": "stdout",
     "output_type": "stream",
     "text": [
      "yhat: [35445.59116863 25286.84032275]\n",
      "(219). 實際 : 23498.0 預測 : 25286.840322751785 差距 : -1788.8403227517847\n"
     ]
    },
    {
     "name": "stdout",
     "output_type": "stream",
     "text": [
      "yhat: [17339.50685732 14255.94645396]\n",
      "(220). 實際 : 19504.0 預測 : 14255.946453962602 差距 : 5248.053546037398\n"
     ]
    },
    {
     "name": "stdout",
     "output_type": "stream",
     "text": [
      "yhat: [17274.79632999 10262.73187736]\n",
      "(221). 實際 : 12564.0 預測 : 10262.731877357382 差距 : 2301.2681226426175\n"
     ]
    },
    {
     "name": "stdout",
     "output_type": "stream",
     "text": [
      "yhat: [12205.71922867 13760.12510687]\n",
      "(222). 實際 : 11270.0 預測 : 13760.125106869988 差距 : -2490.1251068699876\n"
     ]
    },
    {
     "name": "stdout",
     "output_type": "stream",
     "text": [
      "yhat: [14797.98909174 21724.34584787]\n",
      "(223). 實際 : 19540.0 預測 : 21724.345847869183 差距 : -2184.3458478691828\n"
     ]
    },
    {
     "name": "stdout",
     "output_type": "stream",
     "text": [
      "yhat: [18145.20449372 23630.60351509]\n",
      "(224). 實際 : 23110.0 預測 : 23630.60351509426 差距 : -520.6035150942589\n"
     ]
    },
    {
     "name": "stdout",
     "output_type": "stream",
     "text": [
      "yhat: [24133.3773903  31134.81067362]\n",
      "(225). 實際 : 22179.0 預測 : 31134.81067361708 差距 : -8955.810673617081\n"
     ]
    },
    {
     "name": "stdout",
     "output_type": "stream",
     "text": [
      "yhat: [31156.34878765 25539.67599384]\n",
      "(226). 實際 : 22912.0 預測 : 25539.675993844987 差距 : -2627.675993844987\n"
     ]
    },
    {
     "name": "stdout",
     "output_type": "stream",
     "text": [
      "yhat: [17886.51506037 16187.12945138]\n",
      "(227). 實際 : 19111.0 預測 : 16187.12945137568 差距 : 2923.87054862432\n"
     ]
    },
    {
     "name": "stdout",
     "output_type": "stream",
     "text": [
      "yhat: [19369.64465739 10751.68941916]\n",
      "(228). 實際 : 11404.0 預測 : 10751.689419161408 差距 : 652.3105808385917\n"
     ]
    },
    {
     "name": "stdout",
     "output_type": "stream",
     "text": [
      "yhat: [11342.76805008 12017.50153273]\n",
      "(229). 實際 : 10442.0 預測 : 12017.501532729437 差距 : -1575.5015327294368\n"
     ]
    },
    {
     "name": "stdout",
     "output_type": "stream",
     "text": [
      "yhat: [12438.53470347 19459.92123062]\n",
      "(230). 實際 : 22785.0 預測 : 19459.921230616674 差距 : 3325.0787693833263\n"
     ]
    },
    {
     "name": "stdout",
     "output_type": "stream",
     "text": [
      "yhat: [19049.57310921 25480.75514092]\n",
      "(231). 實際 : 24551.0 預測 : 25480.75514091923 差距 : -929.755140919231\n"
     ]
    },
    {
     "name": "stdout",
     "output_type": "stream",
     "text": [
      "yhat: [27509.87624386 30458.92641143]\n",
      "(232). 實際 : 23168.0 預測 : 30458.92641143008 差距 : -7290.926411430079\n"
     ]
    },
    {
     "name": "stdout",
     "output_type": "stream",
     "text": [
      "yhat: [28003.5542705  24505.77932672]\n",
      "(233). 實際 : 21852.0 預測 : 24505.779326716627 差距 : -2653.779326716627\n"
     ]
    },
    {
     "name": "stdout",
     "output_type": "stream",
     "text": [
      "yhat: [20152.87336921 15667.25950662]\n",
      "(234). 實際 : 19194.0 預測 : 15667.259506615961 差距 : 3526.740493384039\n"
     ]
    },
    {
     "name": "stdout",
     "output_type": "stream",
     "text": [
      "yhat: [16896.59782491 10331.30721902]\n",
      "(235). 實際 : 11018.0 預測 : 10331.307219024871 差距 : 686.6927809751287\n"
     ]
    },
    {
     "name": "stdout",
     "output_type": "stream",
     "text": [
      "yhat: [11957.77825901 12259.86409229]\n",
      "(236). 實際 : 10884.0 預測 : 12259.864092292866 差距 : -1375.8640922928662\n"
     ]
    },
    {
     "name": "stdout",
     "output_type": "stream",
     "text": [
      "yhat: [11506.04889535 20325.41365437]\n",
      "(237). 實際 : 23269.0 預測 : 20325.41365437321 差距 : 2943.5863456267907\n"
     ]
    },
    {
     "name": "stdout",
     "output_type": "stream",
     "text": [
      "yhat: [19953.19649    25710.74187626]\n",
      "(238). 實際 : 24424.0 預測 : 25710.74187626468 差距 : -1286.7418762646812\n"
     ]
    },
    {
     "name": "stdout",
     "output_type": "stream",
     "text": [
      "yhat: [28327.13725071 29417.61166809]\n",
      "(239). 實際 : 24371.0 預測 : 29417.611668093956 差距 : -5046.611668093956\n"
     ]
    },
    {
     "name": "stdout",
     "output_type": "stream",
     "text": [
      "yhat: [26649.77178493 23527.9660482 ]\n",
      "(240). 實際 : 23075.0 預測 : 23527.966048204507 差距 : -452.9660482045074\n"
     ]
    },
    {
     "name": "stdout",
     "output_type": "stream",
     "text": [
      "yhat: [21358.59300517 16128.3235218 ]\n",
      "(241). 實際 : 20250.0 預測 : 16128.3235217966 差距 : 4121.676478203401\n"
     ]
    },
    {
     "name": "stdout",
     "output_type": "stream",
     "text": [
      "yhat: [17714.26441202 11115.90620536]\n",
      "(242). 實際 : 11861.0 預測 : 11115.906205359795 差距 : 745.0937946402046\n"
     ]
    },
    {
     "name": "stdout",
     "output_type": "stream",
     "text": [
      "yhat: [12577.40210363 12648.53189719]\n",
      "(243). 實際 : 11225.0 預測 : 12648.531897185932 差距 : -1423.5318971859324\n"
     ]
    },
    {
     "name": "stdout",
     "output_type": "stream",
     "text": [
      "yhat: [12080.35517652 20919.65717546]\n",
      "(244). 實際 : 22537.0 預測 : 20919.657175457785 差距 : 1617.3428245422147\n"
     ]
    },
    {
     "name": "stdout",
     "output_type": "stream",
     "text": [
      "yhat: [20239.14383872 26078.24736998]\n",
      "(245). 實際 : 21492.0 預測 : 26078.24736998473 差距 : -4586.247369984729\n"
     ]
    },
    {
     "name": "stdout",
     "output_type": "stream",
     "text": [
      "yhat: [27687.52640354 28818.82816418]\n",
      "(246). 實際 : 22515.0 預測 : 28818.828164179413 差距 : -6303.828164179413\n"
     ]
    },
    {
     "name": "stdout",
     "output_type": "stream",
     "text": [
      "yhat: [24169.55820898 21477.28784682]\n",
      "(247). 實際 : 17011.0 預測 : 21477.28784681671 差距 : -4466.287846816711\n"
     ]
    },
    {
     "name": "stdout",
     "output_type": "stream",
     "text": [
      "yhat: [20855.29188709 16302.15049043]\n",
      "(248). 實際 : 14174.0 預測 : 16302.150490425032 差距 : -2128.1504904250323\n"
     ]
    },
    {
     "name": "stdout",
     "output_type": "stream",
     "text": [
      "yhat: [13231.44770382  7747.50151487]\n",
      "(249). 實際 : 10362.0 預測 : 7747.501514869089 差距 : 2614.498485130911\n"
     ]
    },
    {
     "name": "stdout",
     "output_type": "stream",
     "text": [
      "yhat: [ 8623.09055201 10307.19230933]\n",
      "(250). 實際 : 9335.0 預測 : 10307.19230933266 差距 : -972.1923093326604\n"
     ]
    },
    {
     "name": "stdout",
     "output_type": "stream",
     "text": [
      "yhat: [11055.62703402 20246.59113672]\n",
      "(251). 實際 : 15700.0 預測 : 20246.591136724015 差距 : -4546.591136724015\n"
     ]
    },
    {
     "name": "stdout",
     "output_type": "stream",
     "text": [
      "yhat: [18870.46393587 24860.79694548]\n",
      "(252). 實際 : 19798.0 預測 : 24860.7969454787 差距 : -5062.796945478702\n"
     ]
    },
    {
     "name": "stdout",
     "output_type": "stream",
     "text": [
      "yhat: [22226.27490723 25172.37799906]\n",
      "(253). 實際 : 21824.0 預測 : 25172.37799906286 差距 : -3348.377999062861\n"
     ]
    },
    {
     "name": "stdout",
     "output_type": "stream",
     "text": [
      "yhat: [24849.08626332 20184.53962375]\n",
      "(254). 實際 : 19523.0 預測 : 20184.539623746867 差距 : -661.5396237468667\n"
     ]
    },
    {
     "name": "stdout",
     "output_type": "stream",
     "text": [
      "yhat: [18273.88435434 14035.39017117]\n",
      "(255). 實際 : 17219.0 預測 : 14035.390171168972 差距 : 3183.6098288310277\n"
     ]
    },
    {
     "name": "stdout",
     "output_type": "stream",
     "text": [
      "yhat: [15221.7823264   9288.29652896]\n",
      "(256). 實際 : 8935.0 預測 : 9288.296528963303 差距 : -353.296528963303\n"
     ]
    },
    {
     "name": "stdout",
     "output_type": "stream",
     "text": [
      "yhat: [10757.84505474 10967.7109402 ]\n",
      "(257). 實際 : 7032.0 預測 : 10967.710940201767 差距 : -3935.710940201767\n"
     ]
    },
    {
     "name": "stdout",
     "output_type": "stream",
     "text": [
      "yhat: [ 9985.87936383 18994.99484987]\n",
      "(258). 實際 : 7482.0 預測 : 18994.9948498687 差距 : -11512.9948498687\n"
     ]
    },
    {
     "name": "stdout",
     "output_type": "stream",
     "text": [
      "yhat: [17748.97389221 23455.17427129]\n",
      "(259). 實際 : 22544.0 預測 : 23455.174271287724 差距 : -911.174271287724\n"
     ]
    },
    {
     "name": "stdout",
     "output_type": "stream",
     "text": [
      "yhat: [16151.17985193 21066.34756828]\n",
      "(260). 實際 : 21298.0 預測 : 21066.347568284888 差距 : 231.65243171511247\n"
     ]
    },
    {
     "name": "stdout",
     "output_type": "stream",
     "text": [
      "yhat: [25811.37990749 20330.06677192]\n",
      "(261). 實際 : 22732.0 預測 : 20330.066771924798 差距 : 2401.9332280752024\n"
     ]
    },
    {
     "name": "stdout",
     "output_type": "stream",
     "text": [
      "yhat: [16878.60422043 13412.20637407]\n",
      "(262). 實際 : 21045.0 預測 : 13412.206374073356 差距 : 7632.793625926644\n"
     ]
    },
    {
     "name": "stdout",
     "output_type": "stream",
     "text": [
      "yhat: [17737.88751921  9944.82734619]\n",
      "(263). 實際 : 13335.0 預測 : 9944.827346193533 差距 : 3390.1726538064668\n"
     ]
    },
    {
     "name": "stdout",
     "output_type": "stream",
     "text": [
      "yhat: [12483.08805704 12139.82136004]\n",
      "(264). 實際 : 11391.0 預測 : 12139.82136004022 差距 : -748.8213600402196\n"
     ]
    },
    {
     "name": "stdout",
     "output_type": "stream",
     "text": [
      "yhat: [12494.186731   19104.71204009]\n",
      "(265). 實際 : 25259.0 預測 : 19104.712040088612 差距 : 6154.287959911388\n"
     ]
    },
    {
     "name": "stdout",
     "output_type": "stream",
     "text": [
      "yhat: [18363.28216669 25416.11930314]\n",
      "(266). 實際 : 24147.0 預測 : 25416.119303142317 差距 : -1269.1193031423172\n"
     ]
    },
    {
     "name": "stdout",
     "output_type": "stream",
     "text": [
      "yhat: [30313.08894967 28793.41507153]\n",
      "(267). 實際 : 21998.0 預測 : 28793.415071527477 差距 : -6795.415071527477\n"
     ]
    },
    {
     "name": "stdout",
     "output_type": "stream",
     "text": [
      "yhat: [24003.45215697 21762.88453731]\n",
      "(268). 實際 : 22747.0 預測 : 21762.88453731359 差距 : 984.1154626864118\n"
     ]
    },
    {
     "name": "stdout",
     "output_type": "stream",
     "text": [
      "yhat: [20155.36958497 16044.13855516]\n",
      "(269). 實際 : 18490.0 預測 : 16044.138555160313 差距 : 2445.8614448396875\n"
     ]
    },
    {
     "name": "stdout",
     "output_type": "stream",
     "text": [
      "yhat: [17930.57412533 10626.12152975]\n",
      "(270). 實際 : 10296.0 預測 : 10626.121529750906 差距 : -330.1215297509061\n"
     ]
    },
    {
     "name": "stdout",
     "output_type": "stream",
     "text": [
      "yhat: [11423.65352925 11636.1894823 ]\n",
      "(271). 實際 : 10030.0 預測 : 11636.189482303409 差距 : -1606.189482303409\n"
     ]
    },
    {
     "name": "stdout",
     "output_type": "stream",
     "text": [
      "yhat: [10767.80858498 18861.48133442]\n",
      "(272). 實際 : 22543.0 預測 : 18861.48133441946 差距 : 3681.518665580541\n"
     ]
    },
    {
     "name": "stdout",
     "output_type": "stream",
     "text": [
      "yhat: [18440.33487937 24530.84499638]\n",
      "(273). 實際 : 25015.0 預測 : 24530.844996381948 差距 : 484.15500361805243\n"
     ]
    },
    {
     "name": "stdout",
     "output_type": "stream",
     "text": [
      "yhat: [27743.65888319 26383.44651601]\n",
      "(274). 實際 : 23998.0 預測 : 26383.44651601488 差距 : -2385.4465160148793\n"
     ]
    },
    {
     "name": "stdout",
     "output_type": "stream",
     "text": [
      "yhat: [24194.08751747 21742.89471999]\n",
      "(275). 實際 : 23718.0 預測 : 21742.894719986987 差距 : 1975.1052800130128\n"
     ]
    },
    {
     "name": "stdout",
     "output_type": "stream",
     "text": [
      "yhat: [21365.18380172 16759.51211567]\n",
      "(276). 實際 : 21753.0 預測 : 16759.512115665522 差距 : 4993.487884334478\n"
     ]
    },
    {
     "name": "stdout",
     "output_type": "stream",
     "text": [
      "yhat: [18539.72077389 11530.61001661]\n",
      "(277). 實際 : 16188.0 預測 : 11530.610016609997 差距 : 4657.389983390003\n"
     ]
    },
    {
     "name": "stdout",
     "output_type": "stream",
     "text": [
      "yhat: [13728.88489575 12809.24999226]\n",
      "(278). 實際 : 14226.0 預測 : 12809.249992258668 差距 : 1416.7500077413315\n"
     ]
    },
    {
     "name": "stdout",
     "output_type": "stream",
     "text": [
      "yhat: [14739.41646554 21973.69865863]\n",
      "(279). 實際 : 22161.0 預測 : 21973.698658629306 差距 : 187.301341370694\n"
     ]
    },
    {
     "name": "stdout",
     "output_type": "stream",
     "text": [
      "yhat: [21529.18172992 26901.86482166]\n",
      "(280). 實際 : 18583.0 預測 : 26901.864821664316 差距 : -8318.864821664316\n"
     ]
    },
    {
     "name": "stdout",
     "output_type": "stream",
     "text": [
      "yhat: [27361.69052664 26330.89642025]\n",
      "(281). 實際 : 20982.0 預測 : 26330.89642025253 差距 : -5348.896420252531\n"
     ]
    },
    {
     "name": "stdout",
     "output_type": "stream",
     "text": [
      "yhat: [19834.54980253 19812.58421362]\n",
      "(282). 實際 : 17968.0 預測 : 19812.58421361727 差距 : -1844.5842136172687\n"
     ]
    },
    {
     "name": "stdout",
     "output_type": "stream",
     "text": [
      "yhat: [20575.40093887 16381.61717122]\n",
      "(283). 實際 : 18621.0 預測 : 16381.617171223961 差距 : 2239.382828776039\n"
     ]
    },
    {
     "name": "stdout",
     "output_type": "stream",
     "text": [
      "yhat: [14431.32859543  9476.75989598]\n",
      "(284). 實際 : 10854.0 預測 : 9476.75989597679 差距 : 1377.2401040232107\n"
     ]
    },
    {
     "name": "stdout",
     "output_type": "stream",
     "text": [
      "yhat: [12670.74521332 11915.88287339]\n",
      "(285). 實際 : 10301.0 預測 : 11915.882873386083 差距 : -1614.8828733860828\n"
     ]
    },
    {
     "name": "stdout",
     "output_type": "stream",
     "text": [
      "yhat: [11074.2247926 19988.7410575]\n",
      "(286). 實際 : 24105.0 預測 : 19988.741057502026 差距 : 4116.258942497974\n"
     ]
    },
    {
     "name": "stdout",
     "output_type": "stream",
     "text": [
      "yhat: [19155.6166216  23934.04805732]\n",
      "(287). 實際 : 23536.0 預測 : 23934.048057319953 差距 : -398.04805731995293\n"
     ]
    },
    {
     "name": "stdout",
     "output_type": "stream",
     "text": [
      "yhat: [27595.13397655 25381.0762536 ]\n",
      "(288). 實際 : 22308.0 預測 : 25381.0762535967 差距 : -3073.0762535967006\n"
     ]
    },
    {
     "name": "stdout",
     "output_type": "stream",
     "text": [
      "yhat: [22314.46977113 20572.60373351]\n",
      "(289). 實際 : 23617.0 預測 : 20572.603733514254 差距 : 3044.3962664857463\n"
     ]
    },
    {
     "name": "stdout",
     "output_type": "stream",
     "text": [
      "yhat: [20684.94633824 17095.73087353]\n",
      "(290). 實際 : 23212.0 預測 : 17095.730873534634 差距 : 6116.269126465366\n"
     ]
    },
    {
     "name": "stdout",
     "output_type": "stream",
     "text": [
      "yhat: [19217.95542394 12133.68103216]\n",
      "(291). 實際 : 13320.0 預測 : 12133.681032155595 差距 : 1186.318967844405\n"
     ]
    },
    {
     "name": "stdout",
     "output_type": "stream",
     "text": [
      "yhat: [15329.54070017 14153.65355046]\n",
      "(292). 實際 : 10352.0 預測 : 14153.653550458237 差距 : -3801.653550458237\n"
     ]
    },
    {
     "name": "stdout",
     "output_type": "stream",
     "text": [
      "yhat: [12309.49604959 21469.88323114]\n",
      "(293). 實際 : 18203.0 預測 : 21469.88323113635 差距 : -3266.8832311363512\n"
     ]
    },
    {
     "name": "stdout",
     "output_type": "stream",
     "text": [
      "yhat: [19907.62845159 24908.87872889]\n",
      "(294). 實際 : 17104.0 預測 : 24908.87872888925 差距 : -7804.878728889249\n"
     ]
    },
    {
     "name": "stdout",
     "output_type": "stream",
     "text": [
      "yhat: [23523.82422095 23126.44104096]\n",
      "(295). 實際 : 13749.0 預測 : 23126.441040956917 差距 : -9377.441040956917\n"
     ]
    },
    {
     "name": "stdout",
     "output_type": "stream",
     "text": [
      "yhat: [18466.7445919  18511.91905488]\n",
      "(296). 實際 : 6428.0 預測 : 18511.919054881975 差距 : -12083.919054881975\n"
     ]
    },
    {
     "name": "stdout",
     "output_type": "stream",
     "text": [
      "yhat: [14884.78224859 13843.44231549]\n",
      "(297). 實際 : 4825.0 預測 : 13843.442315494482 差距 : -9018.442315494482\n"
     ]
    },
    {
     "name": "stdout",
     "output_type": "stream",
     "text": [
      "yhat: [7425.95390919 5125.61150617]\n",
      "(298). 實際 : 4981.0 預測 : 5125.611506172338 差距 : -144.6115061723376\n"
     ]
    },
    {
     "name": "stdout",
     "output_type": "stream",
     "text": [
      "yhat: [3490.24283342 5732.7419459 ]\n",
      "(299). 實際 : 4912.0 預測 : 5732.741945895299 差距 : -820.7419458952991\n"
     ]
    },
    {
     "name": "stdout",
     "output_type": "stream",
     "text": [
      "yhat: [ 7034.00220287 16112.9947591 ]\n",
      "(300). 實際 : 5426.0 預測 : 16112.994759098372 差距 : -10686.994759098372\n"
     ]
    },
    {
     "name": "stdout",
     "output_type": "stream",
     "text": [
      "yhat: [14201.55902392 19084.4683572 ]\n",
      "(301). 實際 : 7169.0 預測 : 19084.468357199643 差距 : -11915.468357199643\n"
     ]
    },
    {
     "name": "stdout",
     "output_type": "stream",
     "text": [
      "yhat: [13154.71117033 15879.94749552]\n",
      "(302). 實際 : 10364.0 預測 : 15879.947495521275 差距 : -5515.947495521275\n"
     ]
    },
    {
     "name": "stdout",
     "output_type": "stream",
     "text": [
      "yhat: [11313.29803642 11687.13598382]\n",
      "(303). 實際 : 25895.0 預測 : 11687.135983823082 差距 : 14207.864016176918\n"
     ]
    },
    {
     "name": "stdout",
     "output_type": "stream",
     "text": [
      "yhat: [10681.65952522  8697.13671701]\n",
      "(304). 實際 : 28600.0 預測 : 8697.136717014155 差距 : 19902.863282985847\n"
     ]
    },
    {
     "name": "stdout",
     "output_type": "stream",
     "text": [
      "yhat: [20340.25947988 10942.06737367]\n",
      "(305). 實際 : 25842.0 預測 : 10942.067373672666 差距 : 14899.932626327334\n"
     ]
    },
    {
     "name": "stdout",
     "output_type": "stream",
     "text": [
      "yhat: [17114.22654433 14578.78999636]\n",
      "(306). 實際 : 15452.0 預測 : 14578.789996358872 差距 : 873.2100036411284\n"
     ]
    },
    {
     "name": "stdout",
     "output_type": "stream",
     "text": [
      "yhat: [21313.0028513  24459.08795724]\n",
      "(307). 實際 : 33611.0 預測 : 24459.087957240365 差距 : 9151.912042759635\n"
     ]
    },
    {
     "name": "stdout",
     "output_type": "stream",
     "text": [
      "yhat: [19931.27217724 24102.21918147]\n",
      "(308). 實際 : 33246.0 預測 : 24102.21918146708 差距 : 9143.78081853292\n"
     ]
    },
    {
     "name": "stdout",
     "output_type": "stream",
     "text": [
      "yhat: [34224.89753116 27332.40451591]\n",
      "(309). 實際 : 40950.0 預測 : 27332.404515908616 差距 : 13617.595484091384\n"
     ]
    },
    {
     "name": "stdout",
     "output_type": "stream",
     "text": [
      "yhat: [26709.66448497 24483.39081697]\n",
      "(310). 實際 : 58480.0 預測 : 24483.390816969208 差距 : 33996.60918303079\n"
     ]
    },
    {
     "name": "stdout",
     "output_type": "stream",
     "text": [
      "yhat: [35523.12765278 27254.99059075]\n",
      "(311). 實際 : 51747.0 預測 : 27254.990590746937 差距 : 24492.009409253063\n"
     ]
    },
    {
     "name": "stdout",
     "output_type": "stream",
     "text": [
      "yhat: [44414.8311925  29173.71386571]\n",
      "(312). 實際 : 14361.0 預測 : 29173.713865708774 差距 : -14812.713865708774\n"
     ]
    },
    {
     "name": "stdout",
     "output_type": "stream",
     "text": [
      "yhat: [34581.16769852 27609.11882106]\n",
      "(313). 實際 : 13890.0 預測 : 27609.11882105821 差距 : -13719.118821058211\n"
     ]
    },
    {
     "name": "stdout",
     "output_type": "stream",
     "text": [
      "yhat: [11211.66962868 23659.13539569]\n",
      "(314). 實際 : 25363.0 預測 : 23659.13539569382 差距 : 1703.8646043061817\n"
     ]
    },
    {
     "name": "stdout",
     "output_type": "stream",
     "text": [
      "yhat: [25466.08755319 27319.06847515]\n",
      "(315). 實際 : 24769.0 預測 : 27319.068475145068 差距 : -2550.068475145068\n"
     ]
    },
    {
     "name": "stdout",
     "output_type": "stream",
     "text": [
      "yhat: [26899.00912312 26142.55156359]\n",
      "(316). 實際 : 15856.0 預測 : 26142.551563590998 差距 : -10286.551563590998\n"
     ]
    },
    {
     "name": "stdout",
     "output_type": "stream",
     "text": [
      "yhat: [24763.85706249 25908.03062691]\n",
      "(317). 實際 : 28550.0 預測 : 25908.030626909484 差距 : 2641.9693730905165\n"
     ]
    },
    {
     "name": "stdout",
     "output_type": "stream",
     "text": [
      "yhat: [17461.65230787 17335.95236664]\n",
      "(318). 實際 : 25586.0 預測 : 17335.952366638634 差距 : 8250.047633361366\n"
     ]
    },
    {
     "name": "stdout",
     "output_type": "stream",
     "text": [
      "yhat: [26228.59222316 14010.15119593]\n",
      "(319). 實際 : 16709.0 預測 : 14010.151195932878 差距 : 2698.848804067122\n"
     ]
    },
    {
     "name": "stdout",
     "output_type": "stream",
     "text": [
      "yhat: [14208.78934172 11843.87366107]\n",
      "(320). 實際 : 14990.0 預測 : 11843.873661066289 差距 : 3146.126338933711\n"
     ]
    },
    {
     "name": "stdout",
     "output_type": "stream",
     "text": [
      "yhat: [13995.65311174 22167.8136257 ]\n",
      "(321). 實際 : 34956.0 預測 : 22167.813625695955 差距 : 12788.186374304045\n"
     ]
    },
    {
     "name": "stdout",
     "output_type": "stream",
     "text": [
      "yhat: [22860.09160209 25867.28646576]\n",
      "(322). 實際 : 33462.0 預測 : 25867.286465759757 差距 : 7594.7135342402435\n"
     ]
    },
    {
     "name": "stdout",
     "output_type": "stream",
     "text": [
      "yhat: [35374.14524777 29371.14812593]\n",
      "(323). 實際 : 28469.0 預測 : 29371.148125930496 差距 : -902.1481259304965\n"
     ]
    },
    {
     "name": "stdout",
     "output_type": "stream",
     "text": [
      "yhat: [27904.31987885 30053.10995118]\n",
      "(324). 實際 : 30965.0 預測 : 30053.10995118437 差距 : 911.8900488156287\n"
     ]
    },
    {
     "name": "stdout",
     "output_type": "stream",
     "text": [
      "yhat: [30644.08075665 27776.59972842]\n",
      "(325). 實際 : 26753.0 預測 : 27776.599728424535 差距 : -1023.599728424535\n"
     ]
    },
    {
     "name": "stdout",
     "output_type": "stream",
     "text": [
      "yhat: [28032.57537931 17583.98377553]\n",
      "(326). 實際 : 17736.0 預測 : 17583.983775530924 差距 : 152.0162244690764\n"
     ]
    },
    {
     "name": "stdout",
     "output_type": "stream",
     "text": [
      "yhat: [16591.42478644 14742.33984049]\n",
      "(327). 實際 : 14520.0 預測 : 14742.33984049313 差距 : -222.3398404931304\n"
     ]
    },
    {
     "name": "stdout",
     "output_type": "stream",
     "text": [
      "yhat: [15594.9318193  24750.26205701]\n",
      "(328). 實際 : 28943.0 預測 : 24750.262057012933 差距 : 4192.737942987067\n"
     ]
    },
    {
     "name": "stdout",
     "output_type": "stream",
     "text": [
      "yhat: [24043.4625782  27100.11299982]\n",
      "(329). 實際 : 29599.0 預測 : 27100.11299982456 差距 : 2498.8870001754403\n"
     ]
    },
    {
     "name": "stdout",
     "output_type": "stream",
     "text": [
      "yhat: [31491.08750296 28039.72227532]\n",
      "(330). 實際 : 30964.0 預測 : 28039.722275323362 差距 : 2924.277724676638\n"
     ]
    },
    {
     "name": "stdout",
     "output_type": "stream",
     "text": [
      "yhat: [26823.3502097  29702.46412195]\n",
      "(331). 實際 : 30562.0 預測 : 29702.46412195114 差距 : 859.5358780488605\n"
     ]
    },
    {
     "name": "stdout",
     "output_type": "stream",
     "text": [
      "yhat: [32163.68471919 27906.5339769 ]\n",
      "(332). 實際 : 30899.0 預測 : 27906.53397690412 差距 : 2992.46602309588\n"
     ]
    },
    {
     "name": "stdout",
     "output_type": "stream",
     "text": [
      "yhat: [27086.904235   17355.25430552]\n",
      "(333). 實際 : 18874.0 預測 : 17355.25430551957 差距 : 1518.745694480429\n"
     ]
    },
    {
     "name": "stdout",
     "output_type": "stream",
     "text": [
      "yhat: [20135.39038102 14753.57489304]\n",
      "(334). 實際 : 18342.0 預測 : 14753.574893039122 差距 : 3588.425106960878\n"
     ]
    },
    {
     "name": "stdout",
     "output_type": "stream",
     "text": [
      "yhat: [14301.44379954 25209.5172284 ]\n",
      "(335). 實際 : 39668.0 預測 : 25209.517228404162 差距 : 14458.482771595838\n"
     ]
    },
    {
     "name": "stdout",
     "output_type": "stream",
     "text": [
      "yhat: [27985.05703582 29358.39138941]\n",
      "(336). 實際 : 32478.0 預測 : 29358.391389407236 差距 : 3119.6086105927643\n"
     ]
    },
    {
     "name": "stdout",
     "output_type": "stream",
     "text": [
      "yhat: [37972.17180162 31512.30737263]\n",
      "(337). 實際 : 29006.0 預測 : 31512.307372626383 差距 : -2506.307372626383\n"
     ]
    },
    {
     "name": "stdout",
     "output_type": "stream",
     "text": [
      "yhat: [28234.1296845  32525.58990773]\n",
      "(338). 實際 : 30415.0 預測 : 32525.589907732337 差距 : -2110.5899077323375\n"
     ]
    },
    {
     "name": "stdout",
     "output_type": "stream",
     "text": [
      "yhat: [32152.22952584 29241.48045327]\n",
      "(339). 實際 : 27966.0 預測 : 29241.480453268898 差距 : -1275.4804532688977\n"
     ]
    },
    {
     "name": "stdout",
     "output_type": "stream",
     "text": [
      "yhat: [27467.39048638 16053.16601574]\n",
      "(340). 實際 : 18644.0 預測 : 16053.166015736631 差距 : 2590.8339842633686\n"
     ]
    },
    {
     "name": "stdout",
     "output_type": "stream",
     "text": [
      "yhat: [17013.91917378 15127.02535224]\n",
      "(341). 實際 : 14194.0 預測 : 15127.025352242066 差距 : -933.0253522420662\n"
     ]
    },
    {
     "name": "stdout",
     "output_type": "stream",
     "text": [
      "yhat: [16252.96541251 26856.24300615]\n",
      "(342). 實際 : 30000.0 預測 : 26856.2430061537 差距 : 3143.7569938462984\n"
     ]
    },
    {
     "name": "stdout",
     "output_type": "stream",
     "text": [
      "yhat: [25077.6872613  28702.87742993]\n",
      "(343). 實際 : 30821.0 預測 : 28702.877429932458 差距 : 2118.1225700675423\n"
     ]
    },
    {
     "name": "stdout",
     "output_type": "stream",
     "text": [
      "yhat: [31451.88654664 30214.29336464]\n",
      "(344). 實際 : 29069.0 預測 : 30214.29336463735 差距 : -1145.2933646373494\n"
     ]
    },
    {
     "name": "stdout",
     "output_type": "stream",
     "text": [
      "yhat: [28886.13852066 30104.98536574]\n",
      "(345). 實際 : 31686.0 預測 : 30104.985365737775 差距 : 1581.0146342622247\n"
     ]
    },
    {
     "name": "stdout",
     "output_type": "stream",
     "text": [
      "yhat: [30337.51543534 28147.90373603]\n",
      "(346). 實際 : 26252.0 預測 : 28147.903736032637 差距 : -1895.9037360326365\n"
     ]
    },
    {
     "name": "stdout",
     "output_type": "stream",
     "text": [
      "yhat: [28550.64368624 18523.40092985]\n",
      "(347). 實際 : 16034.0 預測 : 18523.400929849056 差距 : -2489.4009298490564\n"
     ]
    },
    {
     "name": "stdout",
     "output_type": "stream",
     "text": [
      "yhat: [15920.62170946 13764.52679008]\n",
      "(348). 實際 : 13799.0 預測 : 13764.526790082724 差距 : 34.47320991727611\n"
     ]
    },
    {
     "name": "stdout",
     "output_type": "stream",
     "text": [
      "yhat: [13085.43063123 25792.51771103]\n",
      "(349). 實際 : 25774.0 預測 : 25792.517711032706 差距 : -18.517711032705847\n"
     ]
    },
    {
     "name": "stdout",
     "output_type": "stream",
     "text": [
      "yhat: [25948.96127676 28170.18832228]\n",
      "(350). 實際 : 26464.0 預測 : 28170.188322282633 差距 : -1706.1883222826327\n"
     ]
    },
    {
     "name": "stdout",
     "output_type": "stream",
     "text": [
      "yhat: [27190.21439335 27395.23883925]\n",
      "(351). 實際 : 17416.0 預測 : 27395.23883924952 差距 : -9979.23883924952\n"
     ]
    },
    {
     "name": "stdout",
     "output_type": "stream",
     "text": [
      "yhat: [26980.94409087 28981.13192053]\n",
      "(352). 實際 : 9843.0 預測 : 28981.13192052603 差距 : -19138.13192052603\n"
     ]
    },
    {
     "name": "stdout",
     "output_type": "stream",
     "text": [
      "yhat: [21613.4971903  23056.96064289]\n",
      "(353). 實際 : 8184.0 預測 : 23056.960642893035 差距 : -14872.960642893035\n"
     ]
    },
    {
     "name": "stdout",
     "output_type": "stream",
     "text": [
      "yhat: [13133.04210084  7887.35802189]\n",
      "(354). 實際 : 8390.0 預測 : 7887.358021892765 差距 : 502.64197810723545\n"
     ]
    },
    {
     "name": "stdout",
     "output_type": "stream",
     "text": [
      "yhat: [4097.03225413 3894.21850532]\n",
      "(355). 實際 : 9769.0 預測 : 3894.2185053180638 差距 : 5874.781494681936\n"
     ]
    },
    {
     "name": "stdout",
     "output_type": "stream",
     "text": [
      "yhat: [ 6858.70157876 19839.85719514]\n",
      "(356). 實際 : 23494.0 預測 : 19839.857195135206 差距 : 3654.142804864794\n"
     ]
    },
    {
     "name": "stdout",
     "output_type": "stream",
     "text": [
      "yhat: [21309.42118226 23364.53173691]\n",
      "(357). 實際 : 23983.0 預測 : 23364.531736906945 差距 : 618.4682630930547\n"
     ]
    },
    {
     "name": "stdout",
     "output_type": "stream",
     "text": [
      "yhat: [25943.21811097 25642.7996509 ]\n",
      "(358). 實際 : 25441.0 預測 : 25642.799650902765 差距 : -201.79965090276528\n"
     ]
    },
    {
     "name": "stdout",
     "output_type": "stream",
     "text": [
      "yhat: [24103.62045791 25291.22215725]\n",
      "(359). 實際 : 32092.0 預測 : 25291.222157245178 差距 : 6800.777842754822\n"
     ]
    },
    {
     "name": "stdout",
     "output_type": "stream",
     "text": [
      "yhat: [26649.13849796 23263.27005334]\n",
      "(360). 實際 : 27390.0 預測 : 23263.27005333907 差距 : 4126.729946660929\n"
     ]
    },
    {
     "name": "stdout",
     "output_type": "stream",
     "text": [
      "yhat: [27630.47363872 17047.22626355]\n",
      "(361). 實際 : 30932.0 預測 : 17047.22626354537 差距 : 13884.77373645463\n"
     ]
    },
    {
     "name": "stdout",
     "output_type": "stream",
     "text": [
      "yhat: [16679.08060566 13776.09685328]\n",
      "(362). 實際 : 39412.0 預測 : 13776.09685327915 差距 : 25635.903146720848\n"
     ]
    },
    {
     "name": "stdout",
     "output_type": "stream",
     "text": [
      "yhat: [24585.55799801 30896.44822192]\n",
      "(363). 實際 : 73136.0 預測 : 30896.44822192172 差距 : 42239.55177807828\n"
     ]
    },
    {
     "name": "stdout",
     "output_type": "stream",
     "text": [
      "yhat: [43514.13094431 38846.48745727]\n",
      "(364). 實際 : 80050.0 預測 : 38846.48745726738 差距 : 41203.51254273262\n"
     ]
    },
    {
     "name": "stdout",
     "output_type": "stream",
     "text": [
      "yhat: [61295.09377861 47653.99068377]\n",
      "(365). 實際 : 81867.0 預測 : 47653.990683769516 差距 : 34213.009316230484\n"
     ]
    },
    {
     "name": "stdout",
     "output_type": "stream",
     "text": [
      "yhat: [64849.67713123 55602.2788097 ]\n",
      "(366). 實際 : 72599.0 預測 : 55602.278809703894 差距 : 16996.721190296106\n"
     ]
    },
    {
     "name": "stdout",
     "output_type": "stream",
     "text": [
      "yhat: [69352.60338085 54733.16336663]\n",
      "(367). 實際 : 76506.0 預測 : 54733.16336663492 差距 : 21772.836633365077\n"
     ]
    },
    {
     "name": "stdout",
     "output_type": "stream",
     "text": [
      "yhat: [58639.06661791 44546.28533071]\n",
      "(368). 實際 : 43349.0 預測 : 44546.28533071357 差距 : -1197.2853307135665\n"
     ]
    },
    {
     "name": "stdout",
     "output_type": "stream",
     "text": [
      "yhat: [57143.10948767 42661.7604663 ]\n",
      "(369). 實際 : 37227.0 預測 : 42661.76046629735 差距 : -5434.760466297354\n"
     ]
    },
    {
     "name": "stdout",
     "output_type": "stream",
     "text": [
      "yhat: [33461.33124334 45462.42926712]\n",
      "(370). 實際 : 84313.0 預測 : 45462.42926711516 差距 : 38850.57073288484\n"
     ]
    },
    {
     "name": "stdout",
     "output_type": "stream",
     "text": [
      "yhat: [47266.47054097 44629.3888845 ]\n",
      "(371). 實際 : 76602.0 預測 : 44629.38888449568 差距 : 31972.611115504318\n"
     ]
    },
    {
     "name": "stdout",
     "output_type": "stream",
     "text": [
      "yhat: [77668.02139633 61127.92207638]\n",
      "(372). 實際 : 52581.0 預測 : 61127.922076375966 差距 : -8546.922076375966\n"
     ]
    },
    {
     "name": "stdout",
     "output_type": "stream",
     "text": [
      "yhat: [60706.17567153 55246.75890686]\n",
      "(373). 實際 : 21698.0 預測 : 55246.75890686404 差距 : -33548.75890686404\n"
     ]
    },
    {
     "name": "stdout",
     "output_type": "stream",
     "text": [
      "yhat: [48983.02730754 45190.78025247]\n",
      "(374). 實際 : 20652.0 預測 : 45190.78025246887 差距 : -24538.780252468867\n"
     ]
    },
    {
     "name": "stdout",
     "output_type": "stream",
     "text": [
      "yhat: [23001.50307618 17600.32572492]\n",
      "(375). 實際 : 13194.0 預測 : 17600.325724918777 差距 : -4406.325724918777\n"
     ]
    },
    {
     "name": "stdout",
     "output_type": "stream",
     "text": [
      "yhat: [15887.03739813 16326.68683   ]\n",
      "(376). 實際 : 12238.0 預測 : 16326.686829997803 差距 : -4088.686829997803\n"
     ]
    },
    {
     "name": "stdout",
     "output_type": "stream",
     "text": [
      "yhat: [10342.44040212 26793.00554848]\n",
      "(377). 實際 : 19482.0 預測 : 26793.005548477227 差距 : -7311.005548477227\n"
     ]
    },
    {
     "name": "stdout",
     "output_type": "stream",
     "text": [
      "yhat: [29693.37725646 31338.89807723]\n",
      "(378). 實際 : 20069.0 預測 : 31338.898077229867 差距 : -11269.898077229867\n"
     ]
    },
    {
     "name": "stdout",
     "output_type": "stream",
     "text": [
      "yhat: [25026.46188693 23659.4937644 ]\n",
      "(379). 實際 : nan 預測 : 23659.493764397906 差距 : nan\n"
     ]
    }
   ],
   "source": [
    "test_ts, predictions = arima.predict(\n",
    "    train_data, test_shifted, \n",
    "    field_name=fieldName, \n",
    "    act_field_name=actFiledName,\n",
    "    best_d=best_d,\n",
    "    best_p=best_p,\n",
    "    best_q=best_q,\n",
    "    training_window=training_window,\n",
    "    horizon=HORIZON\n",
    ")"
   ]
  },
  {
   "cell_type": "markdown",
   "id": "bacd68db-5bfa-43a3-a583-cff048cf9dec",
   "metadata": {
    "papermill": {
     "duration": 0.009389,
     "end_time": "2025-06-19T03:00:23.871766",
     "exception": false,
     "start_time": "2025-06-19T03:00:23.862377",
     "status": "completed"
    },
    "tags": []
   },
   "source": [
    "# 評估數據"
   ]
  },
  {
   "cell_type": "code",
   "execution_count": 11,
   "id": "59070cf7",
   "metadata": {
    "execution": {
     "iopub.execute_input": "2025-06-19T03:00:23.891409Z",
     "iopub.status.busy": "2025-06-19T03:00:23.891281Z",
     "iopub.status.idle": "2025-06-19T03:00:23.893393Z",
     "shell.execute_reply": "2025-06-19T03:00:23.893168Z"
    },
    "papermill": {
     "duration": 0.012525,
     "end_time": "2025-06-19T03:00:23.893949",
     "exception": false,
     "start_time": "2025-06-19T03:00:23.881424",
     "status": "completed"
    },
    "tags": []
   },
   "outputs": [
    {
     "name": "stdout",
     "output_type": "stream",
     "text": [
      "NaN 值的索引： []\n"
     ]
    }
   ],
   "source": [
    "# predictions 找出 nan 的值\n",
    "nan_mask = np.isnan(predictions)\n",
    "\n",
    "nan_indices = np.where(nan_mask)[0]\n",
    "print(\"NaN 值的索引：\", nan_indices)"
   ]
  },
  {
   "cell_type": "code",
   "execution_count": 12,
   "id": "7eef1717",
   "metadata": {
    "execution": {
     "iopub.execute_input": "2025-06-19T03:00:23.913862Z",
     "iopub.status.busy": "2025-06-19T03:00:23.913766Z",
     "iopub.status.idle": "2025-06-19T03:00:23.917731Z",
     "shell.execute_reply": "2025-06-19T03:00:23.917512Z"
    },
    "papermill": {
     "duration": 0.01496,
     "end_time": "2025-06-19T03:00:23.918322",
     "exception": false,
     "start_time": "2025-06-19T03:00:23.903362",
     "status": "completed"
    },
    "tags": []
   },
   "outputs": [
    {
     "name": "stdout",
     "output_type": "stream",
     "text": [
      "\u001b[93m# 評估預測結果\u001b[0m\n",
      "平均絕對誤差（MAE）: 246848236057547603968.00000\n",
      "平均絕對百分比誤差（MAPE）: 7277580001106979.00000\n",
      "均方誤差（MSE）: 23094005573349920655905000588010658321137664.00000\n",
      "均方根誤差（RMSE）: 4805622287836396912640.00000\n",
      "R square: -84175668989145190045078020618715136.00000\n"
     ]
    },
    {
     "name": "stderr",
     "output_type": "stream",
     "text": [
      "/Users/elliesu/Developer/nckuenv/lib/python3.12/site-packages/sklearn/metrics/_regression.py:492: FutureWarning: 'squared' is deprecated in version 1.4 and will be removed in 1.6. To calculate the root mean squared error, use the function'root_mean_squared_error'.\n",
      "  warnings.warn(\n"
     ]
    }
   ],
   "source": [
    "eval_df = test_ts.copy() \n",
    "test_acts = eval_df[actFiledName].values\n",
    "\n",
    "# predictions 若有 nan 補中位數\n",
    "predictions = np.nan_to_num(predictions, nan=np.nanmedian(predictions)) \n",
    "  \n",
    "mae, mape, mse, rmse, r_square = arima.score(actual=test_ts[actFiledName].values, predict=predictions)"
   ]
  },
  {
   "cell_type": "code",
   "execution_count": 13,
   "id": "6ae03f02-c567-4641-b809-b221db33cc4b",
   "metadata": {
    "execution": {
     "iopub.execute_input": "2025-06-19T03:00:23.938166Z",
     "iopub.status.busy": "2025-06-19T03:00:23.938069Z",
     "iopub.status.idle": "2025-06-19T03:00:23.942730Z",
     "shell.execute_reply": "2025-06-19T03:00:23.942513Z"
    },
    "papermill": {
     "duration": 0.015316,
     "end_time": "2025-06-19T03:00:23.943359",
     "exception": false,
     "start_time": "2025-06-19T03:00:23.928043",
     "status": "completed"
    },
    "tags": []
   },
   "outputs": [
    {
     "data": {
      "text/html": [
       "<div>\n",
       "<style scoped>\n",
       "    .dataframe tbody tr th:only-of-type {\n",
       "        vertical-align: middle;\n",
       "    }\n",
       "\n",
       "    .dataframe tbody tr th {\n",
       "        vertical-align: top;\n",
       "    }\n",
       "\n",
       "    .dataframe thead th {\n",
       "        text-align: right;\n",
       "    }\n",
       "</style>\n",
       "<table border=\"1\" class=\"dataframe\">\n",
       "  <thead>\n",
       "    <tr style=\"text-align: right;\">\n",
       "      <th></th>\n",
       "      <th>Actual</th>\n",
       "      <th>Predicted</th>\n",
       "      <th>Error</th>\n",
       "      <th>Percentage Error</th>\n",
       "    </tr>\n",
       "  </thead>\n",
       "  <tbody>\n",
       "    <tr>\n",
       "      <th>0</th>\n",
       "      <td>38519.0</td>\n",
       "      <td>30992.419118</td>\n",
       "      <td>7526.580882</td>\n",
       "      <td>0.195399</td>\n",
       "    </tr>\n",
       "    <tr>\n",
       "      <th>1</th>\n",
       "      <td>41804.0</td>\n",
       "      <td>50766.612515</td>\n",
       "      <td>8962.612515</td>\n",
       "      <td>0.214396</td>\n",
       "    </tr>\n",
       "    <tr>\n",
       "      <th>2</th>\n",
       "      <td>37041.0</td>\n",
       "      <td>47753.341850</td>\n",
       "      <td>10712.341850</td>\n",
       "      <td>0.289202</td>\n",
       "    </tr>\n",
       "    <tr>\n",
       "      <th>3</th>\n",
       "      <td>39725.0</td>\n",
       "      <td>59645.901595</td>\n",
       "      <td>19920.901595</td>\n",
       "      <td>0.501470</td>\n",
       "    </tr>\n",
       "    <tr>\n",
       "      <th>4</th>\n",
       "      <td>25155.0</td>\n",
       "      <td>34415.844377</td>\n",
       "      <td>9260.844377</td>\n",
       "      <td>0.368151</td>\n",
       "    </tr>\n",
       "    <tr>\n",
       "      <th>...</th>\n",
       "      <td>...</td>\n",
       "      <td>...</td>\n",
       "      <td>...</td>\n",
       "      <td>...</td>\n",
       "    </tr>\n",
       "    <tr>\n",
       "      <th>374</th>\n",
       "      <td>20652.0</td>\n",
       "      <td>45190.780252</td>\n",
       "      <td>24538.780252</td>\n",
       "      <td>1.188204</td>\n",
       "    </tr>\n",
       "    <tr>\n",
       "      <th>375</th>\n",
       "      <td>13194.0</td>\n",
       "      <td>17600.325725</td>\n",
       "      <td>4406.325725</td>\n",
       "      <td>0.333964</td>\n",
       "    </tr>\n",
       "    <tr>\n",
       "      <th>376</th>\n",
       "      <td>12238.0</td>\n",
       "      <td>16326.686830</td>\n",
       "      <td>4088.686830</td>\n",
       "      <td>0.334098</td>\n",
       "    </tr>\n",
       "    <tr>\n",
       "      <th>377</th>\n",
       "      <td>19482.0</td>\n",
       "      <td>26793.005548</td>\n",
       "      <td>7311.005548</td>\n",
       "      <td>0.375270</td>\n",
       "    </tr>\n",
       "    <tr>\n",
       "      <th>378</th>\n",
       "      <td>20069.0</td>\n",
       "      <td>31338.898077</td>\n",
       "      <td>11269.898077</td>\n",
       "      <td>0.561558</td>\n",
       "    </tr>\n",
       "  </tbody>\n",
       "</table>\n",
       "<p>379 rows × 4 columns</p>\n",
       "</div>"
      ],
      "text/plain": [
       "      Actual     Predicted         Error  Percentage Error\n",
       "0    38519.0  30992.419118   7526.580882          0.195399\n",
       "1    41804.0  50766.612515   8962.612515          0.214396\n",
       "2    37041.0  47753.341850  10712.341850          0.289202\n",
       "3    39725.0  59645.901595  19920.901595          0.501470\n",
       "4    25155.0  34415.844377   9260.844377          0.368151\n",
       "..       ...           ...           ...               ...\n",
       "374  20652.0  45190.780252  24538.780252          1.188204\n",
       "375  13194.0  17600.325725   4406.325725          0.333964\n",
       "376  12238.0  16326.686830   4088.686830          0.334098\n",
       "377  19482.0  26793.005548   7311.005548          0.375270\n",
       "378  20069.0  31338.898077  11269.898077          0.561558\n",
       "\n",
       "[379 rows x 4 columns]"
      ]
     },
     "execution_count": 13,
     "metadata": {},
     "output_type": "execute_result"
    }
   ],
   "source": [
    "# 創建 DataFrame\n",
    "data = {\n",
    "    'Actual': test_acts, \n",
    "    'Predicted': predictions, \n",
    "    'Error': np.abs(test_acts - predictions),\n",
    "    'Percentage Error': np.abs(test_acts - predictions) / test_acts\n",
    "}\n",
    "pd.DataFrame(data)"
   ]
  },
  {
   "cell_type": "markdown",
   "id": "6a7713d0",
   "metadata": {
    "papermill": {
     "duration": 0.009864,
     "end_time": "2025-06-19T03:00:23.963096",
     "exception": false,
     "start_time": "2025-06-19T03:00:23.953232",
     "status": "completed"
    },
    "tags": []
   },
   "source": [
    "# GARCH 模型前置分析"
   ]
  },
  {
   "cell_type": "markdown",
   "id": "4c66f5bd",
   "metadata": {
    "papermill": {
     "duration": 0.009537,
     "end_time": "2025-06-19T03:00:23.982379",
     "exception": false,
     "start_time": "2025-06-19T03:00:23.972842",
     "status": "completed"
    },
    "tags": []
   },
   "source": [
    "## 殘差診斷"
   ]
  },
  {
   "cell_type": "code",
   "execution_count": 14,
   "id": "6354040f",
   "metadata": {
    "execution": {
     "iopub.execute_input": "2025-06-19T03:00:24.002505Z",
     "iopub.status.busy": "2025-06-19T03:00:24.002386Z",
     "iopub.status.idle": "2025-06-19T03:00:24.303093Z",
     "shell.execute_reply": "2025-06-19T03:00:24.302831Z"
    },
    "papermill": {
     "duration": 0.311626,
     "end_time": "2025-06-19T03:00:24.303861",
     "exception": false,
     "start_time": "2025-06-19T03:00:23.992235",
     "status": "completed"
    },
    "tags": []
   },
   "outputs": [
    {
     "data": {
      "image/png": "[encoded data removed]",
      "text/plain": [
       "<Figure size 1500x1000 with 4 Axes>"
      ]
     },
     "metadata": {},
     "output_type": "display_data"
    }
   ],
   "source": [
    "# 殘差診斷(原本 Auto-ARIMA 模型的)，這個只是拿來分析用，實際跑的是拿 ARIMA 的\n",
    "auto_model.plot_diagnostics(figsize = (15, 10))\n",
    "plt.show()"
   ]
  },
  {
   "cell_type": "code",
   "execution_count": 15,
   "id": "9ab88d7b",
   "metadata": {
    "execution": {
     "iopub.execute_input": "2025-06-19T03:00:24.325915Z",
     "iopub.status.busy": "2025-06-19T03:00:24.325724Z",
     "iopub.status.idle": "2025-06-19T03:00:24.537812Z",
     "shell.execute_reply": "2025-06-19T03:00:24.537529Z"
    },
    "papermill": {
     "duration": 0.223412,
     "end_time": "2025-06-19T03:00:24.538516",
     "exception": false,
     "start_time": "2025-06-19T03:00:24.315104",
     "status": "completed"
    },
    "tags": []
   },
   "outputs": [
    {
     "data": {
      "image/png": "[encoded data removed]",
      "text/plain": [
       "<Figure size 1500x1000 with 4 Axes>"
      ]
     },
     "metadata": {},
     "output_type": "display_data"
    }
   ],
   "source": [
    "# 殘差診斷(原本 ARIMA 模型的)\n",
    "model_summary_fit.plot_diagnostics(figsize = (15, 10))\n",
    "plt.show()"
   ]
  },
  {
   "cell_type": "markdown",
   "id": "e5aba527",
   "metadata": {
    "papermill": {
     "duration": 0.011082,
     "end_time": "2025-06-19T03:00:24.563140",
     "exception": false,
     "start_time": "2025-06-19T03:00:24.552058",
     "status": "completed"
    },
    "tags": []
   },
   "source": [
    "## 白噪音檢定\n",
    "藉由 Ljung-Box 定觀察 ARIMA 模型的殘差項是否為隨機變動，若檢定結果呈現白噪音(隨機)，則可以知道ARIMA模型的配適程度良好，便直接做預測；然而，若檢定結果呈現誤差項目並非白噪音，則需要用 `GARCH 模型找出誤差項中的變異數解釋變量`。\n",
    "\n",
    "+ lb_stat : 這是 Ljung-Box 檢驗的檢驗統計量，用於檢查序列的自相關性，值越高表示序列具有較強的自相關性。\n",
    "+ lb_pvalue : 這是對應於 Ljung-Box 統計量的 p 值，`用於檢驗零假設，即序列是白噪聲`，p 值小於 0.05（或選擇的顯著性水平）表示可以拒絕零假設，即序列可能具有顯著的自相關性，不是白噪聲。"
   ]
  },
  {
   "cell_type": "code",
   "execution_count": 16,
   "id": "445ee3ce",
   "metadata": {
    "execution": {
     "iopub.execute_input": "2025-06-19T03:00:24.585747Z",
     "iopub.status.busy": "2025-06-19T03:00:24.585605Z",
     "iopub.status.idle": "2025-06-19T03:00:24.589974Z",
     "shell.execute_reply": "2025-06-19T03:00:24.589747Z"
    },
    "papermill": {
     "duration": 0.016444,
     "end_time": "2025-06-19T03:00:24.590631",
     "exception": false,
     "start_time": "2025-06-19T03:00:24.574187",
     "status": "completed"
    },
    "tags": []
   },
   "outputs": [
    {
     "name": "stdout",
     "output_type": "stream",
     "text": [
      "\u001b[93m# Ljung-Box 檢驗\u001b[0m\n",
      " H0: 誤差項為白噪音，資料是隨機的\n",
      " H1: 誤差項不是白噪音\n",
      "\n",
      "誤差項 (P-value >= 0.05)，不能拒絕原假設(H0 成立)，殘差 \"是\" 白噪聲，代表殘差項目中沒有其他解釋變量可以提取，可直接使用 ARIMA 檢驗，理論上就可以停了\n",
      "↓↓↓↓ Ljung-Box 檢驗結果 ↓↓↓↓\n"
     ]
    },
    {
     "data": {
      "text/html": [
       "<div>\n",
       "<style scoped>\n",
       "    .dataframe tbody tr th:only-of-type {\n",
       "        vertical-align: middle;\n",
       "    }\n",
       "\n",
       "    .dataframe tbody tr th {\n",
       "        vertical-align: top;\n",
       "    }\n",
       "\n",
       "    .dataframe thead th {\n",
       "        text-align: right;\n",
       "    }\n",
       "</style>\n",
       "<table border=\"1\" class=\"dataframe\">\n",
       "  <thead>\n",
       "    <tr style=\"text-align: right;\">\n",
       "      <th></th>\n",
       "      <th>lb_stat</th>\n",
       "      <th>lb_pvalue</th>\n",
       "    </tr>\n",
       "  </thead>\n",
       "  <tbody>\n",
       "    <tr>\n",
       "      <th>14</th>\n",
       "      <td>4.188634</td>\n",
       "      <td>0.99422</td>\n",
       "    </tr>\n",
       "  </tbody>\n",
       "</table>\n",
       "</div>"
      ],
      "text/plain": [
       "     lb_stat  lb_pvalue\n",
       "14  4.188634    0.99422"
      ]
     },
     "execution_count": 16,
     "metadata": {},
     "output_type": "execute_result"
    }
   ],
   "source": [
    "lb_pvalue, white_noise_arima = arima.arima_acorr_ljungbox(arima_resid, training_window)\n",
    "\n",
    "print('↓↓↓↓ Ljung-Box 檢驗結果 ↓↓↓↓') \n",
    "white_noise_arima"
   ]
  },
  {
   "cell_type": "markdown",
   "id": "fdd21952",
   "metadata": {
    "papermill": {
     "duration": 0.011093,
     "end_time": "2025-06-19T03:00:24.612923",
     "exception": false,
     "start_time": "2025-06-19T03:00:24.601830",
     "status": "completed"
    },
    "tags": []
   },
   "source": [
    "## ARCH Effect 檢定"
   ]
  },
  {
   "cell_type": "code",
   "execution_count": 17,
   "id": "58d70de5",
   "metadata": {
    "execution": {
     "iopub.execute_input": "2025-06-19T03:00:24.634851Z",
     "iopub.status.busy": "2025-06-19T03:00:24.634745Z",
     "iopub.status.idle": "2025-06-19T03:00:24.637703Z",
     "shell.execute_reply": "2025-06-19T03:00:24.637472Z"
    },
    "papermill": {
     "duration": 0.01438,
     "end_time": "2025-06-19T03:00:24.638295",
     "exception": false,
     "start_time": "2025-06-19T03:00:24.623915",
     "status": "completed"
    },
    "tags": []
   },
   "outputs": [
    {
     "name": "stdout",
     "output_type": "stream",
     "text": [
      "\u001b[93m# ARCH Effect 檢定\u001b[0m\n",
      " H0: 資料中不存在 ARCH 效應\n",
      " H1: 資料中存在 ARCH 效應\n",
      "\n",
      "殘差的方差 (P-value <= 0.05)，拒絕原假設，存在顯著的 ARCH 效應，需要進一步使用 GARCH\n",
      "↓↓↓↓ ARCH 檢驗結果 ↓↓↓↓\n",
      "ARCH 檢驗統計量: 179.88640619990107\n",
      "p 值: 6.827521213406688e-31\n",
      "F 統計量: 23.383524357385696\n",
      "F 統計量的 p 值: 1.1158498921742055e-42\n"
     ]
    }
   ],
   "source": [
    "arch_test_result = arima.arima_het_arch(arima_resid, training_window)"
   ]
  },
  {
   "cell_type": "markdown",
   "id": "3742f113",
   "metadata": {
    "papermill": {
     "duration": 0.02488,
     "end_time": "2025-06-19T03:00:24.673908",
     "exception": false,
     "start_time": "2025-06-19T03:00:24.649028",
     "status": "completed"
    },
    "tags": []
   },
   "source": [
    "# 顯示預測圖表"
   ]
  },
  {
   "cell_type": "code",
   "execution_count": 18,
   "id": "198c8fd7",
   "metadata": {
    "execution": {
     "iopub.execute_input": "2025-06-19T03:00:24.695785Z",
     "iopub.status.busy": "2025-06-19T03:00:24.695661Z",
     "iopub.status.idle": "2025-06-19T03:00:24.821929Z",
     "shell.execute_reply": "2025-06-19T03:00:24.821682Z"
    },
    "papermill": {
     "duration": 0.138034,
     "end_time": "2025-06-19T03:00:24.822605",
     "exception": false,
     "start_time": "2025-06-19T03:00:24.684571",
     "status": "completed"
    },
    "tags": []
   },
   "outputs": [
    {
     "name": "stdout",
     "output_type": "stream",
     "text": [
      "\u001b[93m# 顯示預測圖表\u001b[0m\n"
     ]
    },
    {
     "data": {
      "image/png": "[encoded data removed]",
      "text/plain": [
       "<Figure size 800x200 with 1 Axes>"
      ]
     },
     "metadata": {},
     "output_type": "display_data"
    },
    {
     "data": {
      "image/png": "[encoded data removed]",
      "text/plain": [
       "<Figure size 800x200 with 1 Axes>"
      ]
     },
     "metadata": {},
     "output_type": "display_data"
    },
    {
     "data": {
      "image/png": "[encoded data removed]",
      "text/plain": [
       "<Figure size 800x200 with 1 Axes>"
      ]
     },
     "metadata": {},
     "output_type": "display_data"
    }
   ],
   "source": [
    "title = f'Test {fieldName}:{predict_types}, MAE:{round(mae, 5)}, MAPE:{round(mape, 5)}'\n",
    "\n",
    "arima.show_predict_chart(\n",
    "    eval_df,   \n",
    "    actual = test_acts,\n",
    "    predict = predictions,\n",
    "    title = title\n",
    ")\n",
    "\n",
    "plt.figure(figsize=(8, 2))\n",
    "plt.plot(test_acts, label='Actual')\n",
    "plt.title('測試集')\n",
    "plt.show()\n",
    "\n",
    "plt.figure(figsize=(8, 2))\n",
    "plt.plot(predictions)\n",
    "plt.title('預測結果')\n",
    "plt.show()"
   ]
  },
  {
   "cell_type": "markdown",
   "id": "b6e99b07-2483-4fa8-b2df-fdf38b5e9b63",
   "metadata": {
    "papermill": {
     "duration": 0.01198,
     "end_time": "2025-06-19T03:00:24.847957",
     "exception": false,
     "start_time": "2025-06-19T03:00:24.835977",
     "status": "completed"
    },
    "tags": []
   },
   "source": [
    "# 儲存結果"
   ]
  },
  {
   "cell_type": "code",
   "execution_count": 19,
   "id": "31686513-7c6c-42f8-929a-319ab2d20a8f",
   "metadata": {
    "execution": {
     "iopub.execute_input": "2025-06-19T03:00:24.872678Z",
     "iopub.status.busy": "2025-06-19T03:00:24.872526Z",
     "iopub.status.idle": "2025-06-19T03:00:24.876115Z",
     "shell.execute_reply": "2025-06-19T03:00:24.875785Z"
    },
    "papermill": {
     "duration": 0.017357,
     "end_time": "2025-06-19T03:00:24.877024",
     "exception": false,
     "start_time": "2025-06-19T03:00:24.859667",
     "status": "completed"
    },
    "tags": []
   },
   "outputs": [
    {
     "name": "stdout",
     "output_type": "stream",
     "text": [
      "\u001b[93m# 儲存評估結果到 JSON 檔案\u001b[0m\n",
      "{'label': 'GroupCount', 'predicteds': [1], 'arima_p': 8, 'arima_d': 1, 'arima_q': 10, 'aic': 8457.500335518098, 'test_mae': 2.468482360575476e+20, 'test_mape': 7277580001106978.0, 'test_mse': 2.309400557334992e+43, 'test_rmse': 4.805622287836397e+21, 'test_r_square': -8.417566898914519e+34, 'ar_pvalue': '0.4684407019', 'ma_pvalue': '0.1811016251', 'lb_pvalue': 0.9942203422835486, 'arch_pvalue': 6.827521213406688e-31}\n",
      "儲存評估結果到 ARIMA/_Model/GroupCount_data1.result.json\n"
     ]
    }
   ],
   "source": [
    "arima.save_json_file(\n",
    "    result_file_name, \n",
    "    label = fieldName,\n",
    "    predicteds = predict_types,\n",
    "    best_p = best_p,\n",
    "    best_d = best_d,\n",
    "    best_q = best_q,\n",
    "    best_aic = best_aic,\n",
    "    best_ar_pvalue = best_ar_pvalue,\n",
    "    best_ma_pvalue = best_ma_pvalue,\n",
    "    mae_test = mae,\n",
    "    mape_test = mape, \n",
    "    mse_test = mse,\n",
    "    rmse_test = rmse,\n",
    "    r_square_test = r_square,\n",
    "    lb_pvalue = lb_pvalue,\n",
    "    arch_pvalue = arch_test_result[1]\n",
    ") "
   ]
  }
 ],
 "metadata": {
  "kernelspec": {
   "display_name": "nckuenv",
   "language": "python",
   "name": "nckuenv"
  },
  "language_info": {
   "codemirror_mode": {
    "name": "ipython",
    "version": 3
   },
   "file_extension": ".py",
   "mimetype": "text/x-python",
   "name": "python",
   "nbconvert_exporter": "python",
   "pygments_lexer": "ipython3",
   "version": "3.12.4"
  },
  "papermill": {
   "default_parameters": {},
   "duration": 231.617443,
   "end_time": "2025-06-19T03:00:27.510517",
   "environment_variables": {},
   "exception": null,
   "input_path": "Temp_runtime.ipynb",
   "output_path": "ARIMA/GroupCount/ARIMA_data1.ipynb",
   "parameters": {},
   "start_time": "2025-06-19T02:56:35.893074",
   "version": "2.6.0"
  }
 },
 "nbformat": 4,
 "nbformat_minor": 5
}