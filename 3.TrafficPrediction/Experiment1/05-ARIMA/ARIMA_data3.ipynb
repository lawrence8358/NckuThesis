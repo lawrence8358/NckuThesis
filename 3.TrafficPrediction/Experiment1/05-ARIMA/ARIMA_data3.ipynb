{
 "cells": [
  {
   "cell_type": "markdown",
   "id": "0ec5b60c-856b-4b65-811b-2b2b69cad641",
   "metadata": {
    "papermill": {
     "duration": 0.003544,
     "end_time": "2025-06-19T03:00:28.807966",
     "exception": false,
     "start_time": "2025-06-19T03:00:28.804422",
     "status": "completed"
    },
    "tags": []
   },
   "source": [
    "# 參考網站 \n",
    "+ [微軟的範例](https://github.com/microsoft/ML-For-Beginners/tree/main/7-TimeSeries/2-ARIMA)\n",
    "+ [ARIMA-GARCH 模型(上)](https://medium.com/tej-api-%E9%87%91%E8%9E%8D%E8%B3%87%E6%96%99%E5%88%86%E6%9E%90/%E8%B3%87%E6%96%99%E7%A7%91%E5%AD%B8-%E5%8D%81-arima-garch%E6%A8%A1%E5%9E%8B-%E4%B8%8A-4cf07dac75fd)"
   ]
  },
  {
   "cell_type": "markdown",
   "id": "a5cd9408",
   "metadata": {
    "papermill": {
     "duration": 0.002369,
     "end_time": "2025-06-19T03:00:28.813088",
     "exception": false,
     "start_time": "2025-06-19T03:00:28.810719",
     "status": "completed"
    },
    "tags": []
   },
   "source": [
    "# 參考網站 \n",
    "+ [微軟的範例](https://github.com/microsoft/ML-For-Beginners/tree/main/7-TimeSeries/2-ARIMA)\n",
    "+ [ARIMA-GARCH 模型(上)](https://medium.com/tej-api-%E9%87%91%E8%9E%8D%E8%B3%87%E6%96%99%E5%88%86%E6%9E%90/%E8%B3%87%E6%96%99%E7%A7%91%E5%AD%B8-%E5%8D%81-arima-garch%E6%A8%A1%E5%9E%8B-%E4%B8%8A-4cf07dac75fd)"
   ]
  },
  {
   "cell_type": "markdown",
   "id": "e507bd4a",
   "metadata": {
    "papermill": {
     "duration": 0.002178,
     "end_time": "2025-06-19T03:00:28.817417",
     "exception": false,
     "start_time": "2025-06-19T03:00:28.815239",
     "status": "completed"
    },
    "tags": []
   },
   "source": [
    "# 參數設定"
   ]
  },
  {
   "cell_type": "code",
   "execution_count": 1,
   "id": "e104c664",
   "metadata": {
    "execution": {
     "iopub.execute_input": "2025-06-19T03:00:28.822364Z",
     "iopub.status.busy": "2025-06-19T03:00:28.822143Z",
     "iopub.status.idle": "2025-06-19T03:00:28.825129Z",
     "shell.execute_reply": "2025-06-19T03:00:28.824868Z"
    },
    "papermill": {
     "duration": 0.006239,
     "end_time": "2025-06-19T03:00:28.825803",
     "exception": false,
     "start_time": "2025-06-19T03:00:28.819564",
     "status": "completed"
    },
    "tags": []
   },
   "outputs": [],
   "source": [
    "HORIZON = 1 # 0: 預設當日、1: 預測隔日(原本深度學習)，程式寫法僅支援 0,1\n",
    "\n",
    "predict_types = [3]\n",
    "fieldName = 'GroupCount'\n",
    "\n",
    "# predict_types = [1]\n",
    "# fieldName = 'GroupCount'\n",
    "\n",
    "# training_window = @training_window@ # 過去天數，用於訓練資料中的歷史資料長度\n",
    "# predict_type = @predict_type@\n",
    "# fieldName = '@label_column@' \n",
    "\n",
    "# ==== 底下的參數基本上都不要亂動 ====\n",
    "training_window = 14  # 過去天數，用於訓練資料中的歷史資料長度 \n",
    "train_split_rate = 0.04  # 訓練集佔整體資料集的比例\n",
    "# includeTraingData = False  # 資料來源是否包含訓練集最後 14 天，正常要包含，但有少數一些資料會有問題，若遇到有問題，把這個改成 False\n",
    " \n",
    "\n",
    "actFiledName = fieldName \n",
    "if HORIZON == 1:\n",
    "    actFiledName = f'{actFiledName}1'\n",
    "    \n",
    "model_dir = 'ARIMA/_Model'"
   ]
  },
  {
   "cell_type": "markdown",
   "id": "2d7164c1-3b25-454e-b698-1b01e0177548",
   "metadata": {
    "papermill": {
     "duration": 0.001946,
     "end_time": "2025-06-19T03:00:28.829733",
     "exception": false,
     "start_time": "2025-06-19T03:00:28.827787",
     "status": "completed"
    },
    "tags": []
   },
   "source": [
    "# 定義類別"
   ]
  },
  {
   "cell_type": "code",
   "execution_count": 2,
   "id": "9cf1d82a",
   "metadata": {
    "execution": {
     "iopub.execute_input": "2025-06-19T03:00:28.834196Z",
     "iopub.status.busy": "2025-06-19T03:00:28.834098Z",
     "iopub.status.idle": "2025-06-19T03:00:29.788378Z",
     "shell.execute_reply": "2025-06-19T03:00:29.788077Z"
    },
    "papermill": {
     "duration": 0.957472,
     "end_time": "2025-06-19T03:00:29.789082",
     "exception": false,
     "start_time": "2025-06-19T03:00:28.831610",
     "status": "completed"
    },
    "tags": []
   },
   "outputs": [
    {
     "name": "stdout",
     "output_type": "stream",
     "text": [
      "/Users/elliesu/Developer/nckuenv\n"
     ]
    }
   ],
   "source": [
    "# 重新載入 Lib，讓檔案可以直接修改使用 \n",
    "import importlib\n",
    "import ArimaLib \n",
    "importlib.reload(ArimaLib)   \n",
    "\n",
    "from ArimaLib import * \n",
    "arima = ArimaLib()\n",
    "\n",
    "import sys\n",
    "print(sys.prefix)"
   ]
  },
  {
   "cell_type": "markdown",
   "id": "bbed42f9",
   "metadata": {
    "papermill": {
     "duration": 0.001891,
     "end_time": "2025-06-19T03:00:29.793118",
     "exception": false,
     "start_time": "2025-06-19T03:00:29.791227",
     "status": "completed"
    },
    "tags": []
   },
   "source": [
    "# 清除舊的訓練資料"
   ]
  },
  {
   "cell_type": "code",
   "execution_count": 3,
   "id": "f32ad035",
   "metadata": {
    "execution": {
     "iopub.execute_input": "2025-06-19T03:00:29.797427Z",
     "iopub.status.busy": "2025-06-19T03:00:29.797185Z",
     "iopub.status.idle": "2025-06-19T03:00:29.799357Z",
     "shell.execute_reply": "2025-06-19T03:00:29.799133Z"
    },
    "papermill": {
     "duration": 0.005053,
     "end_time": "2025-06-19T03:00:29.799983",
     "exception": false,
     "start_time": "2025-06-19T03:00:29.794930",
     "status": "completed"
    },
    "tags": []
   },
   "outputs": [
    {
     "name": "stdout",
     "output_type": "stream",
     "text": [
      "result_file_name: ARIMA/_Model/GroupCount_data3.result.json\n"
     ]
    }
   ],
   "source": [
    "result_file_name = arima.reset_data(\n",
    "    model_dir, \n",
    "    label_name = fieldName, \n",
    "    predicteds = predict_types\n",
    ")"
   ]
  },
  {
   "cell_type": "markdown",
   "id": "4761aae3",
   "metadata": {
    "papermill": {
     "duration": 0.001894,
     "end_time": "2025-06-19T03:00:29.803873",
     "exception": false,
     "start_time": "2025-06-19T03:00:29.801979",
     "status": "completed"
    },
    "tags": []
   },
   "source": [
    "# 載入數據"
   ]
  },
  {
   "cell_type": "code",
   "execution_count": 4,
   "id": "4b0f3759-245a-459a-9963-316766e14b6a",
   "metadata": {
    "execution": {
     "iopub.execute_input": "2025-06-19T03:00:29.808159Z",
     "iopub.status.busy": "2025-06-19T03:00:29.808062Z",
     "iopub.status.idle": "2025-06-19T03:00:29.818577Z",
     "shell.execute_reply": "2025-06-19T03:00:29.818315Z"
    },
    "papermill": {
     "duration": 0.013419,
     "end_time": "2025-06-19T03:00:29.819208",
     "exception": false,
     "start_time": "2025-06-19T03:00:29.805789",
     "status": "completed"
    },
    "tags": []
   },
   "outputs": [
    {
     "name": "stdout",
     "output_type": "stream",
     "text": [
      "\u001b[93m# 載入數據\u001b[0m\n"
     ]
    },
    {
     "data": {
      "text/html": [
       "<div>\n",
       "<style scoped>\n",
       "    .dataframe tbody tr th:only-of-type {\n",
       "        vertical-align: middle;\n",
       "    }\n",
       "\n",
       "    .dataframe tbody tr th {\n",
       "        vertical-align: top;\n",
       "    }\n",
       "\n",
       "    .dataframe thead th {\n",
       "        text-align: right;\n",
       "    }\n",
       "</style>\n",
       "<table border=\"1\" class=\"dataframe\">\n",
       "  <thead>\n",
       "    <tr style=\"text-align: right;\">\n",
       "      <th></th>\n",
       "      <th>GroupCount</th>\n",
       "    </tr>\n",
       "    <tr>\n",
       "      <th>RequestTime</th>\n",
       "      <th></th>\n",
       "    </tr>\n",
       "  </thead>\n",
       "  <tbody>\n",
       "    <tr>\n",
       "      <th>2023-04-02</th>\n",
       "      <td>12172</td>\n",
       "    </tr>\n",
       "    <tr>\n",
       "      <th>2023-04-03</th>\n",
       "      <td>14427</td>\n",
       "    </tr>\n",
       "    <tr>\n",
       "      <th>2023-04-04</th>\n",
       "      <td>13731</td>\n",
       "    </tr>\n",
       "    <tr>\n",
       "      <th>2023-04-05</th>\n",
       "      <td>17825</td>\n",
       "    </tr>\n",
       "    <tr>\n",
       "      <th>2023-04-06</th>\n",
       "      <td>41521</td>\n",
       "    </tr>\n",
       "    <tr>\n",
       "      <th>...</th>\n",
       "      <td>...</td>\n",
       "    </tr>\n",
       "    <tr>\n",
       "      <th>2024-04-26</th>\n",
       "      <td>32929</td>\n",
       "    </tr>\n",
       "    <tr>\n",
       "      <th>2024-04-27</th>\n",
       "      <td>22126</td>\n",
       "    </tr>\n",
       "    <tr>\n",
       "      <th>2024-04-28</th>\n",
       "      <td>19550</td>\n",
       "    </tr>\n",
       "    <tr>\n",
       "      <th>2024-04-29</th>\n",
       "      <td>34535</td>\n",
       "    </tr>\n",
       "    <tr>\n",
       "      <th>2024-04-30</th>\n",
       "      <td>33590</td>\n",
       "    </tr>\n",
       "  </tbody>\n",
       "</table>\n",
       "<p>395 rows × 1 columns</p>\n",
       "</div>"
      ],
      "text/plain": [
       "             GroupCount\n",
       "RequestTime            \n",
       "2023-04-02        12172\n",
       "2023-04-03        14427\n",
       "2023-04-04        13731\n",
       "2023-04-05        17825\n",
       "2023-04-06        41521\n",
       "...                 ...\n",
       "2024-04-26        32929\n",
       "2024-04-27        22126\n",
       "2024-04-28        19550\n",
       "2024-04-29        34535\n",
       "2024-04-30        33590\n",
       "\n",
       "[395 rows x 1 columns]"
      ]
     },
     "execution_count": 4,
     "metadata": {},
     "output_type": "execute_result"
    }
   ],
   "source": [
    "arima_data = arima.load_data(predict_types)[[fieldName]]\n",
    "arima_data"
   ]
  },
  {
   "cell_type": "markdown",
   "id": "c1f38426-2715-4ca9-a07d-8507d69c153d",
   "metadata": {
    "papermill": {
     "duration": 0.002022,
     "end_time": "2025-06-19T03:00:29.823396",
     "exception": false,
     "start_time": "2025-06-19T03:00:29.821374",
     "status": "completed"
    },
    "tags": []
   },
   "source": [
    "# 切割訓練和測試資料集"
   ]
  },
  {
   "cell_type": "code",
   "execution_count": 5,
   "id": "133203f5",
   "metadata": {
    "execution": {
     "iopub.execute_input": "2025-06-19T03:00:29.827867Z",
     "iopub.status.busy": "2025-06-19T03:00:29.827769Z",
     "iopub.status.idle": "2025-06-19T03:00:29.829738Z",
     "shell.execute_reply": "2025-06-19T03:00:29.829524Z"
    },
    "papermill": {
     "duration": 0.004856,
     "end_time": "2025-06-19T03:00:29.830322",
     "exception": false,
     "start_time": "2025-06-19T03:00:29.825466",
     "status": "completed"
    },
    "tags": []
   },
   "outputs": [
    {
     "name": "stdout",
     "output_type": "stream",
     "text": [
      "\u001b[93m# 切割訓練和測試資料集，split rate 0.04\u001b[0m\n",
      "這裡切割訓練和測試跟深度學習不同，這裡只是單純的要切割測試資料集區間，實際上並沒有用到訓練集\n",
      "data length: 395\n",
      "train_data.shape: (15, 1)\n",
      "test_data.shape: (380, 1)\n"
     ]
    }
   ],
   "source": [
    "train_data, test_data = arima.split_train_test_data(arima_data, train_split_rate)\n",
    "# train_data, test_data = arima.split_train_test_data2(arima_data, training_window=training_window)"
   ]
  },
  {
   "cell_type": "markdown",
   "id": "de018e92-9474-4878-9b29-76cc105e2907",
   "metadata": {
    "papermill": {
     "duration": 0.002001,
     "end_time": "2025-06-19T03:00:29.834393",
     "exception": false,
     "start_time": "2025-06-19T03:00:29.832392",
     "status": "completed"
    },
    "tags": []
   },
   "source": [
    "# 原始資料視覺化"
   ]
  },
  {
   "cell_type": "code",
   "execution_count": 6,
   "id": "80aa4aa9-29b7-470e-97fe-f77b7eaef3df",
   "metadata": {
    "execution": {
     "iopub.execute_input": "2025-06-19T03:00:29.838815Z",
     "iopub.status.busy": "2025-06-19T03:00:29.838727Z",
     "iopub.status.idle": "2025-06-19T03:00:30.060047Z",
     "shell.execute_reply": "2025-06-19T03:00:30.054733Z"
    },
    "papermill": {
     "duration": 0.225066,
     "end_time": "2025-06-19T03:00:30.061467",
     "exception": false,
     "start_time": "2025-06-19T03:00:29.836401",
     "status": "completed"
    },
    "tags": []
   },
   "outputs": [
    {
     "data": {
      "image/png": "[encoded data removed]",
      "text/plain": [
       "<Figure size 800x200 with 1 Axes>"
      ]
     },
     "metadata": {},
     "output_type": "display_data"
    },
    {
     "data": {
      "image/png": "[encoded data removed]",
      "text/plain": [
       "<Figure size 800x200 with 1 Axes>"
      ]
     },
     "metadata": {},
     "output_type": "display_data"
    }
   ],
   "source": [
    "plt.figure(figsize=(8, 2))\n",
    "plt.plot(arima_data.index, arima_data[fieldName], label='完整')\n",
    "\n",
    "plt.xlabel('RequestTime')\n",
    "plt.ylabel(fieldName)\n",
    "plt.legend()\n",
    "plt.show()\n",
    "\n",
    "plt.figure(figsize=(8, 2))\n",
    "plt.plot(train_data.index, train_data[fieldName], label='Train Data')\n",
    "plt.plot(test_data.index, test_data[fieldName], label='Test Data', linestyle='--')\n",
    "\n",
    "plt.xlabel('RequestTime')\n",
    "plt.ylabel(fieldName)\n",
    "plt.legend()\n",
    "plt.show()"
   ]
  },
  {
   "cell_type": "markdown",
   "id": "c6cc95e7-ee37-4442-a0d8-7e52dfe73e4c",
   "metadata": {
    "execution": {
     "iopub.execute_input": "2024-06-22T10:55:49.481597Z",
     "iopub.status.busy": "2024-06-22T10:55:49.481524Z",
     "iopub.status.idle": "2024-06-22T10:55:49.483170Z",
     "shell.execute_reply": "2024-06-22T10:55:49.482836Z",
     "shell.execute_reply.started": "2024-06-22T10:55:49.481589Z"
    },
    "papermill": {
     "duration": 0.004293,
     "end_time": "2025-06-19T03:00:30.073405",
     "exception": false,
     "start_time": "2025-06-19T03:00:30.069112",
     "status": "completed"
    },
    "tags": []
   },
   "source": [
    "# 找出最佳參數"
   ]
  },
  {
   "cell_type": "code",
   "execution_count": 7,
   "id": "97ac2766",
   "metadata": {
    "execution": {
     "iopub.execute_input": "2025-06-19T03:00:30.085406Z",
     "iopub.status.busy": "2025-06-19T03:00:30.085096Z",
     "iopub.status.idle": "2025-06-19T03:01:03.071345Z",
     "shell.execute_reply": "2025-06-19T03:01:03.071060Z"
    },
    "papermill": {
     "duration": 32.99265,
     "end_time": "2025-06-19T03:01:03.074190",
     "exception": false,
     "start_time": "2025-06-19T03:00:30.081540",
     "status": "completed"
    },
    "tags": []
   },
   "outputs": [
    {
     "name": "stdout",
     "output_type": "stream",
     "text": [
      "395\n",
      "\u001b[93m# 找到最佳的 p, d, q 值，window_size: 14 \u001b[0m\n"
     ]
    },
    {
     "name": "stdout",
     "output_type": "stream",
     "text": [
      "\n",
      "Best model:  ARIMA(10,0,10)(0,0,0)[0]          \n",
      "Total fit time: 32.907 seconds\n",
      "                               SARIMAX Results                                \n",
      "==============================================================================\n",
      "Dep. Variable:                      y   No. Observations:                  395\n",
      "Model:             SARIMAX(10, 0, 10)   Log Likelihood               -4173.763\n",
      "Date:                Thu, 19 Jun 2025   AIC                           8389.526\n",
      "Time:                        11:01:03   BIC                           8473.083\n",
      "Sample:                             0   HQIC                          8422.632\n",
      "                                - 395                                         \n",
      "Covariance Type:                  opg                                         \n",
      "==============================================================================\n",
      "                 coef    std err          z      P>|z|      [0.025      0.975]\n",
      "------------------------------------------------------------------------------\n",
      "ar.L1         -0.0438      0.754     -0.058      0.954      -1.522       1.435\n",
      "ar.L2          0.0891      0.551      0.162      0.871      -0.990       1.169\n",
      "ar.L3          0.3861      0.230      1.680      0.093      -0.064       0.837\n",
      "ar.L4         -0.0215      0.147     -0.146      0.884      -0.309       0.266\n",
      "ar.L5         -0.0165      0.128     -0.128      0.898      -0.268       0.235\n",
      "ar.L6          0.0551      0.104      0.528      0.597      -0.150       0.260\n",
      "ar.L7          0.9293      0.100      9.330      0.000       0.734       1.125\n",
      "ar.L8          0.0973      0.680      0.143      0.886      -1.236       1.431\n",
      "ar.L9         -0.1486      0.474     -0.314      0.754      -1.077       0.780\n",
      "ar.L10        -0.3301      0.267     -1.236      0.216      -0.853       0.193\n",
      "ma.L1          0.8679      0.764      1.136      0.256      -0.630       2.366\n",
      "ma.L2          0.3747      0.499      0.752      0.452      -0.602       1.352\n",
      "ma.L3         -0.0723      0.253     -0.285      0.775      -0.569       0.424\n",
      "ma.L4          0.0365      0.162      0.225      0.822      -0.282       0.355\n",
      "ma.L5          0.1349      0.138      0.977      0.329      -0.136       0.406\n",
      "ma.L6          0.0099      0.146      0.068      0.946      -0.275       0.295\n",
      "ma.L7         -0.8372      0.126     -6.645      0.000      -1.084      -0.590\n",
      "ma.L8         -0.7764      0.625     -1.242      0.214      -2.001       0.449\n",
      "ma.L9         -0.2709      0.435     -0.623      0.533      -1.123       0.581\n",
      "ma.L10         0.0298      0.254      0.117      0.907      -0.469       0.529\n",
      "sigma2      9.701e+07   2.94e-08    3.3e+15      0.000     9.7e+07     9.7e+07\n",
      "===================================================================================\n",
      "Ljung-Box (L1) (Q):                   0.00   Jarque-Bera (JB):             26223.08\n",
      "Prob(Q):                              1.00   Prob(JB):                         0.00\n",
      "Heteroskedasticity (H):               0.34   Skew:                             3.61\n",
      "Prob(H) (two-sided):                  0.00   Kurtosis:                        42.26\n",
      "===================================================================================\n",
      "\n",
      "Warnings:\n",
      "[1] Covariance matrix calculated using the outer product of gradients (complex-step).\n",
      "[2] Covariance matrix is singular or near-singular, with condition number 1.81e+32. Standard errors may be unstable.\n",
      "最佳的 AIC 值: 8389.526195987411\n",
      "最佳的 BIC 值: 8473.082797050334\n",
      "最佳的 p 值: 10\n",
      "最佳的 d 值: 0\n",
      "最佳的 q 值: 10\n",
      "pvalues: ['0.9536467099', '0.8714937113', '0.0928842291', '0.8835937055', '0.8977795053', '0.5974438189', '0.0000000000', '0.8863483884', '0.7537773849', '0.2164141404', '0.2560427868', '0.4522314459', '0.7753997260', '0.8221699388', '0.3287587496', '0.9455972467', '0.0000000000', '0.2141307342', '0.5331032175', '0.9066515335', '0.0000000000']\n",
      "best_ar_pvalue: 0.2560427868\n",
      "best_ma_pvalue: 0.0000000000\n"
     ]
    }
   ],
   "source": [
    "# if includeTraingData:\n",
    "#     print(f'使用訓練集前 {training_window} 天')\n",
    "#     aic_data = [x for x in train_data[fieldName]]\n",
    "#     aic_data = aic_data[(-training_window):] \n",
    "#     aic_data.extend(test_data[fieldName].values) \n",
    "# else:\n",
    "#     print(f'不使用訓練集前 {training_window} 天')\n",
    "#     aic_data = test_data[fieldName].values\n",
    "\n",
    "aic_data = arima_data[fieldName].values\n",
    "print(len(aic_data))\n",
    "\n",
    "auto_model, best_p, best_d, best_q, best_aic, arima_resid, best_ar_pvalue, best_ma_pvalue = \\\n",
    "    arima.find_best_config(aic_data, window_size=training_window)\n",
    "# 基本上選出來的 P-Vaule 都要小於 0.05，才達到顯著的效果，代表是平穩的序列"
   ]
  },
  {
   "cell_type": "markdown",
   "id": "d4e15454",
   "metadata": {
    "papermill": {
     "duration": 0.00241,
     "end_time": "2025-06-19T03:01:03.079144",
     "exception": false,
     "start_time": "2025-06-19T03:01:03.076734",
     "status": "completed"
    },
    "tags": []
   },
   "source": [
    "# 使用 ARMIA 套件再次驗證"
   ]
  },
  {
   "cell_type": "code",
   "execution_count": 8,
   "id": "6fd66cc1",
   "metadata": {
    "execution": {
     "iopub.execute_input": "2025-06-19T03:01:03.084498Z",
     "iopub.status.busy": "2025-06-19T03:01:03.084378Z",
     "iopub.status.idle": "2025-06-19T03:01:04.137813Z",
     "shell.execute_reply": "2025-06-19T03:01:04.137568Z"
    },
    "papermill": {
     "duration": 1.056932,
     "end_time": "2025-06-19T03:01:04.138518",
     "exception": false,
     "start_time": "2025-06-19T03:01:03.081586",
     "status": "completed"
    },
    "tags": []
   },
   "outputs": [
    {
     "name": "stdout",
     "output_type": "stream",
     "text": [
      "\u001b[93m# 檢查 ARIMA 模型\u001b[0m\n"
     ]
    },
    {
     "name": "stderr",
     "output_type": "stream",
     "text": [
      "/Users/elliesu/Developer/nckuenv/lib/python3.12/site-packages/statsmodels/tsa/statespace/sarimax.py:966: UserWarning: Non-stationary starting autoregressive parameters found. Using zeros as starting parameters.\n",
      "  warn('Non-stationary starting autoregressive parameters'\n"
     ]
    },
    {
     "name": "stdout",
     "output_type": "stream",
     "text": [
      "                               SARIMAX Results                                \n",
      "==============================================================================\n",
      "Dep. Variable:                      y   No. Observations:                  395\n",
      "Model:               ARIMA(10, 0, 10)   Log Likelihood               -4169.932\n",
      "Date:                Thu, 19 Jun 2025   AIC                           8383.863\n",
      "Time:                        11:01:04   BIC                           8471.399\n",
      "Sample:                             0   HQIC                          8418.545\n",
      "                                - 395                                         \n",
      "Covariance Type:                  opg                                         \n",
      "==============================================================================\n",
      "                 coef    std err          z      P>|z|      [0.025      0.975]\n",
      "------------------------------------------------------------------------------\n",
      "const       3.403e+04   2538.380     13.406      0.000    2.91e+04     3.9e+04\n",
      "ar.L1          0.2304      0.700      0.329      0.742      -1.141       1.602\n",
      "ar.L2          0.5195      0.968      0.536      0.592      -1.379       2.418\n",
      "ar.L3         -0.2125      0.603     -0.352      0.725      -1.395       0.970\n",
      "ar.L4          0.0002      0.118      0.002      0.999      -0.231       0.232\n",
      "ar.L5         -0.1242      0.112     -1.113      0.266      -0.343       0.094\n",
      "ar.L6         -0.0156      0.186     -0.084      0.933      -0.379       0.348\n",
      "ar.L7          0.8944      0.158      5.664      0.000       0.585       1.204\n",
      "ar.L8         -0.2909      0.580     -0.501      0.616      -1.428       0.847\n",
      "ar.L9         -0.5647      0.879     -0.643      0.520      -2.287       1.157\n",
      "ar.L10         0.1053      0.499      0.211      0.833      -0.873       1.084\n",
      "ma.L1          0.5768      0.685      0.842      0.400      -0.766       1.919\n",
      "ma.L2         -0.2768      0.634     -0.436      0.663      -1.520       0.967\n",
      "ma.L3          0.0161      0.251      0.064      0.949      -0.475       0.507\n",
      "ma.L4          0.1297      0.298      0.435      0.664      -0.455       0.714\n",
      "ma.L5          0.2265      0.240      0.945      0.345      -0.243       0.696\n",
      "ma.L6          0.1815      0.320      0.568      0.570      -0.445       0.808\n",
      "ma.L7         -0.7402      0.232     -3.195      0.001      -1.194      -0.286\n",
      "ma.L8         -0.2868      0.555     -0.517      0.605      -1.375       0.801\n",
      "ma.L9          0.4476      0.640      0.700      0.484      -0.806       1.702\n",
      "ma.L10         0.2135      0.156      1.366      0.172      -0.093       0.520\n",
      "sigma2      9.468e+07      0.200   4.75e+08      0.000    9.47e+07    9.47e+07\n",
      "===================================================================================\n",
      "Ljung-Box (L1) (Q):                   0.01   Jarque-Bera (JB):             26311.48\n",
      "Prob(Q):                              0.91   Prob(JB):                         0.00\n",
      "Heteroskedasticity (H):               0.33   Skew:                             3.69\n",
      "Prob(H) (two-sided):                  0.00   Kurtosis:                        42.30\n",
      "===================================================================================\n",
      "\n",
      "Warnings:\n",
      "[1] Covariance matrix calculated using the outer product of gradients (complex-step).\n",
      "[2] Covariance matrix is singular or near-singular, with condition number 2.52e+24. Standard errors may be unstable.\n"
     ]
    }
   ],
   "source": [
    "model_summary_fit = arima.check_arima_model(aic_data, best_p, best_d, best_q)"
   ]
  },
  {
   "cell_type": "markdown",
   "id": "f619600e-80cd-46e6-808c-2e2a9b6dee91",
   "metadata": {
    "papermill": {
     "duration": 0.002602,
     "end_time": "2025-06-19T03:01:04.144033",
     "exception": false,
     "start_time": "2025-06-19T03:01:04.141431",
     "status": "completed"
    },
    "tags": []
   },
   "source": [
    "# Shift 預測資料"
   ]
  },
  {
   "cell_type": "code",
   "execution_count": 9,
   "id": "e0a0bd9b-c49d-4ec1-8d8b-cbba0d29ec9f",
   "metadata": {
    "execution": {
     "iopub.execute_input": "2025-06-19T03:01:04.149540Z",
     "iopub.status.busy": "2025-06-19T03:01:04.149448Z",
     "iopub.status.idle": "2025-06-19T03:01:04.152371Z",
     "shell.execute_reply": "2025-06-19T03:01:04.152150Z"
    },
    "papermill": {
     "duration": 0.006452,
     "end_time": "2025-06-19T03:01:04.152991",
     "exception": false,
     "start_time": "2025-06-19T03:01:04.146539",
     "status": "completed"
    },
    "tags": []
   },
   "outputs": [
    {
     "name": "stdout",
     "output_type": "stream",
     "text": [
      "\u001b[93m# 整理預測未來的資料\u001b[0m\n",
      "380\n"
     ]
    }
   ],
   "source": [
    "test_shifted = arima.shift_data(test_data, fieldName, HORIZON)\n",
    "test_shifted.head()\n",
    "print(len(test_shifted))"
   ]
  },
  {
   "cell_type": "markdown",
   "id": "6a5d28d6-5bbc-451b-aef7-c6d7cb64c603",
   "metadata": {
    "papermill": {
     "duration": 0.002551,
     "end_time": "2025-06-19T03:01:04.158239",
     "exception": false,
     "start_time": "2025-06-19T03:01:04.155688",
     "status": "completed"
    },
    "tags": []
   },
   "source": [
    "# 執行預測"
   ]
  },
  {
   "cell_type": "code",
   "execution_count": 10,
   "id": "521a47e4",
   "metadata": {
    "execution": {
     "iopub.execute_input": "2025-06-19T03:01:04.163868Z",
     "iopub.status.busy": "2025-06-19T03:01:04.163768Z",
     "iopub.status.idle": "2025-06-19T03:04:23.057075Z",
     "shell.execute_reply": "2025-06-19T03:04:23.056804Z"
    },
    "papermill": {
     "duration": 198.896984,
     "end_time": "2025-06-19T03:04:23.057781",
     "exception": false,
     "start_time": "2025-06-19T03:01:04.160797",
     "status": "completed"
    },
    "tags": []
   },
   "outputs": [
    {
     "name": "stdout",
     "output_type": "stream",
     "text": [
      "\u001b[93m# 開始預測\u001b[0m\n",
      "第一個預測日 :  2023-04-17 00:00:00\n",
      "第一個預測日，前 {training_window} 日數據 :               GroupCount\n",
      "RequestTime            \n",
      "2023-04-03        14427\n",
      "2023-04-04        13731\n",
      "2023-04-05        17825\n",
      "2023-04-06        41521\n",
      "2023-04-07        35866\n",
      "2023-04-08        22108\n",
      "2023-04-09        23114\n",
      "2023-04-10        44226\n",
      "2023-04-11        44386\n",
      "2023-04-12        51507\n",
      "2023-04-13        48272\n",
      "2023-04-14        51376\n",
      "2023-04-15        37490\n",
      "2023-04-16        26776\n",
      "第一個預測日當日 :  50143.0\n",
      "第一個預測日隔日 :  42924.0\n",
      "第一個預測日，前 {training_window} 日數據 :  [12172, 14427, 13731, 17825, 41521, 35866, 22108, 23114, 44226, 44386, 51507, 48272, 51376, 37490, 26776]\n",
      "最佳的 p 值: 10\n",
      "最佳的 d 值: 0\n",
      "最佳的 q 值: 10\n",
      "-------------------------------------------------------\n",
      "-------------------------------------------------------\n",
      "\n",
      "yhat: [28403.4994804  36916.19864593]\n",
      "( 0). 實際 : 42924.0 預測 : 36916.19864592755 差距 : 6007.80135407245\n"
     ]
    },
    {
     "name": "stderr",
     "output_type": "stream",
     "text": [
      "/Users/elliesu/Developer/nckuenv/lib/python3.12/site-packages/statsmodels/tsa/statespace/sarimax.py:866: UserWarning: Too few observations to estimate starting parameters for ARMA and trend. All parameters except for variances will be set to zeros.\n",
      "  warn('Too few observations to estimate starting parameters%s.'\n"
     ]
    },
    {
     "name": "stdout",
     "output_type": "stream",
     "text": [
      "yhat: [52422.53091189 37148.64103932]\n",
      "( 1). 實際 : 43556.0 預測 : 37148.64103932295 差距 : 6407.358960677047\n",
      "yhat: [35615.47576502 28997.21738798]\n",
      "( 2). 實際 : 43756.0 預測 : 28997.21738798495 差距 : 14758.78261201505\n"
     ]
    },
    {
     "name": "stdout",
     "output_type": "stream",
     "text": [
      "yhat: [31048.86885071 31237.49409726]\n",
      "( 3). 實際 : 42312.0 預測 : 31237.494097257888 差距 : 11074.505902742112\n",
      "yhat: [28774.48915338 47257.11928377]\n",
      "( 4). 實際 : 27920.0 預測 : 47257.119283772656 差距 : -19337.119283772656\n"
     ]
    },
    {
     "name": "stdout",
     "output_type": "stream",
     "text": [
      "yhat: [52154.34814697 22107.46663113]\n",
      "( 5). 實際 : 23347.0 預測 : 22107.466631132163 差距 : 1239.5333688678365\n",
      "yhat: [25904.43741412 42793.41735194]\n",
      "( 6). 實際 : 42904.0 預測 : 42793.41735193655 差距 : 110.5826480634496\n"
     ]
    },
    {
     "name": "stdout",
     "output_type": "stream",
     "text": [
      "yhat: [32411.07181215 52323.46425934]\n",
      "( 7). 實際 : 41392.0 預測 : 52323.464259338485 差距 : -10931.464259338485\n",
      "yhat: [36948.28271069 34416.58729959]\n",
      "( 8). 實際 : 42693.0 預測 : 34416.58729958944 差距 : 8276.412700410561\n"
     ]
    },
    {
     "name": "stdout",
     "output_type": "stream",
     "text": [
      "yhat: [33630.7855997  40083.51775767]\n",
      "( 9). 實際 : 48575.0 預測 : 40083.517757671754 差距 : 8491.482242328246\n",
      "yhat: [41465.95959645 39610.62211396]\n",
      "(10). 實際 : 40120.0 預測 : 39610.622113959376 差距 : 509.3778860406237\n"
     ]
    },
    {
     "name": "stdout",
     "output_type": "stream",
     "text": [
      "yhat: [41199.31968124 23070.01013597]\n",
      "(11). 實際 : 22265.0 預測 : 23070.01013597111 差距 : -805.0101359711116\n",
      "yhat: [22752.90446178 21858.87010439]\n",
      "(12). 實際 : 19269.0 預測 : 21858.87010439135 差距 : -2589.8701043913497\n"
     ]
    },
    {
     "name": "stdout",
     "output_type": "stream",
     "text": [
      "yhat: [22001.23165543 37048.18203853]\n",
      "(13). 實際 : 24632.0 預測 : 37048.18203852688 差距 : -12416.18203852688\n",
      "yhat: [36685.22134821 39928.90800664]\n",
      "(14). 實際 : 40302.0 預測 : 39928.908006640675 差距 : 373.091993359325\n"
     ]
    },
    {
     "name": "stdout",
     "output_type": "stream",
     "text": [
      "yhat: [42255.62893758 50822.50216013]\n",
      "(15). 實際 : 40291.0 預測 : 50822.50216013192 差距 : -10531.502160131917\n",
      "yhat: [51225.65647172 52439.27693557]\n",
      "(16). 實際 : 37709.0 預測 : 52439.27693556853 差距 : -14730.27693556853\n"
     ]
    },
    {
     "name": "stdout",
     "output_type": "stream",
     "text": [
      "yhat: [59497.23580522 45791.21592305]\n",
      "(17). 實際 : 35487.0 預測 : 45791.21592305487 差距 : -10304.215923054871\n",
      "yhat: [44807.83368741 10120.52318069]\n",
      "(18). 實際 : 24306.0 預測 : 10120.523180686469 差距 : 14185.476819313531\n"
     ]
    },
    {
     "name": "stdout",
     "output_type": "stream",
     "text": [
      "yhat: [ 6757.72385577 -8269.18187997]\n",
      "(19). 實際 : 21035.0 預測 : -8269.181879973272 差距 : 29304.181879973272\n",
      "yhat: [ 3919.23483892 18219.76928416]\n",
      "(20). 實際 : 34405.0 預測 : 18219.769284155293 差距 : 16185.230715844707\n"
     ]
    },
    {
     "name": "stdout",
     "output_type": "stream",
     "text": [
      "yhat: [24582.02496315 33512.43568434]\n",
      "(21). 實際 : 36245.0 預測 : 33512.43568433508 差距 : 2732.5643156649166\n",
      "yhat: [44870.56849514 42747.78083451]\n",
      "(22). 實際 : 36565.0 預測 : 42747.78083450752 差距 : -6182.780834507517\n"
     ]
    },
    {
     "name": "stdout",
     "output_type": "stream",
     "text": [
      "yhat: [39972.60971482 41113.0247328 ]\n",
      "(23). 實際 : 39546.0 預測 : 41113.02473280209 差距 : -1567.0247328020923\n",
      "yhat: [43335.18393255 36868.0541013 ]\n",
      "(24). 實際 : 34654.0 預測 : 36868.0541012989 差距 : -2214.054101298898\n"
     ]
    },
    {
     "name": "stdout",
     "output_type": "stream",
     "text": [
      "yhat: [30372.57975455 22812.89287549]\n",
      "(25). 實際 : 19803.0 預測 : 22812.89287549364 差距 : -3009.8928754936387\n",
      "yhat: [23501.97010771 27256.26634794]\n",
      "(26). 實際 : 17761.0 預測 : 27256.266347941215 差距 : -9495.266347941215\n"
     ]
    },
    {
     "name": "stderr",
     "output_type": "stream",
     "text": [
      "/Users/elliesu/Developer/nckuenv/lib/python3.12/site-packages/statsmodels/tsa/statespace/sarimax.py:978: UserWarning: Non-invertible starting MA parameters found. Using zeros as starting parameters.\n",
      "  warn('Non-invertible starting MA parameters found.'\n"
     ]
    },
    {
     "name": "stdout",
     "output_type": "stream",
     "text": [
      "yhat: [32399.00406415 27189.82830179]\n",
      "(27). 實際 : 39217.0 預測 : 27189.828301787493 差距 : 12027.171698212507\n",
      "yhat: [33757.37416137 40139.38227025]\n",
      "(28). 實際 : 40537.0 預測 : 40139.38227024561 差距 : 397.6177297543909\n"
     ]
    },
    {
     "name": "stdout",
     "output_type": "stream",
     "text": [
      "yhat: [34646.10992665 51057.30998786]\n",
      "(29). 實際 : 41466.0 預測 : 51057.30998785718 差距 : -9591.309987857181\n",
      "yhat: [42429.41453746 49788.67282016]\n",
      "(30). 實際 : 48281.0 預測 : 49788.67282015756 差距 : -1507.6728201575606\n"
     ]
    },
    {
     "name": "stdout",
     "output_type": "stream",
     "text": [
      "yhat: [47726.28989521 30995.15133957]\n",
      "(31). 實際 : 46812.0 預測 : 30995.15133956734 差距 : 15816.84866043266\n"
     ]
    },
    {
     "name": "stdout",
     "output_type": "stream",
     "text": [
      "yhat: [33895.77735668 28882.06430027]\n",
      "(32). 實際 : 28515.0 預測 : 28882.06430026937 差距 : -367.0643002693687\n"
     ]
    },
    {
     "name": "stdout",
     "output_type": "stream",
     "text": [
      "yhat: [25252.25242775 23333.44122491]\n",
      "(33). 實際 : 21083.0 預測 : 23333.441224913633 差距 : -2250.441224913633\n"
     ]
    },
    {
     "name": "stdout",
     "output_type": "stream",
     "text": [
      "yhat: [23703.53218753 34904.26385386]\n",
      "(34). 實際 : 41784.0 預測 : 34904.26385386208 差距 : 6879.736146137919\n"
     ]
    },
    {
     "name": "stdout",
     "output_type": "stream",
     "text": [
      "yhat: [31005.97194316 46560.23082574]\n",
      "(35). 實際 : 40570.0 預測 : 46560.230825740735 差距 : -5990.230825740735\n",
      "yhat: [40145.05000516 36530.24098982]\n",
      "(36). 實際 : 39868.0 預測 : 36530.24098981602 差距 : 3337.7590101839814\n"
     ]
    },
    {
     "name": "stdout",
     "output_type": "stream",
     "text": [
      "yhat: [37504.2939243 42935.7690056]\n",
      "(37). 實際 : 36877.0 預測 : 42935.76900560004 差距 : -6058.769005600043\n",
      "yhat: [43058.12715291 37179.07605922]\n",
      "(38). 實際 : 34294.0 預測 : 37179.07605921998 差距 : -2885.0760592199804\n"
     ]
    },
    {
     "name": "stdout",
     "output_type": "stream",
     "text": [
      "yhat: [37116.99448635 24862.51214417]\n",
      "(39). 實際 : 21334.0 預測 : 24862.512144166794 差距 : -3528.5121441667943\n",
      "yhat: [23015.48081782 22777.74290944]\n",
      "(40). 實際 : 19582.0 預測 : 22777.74290944116 差距 : -3195.74290944116\n"
     ]
    },
    {
     "name": "stdout",
     "output_type": "stream",
     "text": [
      "yhat: [23594.1646473  41870.39991904]\n",
      "(41). 實際 : 35533.0 預測 : 41870.399919043564 差距 : -6337.399919043564\n",
      "yhat: [42090.26514187 43382.56360876]\n",
      "(42). 實際 : 35867.0 預測 : 43382.5636087562 差距 : -7515.563608756202\n"
     ]
    },
    {
     "name": "stdout",
     "output_type": "stream",
     "text": [
      "yhat: [40813.96530255 40649.96024139]\n",
      "(43). 實際 : 33961.0 預測 : 40649.96024138888 差距 : -6688.960241388879\n",
      "yhat: [39061.67152165 37733.84270289]\n",
      "(44). 實際 : 34954.0 預測 : 37733.84270288891 差距 : -2779.8427028889128\n"
     ]
    },
    {
     "name": "stdout",
     "output_type": "stream",
     "text": [
      "yhat: [33930.61412066 31913.49532287]\n",
      "(45). 實際 : 38660.0 預測 : 31913.49532287091 差距 : 6746.504677129091\n",
      "yhat: [32160.58719877 19367.98814728]\n",
      "(46). 實際 : 27664.0 預測 : 19367.988147280514 差距 : 8296.011852719486\n"
     ]
    },
    {
     "name": "stdout",
     "output_type": "stream",
     "text": [
      "yhat: [22225.64948098 25039.30280395]\n",
      "(47). 實際 : 22861.0 預測 : 25039.302803954495 差距 : -2178.302803954495\n"
     ]
    },
    {
     "name": "stdout",
     "output_type": "stream",
     "text": [
      "yhat: [25973.90846904 39661.07371573]\n",
      "(48). 實際 : 60357.0 預測 : 39661.07371572597 差距 : 20695.926284274028\n"
     ]
    },
    {
     "name": "stdout",
     "output_type": "stream",
     "text": [
      "yhat: [38448.60816526 39937.46847495]\n",
      "(49). 實際 : 77885.0 預測 : 39937.46847495214 差距 : 37947.53152504786\n"
     ]
    },
    {
     "name": "stdout",
     "output_type": "stream",
     "text": [
      "yhat: [49984.79379105 32355.86273525]\n",
      "(50). 實際 : 75406.0 預測 : 32355.862735245595 差距 : 43050.137264754405\n"
     ]
    },
    {
     "name": "stdout",
     "output_type": "stream",
     "text": [
      "yhat: [52363.49042069 45491.55889479]\n",
      "(51). 實際 : 167375.0 預測 : 45491.55889479173 差距 : 121883.44110520827\n"
     ]
    },
    {
     "name": "stdout",
     "output_type": "stream",
     "text": [
      "yhat: [63875.31926018 51727.07127038]\n",
      "(52). 實際 : 167874.0 預測 : 51727.07127038312 差距 : 116146.92872961688\n"
     ]
    },
    {
     "name": "stdout",
     "output_type": "stream",
     "text": [
      "yhat: [197876.02295592 247497.93586107]\n",
      "(53). 實際 : 59771.0 預測 : 247497.9358610706 差距 : -187726.9358610706\n"
     ]
    },
    {
     "name": "stdout",
     "output_type": "stream",
     "text": [
      "yhat: [211601.92551213 310026.86467505]\n",
      "(54). 實際 : 42888.0 預測 : 310026.8646750493 差距 : -267138.8646750493\n"
     ]
    },
    {
     "name": "stdout",
     "output_type": "stream",
     "text": [
      "yhat: [135379.68698023 185270.70892061]\n",
      "(55). 實際 : 62003.0 預測 : 185270.70892060624 差距 : -123267.70892060624\n"
     ]
    },
    {
     "name": "stdout",
     "output_type": "stream",
     "text": [
      "yhat: [ 41421.20709489 -27621.32749861]\n",
      "(56). 實際 : 55909.0 預測 : -27621.32749860616 差距 : 83530.32749860616\n"
     ]
    },
    {
     "name": "stdout",
     "output_type": "stream",
     "text": [
      "yhat: [30415.18243254 52999.3645439 ]\n",
      "(57). 實際 : 52230.0 預測 : 52999.36454390208 差距 : -769.3645439020765\n"
     ]
    },
    {
     "name": "stdout",
     "output_type": "stream",
     "text": [
      "yhat: [ 72548.42246734 116592.62062939]\n",
      "(58). 實際 : 47094.0 預測 : 116592.6206293921 差距 : -69498.6206293921\n"
     ]
    },
    {
     "name": "stdout",
     "output_type": "stream",
     "text": [
      "yhat: [82821.44493304 60504.1594146 ]\n",
      "(59). 實際 : 45445.0 預測 : 60504.15941459847 差距 : -15059.15941459847\n"
     ]
    },
    {
     "name": "stdout",
     "output_type": "stream",
     "text": [
      "yhat: [ -11555.92336839 -118579.07973652]\n",
      "(60). 實際 : 43608.0 預測 : -118579.07973651678 差距 : 162187.07973651678\n"
     ]
    },
    {
     "name": "stdout",
     "output_type": "stream",
     "text": [
      "yhat: [ 29353.27144058 -23902.70025709]\n",
      "(61). 實際 : 25211.0 預測 : -23902.70025709435 差距 : 49113.70025709435\n"
     ]
    },
    {
     "name": "stdout",
     "output_type": "stream",
     "text": [
      "yhat: [28180.32724964 36312.29064679]\n",
      "(62). 實際 : 37859.0 預測 : 36312.290646792935 差距 : 1546.7093532070649\n"
     ]
    },
    {
     "name": "stdout",
     "output_type": "stream",
     "text": [
      "yhat: [32688.26512116 33605.62853113]\n",
      "(63). 實際 : 42691.0 預測 : 33605.62853113452 差距 : 9085.37146886548\n"
     ]
    },
    {
     "name": "stdout",
     "output_type": "stream",
     "text": [
      "yhat: [40861.02866552 22494.2179812 ]\n",
      "(64). 實際 : 35974.0 預測 : 22494.21798120212 差距 : 13479.78201879788\n"
     ]
    },
    {
     "name": "stdout",
     "output_type": "stream",
     "text": [
      "yhat: [23198.92618108 44898.97400434]\n",
      "(65). 實際 : 17657.0 預測 : 44898.974004337666 差距 : -27241.974004337666\n"
     ]
    },
    {
     "name": "stdout",
     "output_type": "stream",
     "text": [
      "yhat: [63430.54147649 54864.27075411]\n",
      "(66). 實際 : 15195.0 預測 : 54864.27075410928 差距 : -39669.27075410928\n"
     ]
    },
    {
     "name": "stdout",
     "output_type": "stream",
     "text": [
      "yhat: [13975.67331229 15624.40394194]\n",
      "(67). 實際 : 15235.0 預測 : 15624.403941936907 差距 : -389.40394193690736\n"
     ]
    },
    {
     "name": "stdout",
     "output_type": "stream",
     "text": [
      "yhat: [15269.11695494  5575.89666678]\n",
      "(68). 實際 : 15907.0 預測 : 5575.896666780005 差距 : 10331.103333219995\n"
     ]
    },
    {
     "name": "stdout",
     "output_type": "stream",
     "text": [
      "yhat: [1686.85677589 9642.27800678]\n",
      "(69). 實際 : 38219.0 預測 : 9642.278006776909 差距 : 28576.72199322309\n"
     ]
    },
    {
     "name": "stdout",
     "output_type": "stream",
     "text": [
      "yhat: [21034.74568063  9110.57895576]\n",
      "(70). 實際 : 42545.0 預測 : 9110.578955763129 差距 : 33434.42104423687\n"
     ]
    },
    {
     "name": "stdout",
     "output_type": "stream",
     "text": [
      "yhat: [27370.0154387  10771.03321477]\n",
      "(71). 實際 : 37842.0 預測 : 10771.033214768882 差距 : 27070.966785231118\n"
     ]
    },
    {
     "name": "stdout",
     "output_type": "stream",
     "text": [
      "yhat: [25085.42097183 19454.89491897]\n",
      "(72). 實際 : 36608.0 預測 : 19454.894918971753 差距 : 17153.105081028247\n"
     ]
    },
    {
     "name": "stdout",
     "output_type": "stream",
     "text": [
      "yhat: [36226.94004853 26161.78954529]\n",
      "(73). 實際 : 34464.0 預測 : 26161.78954529208 差距 : 8302.210454707922\n"
     ]
    },
    {
     "name": "stdout",
     "output_type": "stream",
     "text": [
      "yhat: [30098.63386678 11790.92715676]\n",
      "(74). 實際 : 26966.0 預測 : 11790.927156763886 差距 : 15175.072843236114\n"
     ]
    },
    {
     "name": "stdout",
     "output_type": "stream",
     "text": [
      "yhat: [17020.4519869  11643.90912289]\n",
      "(75). 實際 : 22866.0 預測 : 11643.909122889436 差距 : 11222.090877110564\n"
     ]
    },
    {
     "name": "stdout",
     "output_type": "stream",
     "text": [
      "yhat: [23237.94009339 26264.9260908 ]\n",
      "(76). 實際 : 39424.0 預測 : 26264.926090795012 差距 : 13159.073909204988\n"
     ]
    },
    {
     "name": "stdout",
     "output_type": "stream",
     "text": [
      "yhat: [27560.30610877 32721.9812422 ]\n",
      "(77). 實際 : 41010.0 預測 : 32721.98124219739 差距 : 8288.018757802609\n"
     ]
    },
    {
     "name": "stdout",
     "output_type": "stream",
     "text": [
      "yhat: [44967.32807507 33172.81255843]\n",
      "(78). 實際 : 37388.0 預測 : 33172.81255843144 差距 : 4215.18744156856\n"
     ]
    },
    {
     "name": "stdout",
     "output_type": "stream",
     "text": [
      "yhat: [31035.4654705  36458.50164119]\n",
      "(79). 實際 : 35047.0 預測 : 36458.5016411906 差距 : -1411.5016411906036\n"
     ]
    },
    {
     "name": "stdout",
     "output_type": "stream",
     "text": [
      "yhat: [43549.92980081 33481.34941054]\n",
      "(80). 實際 : 35795.0 預測 : 33481.3494105448 差距 : 2313.650589455203\n"
     ]
    },
    {
     "name": "stdout",
     "output_type": "stream",
     "text": [
      "yhat: [25730.18979696 14490.71289599]\n",
      "(81). 實際 : 23540.0 預測 : 14490.71289598617 差距 : 9049.28710401383\n"
     ]
    },
    {
     "name": "stdout",
     "output_type": "stream",
     "text": [
      "yhat: [23792.53216126 17162.81001275]\n",
      "(82). 實際 : 19901.0 預測 : 17162.810012746686 差距 : 2738.189987253314\n"
     ]
    },
    {
     "name": "stdout",
     "output_type": "stream",
     "text": [
      "yhat: [18166.98441352 39220.29227048]\n",
      "(83). 實際 : 40079.0 預測 : 39220.292270478734 差距 : 858.7077295212657\n"
     ]
    },
    {
     "name": "stdout",
     "output_type": "stream",
     "text": [
      "yhat: [34457.56427857 42757.54926181]\n",
      "(84). 實際 : 40029.0 預測 : 42757.54926181154 差距 : -2728.5492618115386\n"
     ]
    },
    {
     "name": "stdout",
     "output_type": "stream",
     "text": [
      "yhat: [44885.38408049 39156.25133888]\n",
      "(85). 實際 : 40262.0 預測 : 39156.251338881215 差距 : 1105.748661118785\n"
     ]
    },
    {
     "name": "stdout",
     "output_type": "stream",
     "text": [
      "yhat: [40919.30149686 40527.80056277]\n",
      "(86). 實際 : 37350.0 預測 : 40527.80056277476 差距 : -3177.8005627747625\n"
     ]
    },
    {
     "name": "stdout",
     "output_type": "stream",
     "text": [
      "yhat: [48787.91855427 39058.35390916]\n",
      "(87). 實際 : 38240.0 預測 : 39058.353909164514 差距 : -818.3539091645143\n"
     ]
    },
    {
     "name": "stdout",
     "output_type": "stream",
     "text": [
      "yhat: [26150.67795325 15209.84549713]\n",
      "(88). 實際 : 25973.0 預測 : 15209.845497129165 差距 : 10763.154502870835\n"
     ]
    },
    {
     "name": "stdout",
     "output_type": "stream",
     "text": [
      "yhat: [30691.3729582  26775.18259387]\n",
      "(89). 實際 : 22285.0 預測 : 26775.182593867357 差距 : -4490.182593867357\n"
     ]
    },
    {
     "name": "stdout",
     "output_type": "stream",
     "text": [
      "yhat: [18936.78901591 33896.44920536]\n",
      "(90). 實際 : 45071.0 預測 : 33896.449205356315 差距 : 11174.550794643685\n"
     ]
    },
    {
     "name": "stdout",
     "output_type": "stream",
     "text": [
      "yhat: [37863.16679362 40772.43756591]\n",
      "(91). 實際 : 49890.0 預測 : 40772.43756591403 差距 : 9117.562434085972\n"
     ]
    },
    {
     "name": "stdout",
     "output_type": "stream",
     "text": [
      "yhat: [48377.51334177 41045.9819673 ]\n",
      "(92). 實際 : 38703.0 預測 : 41045.98196730424 差距 : -2342.9819673042366\n"
     ]
    },
    {
     "name": "stdout",
     "output_type": "stream",
     "text": [
      "yhat: [42589.13134571 44092.19342979]\n",
      "(93). 實際 : 41260.0 預測 : 44092.193429785315 差距 : -2832.193429785315\n"
     ]
    },
    {
     "name": "stdout",
     "output_type": "stream",
     "text": [
      "yhat: [38720.2145094  34722.76729909]\n",
      "(94). 實際 : 38334.0 預測 : 34722.76729908536 差距 : 3611.2327009146393\n"
     ]
    },
    {
     "name": "stdout",
     "output_type": "stream",
     "text": [
      "yhat: [38873.54564587 21922.08599128]\n",
      "(95). 實際 : 27022.0 預測 : 21922.0859912794 差距 : 5099.9140087206\n"
     ]
    },
    {
     "name": "stdout",
     "output_type": "stream",
     "text": [
      "yhat: [20783.39428002 23084.62777541]\n",
      "(96). 實際 : 24659.0 預測 : 23084.6277754139 差距 : 1574.372224586099\n"
     ]
    },
    {
     "name": "stdout",
     "output_type": "stream",
     "text": [
      "yhat: [30967.02062196 42161.08052358]\n",
      "(97). 實際 : 39822.0 預測 : 42161.08052357612 差距 : -2339.080523576122\n"
     ]
    },
    {
     "name": "stdout",
     "output_type": "stream",
     "text": [
      "yhat: [34835.07545884 41699.72237558]\n",
      "(98). 實際 : 38861.0 預測 : 41699.72237558358 差距 : -2838.7223755835803\n"
     ]
    },
    {
     "name": "stdout",
     "output_type": "stream",
     "text": [
      "yhat: [47581.82891916 40984.40090249]\n",
      "(99). 實際 : 36618.0 預測 : 40984.40090248835 差距 : -4366.400902488349\n"
     ]
    },
    {
     "name": "stdout",
     "output_type": "stream",
     "text": [
      "yhat: [32668.99947906 39322.35715005]\n",
      "(100). 實際 : 39373.0 預測 : 39322.35715004524 差距 : 50.642849954761914\n"
     ]
    },
    {
     "name": "stdout",
     "output_type": "stream",
     "text": [
      "yhat: [44583.00034308 37359.33466775]\n",
      "(101). 實際 : 37057.0 預測 : 37359.33466774921 差距 : -302.33466774920817\n"
     ]
    },
    {
     "name": "stdout",
     "output_type": "stream",
     "text": [
      "yhat: [31629.84083006 22910.63044492]\n",
      "(102). 實際 : 26771.0 預測 : 22910.63044492063 差距 : 3860.369555079371\n"
     ]
    },
    {
     "name": "stdout",
     "output_type": "stream",
     "text": [
      "yhat: [28046.84167193 27287.62654776]\n",
      "(103). 實際 : 25739.0 預測 : 27287.626547764525 差距 : -1548.6265477645247\n"
     ]
    },
    {
     "name": "stdout",
     "output_type": "stream",
     "text": [
      "yhat: [26314.32726561 42833.13837335]\n",
      "(104). 實際 : 49003.0 預測 : 42833.138373350885 差距 : 6169.861626649115\n"
     ]
    },
    {
     "name": "stdout",
     "output_type": "stream",
     "text": [
      "yhat: [42143.37024203 43939.00047065]\n",
      "(105). 實際 : 77719.0 預測 : 43939.0004706496 差距 : 33779.9995293504\n"
     ]
    },
    {
     "name": "stdout",
     "output_type": "stream",
     "text": [
      "yhat: [52321.81235018 44193.05234545]\n",
      "(106). 實際 : 61993.0 預測 : 44193.052345448676 差距 : 17799.947654551324\n"
     ]
    },
    {
     "name": "stdout",
     "output_type": "stream",
     "text": [
      "yhat: [70234.86517844 53079.9682602 ]\n",
      "(107). 實際 : 46445.0 預測 : 53079.96826019816 差距 : -6634.968260198162\n"
     ]
    },
    {
     "name": "stdout",
     "output_type": "stream",
     "text": [
      "yhat: [45004.58590344 43354.96818534]\n",
      "(108). 實際 : 47557.0 預測 : 43354.968185342776 差距 : 4202.0318146572245\n"
     ]
    },
    {
     "name": "stdout",
     "output_type": "stream",
     "text": [
      "yhat: [43902.0100875  27121.35081997]\n",
      "(109). 實際 : 27506.0 預測 : 27121.350819965293 差距 : 384.64918003470666\n"
     ]
    },
    {
     "name": "stdout",
     "output_type": "stream",
     "text": [
      "yhat: [31141.12928218 29637.89691071]\n",
      "(110). 實際 : 24067.0 預測 : 29637.896910707568 差距 : -5570.896910707568\n"
     ]
    },
    {
     "name": "stdout",
     "output_type": "stream",
     "text": [
      "yhat: [24255.48904027 42459.38601356]\n",
      "(111). 實際 : 47029.0 預測 : 42459.38601356061 差距 : 4569.613986439392\n"
     ]
    },
    {
     "name": "stdout",
     "output_type": "stream",
     "text": [
      "yhat: [43384.28247062 48657.02223742]\n",
      "(112). 實際 : 42322.0 預測 : 48657.02223742189 差距 : -6335.0222374218865\n"
     ]
    },
    {
     "name": "stdout",
     "output_type": "stream",
     "text": [
      "yhat: [52892.57122782 43606.30988461]\n",
      "(113). 實際 : 43841.0 預測 : 43606.309884606 差距 : 234.69011539399798\n"
     ]
    },
    {
     "name": "stdout",
     "output_type": "stream",
     "text": [
      "yhat: [33416.22615175 38516.29997681]\n",
      "(114). 實際 : 43349.0 預測 : 38516.299976807226 差距 : 4832.700023192774\n"
     ]
    },
    {
     "name": "stdout",
     "output_type": "stream",
     "text": [
      "yhat: [50093.98820114 35102.68143523]\n",
      "(115). 實際 : 43591.0 預測 : 35102.68143523392 差距 : 8488.31856476608\n"
     ]
    },
    {
     "name": "stdout",
     "output_type": "stream",
     "text": [
      "yhat: [28275.0581291 20193.404247 ]\n",
      "(116). 實際 : 24114.0 預測 : 20193.40424700317 差距 : 3920.595752996829\n"
     ]
    },
    {
     "name": "stdout",
     "output_type": "stream",
     "text": [
      "yhat: [37130.90527908 29398.80049411]\n",
      "(117). 實際 : 21904.0 預測 : 29398.800494112882 差距 : -7494.800494112882\n"
     ]
    },
    {
     "name": "stdout",
     "output_type": "stream",
     "text": [
      "yhat: [17105.87143727 39893.59062688]\n",
      "(118). 實際 : 39103.0 預測 : 39893.59062688015 差距 : -790.5906268801482\n"
     ]
    },
    {
     "name": "stdout",
     "output_type": "stream",
     "text": [
      "yhat: [44516.12864087 46769.53679363]\n",
      "(119). 實際 : 40528.0 預測 : 46769.5367936277 差距 : -6241.536793627703\n"
     ]
    },
    {
     "name": "stdout",
     "output_type": "stream",
     "text": [
      "yhat: [41580.07482013 40357.25193209]\n",
      "(120). 實際 : 49641.0 預測 : 40357.25193209488 差距 : 9283.748067905122\n"
     ]
    },
    {
     "name": "stdout",
     "output_type": "stream",
     "text": [
      "yhat: [39125.59436125 37738.15870395]\n",
      "(121). 實際 : 43622.0 預測 : 37738.15870395125 差距 : 5883.841296048748\n"
     ]
    },
    {
     "name": "stdout",
     "output_type": "stream",
     "text": [
      "yhat: [48644.58247435 36626.3342548 ]\n",
      "(122). 實際 : 37894.0 預測 : 36626.3342547959 差距 : 1267.6657452041036\n"
     ]
    },
    {
     "name": "stdout",
     "output_type": "stream",
     "text": [
      "yhat: [31642.51158296 22004.04912312]\n",
      "(123). 實際 : 22175.0 預測 : 22004.049123117642 差距 : 170.950876882358\n"
     ]
    },
    {
     "name": "stdout",
     "output_type": "stream",
     "text": [
      "yhat: [28377.1892501 27549.5967138]\n",
      "(124). 實際 : 19583.0 預測 : 27549.59671380494 差距 : -7966.596713804938\n"
     ]
    },
    {
     "name": "stdout",
     "output_type": "stream",
     "text": [
      "yhat: [21521.64688851 40009.25028798]\n",
      "(125). 實際 : 37403.0 預測 : 40009.250287980794 差距 : -2606.2502879807944\n"
     ]
    },
    {
     "name": "stdout",
     "output_type": "stream",
     "text": [
      "yhat: [36789.43207512 43716.34376818]\n",
      "(126). 實際 : 36343.0 預測 : 43716.343768179766 差距 : -7373.343768179766\n"
     ]
    },
    {
     "name": "stdout",
     "output_type": "stream",
     "text": [
      "yhat: [44209.32913423 40945.29814613]\n",
      "(127). 實際 : 35225.0 預測 : 40945.29814612965 差距 : -5720.298146129651\n"
     ]
    },
    {
     "name": "stdout",
     "output_type": "stream",
     "text": [
      "yhat: [33188.58861739 36411.15116944]\n",
      "(128). 實際 : 34664.0 預測 : 36411.15116943936 差距 : -1747.151169439363\n"
     ]
    },
    {
     "name": "stdout",
     "output_type": "stream",
     "text": [
      "yhat: [37658.25061017 31303.70186187]\n",
      "(129). 實際 : 32868.0 預測 : 31303.701861873225 差距 : 1564.2981381267746\n"
     ]
    },
    {
     "name": "stdout",
     "output_type": "stream",
     "text": [
      "yhat: [28492.84583627 21056.22762315]\n",
      "(130). 實際 : 19905.0 預測 : 21056.227623146195 差距 : -1151.2276231461947\n"
     ]
    },
    {
     "name": "stdout",
     "output_type": "stream",
     "text": [
      "yhat: [26042.7941745  26680.41835226]\n",
      "(131). 實際 : 18676.0 預測 : 26680.41835226411 差距 : -8004.418352264111\n"
     ]
    },
    {
     "name": "stdout",
     "output_type": "stream",
     "text": [
      "yhat: [21097.03633521 40398.5248134 ]\n",
      "(132). 實際 : 32921.0 預測 : 40398.524813402924 差距 : -7477.524813402924\n"
     ]
    },
    {
     "name": "stdout",
     "output_type": "stream",
     "text": [
      "yhat: [37013.80253987 42881.04195364]\n",
      "(133). 實際 : 35076.0 預測 : 42881.04195363802 差距 : -7805.041953638021\n"
     ]
    },
    {
     "name": "stdout",
     "output_type": "stream",
     "text": [
      "yhat: [38249.72906533 38097.45635413]\n",
      "(134). 實際 : 40057.0 預測 : 38097.45635413124 差距 : 1959.5436458687618\n"
     ]
    },
    {
     "name": "stdout",
     "output_type": "stream",
     "text": [
      "yhat: [35337.52015155 35587.72820442]\n",
      "(135). 實際 : 38595.0 預測 : 35587.72820442338 差距 : 3007.27179557662\n"
     ]
    },
    {
     "name": "stdout",
     "output_type": "stream",
     "text": [
      "yhat: [40469.19555941 33707.30254103]\n",
      "(136). 實際 : 33469.0 預測 : 33707.30254103374 差距 : -238.30254103374318\n"
     ]
    },
    {
     "name": "stdout",
     "output_type": "stream",
     "text": [
      "yhat: [31900.52653261 26591.58553708]\n",
      "(137). 實際 : 19530.0 預測 : 26591.58553708165 差距 : -7061.58553708165\n"
     ]
    },
    {
     "name": "stdout",
     "output_type": "stream",
     "text": [
      "yhat: [27993.3888414 30179.7681893]\n",
      "(138). 實際 : 17525.0 預測 : 30179.768189295384 差距 : -12654.768189295384\n"
     ]
    },
    {
     "name": "stdout",
     "output_type": "stream",
     "text": [
      "yhat: [21439.15203194 39938.26694729]\n",
      "(139). 實際 : 28268.0 預測 : 39938.26694728809 差距 : -11670.266947288088\n"
     ]
    },
    {
     "name": "stdout",
     "output_type": "stream",
     "text": [
      "yhat: [35924.72572077 44346.12186175]\n",
      "(140). 實際 : 45361.0 預測 : 44346.121861747415 差距 : 1014.8781382525849\n"
     ]
    },
    {
     "name": "stdout",
     "output_type": "stream",
     "text": [
      "yhat: [36022.21493205 38557.12088713]\n",
      "(141). 實際 : 33468.0 預測 : 38557.12088713027 差距 : -5089.120887130273\n"
     ]
    },
    {
     "name": "stdout",
     "output_type": "stream",
     "text": [
      "yhat: [46899.76082397 38382.16796651]\n",
      "(142). 實際 : 35466.0 預測 : 38382.167966508416 差距 : -2916.1679665084157\n"
     ]
    },
    {
     "name": "stdout",
     "output_type": "stream",
     "text": [
      "yhat: [26675.49627413 31607.30267283]\n",
      "(143). 實際 : 32421.0 預測 : 31607.30267283209 差距 : 813.697327167909\n"
     ]
    },
    {
     "name": "stdout",
     "output_type": "stream",
     "text": [
      "yhat: [39748.46765875 26902.60897153]\n",
      "(144). 實際 : 20858.0 預測 : 26902.608971528938 差距 : -6044.608971528938\n"
     ]
    },
    {
     "name": "stdout",
     "output_type": "stream",
     "text": [
      "yhat: [19078.90927735 28271.46764114]\n",
      "(145). 實際 : 21034.0 預測 : 28271.467641138493 差距 : -7237.4676411384935\n"
     ]
    },
    {
     "name": "stdout",
     "output_type": "stream",
     "text": [
      "yhat: [30375.86735886 43119.50203934]\n",
      "(146). 實際 : 33568.0 預測 : 43119.50203933941 差距 : -9551.502039339408\n"
     ]
    },
    {
     "name": "stdout",
     "output_type": "stream",
     "text": [
      "yhat: [33988.43819678 44779.70899717]\n",
      "(147). 實際 : 33482.0 預測 : 44779.70899717431 差距 : -11297.708997174312\n"
     ]
    },
    {
     "name": "stdout",
     "output_type": "stream",
     "text": [
      "yhat: [44534.56465819 41198.76572404]\n",
      "(148). 實際 : 32202.0 預測 : 41198.76572403951 差距 : -8996.765724039513\n"
     ]
    },
    {
     "name": "stdout",
     "output_type": "stream",
     "text": [
      "yhat: [30467.20611722 35898.64487133]\n",
      "(149). 實際 : 31879.0 預測 : 35898.64487132704 差距 : -4019.6448713270365\n"
     ]
    },
    {
     "name": "stdout",
     "output_type": "stream",
     "text": [
      "yhat: [37713.65610824 31409.35742757]\n",
      "(150). 實際 : 30497.0 預測 : 31409.35742756976 差距 : -912.3574275697611\n"
     ]
    },
    {
     "name": "stdout",
     "output_type": "stream",
     "text": [
      "yhat: [25753.36806428 24387.37404335]\n",
      "(151). 實際 : 17379.0 預測 : 24387.374043347896 差距 : -7008.374043347896\n"
     ]
    },
    {
     "name": "stdout",
     "output_type": "stream",
     "text": [
      "yhat: [28995.63906245 30768.27228404]\n",
      "(152). 實際 : 17667.0 預測 : 30768.272284044528 差距 : -13101.272284044528\n"
     ]
    },
    {
     "name": "stdout",
     "output_type": "stream",
     "text": [
      "yhat: [19248.63497513 39453.35808005]\n",
      "(153). 實際 : 31684.0 預測 : 39453.3580800507 差距 : -7769.358080050697\n"
     ]
    },
    {
     "name": "stdout",
     "output_type": "stream",
     "text": [
      "yhat: [37406.63408818 45366.50582576]\n",
      "(154). 實際 : 32619.0 預測 : 45366.5058257569 差距 : -12747.505825756904\n"
     ]
    },
    {
     "name": "stdout",
     "output_type": "stream",
     "text": [
      "yhat: [38866.57377258 38440.37972131]\n",
      "(155). 實際 : 31030.0 預測 : 38440.37972130912 差距 : -7410.379721309117\n"
     ]
    },
    {
     "name": "stdout",
     "output_type": "stream",
     "text": [
      "yhat: [32238.58288758 33121.27627449]\n",
      "(156). 實際 : 32295.0 預測 : 33121.27627448589 差距 : -826.2762744858919\n"
     ]
    },
    {
     "name": "stdout",
     "output_type": "stream",
     "text": [
      "yhat: [31918.03041144 30842.70277129]\n",
      "(157). 實際 : 30326.0 預測 : 30842.702771290846 差距 : -516.7027712908457\n"
     ]
    },
    {
     "name": "stdout",
     "output_type": "stream",
     "text": [
      "yhat: [31472.31329553 26428.59299049]\n",
      "(158). 實際 : 27307.0 預測 : 26428.592990494762 差距 : 878.4070095052375\n"
     ]
    },
    {
     "name": "stdout",
     "output_type": "stream",
     "text": [
      "yhat: [25379.58730481 31115.80520757]\n",
      "(159). 實際 : 18160.0 預測 : 31115.805207570396 差距 : -12955.805207570396\n"
     ]
    },
    {
     "name": "stdout",
     "output_type": "stream",
     "text": [
      "yhat: [33244.15721173 44779.5950423 ]\n",
      "(160). 實際 : 30487.0 預測 : 44779.595042298286 差距 : -14292.595042298286\n"
     ]
    },
    {
     "name": "stdout",
     "output_type": "stream",
     "text": [
      "yhat: [29827.47311372 42889.31061347]\n",
      "(161). 實際 : 32958.0 預測 : 42889.31061347325 差距 : -9931.310613473252\n"
     ]
    },
    {
     "name": "stdout",
     "output_type": "stream",
     "text": [
      "yhat: [43460.86920146 38612.77283679]\n",
      "(162). 實際 : 31305.0 預測 : 38612.77283679456 差距 : -7307.77283679456\n"
     ]
    },
    {
     "name": "stdout",
     "output_type": "stream",
     "text": [
      "yhat: [28188.30277142 31652.24691418]\n",
      "(163). 實際 : 28867.0 預測 : 31652.24691417942 差距 : -2785.246914179421\n"
     ]
    },
    {
     "name": "stdout",
     "output_type": "stream",
     "text": [
      "yhat: [34499.48972868 31526.72630447]\n",
      "(164). 實際 : 13453.0 預測 : 31526.726304470183 差距 : -18073.726304470183\n"
     ]
    },
    {
     "name": "stdout",
     "output_type": "stream",
     "text": [
      "yhat: [25988.57560236 25921.00816997]\n",
      "(165). 實際 : 12895.0 預測 : 25921.00816997283 差距 : -13026.008169972829\n"
     ]
    },
    {
     "name": "stdout",
     "output_type": "stream",
     "text": [
      "yhat: [14411.44611107 26709.13183832]\n",
      "(166). 實際 : 14575.0 預測 : 26709.13183832468 差距 : -12134.13183832468\n"
     ]
    },
    {
     "name": "stdout",
     "output_type": "stream",
     "text": [
      "yhat: [24875.16303856 37297.78299593]\n",
      "(167). 實際 : 31844.0 預測 : 37297.78299592811 差距 : -5453.782995928108\n"
     ]
    },
    {
     "name": "stdout",
     "output_type": "stream",
     "text": [
      "yhat: [27458.50430422 36512.50621191]\n",
      "(168). 實際 : 28747.0 預測 : 36512.50621191469 差距 : -7765.50621191469\n"
     ]
    },
    {
     "name": "stdout",
     "output_type": "stream",
     "text": [
      "yhat: [41068.52023914 36257.61922761]\n",
      "(169). 實際 : 26569.0 預測 : 36257.619227612384 差距 : -9688.619227612384\n"
     ]
    },
    {
     "name": "stdout",
     "output_type": "stream",
     "text": [
      "yhat: [21988.33821158 27510.50389663]\n",
      "(170). 實際 : 23602.0 預測 : 27510.50389662505 差距 : -3908.5038966250504\n"
     ]
    },
    {
     "name": "stdout",
     "output_type": "stream",
     "text": [
      "yhat: [31698.016389   27305.36080801]\n",
      "(171). 實際 : 23471.0 預測 : 27305.360808006422 差距 : -3834.3608080064223\n"
     ]
    },
    {
     "name": "stdout",
     "output_type": "stream",
     "text": [
      "yhat: [20045.7900491  22133.46864223]\n",
      "(172). 實際 : 15548.0 預測 : 22133.468642231528 差距 : -6585.468642231528\n"
     ]
    },
    {
     "name": "stdout",
     "output_type": "stream",
     "text": [
      "yhat: [25941.99367416 28947.66177338]\n",
      "(173). 實際 : 12605.0 預測 : 28947.66177338197 差距 : -16342.66177338197\n"
     ]
    },
    {
     "name": "stdout",
     "output_type": "stream",
     "text": [
      "yhat: [18704.36938232 35753.33283289]\n",
      "(174). 實際 : 12795.0 預測 : 35753.332832892185 差距 : -22958.332832892185\n"
     ]
    },
    {
     "name": "stdout",
     "output_type": "stream",
     "text": [
      "yhat: [30193.01519152 36532.60522601]\n",
      "(175). 實際 : 17119.0 預測 : 36532.605226006504 差距 : -19413.605226006504\n"
     ]
    },
    {
     "name": "stdout",
     "output_type": "stream",
     "text": [
      "yhat: [18356.52900887 25340.0617146 ]\n",
      "(176). 實際 : 31594.0 預測 : 25340.0617145989 差距 : 6253.938285401098\n"
     ]
    },
    {
     "name": "stdout",
     "output_type": "stream",
     "text": [
      "yhat: [24038.8549057  24344.97401143]\n",
      "(177). 實際 : 31973.0 預測 : 24344.974011427486 差距 : 7628.025988572514\n"
     ]
    },
    {
     "name": "stdout",
     "output_type": "stream",
     "text": [
      "yhat: [32429.39697548 29392.01298601]\n",
      "(178). 實際 : 30785.0 預測 : 29392.01298601037 差距 : 1392.9870139896302\n"
     ]
    },
    {
     "name": "stdout",
     "output_type": "stream",
     "text": [
      "yhat: [28966.47879223 27869.48189879]\n",
      "(179). 實際 : 19936.0 預測 : 27869.48189879183 差距 : -7933.48189879183\n"
     ]
    },
    {
     "name": "stdout",
     "output_type": "stream",
     "text": [
      "yhat: [29824.3367223  33477.96831246]\n",
      "(180). 實際 : 18584.0 預測 : 33477.96831245708 差距 : -14893.96831245708\n"
     ]
    },
    {
     "name": "stdout",
     "output_type": "stream",
     "text": [
      "yhat: [23705.52231184 34774.65945182]\n",
      "(181). 實際 : 35927.0 預測 : 34774.65945182378 差距 : 1152.3405481762165\n"
     ]
    },
    {
     "name": "stdout",
     "output_type": "stream",
     "text": [
      "yhat: [29582.06654616 33737.88737569]\n",
      "(182). 實際 : 35488.0 預測 : 33737.88737569458 差距 : 1750.1126243054168\n"
     ]
    },
    {
     "name": "stdout",
     "output_type": "stream",
     "text": [
      "yhat: [40172.39416842 34308.8249457 ]\n",
      "(183). 實際 : 35276.0 預測 : 34308.82494569857 差距 : 967.1750543014277\n"
     ]
    },
    {
     "name": "stdout",
     "output_type": "stream",
     "text": [
      "yhat: [30145.43395788 32757.27127121]\n",
      "(184). 實際 : 35466.0 預測 : 32757.271271209123 差距 : 2708.7287287908766\n"
     ]
    },
    {
     "name": "stdout",
     "output_type": "stream",
     "text": [
      "yhat: [37549.05269699 35413.56881227]\n",
      "(185). 實際 : 31580.0 預測 : 35413.5688122651 差距 : -3833.568812265097\n"
     ]
    },
    {
     "name": "stdout",
     "output_type": "stream",
     "text": [
      "yhat: [33200.00860815 32379.85727093]\n",
      "(186). 實際 : 18675.0 預測 : 32379.857270926022 差距 : -13704.857270926022\n"
     ]
    },
    {
     "name": "stdout",
     "output_type": "stream",
     "text": [
      "yhat: [30736.30205287 35051.4429091 ]\n",
      "(187). 實際 : 44379.0 預測 : 35051.44290909734 差距 : 9327.557090902657\n"
     ]
    },
    {
     "name": "stdout",
     "output_type": "stream",
     "text": [
      "yhat: [23081.41354354 35124.32203956]\n",
      "(188). 實際 : 35855.0 預測 : 35124.32203956095 差距 : 730.6779604390467\n"
     ]
    },
    {
     "name": "stdout",
     "output_type": "stream",
     "text": [
      "yhat: [56085.07736791 45903.38675022]\n",
      "(189). 實際 : 35491.0 預測 : 45903.38675021945 差距 : -10412.386750219448\n"
     ]
    },
    {
     "name": "stdout",
     "output_type": "stream",
     "text": [
      "yhat: [26693.5833593  33840.77423939]\n",
      "(190). 實際 : 39027.0 預測 : 33840.77423939308 差距 : 5186.225760606918\n"
     ]
    },
    {
     "name": "stdout",
     "output_type": "stream",
     "text": [
      "yhat: [42255.69963523 35431.01476821]\n",
      "(191). 實際 : 37376.0 預測 : 35431.014768209134 差距 : 1944.9852317908662\n"
     ]
    },
    {
     "name": "stdout",
     "output_type": "stream",
     "text": [
      "yhat: [31877.97837045 29873.58118317]\n",
      "(192). 實際 : 34228.0 預測 : 29873.581183173526 差距 : 4354.418816826474\n"
     ]
    },
    {
     "name": "stdout",
     "output_type": "stream",
     "text": [
      "yhat: [35528.86194419 31422.24146736]\n",
      "(193). 實際 : 20616.0 預測 : 31422.241467360433 差距 : -10806.241467360433\n"
     ]
    },
    {
     "name": "stdout",
     "output_type": "stream",
     "text": [
      "yhat: [27870.99515507 32973.01623005]\n",
      "(194). 實際 : 19729.0 預測 : 32973.01623005233 差距 : -13244.01623005233\n"
     ]
    },
    {
     "name": "stdout",
     "output_type": "stream",
     "text": [
      "yhat: [27284.22986399 40700.20715018]\n",
      "(195). 實際 : 37906.0 預測 : 40700.20715018418 差距 : -2794.2071501841783\n"
     ]
    },
    {
     "name": "stdout",
     "output_type": "stream",
     "text": [
      "yhat: [35099.55207014 39321.25786517]\n",
      "(196). 實際 : 36573.0 預測 : 39321.25786517128 差距 : -2748.257865171283\n"
     ]
    },
    {
     "name": "stdout",
     "output_type": "stream",
     "text": [
      "yhat: [44183.26552173 34883.14189895]\n",
      "(197). 實際 : 37825.0 預測 : 34883.14189894847 差距 : 2941.8581010515336\n"
     ]
    },
    {
     "name": "stdout",
     "output_type": "stream",
     "text": [
      "yhat: [27460.56788354 33317.25067868]\n",
      "(198). 實際 : 36305.0 預測 : 33317.25067867559 差距 : 2987.749321324409\n"
     ]
    },
    {
     "name": "stdout",
     "output_type": "stream",
     "text": [
      "yhat: [43448.94241472 33667.20199316]\n",
      "(199). 實際 : 33275.0 預測 : 33667.201993163166 差距 : -392.20199316316575\n"
     ]
    },
    {
     "name": "stdout",
     "output_type": "stream",
     "text": [
      "yhat: [27574.63082524 28978.30797195]\n",
      "(200). 實際 : 20396.0 預測 : 28978.30797195082 差距 : -8582.30797195082\n"
     ]
    },
    {
     "name": "stdout",
     "output_type": "stream",
     "text": [
      "yhat: [33327.98689376 34932.73646759]\n",
      "(201). 實際 : 19708.0 預測 : 34932.736467591385 差距 : -15224.736467591385\n"
     ]
    },
    {
     "name": "stdout",
     "output_type": "stream",
     "text": [
      "yhat: [22749.54770408 37857.85354528]\n",
      "(202). 實際 : 36445.0 預測 : 37857.853545279584 差距 : -1412.853545279584\n"
     ]
    },
    {
     "name": "stdout",
     "output_type": "stream",
     "text": [
      "yhat: [35469.64295353 37482.49980771]\n",
      "(203). 實際 : 37615.0 預測 : 37482.49980770547 差距 : 132.50019229453028\n"
     ]
    },
    {
     "name": "stdout",
     "output_type": "stream",
     "text": [
      "yhat: [38247.26156517 34966.7349697 ]\n",
      "(204). 實際 : 87433.0 預測 : 34966.73496970057 差距 : 52466.26503029943\n"
     ]
    },
    {
     "name": "stdout",
     "output_type": "stream",
     "text": [
      "yhat: [34496.83523813 32867.39389671]\n",
      "(205). 實際 : 56793.0 預測 : 32867.393896711146 差距 : 23925.606103288854\n"
     ]
    },
    {
     "name": "stdout",
     "output_type": "stream",
     "text": [
      "yhat: [82102.74918653 56322.08744805]\n",
      "(206). 實際 : 40160.0 預測 : 56322.08744805005 差距 : -16162.08744805005\n"
     ]
    },
    {
     "name": "stdout",
     "output_type": "stream",
     "text": [
      "yhat: [29999.70186897 38569.38323579]\n",
      "(207). 實際 : 23767.0 預測 : 38569.38323578771 差距 : -14802.38323578771\n"
     ]
    },
    {
     "name": "stdout",
     "output_type": "stream",
     "text": [
      "yhat: [46876.82620624 40457.44807248]\n",
      "(208). 實際 : 24218.0 預測 : 40457.44807247894 差距 : -16239.44807247894\n"
     ]
    },
    {
     "name": "stdout",
     "output_type": "stream",
     "text": [
      "yhat: [21826.96939588 33792.19101047]\n",
      "(209). 實際 : 33549.0 預測 : 33792.19101046904 差距 : -243.1910104690396\n"
     ]
    },
    {
     "name": "stdout",
     "output_type": "stream",
     "text": [
      "yhat: [33416.87143076 33041.42309689]\n",
      "(210). 實際 : 32433.0 預測 : 33041.42309688701 差距 : -608.4230968870106\n"
     ]
    },
    {
     "name": "stdout",
     "output_type": "stream",
     "text": [
      "yhat: [32615.35703158 37030.82988437]\n",
      "(211). 實際 : 34319.0 預測 : 37030.82988436976 差距 : -2711.829884369763\n"
     ]
    },
    {
     "name": "stdout",
     "output_type": "stream",
     "text": [
      "yhat: [39048.56035382 39612.31367548]\n",
      "(212). 實際 : 32610.0 預測 : 39612.313675476005 差距 : -7002.313675476005\n"
     ]
    },
    {
     "name": "stdout",
     "output_type": "stream",
     "text": [
      "yhat: [37491.01381159 42026.36427968]\n",
      "(213). 實際 : 25930.0 預測 : 42026.364279680056 差距 : -16096.364279680056\n"
     ]
    },
    {
     "name": "stdout",
     "output_type": "stream",
     "text": [
      "yhat: [37942.94803557 27273.19878274]\n",
      "(214). 實際 : 15462.0 預測 : 27273.198782736552 差距 : -11811.198782736552\n"
     ]
    },
    {
     "name": "stdout",
     "output_type": "stream",
     "text": [
      "yhat: [18275.04927061 25819.47777337]\n",
      "(215). 實際 : 14878.0 預測 : 25819.477773370352 差距 : -10941.477773370352\n"
     ]
    },
    {
     "name": "stdout",
     "output_type": "stream",
     "text": [
      "yhat: [23740.9724178  26113.19157563]\n",
      "(216). 實際 : 31950.0 預測 : 26113.19157562965 差距 : 5836.808424370349\n"
     ]
    },
    {
     "name": "stdout",
     "output_type": "stream",
     "text": [
      "yhat: [21640.84625528 24720.61657294]\n",
      "(217). 實際 : 32687.0 預測 : 24720.616572936153 差距 : 7966.383427063847\n"
     ]
    },
    {
     "name": "stdout",
     "output_type": "stream",
     "text": [
      "yhat: [32518.37949988 32719.20593656]\n",
      "(218). 實際 : 31409.0 預測 : 32719.20593655709 差距 : -1310.2059365570894\n"
     ]
    },
    {
     "name": "stdout",
     "output_type": "stream",
     "text": [
      "yhat: [33799.21008024 39061.69452972]\n",
      "(219). 實際 : 30447.0 預測 : 39061.69452972474 差距 : -8614.694529724737\n"
     ]
    },
    {
     "name": "stdout",
     "output_type": "stream",
     "text": [
      "yhat: [37838.29817078 34135.47723828]\n",
      "(220). 實際 : 27560.0 預測 : 34135.47723828239 差距 : -6575.477238282387\n"
     ]
    },
    {
     "name": "stdout",
     "output_type": "stream",
     "text": [
      "yhat: [25629.4718462  23310.05725658]\n",
      "(221). 實際 : 18337.0 預測 : 23310.05725658397 差距 : -4973.057256583968\n"
     ]
    },
    {
     "name": "stdout",
     "output_type": "stream",
     "text": [
      "yhat: [24831.85327434 26731.04229553]\n",
      "(222). 實際 : 15826.0 預測 : 26731.04229552738 差距 : -10905.042295527379\n"
     ]
    },
    {
     "name": "stdout",
     "output_type": "stream",
     "text": [
      "yhat: [21028.89487462 31308.56340438]\n",
      "(223). 實際 : 31884.0 預測 : 31308.563404384695 差距 : 575.4365956153051\n"
     ]
    },
    {
     "name": "stdout",
     "output_type": "stream",
     "text": [
      "yhat: [26836.42520862 33512.20377339]\n",
      "(224). 實際 : 32782.0 預測 : 33512.203773385474 差距 : -730.203773385474\n"
     ]
    },
    {
     "name": "stdout",
     "output_type": "stream",
     "text": [
      "yhat: [37638.35618779 36906.34806048]\n",
      "(225). 實際 : 33579.0 預測 : 36906.34806047574 差距 : -3327.3480604757424\n"
     ]
    },
    {
     "name": "stdout",
     "output_type": "stream",
     "text": [
      "yhat: [33220.46660339 40790.43485557]\n",
      "(226). 實際 : 32470.0 預測 : 40790.434855567866 差距 : -8320.434855567866\n"
     ]
    },
    {
     "name": "stdout",
     "output_type": "stream",
     "text": [
      "yhat: [37831.29215175 35416.07193437]\n",
      "(227). 實際 : 28432.0 預測 : 35416.071934371146 差距 : -6984.071934371146\n"
     ]
    },
    {
     "name": "stdout",
     "output_type": "stream",
     "text": [
      "yhat: [28032.19767502 24100.95336411]\n",
      "(228). 實際 : 18047.0 預測 : 24100.953364105306 差距 : -6053.953364105306\n"
     ]
    },
    {
     "name": "stdout",
     "output_type": "stream",
     "text": [
      "yhat: [23795.89506056 28380.11881291]\n",
      "(229). 實際 : 17217.0 預測 : 28380.118812907665 差距 : -11163.118812907665\n"
     ]
    },
    {
     "name": "stdout",
     "output_type": "stream",
     "text": [
      "yhat: [21724.94639555 30433.91066916]\n",
      "(230). 實際 : 33237.0 預測 : 30433.910669163357 差距 : 2803.089330836643\n"
     ]
    },
    {
     "name": "stdout",
     "output_type": "stream",
     "text": [
      "yhat: [31299.34739323 35104.31550348]\n",
      "(231). 實際 : 32161.0 預測 : 35104.31550348399 差距 : -2943.3155034839874\n"
     ]
    },
    {
     "name": "stdout",
     "output_type": "stream",
     "text": [
      "yhat: [36806.08739267 36639.56781673]\n",
      "(232). 實際 : 32479.0 預測 : 36639.56781672941 差距 : -4160.56781672941\n"
     ]
    },
    {
     "name": "stdout",
     "output_type": "stream",
     "text": [
      "yhat: [33660.00332452 34999.02306145]\n",
      "(233). 實際 : 30516.0 預測 : 34999.02306144951 差距 : -4483.0230614495085\n"
     ]
    },
    {
     "name": "stdout",
     "output_type": "stream",
     "text": [
      "yhat: [33060.6890302  29649.61107059]\n",
      "(234). 實際 : 28610.0 預測 : 29649.611070585906 差距 : -1039.6110705859064\n"
     ]
    },
    {
     "name": "stdout",
     "output_type": "stream",
     "text": [
      "yhat: [27810.19928509 25370.85792753]\n",
      "(235). 實際 : 18189.0 預測 : 25370.857927529294 差距 : -7181.857927529294\n"
     ]
    },
    {
     "name": "stdout",
     "output_type": "stream",
     "text": [
      "yhat: [24936.46659379 25526.8365437 ]\n",
      "(236). 實際 : 16689.0 預測 : 25526.83654369768 差距 : -8837.836543697678\n"
     ]
    },
    {
     "name": "stdout",
     "output_type": "stream",
     "text": [
      "yhat: [20595.46382046 33106.47905554]\n",
      "(237). 實際 : 33727.0 預測 : 33106.479055535274 差距 : 620.5209444647262\n"
     ]
    },
    {
     "name": "stdout",
     "output_type": "stream",
     "text": [
      "yhat: [28270.53469624 33026.06775485]\n",
      "(238). 實際 : 34658.0 預測 : 33026.06775484812 差距 : 1631.932245151882\n"
     ]
    },
    {
     "name": "stdout",
     "output_type": "stream",
     "text": [
      "yhat: [36327.58678569 33635.23759127]\n",
      "(239). 實際 : 33170.0 預測 : 33635.23759127036 差距 : -465.23759127035737\n"
     ]
    },
    {
     "name": "stdout",
     "output_type": "stream",
     "text": [
      "yhat: [33253.89623608 35535.73690018]\n",
      "(240). 實際 : 32749.0 預測 : 35535.736900176955 差距 : -2786.736900176955\n"
     ]
    },
    {
     "name": "stdout",
     "output_type": "stream",
     "text": [
      "yhat: [35214.899641   30206.75422918]\n",
      "(241). 實際 : 30823.0 預測 : 30206.754229175654 差距 : 616.2457708243455\n"
     ]
    },
    {
     "name": "stdout",
     "output_type": "stream",
     "text": [
      "yhat: [27293.03731883 22539.2613825 ]\n",
      "(242). 實際 : 19623.0 預測 : 22539.261382496603 差距 : -2916.261382496603\n"
     ]
    },
    {
     "name": "stdout",
     "output_type": "stream",
     "text": [
      "yhat: [26366.42816183 28132.47911321]\n",
      "(243). 實際 : 15916.0 預測 : 28132.47911321283 差距 : -12216.47911321283\n"
     ]
    },
    {
     "name": "stdout",
     "output_type": "stream",
     "text": [
      "yhat: [22668.26920493 33493.83685704]\n",
      "(244). 實際 : 35326.0 預測 : 33493.83685704155 差距 : 1832.1631429584522\n"
     ]
    },
    {
     "name": "stdout",
     "output_type": "stream",
     "text": [
      "yhat: [26789.95113907 33624.59142259]\n",
      "(245). 實際 : 34246.0 預測 : 33624.59142258929 差距 : 621.408577410708\n"
     ]
    },
    {
     "name": "stdout",
     "output_type": "stream",
     "text": [
      "yhat: [40107.71029952 36118.85136335]\n",
      "(246). 實際 : 35077.0 預測 : 36118.85136335018 差距 : -1041.8513633501789\n"
     ]
    },
    {
     "name": "stdout",
     "output_type": "stream",
     "text": [
      "yhat: [33397.22337469 34488.12182037]\n",
      "(247). 實際 : 25187.0 預測 : 34488.121820372755 差距 : -9301.121820372755\n"
     ]
    },
    {
     "name": "stdout",
     "output_type": "stream",
     "text": [
      "yhat: [36420.89141833 30407.67219024]\n",
      "(248). 實際 : 23396.0 預測 : 30407.67219024215 差距 : -7011.672190242149\n"
     ]
    },
    {
     "name": "stdout",
     "output_type": "stream",
     "text": [
      "yhat: [22522.92352656 23015.87921825]\n",
      "(249). 實際 : 16743.0 預測 : 23015.87921825296 差距 : -6272.879218252961\n"
     ]
    },
    {
     "name": "stdout",
     "output_type": "stream",
     "text": [
      "yhat: [22235.89969962 21697.59000216]\n",
      "(250). 實際 : 15310.0 預測 : 21697.590002164463 差距 : -6387.590002164463\n"
     ]
    },
    {
     "name": "stdout",
     "output_type": "stream",
     "text": [
      "yhat: [18273.32660602 31285.27290813]\n",
      "(251). 實際 : 26004.0 預測 : 31285.272908129496 差距 : -5281.2729081294965\n"
     ]
    },
    {
     "name": "stdout",
     "output_type": "stream",
     "text": [
      "yhat: [28188.48080152 33777.23382435]\n",
      "(252). 實際 : 30174.0 預測 : 33777.23382435061 差距 : -3603.233824350609\n"
     ]
    },
    {
     "name": "stdout",
     "output_type": "stream",
     "text": [
      "yhat: [33052.32731069 35773.14602799]\n",
      "(253). 實際 : 32989.0 預測 : 35773.14602798859 差距 : -2784.146027988587\n"
     ]
    },
    {
     "name": "stdout",
     "output_type": "stream",
     "text": [
      "yhat: [32329.10728611 30714.80770785]\n",
      "(254). 實際 : 29946.0 預測 : 30714.807707848482 差距 : -768.8077078484821\n"
     ]
    },
    {
     "name": "stdout",
     "output_type": "stream",
     "text": [
      "yhat: [33579.23702177 32068.89023492]\n",
      "(255). 實際 : 27378.0 預測 : 32068.89023492422 差距 : -4690.89023492422\n"
     ]
    },
    {
     "name": "stdout",
     "output_type": "stream",
     "text": [
      "yhat: [26138.4046127  23918.46079305]\n",
      "(256). 實際 : 15219.0 預測 : 23918.460793046732 差距 : -8699.460793046732\n"
     ]
    },
    {
     "name": "stdout",
     "output_type": "stream",
     "text": [
      "yhat: [23741.69789191 25434.34929514]\n",
      "(257). 實際 : 11671.0 預測 : 25434.34929513568 差距 : -13763.349295135678\n"
     ]
    },
    {
     "name": "stdout",
     "output_type": "stream",
     "text": [
      "yhat: [16058.04837643 29609.39440062]\n",
      "(258). 實際 : 13018.0 預測 : 29609.394400615194 差距 : -16591.394400615194\n"
     ]
    },
    {
     "name": "stdout",
     "output_type": "stream",
     "text": [
      "yhat: [23311.3945495  32015.81343798]\n",
      "(259). 實際 : 35482.0 預測 : 32015.813437976663 差距 : 3466.1865620233366\n"
     ]
    },
    {
     "name": "stdout",
     "output_type": "stream",
     "text": [
      "yhat: [23400.72561782 26782.28783539]\n",
      "(260). 實際 : 35212.0 預測 : 26782.287835388543 差距 : 8429.712164611457\n"
     ]
    },
    {
     "name": "stdout",
     "output_type": "stream",
     "text": [
      "yhat: [39898.07800522 33646.82653745]\n",
      "(261). 實際 : 35604.0 預測 : 33646.82653744888 差距 : 1957.1734625511235\n"
     ]
    },
    {
     "name": "stdout",
     "output_type": "stream",
     "text": [
      "yhat: [29159.28756591 27634.11432176]\n",
      "(262). 實際 : 33062.0 預測 : 27634.11432176188 差距 : 5427.885678238119\n"
     ]
    },
    {
     "name": "stdout",
     "output_type": "stream",
     "text": [
      "yhat: [33668.84561515 26614.31068134]\n",
      "(263). 實際 : 20630.0 預測 : 26614.310681345 差距 : -5984.3106813449995\n"
     ]
    },
    {
     "name": "stdout",
     "output_type": "stream",
     "text": [
      "yhat: [26012.39084975 27660.59118579]\n",
      "(264). 實際 : 17762.0 預測 : 27660.591185789257 差距 : -9898.591185789257\n"
     ]
    },
    {
     "name": "stdout",
     "output_type": "stream",
     "text": [
      "yhat: [22843.6947606  29817.32773249]\n",
      "(265). 實際 : 37985.0 預測 : 29817.32773249403 差距 : 8167.672267505968\n"
     ]
    },
    {
     "name": "stdout",
     "output_type": "stream",
     "text": [
      "yhat: [25017.92480602 33793.94561939]\n",
      "(266). 實際 : 36746.0 預測 : 33793.945619391394 差距 : 2952.054380608606\n"
     ]
    },
    {
     "name": "stdout",
     "output_type": "stream",
     "text": [
      "yhat: [45230.12403161 40172.70909125]\n",
      "(267). 實際 : 33155.0 預測 : 40172.709091252356 差距 : -7017.709091252356\n"
     ]
    },
    {
     "name": "stdout",
     "output_type": "stream",
     "text": [
      "yhat: [35057.05594094 37419.35984168]\n",
      "(268). 實際 : 34106.0 預測 : 37419.35984167993 差距 : -3313.3598416799286\n"
     ]
    },
    {
     "name": "stdout",
     "output_type": "stream",
     "text": [
      "yhat: [35127.60373223 30475.73338981]\n",
      "(269). 實際 : 28927.0 預測 : 30475.73338980687 差距 : -1548.7333898068682\n"
     ]
    },
    {
     "name": "stdout",
     "output_type": "stream",
     "text": [
      "yhat: [30122.49372596 26896.53988669]\n",
      "(270). 實際 : 15714.0 預測 : 26896.539886685678 差距 : -11182.539886685678\n"
     ]
    },
    {
     "name": "stdout",
     "output_type": "stream",
     "text": [
      "yhat: [25499.05691939 26081.85942557]\n",
      "(271). 實際 : 16692.0 預測 : 26081.859425574537 差距 : -9389.859425574537\n"
     ]
    },
    {
     "name": "stdout",
     "output_type": "stream",
     "text": [
      "yhat: [17978.00398934 27840.27356033]\n",
      "(272). 實際 : 34528.0 預測 : 27840.273560333735 差距 : 6687.726439666265\n"
     ]
    },
    {
     "name": "stdout",
     "output_type": "stream",
     "text": [
      "yhat: [27115.229561   34125.55968803]\n",
      "(273). 實際 : 37055.0 預測 : 34125.559688029854 差距 : 2929.4403119701456\n"
     ]
    },
    {
     "name": "stdout",
     "output_type": "stream",
     "text": [
      "yhat: [39748.01497466 39102.27380006]\n",
      "(274). 實際 : 36783.0 預測 : 39102.27380005969 差距 : -2319.2738000596873\n"
     ]
    },
    {
     "name": "stdout",
     "output_type": "stream",
     "text": [
      "yhat: [37242.9452269  34615.75624176]\n",
      "(275). 實際 : 32453.0 預測 : 34615.756241760646 差距 : -2162.756241760646\n"
     ]
    },
    {
     "name": "stdout",
     "output_type": "stream",
     "text": [
      "yhat: [34350.66279827 30781.35619417]\n",
      "(276). 實際 : 33187.0 預測 : 30781.356194169413 差距 : 2405.6438058305866\n"
     ]
    },
    {
     "name": "stdout",
     "output_type": "stream",
     "text": [
      "yhat: [29091.46125187 25406.75595345]\n",
      "(277). 實際 : 22092.0 預測 : 25406.755953446343 差距 : -3314.7559534463435\n"
     ]
    },
    {
     "name": "stdout",
     "output_type": "stream",
     "text": [
      "yhat: [29195.69755989 25654.64380498]\n",
      "(278). 實際 : 17850.0 預測 : 25654.643804978597 差距 : -7804.6438049785975\n"
     ]
    },
    {
     "name": "stdout",
     "output_type": "stream",
     "text": [
      "yhat: [20290.38671191 30461.49920299]\n",
      "(279). 實際 : 32536.0 預測 : 30461.499202985924 差距 : 2074.500797014076\n"
     ]
    },
    {
     "name": "stdout",
     "output_type": "stream",
     "text": [
      "yhat: [28643.02157922 37302.51439207]\n",
      "(280). 實際 : 28553.0 預測 : 37302.514392066885 差距 : -8749.514392066885\n"
     ]
    },
    {
     "name": "stdout",
     "output_type": "stream",
     "text": [
      "yhat: [40357.14756927 38901.78921413]\n",
      "(281). 實際 : 33241.0 預測 : 38901.78921413046 差距 : -5660.789214130462\n"
     ]
    },
    {
     "name": "stdout",
     "output_type": "stream",
     "text": [
      "yhat: [29361.94874485 30141.59720693]\n",
      "(282). 實際 : 29893.0 預測 : 30141.597206927843 差距 : -248.59720692784322\n"
     ]
    },
    {
     "name": "stdout",
     "output_type": "stream",
     "text": [
      "yhat: [33349.10900317 29347.47222381]\n",
      "(283). 實際 : 30399.0 預測 : 29347.47222381109 差距 : 1051.5277761889083\n"
     ]
    },
    {
     "name": "stdout",
     "output_type": "stream",
     "text": [
      "yhat: [26247.95417812 23860.56537988]\n",
      "(284). 實際 : 18229.0 預測 : 23860.56537987865 差距 : -5631.565379878652\n"
     ]
    },
    {
     "name": "stdout",
     "output_type": "stream",
     "text": [
      "yhat: [27195.53264145 25006.75657778]\n",
      "(285). 實際 : 17411.0 預測 : 25006.756577783486 差距 : -7595.756577783486\n"
     ]
    },
    {
     "name": "stdout",
     "output_type": "stream",
     "text": [
      "yhat: [17687.7374401  28873.42610109]\n",
      "(286). 實際 : 37815.0 預測 : 28873.426101094316 差距 : 8941.573898905684\n"
     ]
    },
    {
     "name": "stdout",
     "output_type": "stream",
     "text": [
      "yhat: [28375.7238446  34822.71317928]\n",
      "(287). 實際 : 36588.0 預測 : 34822.71317928405 差距 : 1765.2868207159481\n"
     ]
    },
    {
     "name": "stdout",
     "output_type": "stream",
     "text": [
      "yhat: [42800.5937265  40491.35125925]\n",
      "(288). 實際 : 34916.0 預測 : 40491.35125924936 差距 : -5575.351259249357\n"
     ]
    },
    {
     "name": "stdout",
     "output_type": "stream",
     "text": [
      "yhat: [34970.92264537 32988.46066999]\n",
      "(289). 實際 : 39537.0 預測 : 32988.46066999204 差距 : 6548.5393300079595\n"
     ]
    },
    {
     "name": "stdout",
     "output_type": "stream",
     "text": [
      "yhat: [32467.84070445 30582.01118989]\n",
      "(290). 實際 : 37502.0 預測 : 30582.011189887322 差距 : 6919.988810112678\n"
     ]
    },
    {
     "name": "stdout",
     "output_type": "stream",
     "text": [
      "yhat: [36645.6153813  29767.35647774]\n",
      "(291). 實際 : 21742.0 預測 : 29767.35647774415 差距 : -8025.35647774415\n"
     ]
    },
    {
     "name": "stdout",
     "output_type": "stream",
     "text": [
      "yhat: [30344.90433734 27322.18214999]\n",
      "(292). 實際 : 16483.0 預測 : 27322.18214999088 差距 : -10839.18214999088\n"
     ]
    },
    {
     "name": "stdout",
     "output_type": "stream",
     "text": [
      "yhat: [20154.89723251 31927.3375864 ]\n",
      "(293). 實際 : 28959.0 預測 : 31927.337586399935 差距 : -2968.3375863999354\n"
     ]
    },
    {
     "name": "stdout",
     "output_type": "stream",
     "text": [
      "yhat: [29428.09525749 37067.20120429]\n",
      "(294). 實際 : 27134.0 預測 : 37067.20120428779 差距 : -9933.20120428779\n"
     ]
    },
    {
     "name": "stdout",
     "output_type": "stream",
     "text": [
      "yhat: [36922.5112352  35218.21729634]\n",
      "(295). 實際 : 21726.0 預測 : 35218.21729634465 差距 : -13492.21729634465\n"
     ]
    },
    {
     "name": "stdout",
     "output_type": "stream",
     "text": [
      "yhat: [27350.98579772 29186.74378422]\n",
      "(296). 實際 : 9696.0 預測 : 29186.74378422447 差距 : -19490.74378422447\n"
     ]
    },
    {
     "name": "stdout",
     "output_type": "stream",
     "text": [
      "yhat: [25226.12522642 26613.1809811 ]\n",
      "(297). 實際 : 6840.0 預測 : 26613.180981101665 差距 : -19773.180981101665\n"
     ]
    },
    {
     "name": "stdout",
     "output_type": "stream",
     "text": [
      "yhat: [12985.49422602 16865.50357516]\n",
      "(298). 實際 : 8052.0 預測 : 16865.50357516465 差距 : -8813.50357516465\n"
     ]
    },
    {
     "name": "stdout",
     "output_type": "stream",
     "text": [
      "yhat: [11629.69494432 12987.2139729 ]\n",
      "(299). 實際 : 7822.0 預測 : 12987.213972904396 差距 : -5165.213972904396\n"
     ]
    },
    {
     "name": "stdout",
     "output_type": "stream",
     "text": [
      "yhat: [10249.12217891 21223.02101217]\n",
      "(300). 實際 : 9802.0 預測 : 21223.02101217294 差距 : -11421.02101217294\n"
     ]
    },
    {
     "name": "stdout",
     "output_type": "stream",
     "text": [
      "yhat: [20485.48934852 31255.74477738]\n",
      "(301). 實際 : 11329.0 預測 : 31255.7447773789 差距 : -19926.7447773789\n"
     ]
    },
    {
     "name": "stdout",
     "output_type": "stream",
     "text": [
      "yhat: [21231.88622071 24682.45899358]\n",
      "(302). 實際 : 16432.0 預測 : 24682.45899357754 差距 : -8250.45899357754\n"
     ]
    },
    {
     "name": "stdout",
     "output_type": "stream",
     "text": [
      "yhat: [16580.50743072 16999.56018943]\n",
      "(303). 實際 : 41506.0 預測 : 16999.560189426582 差距 : 24506.439810573418\n"
     ]
    },
    {
     "name": "stdout",
     "output_type": "stream",
     "text": [
      "yhat: [18501.86743337 18641.02427999]\n",
      "(304). 實際 : 43581.0 預測 : 18641.024279991896 差距 : 24939.975720008104\n"
     ]
    },
    {
     "name": "stdout",
     "output_type": "stream",
     "text": [
      "yhat: [37396.86885089 23962.64877275]\n",
      "(305). 實際 : 40644.0 預測 : 23962.64877274919 差距 : 16681.35122725081\n"
     ]
    },
    {
     "name": "stdout",
     "output_type": "stream",
     "text": [
      "yhat: [29571.70136797 28955.12811857]\n",
      "(306). 實際 : 24024.0 預測 : 28955.12811856603 差距 : -4931.12811856603\n"
     ]
    },
    {
     "name": "stdout",
     "output_type": "stream",
     "text": [
      "yhat: [41147.18472285 45006.98134754]\n",
      "(307). 實際 : 51888.0 預測 : 45006.98134754206 差距 : 6881.01865245794\n"
     ]
    },
    {
     "name": "stdout",
     "output_type": "stream",
     "text": [
      "yhat: [30599.9175635  36037.46230515]\n",
      "(308). 實際 : 52273.0 預測 : 36037.462305149136 差距 : 16235.537694850864\n"
     ]
    },
    {
     "name": "stdout",
     "output_type": "stream",
     "text": [
      "yhat: [55801.46295471 42073.67368935]\n",
      "(309). 實際 : 50110.0 預測 : 42073.673689351584 差距 : 8036.3263106484155\n"
     ]
    },
    {
     "name": "stdout",
     "output_type": "stream",
     "text": [
      "yhat: [39022.30982758 39513.91402658]\n",
      "(310). 實際 : 56753.0 預測 : 39513.914026584025 差距 : 17239.085973415975\n"
     ]
    },
    {
     "name": "stdout",
     "output_type": "stream",
     "text": [
      "yhat: [49132.83537121 42938.65013496]\n",
      "(311). 實際 : 50372.0 預測 : 42938.650134962736 差距 : 7433.349865037264\n"
     ]
    },
    {
     "name": "stdout",
     "output_type": "stream",
     "text": [
      "yhat: [49356.67405115 39331.93601063]\n",
      "(312). 實際 : 21962.0 預測 : 39331.936010633675 差距 : -17369.936010633675\n"
     ]
    },
    {
     "name": "stdout",
     "output_type": "stream",
     "text": [
      "yhat: [40334.86210392 35858.93931583]\n",
      "(313). 實際 : 22407.0 預測 : 35858.93931583171 差距 : -13451.93931583171\n"
     ]
    },
    {
     "name": "stdout",
     "output_type": "stream",
     "text": [
      "yhat: [25467.45093066 41222.78231675]\n",
      "(314). 實際 : 43476.0 預測 : 41222.78231674685 差距 : 2253.2176832531477\n"
     ]
    },
    {
     "name": "stdout",
     "output_type": "stream",
     "text": [
      "yhat: [35546.84913734 37478.5016189 ]\n",
      "(315). 實際 : 41422.0 預測 : 37478.50161890331 差距 : 3943.498381096688\n"
     ]
    },
    {
     "name": "stdout",
     "output_type": "stream",
     "text": [
      "yhat: [43627.20172565 37720.34912156]\n",
      "(316). 實際 : 25210.0 預測 : 37720.34912156322 差距 : -12510.349121563217\n"
     ]
    },
    {
     "name": "stdout",
     "output_type": "stream",
     "text": [
      "yhat: [35491.66776112 37556.0388301 ]\n",
      "(317). 實際 : 44224.0 預測 : 37556.03883009705 差距 : 6667.961169902948\n"
     ]
    },
    {
     "name": "stdout",
     "output_type": "stream",
     "text": [
      "yhat: [28488.51249549 32981.74776362]\n",
      "(318). 實際 : 40245.0 預測 : 32981.74776361651 差距 : 7263.252236383487\n"
     ]
    },
    {
     "name": "stdout",
     "output_type": "stream",
     "text": [
      "yhat: [44486.08078727 29248.47483187]\n",
      "(319). 實際 : 24579.0 預測 : 29248.474831872576 差距 : -4669.474831872576\n"
     ]
    },
    {
     "name": "stdout",
     "output_type": "stream",
     "text": [
      "yhat: [25488.68427336 27142.77323545]\n",
      "(320). 實際 : 24014.0 預測 : 27142.77323544927 差距 : -3128.773235449269\n"
     ]
    },
    {
     "name": "stdout",
     "output_type": "stream",
     "text": [
      "yhat: [25370.41378487 38518.30590721]\n",
      "(321). 實際 : 52827.0 預測 : 38518.30590720751 差距 : 14308.694092792488\n"
     ]
    },
    {
     "name": "stdout",
     "output_type": "stream",
     "text": [
      "yhat: [37700.18425424 42883.07238647]\n",
      "(322). 實際 : 52448.0 預測 : 42883.07238646932 差距 : 9564.927613530679\n"
     ]
    },
    {
     "name": "stdout",
     "output_type": "stream",
     "text": [
      "yhat: [57279.8499269  43756.00650828]\n",
      "(323). 實際 : 46876.0 預測 : 43756.00650827523 差距 : 3119.9934917247665\n"
     ]
    },
    {
     "name": "stdout",
     "output_type": "stream",
     "text": [
      "yhat: [40379.53607241 42109.56918734]\n",
      "(324). 實際 : 49249.0 預測 : 42109.56918734275 差距 : 7139.4308126572505\n"
     ]
    },
    {
     "name": "stdout",
     "output_type": "stream",
     "text": [
      "yhat: [47409.81419678 40771.87833799]\n",
      "(325). 實際 : 41929.0 預測 : 40771.878337991766 差距 : 1157.1216620082341\n"
     ]
    },
    {
     "name": "stdout",
     "output_type": "stream",
     "text": [
      "yhat: [41029.35094511 25730.66388302]\n",
      "(326). 實際 : 27660.0 預測 : 25730.663883023644 差距 : 1929.3361169763557\n"
     ]
    },
    {
     "name": "stdout",
     "output_type": "stream",
     "text": [
      "yhat: [28775.22274676 28728.76475402]\n",
      "(327). 實際 : 24275.0 預測 : 28728.764754016876 差距 : -4453.764754016876\n"
     ]
    },
    {
     "name": "stdout",
     "output_type": "stream",
     "text": [
      "yhat: [29007.88070195 40574.0932336 ]\n",
      "(328). 實際 : 47342.0 預測 : 40574.09323359975 差距 : 6767.9067664002505\n"
     ]
    },
    {
     "name": "stdout",
     "output_type": "stream",
     "text": [
      "yhat: [35417.42928981 40453.92495919]\n",
      "(329). 實際 : 48685.0 預測 : 40453.92495918849 差距 : 8231.075040811513\n"
     ]
    },
    {
     "name": "stdout",
     "output_type": "stream",
     "text": [
      "yhat: [51543.99955191 43461.74513929]\n",
      "(330). 實際 : 49806.0 預測 : 43461.74513928646 差距 : 6344.2548607135395\n"
     ]
    },
    {
     "name": "stdout",
     "output_type": "stream",
     "text": [
      "yhat: [38993.84917242 39666.63248583]\n",
      "(331). 實際 : 49290.0 預測 : 39666.632485831135 差距 : 9623.367514168865\n"
     ]
    },
    {
     "name": "stdout",
     "output_type": "stream",
     "text": [
      "yhat: [49841.42767207 42825.36167737]\n",
      "(332). 實際 : 47696.0 預測 : 42825.361677372515 差距 : 4870.638322627485\n"
     ]
    },
    {
     "name": "stdout",
     "output_type": "stream",
     "text": [
      "yhat: [42802.59995958 26791.64275508]\n",
      "(333). 實際 : 29733.0 預測 : 26791.64275508124 差距 : 2941.3572449187595\n"
     ]
    },
    {
     "name": "stdout",
     "output_type": "stream",
     "text": [
      "yhat: [31244.29485468 27056.39604838]\n",
      "(334). 實際 : 27327.0 預測 : 27056.396048382314 差距 : 270.6039516176861\n"
     ]
    },
    {
     "name": "stdout",
     "output_type": "stream",
     "text": [
      "yhat: [25690.45737847 42816.34243233]\n",
      "(335). 實際 : 60886.0 預測 : 42816.3424323347 差距 : 18069.6575676653\n"
     ]
    },
    {
     "name": "stdout",
     "output_type": "stream",
     "text": [
      "yhat: [44782.09390065 47048.39863813]\n",
      "(336). 實際 : 52838.0 預測 : 47048.39863812653 差距 : 5789.601361873472\n"
     ]
    },
    {
     "name": "stdout",
     "output_type": "stream",
     "text": [
      "yhat: [61359.53599063 48545.07387335]\n",
      "(337). 實際 : 48851.0 預測 : 48545.073873351444 差距 : 305.9261266485555\n"
     ]
    },
    {
     "name": "stdout",
     "output_type": "stream",
     "text": [
      "yhat: [43466.99481384 46585.22856456]\n",
      "(338). 實際 : 47947.0 預測 : 46585.22856455963 差距 : 1361.7714354403724\n"
     ]
    },
    {
     "name": "stdout",
     "output_type": "stream",
     "text": [
      "yhat: [49161.63544154 41775.48070306]\n",
      "(339). 實際 : 42929.0 預測 : 41775.48070306122 差距 : 1153.519296938779\n"
     ]
    },
    {
     "name": "stdout",
     "output_type": "stream",
     "text": [
      "yhat: [40400.96601728 25480.31337271]\n",
      "(340). 實際 : 29875.0 預測 : 25480.313372713295 差距 : 4394.686627286705\n"
     ]
    },
    {
     "name": "stdout",
     "output_type": "stream",
     "text": [
      "yhat: [27458.02466787 24224.87070052]\n",
      "(341). 實際 : 23300.0 預測 : 24224.870700524283 差距 : -924.8707005242832\n"
     ]
    },
    {
     "name": "stdout",
     "output_type": "stream",
     "text": [
      "yhat: [25833.9705919  43270.08027667]\n",
      "(342). 實際 : 49985.0 預測 : 43270.08027666868 差距 : 6714.919723331317\n"
     ]
    },
    {
     "name": "stdout",
     "output_type": "stream",
     "text": [
      "yhat: [41171.7054436  45988.27320781]\n",
      "(343). 實際 : 47813.0 預測 : 45988.273207810664 差距 : 1824.7267921893363\n"
     ]
    },
    {
     "name": "stdout",
     "output_type": "stream",
     "text": [
      "yhat: [53007.68214918 42678.17922722]\n",
      "(344). 實際 : 45811.0 預測 : 42678.17922722395 差距 : 3132.8207727760528\n"
     ]
    },
    {
     "name": "stdout",
     "output_type": "stream",
     "text": [
      "yhat: [38592.38377166 41080.15747732]\n",
      "(345). 實際 : 48508.0 預測 : 41080.157477320725 差距 : 7427.842522679275\n"
     ]
    },
    {
     "name": "stdout",
     "output_type": "stream",
     "text": [
      "yhat: [47143.64434335 41131.92868268]\n",
      "(346). 實際 : 38940.0 預測 : 41131.928682680664 差距 : -2191.9286826806638\n"
     ]
    },
    {
     "name": "stdout",
     "output_type": "stream",
     "text": [
      "yhat: [42305.32121461 26510.94739734]\n",
      "(347). 實際 : 25868.0 預測 : 26510.947397337386 差距 : -642.9473973373861\n"
     ]
    },
    {
     "name": "stdout",
     "output_type": "stream",
     "text": [
      "yhat: [23978.32980538 23284.2166417 ]\n",
      "(348). 實際 : 21020.0 預測 : 23284.2166416982 差距 : -2264.2166416982\n"
     ]
    },
    {
     "name": "stdout",
     "output_type": "stream",
     "text": [
      "yhat: [24953.07277678 42559.59291336]\n",
      "(349). 實際 : 42199.0 預測 : 42559.59291335753 差距 : -360.5929133575264\n"
     ]
    },
    {
     "name": "stdout",
     "output_type": "stream",
     "text": [
      "yhat: [39310.06441861 44550.81858157]\n",
      "(350). 實際 : 38835.0 預測 : 44550.818581573636 差距 : -5715.818581573636\n"
     ]
    },
    {
     "name": "stdout",
     "output_type": "stream",
     "text": [
      "yhat: [46817.16194372 39596.7050562 ]\n",
      "(351). 實際 : 26854.0 預測 : 39596.70505619953 差距 : -12742.705056199527\n"
     ]
    },
    {
     "name": "stdout",
     "output_type": "stream",
     "text": [
      "yhat: [32742.377445   38203.70519025]\n",
      "(352). 實際 : 15337.0 預測 : 38203.705190247565 差距 : -22866.705190247565\n"
     ]
    },
    {
     "name": "stdout",
     "output_type": "stream",
     "text": [
      "yhat: [32906.08389693 31388.56430701]\n",
      "(353). 實際 : 14247.0 預測 : 31388.56430700854 差距 : -17141.56430700854\n"
     ]
    },
    {
     "name": "stdout",
     "output_type": "stream",
     "text": [
      "yhat: [17169.52126319 11118.30163776]\n",
      "(354). 實際 : 13949.0 預測 : 11118.301637755732 差距 : 2830.6983622442676\n"
     ]
    },
    {
     "name": "stdout",
     "output_type": "stream",
     "text": [
      "yhat: [ 8813.99732824 10854.49751357]\n",
      "(355). 實際 : 16873.0 預測 : 10854.497513574766 差距 : 6018.502486425234\n"
     ]
    },
    {
     "name": "stdout",
     "output_type": "stream",
     "text": [
      "yhat: [15513.90146439 34225.88304489]\n",
      "(356). 實際 : 36380.0 預測 : 34225.883044889226 差距 : 2154.116955110774\n"
     ]
    },
    {
     "name": "stdout",
     "output_type": "stream",
     "text": [
      "yhat: [35503.08474491 42093.48187327]\n",
      "(357). 實際 : 36882.0 預測 : 42093.481873272 差距 : -5211.481873272001\n"
     ]
    },
    {
     "name": "stdout",
     "output_type": "stream",
     "text": [
      "yhat: [42888.06462697 36139.12923682]\n",
      "(358). 實際 : 38185.0 預測 : 36139.12923681582 差距 : 2045.8707631841826\n"
     ]
    },
    {
     "name": "stdout",
     "output_type": "stream",
     "text": [
      "yhat: [30437.18763898 33354.55567475]\n",
      "(359). 實際 : 53390.0 預測 : 33354.5556747465 差距 : 20035.4443252535\n"
     ]
    },
    {
     "name": "stdout",
     "output_type": "stream",
     "text": [
      "yhat: [39857.88199623 34585.98107251]\n",
      "(360). 實際 : 44067.0 預測 : 34585.98107250601 差距 : 9481.018927493991\n"
     ]
    },
    {
     "name": "stdout",
     "output_type": "stream",
     "text": [
      "yhat: [45712.90463002 27325.57868788]\n",
      "(361). 實際 : 28044.0 預測 : 27325.5786878846 差距 : 718.4213121153989\n"
     ]
    },
    {
     "name": "stdout",
     "output_type": "stream",
     "text": [
      "yhat: [27103.86058793 29368.26236459]\n",
      "(362). 實際 : 28903.0 預測 : 29368.262364590333 差距 : -465.26236459033316\n"
     ]
    },
    {
     "name": "stdout",
     "output_type": "stream",
     "text": [
      "yhat: [29718.19813643 43815.71621251]\n",
      "(363). 實際 : 54593.0 預測 : 43815.71621251351 差距 : 10777.283787486493\n"
     ]
    },
    {
     "name": "stdout",
     "output_type": "stream",
     "text": [
      "yhat: [43389.63609214 45308.42768747]\n",
      "(364). 實際 : 57445.0 預測 : 45308.427687466356 差距 : 12136.572312533644\n"
     ]
    },
    {
     "name": "stdout",
     "output_type": "stream",
     "text": [
      "yhat: [54949.32166764 44549.91911325]\n",
      "(365). 實際 : 58919.0 預測 : 44549.91911324792 差距 : 14369.080886752083\n"
     ]
    },
    {
     "name": "stdout",
     "output_type": "stream",
     "text": [
      "yhat: [45411.48596136 45833.83323755]\n",
      "(366). 實際 : 51542.0 預測 : 45833.833237550185 差距 : 5708.166762449815\n"
     ]
    },
    {
     "name": "stdout",
     "output_type": "stream",
     "text": [
      "yhat: [56754.26082088 45627.88338776]\n",
      "(367). 實際 : 55350.0 預測 : 45627.88338775869 差距 : 9722.116612241312\n"
     ]
    },
    {
     "name": "stdout",
     "output_type": "stream",
     "text": [
      "yhat: [41277.4859783  27864.47524513]\n",
      "(368). 實際 : 31785.0 預測 : 27864.475245130063 差距 : 3920.524754869937\n"
     ]
    },
    {
     "name": "stdout",
     "output_type": "stream",
     "text": [
      "yhat: [39521.15577806 32527.49766278]\n",
      "(369). 實際 : 26901.0 預測 : 32527.49766277885 差距 : -5626.497662778849\n"
     ]
    },
    {
     "name": "stdout",
     "output_type": "stream",
     "text": [
      "yhat: [27478.17234847 46607.20289774]\n",
      "(370). 實際 : 62993.0 預測 : 46607.20289774025 差距 : 16385.79710225975\n"
     ]
    },
    {
     "name": "stdout",
     "output_type": "stream",
     "text": [
      "yhat: [46365.8277432  47136.66198422]\n",
      "(371). 實際 : 54583.0 預測 : 47136.66198421866 差距 : 7446.338015781337\n"
     ]
    },
    {
     "name": "stdout",
     "output_type": "stream",
     "text": [
      "yhat: [61150.0207657  46962.07317285]\n",
      "(372). 實際 : 45815.0 預測 : 46962.073172854165 差距 : -1147.073172854165\n"
     ]
    },
    {
     "name": "stdout",
     "output_type": "stream",
     "text": [
      "yhat: [42863.87634374 45063.04678475]\n",
      "(373). 實際 : 35870.0 預測 : 45063.04678475457 差距 : -9193.046784754573\n"
     ]
    },
    {
     "name": "stdout",
     "output_type": "stream",
     "text": [
      "yhat: [47675.13707686 42002.76621136]\n",
      "(374). 實際 : 32929.0 預測 : 42002.766211361566 差距 : -9073.766211361566\n"
     ]
    },
    {
     "name": "stdout",
     "output_type": "stream",
     "text": [
      "yhat: [32645.11362651 19783.94655809]\n",
      "(375). 實際 : 22126.0 預測 : 19783.946558091386 差距 : 2342.0534419086143\n"
     ]
    },
    {
     "name": "stdout",
     "output_type": "stream",
     "text": [
      "yhat: [20330.62862166 22103.45849079]\n",
      "(376). 實際 : 19550.0 預測 : 22103.458490793917 差距 : -2553.458490793917\n"
     ]
    },
    {
     "name": "stdout",
     "output_type": "stream",
     "text": [
      "yhat: [22937.86118478 41668.76660027]\n",
      "(377). 實際 : 34535.0 預測 : 41668.76660026658 差距 : -7133.766600266579\n"
     ]
    },
    {
     "name": "stdout",
     "output_type": "stream",
     "text": [
      "yhat: [38979.86281805 43311.51703466]\n",
      "(378). 實際 : 33590.0 預測 : 43311.51703466069 差距 : -9721.51703466069\n"
     ]
    },
    {
     "name": "stdout",
     "output_type": "stream",
     "text": [
      "yhat: [39717.59739996 36575.4186898 ]\n",
      "(379). 實際 : nan 預測 : 36575.4186898018 差距 : nan\n"
     ]
    }
   ],
   "source": [
    "test_ts, predictions = arima.predict(\n",
    "    train_data, test_shifted, \n",
    "    field_name=fieldName, \n",
    "    act_field_name=actFiledName,\n",
    "    best_d=best_d,\n",
    "    best_p=best_p,\n",
    "    best_q=best_q,\n",
    "    training_window=training_window,\n",
    "    horizon=HORIZON\n",
    ")"
   ]
  },
  {
   "cell_type": "markdown",
   "id": "bacd68db-5bfa-43a3-a583-cff048cf9dec",
   "metadata": {
    "papermill": {
     "duration": 0.00972,
     "end_time": "2025-06-19T03:04:23.077638",
     "exception": false,
     "start_time": "2025-06-19T03:04:23.067918",
     "status": "completed"
    },
    "tags": []
   },
   "source": [
    "# 評估數據"
   ]
  },
  {
   "cell_type": "code",
   "execution_count": 11,
   "id": "59070cf7",
   "metadata": {
    "execution": {
     "iopub.execute_input": "2025-06-19T03:04:23.097300Z",
     "iopub.status.busy": "2025-06-19T03:04:23.097186Z",
     "iopub.status.idle": "2025-06-19T03:04:23.099249Z",
     "shell.execute_reply": "2025-06-19T03:04:23.099022Z"
    },
    "papermill": {
     "duration": 0.012722,
     "end_time": "2025-06-19T03:04:23.099906",
     "exception": false,
     "start_time": "2025-06-19T03:04:23.087184",
     "status": "completed"
    },
    "tags": []
   },
   "outputs": [
    {
     "name": "stdout",
     "output_type": "stream",
     "text": [
      "NaN 值的索引： []\n"
     ]
    }
   ],
   "source": [
    "# predictions 找出 nan 的值\n",
    "nan_mask = np.isnan(predictions)\n",
    "\n",
    "nan_indices = np.where(nan_mask)[0]\n",
    "print(\"NaN 值的索引：\", nan_indices)"
   ]
  },
  {
   "cell_type": "code",
   "execution_count": 12,
   "id": "7eef1717",
   "metadata": {
    "execution": {
     "iopub.execute_input": "2025-06-19T03:04:23.119573Z",
     "iopub.status.busy": "2025-06-19T03:04:23.119472Z",
     "iopub.status.idle": "2025-06-19T03:04:23.123215Z",
     "shell.execute_reply": "2025-06-19T03:04:23.123012Z"
    },
    "papermill": {
     "duration": 0.014223,
     "end_time": "2025-06-19T03:04:23.123849",
     "exception": false,
     "start_time": "2025-06-19T03:04:23.109626",
     "status": "completed"
    },
    "tags": []
   },
   "outputs": [
    {
     "name": "stdout",
     "output_type": "stream",
     "text": [
      "\u001b[93m# 評估預測結果\u001b[0m\n",
      "平均絕對誤差（MAE）: 10396.21893\n",
      "平均絕對百分比誤差（MAPE）: 0.33184\n",
      "均方誤差（MSE）: 606693962.92458\n",
      "均方根誤差（RMSE）: 24631.15838\n",
      "R square: -1.49298\n"
     ]
    },
    {
     "name": "stderr",
     "output_type": "stream",
     "text": [
      "/Users/elliesu/Developer/nckuenv/lib/python3.12/site-packages/sklearn/metrics/_regression.py:492: FutureWarning: 'squared' is deprecated in version 1.4 and will be removed in 1.6. To calculate the root mean squared error, use the function'root_mean_squared_error'.\n",
      "  warnings.warn(\n"
     ]
    }
   ],
   "source": [
    "eval_df = test_ts.copy() \n",
    "test_acts = eval_df[actFiledName].values\n",
    "\n",
    "# predictions 若有 nan 補中位數\n",
    "predictions = np.nan_to_num(predictions, nan=np.nanmedian(predictions)) \n",
    "  \n",
    "mae, mape, mse, rmse, r_square = arima.score(actual=test_ts[actFiledName].values, predict=predictions)"
   ]
  },
  {
   "cell_type": "code",
   "execution_count": 13,
   "id": "6ae03f02-c567-4641-b809-b221db33cc4b",
   "metadata": {
    "execution": {
     "iopub.execute_input": "2025-06-19T03:04:23.143654Z",
     "iopub.status.busy": "2025-06-19T03:04:23.143535Z",
     "iopub.status.idle": "2025-06-19T03:04:23.148109Z",
     "shell.execute_reply": "2025-06-19T03:04:23.147900Z"
    },
    "papermill": {
     "duration": 0.015197,
     "end_time": "2025-06-19T03:04:23.148735",
     "exception": false,
     "start_time": "2025-06-19T03:04:23.133538",
     "status": "completed"
    },
    "tags": []
   },
   "outputs": [
    {
     "data": {
      "text/html": [
       "<div>\n",
       "<style scoped>\n",
       "    .dataframe tbody tr th:only-of-type {\n",
       "        vertical-align: middle;\n",
       "    }\n",
       "\n",
       "    .dataframe tbody tr th {\n",
       "        vertical-align: top;\n",
       "    }\n",
       "\n",
       "    .dataframe thead th {\n",
       "        text-align: right;\n",
       "    }\n",
       "</style>\n",
       "<table border=\"1\" class=\"dataframe\">\n",
       "  <thead>\n",
       "    <tr style=\"text-align: right;\">\n",
       "      <th></th>\n",
       "      <th>Actual</th>\n",
       "      <th>Predicted</th>\n",
       "      <th>Error</th>\n",
       "      <th>Percentage Error</th>\n",
       "    </tr>\n",
       "  </thead>\n",
       "  <tbody>\n",
       "    <tr>\n",
       "      <th>0</th>\n",
       "      <td>42924.0</td>\n",
       "      <td>36916.198646</td>\n",
       "      <td>6007.801354</td>\n",
       "      <td>0.139964</td>\n",
       "    </tr>\n",
       "    <tr>\n",
       "      <th>1</th>\n",
       "      <td>43556.0</td>\n",
       "      <td>37148.641039</td>\n",
       "      <td>6407.358961</td>\n",
       "      <td>0.147106</td>\n",
       "    </tr>\n",
       "    <tr>\n",
       "      <th>2</th>\n",
       "      <td>43756.0</td>\n",
       "      <td>28997.217388</td>\n",
       "      <td>14758.782612</td>\n",
       "      <td>0.337297</td>\n",
       "    </tr>\n",
       "    <tr>\n",
       "      <th>3</th>\n",
       "      <td>42312.0</td>\n",
       "      <td>31237.494097</td>\n",
       "      <td>11074.505903</td>\n",
       "      <td>0.261734</td>\n",
       "    </tr>\n",
       "    <tr>\n",
       "      <th>4</th>\n",
       "      <td>27920.0</td>\n",
       "      <td>47257.119284</td>\n",
       "      <td>19337.119284</td>\n",
       "      <td>0.692590</td>\n",
       "    </tr>\n",
       "    <tr>\n",
       "      <th>...</th>\n",
       "      <td>...</td>\n",
       "      <td>...</td>\n",
       "      <td>...</td>\n",
       "      <td>...</td>\n",
       "    </tr>\n",
       "    <tr>\n",
       "      <th>374</th>\n",
       "      <td>32929.0</td>\n",
       "      <td>42002.766211</td>\n",
       "      <td>9073.766211</td>\n",
       "      <td>0.275555</td>\n",
       "    </tr>\n",
       "    <tr>\n",
       "      <th>375</th>\n",
       "      <td>22126.0</td>\n",
       "      <td>19783.946558</td>\n",
       "      <td>2342.053442</td>\n",
       "      <td>0.105851</td>\n",
       "    </tr>\n",
       "    <tr>\n",
       "      <th>376</th>\n",
       "      <td>19550.0</td>\n",
       "      <td>22103.458491</td>\n",
       "      <td>2553.458491</td>\n",
       "      <td>0.130612</td>\n",
       "    </tr>\n",
       "    <tr>\n",
       "      <th>377</th>\n",
       "      <td>34535.0</td>\n",
       "      <td>41668.766600</td>\n",
       "      <td>7133.766600</td>\n",
       "      <td>0.206566</td>\n",
       "    </tr>\n",
       "    <tr>\n",
       "      <th>378</th>\n",
       "      <td>33590.0</td>\n",
       "      <td>43311.517035</td>\n",
       "      <td>9721.517035</td>\n",
       "      <td>0.289417</td>\n",
       "    </tr>\n",
       "  </tbody>\n",
       "</table>\n",
       "<p>379 rows × 4 columns</p>\n",
       "</div>"
      ],
      "text/plain": [
       "      Actual     Predicted         Error  Percentage Error\n",
       "0    42924.0  36916.198646   6007.801354          0.139964\n",
       "1    43556.0  37148.641039   6407.358961          0.147106\n",
       "2    43756.0  28997.217388  14758.782612          0.337297\n",
       "3    42312.0  31237.494097  11074.505903          0.261734\n",
       "4    27920.0  47257.119284  19337.119284          0.692590\n",
       "..       ...           ...           ...               ...\n",
       "374  32929.0  42002.766211   9073.766211          0.275555\n",
       "375  22126.0  19783.946558   2342.053442          0.105851\n",
       "376  19550.0  22103.458491   2553.458491          0.130612\n",
       "377  34535.0  41668.766600   7133.766600          0.206566\n",
       "378  33590.0  43311.517035   9721.517035          0.289417\n",
       "\n",
       "[379 rows x 4 columns]"
      ]
     },
     "execution_count": 13,
     "metadata": {},
     "output_type": "execute_result"
    }
   ],
   "source": [
    "# 創建 DataFrame\n",
    "data = {\n",
    "    'Actual': test_acts, \n",
    "    'Predicted': predictions, \n",
    "    'Error': np.abs(test_acts - predictions),\n",
    "    'Percentage Error': np.abs(test_acts - predictions) / test_acts\n",
    "}\n",
    "pd.DataFrame(data)"
   ]
  },
  {
   "cell_type": "markdown",
   "id": "6a7713d0",
   "metadata": {
    "papermill": {
     "duration": 0.009644,
     "end_time": "2025-06-19T03:04:23.168152",
     "exception": false,
     "start_time": "2025-06-19T03:04:23.158508",
     "status": "completed"
    },
    "tags": []
   },
   "source": [
    "# GARCH 模型前置分析"
   ]
  },
  {
   "cell_type": "markdown",
   "id": "4c66f5bd",
   "metadata": {
    "papermill": {
     "duration": 0.009702,
     "end_time": "2025-06-19T03:04:23.187554",
     "exception": false,
     "start_time": "2025-06-19T03:04:23.177852",
     "status": "completed"
    },
    "tags": []
   },
   "source": [
    "## 殘差診斷"
   ]
  },
  {
   "cell_type": "code",
   "execution_count": 14,
   "id": "6354040f",
   "metadata": {
    "execution": {
     "iopub.execute_input": "2025-06-19T03:04:23.207766Z",
     "iopub.status.busy": "2025-06-19T03:04:23.207651Z",
     "iopub.status.idle": "2025-06-19T03:04:23.526644Z",
     "shell.execute_reply": "2025-06-19T03:04:23.526373Z"
    },
    "papermill": {
     "duration": 0.329997,
     "end_time": "2025-06-19T03:04:23.527319",
     "exception": false,
     "start_time": "2025-06-19T03:04:23.197322",
     "status": "completed"
    },
    "tags": []
   },
   "outputs": [
    {
     "data": {
      "image/png": "[encoded data removed]",
      "text/plain": [
       "<Figure size 1500x1000 with 4 Axes>"
      ]
     },
     "metadata": {},
     "output_type": "display_data"
    }
   ],
   "source": [
    "# 殘差診斷(原本 Auto-ARIMA 模型的)，這個只是拿來分析用，實際跑的是拿 ARIMA 的\n",
    "auto_model.plot_diagnostics(figsize = (15, 10))\n",
    "plt.show()"
   ]
  },
  {
   "cell_type": "code",
   "execution_count": 15,
   "id": "9ab88d7b",
   "metadata": {
    "execution": {
     "iopub.execute_input": "2025-06-19T03:04:23.548325Z",
     "iopub.status.busy": "2025-06-19T03:04:23.548134Z",
     "iopub.status.idle": "2025-06-19T03:04:23.779365Z",
     "shell.execute_reply": "2025-06-19T03:04:23.779101Z"
    },
    "papermill": {
     "duration": 0.242514,
     "end_time": "2025-06-19T03:04:23.780175",
     "exception": false,
     "start_time": "2025-06-19T03:04:23.537661",
     "status": "completed"
    },
    "tags": []
   },
   "outputs": [
    {
     "data": {
      "image/png": "[encoded data removed]",
      "text/plain": [
       "<Figure size 1500x1000 with 4 Axes>"
      ]
     },
     "metadata": {},
     "output_type": "display_data"
    }
   ],
   "source": [
    "# 殘差診斷(原本 ARIMA 模型的)\n",
    "model_summary_fit.plot_diagnostics(figsize = (15, 10))\n",
    "plt.show()"
   ]
  },
  {
   "cell_type": "markdown",
   "id": "e5aba527",
   "metadata": {
    "papermill": {
     "duration": 0.011433,
     "end_time": "2025-06-19T03:04:23.803249",
     "exception": false,
     "start_time": "2025-06-19T03:04:23.791816",
     "status": "completed"
    },
    "tags": []
   },
   "source": [
    "## 白噪音檢定\n",
    "藉由 Ljung-Box 定觀察 ARIMA 模型的殘差項是否為隨機變動，若檢定結果呈現白噪音(隨機)，則可以知道ARIMA模型的配適程度良好，便直接做預測；然而，若檢定結果呈現誤差項目並非白噪音，則需要用 `GARCH 模型找出誤差項中的變異數解釋變量`。\n",
    "\n",
    "+ lb_stat : 這是 Ljung-Box 檢驗的檢驗統計量，用於檢查序列的自相關性，值越高表示序列具有較強的自相關性。\n",
    "+ lb_pvalue : 這是對應於 Ljung-Box 統計量的 p 值，`用於檢驗零假設，即序列是白噪聲`，p 值小於 0.05（或選擇的顯著性水平）表示可以拒絕零假設，即序列可能具有顯著的自相關性，不是白噪聲。"
   ]
  },
  {
   "cell_type": "code",
   "execution_count": 16,
   "id": "445ee3ce",
   "metadata": {
    "execution": {
     "iopub.execute_input": "2025-06-19T03:04:23.827219Z",
     "iopub.status.busy": "2025-06-19T03:04:23.827068Z",
     "iopub.status.idle": "2025-06-19T03:04:23.831079Z",
     "shell.execute_reply": "2025-06-19T03:04:23.830812Z"
    },
    "papermill": {
     "duration": 0.016618,
     "end_time": "2025-06-19T03:04:23.831789",
     "exception": false,
     "start_time": "2025-06-19T03:04:23.815171",
     "status": "completed"
    },
    "tags": []
   },
   "outputs": [
    {
     "name": "stdout",
     "output_type": "stream",
     "text": [
      "\u001b[93m# Ljung-Box 檢驗\u001b[0m\n",
      " H0: 誤差項為白噪音，資料是隨機的\n",
      " H1: 誤差項不是白噪音\n",
      "\n",
      "誤差項 (P-value >= 0.05)，不能拒絕原假設(H0 成立)，殘差 \"是\" 白噪聲，代表殘差項目中沒有其他解釋變量可以提取，可直接使用 ARIMA 檢驗，理論上就可以停了\n",
      "↓↓↓↓ Ljung-Box 檢驗結果 ↓↓↓↓\n"
     ]
    },
    {
     "data": {
      "text/html": [
       "<div>\n",
       "<style scoped>\n",
       "    .dataframe tbody tr th:only-of-type {\n",
       "        vertical-align: middle;\n",
       "    }\n",
       "\n",
       "    .dataframe tbody tr th {\n",
       "        vertical-align: top;\n",
       "    }\n",
       "\n",
       "    .dataframe thead th {\n",
       "        text-align: right;\n",
       "    }\n",
       "</style>\n",
       "<table border=\"1\" class=\"dataframe\">\n",
       "  <thead>\n",
       "    <tr style=\"text-align: right;\">\n",
       "      <th></th>\n",
       "      <th>lb_stat</th>\n",
       "      <th>lb_pvalue</th>\n",
       "    </tr>\n",
       "  </thead>\n",
       "  <tbody>\n",
       "    <tr>\n",
       "      <th>14</th>\n",
       "      <td>5.474218</td>\n",
       "      <td>0.978058</td>\n",
       "    </tr>\n",
       "  </tbody>\n",
       "</table>\n",
       "</div>"
      ],
      "text/plain": [
       "     lb_stat  lb_pvalue\n",
       "14  5.474218   0.978058"
      ]
     },
     "execution_count": 16,
     "metadata": {},
     "output_type": "execute_result"
    }
   ],
   "source": [
    "lb_pvalue, white_noise_arima = arima.arima_acorr_ljungbox(arima_resid, training_window)\n",
    "\n",
    "print('↓↓↓↓ Ljung-Box 檢驗結果 ↓↓↓↓') \n",
    "white_noise_arima"
   ]
  },
  {
   "cell_type": "markdown",
   "id": "fdd21952",
   "metadata": {
    "papermill": {
     "duration": 0.011274,
     "end_time": "2025-06-19T03:04:23.854690",
     "exception": false,
     "start_time": "2025-06-19T03:04:23.843416",
     "status": "completed"
    },
    "tags": []
   },
   "source": [
    "## ARCH Effect 檢定"
   ]
  },
  {
   "cell_type": "code",
   "execution_count": 17,
   "id": "58d70de5",
   "metadata": {
    "execution": {
     "iopub.execute_input": "2025-06-19T03:04:23.877343Z",
     "iopub.status.busy": "2025-06-19T03:04:23.877225Z",
     "iopub.status.idle": "2025-06-19T03:04:23.880914Z",
     "shell.execute_reply": "2025-06-19T03:04:23.880662Z"
    },
    "papermill": {
     "duration": 0.015651,
     "end_time": "2025-06-19T03:04:23.881543",
     "exception": false,
     "start_time": "2025-06-19T03:04:23.865892",
     "status": "completed"
    },
    "tags": []
   },
   "outputs": [
    {
     "name": "stdout",
     "output_type": "stream",
     "text": [
      "\u001b[93m# ARCH Effect 檢定\u001b[0m\n",
      " H0: 資料中不存在 ARCH 效應\n",
      " H1: 資料中存在 ARCH 效應\n",
      "\n",
      "殘差的方差 (P-value > 0.05)，不能拒原假設(H0 成立)，不存在顯著的 ARCH 效應，理論上就可以停了\n",
      "↓↓↓↓ ARCH 檢驗結果 ↓↓↓↓\n",
      "ARCH 檢驗統計量: 21.99769332331505\n",
      "p 值: 0.07866178044771394\n",
      "F 統計量: 1.6018909720870493\n",
      "F 統計量的 p 值: 0.07618205948496509\n"
     ]
    }
   ],
   "source": [
    "arch_test_result = arima.arima_het_arch(arima_resid, training_window)"
   ]
  },
  {
   "cell_type": "markdown",
   "id": "3742f113",
   "metadata": {
    "papermill": {
     "duration": 0.023006,
     "end_time": "2025-06-19T03:04:23.915803",
     "exception": false,
     "start_time": "2025-06-19T03:04:23.892797",
     "status": "completed"
    },
    "tags": []
   },
   "source": [
    "# 顯示預測圖表"
   ]
  },
  {
   "cell_type": "code",
   "execution_count": 18,
   "id": "198c8fd7",
   "metadata": {
    "execution": {
     "iopub.execute_input": "2025-06-19T03:04:23.939251Z",
     "iopub.status.busy": "2025-06-19T03:04:23.939116Z",
     "iopub.status.idle": "2025-06-19T03:04:24.075405Z",
     "shell.execute_reply": "2025-06-19T03:04:24.074742Z"
    },
    "papermill": {
     "duration": 0.1498,
     "end_time": "2025-06-19T03:04:24.077101",
     "exception": false,
     "start_time": "2025-06-19T03:04:23.927301",
     "status": "completed"
    },
    "tags": []
   },
   "outputs": [
    {
     "name": "stdout",
     "output_type": "stream",
     "text": [
      "\u001b[93m# 顯示預測圖表\u001b[0m\n"
     ]
    },
    {
     "data": {
      "image/png": "[encoded data removed]",
      "text/plain": [
       "<Figure size 800x200 with 1 Axes>"
      ]
     },
     "metadata": {},
     "output_type": "display_data"
    },
    {
     "data": {
      "image/png": "[encoded data removed]",
      "text/plain": [
       "<Figure size 800x200 with 1 Axes>"
      ]
     },
     "metadata": {},
     "output_type": "display_data"
    },
    {
     "data": {
      "image/png": "[encoded data removed]",
      "text/plain": [
       "<Figure size 800x200 with 1 Axes>"
      ]
     },
     "metadata": {},
     "output_type": "display_data"
    }
   ],
   "source": [
    "title = f'Test {fieldName}:{predict_types}, MAE:{round(mae, 5)}, MAPE:{round(mape, 5)}'\n",
    "\n",
    "arima.show_predict_chart(\n",
    "    eval_df,   \n",
    "    actual = test_acts,\n",
    "    predict = predictions,\n",
    "    title = title\n",
    ")\n",
    "\n",
    "plt.figure(figsize=(8, 2))\n",
    "plt.plot(test_acts, label='Actual')\n",
    "plt.title('測試集')\n",
    "plt.show()\n",
    "\n",
    "plt.figure(figsize=(8, 2))\n",
    "plt.plot(predictions)\n",
    "plt.title('預測結果')\n",
    "plt.show()"
   ]
  },
  {
   "cell_type": "markdown",
   "id": "b6e99b07-2483-4fa8-b2df-fdf38b5e9b63",
   "metadata": {
    "papermill": {
     "duration": 0.013962,
     "end_time": "2025-06-19T03:04:24.105921",
     "exception": false,
     "start_time": "2025-06-19T03:04:24.091959",
     "status": "completed"
    },
    "tags": []
   },
   "source": [
    "# 儲存結果"
   ]
  },
  {
   "cell_type": "code",
   "execution_count": 19,
   "id": "31686513-7c6c-42f8-929a-319ab2d20a8f",
   "metadata": {
    "execution": {
     "iopub.execute_input": "2025-06-19T03:04:24.135385Z",
     "iopub.status.busy": "2025-06-19T03:04:24.135190Z",
     "iopub.status.idle": "2025-06-19T03:04:24.139011Z",
     "shell.execute_reply": "2025-06-19T03:04:24.138649Z"
    },
    "papermill": {
     "duration": 0.017865,
     "end_time": "2025-06-19T03:04:24.139967",
     "exception": false,
     "start_time": "2025-06-19T03:04:24.122102",
     "status": "completed"
    },
    "tags": []
   },
   "outputs": [
    {
     "name": "stdout",
     "output_type": "stream",
     "text": [
      "\u001b[93m# 儲存評估結果到 JSON 檔案\u001b[0m\n",
      "{'label': 'GroupCount', 'predicteds': [3], 'arima_p': 10, 'arima_d': 0, 'arima_q': 10, 'aic': 8389.526195987411, 'test_mae': 10396.21893, 'test_mape': 0.33184, 'test_mse': 606693962.92458, 'test_rmse': 24631.15838, 'test_r_square': -1.49298, 'ar_pvalue': '0.2560427868', 'ma_pvalue': '0.0000000000', 'lb_pvalue': 0.978057962234581, 'arch_pvalue': 0.07866178044771394}\n",
      "儲存評估結果到 ARIMA/_Model/GroupCount_data3.result.json\n"
     ]
    }
   ],
   "source": [
    "arima.save_json_file(\n",
    "    result_file_name, \n",
    "    label = fieldName,\n",
    "    predicteds = predict_types,\n",
    "    best_p = best_p,\n",
    "    best_d = best_d,\n",
    "    best_q = best_q,\n",
    "    best_aic = best_aic,\n",
    "    best_ar_pvalue = best_ar_pvalue,\n",
    "    best_ma_pvalue = best_ma_pvalue,\n",
    "    mae_test = mae,\n",
    "    mape_test = mape, \n",
    "    mse_test = mse,\n",
    "    rmse_test = rmse,\n",
    "    r_square_test = r_square,\n",
    "    lb_pvalue = lb_pvalue,\n",
    "    arch_pvalue = arch_test_result[1]\n",
    ") "
   ]
  }
 ],
 "metadata": {
  "kernelspec": {
   "display_name": "nckuenv",
   "language": "python",
   "name": "nckuenv"
  },
  "language_info": {
   "codemirror_mode": {
    "name": "ipython",
    "version": 3
   },
   "file_extension": ".py",
   "mimetype": "text/x-python",
   "name": "python",
   "nbconvert_exporter": "python",
   "pygments_lexer": "ipython3",
   "version": "3.12.4"
  },
  "papermill": {
   "default_parameters": {},
   "duration": 238.851836,
   "end_time": "2025-06-19T03:04:26.779196",
   "environment_variables": {},
   "exception": null,
   "input_path": "Temp_runtime.ipynb",
   "output_path": "ARIMA/GroupCount/ARIMA_data3.ipynb",
   "parameters": {},
   "start_time": "2025-06-19T03:00:27.927360",
   "version": "2.6.0"
  }
 },
 "nbformat": 4,
 "nbformat_minor": 5
}