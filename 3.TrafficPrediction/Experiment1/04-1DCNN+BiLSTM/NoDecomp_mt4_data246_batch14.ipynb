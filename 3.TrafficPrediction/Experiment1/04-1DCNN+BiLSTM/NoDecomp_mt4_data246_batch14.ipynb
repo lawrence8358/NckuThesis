{
 "cells": [
  {
   "cell_type": "markdown",
   "id": "aa780e8f",
   "metadata": {
    "id": "kk4Hl1aJGMqf",
    "papermill": {
     "duration": 0.016611,
     "end_time": "2024-10-26T09:46:47.610908",
     "exception": false,
     "start_time": "2024-10-26T09:46:47.594297",
     "status": "completed"
    },
    "tags": []
   },
   "source": [
    "# 參數設定(未使用訊號分解)"
   ]
  },
  {
   "cell_type": "code",
   "execution_count": 1,
   "id": "3743a6c2",
   "metadata": {
    "colab": {
     "base_uri": "https://localhost:8080/"
    },
    "execution": {
     "iopub.execute_input": "2024-10-26T09:46:47.627166Z",
     "iopub.status.busy": "2024-10-26T09:46:47.626872Z",
     "iopub.status.idle": "2024-10-26T09:46:47.632516Z",
     "shell.execute_reply": "2024-10-26T09:46:47.632031Z"
    },
    "id": "pVQVdyLWgoQG",
    "outputId": "3d2bcb27-027f-4166-ea2d-241cca3fa08a",
    "papermill": {
     "duration": 0.015494,
     "end_time": "2024-10-26T09:46:47.633885",
     "exception": false,
     "start_time": "2024-10-26T09:46:47.618391",
     "status": "completed"
    },
    "tags": []
   },
   "outputs": [],
   "source": [
    "import os\n",
    "\n",
    "labels = ['GroupCount']\n",
    "model_type = 4 # 使用模型\n",
    "predicteds = [2,4,6] # 預測類別 \n",
    "batch_size = 14  # 批次大小\n",
    "\n",
    "# labels = ['GroupCount']\n",
    "# model_type = 1 # 使用模型\n",
    "# predicteds = [1] # 預測類別 \n",
    "# batch_size = 14  # 批次大小\n",
    "\n",
    "\n",
    "# ==== 底下的參數基本上都不要亂動 ====\n",
    "past_day = 14  # 過去天數，用於訓練資料中的歷史資料長度\n",
    "future_day = 1\n",
    "\n",
    "train_split_rate = 0.8  # 訓練集佔整體資料集的比例\n",
    "val_split_rate = 0.1 # 驗證集占整體資料集的比例\n",
    "  \n",
    "model_dir = 'NoDecomp/_Model'"
   ]
  },
  {
   "cell_type": "markdown",
   "id": "3ecf2c14",
   "metadata": {
    "id": "Mvow40rcSzyH",
    "papermill": {
     "duration": 0.005179,
     "end_time": "2024-10-26T09:46:47.645386",
     "exception": false,
     "start_time": "2024-10-26T09:46:47.640207",
     "status": "completed"
    },
    "tags": []
   },
   "source": [
    "# 定義類別"
   ]
  },
  {
   "cell_type": "code",
   "execution_count": 2,
   "id": "37b97674",
   "metadata": {
    "execution": {
     "iopub.execute_input": "2024-10-26T09:46:47.655441Z",
     "iopub.status.busy": "2024-10-26T09:46:47.655151Z",
     "iopub.status.idle": "2024-10-26T09:46:49.913718Z",
     "shell.execute_reply": "2024-10-26T09:46:49.913495Z"
    },
    "id": "yRw6GSTVSzyJ",
    "papermill": {
     "duration": 2.264135,
     "end_time": "2024-10-26T09:46:49.914414",
     "exception": false,
     "start_time": "2024-10-26T09:46:47.650279",
     "status": "completed"
    },
    "tags": []
   },
   "outputs": [
    {
     "name": "stdout",
     "output_type": "stream",
     "text": [
      "/Users/elliesu/Developer/nckuenv\n"
     ]
    }
   ],
   "source": [
    "import joblib\n",
    "\n",
    "# 重新載入 Lib，讓檔案可以直接修改使用 \n",
    "import importlib\n",
    "import LstmLib \n",
    "importlib.reload(LstmLib)   \n",
    "\n",
    "from LstmLib import * \n",
    "lstm = LstmLib()\n",
    "\n",
    "import sys\n",
    "print(sys.prefix)"
   ]
  },
  {
   "cell_type": "markdown",
   "id": "774f7998",
   "metadata": {
    "papermill": {
     "duration": 0.002526,
     "end_time": "2024-10-26T09:46:49.919319",
     "exception": false,
     "start_time": "2024-10-26T09:46:49.916793",
     "status": "completed"
    },
    "tags": []
   },
   "source": [
    "# 清除舊的訓練資料"
   ]
  },
  {
   "cell_type": "code",
   "execution_count": 3,
   "id": "9c9e4c9f",
   "metadata": {
    "execution": {
     "iopub.execute_input": "2024-10-26T09:46:49.923915Z",
     "iopub.status.busy": "2024-10-26T09:46:49.923738Z",
     "iopub.status.idle": "2024-10-26T09:46:49.925866Z",
     "shell.execute_reply": "2024-10-26T09:46:49.925662Z"
    },
    "papermill": {
     "duration": 0.005099,
     "end_time": "2024-10-26T09:46:49.926454",
     "exception": false,
     "start_time": "2024-10-26T09:46:49.921355",
     "status": "completed"
    },
    "tags": []
   },
   "outputs": [
    {
     "name": "stdout",
     "output_type": "stream",
     "text": [
      "x_scaler_file_name: NoDecomp/_Model/GroupCount_mt4_data246_batch14.x_scaler.pkl\n",
      "y_scaler_file_name: NoDecomp/_Model/GroupCount_mt4_data246_batch14.y_scaler.pkl\n",
      "model_file_name: NoDecomp/_Model/GroupCount_mt4_data246_batch14.model.keras\n",
      "result_file_name: NoDecomp/_Model/GroupCount_mt4_data246_batch14.result.json\n"
     ]
    }
   ],
   "source": [
    "x_scaler_file_name, y_scaler_file_name, model_file_name, result_file_name = \\\n",
    "    lstm.reset_data(model_dir, labels, model_type, predicteds, batch_size)"
   ]
  },
  {
   "cell_type": "markdown",
   "id": "7c1a25d8",
   "metadata": {
    "id": "NipcqBZf-Smu",
    "papermill": {
     "duration": 0.00212,
     "end_time": "2024-10-26T09:46:49.930803",
     "exception": false,
     "start_time": "2024-10-26T09:46:49.928683",
     "status": "completed"
    },
    "tags": []
   },
   "source": [
    "# 載入數據"
   ]
  },
  {
   "cell_type": "code",
   "execution_count": 4,
   "id": "cc7c939e",
   "metadata": {
    "colab": {
     "base_uri": "https://localhost:8080/",
     "height": 261
    },
    "execution": {
     "iopub.execute_input": "2024-10-26T09:46:49.935352Z",
     "iopub.status.busy": "2024-10-26T09:46:49.935265Z",
     "iopub.status.idle": "2024-10-26T09:46:49.944245Z",
     "shell.execute_reply": "2024-10-26T09:46:49.944025Z"
    },
    "id": "7PH7QM4NwPtK",
    "outputId": "8b83d42f-c0f7-4b8d-a1b4-464faa7a07e0",
    "papermill": {
     "duration": 0.011939,
     "end_time": "2024-10-26T09:46:49.944853",
     "exception": false,
     "start_time": "2024-10-26T09:46:49.932914",
     "status": "completed"
    },
    "tags": []
   },
   "outputs": [
    {
     "name": "stdout",
     "output_type": "stream",
     "text": [
      "\u001b[93m# 載入數據\u001b[0m\n",
      "395\n"
     ]
    },
    {
     "data": {
      "text/html": [
       "<div>\n",
       "<style scoped>\n",
       "    .dataframe tbody tr th:only-of-type {\n",
       "        vertical-align: middle;\n",
       "    }\n",
       "\n",
       "    .dataframe tbody tr th {\n",
       "        vertical-align: top;\n",
       "    }\n",
       "\n",
       "    .dataframe thead th {\n",
       "        text-align: right;\n",
       "    }\n",
       "</style>\n",
       "<table border=\"1\" class=\"dataframe\">\n",
       "  <thead>\n",
       "    <tr style=\"text-align: right;\">\n",
       "      <th></th>\n",
       "      <th>RequestTime</th>\n",
       "      <th>Predicted</th>\n",
       "      <th>SendBytes</th>\n",
       "      <th>ReceiveBytes</th>\n",
       "      <th>TimeTaken</th>\n",
       "      <th>UrlType1</th>\n",
       "      <th>UrlType2</th>\n",
       "      <th>UrlType3</th>\n",
       "      <th>Method_GET</th>\n",
       "      <th>Method_POST</th>\n",
       "      <th>Method_PUT</th>\n",
       "      <th>Method_DELETE</th>\n",
       "      <th>Method_HEAD</th>\n",
       "      <th>Method_OPTIONS</th>\n",
       "      <th>Method_PATCH</th>\n",
       "      <th>GroupCount</th>\n",
       "    </tr>\n",
       "  </thead>\n",
       "  <tbody>\n",
       "    <tr>\n",
       "      <th>0</th>\n",
       "      <td>2023-04-02</td>\n",
       "      <td>[2, 4, 6]</td>\n",
       "      <td>377381</td>\n",
       "      <td>954685</td>\n",
       "      <td>78374</td>\n",
       "      <td>23</td>\n",
       "      <td>1093</td>\n",
       "      <td>59</td>\n",
       "      <td>1164</td>\n",
       "      <td>1</td>\n",
       "      <td>0</td>\n",
       "      <td>0</td>\n",
       "      <td>10</td>\n",
       "      <td>0</td>\n",
       "      <td>0</td>\n",
       "      <td>1175</td>\n",
       "    </tr>\n",
       "    <tr>\n",
       "      <th>1</th>\n",
       "      <td>2023-04-03</td>\n",
       "      <td>[2, 4, 6]</td>\n",
       "      <td>496147</td>\n",
       "      <td>1220042</td>\n",
       "      <td>83113</td>\n",
       "      <td>22</td>\n",
       "      <td>1414</td>\n",
       "      <td>80</td>\n",
       "      <td>1515</td>\n",
       "      <td>1</td>\n",
       "      <td>0</td>\n",
       "      <td>0</td>\n",
       "      <td>0</td>\n",
       "      <td>0</td>\n",
       "      <td>0</td>\n",
       "      <td>1516</td>\n",
       "    </tr>\n",
       "    <tr>\n",
       "      <th>2</th>\n",
       "      <td>2023-04-04</td>\n",
       "      <td>[2, 4, 6]</td>\n",
       "      <td>435691</td>\n",
       "      <td>1054023</td>\n",
       "      <td>70665</td>\n",
       "      <td>25</td>\n",
       "      <td>1254</td>\n",
       "      <td>72</td>\n",
       "      <td>1351</td>\n",
       "      <td>0</td>\n",
       "      <td>0</td>\n",
       "      <td>0</td>\n",
       "      <td>0</td>\n",
       "      <td>0</td>\n",
       "      <td>0</td>\n",
       "      <td>1351</td>\n",
       "    </tr>\n",
       "    <tr>\n",
       "      <th>3</th>\n",
       "      <td>2023-04-05</td>\n",
       "      <td>[2, 4, 6]</td>\n",
       "      <td>513216</td>\n",
       "      <td>1321385</td>\n",
       "      <td>123195</td>\n",
       "      <td>35</td>\n",
       "      <td>1493</td>\n",
       "      <td>78</td>\n",
       "      <td>1601</td>\n",
       "      <td>4</td>\n",
       "      <td>0</td>\n",
       "      <td>0</td>\n",
       "      <td>1</td>\n",
       "      <td>0</td>\n",
       "      <td>0</td>\n",
       "      <td>1606</td>\n",
       "    </tr>\n",
       "    <tr>\n",
       "      <th>4</th>\n",
       "      <td>2023-04-06</td>\n",
       "      <td>[2, 4, 6]</td>\n",
       "      <td>1256282</td>\n",
       "      <td>3160850</td>\n",
       "      <td>212372</td>\n",
       "      <td>40</td>\n",
       "      <td>3717</td>\n",
       "      <td>78</td>\n",
       "      <td>3833</td>\n",
       "      <td>2</td>\n",
       "      <td>0</td>\n",
       "      <td>0</td>\n",
       "      <td>0</td>\n",
       "      <td>0</td>\n",
       "      <td>0</td>\n",
       "      <td>3835</td>\n",
       "    </tr>\n",
       "  </tbody>\n",
       "</table>\n",
       "</div>"
      ],
      "text/plain": [
       "  RequestTime  Predicted  SendBytes  ReceiveBytes  TimeTaken  UrlType1  \\\n",
       "0  2023-04-02  [2, 4, 6]     377381        954685      78374        23   \n",
       "1  2023-04-03  [2, 4, 6]     496147       1220042      83113        22   \n",
       "2  2023-04-04  [2, 4, 6]     435691       1054023      70665        25   \n",
       "3  2023-04-05  [2, 4, 6]     513216       1321385     123195        35   \n",
       "4  2023-04-06  [2, 4, 6]    1256282       3160850     212372        40   \n",
       "\n",
       "   UrlType2  UrlType3  Method_GET  Method_POST  Method_PUT  Method_DELETE  \\\n",
       "0      1093        59        1164            1           0              0   \n",
       "1      1414        80        1515            1           0              0   \n",
       "2      1254        72        1351            0           0              0   \n",
       "3      1493        78        1601            4           0              0   \n",
       "4      3717        78        3833            2           0              0   \n",
       "\n",
       "   Method_HEAD  Method_OPTIONS  Method_PATCH  GroupCount  \n",
       "0           10               0             0        1175  \n",
       "1            0               0             0        1516  \n",
       "2            0               0             0        1351  \n",
       "3            1               0             0        1606  \n",
       "4            0               0             0        3835  "
      ]
     },
     "execution_count": 4,
     "metadata": {},
     "output_type": "execute_result"
    }
   ],
   "source": [
    "df_source = lstm.load_data(predicteds)\n",
    "\n",
    "print(len(df_source))\n",
    "df_source.head()"
   ]
  },
  {
   "cell_type": "markdown",
   "id": "e2118491",
   "metadata": {
    "id": "M4RY1aaz-XJa",
    "papermill": {
     "duration": 0.002194,
     "end_time": "2024-10-26T09:46:49.949414",
     "exception": false,
     "start_time": "2024-10-26T09:46:49.947220",
     "status": "completed"
    },
    "tags": []
   },
   "source": [
    "# 最小最大正規化"
   ]
  },
  {
   "cell_type": "code",
   "execution_count": 5,
   "id": "abb20b7a",
   "metadata": {
    "colab": {
     "base_uri": "https://localhost:8080/"
    },
    "execution": {
     "iopub.execute_input": "2024-10-26T09:46:49.954242Z",
     "iopub.status.busy": "2024-10-26T09:46:49.954139Z",
     "iopub.status.idle": "2024-10-26T09:46:49.957787Z",
     "shell.execute_reply": "2024-10-26T09:46:49.957566Z"
    },
    "id": "qgrzu6Sxf7WE",
    "outputId": "ccbf983d-edd3-4a11-d9a6-4c688782d363",
    "papermill": {
     "duration": 0.006753,
     "end_time": "2024-10-26T09:46:49.958376",
     "exception": false,
     "start_time": "2024-10-26T09:46:49.951623",
     "status": "completed"
    },
    "tags": []
   },
   "outputs": [
    {
     "name": "stdout",
     "output_type": "stream",
     "text": [
      "\u001b[93m# 最小最大正規化\u001b[0m\n",
      "x_norm.shape:(395, 1)\n",
      "y_norm.shape:(395, 1)\n",
      "儲存最小最大縮放參數\n"
     ]
    }
   ],
   "source": [
    "x_norm, y_norm, x_scaler, y_scaler, x_df, y_df = \\\n",
    "    lstm.normalize(df_source[labels], labels, x_scaler = None, y_scaler = None);\n",
    "\n",
    "joblib.dump(x_scaler, x_scaler_file_name)\n",
    "joblib.dump(y_scaler, y_scaler_file_name)\n",
    "print('儲存最小最大縮放參數')"
   ]
  },
  {
   "cell_type": "markdown",
   "id": "cbb694ad",
   "metadata": {
    "id": "G3k2Q3zr-c8i",
    "papermill": {
     "duration": 0.002267,
     "end_time": "2024-10-26T09:46:49.962955",
     "exception": false,
     "start_time": "2024-10-26T09:46:49.960688",
     "status": "completed"
    },
    "tags": []
   },
   "source": [
    "# 切割訓練、驗證和測試資料集"
   ]
  },
  {
   "cell_type": "code",
   "execution_count": 6,
   "id": "50eda98b",
   "metadata": {
    "colab": {
     "base_uri": "https://localhost:8080/"
    },
    "execution": {
     "iopub.execute_input": "2024-10-26T09:46:49.967773Z",
     "iopub.status.busy": "2024-10-26T09:46:49.967674Z",
     "iopub.status.idle": "2024-10-26T09:46:49.969421Z",
     "shell.execute_reply": "2024-10-26T09:46:49.969240Z"
    },
    "id": "xfCDR3YwiIzp",
    "outputId": "7e65a012-6799-4064-a7b4-c8e51502ffb9",
    "papermill": {
     "duration": 0.004831,
     "end_time": "2024-10-26T09:46:49.969999",
     "exception": false,
     "start_time": "2024-10-26T09:46:49.965168",
     "status": "completed"
    },
    "tags": []
   },
   "outputs": [
    {
     "name": "stdout",
     "output_type": "stream",
     "text": [
      "\u001b[93m# 切割訓練、驗證和測試資料集\u001b[0m\n",
      "x_train.shape: (316, 1)\n",
      "y_train.shape: (316, 1)\n",
      "x_val.shape: (39, 1)\n",
      "y_val.shape: (39, 1)\n",
      "x_test.shape: (40, 1)\n",
      "y_test.shape: (40, 1)\n"
     ]
    }
   ],
   "source": [
    "x_train, y_train, x_val, y_val, x_test, y_test = \\\n",
    "    lstm.train_val_test_split(\n",
    "        x_norm,\n",
    "        train_split_rate = train_split_rate,\n",
    "        val_split_rate = val_split_rate\n",
    "    )"
   ]
  },
  {
   "cell_type": "markdown",
   "id": "9d13081a",
   "metadata": {
    "id": "AqdSy5pL-i7X",
    "papermill": {
     "duration": 0.002277,
     "end_time": "2024-10-26T09:46:49.974639",
     "exception": false,
     "start_time": "2024-10-26T09:46:49.972362",
     "status": "completed"
    },
    "tags": []
   },
   "source": [
    "# 將資料轉成 LSTM 模型所需資料格式(三維)"
   ]
  },
  {
   "cell_type": "code",
   "execution_count": 7,
   "id": "48a4e3d6",
   "metadata": {
    "colab": {
     "base_uri": "https://localhost:8080/"
    },
    "execution": {
     "iopub.execute_input": "2024-10-26T09:46:49.979590Z",
     "iopub.status.busy": "2024-10-26T09:46:49.979497Z",
     "iopub.status.idle": "2024-10-26T09:46:49.983072Z",
     "shell.execute_reply": "2024-10-26T09:46:49.982869Z"
    },
    "id": "Ugd7Ujt_kmJP",
    "outputId": "fe6a4a50-d74e-43a5-b96d-884373684359",
    "papermill": {
     "duration": 0.006731,
     "end_time": "2024-10-26T09:46:49.983667",
     "exception": false,
     "start_time": "2024-10-26T09:46:49.976936",
     "status": "completed"
    },
    "tags": []
   },
   "outputs": [
    {
     "name": "stdout",
     "output_type": "stream",
     "text": [
      "\u001b[93m# 將資料轉成 LSTM 模型所需資料格式，LSTM 的輸入必須是三維\u001b[0m\n",
      "====== Train DataSet ======\n",
      "訓練集 : x_k_lstm_train (筆數, 天數, 特徵數) : (301, 14, 1)\n",
      "訓練集 : y_k_lstm_train (筆數, 天數, 標籤數) : (301, 1)\n",
      "\u001b[93m# 將資料轉成 LSTM 模型所需資料格式，LSTM 的輸入必須是三維\u001b[0m\n",
      "====== Val DataSet ======\n",
      "驗證集 : x_k_lstm_test (筆數, 天數, 特徵數) : (24, 14, 1)\n",
      "驗證集 : y_k_lstm_test (筆數, 天數, 標籤數) : (24, 1)\n",
      "\u001b[93m# 將資料轉成 LSTM 模型所需資料格式，LSTM 的輸入必須是三維\u001b[0m\n",
      "====== Test DataSet ======\n",
      "測試集 : x_lstm_test (筆數, 天數, 特徵數) : (25, 14, 1)\n",
      "測試集 : y_lstm_test (筆數, 天數, 標籤數) : (25, 1)\n"
     ]
    }
   ],
   "source": [
    "# 訓練集\n",
    "x_lstm_train, y_lstm_train, _ = \\\n",
    "    lstm.reshape_data_for_lstm(\n",
    "        x_train, y_train,\n",
    "        date_array = None,\n",
    "        past_day = past_day,\n",
    "        future_day = future_day\n",
    "    )\n",
    "print('====== Train DataSet ======')\n",
    "print('訓練集 : x_k_lstm_train (筆數, 天數, 特徵數) :', x_lstm_train.shape)\n",
    "print('訓練集 : y_k_lstm_train (筆數, 天數, 標籤數) :', y_lstm_train.shape)\n",
    "\n",
    "# 驗證集\n",
    "x_lstm_val, y_lstm_val, _ = \\\n",
    "    lstm.reshape_data_for_lstm(\n",
    "        x_val, y_val,\n",
    "        date_array = None,\n",
    "        past_day = past_day,\n",
    "        future_day = future_day\n",
    "    )\n",
    "print('====== Val DataSet ======')\n",
    "print('驗證集 : x_k_lstm_test (筆數, 天數, 特徵數) :', x_lstm_val.shape)\n",
    "print('驗證集 : y_k_lstm_test (筆數, 天數, 標籤數) :', y_lstm_val.shape)\n",
    "\n",
    "# 測試集\n",
    "x_lstm_test, y_lstm_test, _ = \\\n",
    "    lstm.reshape_data_for_lstm(\n",
    "        x_test, y_test,\n",
    "        date_array = None,\n",
    "        past_day = past_day,\n",
    "        future_day = future_day\n",
    "    )\n",
    "print('====== Test DataSet ======')\n",
    "print('測試集 : x_lstm_test (筆數, 天數, 特徵數) :', x_lstm_test.shape)\n",
    "print('測試集 : y_lstm_test (筆數, 天數, 標籤數) :', y_lstm_test.shape)"
   ]
  },
  {
   "cell_type": "markdown",
   "id": "ca8a5189",
   "metadata": {
    "id": "hptadCRG-mnK",
    "papermill": {
     "duration": 0.00231,
     "end_time": "2024-10-26T09:46:49.988344",
     "exception": false,
     "start_time": "2024-10-26T09:46:49.986034",
     "status": "completed"
    },
    "tags": []
   },
   "source": [
    "# 定義 Model"
   ]
  },
  {
   "cell_type": "code",
   "execution_count": 8,
   "id": "07e51e71",
   "metadata": {
    "colab": {
     "base_uri": "https://localhost:8080/",
     "height": 338
    },
    "execution": {
     "iopub.execute_input": "2024-10-26T09:46:49.993361Z",
     "iopub.status.busy": "2024-10-26T09:46:49.993264Z",
     "iopub.status.idle": "2024-10-26T09:46:50.037161Z",
     "shell.execute_reply": "2024-10-26T09:46:50.036954Z"
    },
    "id": "5xqMw5ZhrrxC",
    "outputId": "ca3118aa-96c7-4e80-9b3d-5451af076422",
    "papermill": {
     "duration": 0.047168,
     "end_time": "2024-10-26T09:46:50.037842",
     "exception": false,
     "start_time": "2024-10-26T09:46:49.990674",
     "status": "completed"
    },
    "tags": []
   },
   "outputs": [
    {
     "name": "stdout",
     "output_type": "stream",
     "text": [
      "\u001b[93m# 定義 Model：4\u001b[0m\n",
      "CNN-BiLSTM\n"
     ]
    },
    {
     "data": {
      "text/html": [
       "<pre style=\"white-space:pre;overflow-x:auto;line-height:normal;font-family:Menlo,'DejaVu Sans Mono',consolas,'Courier New',monospace\"><span style=\"font-weight: bold\">Model: \"sequential\"</span>\n",
       "</pre>\n"
      ],
      "text/plain": [
       "\u001b[1mModel: \"sequential\"\u001b[0m\n"
      ]
     },
     "metadata": {},
     "output_type": "display_data"
    },
    {
     "data": {
      "text/html": [
       "<pre style=\"white-space:pre;overflow-x:auto;line-height:normal;font-family:Menlo,'DejaVu Sans Mono',consolas,'Courier New',monospace\">┏━━━━━━━━━━━━━━━━━━━━━━━━━━━━━━━━━━━━━━┳━━━━━━━━━━━━━━━━━━━━━━━━━━━━━┳━━━━━━━━━━━━━━━━━┓\n",
       "┃<span style=\"font-weight: bold\"> Layer (type)                         </span>┃<span style=\"font-weight: bold\"> Output Shape                </span>┃<span style=\"font-weight: bold\">         Param # </span>┃\n",
       "┡━━━━━━━━━━━━━━━━━━━━━━━━━━━━━━━━━━━━━━╇━━━━━━━━━━━━━━━━━━━━━━━━━━━━━╇━━━━━━━━━━━━━━━━━┩\n",
       "│ conv1d (<span style=\"color: #0087ff; text-decoration-color: #0087ff\">Conv1D</span>)                      │ (<span style=\"color: #00d7ff; text-decoration-color: #00d7ff\">None</span>, <span style=\"color: #00af00; text-decoration-color: #00af00\">13</span>, <span style=\"color: #00af00; text-decoration-color: #00af00\">7</span>)               │              <span style=\"color: #00af00; text-decoration-color: #00af00\">21</span> │\n",
       "├──────────────────────────────────────┼─────────────────────────────┼─────────────────┤\n",
       "│ max_pooling1d (<span style=\"color: #0087ff; text-decoration-color: #0087ff\">MaxPooling1D</span>)         │ (<span style=\"color: #00d7ff; text-decoration-color: #00d7ff\">None</span>, <span style=\"color: #00af00; text-decoration-color: #00af00\">6</span>, <span style=\"color: #00af00; text-decoration-color: #00af00\">7</span>)                │               <span style=\"color: #00af00; text-decoration-color: #00af00\">0</span> │\n",
       "├──────────────────────────────────────┼─────────────────────────────┼─────────────────┤\n",
       "│ bidirectional (<span style=\"color: #0087ff; text-decoration-color: #0087ff\">Bidirectional</span>)        │ (<span style=\"color: #00d7ff; text-decoration-color: #00d7ff\">None</span>, <span style=\"color: #00af00; text-decoration-color: #00af00\">200</span>)                 │          <span style=\"color: #00af00; text-decoration-color: #00af00\">86,400</span> │\n",
       "├──────────────────────────────────────┼─────────────────────────────┼─────────────────┤\n",
       "│ dense (<span style=\"color: #0087ff; text-decoration-color: #0087ff\">Dense</span>)                        │ (<span style=\"color: #00d7ff; text-decoration-color: #00d7ff\">None</span>, <span style=\"color: #00af00; text-decoration-color: #00af00\">150</span>)                 │          <span style=\"color: #00af00; text-decoration-color: #00af00\">30,150</span> │\n",
       "├──────────────────────────────────────┼─────────────────────────────┼─────────────────┤\n",
       "│ dense_1 (<span style=\"color: #0087ff; text-decoration-color: #0087ff\">Dense</span>)                      │ (<span style=\"color: #00d7ff; text-decoration-color: #00d7ff\">None</span>, <span style=\"color: #00af00; text-decoration-color: #00af00\">150</span>)                 │          <span style=\"color: #00af00; text-decoration-color: #00af00\">22,650</span> │\n",
       "├──────────────────────────────────────┼─────────────────────────────┼─────────────────┤\n",
       "│ dense_2 (<span style=\"color: #0087ff; text-decoration-color: #0087ff\">Dense</span>)                      │ (<span style=\"color: #00d7ff; text-decoration-color: #00d7ff\">None</span>, <span style=\"color: #00af00; text-decoration-color: #00af00\">1</span>)                   │             <span style=\"color: #00af00; text-decoration-color: #00af00\">151</span> │\n",
       "└──────────────────────────────────────┴─────────────────────────────┴─────────────────┘\n",
       "</pre>\n"
      ],
      "text/plain": [
       "┏━━━━━━━━━━━━━━━━━━━━━━━━━━━━━━━━━━━━━━┳━━━━━━━━━━━━━━━━━━━━━━━━━━━━━┳━━━━━━━━━━━━━━━━━┓\n",
       "┃\u001b[1m \u001b[0m\u001b[1mLayer (type)                        \u001b[0m\u001b[1m \u001b[0m┃\u001b[1m \u001b[0m\u001b[1mOutput Shape               \u001b[0m\u001b[1m \u001b[0m┃\u001b[1m \u001b[0m\u001b[1m        Param #\u001b[0m\u001b[1m \u001b[0m┃\n",
       "┡━━━━━━━━━━━━━━━━━━━━━━━━━━━━━━━━━━━━━━╇━━━━━━━━━━━━━━━━━━━━━━━━━━━━━╇━━━━━━━━━━━━━━━━━┩\n",
       "│ conv1d (\u001b[38;5;33mConv1D\u001b[0m)                      │ (\u001b[38;5;45mNone\u001b[0m, \u001b[38;5;34m13\u001b[0m, \u001b[38;5;34m7\u001b[0m)               │              \u001b[38;5;34m21\u001b[0m │\n",
       "├──────────────────────────────────────┼─────────────────────────────┼─────────────────┤\n",
       "│ max_pooling1d (\u001b[38;5;33mMaxPooling1D\u001b[0m)         │ (\u001b[38;5;45mNone\u001b[0m, \u001b[38;5;34m6\u001b[0m, \u001b[38;5;34m7\u001b[0m)                │               \u001b[38;5;34m0\u001b[0m │\n",
       "├──────────────────────────────────────┼─────────────────────────────┼─────────────────┤\n",
       "│ bidirectional (\u001b[38;5;33mBidirectional\u001b[0m)        │ (\u001b[38;5;45mNone\u001b[0m, \u001b[38;5;34m200\u001b[0m)                 │          \u001b[38;5;34m86,400\u001b[0m │\n",
       "├──────────────────────────────────────┼─────────────────────────────┼─────────────────┤\n",
       "│ dense (\u001b[38;5;33mDense\u001b[0m)                        │ (\u001b[38;5;45mNone\u001b[0m, \u001b[38;5;34m150\u001b[0m)                 │          \u001b[38;5;34m30,150\u001b[0m │\n",
       "├──────────────────────────────────────┼─────────────────────────────┼─────────────────┤\n",
       "│ dense_1 (\u001b[38;5;33mDense\u001b[0m)                      │ (\u001b[38;5;45mNone\u001b[0m, \u001b[38;5;34m150\u001b[0m)                 │          \u001b[38;5;34m22,650\u001b[0m │\n",
       "├──────────────────────────────────────┼─────────────────────────────┼─────────────────┤\n",
       "│ dense_2 (\u001b[38;5;33mDense\u001b[0m)                      │ (\u001b[38;5;45mNone\u001b[0m, \u001b[38;5;34m1\u001b[0m)                   │             \u001b[38;5;34m151\u001b[0m │\n",
       "└──────────────────────────────────────┴─────────────────────────────┴─────────────────┘\n"
      ]
     },
     "metadata": {},
     "output_type": "display_data"
    },
    {
     "data": {
      "text/html": [
       "<pre style=\"white-space:pre;overflow-x:auto;line-height:normal;font-family:Menlo,'DejaVu Sans Mono',consolas,'Courier New',monospace\"><span style=\"font-weight: bold\"> Total params: </span><span style=\"color: #00af00; text-decoration-color: #00af00\">139,372</span> (544.42 KB)\n",
       "</pre>\n"
      ],
      "text/plain": [
       "\u001b[1m Total params: \u001b[0m\u001b[38;5;34m139,372\u001b[0m (544.42 KB)\n"
      ]
     },
     "metadata": {},
     "output_type": "display_data"
    },
    {
     "data": {
      "text/html": [
       "<pre style=\"white-space:pre;overflow-x:auto;line-height:normal;font-family:Menlo,'DejaVu Sans Mono',consolas,'Courier New',monospace\"><span style=\"font-weight: bold\"> Trainable params: </span><span style=\"color: #00af00; text-decoration-color: #00af00\">139,372</span> (544.42 KB)\n",
       "</pre>\n"
      ],
      "text/plain": [
       "\u001b[1m Trainable params: \u001b[0m\u001b[38;5;34m139,372\u001b[0m (544.42 KB)\n"
      ]
     },
     "metadata": {},
     "output_type": "display_data"
    },
    {
     "data": {
      "text/html": [
       "<pre style=\"white-space:pre;overflow-x:auto;line-height:normal;font-family:Menlo,'DejaVu Sans Mono',consolas,'Courier New',monospace\"><span style=\"font-weight: bold\"> Non-trainable params: </span><span style=\"color: #00af00; text-decoration-color: #00af00\">0</span> (0.00 B)\n",
       "</pre>\n"
      ],
      "text/plain": [
       "\u001b[1m Non-trainable params: \u001b[0m\u001b[38;5;34m0\u001b[0m (0.00 B)\n"
      ]
     },
     "metadata": {},
     "output_type": "display_data"
    }
   ],
   "source": [
    "# 定義 Model\n",
    "model = lstm.build_model(\n",
    "    model_type = model_type,\n",
    "    time_step = past_day,\n",
    "    n_predictions = future_day\n",
    ")"
   ]
  },
  {
   "cell_type": "markdown",
   "id": "8da6ad0c",
   "metadata": {
    "id": "8aZNVtRBbDOm",
    "papermill": {
     "duration": 0.002548,
     "end_time": "2024-10-26T09:46:50.043345",
     "exception": false,
     "start_time": "2024-10-26T09:46:50.040797",
     "status": "completed"
    },
    "tags": []
   },
   "source": [
    "# 訓練"
   ]
  },
  {
   "cell_type": "code",
   "execution_count": 9,
   "id": "5d8ca14a",
   "metadata": {
    "colab": {
     "base_uri": "https://localhost:8080/"
    },
    "execution": {
     "iopub.execute_input": "2024-10-26T09:46:50.048850Z",
     "iopub.status.busy": "2024-10-26T09:46:50.048748Z",
     "iopub.status.idle": "2024-10-26T09:46:56.591013Z",
     "shell.execute_reply": "2024-10-26T09:46:56.590700Z"
    },
    "id": "hMXCRbjlZdei",
    "outputId": "80def6f9-aebc-4e92-b983-812004825ade",
    "papermill": {
     "duration": 6.5459,
     "end_time": "2024-10-26T09:46:56.591806",
     "exception": false,
     "start_time": "2024-10-26T09:46:50.045906",
     "status": "completed"
    },
    "tags": []
   },
   "outputs": [
    {
     "name": "stdout",
     "output_type": "stream",
     "text": [
      "\u001b[93m# 訓練 Model\u001b[0m\n",
      "EarlyStopping => mointor: val_loss，patience: 50\n"
     ]
    }
   ],
   "source": [
    "train_history = lstm.model_fit(\n",
    "    model = model,\n",
    "    batch_size = batch_size,\n",
    "    x_train = x_lstm_train,\n",
    "    y_train = y_lstm_train,\n",
    "    x_val = x_lstm_val,\n",
    "    y_val = y_lstm_val,\n",
    ")"
   ]
  },
  {
   "cell_type": "markdown",
   "id": "3d7e2dd2",
   "metadata": {
    "id": "nQBChPvvFP5d",
    "papermill": {
     "duration": 0.002655,
     "end_time": "2024-10-26T09:46:56.597436",
     "exception": false,
     "start_time": "2024-10-26T09:46:56.594781",
     "status": "completed"
    },
    "tags": []
   },
   "source": [
    "# 儲存模型"
   ]
  },
  {
   "cell_type": "code",
   "execution_count": 10,
   "id": "149735b5",
   "metadata": {
    "colab": {
     "base_uri": "https://localhost:8080/"
    },
    "execution": {
     "iopub.execute_input": "2024-10-26T09:46:56.603255Z",
     "iopub.status.busy": "2024-10-26T09:46:56.603109Z",
     "iopub.status.idle": "2024-10-26T09:46:56.621472Z",
     "shell.execute_reply": "2024-10-26T09:46:56.621209Z"
    },
    "id": "QpQTO-ziFTSo",
    "outputId": "b140abd3-0a2e-45ea-a319-dff8a69712d3",
    "papermill": {
     "duration": 0.021987,
     "end_time": "2024-10-26T09:46:56.622151",
     "exception": false,
     "start_time": "2024-10-26T09:46:56.600164",
     "status": "completed"
    },
    "tags": []
   },
   "outputs": [
    {
     "name": "stdout",
     "output_type": "stream",
     "text": [
      "儲存模型到 NoDecomp/_Model/GroupCount_mt4_data246_batch14.model.keras\n"
     ]
    }
   ],
   "source": [
    "model.save(model_file_name)\n",
    "print(f'儲存模型到 {model_file_name}')"
   ]
  },
  {
   "cell_type": "markdown",
   "id": "a933dba8",
   "metadata": {
    "id": "StSWwUTn-s3u",
    "papermill": {
     "duration": 0.002631,
     "end_time": "2024-10-26T09:46:56.627600",
     "exception": false,
     "start_time": "2024-10-26T09:46:56.624969",
     "status": "completed"
    },
    "tags": []
   },
   "source": [
    "# 預測"
   ]
  },
  {
   "cell_type": "code",
   "execution_count": 11,
   "id": "e8d9afdf",
   "metadata": {
    "colab": {
     "base_uri": "https://localhost:8080/"
    },
    "execution": {
     "iopub.execute_input": "2024-10-26T09:46:56.633443Z",
     "iopub.status.busy": "2024-10-26T09:46:56.633340Z",
     "iopub.status.idle": "2024-10-26T09:46:56.889128Z",
     "shell.execute_reply": "2024-10-26T09:46:56.888880Z"
    },
    "id": "63_mpMrE2toM",
    "outputId": "f1aba8cf-37a1-4ca1-f8cd-3d9c9e7b9b59",
    "papermill": {
     "duration": 0.259447,
     "end_time": "2024-10-26T09:46:56.889802",
     "exception": false,
     "start_time": "2024-10-26T09:46:56.630355",
     "status": "completed"
    },
    "tags": []
   },
   "outputs": [
    {
     "name": "stdout",
     "output_type": "stream",
     "text": [
      "\u001b[93m# 預測\u001b[0m\n",
      "\r",
      "\u001b[1m 1/10\u001b[0m \u001b[32m━━\u001b[0m\u001b[37m━━━━━━━━━━━━━━━━━━\u001b[0m \u001b[1m0s\u001b[0m 97ms/step"
     ]
    },
    {
     "name": "stdout",
     "output_type": "stream",
     "text": [
      "\b\b\b\b\b\b\b\b\b\b\b\b\b\b\b\b\b\b\b\b\b\b\b\b\b\b\b\b\b\b\b\b\b\b\b\b\b\b\b\r",
      "\u001b[1m10/10\u001b[0m \u001b[32m━━━━━━━━━━━━━━━━━━━━\u001b[0m\u001b[37m\u001b[0m \u001b[1m0s\u001b[0m 11ms/step"
     ]
    },
    {
     "name": "stdout",
     "output_type": "stream",
     "text": [
      "\b\b\b\b\b\b\b\b\b\b\b\b\b\b\b\b\b\b\b\b\b\b\b\b\b\b\b\b\b\b\b\b\b\b\b\b\b\b\b\r",
      "\u001b[1m10/10\u001b[0m \u001b[32m━━━━━━━━━━━━━━━━━━━━\u001b[0m\u001b[37m\u001b[0m \u001b[1m0s\u001b[0m 11ms/step\n"
     ]
    },
    {
     "name": "stdout",
     "output_type": "stream",
     "text": [
      "預測 shape : (301, 1)\n",
      "預測 train.shape : (301, 1)\n",
      "\u001b[93m# 預測\u001b[0m\n",
      "\r",
      "\u001b[1m1/1\u001b[0m \u001b[32m━━━━━━━━━━━━━━━━━━━━\u001b[0m\u001b[37m\u001b[0m \u001b[1m0s\u001b[0m 7ms/step"
     ]
    },
    {
     "name": "stdout",
     "output_type": "stream",
     "text": [
      "\b\b\b\b\b\b\b\b\b\b\b\b\b\b\b\b\b\b\b\b\b\b\b\b\b\b\b\b\b\b\b\b\b\b\b\b\r",
      "\u001b[1m1/1\u001b[0m \u001b[32m━━━━━━━━━━━━━━━━━━━━\u001b[0m\u001b[37m\u001b[0m \u001b[1m0s\u001b[0m 8ms/step\n"
     ]
    },
    {
     "name": "stdout",
     "output_type": "stream",
     "text": [
      "預測 shape : (24, 1)\n",
      "預測 val.shape : (24, 1)\n",
      "\u001b[93m# 預測\u001b[0m\n",
      "\r",
      "\u001b[1m1/1\u001b[0m \u001b[32m━━━━━━━━━━━━━━━━━━━━\u001b[0m\u001b[37m\u001b[0m \u001b[1m0s\u001b[0m 7ms/step"
     ]
    },
    {
     "name": "stdout",
     "output_type": "stream",
     "text": [
      "\b\b\b\b\b\b\b\b\b\b\b\b\b\b\b\b\b\b\b\b\b\b\b\b\b\b\b\b\b\b\b\b\b\b\b\b\r",
      "\u001b[1m1/1\u001b[0m \u001b[32m━━━━━━━━━━━━━━━━━━━━\u001b[0m\u001b[37m\u001b[0m \u001b[1m0s\u001b[0m 7ms/step\n"
     ]
    },
    {
     "name": "stdout",
     "output_type": "stream",
     "text": [
      "預測 shape : (25, 1)\n",
      "預測 test.shape : (25, 1)\n"
     ]
    }
   ],
   "source": [
    "predict_train = lstm.predict(model, x_lstm_train)\n",
    "print(f'預測 train.shape : {predict_train.shape}')\n",
    "\n",
    "predict_val = lstm.predict(model, x_lstm_val)\n",
    "print(f'預測 val.shape : {predict_val.shape}')\n",
    "\n",
    "predict_test = lstm.predict(model, x_lstm_test)\n",
    "print(f'預測 test.shape : {predict_test.shape}')"
   ]
  },
  {
   "cell_type": "markdown",
   "id": "dc3adb95",
   "metadata": {
    "id": "aeV6X1B3-uyx",
    "papermill": {
     "duration": 0.002822,
     "end_time": "2024-10-26T09:46:56.895783",
     "exception": false,
     "start_time": "2024-10-26T09:46:56.892961",
     "status": "completed"
    },
    "tags": []
   },
   "source": [
    "# 回復預測資料值為原始數據的規模"
   ]
  },
  {
   "cell_type": "code",
   "execution_count": 12,
   "id": "1ce1d3f3",
   "metadata": {
    "colab": {
     "base_uri": "https://localhost:8080/"
    },
    "execution": {
     "iopub.execute_input": "2024-10-26T09:46:56.901979Z",
     "iopub.status.busy": "2024-10-26T09:46:56.901865Z",
     "iopub.status.idle": "2024-10-26T09:46:56.904266Z",
     "shell.execute_reply": "2024-10-26T09:46:56.904061Z"
    },
    "id": "Ra1FCvHh4exK",
    "outputId": "203c8f5c-3d4d-4d89-b130-7ba1bfb7914c",
    "papermill": {
     "duration": 0.006187,
     "end_time": "2024-10-26T09:46:56.904875",
     "exception": false,
     "start_time": "2024-10-26T09:46:56.898688",
     "status": "completed"
    },
    "tags": []
   },
   "outputs": [
    {
     "name": "stdout",
     "output_type": "stream",
     "text": [
      "\u001b[93m# 回復預測資料值為原始數據的規模\u001b[0m\n",
      "\u001b[93m# 回復預測資料值為原始數據的規模\u001b[0m\n",
      "\u001b[93m# 回復預測資料值為原始數據的規模\u001b[0m\n"
     ]
    }
   ],
   "source": [
    "# 訓練\n",
    "predict_inverse_train, actual_inverse_train, predict_train, actual_train = \\\n",
    "    lstm.denormalize_and_reshape_back(\n",
    "        y_predict = predict_train,\n",
    "        y_lstm_actual = y_lstm_train,\n",
    "        y_scaler = y_scaler,\n",
    "        n_predictions = future_day\n",
    "    )\n",
    "\n",
    "# 驗證\n",
    "predict_inverse_val, actual_inverse_val, predict_val, actual_val = \\\n",
    "    lstm.denormalize_and_reshape_back(\n",
    "        y_predict = predict_val,\n",
    "        y_lstm_actual = y_lstm_val,\n",
    "        y_scaler = y_scaler,\n",
    "        n_predictions = future_day\n",
    "    )\n",
    "\n",
    "# 測試\n",
    "predict_inverse_test, actual_inverse_test, predict_test, actual_test = \\\n",
    "    lstm.denormalize_and_reshape_back(\n",
    "        y_predict = predict_test,\n",
    "        y_lstm_actual = y_lstm_test,\n",
    "        y_scaler = y_scaler,\n",
    "        n_predictions = future_day\n",
    "    )"
   ]
  },
  {
   "cell_type": "markdown",
   "id": "cc66618d",
   "metadata": {
    "id": "QFm-OEs4-xya",
    "papermill": {
     "duration": 0.002853,
     "end_time": "2024-10-26T09:46:56.910857",
     "exception": false,
     "start_time": "2024-10-26T09:46:56.908004",
     "status": "completed"
    },
    "tags": []
   },
   "source": [
    "# 查看訓練 & 驗證 & 測試集評估數據"
   ]
  },
  {
   "cell_type": "code",
   "execution_count": 13,
   "id": "c9d3bb0e",
   "metadata": {
    "colab": {
     "base_uri": "https://localhost:8080/"
    },
    "execution": {
     "iopub.execute_input": "2024-10-26T09:46:56.917005Z",
     "iopub.status.busy": "2024-10-26T09:46:56.916919Z",
     "iopub.status.idle": "2024-10-26T09:46:56.997871Z",
     "shell.execute_reply": "2024-10-26T09:46:56.997597Z"
    },
    "id": "Cq0TR64Z47Fu",
    "outputId": "cd9e6803-a8bb-4e49-a9b1-0324b8627ee4",
    "papermill": {
     "duration": 0.084739,
     "end_time": "2024-10-26T09:46:56.998518",
     "exception": false,
     "start_time": "2024-10-26T09:46:56.913779",
     "status": "completed"
    },
    "tags": []
   },
   "outputs": [
    {
     "name": "stdout",
     "output_type": "stream",
     "text": [
      "\u001b[93m# 查看訓練 & 驗證 & 測試集評估數據\u001b[0m\n",
      "\u001b[31m------------------------------------------------------------------------\u001b[0m\n",
      "\u001b[31mTrain Evaluate\u001b[0m\n",
      "\u001b[31m------------------------------------------------------------------------\u001b[0m\n",
      "\r",
      "\u001b[1m 1/10\u001b[0m \u001b[32m━━\u001b[0m\u001b[37m━━━━━━━━━━━━━━━━━━\u001b[0m \u001b[1m0s\u001b[0m 8ms/step - loss: 8.7286e-04 - mean_absolute_percentage_error: 28.5269"
     ]
    },
    {
     "name": "stdout",
     "output_type": "stream",
     "text": [
      "\b\b\b\b\b\b\b\b\b\b\b\b\b\b\b\b\b\b\b\b\b\b\b\b\b\b\b\b\b\b\b\b\b\b\b\b\b\b\b\b\b\b\b\b\b\b\b\b\b\b\b\b\b\b\b\b\b\b\b\b\b\b\b\b\b\b\b\b\b\b\b\b\b\b\b\b\b\b\b\b\b\b\b\b\b\b\b\b\b\b\b\b\b\b\b\b\b\b\b\r",
      "\u001b[1m10/10\u001b[0m \u001b[32m━━━━━━━━━━━━━━━━━━━━\u001b[0m\u001b[37m\u001b[0m \u001b[1m0s\u001b[0m 1ms/step - loss: 0.0010 - mean_absolute_percentage_error: 35113.5156 \n"
     ]
    },
    {
     "name": "stdout",
     "output_type": "stream",
     "text": [
      "--- 訓練值比較 --- \n",
      "Actual shape: (301, 1), Predict shape: (301, 1)\n",
      "MAE:0.02288，MAPE:868269754716.1255，MSE:0.00104，RMSE:0.03217，R square:0.1626\n",
      "--- 原始值比較 --- \n",
      "Actual shape: (301, 1), Predict shape: (301, 1)\n",
      "MAE:890.65513，MAPE:0.43733，MSE:1568035.47543，RMSE:1252.21223，R square:0.1626\n",
      "\n",
      "\u001b[31m------------------------------------------------------------------------\u001b[0m\n",
      "\u001b[31mVal Evaluate\u001b[0m\n",
      "\u001b[31m------------------------------------------------------------------------\u001b[0m\n",
      "\r",
      "\u001b[1m1/1\u001b[0m \u001b[32m━━━━━━━━━━━━━━━━━━━━\u001b[0m\u001b[37m\u001b[0m \u001b[1m0s\u001b[0m 8ms/step - loss: 0.0020 - mean_absolute_percentage_error: 52.8740"
     ]
    },
    {
     "name": "stdout",
     "output_type": "stream",
     "text": [
      "\b\b\b\b\b\b\b\b\b\b\b\b\b\b\b\b\b\b\b\b\b\b\b\b\b\b\b\b\b\b\b\b\b\b\b\b\b\b\b\b\b\b\b\b\b\b\b\b\b\b\b\b\b\b\b\b\b\b\b\b\b\b\b\b\b\b\b\b\b\b\b\b\b\b\b\b\b\b\b\b\b\b\b\b\b\b\b\b\b\b\b\b\b\r",
      "\u001b[1m1/1\u001b[0m \u001b[32m━━━━━━━━━━━━━━━━━━━━\u001b[0m\u001b[37m\u001b[0m \u001b[1m0s\u001b[0m 9ms/step - loss: 0.0020 - mean_absolute_percentage_error: 52.8740\n"
     ]
    },
    {
     "name": "stdout",
     "output_type": "stream",
     "text": [
      "--- 正規化比較 --- \n",
      "Actual shape: (24, 1), Predict shape: (24, 1)\n",
      "MAE:0.03068，MAPE:0.52874，MSE:0.00196，RMSE:0.04423，R square:-4.17268\n",
      "--- 原始值比較 --- \n",
      "Actual shape: (24, 1), Predict shape: (24, 1)\n",
      "MAE:1194.12319，MAPE:0.43268，MSE:2962769.92422，RMSE:1721.26986，R square:-4.17268\n",
      "\n",
      "\u001b[31m------------------------------------------------------------------------\u001b[0m\n",
      "\u001b[31mTest Evaluate\u001b[0m\n",
      "\u001b[31m------------------------------------------------------------------------\u001b[0m\n",
      "\r",
      "\u001b[1m1/1\u001b[0m \u001b[32m━━━━━━━━━━━━━━━━━━━━\u001b[0m\u001b[37m\u001b[0m \u001b[1m0s\u001b[0m 8ms/step - loss: 2.8093e-04 - mean_absolute_percentage_error: 26.5675"
     ]
    },
    {
     "name": "stdout",
     "output_type": "stream",
     "text": [
      "\b\b\b\b\b\b\b\b\b\b\b\b\b\b\b\b\b\b\b\b\b\b\b\b\b\b\b\b\b\b\b\b\b\b\b\b\b\b\b\b\b\b\b\b\b\b\b\b\b\b\b\b\b\b\b\b\b\b\b\b\b\b\b\b\b\b\b\b\b\b\b\b\b\b\b\b\b\b\b\b\b\b\b\b\b\b\b\b\b\b\b\b\b\b\b\b\b\r",
      "\u001b[1m1/1\u001b[0m \u001b[32m━━━━━━━━━━━━━━━━━━━━\u001b[0m\u001b[37m\u001b[0m \u001b[1m0s\u001b[0m 9ms/step - loss: 2.8093e-04 - mean_absolute_percentage_error: 26.5675\n"
     ]
    },
    {
     "name": "stdout",
     "output_type": "stream",
     "text": [
      "--- 正規化比較 --- \n",
      "Actual shape: (25, 1), Predict shape: (25, 1)\n",
      "MAE:0.0124，MAPE:0.26568，MSE:0.00028，RMSE:0.01676，R square:0.22216\n",
      "--- 原始值比較 --- \n",
      "Actual shape: (25, 1), Predict shape: (25, 1)\n",
      "MAE:482.49174，MAPE:0.20601，MSE:425538.46708，RMSE:652.3331，R square:0.22216\n",
      "\n"
     ]
    }
   ],
   "source": [
    "# 查看訓練 & 驗證 & 測試集評估數據\n",
    "print('\\033[93m# 查看訓練 & 驗證 & 測試集評估數據\\x1b[0m')\n",
    "\n",
    "print('\\x1b[31m------------------------------------------------------------------------\\x1b[0m')\n",
    "print('\\x1b[31mTrain Evaluate\\x1b[0m')\n",
    "print('\\x1b[31m------------------------------------------------------------------------\\x1b[0m')\n",
    "lstm.evaluation(model, x_lstm_train, y_lstm_train)\n",
    "print('--- 訓練值比較 --- ')\n",
    "lstm.score(actual_train, predict_train)\n",
    "print('--- 原始值比較 --- ')\n",
    "mae_train, mape_train = lstm.score(actual_inverse_train, predict_inverse_train)\n",
    "print('')\n",
    "\n",
    "print('\\x1b[31m------------------------------------------------------------------------\\x1b[0m')\n",
    "print('\\x1b[31mVal Evaluate\\x1b[0m')\n",
    "print('\\x1b[31m------------------------------------------------------------------------\\x1b[0m')\n",
    "lstm.evaluation(model, x_lstm_val, y_lstm_val)\n",
    "print('--- 正規化比較 --- ')\n",
    "lstm.score(actual_val, predict_val)\n",
    "print('--- 原始值比較 --- ')\n",
    "mae_val, mape_val = lstm.score(actual_inverse_val, predict_inverse_val)\n",
    "print('')\n",
    "\n",
    "print('\\x1b[31m------------------------------------------------------------------------\\x1b[0m')\n",
    "print('\\x1b[31mTest Evaluate\\x1b[0m')\n",
    "print('\\x1b[31m------------------------------------------------------------------------\\x1b[0m')\n",
    "evaluations = lstm.evaluation(model, x_lstm_test, y_lstm_test)\n",
    "print('--- 正規化比較 --- ')\n",
    "lstm.score(actual_test, predict_test)\n",
    "print('--- 原始值比較 --- ')\n",
    "mae_test, mape_test = lstm.score(actual_inverse_test, predict_inverse_test)\n",
    "print('')"
   ]
  },
  {
   "cell_type": "markdown",
   "id": "c8e7e3ef",
   "metadata": {
    "id": "D9aEVglH1d_j",
    "papermill": {
     "duration": 0.003014,
     "end_time": "2024-10-26T09:46:57.004900",
     "exception": false,
     "start_time": "2024-10-26T09:46:57.001886",
     "status": "completed"
    },
    "tags": []
   },
   "source": [
    "# 顯示預測圖表"
   ]
  },
  {
   "cell_type": "code",
   "execution_count": 14,
   "id": "ee688c8d",
   "metadata": {
    "colab": {
     "base_uri": "https://localhost:8080/",
     "height": 291
    },
    "execution": {
     "iopub.execute_input": "2024-10-26T09:46:57.011448Z",
     "iopub.status.busy": "2024-10-26T09:46:57.011346Z",
     "iopub.status.idle": "2024-10-26T09:46:57.061981Z",
     "shell.execute_reply": "2024-10-26T09:46:57.061740Z"
    },
    "id": "a1xSXAxbkOvj",
    "outputId": "c1fae3f9-bcaf-44c2-b9c7-8dfd10792ac1",
    "papermill": {
     "duration": 0.054866,
     "end_time": "2024-10-26T09:46:57.062876",
     "exception": false,
     "start_time": "2024-10-26T09:46:57.008010",
     "status": "completed"
    },
    "tags": []
   },
   "outputs": [
    {
     "data": {
      "image/png": "[encoded data removed]",
      "text/plain": [
       "<Figure size 800x300 with 1 Axes>"
      ]
     },
     "metadata": {},
     "output_type": "display_data"
    }
   ],
   "source": [
    "plt.figure(figsize=(8, 3))\n",
    "plt.plot(y_df.values)\n",
    "plt.show()"
   ]
  },
  {
   "cell_type": "markdown",
   "id": "e5a00b2b",
   "metadata": {
    "id": "fE92ElwDChF2",
    "papermill": {
     "duration": 0.003355,
     "end_time": "2024-10-26T09:46:57.069910",
     "exception": false,
     "start_time": "2024-10-26T09:46:57.066555",
     "status": "completed"
    },
    "tags": []
   },
   "source": [
    "## 載入原始數據切割成 LSTM 格式的區段"
   ]
  },
  {
   "cell_type": "code",
   "execution_count": 15,
   "id": "b528f2f5",
   "metadata": {
    "colab": {
     "base_uri": "https://localhost:8080/"
    },
    "execution": {
     "iopub.execute_input": "2024-10-26T09:46:57.077183Z",
     "iopub.status.busy": "2024-10-26T09:46:57.077001Z",
     "iopub.status.idle": "2024-10-26T09:46:57.079018Z",
     "shell.execute_reply": "2024-10-26T09:46:57.078803Z"
    },
    "id": "H7WUuzYABTpe",
    "outputId": "e9f42d3a-810d-44ba-9f30-ffd99a2c2985",
    "papermill": {
     "duration": 0.006338,
     "end_time": "2024-10-26T09:46:57.079617",
     "exception": false,
     "start_time": "2024-10-26T09:46:57.073279",
     "status": "completed"
    },
    "tags": []
   },
   "outputs": [
    {
     "name": "stdout",
     "output_type": "stream",
     "text": [
      "\u001b[93m# 切割訓練、驗證和測試資料集\u001b[0m\n",
      "x_train.shape: (316, 1)\n",
      "y_train.shape: (316, 1)\n",
      "x_val.shape: (39, 1)\n",
      "y_val.shape: (39, 1)\n",
      "x_test.shape: (40, 1)\n",
      "y_test.shape: (40, 1)\n"
     ]
    }
   ],
   "source": [
    "# 這邊只是為了驗證數據的正確性\n",
    "x_train_origin, y_train_origin, x_val_origin, y_val_origin, x_test_origin, y_test_origin = \\\n",
    "    lstm.train_val_test_split(\n",
    "        y_df.values,\n",
    "        train_split_rate = train_split_rate,\n",
    "        val_split_rate = val_split_rate\n",
    "    )"
   ]
  },
  {
   "cell_type": "markdown",
   "id": "583c1059",
   "metadata": {
    "id": "94Q14TQA69Ef",
    "papermill": {
     "duration": 0.003399,
     "end_time": "2024-10-26T09:46:57.086540",
     "exception": false,
     "start_time": "2024-10-26T09:46:57.083141",
     "status": "completed"
    },
    "tags": []
   },
   "source": [
    "## 訓練集"
   ]
  },
  {
   "cell_type": "code",
   "execution_count": 16,
   "id": "2fa30abb",
   "metadata": {
    "colab": {
     "base_uri": "https://localhost:8080/",
     "height": 555
    },
    "execution": {
     "iopub.execute_input": "2024-10-26T09:46:57.093973Z",
     "iopub.status.busy": "2024-10-26T09:46:57.093867Z",
     "iopub.status.idle": "2024-10-26T09:46:57.176732Z",
     "shell.execute_reply": "2024-10-26T09:46:57.176507Z"
    },
    "id": "OAefcLYb6SOc",
    "outputId": "ed812b69-4c9b-4bbe-b47f-650a806dc9b5",
    "papermill": {
     "duration": 0.087288,
     "end_time": "2024-10-26T09:46:57.177384",
     "exception": false,
     "start_time": "2024-10-26T09:46:57.090096",
     "status": "completed"
    },
    "tags": []
   },
   "outputs": [
    {
     "name": "stdout",
     "output_type": "stream",
     "text": [
      "原始資料 (316, 1)\n",
      "[[466]\n",
      " [582]\n",
      " [480]]\n",
      "還原原始資料 (301, 1)\n",
      "[[582.]\n",
      " [480.]]\n"
     ]
    },
    {
     "data": {
      "image/png": "[encoded data removed]",
      "text/plain": [
       "<Figure size 800x200 with 1 Axes>"
      ]
     },
     "metadata": {},
     "output_type": "display_data"
    },
    {
     "data": {
      "image/png": "[encoded data removed]",
      "text/plain": [
       "<Figure size 800x200 with 1 Axes>"
      ]
     },
     "metadata": {},
     "output_type": "display_data"
    }
   ],
   "source": [
    "print('原始資料' , y_train_origin.shape)\n",
    "print(y_train_origin[-3:])\n",
    "\n",
    "print('還原原始資料', actual_inverse_train.shape)\n",
    "print(actual_inverse_train[-2:])\n",
    "\n",
    "lstm.show_predict_chart(\n",
    "    actual = actual_inverse_train,\n",
    "    predict = predict_inverse_train,\n",
    "    title = f'Train {labels[0]}:{predicteds}, MAE:{round(mae_train, 5)}, MAPE:{round(mape_train, 5)}'\n",
    ")"
   ]
  },
  {
   "cell_type": "markdown",
   "id": "61971178",
   "metadata": {
    "id": "PQHtjGd2ATaJ",
    "papermill": {
     "duration": 0.003876,
     "end_time": "2024-10-26T09:46:57.185502",
     "exception": false,
     "start_time": "2024-10-26T09:46:57.181626",
     "status": "completed"
    },
    "tags": []
   },
   "source": [
    "## 驗證集"
   ]
  },
  {
   "cell_type": "code",
   "execution_count": 17,
   "id": "6e8f2188",
   "metadata": {
    "colab": {
     "base_uri": "https://localhost:8080/",
     "height": 556
    },
    "execution": {
     "iopub.execute_input": "2024-10-26T09:46:57.193792Z",
     "iopub.status.busy": "2024-10-26T09:46:57.193648Z",
     "iopub.status.idle": "2024-10-26T09:46:57.269626Z",
     "shell.execute_reply": "2024-10-26T09:46:57.269404Z"
    },
    "id": "7MdNVyoEAU8t",
    "outputId": "18ba3502-24f0-4bc3-8806-40423a28cf9c",
    "papermill": {
     "duration": 0.080897,
     "end_time": "2024-10-26T09:46:57.270341",
     "exception": false,
     "start_time": "2024-10-26T09:46:57.189444",
     "status": "completed"
    },
    "tags": []
   },
   "outputs": [
    {
     "name": "stdout",
     "output_type": "stream",
     "text": [
      "原始資料 (39, 1)\n",
      "[[4008]\n",
      " [3326]\n",
      " [3385]]\n",
      "還原原始資料 (24, 1)\n",
      "[[3326.]\n",
      " [3385.]]\n"
     ]
    },
    {
     "data": {
      "image/png": "[encoded data removed]",
      "text/plain": [
       "<Figure size 800x200 with 1 Axes>"
      ]
     },
     "metadata": {},
     "output_type": "display_data"
    },
    {
     "data": {
      "image/png": "[encoded data removed]",
      "text/plain": [
       "<Figure size 800x200 with 1 Axes>"
      ]
     },
     "metadata": {},
     "output_type": "display_data"
    }
   ],
   "source": [
    "print('原始資料' , y_val_origin.shape)\n",
    "print(y_val_origin[-3:])\n",
    "\n",
    "print('還原原始資料', actual_inverse_val.shape)\n",
    "print(actual_inverse_val[-2:])\n",
    "\n",
    "lstm.show_predict_chart(\n",
    "    actual = actual_inverse_val,\n",
    "    predict = predict_inverse_val,\n",
    "    title = f'Val {labels[0]}:{predicteds}, MAE:{round(mae_val, 5)}, MAPE:{round(mape_val, 5)}'\n",
    ")"
   ]
  },
  {
   "cell_type": "markdown",
   "id": "2f076d21",
   "metadata": {
    "id": "sb12RcTA7CyN",
    "papermill": {
     "duration": 0.004169,
     "end_time": "2024-10-26T09:46:57.279017",
     "exception": false,
     "start_time": "2024-10-26T09:46:57.274848",
     "status": "completed"
    },
    "tags": []
   },
   "source": [
    "## 測試集"
   ]
  },
  {
   "cell_type": "code",
   "execution_count": 18,
   "id": "d09bbd81",
   "metadata": {
    "colab": {
     "base_uri": "https://localhost:8080/",
     "height": 573
    },
    "execution": {
     "iopub.execute_input": "2024-10-26T09:46:57.287898Z",
     "iopub.status.busy": "2024-10-26T09:46:57.287752Z",
     "iopub.status.idle": "2024-10-26T09:46:57.365967Z",
     "shell.execute_reply": "2024-10-26T09:46:57.365740Z"
    },
    "id": "cBXpSzdw5vJL",
    "outputId": "e4baa2fe-0761-4553-ccdd-acbe6bb539f3",
    "papermill": {
     "duration": 0.083474,
     "end_time": "2024-10-26T09:46:57.366705",
     "exception": false,
     "start_time": "2024-10-26T09:46:57.283231",
     "status": "completed"
    },
    "tags": []
   },
   "outputs": [
    {
     "name": "stdout",
     "output_type": "stream",
     "text": [
      "原始資料 (40, 1)\n",
      "[[2108]\n",
      " [2704]\n",
      " [2832]]\n",
      "還原原始資料 (25, 1)\n",
      "[[2704.]\n",
      " [2832.]]\n",
      "Test GroupCount:[2, 4, 6], BatchSize:14, MAE:482.49174, MAPE:0.20601\n"
     ]
    },
    {
     "data": {
      "image/png": "[encoded data removed]",
      "text/plain": [
       "<Figure size 800x200 with 1 Axes>"
      ]
     },
     "metadata": {},
     "output_type": "display_data"
    },
    {
     "data": {
      "image/png": "[encoded data removed]",
      "text/plain": [
       "<Figure size 800x200 with 1 Axes>"
      ]
     },
     "metadata": {},
     "output_type": "display_data"
    }
   ],
   "source": [
    "print('原始資料' , y_test_origin.shape)\n",
    "print(y_test_origin[-3:])\n",
    "\n",
    "print('還原原始資料', actual_inverse_test.shape)\n",
    "print(actual_inverse_test[-2:])\n",
    "\n",
    "title = f'Test {labels[0]}:{predicteds}, BatchSize:{batch_size}, MAE:{round(mae_test, 5)}, MAPE:{round(mape_test, 5)}'\n",
    "\n",
    "print(title)\n",
    "lstm.show_predict_chart(\n",
    "    actual = actual_inverse_test,\n",
    "    predict = predict_inverse_test,\n",
    "    title = title\n",
    ")"
   ]
  },
  {
   "cell_type": "markdown",
   "id": "dc93ddd2",
   "metadata": {
    "papermill": {
     "duration": 0.004459,
     "end_time": "2024-10-26T09:46:57.376003",
     "exception": false,
     "start_time": "2024-10-26T09:46:57.371544",
     "status": "completed"
    },
    "tags": []
   },
   "source": [
    "# 儲存結果"
   ]
  },
  {
   "cell_type": "code",
   "execution_count": 19,
   "id": "d50294a7",
   "metadata": {
    "execution": {
     "iopub.execute_input": "2024-10-26T09:46:57.385334Z",
     "iopub.status.busy": "2024-10-26T09:46:57.385226Z",
     "iopub.status.idle": "2024-10-26T09:46:57.387435Z",
     "shell.execute_reply": "2024-10-26T09:46:57.387213Z"
    },
    "papermill": {
     "duration": 0.007593,
     "end_time": "2024-10-26T09:46:57.388033",
     "exception": false,
     "start_time": "2024-10-26T09:46:57.380440",
     "status": "completed"
    },
    "tags": []
   },
   "outputs": [
    {
     "name": "stdout",
     "output_type": "stream",
     "text": [
      "{'type': 'NoDecomp', 'labels': ['GroupCount'], 'model_type': 4, 'predicteds': [2, 4, 6], 'batch_size': 14, 'train_mae': 890.65513, 'train_mape': 0.43733, 'test_mae': 482.49174, 'test_mape': 0.20601, 'kfold': None, 'imfs': None}\n",
      "儲存評估結果到 NoDecomp/_Model/GroupCount_mt4_data246_batch14.result.json\n"
     ]
    }
   ],
   "source": [
    "lstm.save_json_file(\n",
    "    result_file_name, model_dir, labels, model_type, predicteds, \n",
    "    batch_size, mae_train, mape_train, mae_test, mape_test,\n",
    "    kfold = None\n",
    ")"
   ]
  }
 ],
 "metadata": {
  "colab": {
   "provenance": [],
   "toc_visible": true
  },
  "kernelspec": {
   "display_name": "nckuenv",
   "language": "python",
   "name": "python3"
  },
  "language_info": {
   "codemirror_mode": {
    "name": "ipython",
    "version": 3
   },
   "file_extension": ".py",
   "mimetype": "text/x-python",
   "name": "python",
   "nbconvert_exporter": "python",
   "pygments_lexer": "ipython3",
   "version": "3.12.4"
  },
  "papermill": {
   "default_parameters": {},
   "duration": 11.152813,
   "end_time": "2024-10-26T09:46:57.916699",
   "environment_variables": {},
   "exception": null,
   "input_path": "Temp_runtime.ipynb",
   "output_path": "NoDecomp/GroupCount/NoDecomp_mt4_data246_batch14.ipynb",
   "parameters": {},
   "start_time": "2024-10-26T09:46:46.763886",
   "version": "2.6.0"
  }
 },
 "nbformat": 4,
 "nbformat_minor": 5
}