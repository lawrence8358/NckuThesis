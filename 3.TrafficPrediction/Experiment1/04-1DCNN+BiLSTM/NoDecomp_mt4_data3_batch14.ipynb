{
 "cells": [
  {
   "cell_type": "markdown",
   "id": "051b20a7",
   "metadata": {
    "id": "kk4Hl1aJGMqf",
    "papermill": {
     "duration": 0.007125,
     "end_time": "2024-11-05T14:09:30.379586",
     "exception": false,
     "start_time": "2024-11-05T14:09:30.372461",
     "status": "completed"
    },
    "tags": []
   },
   "source": [
    "# 參數設定(未使用訊號分解)"
   ]
  },
  {
   "cell_type": "code",
   "execution_count": 1,
   "id": "6c48a80a",
   "metadata": {
    "colab": {
     "base_uri": "https://localhost:8080/"
    },
    "execution": {
     "iopub.execute_input": "2024-11-05T14:09:30.389439Z",
     "iopub.status.busy": "2024-11-05T14:09:30.389229Z",
     "iopub.status.idle": "2024-11-05T14:09:30.393029Z",
     "shell.execute_reply": "2024-11-05T14:09:30.392694Z"
    },
    "id": "pVQVdyLWgoQG",
    "outputId": "3d2bcb27-027f-4166-ea2d-241cca3fa08a",
    "papermill": {
     "duration": 0.009885,
     "end_time": "2024-11-05T14:09:30.394130",
     "exception": false,
     "start_time": "2024-11-05T14:09:30.384245",
     "status": "completed"
    },
    "tags": []
   },
   "outputs": [],
   "source": [
    "import os\n",
    "\n",
    "labels = ['GroupCount']\n",
    "model_type = 4 # 使用模型\n",
    "predicteds = [3] # 預測類別 \n",
    "batch_size = 14  # 批次大小\n",
    "\n",
    "# labels = ['GroupCount']\n",
    "# model_type = 1 # 使用模型\n",
    "# predicteds = [1] # 預測類別 \n",
    "# batch_size = 14  # 批次大小\n",
    "\n",
    "\n",
    "# ==== 底下的參數基本上都不要亂動 ====\n",
    "past_day = 14  # 過去天數，用於訓練資料中的歷史資料長度\n",
    "future_day = 1\n",
    "\n",
    "train_split_rate = 0.8  # 訓練集佔整體資料集的比例\n",
    "val_split_rate = 0.1 # 驗證集占整體資料集的比例\n",
    "  \n",
    "model_dir = 'NoDecomp/_Model'"
   ]
  },
  {
   "cell_type": "markdown",
   "id": "c4e1f148",
   "metadata": {
    "id": "Mvow40rcSzyH",
    "papermill": {
     "duration": 0.003335,
     "end_time": "2024-11-05T14:09:30.401320",
     "exception": false,
     "start_time": "2024-11-05T14:09:30.397985",
     "status": "completed"
    },
    "tags": []
   },
   "source": [
    "# 定義類別"
   ]
  },
  {
   "cell_type": "code",
   "execution_count": 2,
   "id": "1937a502",
   "metadata": {
    "execution": {
     "iopub.execute_input": "2024-11-05T14:09:30.408229Z",
     "iopub.status.busy": "2024-11-05T14:09:30.408094Z",
     "iopub.status.idle": "2024-11-05T14:09:32.651679Z",
     "shell.execute_reply": "2024-11-05T14:09:32.651421Z"
    },
    "id": "yRw6GSTVSzyJ",
    "papermill": {
     "duration": 2.247849,
     "end_time": "2024-11-05T14:09:32.652368",
     "exception": false,
     "start_time": "2024-11-05T14:09:30.404519",
     "status": "completed"
    },
    "tags": []
   },
   "outputs": [
    {
     "name": "stdout",
     "output_type": "stream",
     "text": [
      "/Users/elliesu/Developer/nckuenv\n"
     ]
    }
   ],
   "source": [
    "import joblib\n",
    "\n",
    "# 重新載入 Lib，讓檔案可以直接修改使用 \n",
    "import importlib\n",
    "import LstmLib \n",
    "importlib.reload(LstmLib)   \n",
    "\n",
    "from LstmLib import * \n",
    "lstm = LstmLib()\n",
    "\n",
    "import sys\n",
    "print(sys.prefix)"
   ]
  },
  {
   "cell_type": "markdown",
   "id": "7c57cca0",
   "metadata": {
    "papermill": {
     "duration": 0.002578,
     "end_time": "2024-11-05T14:09:32.657316",
     "exception": false,
     "start_time": "2024-11-05T14:09:32.654738",
     "status": "completed"
    },
    "tags": []
   },
   "source": [
    "# 清除舊的訓練資料"
   ]
  },
  {
   "cell_type": "code",
   "execution_count": 3,
   "id": "5f09acf1",
   "metadata": {
    "execution": {
     "iopub.execute_input": "2024-11-05T14:09:32.662133Z",
     "iopub.status.busy": "2024-11-05T14:09:32.661944Z",
     "iopub.status.idle": "2024-11-05T14:09:32.664771Z",
     "shell.execute_reply": "2024-11-05T14:09:32.664533Z"
    },
    "papermill": {
     "duration": 0.005908,
     "end_time": "2024-11-05T14:09:32.665392",
     "exception": false,
     "start_time": "2024-11-05T14:09:32.659484",
     "status": "completed"
    },
    "tags": []
   },
   "outputs": [
    {
     "name": "stdout",
     "output_type": "stream",
     "text": [
      "x_scaler_file_name: NoDecomp/_Model/GroupCount_mt4_data3_batch14.x_scaler.pkl\n",
      "y_scaler_file_name: NoDecomp/_Model/GroupCount_mt4_data3_batch14.y_scaler.pkl\n",
      "model_file_name: NoDecomp/_Model/GroupCount_mt4_data3_batch14.model.keras\n",
      "result_file_name: NoDecomp/_Model/GroupCount_mt4_data3_batch14.result.json\n",
      "檔案 NoDecomp/_Model/GroupCount_mt4_data3_batch14.x_scaler.pkl 存在，已刪除\n",
      "檔案 NoDecomp/_Model/GroupCount_mt4_data3_batch14.y_scaler.pkl 存在，已刪除\n",
      "檔案 NoDecomp/_Model/GroupCount_mt4_data3_batch14.model.keras 存在，已刪除\n",
      "檔案 NoDecomp/_Model/GroupCount_mt4_data3_batch14.result.json 存在，已刪除\n"
     ]
    }
   ],
   "source": [
    "x_scaler_file_name, y_scaler_file_name, model_file_name, result_file_name = \\\n",
    "    lstm.reset_data(model_dir, labels, model_type, predicteds, batch_size)"
   ]
  },
  {
   "cell_type": "markdown",
   "id": "d12d7830",
   "metadata": {
    "id": "NipcqBZf-Smu",
    "papermill": {
     "duration": 0.002108,
     "end_time": "2024-11-05T14:09:32.669990",
     "exception": false,
     "start_time": "2024-11-05T14:09:32.667882",
     "status": "completed"
    },
    "tags": []
   },
   "source": [
    "# 載入數據"
   ]
  },
  {
   "cell_type": "code",
   "execution_count": 4,
   "id": "6e9f0d01",
   "metadata": {
    "colab": {
     "base_uri": "https://localhost:8080/",
     "height": 261
    },
    "execution": {
     "iopub.execute_input": "2024-11-05T14:09:32.674648Z",
     "iopub.status.busy": "2024-11-05T14:09:32.674470Z",
     "iopub.status.idle": "2024-11-05T14:09:32.683244Z",
     "shell.execute_reply": "2024-11-05T14:09:32.683025Z"
    },
    "id": "7PH7QM4NwPtK",
    "outputId": "8b83d42f-c0f7-4b8d-a1b4-464faa7a07e0",
    "papermill": {
     "duration": 0.011803,
     "end_time": "2024-11-05T14:09:32.683853",
     "exception": false,
     "start_time": "2024-11-05T14:09:32.672050",
     "status": "completed"
    },
    "tags": []
   },
   "outputs": [
    {
     "name": "stdout",
     "output_type": "stream",
     "text": [
      "\u001b[93m# 載入數據\u001b[0m\n",
      "395\n"
     ]
    },
    {
     "data": {
      "text/html": [
       "<div>\n",
       "<style scoped>\n",
       "    .dataframe tbody tr th:only-of-type {\n",
       "        vertical-align: middle;\n",
       "    }\n",
       "\n",
       "    .dataframe tbody tr th {\n",
       "        vertical-align: top;\n",
       "    }\n",
       "\n",
       "    .dataframe thead th {\n",
       "        text-align: right;\n",
       "    }\n",
       "</style>\n",
       "<table border=\"1\" class=\"dataframe\">\n",
       "  <thead>\n",
       "    <tr style=\"text-align: right;\">\n",
       "      <th></th>\n",
       "      <th>RequestTime</th>\n",
       "      <th>Predicted</th>\n",
       "      <th>SendBytes</th>\n",
       "      <th>ReceiveBytes</th>\n",
       "      <th>TimeTaken</th>\n",
       "      <th>UrlType1</th>\n",
       "      <th>UrlType2</th>\n",
       "      <th>UrlType3</th>\n",
       "      <th>Method_GET</th>\n",
       "      <th>Method_POST</th>\n",
       "      <th>Method_PUT</th>\n",
       "      <th>Method_DELETE</th>\n",
       "      <th>Method_HEAD</th>\n",
       "      <th>Method_OPTIONS</th>\n",
       "      <th>Method_PATCH</th>\n",
       "      <th>GroupCount</th>\n",
       "    </tr>\n",
       "  </thead>\n",
       "  <tbody>\n",
       "    <tr>\n",
       "      <th>0</th>\n",
       "      <td>2023-04-02</td>\n",
       "      <td>[3]</td>\n",
       "      <td>434228991</td>\n",
       "      <td>7104327</td>\n",
       "      <td>1514391</td>\n",
       "      <td>0</td>\n",
       "      <td>12161</td>\n",
       "      <td>11</td>\n",
       "      <td>12143</td>\n",
       "      <td>0</td>\n",
       "      <td>0</td>\n",
       "      <td>0</td>\n",
       "      <td>29</td>\n",
       "      <td>0</td>\n",
       "      <td>0</td>\n",
       "      <td>12172</td>\n",
       "    </tr>\n",
       "    <tr>\n",
       "      <th>1</th>\n",
       "      <td>2023-04-03</td>\n",
       "      <td>[3]</td>\n",
       "      <td>514748677</td>\n",
       "      <td>8374632</td>\n",
       "      <td>1685290</td>\n",
       "      <td>0</td>\n",
       "      <td>14413</td>\n",
       "      <td>14</td>\n",
       "      <td>14401</td>\n",
       "      <td>1</td>\n",
       "      <td>0</td>\n",
       "      <td>0</td>\n",
       "      <td>25</td>\n",
       "      <td>0</td>\n",
       "      <td>0</td>\n",
       "      <td>14427</td>\n",
       "    </tr>\n",
       "    <tr>\n",
       "      <th>2</th>\n",
       "      <td>2023-04-04</td>\n",
       "      <td>[3]</td>\n",
       "      <td>495403671</td>\n",
       "      <td>8015605</td>\n",
       "      <td>2356346</td>\n",
       "      <td>0</td>\n",
       "      <td>13724</td>\n",
       "      <td>7</td>\n",
       "      <td>13698</td>\n",
       "      <td>1</td>\n",
       "      <td>0</td>\n",
       "      <td>0</td>\n",
       "      <td>32</td>\n",
       "      <td>0</td>\n",
       "      <td>0</td>\n",
       "      <td>13731</td>\n",
       "    </tr>\n",
       "    <tr>\n",
       "      <th>3</th>\n",
       "      <td>2023-04-05</td>\n",
       "      <td>[3]</td>\n",
       "      <td>650814803</td>\n",
       "      <td>10389288</td>\n",
       "      <td>1805140</td>\n",
       "      <td>0</td>\n",
       "      <td>17785</td>\n",
       "      <td>40</td>\n",
       "      <td>17817</td>\n",
       "      <td>1</td>\n",
       "      <td>0</td>\n",
       "      <td>0</td>\n",
       "      <td>7</td>\n",
       "      <td>0</td>\n",
       "      <td>0</td>\n",
       "      <td>17825</td>\n",
       "    </tr>\n",
       "    <tr>\n",
       "      <th>4</th>\n",
       "      <td>2023-04-06</td>\n",
       "      <td>[3]</td>\n",
       "      <td>1515791439</td>\n",
       "      <td>24958451</td>\n",
       "      <td>4215703</td>\n",
       "      <td>0</td>\n",
       "      <td>41506</td>\n",
       "      <td>15</td>\n",
       "      <td>41508</td>\n",
       "      <td>0</td>\n",
       "      <td>0</td>\n",
       "      <td>0</td>\n",
       "      <td>13</td>\n",
       "      <td>0</td>\n",
       "      <td>0</td>\n",
       "      <td>41521</td>\n",
       "    </tr>\n",
       "  </tbody>\n",
       "</table>\n",
       "</div>"
      ],
      "text/plain": [
       "  RequestTime Predicted   SendBytes  ReceiveBytes  TimeTaken  UrlType1  \\\n",
       "0  2023-04-02       [3]   434228991       7104327    1514391         0   \n",
       "1  2023-04-03       [3]   514748677       8374632    1685290         0   \n",
       "2  2023-04-04       [3]   495403671       8015605    2356346         0   \n",
       "3  2023-04-05       [3]   650814803      10389288    1805140         0   \n",
       "4  2023-04-06       [3]  1515791439      24958451    4215703         0   \n",
       "\n",
       "   UrlType2  UrlType3  Method_GET  Method_POST  Method_PUT  Method_DELETE  \\\n",
       "0     12161        11       12143            0           0              0   \n",
       "1     14413        14       14401            1           0              0   \n",
       "2     13724         7       13698            1           0              0   \n",
       "3     17785        40       17817            1           0              0   \n",
       "4     41506        15       41508            0           0              0   \n",
       "\n",
       "   Method_HEAD  Method_OPTIONS  Method_PATCH  GroupCount  \n",
       "0           29               0             0       12172  \n",
       "1           25               0             0       14427  \n",
       "2           32               0             0       13731  \n",
       "3            7               0             0       17825  \n",
       "4           13               0             0       41521  "
      ]
     },
     "execution_count": 4,
     "metadata": {},
     "output_type": "execute_result"
    }
   ],
   "source": [
    "df_source = lstm.load_data(predicteds)\n",
    "\n",
    "print(len(df_source))\n",
    "df_source.head()"
   ]
  },
  {
   "cell_type": "markdown",
   "id": "4276e86b",
   "metadata": {
    "id": "M4RY1aaz-XJa",
    "papermill": {
     "duration": 0.002269,
     "end_time": "2024-11-05T14:09:32.688521",
     "exception": false,
     "start_time": "2024-11-05T14:09:32.686252",
     "status": "completed"
    },
    "tags": []
   },
   "source": [
    "# 最小最大正規化"
   ]
  },
  {
   "cell_type": "code",
   "execution_count": 5,
   "id": "aae348c2",
   "metadata": {
    "colab": {
     "base_uri": "https://localhost:8080/"
    },
    "execution": {
     "iopub.execute_input": "2024-11-05T14:09:32.693418Z",
     "iopub.status.busy": "2024-11-05T14:09:32.693311Z",
     "iopub.status.idle": "2024-11-05T14:09:32.697019Z",
     "shell.execute_reply": "2024-11-05T14:09:32.696784Z"
    },
    "id": "qgrzu6Sxf7WE",
    "outputId": "ccbf983d-edd3-4a11-d9a6-4c688782d363",
    "papermill": {
     "duration": 0.006843,
     "end_time": "2024-11-05T14:09:32.697621",
     "exception": false,
     "start_time": "2024-11-05T14:09:32.690778",
     "status": "completed"
    },
    "tags": []
   },
   "outputs": [
    {
     "name": "stdout",
     "output_type": "stream",
     "text": [
      "\u001b[93m# 最小最大正規化\u001b[0m\n",
      "x_norm.shape:(395, 1)\n",
      "y_norm.shape:(395, 1)\n",
      "儲存最小最大縮放參數\n"
     ]
    }
   ],
   "source": [
    "x_norm, y_norm, x_scaler, y_scaler, x_df, y_df = \\\n",
    "    lstm.normalize(df_source[labels], labels, x_scaler = None, y_scaler = None);\n",
    "\n",
    "joblib.dump(x_scaler, x_scaler_file_name)\n",
    "joblib.dump(y_scaler, y_scaler_file_name)\n",
    "print('儲存最小最大縮放參數')"
   ]
  },
  {
   "cell_type": "markdown",
   "id": "16331576",
   "metadata": {
    "id": "G3k2Q3zr-c8i",
    "papermill": {
     "duration": 0.002289,
     "end_time": "2024-11-05T14:09:32.702298",
     "exception": false,
     "start_time": "2024-11-05T14:09:32.700009",
     "status": "completed"
    },
    "tags": []
   },
   "source": [
    "# 切割訓練、驗證和測試資料集"
   ]
  },
  {
   "cell_type": "code",
   "execution_count": 6,
   "id": "c182b481",
   "metadata": {
    "colab": {
     "base_uri": "https://localhost:8080/"
    },
    "execution": {
     "iopub.execute_input": "2024-11-05T14:09:32.707150Z",
     "iopub.status.busy": "2024-11-05T14:09:32.707044Z",
     "iopub.status.idle": "2024-11-05T14:09:32.708817Z",
     "shell.execute_reply": "2024-11-05T14:09:32.708615Z"
    },
    "id": "xfCDR3YwiIzp",
    "outputId": "7e65a012-6799-4064-a7b4-c8e51502ffb9",
    "papermill": {
     "duration": 0.004905,
     "end_time": "2024-11-05T14:09:32.709419",
     "exception": false,
     "start_time": "2024-11-05T14:09:32.704514",
     "status": "completed"
    },
    "tags": []
   },
   "outputs": [
    {
     "name": "stdout",
     "output_type": "stream",
     "text": [
      "\u001b[93m# 切割訓練、驗證和測試資料集\u001b[0m\n",
      "x_train.shape: (316, 1)\n",
      "y_train.shape: (316, 1)\n",
      "x_val.shape: (39, 1)\n",
      "y_val.shape: (39, 1)\n",
      "x_test.shape: (40, 1)\n",
      "y_test.shape: (40, 1)\n"
     ]
    }
   ],
   "source": [
    "x_train, y_train, x_val, y_val, x_test, y_test = \\\n",
    "    lstm.train_val_test_split(\n",
    "        x_norm,\n",
    "        train_split_rate = train_split_rate,\n",
    "        val_split_rate = val_split_rate\n",
    "    )"
   ]
  },
  {
   "cell_type": "markdown",
   "id": "cd6f3107",
   "metadata": {
    "id": "AqdSy5pL-i7X",
    "papermill": {
     "duration": 0.002322,
     "end_time": "2024-11-05T14:09:32.714106",
     "exception": false,
     "start_time": "2024-11-05T14:09:32.711784",
     "status": "completed"
    },
    "tags": []
   },
   "source": [
    "# 將資料轉成 LSTM 模型所需資料格式(三維)"
   ]
  },
  {
   "cell_type": "code",
   "execution_count": 7,
   "id": "d282847a",
   "metadata": {
    "colab": {
     "base_uri": "https://localhost:8080/"
    },
    "execution": {
     "iopub.execute_input": "2024-11-05T14:09:32.719234Z",
     "iopub.status.busy": "2024-11-05T14:09:32.719066Z",
     "iopub.status.idle": "2024-11-05T14:09:32.722649Z",
     "shell.execute_reply": "2024-11-05T14:09:32.722445Z"
    },
    "id": "Ugd7Ujt_kmJP",
    "outputId": "fe6a4a50-d74e-43a5-b96d-884373684359",
    "papermill": {
     "duration": 0.006732,
     "end_time": "2024-11-05T14:09:32.723191",
     "exception": false,
     "start_time": "2024-11-05T14:09:32.716459",
     "status": "completed"
    },
    "tags": []
   },
   "outputs": [
    {
     "name": "stdout",
     "output_type": "stream",
     "text": [
      "\u001b[93m# 將資料轉成 LSTM 模型所需資料格式，LSTM 的輸入必須是三維\u001b[0m\n",
      "====== Train DataSet ======\n",
      "訓練集 : x_k_lstm_train (筆數, 天數, 特徵數) : (301, 14, 1)\n",
      "訓練集 : y_k_lstm_train (筆數, 天數, 標籤數) : (301, 1)\n",
      "\u001b[93m# 將資料轉成 LSTM 模型所需資料格式，LSTM 的輸入必須是三維\u001b[0m\n",
      "====== Val DataSet ======\n",
      "驗證集 : x_k_lstm_test (筆數, 天數, 特徵數) : (24, 14, 1)\n",
      "驗證集 : y_k_lstm_test (筆數, 天數, 標籤數) : (24, 1)\n",
      "\u001b[93m# 將資料轉成 LSTM 模型所需資料格式，LSTM 的輸入必須是三維\u001b[0m\n",
      "====== Test DataSet ======\n",
      "測試集 : x_lstm_test (筆數, 天數, 特徵數) : (25, 14, 1)\n",
      "測試集 : y_lstm_test (筆數, 天數, 標籤數) : (25, 1)\n"
     ]
    }
   ],
   "source": [
    "# 訓練集\n",
    "x_lstm_train, y_lstm_train, _ = \\\n",
    "    lstm.reshape_data_for_lstm(\n",
    "        x_train, y_train,\n",
    "        date_array = None,\n",
    "        past_day = past_day,\n",
    "        future_day = future_day\n",
    "    )\n",
    "print('====== Train DataSet ======')\n",
    "print('訓練集 : x_k_lstm_train (筆數, 天數, 特徵數) :', x_lstm_train.shape)\n",
    "print('訓練集 : y_k_lstm_train (筆數, 天數, 標籤數) :', y_lstm_train.shape)\n",
    "\n",
    "# 驗證集\n",
    "x_lstm_val, y_lstm_val, _ = \\\n",
    "    lstm.reshape_data_for_lstm(\n",
    "        x_val, y_val,\n",
    "        date_array = None,\n",
    "        past_day = past_day,\n",
    "        future_day = future_day\n",
    "    )\n",
    "print('====== Val DataSet ======')\n",
    "print('驗證集 : x_k_lstm_test (筆數, 天數, 特徵數) :', x_lstm_val.shape)\n",
    "print('驗證集 : y_k_lstm_test (筆數, 天數, 標籤數) :', y_lstm_val.shape)\n",
    "\n",
    "# 測試集\n",
    "x_lstm_test, y_lstm_test, _ = \\\n",
    "    lstm.reshape_data_for_lstm(\n",
    "        x_test, y_test,\n",
    "        date_array = None,\n",
    "        past_day = past_day,\n",
    "        future_day = future_day\n",
    "    )\n",
    "print('====== Test DataSet ======')\n",
    "print('測試集 : x_lstm_test (筆數, 天數, 特徵數) :', x_lstm_test.shape)\n",
    "print('測試集 : y_lstm_test (筆數, 天數, 標籤數) :', y_lstm_test.shape)"
   ]
  },
  {
   "cell_type": "markdown",
   "id": "156ef4ed",
   "metadata": {
    "id": "hptadCRG-mnK",
    "papermill": {
     "duration": 0.002359,
     "end_time": "2024-11-05T14:09:32.727967",
     "exception": false,
     "start_time": "2024-11-05T14:09:32.725608",
     "status": "completed"
    },
    "tags": []
   },
   "source": [
    "# 定義 Model"
   ]
  },
  {
   "cell_type": "code",
   "execution_count": 8,
   "id": "59f7636f",
   "metadata": {
    "colab": {
     "base_uri": "https://localhost:8080/",
     "height": 338
    },
    "execution": {
     "iopub.execute_input": "2024-11-05T14:09:32.733001Z",
     "iopub.status.busy": "2024-11-05T14:09:32.732906Z",
     "iopub.status.idle": "2024-11-05T14:09:32.776974Z",
     "shell.execute_reply": "2024-11-05T14:09:32.776756Z"
    },
    "id": "5xqMw5ZhrrxC",
    "outputId": "ca3118aa-96c7-4e80-9b3d-5451af076422",
    "papermill": {
     "duration": 0.047283,
     "end_time": "2024-11-05T14:09:32.777596",
     "exception": false,
     "start_time": "2024-11-05T14:09:32.730313",
     "status": "completed"
    },
    "tags": []
   },
   "outputs": [
    {
     "name": "stdout",
     "output_type": "stream",
     "text": [
      "\u001b[93m# 定義 Model：4\u001b[0m\n",
      "CNN-BiLSTM\n"
     ]
    },
    {
     "data": {
      "text/html": [
       "<pre style=\"white-space:pre;overflow-x:auto;line-height:normal;font-family:Menlo,'DejaVu Sans Mono',consolas,'Courier New',monospace\"><span style=\"font-weight: bold\">Model: \"sequential\"</span>\n",
       "</pre>\n"
      ],
      "text/plain": [
       "\u001b[1mModel: \"sequential\"\u001b[0m\n"
      ]
     },
     "metadata": {},
     "output_type": "display_data"
    },
    {
     "data": {
      "text/html": [
       "<pre style=\"white-space:pre;overflow-x:auto;line-height:normal;font-family:Menlo,'DejaVu Sans Mono',consolas,'Courier New',monospace\">┏━━━━━━━━━━━━━━━━━━━━━━━━━━━━━━━━━┳━━━━━━━━━━━━━━━━━━━━━━━━┳━━━━━━━━━━━━━━━┓\n",
       "┃<span style=\"font-weight: bold\"> Layer (type)                    </span>┃<span style=\"font-weight: bold\"> Output Shape           </span>┃<span style=\"font-weight: bold\">       Param # </span>┃\n",
       "┡━━━━━━━━━━━━━━━━━━━━━━━━━━━━━━━━━╇━━━━━━━━━━━━━━━━━━━━━━━━╇━━━━━━━━━━━━━━━┩\n",
       "│ conv1d (<span style=\"color: #0087ff; text-decoration-color: #0087ff\">Conv1D</span>)                 │ (<span style=\"color: #00d7ff; text-decoration-color: #00d7ff\">None</span>, <span style=\"color: #00af00; text-decoration-color: #00af00\">13</span>, <span style=\"color: #00af00; text-decoration-color: #00af00\">7</span>)          │            <span style=\"color: #00af00; text-decoration-color: #00af00\">21</span> │\n",
       "├─────────────────────────────────┼────────────────────────┼───────────────┤\n",
       "│ max_pooling1d (<span style=\"color: #0087ff; text-decoration-color: #0087ff\">MaxPooling1D</span>)    │ (<span style=\"color: #00d7ff; text-decoration-color: #00d7ff\">None</span>, <span style=\"color: #00af00; text-decoration-color: #00af00\">6</span>, <span style=\"color: #00af00; text-decoration-color: #00af00\">7</span>)           │             <span style=\"color: #00af00; text-decoration-color: #00af00\">0</span> │\n",
       "├─────────────────────────────────┼────────────────────────┼───────────────┤\n",
       "│ bidirectional (<span style=\"color: #0087ff; text-decoration-color: #0087ff\">Bidirectional</span>)   │ (<span style=\"color: #00d7ff; text-decoration-color: #00d7ff\">None</span>, <span style=\"color: #00af00; text-decoration-color: #00af00\">200</span>)            │        <span style=\"color: #00af00; text-decoration-color: #00af00\">86,400</span> │\n",
       "├─────────────────────────────────┼────────────────────────┼───────────────┤\n",
       "│ dense (<span style=\"color: #0087ff; text-decoration-color: #0087ff\">Dense</span>)                   │ (<span style=\"color: #00d7ff; text-decoration-color: #00d7ff\">None</span>, <span style=\"color: #00af00; text-decoration-color: #00af00\">150</span>)            │        <span style=\"color: #00af00; text-decoration-color: #00af00\">30,150</span> │\n",
       "├─────────────────────────────────┼────────────────────────┼───────────────┤\n",
       "│ dense_1 (<span style=\"color: #0087ff; text-decoration-color: #0087ff\">Dense</span>)                 │ (<span style=\"color: #00d7ff; text-decoration-color: #00d7ff\">None</span>, <span style=\"color: #00af00; text-decoration-color: #00af00\">150</span>)            │        <span style=\"color: #00af00; text-decoration-color: #00af00\">22,650</span> │\n",
       "├─────────────────────────────────┼────────────────────────┼───────────────┤\n",
       "│ dense_2 (<span style=\"color: #0087ff; text-decoration-color: #0087ff\">Dense</span>)                 │ (<span style=\"color: #00d7ff; text-decoration-color: #00d7ff\">None</span>, <span style=\"color: #00af00; text-decoration-color: #00af00\">1</span>)              │           <span style=\"color: #00af00; text-decoration-color: #00af00\">151</span> │\n",
       "└─────────────────────────────────┴────────────────────────┴───────────────┘\n",
       "</pre>\n"
      ],
      "text/plain": [
       "┏━━━━━━━━━━━━━━━━━━━━━━━━━━━━━━━━━┳━━━━━━━━━━━━━━━━━━━━━━━━┳━━━━━━━━━━━━━━━┓\n",
       "┃\u001b[1m \u001b[0m\u001b[1mLayer (type)                   \u001b[0m\u001b[1m \u001b[0m┃\u001b[1m \u001b[0m\u001b[1mOutput Shape          \u001b[0m\u001b[1m \u001b[0m┃\u001b[1m \u001b[0m\u001b[1m      Param #\u001b[0m\u001b[1m \u001b[0m┃\n",
       "┡━━━━━━━━━━━━━━━━━━━━━━━━━━━━━━━━━╇━━━━━━━━━━━━━━━━━━━━━━━━╇━━━━━━━━━━━━━━━┩\n",
       "│ conv1d (\u001b[38;5;33mConv1D\u001b[0m)                 │ (\u001b[38;5;45mNone\u001b[0m, \u001b[38;5;34m13\u001b[0m, \u001b[38;5;34m7\u001b[0m)          │            \u001b[38;5;34m21\u001b[0m │\n",
       "├─────────────────────────────────┼────────────────────────┼───────────────┤\n",
       "│ max_pooling1d (\u001b[38;5;33mMaxPooling1D\u001b[0m)    │ (\u001b[38;5;45mNone\u001b[0m, \u001b[38;5;34m6\u001b[0m, \u001b[38;5;34m7\u001b[0m)           │             \u001b[38;5;34m0\u001b[0m │\n",
       "├─────────────────────────────────┼────────────────────────┼───────────────┤\n",
       "│ bidirectional (\u001b[38;5;33mBidirectional\u001b[0m)   │ (\u001b[38;5;45mNone\u001b[0m, \u001b[38;5;34m200\u001b[0m)            │        \u001b[38;5;34m86,400\u001b[0m │\n",
       "├─────────────────────────────────┼────────────────────────┼───────────────┤\n",
       "│ dense (\u001b[38;5;33mDense\u001b[0m)                   │ (\u001b[38;5;45mNone\u001b[0m, \u001b[38;5;34m150\u001b[0m)            │        \u001b[38;5;34m30,150\u001b[0m │\n",
       "├─────────────────────────────────┼────────────────────────┼───────────────┤\n",
       "│ dense_1 (\u001b[38;5;33mDense\u001b[0m)                 │ (\u001b[38;5;45mNone\u001b[0m, \u001b[38;5;34m150\u001b[0m)            │        \u001b[38;5;34m22,650\u001b[0m │\n",
       "├─────────────────────────────────┼────────────────────────┼───────────────┤\n",
       "│ dense_2 (\u001b[38;5;33mDense\u001b[0m)                 │ (\u001b[38;5;45mNone\u001b[0m, \u001b[38;5;34m1\u001b[0m)              │           \u001b[38;5;34m151\u001b[0m │\n",
       "└─────────────────────────────────┴────────────────────────┴───────────────┘\n"
      ]
     },
     "metadata": {},
     "output_type": "display_data"
    },
    {
     "data": {
      "text/html": [
       "<pre style=\"white-space:pre;overflow-x:auto;line-height:normal;font-family:Menlo,'DejaVu Sans Mono',consolas,'Courier New',monospace\"><span style=\"font-weight: bold\"> Total params: </span><span style=\"color: #00af00; text-decoration-color: #00af00\">139,372</span> (544.42 KB)\n",
       "</pre>\n"
      ],
      "text/plain": [
       "\u001b[1m Total params: \u001b[0m\u001b[38;5;34m139,372\u001b[0m (544.42 KB)\n"
      ]
     },
     "metadata": {},
     "output_type": "display_data"
    },
    {
     "data": {
      "text/html": [
       "<pre style=\"white-space:pre;overflow-x:auto;line-height:normal;font-family:Menlo,'DejaVu Sans Mono',consolas,'Courier New',monospace\"><span style=\"font-weight: bold\"> Trainable params: </span><span style=\"color: #00af00; text-decoration-color: #00af00\">139,372</span> (544.42 KB)\n",
       "</pre>\n"
      ],
      "text/plain": [
       "\u001b[1m Trainable params: \u001b[0m\u001b[38;5;34m139,372\u001b[0m (544.42 KB)\n"
      ]
     },
     "metadata": {},
     "output_type": "display_data"
    },
    {
     "data": {
      "text/html": [
       "<pre style=\"white-space:pre;overflow-x:auto;line-height:normal;font-family:Menlo,'DejaVu Sans Mono',consolas,'Courier New',monospace\"><span style=\"font-weight: bold\"> Non-trainable params: </span><span style=\"color: #00af00; text-decoration-color: #00af00\">0</span> (0.00 B)\n",
       "</pre>\n"
      ],
      "text/plain": [
       "\u001b[1m Non-trainable params: \u001b[0m\u001b[38;5;34m0\u001b[0m (0.00 B)\n"
      ]
     },
     "metadata": {},
     "output_type": "display_data"
    }
   ],
   "source": [
    "# 定義 Model\n",
    "model = lstm.build_model(\n",
    "    model_type = model_type,\n",
    "    time_step = past_day,\n",
    "    n_predictions = future_day\n",
    ")"
   ]
  },
  {
   "cell_type": "markdown",
   "id": "d2a17189",
   "metadata": {
    "id": "8aZNVtRBbDOm",
    "papermill": {
     "duration": 0.002574,
     "end_time": "2024-11-05T14:09:32.783111",
     "exception": false,
     "start_time": "2024-11-05T14:09:32.780537",
     "status": "completed"
    },
    "tags": []
   },
   "source": [
    "# 訓練"
   ]
  },
  {
   "cell_type": "code",
   "execution_count": 9,
   "id": "58f2a19e",
   "metadata": {
    "colab": {
     "base_uri": "https://localhost:8080/"
    },
    "execution": {
     "iopub.execute_input": "2024-11-05T14:09:32.788689Z",
     "iopub.status.busy": "2024-11-05T14:09:32.788587Z",
     "iopub.status.idle": "2024-11-05T14:09:41.894636Z",
     "shell.execute_reply": "2024-11-05T14:09:41.894293Z"
    },
    "id": "hMXCRbjlZdei",
    "outputId": "80def6f9-aebc-4e92-b983-812004825ade",
    "papermill": {
     "duration": 9.109781,
     "end_time": "2024-11-05T14:09:41.895475",
     "exception": false,
     "start_time": "2024-11-05T14:09:32.785694",
     "status": "completed"
    },
    "tags": []
   },
   "outputs": [
    {
     "name": "stdout",
     "output_type": "stream",
     "text": [
      "\u001b[93m# 訓練 Model\u001b[0m\n",
      "EarlyStopping => mointor: val_loss，patience: 50\n"
     ]
    }
   ],
   "source": [
    "train_history = lstm.model_fit(\n",
    "    model = model,\n",
    "    batch_size = batch_size,\n",
    "    x_train = x_lstm_train,\n",
    "    y_train = y_lstm_train,\n",
    "    x_val = x_lstm_val,\n",
    "    y_val = y_lstm_val,\n",
    ")"
   ]
  },
  {
   "cell_type": "markdown",
   "id": "7825de50",
   "metadata": {
    "id": "nQBChPvvFP5d",
    "papermill": {
     "duration": 0.002641,
     "end_time": "2024-11-05T14:09:41.901104",
     "exception": false,
     "start_time": "2024-11-05T14:09:41.898463",
     "status": "completed"
    },
    "tags": []
   },
   "source": [
    "# 儲存模型"
   ]
  },
  {
   "cell_type": "code",
   "execution_count": 10,
   "id": "0cd3abcd",
   "metadata": {
    "colab": {
     "base_uri": "https://localhost:8080/"
    },
    "execution": {
     "iopub.execute_input": "2024-11-05T14:09:41.906983Z",
     "iopub.status.busy": "2024-11-05T14:09:41.906868Z",
     "iopub.status.idle": "2024-11-05T14:09:41.925307Z",
     "shell.execute_reply": "2024-11-05T14:09:41.925072Z"
    },
    "id": "QpQTO-ziFTSo",
    "outputId": "b140abd3-0a2e-45ea-a319-dff8a69712d3",
    "papermill": {
     "duration": 0.022048,
     "end_time": "2024-11-05T14:09:41.925942",
     "exception": false,
     "start_time": "2024-11-05T14:09:41.903894",
     "status": "completed"
    },
    "tags": []
   },
   "outputs": [
    {
     "name": "stdout",
     "output_type": "stream",
     "text": [
      "儲存模型到 NoDecomp/_Model/GroupCount_mt4_data3_batch14.model.keras\n"
     ]
    }
   ],
   "source": [
    "model.save(model_file_name)\n",
    "print(f'儲存模型到 {model_file_name}')"
   ]
  },
  {
   "cell_type": "markdown",
   "id": "e6bc4570",
   "metadata": {
    "id": "StSWwUTn-s3u",
    "papermill": {
     "duration": 0.002661,
     "end_time": "2024-11-05T14:09:41.931502",
     "exception": false,
     "start_time": "2024-11-05T14:09:41.928841",
     "status": "completed"
    },
    "tags": []
   },
   "source": [
    "# 預測"
   ]
  },
  {
   "cell_type": "code",
   "execution_count": 11,
   "id": "e2792309",
   "metadata": {
    "colab": {
     "base_uri": "https://localhost:8080/"
    },
    "execution": {
     "iopub.execute_input": "2024-11-05T14:09:41.937488Z",
     "iopub.status.busy": "2024-11-05T14:09:41.937390Z",
     "iopub.status.idle": "2024-11-05T14:09:42.192370Z",
     "shell.execute_reply": "2024-11-05T14:09:42.192087Z"
    },
    "id": "63_mpMrE2toM",
    "outputId": "f1aba8cf-37a1-4ca1-f8cd-3d9c9e7b9b59",
    "papermill": {
     "duration": 0.258726,
     "end_time": "2024-11-05T14:09:42.193055",
     "exception": false,
     "start_time": "2024-11-05T14:09:41.934329",
     "status": "completed"
    },
    "tags": []
   },
   "outputs": [
    {
     "name": "stdout",
     "output_type": "stream",
     "text": [
      "\u001b[93m# 預測\u001b[0m\n",
      "\r",
      "\u001b[1m 1/10\u001b[0m \u001b[32m━━\u001b[0m\u001b[37m━━━━━━━━━━━━━━━━━━\u001b[0m \u001b[1m0s\u001b[0m 98ms/step"
     ]
    },
    {
     "name": "stdout",
     "output_type": "stream",
     "text": [
      "\b\b\b\b\b\b\b\b\b\b\b\b\b\b\b\b\b\b\b\b\b\b\b\b\b\b\b\b\b\b\b\b\b\b\b\b\b\b\b\r",
      "\u001b[1m10/10\u001b[0m \u001b[32m━━━━━━━━━━━━━━━━━━━━\u001b[0m\u001b[37m\u001b[0m \u001b[1m0s\u001b[0m 11ms/step"
     ]
    },
    {
     "name": "stdout",
     "output_type": "stream",
     "text": [
      "\b\b\b\b\b\b\b\b\b\b\b\b\b\b\b\b\b\b\b\b\b\b\b\b\b\b\b\b\b\b\b\b\b\b\b\b\b\b\b\r",
      "\u001b[1m10/10\u001b[0m \u001b[32m━━━━━━━━━━━━━━━━━━━━\u001b[0m\u001b[37m\u001b[0m \u001b[1m0s\u001b[0m 11ms/step\n"
     ]
    },
    {
     "name": "stdout",
     "output_type": "stream",
     "text": [
      "預測 shape : (301, 1)\n",
      "預測 train.shape : (301, 1)\n",
      "\u001b[93m# 預測\u001b[0m\n",
      "\r",
      "\u001b[1m1/1\u001b[0m \u001b[32m━━━━━━━━━━━━━━━━━━━━\u001b[0m\u001b[37m\u001b[0m \u001b[1m0s\u001b[0m 7ms/step"
     ]
    },
    {
     "name": "stdout",
     "output_type": "stream",
     "text": [
      "\b\b\b\b\b\b\b\b\b\b\b\b\b\b\b\b\b\b\b\b\b\b\b\b\b\b\b\b\b\b\b\b\b\b\b\b\r",
      "\u001b[1m1/1\u001b[0m \u001b[32m━━━━━━━━━━━━━━━━━━━━\u001b[0m\u001b[37m\u001b[0m \u001b[1m0s\u001b[0m 7ms/step\n"
     ]
    },
    {
     "name": "stdout",
     "output_type": "stream",
     "text": [
      "預測 shape : (24, 1)\n",
      "預測 val.shape : (24, 1)\n",
      "\u001b[93m# 預測\u001b[0m\n",
      "\r",
      "\u001b[1m1/1\u001b[0m \u001b[32m━━━━━━━━━━━━━━━━━━━━\u001b[0m\u001b[37m\u001b[0m \u001b[1m0s\u001b[0m 7ms/step"
     ]
    },
    {
     "name": "stdout",
     "output_type": "stream",
     "text": [
      "\b\b\b\b\b\b\b\b\b\b\b\b\b\b\b\b\b\b\b\b\b\b\b\b\b\b\b\b\b\b\b\b\b\b\b\b\r",
      "\u001b[1m1/1\u001b[0m \u001b[32m━━━━━━━━━━━━━━━━━━━━\u001b[0m\u001b[37m\u001b[0m \u001b[1m0s\u001b[0m 7ms/step\n"
     ]
    },
    {
     "name": "stdout",
     "output_type": "stream",
     "text": [
      "預測 shape : (25, 1)\n",
      "預測 test.shape : (25, 1)\n"
     ]
    }
   ],
   "source": [
    "predict_train = lstm.predict(model, x_lstm_train)\n",
    "print(f'預測 train.shape : {predict_train.shape}')\n",
    "\n",
    "predict_val = lstm.predict(model, x_lstm_val)\n",
    "print(f'預測 val.shape : {predict_val.shape}')\n",
    "\n",
    "predict_test = lstm.predict(model, x_lstm_test)\n",
    "print(f'預測 test.shape : {predict_test.shape}')"
   ]
  },
  {
   "cell_type": "markdown",
   "id": "586b7695",
   "metadata": {
    "id": "aeV6X1B3-uyx",
    "papermill": {
     "duration": 0.002829,
     "end_time": "2024-11-05T14:09:42.199080",
     "exception": false,
     "start_time": "2024-11-05T14:09:42.196251",
     "status": "completed"
    },
    "tags": []
   },
   "source": [
    "# 回復預測資料值為原始數據的規模"
   ]
  },
  {
   "cell_type": "code",
   "execution_count": 12,
   "id": "8d565728",
   "metadata": {
    "colab": {
     "base_uri": "https://localhost:8080/"
    },
    "execution": {
     "iopub.execute_input": "2024-11-05T14:09:42.205125Z",
     "iopub.status.busy": "2024-11-05T14:09:42.205034Z",
     "iopub.status.idle": "2024-11-05T14:09:42.207360Z",
     "shell.execute_reply": "2024-11-05T14:09:42.207155Z"
    },
    "id": "Ra1FCvHh4exK",
    "outputId": "203c8f5c-3d4d-4d89-b130-7ba1bfb7914c",
    "papermill": {
     "duration": 0.006027,
     "end_time": "2024-11-05T14:09:42.207943",
     "exception": false,
     "start_time": "2024-11-05T14:09:42.201916",
     "status": "completed"
    },
    "tags": []
   },
   "outputs": [
    {
     "name": "stdout",
     "output_type": "stream",
     "text": [
      "\u001b[93m# 回復預測資料值為原始數據的規模\u001b[0m\n",
      "\u001b[93m# 回復預測資料值為原始數據的規模\u001b[0m\n",
      "\u001b[93m# 回復預測資料值為原始數據的規模\u001b[0m\n"
     ]
    }
   ],
   "source": [
    "# 訓練\n",
    "predict_inverse_train, actual_inverse_train, predict_train, actual_train = \\\n",
    "    lstm.denormalize_and_reshape_back(\n",
    "        y_predict = predict_train,\n",
    "        y_lstm_actual = y_lstm_train,\n",
    "        y_scaler = y_scaler,\n",
    "        n_predictions = future_day\n",
    "    )\n",
    "\n",
    "# 驗證\n",
    "predict_inverse_val, actual_inverse_val, predict_val, actual_val = \\\n",
    "    lstm.denormalize_and_reshape_back(\n",
    "        y_predict = predict_val,\n",
    "        y_lstm_actual = y_lstm_val,\n",
    "        y_scaler = y_scaler,\n",
    "        n_predictions = future_day\n",
    "    )\n",
    "\n",
    "# 測試\n",
    "predict_inverse_test, actual_inverse_test, predict_test, actual_test = \\\n",
    "    lstm.denormalize_and_reshape_back(\n",
    "        y_predict = predict_test,\n",
    "        y_lstm_actual = y_lstm_test,\n",
    "        y_scaler = y_scaler,\n",
    "        n_predictions = future_day\n",
    "    )"
   ]
  },
  {
   "cell_type": "markdown",
   "id": "ce41b049",
   "metadata": {
    "id": "QFm-OEs4-xya",
    "papermill": {
     "duration": 0.002855,
     "end_time": "2024-11-05T14:09:42.213919",
     "exception": false,
     "start_time": "2024-11-05T14:09:42.211064",
     "status": "completed"
    },
    "tags": []
   },
   "source": [
    "# 查看訓練 & 驗證 & 測試集評估數據"
   ]
  },
  {
   "cell_type": "code",
   "execution_count": 13,
   "id": "3eafefca",
   "metadata": {
    "colab": {
     "base_uri": "https://localhost:8080/"
    },
    "execution": {
     "iopub.execute_input": "2024-11-05T14:09:42.220132Z",
     "iopub.status.busy": "2024-11-05T14:09:42.220036Z",
     "iopub.status.idle": "2024-11-05T14:09:42.301513Z",
     "shell.execute_reply": "2024-11-05T14:09:42.301219Z"
    },
    "id": "Cq0TR64Z47Fu",
    "outputId": "cd9e6803-a8bb-4e49-a9b1-0324b8627ee4",
    "papermill": {
     "duration": 0.085357,
     "end_time": "2024-11-05T14:09:42.302225",
     "exception": false,
     "start_time": "2024-11-05T14:09:42.216868",
     "status": "completed"
    },
    "tags": []
   },
   "outputs": [
    {
     "name": "stdout",
     "output_type": "stream",
     "text": [
      "\u001b[93m# 查看訓練 & 驗證 & 測試集評估數據\u001b[0m\n",
      "\u001b[31m------------------------------------------------------------------------\u001b[0m\n",
      "\u001b[31mTrain Evaluate\u001b[0m\n",
      "\u001b[31m------------------------------------------------------------------------\u001b[0m\n",
      "\r",
      "\u001b[1m 1/10\u001b[0m \u001b[32m━━\u001b[0m\u001b[37m━━━━━━━━━━━━━━━━━━\u001b[0m \u001b[1m0s\u001b[0m 8ms/step - loss: 0.0013 - mean_absolute_percentage_error: 20.0852"
     ]
    },
    {
     "name": "stdout",
     "output_type": "stream",
     "text": [
      "\b\b\b\b\b\b\b\b\b\b\b\b\b\b\b\b\b\b\b\b\b\b\b\b\b\b\b\b\b\b\b\b\b\b\b\b\b\b\b\b\b\b\b\b\b\b\b\b\b\b\b\b\b\b\b\b\b\b\b\b\b\b\b\b\b\b\b\b\b\b\b\b\b\b\b\b\b\b\b\b\b\b\b\b\b\b\b\b\b\b\b\b\b\b\b\r",
      "\u001b[1m10/10\u001b[0m \u001b[32m━━━━━━━━━━━━━━━━━━━━\u001b[0m\u001b[37m\u001b[0m \u001b[1m0s\u001b[0m 1ms/step - loss: 0.0078 - mean_absolute_percentage_error: 90013.8828\n"
     ]
    },
    {
     "name": "stdout",
     "output_type": "stream",
     "text": [
      "--- 訓練值比較 --- \n",
      "Actual shape: (301, 1), Predict shape: (301, 1)\n",
      "MAE:0.03982，MAPE:2228981009166.8174，MSE:0.00562，RMSE:0.07497，R square:0.42615\n",
      "--- 原始值比較 --- \n",
      "Actual shape: (301, 1), Predict shape: (301, 1)\n",
      "MAE:6411.96858，MAPE:0.21924，MSE:145760486.72398，RMSE:12073.13078，R square:0.42615\n",
      "\n",
      "\u001b[31m------------------------------------------------------------------------\u001b[0m\n",
      "\u001b[31mVal Evaluate\u001b[0m\n",
      "\u001b[31m------------------------------------------------------------------------\u001b[0m\n",
      "\r",
      "\u001b[1m1/1\u001b[0m \u001b[32m━━━━━━━━━━━━━━━━━━━━\u001b[0m\u001b[37m\u001b[0m \u001b[1m0s\u001b[0m 8ms/step - loss: 0.0023 - mean_absolute_percentage_error: 17.8786"
     ]
    },
    {
     "name": "stdout",
     "output_type": "stream",
     "text": [
      "\b\b\b\b\b\b\b\b\b\b\b\b\b\b\b\b\b\b\b\b\b\b\b\b\b\b\b\b\b\b\b\b\b\b\b\b\b\b\b\b\b\b\b\b\b\b\b\b\b\b\b\b\b\b\b\b\b\b\b\b\b\b\b\b\b\b\b\b\b\b\b\b\b\b\b\b\b\b\b\b\b\b\b\b\b\b\b\b\b\b\b\b\b\r",
      "\u001b[1m1/1\u001b[0m \u001b[32m━━━━━━━━━━━━━━━━━━━━\u001b[0m\u001b[37m\u001b[0m \u001b[1m0s\u001b[0m 9ms/step - loss: 0.0023 - mean_absolute_percentage_error: 17.8786\n"
     ]
    },
    {
     "name": "stdout",
     "output_type": "stream",
     "text": [
      "--- 正規化比較 --- \n",
      "Actual shape: (24, 1), Predict shape: (24, 1)\n",
      "MAE:0.03814，MAPE:0.17879，MSE:0.00226，RMSE:0.04752，R square:0.51221\n",
      "--- 原始值比較 --- \n",
      "Actual shape: (24, 1), Predict shape: (24, 1)\n",
      "MAE:6141.98201，MAPE:0.1456，MSE:58564593.91568，RMSE:7652.75074，R square:0.51221\n",
      "\n",
      "\u001b[31m------------------------------------------------------------------------\u001b[0m\n",
      "\u001b[31mTest Evaluate\u001b[0m\n",
      "\u001b[31m------------------------------------------------------------------------\u001b[0m\n",
      "\r",
      "\u001b[1m1/1\u001b[0m \u001b[32m━━━━━━━━━━━━━━━━━━━━\u001b[0m\u001b[37m\u001b[0m \u001b[1m0s\u001b[0m 8ms/step - loss: 0.0043 - mean_absolute_percentage_error: 33.5578"
     ]
    },
    {
     "name": "stdout",
     "output_type": "stream",
     "text": [
      "\b\b\b\b\b\b\b\b\b\b\b\b\b\b\b\b\b\b\b\b\b\b\b\b\b\b\b\b\b\b\b\b\b\b\b\b\b\b\b\b\b\b\b\b\b\b\b\b\b\b\b\b\b\b\b\b\b\b\b\b\b\b\b\b\b\b\b\b\b\b\b\b\b\b\b\b\b\b\b\b\b\b\b\b\b\b\b\b\b\b\b\b\b\r",
      "\u001b[1m1/1\u001b[0m \u001b[32m━━━━━━━━━━━━━━━━━━━━\u001b[0m\u001b[37m\u001b[0m \u001b[1m0s\u001b[0m 9ms/step - loss: 0.0043 - mean_absolute_percentage_error: 33.5578\n"
     ]
    },
    {
     "name": "stdout",
     "output_type": "stream",
     "text": [
      "--- 正規化比較 --- \n",
      "Actual shape: (25, 1), Predict shape: (25, 1)\n",
      "MAE:0.05669，MAPE:0.33558，MSE:0.00434，RMSE:0.06585，R square:0.4157\n",
      "--- 原始值比較 --- \n",
      "Actual shape: (25, 1), Predict shape: (25, 1)\n",
      "MAE:9128.86859，MAPE:0.24878，MSE:112441725.87932，RMSE:10603.85429，R square:0.4157\n",
      "\n"
     ]
    }
   ],
   "source": [
    "# 查看訓練 & 驗證 & 測試集評估數據\n",
    "print('\\033[93m# 查看訓練 & 驗證 & 測試集評估數據\\x1b[0m')\n",
    "\n",
    "print('\\x1b[31m------------------------------------------------------------------------\\x1b[0m')\n",
    "print('\\x1b[31mTrain Evaluate\\x1b[0m')\n",
    "print('\\x1b[31m------------------------------------------------------------------------\\x1b[0m')\n",
    "lstm.evaluation(model, x_lstm_train, y_lstm_train)\n",
    "print('--- 訓練值比較 --- ')\n",
    "lstm.score(actual_train, predict_train)\n",
    "print('--- 原始值比較 --- ')\n",
    "mae_train, mape_train = lstm.score(actual_inverse_train, predict_inverse_train)\n",
    "print('')\n",
    "\n",
    "print('\\x1b[31m------------------------------------------------------------------------\\x1b[0m')\n",
    "print('\\x1b[31mVal Evaluate\\x1b[0m')\n",
    "print('\\x1b[31m------------------------------------------------------------------------\\x1b[0m')\n",
    "lstm.evaluation(model, x_lstm_val, y_lstm_val)\n",
    "print('--- 正規化比較 --- ')\n",
    "lstm.score(actual_val, predict_val)\n",
    "print('--- 原始值比較 --- ')\n",
    "mae_val, mape_val = lstm.score(actual_inverse_val, predict_inverse_val)\n",
    "print('')\n",
    "\n",
    "print('\\x1b[31m------------------------------------------------------------------------\\x1b[0m')\n",
    "print('\\x1b[31mTest Evaluate\\x1b[0m')\n",
    "print('\\x1b[31m------------------------------------------------------------------------\\x1b[0m')\n",
    "evaluations = lstm.evaluation(model, x_lstm_test, y_lstm_test)\n",
    "print('--- 正規化比較 --- ')\n",
    "lstm.score(actual_test, predict_test)\n",
    "print('--- 原始值比較 --- ')\n",
    "mae_test, mape_test = lstm.score(actual_inverse_test, predict_inverse_test)\n",
    "print('')"
   ]
  },
  {
   "cell_type": "markdown",
   "id": "7dbe38f9",
   "metadata": {
    "id": "D9aEVglH1d_j",
    "papermill": {
     "duration": 0.003045,
     "end_time": "2024-11-05T14:09:42.308632",
     "exception": false,
     "start_time": "2024-11-05T14:09:42.305587",
     "status": "completed"
    },
    "tags": []
   },
   "source": [
    "# 顯示預測圖表"
   ]
  },
  {
   "cell_type": "code",
   "execution_count": 14,
   "id": "8fc0e9d8",
   "metadata": {
    "colab": {
     "base_uri": "https://localhost:8080/",
     "height": 291
    },
    "execution": {
     "iopub.execute_input": "2024-11-05T14:09:42.315363Z",
     "iopub.status.busy": "2024-11-05T14:09:42.315226Z",
     "iopub.status.idle": "2024-11-05T14:09:42.371161Z",
     "shell.execute_reply": "2024-11-05T14:09:42.370913Z"
    },
    "id": "a1xSXAxbkOvj",
    "outputId": "c1fae3f9-bcaf-44c2-b9c7-8dfd10792ac1",
    "papermill": {
     "duration": 0.060018,
     "end_time": "2024-11-05T14:09:42.371884",
     "exception": false,
     "start_time": "2024-11-05T14:09:42.311866",
     "status": "completed"
    },
    "tags": []
   },
   "outputs": [
    {
     "data": {
      "image/png": "[encoded data removed]",
      "text/plain": [
       "<Figure size 800x300 with 1 Axes>"
      ]
     },
     "metadata": {},
     "output_type": "display_data"
    }
   ],
   "source": [
    "plt.figure(figsize=(8, 3))\n",
    "plt.plot(y_df.values)\n",
    "plt.show()"
   ]
  },
  {
   "cell_type": "markdown",
   "id": "7b3bcc95",
   "metadata": {
    "id": "fE92ElwDChF2",
    "papermill": {
     "duration": 0.003426,
     "end_time": "2024-11-05T14:09:42.379051",
     "exception": false,
     "start_time": "2024-11-05T14:09:42.375625",
     "status": "completed"
    },
    "tags": []
   },
   "source": [
    "## 載入原始數據切割成 LSTM 格式的區段"
   ]
  },
  {
   "cell_type": "code",
   "execution_count": 15,
   "id": "d81c0dd5",
   "metadata": {
    "colab": {
     "base_uri": "https://localhost:8080/"
    },
    "execution": {
     "iopub.execute_input": "2024-11-05T14:09:42.386312Z",
     "iopub.status.busy": "2024-11-05T14:09:42.386206Z",
     "iopub.status.idle": "2024-11-05T14:09:42.388141Z",
     "shell.execute_reply": "2024-11-05T14:09:42.387914Z"
    },
    "id": "H7WUuzYABTpe",
    "outputId": "e9f42d3a-810d-44ba-9f30-ffd99a2c2985",
    "papermill": {
     "duration": 0.006316,
     "end_time": "2024-11-05T14:09:42.388774",
     "exception": false,
     "start_time": "2024-11-05T14:09:42.382458",
     "status": "completed"
    },
    "tags": []
   },
   "outputs": [
    {
     "name": "stdout",
     "output_type": "stream",
     "text": [
      "\u001b[93m# 切割訓練、驗證和測試資料集\u001b[0m\n",
      "x_train.shape: (316, 1)\n",
      "y_train.shape: (316, 1)\n",
      "x_val.shape: (39, 1)\n",
      "y_val.shape: (39, 1)\n",
      "x_test.shape: (40, 1)\n",
      "y_test.shape: (40, 1)\n"
     ]
    }
   ],
   "source": [
    "# 這邊只是為了驗證數據的正確性\n",
    "x_train_origin, y_train_origin, x_val_origin, y_val_origin, x_test_origin, y_test_origin = \\\n",
    "    lstm.train_val_test_split(\n",
    "        y_df.values,\n",
    "        train_split_rate = train_split_rate,\n",
    "        val_split_rate = val_split_rate\n",
    "    )"
   ]
  },
  {
   "cell_type": "markdown",
   "id": "7be9844d",
   "metadata": {
    "id": "94Q14TQA69Ef",
    "papermill": {
     "duration": 0.003441,
     "end_time": "2024-11-05T14:09:42.395827",
     "exception": false,
     "start_time": "2024-11-05T14:09:42.392386",
     "status": "completed"
    },
    "tags": []
   },
   "source": [
    "## 訓練集"
   ]
  },
  {
   "cell_type": "code",
   "execution_count": 16,
   "id": "ed210e71",
   "metadata": {
    "colab": {
     "base_uri": "https://localhost:8080/",
     "height": 555
    },
    "execution": {
     "iopub.execute_input": "2024-11-05T14:09:42.403159Z",
     "iopub.status.busy": "2024-11-05T14:09:42.403062Z",
     "iopub.status.idle": "2024-11-05T14:09:42.489484Z",
     "shell.execute_reply": "2024-11-05T14:09:42.489244Z"
    },
    "id": "OAefcLYb6SOc",
    "outputId": "ed812b69-4c9b-4bbe-b47f-650a806dc9b5",
    "papermill": {
     "duration": 0.090881,
     "end_time": "2024-11-05T14:09:42.490214",
     "exception": false,
     "start_time": "2024-11-05T14:09:42.399333",
     "status": "completed"
    },
    "tags": []
   },
   "outputs": [
    {
     "name": "stdout",
     "output_type": "stream",
     "text": [
      "原始資料 (316, 1)\n",
      "[[6840]\n",
      " [8052]\n",
      " [7822]]\n",
      "還原原始資料 (301, 1)\n",
      "[[8052.]\n",
      " [7822.]]\n"
     ]
    },
    {
     "data": {
      "image/png": "[encoded data removed]",
      "text/plain": [
       "<Figure size 800x200 with 1 Axes>"
      ]
     },
     "metadata": {},
     "output_type": "display_data"
    },
    {
     "data": {
      "image/png": "[encoded data removed]",
      "text/plain": [
       "<Figure size 800x200 with 1 Axes>"
      ]
     },
     "metadata": {},
     "output_type": "display_data"
    }
   ],
   "source": [
    "print('原始資料' , y_train_origin.shape)\n",
    "print(y_train_origin[-3:])\n",
    "\n",
    "print('還原原始資料', actual_inverse_train.shape)\n",
    "print(actual_inverse_train[-2:])\n",
    "\n",
    "lstm.show_predict_chart(\n",
    "    actual = actual_inverse_train,\n",
    "    predict = predict_inverse_train,\n",
    "    title = f'Train {labels[0]}:{predicteds}, MAE:{round(mae_train, 5)}, MAPE:{round(mape_train, 5)}'\n",
    ")"
   ]
  },
  {
   "cell_type": "markdown",
   "id": "d298de54",
   "metadata": {
    "id": "PQHtjGd2ATaJ",
    "papermill": {
     "duration": 0.003902,
     "end_time": "2024-11-05T14:09:42.498381",
     "exception": false,
     "start_time": "2024-11-05T14:09:42.494479",
     "status": "completed"
    },
    "tags": []
   },
   "source": [
    "## 驗證集"
   ]
  },
  {
   "cell_type": "code",
   "execution_count": 17,
   "id": "9372e1c7",
   "metadata": {
    "colab": {
     "base_uri": "https://localhost:8080/",
     "height": 556
    },
    "execution": {
     "iopub.execute_input": "2024-11-05T14:09:42.506543Z",
     "iopub.status.busy": "2024-11-05T14:09:42.506389Z",
     "iopub.status.idle": "2024-11-05T14:09:42.587216Z",
     "shell.execute_reply": "2024-11-05T14:09:42.586985Z"
    },
    "id": "7MdNVyoEAU8t",
    "outputId": "18ba3502-24f0-4bc3-8806-40423a28cf9c",
    "papermill": {
     "duration": 0.085685,
     "end_time": "2024-11-05T14:09:42.587905",
     "exception": false,
     "start_time": "2024-11-05T14:09:42.502220",
     "status": "completed"
    },
    "tags": []
   },
   "outputs": [
    {
     "name": "stdout",
     "output_type": "stream",
     "text": [
      "原始資料 (39, 1)\n",
      "[[52838]\n",
      " [48851]\n",
      " [47947]]\n",
      "還原原始資料 (24, 1)\n",
      "[[48851.]\n",
      " [47947.]]\n"
     ]
    },
    {
     "data": {
      "image/png": "[encoded data removed]",
      "text/plain": [
       "<Figure size 800x200 with 1 Axes>"
      ]
     },
     "metadata": {},
     "output_type": "display_data"
    },
    {
     "data": {
      "image/png": "[encoded data removed]",
      "text/plain": [
       "<Figure size 800x200 with 1 Axes>"
      ]
     },
     "metadata": {},
     "output_type": "display_data"
    }
   ],
   "source": [
    "print('原始資料' , y_val_origin.shape)\n",
    "print(y_val_origin[-3:])\n",
    "\n",
    "print('還原原始資料', actual_inverse_val.shape)\n",
    "print(actual_inverse_val[-2:])\n",
    "\n",
    "lstm.show_predict_chart(\n",
    "    actual = actual_inverse_val,\n",
    "    predict = predict_inverse_val,\n",
    "    title = f'Val {labels[0]}:{predicteds}, MAE:{round(mae_val, 5)}, MAPE:{round(mape_val, 5)}'\n",
    ")"
   ]
  },
  {
   "cell_type": "markdown",
   "id": "2e319e70",
   "metadata": {
    "id": "sb12RcTA7CyN",
    "papermill": {
     "duration": 0.004218,
     "end_time": "2024-11-05T14:09:42.597005",
     "exception": false,
     "start_time": "2024-11-05T14:09:42.592787",
     "status": "completed"
    },
    "tags": []
   },
   "source": [
    "## 測試集"
   ]
  },
  {
   "cell_type": "code",
   "execution_count": 18,
   "id": "aaf26f8f",
   "metadata": {
    "colab": {
     "base_uri": "https://localhost:8080/",
     "height": 573
    },
    "execution": {
     "iopub.execute_input": "2024-11-05T14:09:42.605826Z",
     "iopub.status.busy": "2024-11-05T14:09:42.605717Z",
     "iopub.status.idle": "2024-11-05T14:09:42.683626Z",
     "shell.execute_reply": "2024-11-05T14:09:42.683382Z"
    },
    "id": "cBXpSzdw5vJL",
    "outputId": "e4baa2fe-0761-4553-ccdd-acbe6bb539f3",
    "papermill": {
     "duration": 0.083089,
     "end_time": "2024-11-05T14:09:42.684292",
     "exception": false,
     "start_time": "2024-11-05T14:09:42.601203",
     "status": "completed"
    },
    "tags": []
   },
   "outputs": [
    {
     "name": "stdout",
     "output_type": "stream",
     "text": [
      "原始資料 (40, 1)\n",
      "[[19550]\n",
      " [34535]\n",
      " [33590]]\n",
      "還原原始資料 (25, 1)\n",
      "[[34535.]\n",
      " [33590.]]\n",
      "Test GroupCount:[3], BatchSize:14, MAE:9128.86859, MAPE:0.24878\n"
     ]
    },
    {
     "data": {
      "image/png": "[encoded data removed]",
      "text/plain": [
       "<Figure size 800x200 with 1 Axes>"
      ]
     },
     "metadata": {},
     "output_type": "display_data"
    },
    {
     "data": {
      "image/png": "[encoded data removed]",
      "text/plain": [
       "<Figure size 800x200 with 1 Axes>"
      ]
     },
     "metadata": {},
     "output_type": "display_data"
    }
   ],
   "source": [
    "print('原始資料' , y_test_origin.shape)\n",
    "print(y_test_origin[-3:])\n",
    "\n",
    "print('還原原始資料', actual_inverse_test.shape)\n",
    "print(actual_inverse_test[-2:])\n",
    "\n",
    "title = f'Test {labels[0]}:{predicteds}, BatchSize:{batch_size}, MAE:{round(mae_test, 5)}, MAPE:{round(mape_test, 5)}'\n",
    "\n",
    "print(title)\n",
    "lstm.show_predict_chart(\n",
    "    actual = actual_inverse_test,\n",
    "    predict = predict_inverse_test,\n",
    "    title = title\n",
    ")"
   ]
  },
  {
   "cell_type": "markdown",
   "id": "ce1fbb2d",
   "metadata": {
    "papermill": {
     "duration": 0.004523,
     "end_time": "2024-11-05T14:09:42.693643",
     "exception": false,
     "start_time": "2024-11-05T14:09:42.689120",
     "status": "completed"
    },
    "tags": []
   },
   "source": [
    "# 儲存結果"
   ]
  },
  {
   "cell_type": "code",
   "execution_count": 19,
   "id": "05a4940e",
   "metadata": {
    "execution": {
     "iopub.execute_input": "2024-11-05T14:09:42.703381Z",
     "iopub.status.busy": "2024-11-05T14:09:42.703269Z",
     "iopub.status.idle": "2024-11-05T14:09:42.705544Z",
     "shell.execute_reply": "2024-11-05T14:09:42.705323Z"
    },
    "papermill": {
     "duration": 0.008071,
     "end_time": "2024-11-05T14:09:42.706174",
     "exception": false,
     "start_time": "2024-11-05T14:09:42.698103",
     "status": "completed"
    },
    "tags": []
   },
   "outputs": [
    {
     "name": "stdout",
     "output_type": "stream",
     "text": [
      "{'type': 'NoDecomp', 'labels': ['GroupCount'], 'model_type': 4, 'predicteds': [3], 'batch_size': 14, 'train_mae': 6411.96858, 'train_mape': 0.21924, 'test_mae': 9128.86859, 'test_mape': 0.24878, 'kfold': None, 'imfs': None}\n",
      "儲存評估結果到 NoDecomp/_Model/GroupCount_mt4_data3_batch14.result.json\n"
     ]
    }
   ],
   "source": [
    "lstm.save_json_file(\n",
    "    result_file_name, model_dir, labels, model_type, predicteds, \n",
    "    batch_size, mae_train, mape_train, mae_test, mape_test,\n",
    "    kfold = None\n",
    ")"
   ]
  }
 ],
 "metadata": {
  "colab": {
   "provenance": [],
   "toc_visible": true
  },
  "kernelspec": {
   "display_name": "nckuenv",
   "language": "python",
   "name": "python3"
  },
  "language_info": {
   "codemirror_mode": {
    "name": "ipython",
    "version": 3
   },
   "file_extension": ".py",
   "mimetype": "text/x-python",
   "name": "python",
   "nbconvert_exporter": "python",
   "pygments_lexer": "ipython3",
   "version": "3.12.4"
  },
  "papermill": {
   "default_parameters": {},
   "duration": 13.690496,
   "end_time": "2024-11-05T14:09:43.236423",
   "environment_variables": {},
   "exception": null,
   "input_path": "Temp_runtime.ipynb",
   "output_path": "NoDecomp/GroupCount/NoDecomp_mt4_data3_batch14.ipynb",
   "parameters": {},
   "start_time": "2024-11-05T14:09:29.545927",
   "version": "2.6.0"
  }
 },
 "nbformat": 4,
 "nbformat_minor": 5
}