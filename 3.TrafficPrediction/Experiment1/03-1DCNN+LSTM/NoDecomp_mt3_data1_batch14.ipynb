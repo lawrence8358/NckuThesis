{
 "cells": [
  {
   "cell_type": "markdown",
   "id": "dd2794b9",
   "metadata": {
    "id": "kk4Hl1aJGMqf",
    "papermill": {
     "duration": 0.015904,
     "end_time": "2024-11-05T13:45:09.548090",
     "exception": false,
     "start_time": "2024-11-05T13:45:09.532186",
     "status": "completed"
    },
    "tags": []
   },
   "source": [
    "# 參數設定(未使用訊號分解)"
   ]
  },
  {
   "cell_type": "code",
   "execution_count": 1,
   "id": "caec754c",
   "metadata": {
    "colab": {
     "base_uri": "https://localhost:8080/"
    },
    "execution": {
     "iopub.execute_input": "2024-11-05T13:45:09.565684Z",
     "iopub.status.busy": "2024-11-05T13:45:09.565350Z",
     "iopub.status.idle": "2024-11-05T13:45:09.571028Z",
     "shell.execute_reply": "2024-11-05T13:45:09.570548Z"
    },
    "id": "pVQVdyLWgoQG",
    "outputId": "3d2bcb27-027f-4166-ea2d-241cca3fa08a",
    "papermill": {
     "duration": 0.01542,
     "end_time": "2024-11-05T13:45:09.572279",
     "exception": false,
     "start_time": "2024-11-05T13:45:09.556859",
     "status": "completed"
    },
    "tags": []
   },
   "outputs": [],
   "source": [
    "import os\n",
    "\n",
    "labels = ['GroupCount']\n",
    "model_type = 3 # 使用模型\n",
    "predicteds = [1] # 預測類別 \n",
    "batch_size = 14  # 批次大小\n",
    "\n",
    "# labels = ['GroupCount']\n",
    "# model_type = 1 # 使用模型\n",
    "# predicteds = [1] # 預測類別 \n",
    "# batch_size = 14  # 批次大小\n",
    "\n",
    "\n",
    "# ==== 底下的參數基本上都不要亂動 ====\n",
    "past_day = 14  # 過去天數，用於訓練資料中的歷史資料長度\n",
    "future_day = 1\n",
    "\n",
    "train_split_rate = 0.8  # 訓練集佔整體資料集的比例\n",
    "val_split_rate = 0.1 # 驗證集占整體資料集的比例\n",
    "  \n",
    "model_dir = 'NoDecomp/_Model'"
   ]
  },
  {
   "cell_type": "markdown",
   "id": "c14712aa",
   "metadata": {
    "id": "Mvow40rcSzyH",
    "papermill": {
     "duration": 0.005034,
     "end_time": "2024-11-05T13:45:09.582567",
     "exception": false,
     "start_time": "2024-11-05T13:45:09.577533",
     "status": "completed"
    },
    "tags": []
   },
   "source": [
    "# 定義類別"
   ]
  },
  {
   "cell_type": "code",
   "execution_count": 2,
   "id": "8b0a5e3e",
   "metadata": {
    "execution": {
     "iopub.execute_input": "2024-11-05T13:45:09.591654Z",
     "iopub.status.busy": "2024-11-05T13:45:09.591476Z",
     "iopub.status.idle": "2024-11-05T13:45:11.854422Z",
     "shell.execute_reply": "2024-11-05T13:45:11.854126Z"
    },
    "id": "yRw6GSTVSzyJ",
    "papermill": {
     "duration": 2.268157,
     "end_time": "2024-11-05T13:45:11.855213",
     "exception": false,
     "start_time": "2024-11-05T13:45:09.587056",
     "status": "completed"
    },
    "tags": []
   },
   "outputs": [
    {
     "name": "stdout",
     "output_type": "stream",
     "text": [
      "/Users/elliesu/Developer/nckuenv\n"
     ]
    }
   ],
   "source": [
    "import joblib\n",
    "\n",
    "# 重新載入 Lib，讓檔案可以直接修改使用 \n",
    "import importlib\n",
    "import LstmLib \n",
    "importlib.reload(LstmLib)   \n",
    "\n",
    "from LstmLib import * \n",
    "lstm = LstmLib()\n",
    "\n",
    "import sys\n",
    "print(sys.prefix)"
   ]
  },
  {
   "cell_type": "markdown",
   "id": "7875baf3",
   "metadata": {
    "papermill": {
     "duration": 0.002582,
     "end_time": "2024-11-05T13:45:11.860190",
     "exception": false,
     "start_time": "2024-11-05T13:45:11.857608",
     "status": "completed"
    },
    "tags": []
   },
   "source": [
    "# 清除舊的訓練資料"
   ]
  },
  {
   "cell_type": "code",
   "execution_count": 3,
   "id": "8cb61468",
   "metadata": {
    "execution": {
     "iopub.execute_input": "2024-11-05T13:45:11.864968Z",
     "iopub.status.busy": "2024-11-05T13:45:11.864779Z",
     "iopub.status.idle": "2024-11-05T13:45:11.867312Z",
     "shell.execute_reply": "2024-11-05T13:45:11.867087Z"
    },
    "papermill": {
     "duration": 0.005648,
     "end_time": "2024-11-05T13:45:11.867948",
     "exception": false,
     "start_time": "2024-11-05T13:45:11.862300",
     "status": "completed"
    },
    "tags": []
   },
   "outputs": [
    {
     "name": "stdout",
     "output_type": "stream",
     "text": [
      "x_scaler_file_name: NoDecomp/_Model/GroupCount_mt3_data1_batch14.x_scaler.pkl\n",
      "y_scaler_file_name: NoDecomp/_Model/GroupCount_mt3_data1_batch14.y_scaler.pkl\n",
      "model_file_name: NoDecomp/_Model/GroupCount_mt3_data1_batch14.model.keras\n",
      "result_file_name: NoDecomp/_Model/GroupCount_mt3_data1_batch14.result.json\n",
      "檔案 NoDecomp/_Model/GroupCount_mt3_data1_batch14.x_scaler.pkl 存在，已刪除\n",
      "檔案 NoDecomp/_Model/GroupCount_mt3_data1_batch14.y_scaler.pkl 存在，已刪除\n",
      "檔案 NoDecomp/_Model/GroupCount_mt3_data1_batch14.model.keras 存在，已刪除\n",
      "檔案 NoDecomp/_Model/GroupCount_mt3_data1_batch14.result.json 存在，已刪除\n"
     ]
    }
   ],
   "source": [
    "x_scaler_file_name, y_scaler_file_name, model_file_name, result_file_name = \\\n",
    "    lstm.reset_data(model_dir, labels, model_type, predicteds, batch_size)"
   ]
  },
  {
   "cell_type": "markdown",
   "id": "2d1a4528",
   "metadata": {
    "id": "NipcqBZf-Smu",
    "papermill": {
     "duration": 0.002119,
     "end_time": "2024-11-05T13:45:11.872323",
     "exception": false,
     "start_time": "2024-11-05T13:45:11.870204",
     "status": "completed"
    },
    "tags": []
   },
   "source": [
    "# 載入數據"
   ]
  },
  {
   "cell_type": "code",
   "execution_count": 4,
   "id": "6da52dd2",
   "metadata": {
    "colab": {
     "base_uri": "https://localhost:8080/",
     "height": 261
    },
    "execution": {
     "iopub.execute_input": "2024-11-05T13:45:11.876857Z",
     "iopub.status.busy": "2024-11-05T13:45:11.876757Z",
     "iopub.status.idle": "2024-11-05T13:45:11.885625Z",
     "shell.execute_reply": "2024-11-05T13:45:11.885423Z"
    },
    "id": "7PH7QM4NwPtK",
    "outputId": "8b83d42f-c0f7-4b8d-a1b4-464faa7a07e0",
    "papermill": {
     "duration": 0.011866,
     "end_time": "2024-11-05T13:45:11.886246",
     "exception": false,
     "start_time": "2024-11-05T13:45:11.874380",
     "status": "completed"
    },
    "tags": []
   },
   "outputs": [
    {
     "name": "stdout",
     "output_type": "stream",
     "text": [
      "\u001b[93m# 載入數據\u001b[0m\n",
      "395\n"
     ]
    },
    {
     "data": {
      "text/html": [
       "<div>\n",
       "<style scoped>\n",
       "    .dataframe tbody tr th:only-of-type {\n",
       "        vertical-align: middle;\n",
       "    }\n",
       "\n",
       "    .dataframe tbody tr th {\n",
       "        vertical-align: top;\n",
       "    }\n",
       "\n",
       "    .dataframe thead th {\n",
       "        text-align: right;\n",
       "    }\n",
       "</style>\n",
       "<table border=\"1\" class=\"dataframe\">\n",
       "  <thead>\n",
       "    <tr style=\"text-align: right;\">\n",
       "      <th></th>\n",
       "      <th>RequestTime</th>\n",
       "      <th>Predicted</th>\n",
       "      <th>SendBytes</th>\n",
       "      <th>ReceiveBytes</th>\n",
       "      <th>TimeTaken</th>\n",
       "      <th>UrlType1</th>\n",
       "      <th>UrlType2</th>\n",
       "      <th>UrlType3</th>\n",
       "      <th>Method_GET</th>\n",
       "      <th>Method_POST</th>\n",
       "      <th>Method_PUT</th>\n",
       "      <th>Method_DELETE</th>\n",
       "      <th>Method_HEAD</th>\n",
       "      <th>Method_OPTIONS</th>\n",
       "      <th>Method_PATCH</th>\n",
       "      <th>GroupCount</th>\n",
       "    </tr>\n",
       "  </thead>\n",
       "  <tbody>\n",
       "    <tr>\n",
       "      <th>0</th>\n",
       "      <td>2023-04-02</td>\n",
       "      <td>[1]</td>\n",
       "      <td>133985276</td>\n",
       "      <td>9489146</td>\n",
       "      <td>1284508</td>\n",
       "      <td>9923</td>\n",
       "      <td>0</td>\n",
       "      <td>0</td>\n",
       "      <td>8410</td>\n",
       "      <td>1513</td>\n",
       "      <td>0</td>\n",
       "      <td>0</td>\n",
       "      <td>0</td>\n",
       "      <td>0</td>\n",
       "      <td>0</td>\n",
       "      <td>9923</td>\n",
       "    </tr>\n",
       "    <tr>\n",
       "      <th>1</th>\n",
       "      <td>2023-04-03</td>\n",
       "      <td>[1]</td>\n",
       "      <td>173845707</td>\n",
       "      <td>12345851</td>\n",
       "      <td>1795732</td>\n",
       "      <td>13065</td>\n",
       "      <td>0</td>\n",
       "      <td>0</td>\n",
       "      <td>11090</td>\n",
       "      <td>1975</td>\n",
       "      <td>0</td>\n",
       "      <td>0</td>\n",
       "      <td>0</td>\n",
       "      <td>0</td>\n",
       "      <td>0</td>\n",
       "      <td>13065</td>\n",
       "    </tr>\n",
       "    <tr>\n",
       "      <th>2</th>\n",
       "      <td>2023-04-04</td>\n",
       "      <td>[1]</td>\n",
       "      <td>179977352</td>\n",
       "      <td>13984392</td>\n",
       "      <td>1640886</td>\n",
       "      <td>14207</td>\n",
       "      <td>0</td>\n",
       "      <td>0</td>\n",
       "      <td>11796</td>\n",
       "      <td>2411</td>\n",
       "      <td>0</td>\n",
       "      <td>0</td>\n",
       "      <td>0</td>\n",
       "      <td>0</td>\n",
       "      <td>0</td>\n",
       "      <td>14207</td>\n",
       "    </tr>\n",
       "    <tr>\n",
       "      <th>3</th>\n",
       "      <td>2023-04-05</td>\n",
       "      <td>[1]</td>\n",
       "      <td>163981342</td>\n",
       "      <td>15044918</td>\n",
       "      <td>1672361</td>\n",
       "      <td>15636</td>\n",
       "      <td>0</td>\n",
       "      <td>0</td>\n",
       "      <td>13201</td>\n",
       "      <td>2435</td>\n",
       "      <td>0</td>\n",
       "      <td>0</td>\n",
       "      <td>0</td>\n",
       "      <td>0</td>\n",
       "      <td>0</td>\n",
       "      <td>15636</td>\n",
       "    </tr>\n",
       "    <tr>\n",
       "      <th>4</th>\n",
       "      <td>2023-04-06</td>\n",
       "      <td>[1]</td>\n",
       "      <td>386294578</td>\n",
       "      <td>38072811</td>\n",
       "      <td>4094537</td>\n",
       "      <td>38862</td>\n",
       "      <td>0</td>\n",
       "      <td>0</td>\n",
       "      <td>32274</td>\n",
       "      <td>6587</td>\n",
       "      <td>0</td>\n",
       "      <td>1</td>\n",
       "      <td>0</td>\n",
       "      <td>0</td>\n",
       "      <td>0</td>\n",
       "      <td>38862</td>\n",
       "    </tr>\n",
       "  </tbody>\n",
       "</table>\n",
       "</div>"
      ],
      "text/plain": [
       "  RequestTime Predicted  SendBytes  ReceiveBytes  TimeTaken  UrlType1  \\\n",
       "0  2023-04-02       [1]  133985276       9489146    1284508      9923   \n",
       "1  2023-04-03       [1]  173845707      12345851    1795732     13065   \n",
       "2  2023-04-04       [1]  179977352      13984392    1640886     14207   \n",
       "3  2023-04-05       [1]  163981342      15044918    1672361     15636   \n",
       "4  2023-04-06       [1]  386294578      38072811    4094537     38862   \n",
       "\n",
       "   UrlType2  UrlType3  Method_GET  Method_POST  Method_PUT  Method_DELETE  \\\n",
       "0         0         0        8410         1513           0              0   \n",
       "1         0         0       11090         1975           0              0   \n",
       "2         0         0       11796         2411           0              0   \n",
       "3         0         0       13201         2435           0              0   \n",
       "4         0         0       32274         6587           0              1   \n",
       "\n",
       "   Method_HEAD  Method_OPTIONS  Method_PATCH  GroupCount  \n",
       "0            0               0             0        9923  \n",
       "1            0               0             0       13065  \n",
       "2            0               0             0       14207  \n",
       "3            0               0             0       15636  \n",
       "4            0               0             0       38862  "
      ]
     },
     "execution_count": 4,
     "metadata": {},
     "output_type": "execute_result"
    }
   ],
   "source": [
    "df_source = lstm.load_data(predicteds)\n",
    "\n",
    "print(len(df_source))\n",
    "df_source.head()"
   ]
  },
  {
   "cell_type": "markdown",
   "id": "73b862bd",
   "metadata": {
    "id": "M4RY1aaz-XJa",
    "papermill": {
     "duration": 0.002227,
     "end_time": "2024-11-05T13:45:11.890899",
     "exception": false,
     "start_time": "2024-11-05T13:45:11.888672",
     "status": "completed"
    },
    "tags": []
   },
   "source": [
    "# 最小最大正規化"
   ]
  },
  {
   "cell_type": "code",
   "execution_count": 5,
   "id": "ef7adf4f",
   "metadata": {
    "colab": {
     "base_uri": "https://localhost:8080/"
    },
    "execution": {
     "iopub.execute_input": "2024-11-05T13:45:11.895864Z",
     "iopub.status.busy": "2024-11-05T13:45:11.895765Z",
     "iopub.status.idle": "2024-11-05T13:45:11.899550Z",
     "shell.execute_reply": "2024-11-05T13:45:11.899313Z"
    },
    "id": "qgrzu6Sxf7WE",
    "outputId": "ccbf983d-edd3-4a11-d9a6-4c688782d363",
    "papermill": {
     "duration": 0.00702,
     "end_time": "2024-11-05T13:45:11.900226",
     "exception": false,
     "start_time": "2024-11-05T13:45:11.893206",
     "status": "completed"
    },
    "tags": []
   },
   "outputs": [
    {
     "name": "stdout",
     "output_type": "stream",
     "text": [
      "\u001b[93m# 最小最大正規化\u001b[0m\n",
      "x_norm.shape:(395, 1)\n",
      "y_norm.shape:(395, 1)\n",
      "儲存最小最大縮放參數\n"
     ]
    }
   ],
   "source": [
    "x_norm, y_norm, x_scaler, y_scaler, x_df, y_df = \\\n",
    "    lstm.normalize(df_source[labels], labels, x_scaler = None, y_scaler = None);\n",
    "\n",
    "joblib.dump(x_scaler, x_scaler_file_name)\n",
    "joblib.dump(y_scaler, y_scaler_file_name)\n",
    "print('儲存最小最大縮放參數')"
   ]
  },
  {
   "cell_type": "markdown",
   "id": "c125cc7a",
   "metadata": {
    "id": "G3k2Q3zr-c8i",
    "papermill": {
     "duration": 0.002314,
     "end_time": "2024-11-05T13:45:11.905003",
     "exception": false,
     "start_time": "2024-11-05T13:45:11.902689",
     "status": "completed"
    },
    "tags": []
   },
   "source": [
    "# 切割訓練、驗證和測試資料集"
   ]
  },
  {
   "cell_type": "code",
   "execution_count": 6,
   "id": "55665567",
   "metadata": {
    "colab": {
     "base_uri": "https://localhost:8080/"
    },
    "execution": {
     "iopub.execute_input": "2024-11-05T13:45:11.909857Z",
     "iopub.status.busy": "2024-11-05T13:45:11.909749Z",
     "iopub.status.idle": "2024-11-05T13:45:11.911603Z",
     "shell.execute_reply": "2024-11-05T13:45:11.911395Z"
    },
    "id": "xfCDR3YwiIzp",
    "outputId": "7e65a012-6799-4064-a7b4-c8e51502ffb9",
    "papermill": {
     "duration": 0.004954,
     "end_time": "2024-11-05T13:45:11.912167",
     "exception": false,
     "start_time": "2024-11-05T13:45:11.907213",
     "status": "completed"
    },
    "tags": []
   },
   "outputs": [
    {
     "name": "stdout",
     "output_type": "stream",
     "text": [
      "\u001b[93m# 切割訓練、驗證和測試資料集\u001b[0m\n",
      "x_train.shape: (316, 1)\n",
      "y_train.shape: (316, 1)\n",
      "x_val.shape: (39, 1)\n",
      "y_val.shape: (39, 1)\n",
      "x_test.shape: (40, 1)\n",
      "y_test.shape: (40, 1)\n"
     ]
    }
   ],
   "source": [
    "x_train, y_train, x_val, y_val, x_test, y_test = \\\n",
    "    lstm.train_val_test_split(\n",
    "        x_norm,\n",
    "        train_split_rate = train_split_rate,\n",
    "        val_split_rate = val_split_rate\n",
    "    )"
   ]
  },
  {
   "cell_type": "markdown",
   "id": "21408608",
   "metadata": {
    "id": "AqdSy5pL-i7X",
    "papermill": {
     "duration": 0.002329,
     "end_time": "2024-11-05T13:45:11.916911",
     "exception": false,
     "start_time": "2024-11-05T13:45:11.914582",
     "status": "completed"
    },
    "tags": []
   },
   "source": [
    "# 將資料轉成 LSTM 模型所需資料格式(三維)"
   ]
  },
  {
   "cell_type": "code",
   "execution_count": 7,
   "id": "1fa32009",
   "metadata": {
    "colab": {
     "base_uri": "https://localhost:8080/"
    },
    "execution": {
     "iopub.execute_input": "2024-11-05T13:45:11.921962Z",
     "iopub.status.busy": "2024-11-05T13:45:11.921860Z",
     "iopub.status.idle": "2024-11-05T13:45:11.925416Z",
     "shell.execute_reply": "2024-11-05T13:45:11.925214Z"
    },
    "id": "Ugd7Ujt_kmJP",
    "outputId": "fe6a4a50-d74e-43a5-b96d-884373684359",
    "papermill": {
     "duration": 0.006773,
     "end_time": "2024-11-05T13:45:11.925994",
     "exception": false,
     "start_time": "2024-11-05T13:45:11.919221",
     "status": "completed"
    },
    "tags": []
   },
   "outputs": [
    {
     "name": "stdout",
     "output_type": "stream",
     "text": [
      "\u001b[93m# 將資料轉成 LSTM 模型所需資料格式，LSTM 的輸入必須是三維\u001b[0m\n",
      "====== Train DataSet ======\n",
      "訓練集 : x_k_lstm_train (筆數, 天數, 特徵數) : (301, 14, 1)\n",
      "訓練集 : y_k_lstm_train (筆數, 天數, 標籤數) : (301, 1)\n",
      "\u001b[93m# 將資料轉成 LSTM 模型所需資料格式，LSTM 的輸入必須是三維\u001b[0m\n",
      "====== Val DataSet ======\n",
      "驗證集 : x_k_lstm_test (筆數, 天數, 特徵數) : (24, 14, 1)\n",
      "驗證集 : y_k_lstm_test (筆數, 天數, 標籤數) : (24, 1)\n",
      "\u001b[93m# 將資料轉成 LSTM 模型所需資料格式，LSTM 的輸入必須是三維\u001b[0m\n",
      "====== Test DataSet ======\n",
      "測試集 : x_lstm_test (筆數, 天數, 特徵數) : (25, 14, 1)\n",
      "測試集 : y_lstm_test (筆數, 天數, 標籤數) : (25, 1)\n"
     ]
    }
   ],
   "source": [
    "# 訓練集\n",
    "x_lstm_train, y_lstm_train, _ = \\\n",
    "    lstm.reshape_data_for_lstm(\n",
    "        x_train, y_train,\n",
    "        date_array = None,\n",
    "        past_day = past_day,\n",
    "        future_day = future_day\n",
    "    )\n",
    "print('====== Train DataSet ======')\n",
    "print('訓練集 : x_k_lstm_train (筆數, 天數, 特徵數) :', x_lstm_train.shape)\n",
    "print('訓練集 : y_k_lstm_train (筆數, 天數, 標籤數) :', y_lstm_train.shape)\n",
    "\n",
    "# 驗證集\n",
    "x_lstm_val, y_lstm_val, _ = \\\n",
    "    lstm.reshape_data_for_lstm(\n",
    "        x_val, y_val,\n",
    "        date_array = None,\n",
    "        past_day = past_day,\n",
    "        future_day = future_day\n",
    "    )\n",
    "print('====== Val DataSet ======')\n",
    "print('驗證集 : x_k_lstm_test (筆數, 天數, 特徵數) :', x_lstm_val.shape)\n",
    "print('驗證集 : y_k_lstm_test (筆數, 天數, 標籤數) :', y_lstm_val.shape)\n",
    "\n",
    "# 測試集\n",
    "x_lstm_test, y_lstm_test, _ = \\\n",
    "    lstm.reshape_data_for_lstm(\n",
    "        x_test, y_test,\n",
    "        date_array = None,\n",
    "        past_day = past_day,\n",
    "        future_day = future_day\n",
    "    )\n",
    "print('====== Test DataSet ======')\n",
    "print('測試集 : x_lstm_test (筆數, 天數, 特徵數) :', x_lstm_test.shape)\n",
    "print('測試集 : y_lstm_test (筆數, 天數, 標籤數) :', y_lstm_test.shape)"
   ]
  },
  {
   "cell_type": "markdown",
   "id": "c9fc72a7",
   "metadata": {
    "id": "hptadCRG-mnK",
    "papermill": {
     "duration": 0.002352,
     "end_time": "2024-11-05T13:45:11.930737",
     "exception": false,
     "start_time": "2024-11-05T13:45:11.928385",
     "status": "completed"
    },
    "tags": []
   },
   "source": [
    "# 定義 Model"
   ]
  },
  {
   "cell_type": "code",
   "execution_count": 8,
   "id": "9d5478d1",
   "metadata": {
    "colab": {
     "base_uri": "https://localhost:8080/",
     "height": 338
    },
    "execution": {
     "iopub.execute_input": "2024-11-05T13:45:11.935696Z",
     "iopub.status.busy": "2024-11-05T13:45:11.935605Z",
     "iopub.status.idle": "2024-11-05T13:45:11.973790Z",
     "shell.execute_reply": "2024-11-05T13:45:11.973568Z"
    },
    "id": "5xqMw5ZhrrxC",
    "outputId": "ca3118aa-96c7-4e80-9b3d-5451af076422",
    "papermill": {
     "duration": 0.04139,
     "end_time": "2024-11-05T13:45:11.974449",
     "exception": false,
     "start_time": "2024-11-05T13:45:11.933059",
     "status": "completed"
    },
    "tags": []
   },
   "outputs": [
    {
     "name": "stdout",
     "output_type": "stream",
     "text": [
      "\u001b[93m# 定義 Model：3\u001b[0m\n",
      "CNN-LSTM\n"
     ]
    },
    {
     "data": {
      "text/html": [
       "<pre style=\"white-space:pre;overflow-x:auto;line-height:normal;font-family:Menlo,'DejaVu Sans Mono',consolas,'Courier New',monospace\"><span style=\"font-weight: bold\">Model: \"sequential\"</span>\n",
       "</pre>\n"
      ],
      "text/plain": [
       "\u001b[1mModel: \"sequential\"\u001b[0m\n"
      ]
     },
     "metadata": {},
     "output_type": "display_data"
    },
    {
     "data": {
      "text/html": [
       "<pre style=\"white-space:pre;overflow-x:auto;line-height:normal;font-family:Menlo,'DejaVu Sans Mono',consolas,'Courier New',monospace\">┏━━━━━━━━━━━━━━━━━━━━━━━━━━━━━━━━━┳━━━━━━━━━━━━━━━━━━━━━━━━┳━━━━━━━━━━━━━━━┓\n",
       "┃<span style=\"font-weight: bold\"> Layer (type)                    </span>┃<span style=\"font-weight: bold\"> Output Shape           </span>┃<span style=\"font-weight: bold\">       Param # </span>┃\n",
       "┡━━━━━━━━━━━━━━━━━━━━━━━━━━━━━━━━━╇━━━━━━━━━━━━━━━━━━━━━━━━╇━━━━━━━━━━━━━━━┩\n",
       "│ conv1d (<span style=\"color: #0087ff; text-decoration-color: #0087ff\">Conv1D</span>)                 │ (<span style=\"color: #00d7ff; text-decoration-color: #00d7ff\">None</span>, <span style=\"color: #00af00; text-decoration-color: #00af00\">13</span>, <span style=\"color: #00af00; text-decoration-color: #00af00\">7</span>)          │            <span style=\"color: #00af00; text-decoration-color: #00af00\">21</span> │\n",
       "├─────────────────────────────────┼────────────────────────┼───────────────┤\n",
       "│ max_pooling1d (<span style=\"color: #0087ff; text-decoration-color: #0087ff\">MaxPooling1D</span>)    │ (<span style=\"color: #00d7ff; text-decoration-color: #00d7ff\">None</span>, <span style=\"color: #00af00; text-decoration-color: #00af00\">6</span>, <span style=\"color: #00af00; text-decoration-color: #00af00\">7</span>)           │             <span style=\"color: #00af00; text-decoration-color: #00af00\">0</span> │\n",
       "├─────────────────────────────────┼────────────────────────┼───────────────┤\n",
       "│ lstm (<span style=\"color: #0087ff; text-decoration-color: #0087ff\">LSTM</span>)                     │ (<span style=\"color: #00d7ff; text-decoration-color: #00d7ff\">None</span>, <span style=\"color: #00af00; text-decoration-color: #00af00\">100</span>)            │        <span style=\"color: #00af00; text-decoration-color: #00af00\">43,200</span> │\n",
       "├─────────────────────────────────┼────────────────────────┼───────────────┤\n",
       "│ dense (<span style=\"color: #0087ff; text-decoration-color: #0087ff\">Dense</span>)                   │ (<span style=\"color: #00d7ff; text-decoration-color: #00d7ff\">None</span>, <span style=\"color: #00af00; text-decoration-color: #00af00\">150</span>)            │        <span style=\"color: #00af00; text-decoration-color: #00af00\">15,150</span> │\n",
       "├─────────────────────────────────┼────────────────────────┼───────────────┤\n",
       "│ dense_1 (<span style=\"color: #0087ff; text-decoration-color: #0087ff\">Dense</span>)                 │ (<span style=\"color: #00d7ff; text-decoration-color: #00d7ff\">None</span>, <span style=\"color: #00af00; text-decoration-color: #00af00\">150</span>)            │        <span style=\"color: #00af00; text-decoration-color: #00af00\">22,650</span> │\n",
       "├─────────────────────────────────┼────────────────────────┼───────────────┤\n",
       "│ dense_2 (<span style=\"color: #0087ff; text-decoration-color: #0087ff\">Dense</span>)                 │ (<span style=\"color: #00d7ff; text-decoration-color: #00d7ff\">None</span>, <span style=\"color: #00af00; text-decoration-color: #00af00\">1</span>)              │           <span style=\"color: #00af00; text-decoration-color: #00af00\">151</span> │\n",
       "└─────────────────────────────────┴────────────────────────┴───────────────┘\n",
       "</pre>\n"
      ],
      "text/plain": [
       "┏━━━━━━━━━━━━━━━━━━━━━━━━━━━━━━━━━┳━━━━━━━━━━━━━━━━━━━━━━━━┳━━━━━━━━━━━━━━━┓\n",
       "┃\u001b[1m \u001b[0m\u001b[1mLayer (type)                   \u001b[0m\u001b[1m \u001b[0m┃\u001b[1m \u001b[0m\u001b[1mOutput Shape          \u001b[0m\u001b[1m \u001b[0m┃\u001b[1m \u001b[0m\u001b[1m      Param #\u001b[0m\u001b[1m \u001b[0m┃\n",
       "┡━━━━━━━━━━━━━━━━━━━━━━━━━━━━━━━━━╇━━━━━━━━━━━━━━━━━━━━━━━━╇━━━━━━━━━━━━━━━┩\n",
       "│ conv1d (\u001b[38;5;33mConv1D\u001b[0m)                 │ (\u001b[38;5;45mNone\u001b[0m, \u001b[38;5;34m13\u001b[0m, \u001b[38;5;34m7\u001b[0m)          │            \u001b[38;5;34m21\u001b[0m │\n",
       "├─────────────────────────────────┼────────────────────────┼───────────────┤\n",
       "│ max_pooling1d (\u001b[38;5;33mMaxPooling1D\u001b[0m)    │ (\u001b[38;5;45mNone\u001b[0m, \u001b[38;5;34m6\u001b[0m, \u001b[38;5;34m7\u001b[0m)           │             \u001b[38;5;34m0\u001b[0m │\n",
       "├─────────────────────────────────┼────────────────────────┼───────────────┤\n",
       "│ lstm (\u001b[38;5;33mLSTM\u001b[0m)                     │ (\u001b[38;5;45mNone\u001b[0m, \u001b[38;5;34m100\u001b[0m)            │        \u001b[38;5;34m43,200\u001b[0m │\n",
       "├─────────────────────────────────┼────────────────────────┼───────────────┤\n",
       "│ dense (\u001b[38;5;33mDense\u001b[0m)                   │ (\u001b[38;5;45mNone\u001b[0m, \u001b[38;5;34m150\u001b[0m)            │        \u001b[38;5;34m15,150\u001b[0m │\n",
       "├─────────────────────────────────┼────────────────────────┼───────────────┤\n",
       "│ dense_1 (\u001b[38;5;33mDense\u001b[0m)                 │ (\u001b[38;5;45mNone\u001b[0m, \u001b[38;5;34m150\u001b[0m)            │        \u001b[38;5;34m22,650\u001b[0m │\n",
       "├─────────────────────────────────┼────────────────────────┼───────────────┤\n",
       "│ dense_2 (\u001b[38;5;33mDense\u001b[0m)                 │ (\u001b[38;5;45mNone\u001b[0m, \u001b[38;5;34m1\u001b[0m)              │           \u001b[38;5;34m151\u001b[0m │\n",
       "└─────────────────────────────────┴────────────────────────┴───────────────┘\n"
      ]
     },
     "metadata": {},
     "output_type": "display_data"
    },
    {
     "data": {
      "text/html": [
       "<pre style=\"white-space:pre;overflow-x:auto;line-height:normal;font-family:Menlo,'DejaVu Sans Mono',consolas,'Courier New',monospace\"><span style=\"font-weight: bold\"> Total params: </span><span style=\"color: #00af00; text-decoration-color: #00af00\">81,172</span> (317.08 KB)\n",
       "</pre>\n"
      ],
      "text/plain": [
       "\u001b[1m Total params: \u001b[0m\u001b[38;5;34m81,172\u001b[0m (317.08 KB)\n"
      ]
     },
     "metadata": {},
     "output_type": "display_data"
    },
    {
     "data": {
      "text/html": [
       "<pre style=\"white-space:pre;overflow-x:auto;line-height:normal;font-family:Menlo,'DejaVu Sans Mono',consolas,'Courier New',monospace\"><span style=\"font-weight: bold\"> Trainable params: </span><span style=\"color: #00af00; text-decoration-color: #00af00\">81,172</span> (317.08 KB)\n",
       "</pre>\n"
      ],
      "text/plain": [
       "\u001b[1m Trainable params: \u001b[0m\u001b[38;5;34m81,172\u001b[0m (317.08 KB)\n"
      ]
     },
     "metadata": {},
     "output_type": "display_data"
    },
    {
     "data": {
      "text/html": [
       "<pre style=\"white-space:pre;overflow-x:auto;line-height:normal;font-family:Menlo,'DejaVu Sans Mono',consolas,'Courier New',monospace\"><span style=\"font-weight: bold\"> Non-trainable params: </span><span style=\"color: #00af00; text-decoration-color: #00af00\">0</span> (0.00 B)\n",
       "</pre>\n"
      ],
      "text/plain": [
       "\u001b[1m Non-trainable params: \u001b[0m\u001b[38;5;34m0\u001b[0m (0.00 B)\n"
      ]
     },
     "metadata": {},
     "output_type": "display_data"
    }
   ],
   "source": [
    "# 定義 Model\n",
    "model = lstm.build_model(\n",
    "    model_type = model_type,\n",
    "    time_step = past_day,\n",
    "    n_predictions = future_day\n",
    ")"
   ]
  },
  {
   "cell_type": "markdown",
   "id": "66906673",
   "metadata": {
    "id": "8aZNVtRBbDOm",
    "papermill": {
     "duration": 0.002546,
     "end_time": "2024-11-05T13:45:11.979921",
     "exception": false,
     "start_time": "2024-11-05T13:45:11.977375",
     "status": "completed"
    },
    "tags": []
   },
   "source": [
    "# 訓練"
   ]
  },
  {
   "cell_type": "code",
   "execution_count": 9,
   "id": "27a11d0b",
   "metadata": {
    "colab": {
     "base_uri": "https://localhost:8080/"
    },
    "execution": {
     "iopub.execute_input": "2024-11-05T13:45:11.985399Z",
     "iopub.status.busy": "2024-11-05T13:45:11.985292Z",
     "iopub.status.idle": "2024-11-05T13:45:17.386729Z",
     "shell.execute_reply": "2024-11-05T13:45:17.386395Z"
    },
    "id": "hMXCRbjlZdei",
    "outputId": "80def6f9-aebc-4e92-b983-812004825ade",
    "papermill": {
     "duration": 5.405057,
     "end_time": "2024-11-05T13:45:17.387532",
     "exception": false,
     "start_time": "2024-11-05T13:45:11.982475",
     "status": "completed"
    },
    "tags": []
   },
   "outputs": [
    {
     "name": "stdout",
     "output_type": "stream",
     "text": [
      "\u001b[93m# 訓練 Model\u001b[0m\n",
      "EarlyStopping => mointor: val_loss，patience: 50\n"
     ]
    }
   ],
   "source": [
    "train_history = lstm.model_fit(\n",
    "    model = model,\n",
    "    batch_size = batch_size,\n",
    "    x_train = x_lstm_train,\n",
    "    y_train = y_lstm_train,\n",
    "    x_val = x_lstm_val,\n",
    "    y_val = y_lstm_val,\n",
    ")"
   ]
  },
  {
   "cell_type": "markdown",
   "id": "df9d1b98",
   "metadata": {
    "id": "nQBChPvvFP5d",
    "papermill": {
     "duration": 0.002592,
     "end_time": "2024-11-05T13:45:17.393075",
     "exception": false,
     "start_time": "2024-11-05T13:45:17.390483",
     "status": "completed"
    },
    "tags": []
   },
   "source": [
    "# 儲存模型"
   ]
  },
  {
   "cell_type": "code",
   "execution_count": 10,
   "id": "baf5ebac",
   "metadata": {
    "colab": {
     "base_uri": "https://localhost:8080/"
    },
    "execution": {
     "iopub.execute_input": "2024-11-05T13:45:17.398878Z",
     "iopub.status.busy": "2024-11-05T13:45:17.398766Z",
     "iopub.status.idle": "2024-11-05T13:45:17.415593Z",
     "shell.execute_reply": "2024-11-05T13:45:17.415284Z"
    },
    "id": "QpQTO-ziFTSo",
    "outputId": "b140abd3-0a2e-45ea-a319-dff8a69712d3",
    "papermill": {
     "duration": 0.020496,
     "end_time": "2024-11-05T13:45:17.416325",
     "exception": false,
     "start_time": "2024-11-05T13:45:17.395829",
     "status": "completed"
    },
    "tags": []
   },
   "outputs": [
    {
     "name": "stdout",
     "output_type": "stream",
     "text": [
      "儲存模型到 NoDecomp/_Model/GroupCount_mt3_data1_batch14.model.keras\n"
     ]
    }
   ],
   "source": [
    "model.save(model_file_name)\n",
    "print(f'儲存模型到 {model_file_name}')"
   ]
  },
  {
   "cell_type": "markdown",
   "id": "2a38f196",
   "metadata": {
    "id": "StSWwUTn-s3u",
    "papermill": {
     "duration": 0.002616,
     "end_time": "2024-11-05T13:45:17.421837",
     "exception": false,
     "start_time": "2024-11-05T13:45:17.419221",
     "status": "completed"
    },
    "tags": []
   },
   "source": [
    "# 預測"
   ]
  },
  {
   "cell_type": "code",
   "execution_count": 11,
   "id": "10f5c117",
   "metadata": {
    "colab": {
     "base_uri": "https://localhost:8080/"
    },
    "execution": {
     "iopub.execute_input": "2024-11-05T13:45:17.427604Z",
     "iopub.status.busy": "2024-11-05T13:45:17.427492Z",
     "iopub.status.idle": "2024-11-05T13:45:17.601203Z",
     "shell.execute_reply": "2024-11-05T13:45:17.600934Z"
    },
    "id": "63_mpMrE2toM",
    "outputId": "f1aba8cf-37a1-4ca1-f8cd-3d9c9e7b9b59",
    "papermill": {
     "duration": 0.177331,
     "end_time": "2024-11-05T13:45:17.601879",
     "exception": false,
     "start_time": "2024-11-05T13:45:17.424548",
     "status": "completed"
    },
    "tags": []
   },
   "outputs": [
    {
     "name": "stdout",
     "output_type": "stream",
     "text": [
      "\u001b[93m# 預測\u001b[0m\n",
      "\r",
      "\u001b[1m 1/10\u001b[0m \u001b[32m━━\u001b[0m\u001b[37m━━━━━━━━━━━━━━━━━━\u001b[0m \u001b[1m0s\u001b[0m 58ms/step"
     ]
    },
    {
     "name": "stdout",
     "output_type": "stream",
     "text": [
      "\b\b\b\b\b\b\b\b\b\b\b\b\b\b\b\b\b\b\b\b\b\b\b\b\b\b\b\b\b\b\b\b\b\b\b\b\b\b\b\r",
      "\u001b[1m10/10\u001b[0m \u001b[32m━━━━━━━━━━━━━━━━━━━━\u001b[0m\u001b[37m\u001b[0m \u001b[1m0s\u001b[0m 7ms/step "
     ]
    },
    {
     "name": "stdout",
     "output_type": "stream",
     "text": [
      "\b\b\b\b\b\b\b\b\b\b\b\b\b\b\b\b\b\b\b\b\b\b\b\b\b\b\b\b\b\b\b\b\b\b\b\b\b\b\r",
      "\u001b[1m10/10\u001b[0m \u001b[32m━━━━━━━━━━━━━━━━━━━━\u001b[0m\u001b[37m\u001b[0m \u001b[1m0s\u001b[0m 7ms/step\n"
     ]
    },
    {
     "name": "stdout",
     "output_type": "stream",
     "text": [
      "預測 shape : (301, 1)\n",
      "預測 train.shape : (301, 1)\n",
      "\u001b[93m# 預測\u001b[0m\n",
      "\r",
      "\u001b[1m1/1\u001b[0m \u001b[32m━━━━━━━━━━━━━━━━━━━━\u001b[0m\u001b[37m\u001b[0m \u001b[1m0s\u001b[0m 7ms/step"
     ]
    },
    {
     "name": "stdout",
     "output_type": "stream",
     "text": [
      "\b\b\b\b\b\b\b\b\b\b\b\b\b\b\b\b\b\b\b\b\b\b\b\b\b\b\b\b\b\b\b\b\b\b\b\b\r",
      "\u001b[1m1/1\u001b[0m \u001b[32m━━━━━━━━━━━━━━━━━━━━\u001b[0m\u001b[37m\u001b[0m \u001b[1m0s\u001b[0m 7ms/step\n"
     ]
    },
    {
     "name": "stdout",
     "output_type": "stream",
     "text": [
      "預測 shape : (24, 1)\n",
      "預測 val.shape : (24, 1)\n",
      "\u001b[93m# 預測\u001b[0m\n",
      "\r",
      "\u001b[1m1/1\u001b[0m \u001b[32m━━━━━━━━━━━━━━━━━━━━\u001b[0m\u001b[37m\u001b[0m \u001b[1m0s\u001b[0m 7ms/step"
     ]
    },
    {
     "name": "stdout",
     "output_type": "stream",
     "text": [
      "\b\b\b\b\b\b\b\b\b\b\b\b\b\b\b\b\b\b\b\b\b\b\b\b\b\b\b\b\b\b\b\b\b\b\b\b\r",
      "\u001b[1m1/1\u001b[0m \u001b[32m━━━━━━━━━━━━━━━━━━━━\u001b[0m\u001b[37m\u001b[0m \u001b[1m0s\u001b[0m 7ms/step\n"
     ]
    },
    {
     "name": "stdout",
     "output_type": "stream",
     "text": [
      "預測 shape : (25, 1)\n",
      "預測 test.shape : (25, 1)\n"
     ]
    }
   ],
   "source": [
    "predict_train = lstm.predict(model, x_lstm_train)\n",
    "print(f'預測 train.shape : {predict_train.shape}')\n",
    "\n",
    "predict_val = lstm.predict(model, x_lstm_val)\n",
    "print(f'預測 val.shape : {predict_val.shape}')\n",
    "\n",
    "predict_test = lstm.predict(model, x_lstm_test)\n",
    "print(f'預測 test.shape : {predict_test.shape}')"
   ]
  },
  {
   "cell_type": "markdown",
   "id": "7a639893",
   "metadata": {
    "id": "aeV6X1B3-uyx",
    "papermill": {
     "duration": 0.002805,
     "end_time": "2024-11-05T13:45:17.607837",
     "exception": false,
     "start_time": "2024-11-05T13:45:17.605032",
     "status": "completed"
    },
    "tags": []
   },
   "source": [
    "# 回復預測資料值為原始數據的規模"
   ]
  },
  {
   "cell_type": "code",
   "execution_count": 12,
   "id": "d9583bff",
   "metadata": {
    "colab": {
     "base_uri": "https://localhost:8080/"
    },
    "execution": {
     "iopub.execute_input": "2024-11-05T13:45:17.613925Z",
     "iopub.status.busy": "2024-11-05T13:45:17.613815Z",
     "iopub.status.idle": "2024-11-05T13:45:17.616217Z",
     "shell.execute_reply": "2024-11-05T13:45:17.616013Z"
    },
    "id": "Ra1FCvHh4exK",
    "outputId": "203c8f5c-3d4d-4d89-b130-7ba1bfb7914c",
    "papermill": {
     "duration": 0.006178,
     "end_time": "2024-11-05T13:45:17.616795",
     "exception": false,
     "start_time": "2024-11-05T13:45:17.610617",
     "status": "completed"
    },
    "tags": []
   },
   "outputs": [
    {
     "name": "stdout",
     "output_type": "stream",
     "text": [
      "\u001b[93m# 回復預測資料值為原始數據的規模\u001b[0m\n",
      "\u001b[93m# 回復預測資料值為原始數據的規模\u001b[0m\n",
      "\u001b[93m# 回復預測資料值為原始數據的規模\u001b[0m\n"
     ]
    }
   ],
   "source": [
    "# 訓練\n",
    "predict_inverse_train, actual_inverse_train, predict_train, actual_train = \\\n",
    "    lstm.denormalize_and_reshape_back(\n",
    "        y_predict = predict_train,\n",
    "        y_lstm_actual = y_lstm_train,\n",
    "        y_scaler = y_scaler,\n",
    "        n_predictions = future_day\n",
    "    )\n",
    "\n",
    "# 驗證\n",
    "predict_inverse_val, actual_inverse_val, predict_val, actual_val = \\\n",
    "    lstm.denormalize_and_reshape_back(\n",
    "        y_predict = predict_val,\n",
    "        y_lstm_actual = y_lstm_val,\n",
    "        y_scaler = y_scaler,\n",
    "        n_predictions = future_day\n",
    "    )\n",
    "\n",
    "# 測試\n",
    "predict_inverse_test, actual_inverse_test, predict_test, actual_test = \\\n",
    "    lstm.denormalize_and_reshape_back(\n",
    "        y_predict = predict_test,\n",
    "        y_lstm_actual = y_lstm_test,\n",
    "        y_scaler = y_scaler,\n",
    "        n_predictions = future_day\n",
    "    )"
   ]
  },
  {
   "cell_type": "markdown",
   "id": "ab877408",
   "metadata": {
    "id": "QFm-OEs4-xya",
    "papermill": {
     "duration": 0.002851,
     "end_time": "2024-11-05T13:45:17.622741",
     "exception": false,
     "start_time": "2024-11-05T13:45:17.619890",
     "status": "completed"
    },
    "tags": []
   },
   "source": [
    "# 查看訓練 & 驗證 & 測試集評估數據"
   ]
  },
  {
   "cell_type": "code",
   "execution_count": 13,
   "id": "c5ebc96b",
   "metadata": {
    "colab": {
     "base_uri": "https://localhost:8080/"
    },
    "execution": {
     "iopub.execute_input": "2024-11-05T13:45:17.628813Z",
     "iopub.status.busy": "2024-11-05T13:45:17.628712Z",
     "iopub.status.idle": "2024-11-05T13:45:17.772314Z",
     "shell.execute_reply": "2024-11-05T13:45:17.772022Z"
    },
    "id": "Cq0TR64Z47Fu",
    "outputId": "cd9e6803-a8bb-4e49-a9b1-0324b8627ee4",
    "papermill": {
     "duration": 0.147396,
     "end_time": "2024-11-05T13:45:17.772982",
     "exception": false,
     "start_time": "2024-11-05T13:45:17.625586",
     "status": "completed"
    },
    "tags": []
   },
   "outputs": [
    {
     "name": "stdout",
     "output_type": "stream",
     "text": [
      "\u001b[93m# 查看訓練 & 驗證 & 測試集評估數據\u001b[0m\n",
      "\u001b[31m------------------------------------------------------------------------\u001b[0m\n",
      "\u001b[31mTrain Evaluate\u001b[0m\n",
      "\u001b[31m------------------------------------------------------------------------\u001b[0m\n",
      "\r",
      "\u001b[1m 1/10\u001b[0m \u001b[32m━━\u001b[0m\u001b[37m━━━━━━━━━━━━━━━━━━\u001b[0m \u001b[1m0s\u001b[0m 8ms/step - loss: 9.9607e-04 - mean_absolute_percentage_error: 21.1515"
     ]
    },
    {
     "name": "stdout",
     "output_type": "stream",
     "text": [
      "\r",
      "\u001b[1m 2/10\u001b[0m \u001b[32m━━━━\u001b[0m\u001b[37m━━━━━━━━━━━━━━━━\u001b[0m \u001b[1m0s\u001b[0m 1ms/step - loss: 0.0068 - mean_absolute_percentage_error: 22.0455\r",
      "\u001b[1m 3/10\u001b[0m \u001b[32m━━━━━━\u001b[0m\u001b[37m━━━━━━━━━━━━━━\u001b[0m \u001b[1m0s\u001b[0m 33ms/step - loss: 0.0074 - mean_absolute_percentage_error: 22.4927"
     ]
    },
    {
     "name": "stdout",
     "output_type": "stream",
     "text": [
      "\b\b\b\b\b\b\b\b\b\b\b\b\b\b\b\b\b\b\b\b\b\b\b\b\b\b\b\b\b\b\b\b\b\b\b\b\b\b\b\b\b\b\b\b\b\b\b\b\b\b\b\b\b\b\b\b\b\b\b\b\b\b\b\b\b\b\b\b\b\b\b\b\b\b\b\b\b\b\b\b\b\b\b\b\b\b\b\b\b\b\b\b\b\b\b\b\r",
      "\u001b[1m10/10\u001b[0m \u001b[32m━━━━━━━━━━━━━━━━━━━━\u001b[0m\u001b[37m\u001b[0m \u001b[1m0s\u001b[0m 8ms/step - loss: 0.0055 - mean_absolute_percentage_error: 30191.6855\n"
     ]
    },
    {
     "name": "stdout",
     "output_type": "stream",
     "text": [
      "--- 訓練值比較 --- \n",
      "Actual shape: (301, 1), Predict shape: (301, 1)\n",
      "MAE:0.02782，MAPE:747081736600.7213，MSE:0.00395，RMSE:0.06287，R square:0.40274\n",
      "--- 原始值比較 --- \n",
      "Actual shape: (301, 1), Predict shape: (301, 1)\n",
      "MAE:5436.60313，MAPE:0.23444，MSE:150893155.93578，RMSE:12283.85753，R square:0.40274\n",
      "\n",
      "\u001b[31m------------------------------------------------------------------------\u001b[0m\n",
      "\u001b[31mVal Evaluate\u001b[0m\n",
      "\u001b[31m------------------------------------------------------------------------\u001b[0m\n",
      "\r",
      "\u001b[1m1/1\u001b[0m \u001b[32m━━━━━━━━━━━━━━━━━━━━\u001b[0m\u001b[37m\u001b[0m \u001b[1m0s\u001b[0m 7ms/step - loss: 0.0024 - mean_absolute_percentage_error: 42.0817"
     ]
    },
    {
     "name": "stdout",
     "output_type": "stream",
     "text": [
      "\b\b\b\b\b\b\b\b\b\b\b\b\b\b\b\b\b\b\b\b\b\b\b\b\b\b\b\b\b\b\b\b\b\b\b\b\b\b\b\b\b\b\b\b\b\b\b\b\b\b\b\b\b\b\b\b\b\b\b\b\b\b\b\b\b\b\b\b\b\b\b\b\b\b\b\b\b\b\b\b\b\b\b\b\b\b\b\b\b\b\b\b\b\r",
      "\u001b[1m1/1\u001b[0m \u001b[32m━━━━━━━━━━━━━━━━━━━━\u001b[0m\u001b[37m\u001b[0m \u001b[1m0s\u001b[0m 8ms/step - loss: 0.0024 - mean_absolute_percentage_error: 42.0817\n"
     ]
    },
    {
     "name": "stdout",
     "output_type": "stream",
     "text": [
      "--- 正規化比較 --- \n",
      "Actual shape: (24, 1), Predict shape: (24, 1)\n",
      "MAE:0.04033，MAPE:0.42082，MSE:0.00237，RMSE:0.0487，R square:-0.90546\n",
      "--- 原始值比較 --- \n",
      "Actual shape: (24, 1), Predict shape: (24, 1)\n",
      "MAE:7879.39278，MAPE:0.32617，MSE:90532637.99276，RMSE:9514.86406，R square:-0.90546\n",
      "\n",
      "\u001b[31m------------------------------------------------------------------------\u001b[0m\n",
      "\u001b[31mTest Evaluate\u001b[0m\n",
      "\u001b[31m------------------------------------------------------------------------\u001b[0m\n"
     ]
    },
    {
     "name": "stdout",
     "output_type": "stream",
     "text": [
      "\r",
      "\u001b[1m1/1\u001b[0m \u001b[32m━━━━━━━━━━━━━━━━━━━━\u001b[0m\u001b[37m\u001b[0m \u001b[1m0s\u001b[0m 8ms/step - loss: 0.0139 - mean_absolute_percentage_error: 68.5439"
     ]
    },
    {
     "name": "stdout",
     "output_type": "stream",
     "text": [
      "\b\b\b\b\b\b\b\b\b\b\b\b\b\b\b\b\b\b\b\b\b\b\b\b\b\b\b\b\b\b\b\b\b\b\b\b\b\b\b\b\b\b\b\b\b\b\b\b\b\b\b\b\b\b\b\b\b\b\b\b\b\b\b\b\b\b\b\b\b\b\b\b\b\b\b\b\b\b\b\b\b\b\b\b\b\b\b\b\b\b\b\b\b\r",
      "\u001b[1m1/1\u001b[0m \u001b[32m━━━━━━━━━━━━━━━━━━━━\u001b[0m\u001b[37m\u001b[0m \u001b[1m0s\u001b[0m 9ms/step - loss: 0.0139 - mean_absolute_percentage_error: 68.5439\n"
     ]
    },
    {
     "name": "stdout",
     "output_type": "stream",
     "text": [
      "--- 正規化比較 --- \n",
      "Actual shape: (25, 1), Predict shape: (25, 1)\n",
      "MAE:0.09324，MAPE:0.68544，MSE:0.0139，RMSE:0.11791，R square:0.18606\n",
      "--- 原始值比較 --- \n",
      "Actual shape: (25, 1), Predict shape: (25, 1)\n",
      "MAE:18219.41725，MAPE:0.51474，MSE:530825499.6994，RMSE:23039.6506，R square:0.18606\n",
      "\n"
     ]
    }
   ],
   "source": [
    "# 查看訓練 & 驗證 & 測試集評估數據\n",
    "print('\\033[93m# 查看訓練 & 驗證 & 測試集評估數據\\x1b[0m')\n",
    "\n",
    "print('\\x1b[31m------------------------------------------------------------------------\\x1b[0m')\n",
    "print('\\x1b[31mTrain Evaluate\\x1b[0m')\n",
    "print('\\x1b[31m------------------------------------------------------------------------\\x1b[0m')\n",
    "lstm.evaluation(model, x_lstm_train, y_lstm_train)\n",
    "print('--- 訓練值比較 --- ')\n",
    "lstm.score(actual_train, predict_train)\n",
    "print('--- 原始值比較 --- ')\n",
    "mae_train, mape_train = lstm.score(actual_inverse_train, predict_inverse_train)\n",
    "print('')\n",
    "\n",
    "print('\\x1b[31m------------------------------------------------------------------------\\x1b[0m')\n",
    "print('\\x1b[31mVal Evaluate\\x1b[0m')\n",
    "print('\\x1b[31m------------------------------------------------------------------------\\x1b[0m')\n",
    "lstm.evaluation(model, x_lstm_val, y_lstm_val)\n",
    "print('--- 正規化比較 --- ')\n",
    "lstm.score(actual_val, predict_val)\n",
    "print('--- 原始值比較 --- ')\n",
    "mae_val, mape_val = lstm.score(actual_inverse_val, predict_inverse_val)\n",
    "print('')\n",
    "\n",
    "print('\\x1b[31m------------------------------------------------------------------------\\x1b[0m')\n",
    "print('\\x1b[31mTest Evaluate\\x1b[0m')\n",
    "print('\\x1b[31m------------------------------------------------------------------------\\x1b[0m')\n",
    "evaluations = lstm.evaluation(model, x_lstm_test, y_lstm_test)\n",
    "print('--- 正規化比較 --- ')\n",
    "lstm.score(actual_test, predict_test)\n",
    "print('--- 原始值比較 --- ')\n",
    "mae_test, mape_test = lstm.score(actual_inverse_test, predict_inverse_test)\n",
    "print('')"
   ]
  },
  {
   "cell_type": "markdown",
   "id": "d5bd4c03",
   "metadata": {
    "id": "D9aEVglH1d_j",
    "papermill": {
     "duration": 0.00306,
     "end_time": "2024-11-05T13:45:17.779437",
     "exception": false,
     "start_time": "2024-11-05T13:45:17.776377",
     "status": "completed"
    },
    "tags": []
   },
   "source": [
    "# 顯示預測圖表"
   ]
  },
  {
   "cell_type": "code",
   "execution_count": 14,
   "id": "672d9b7f",
   "metadata": {
    "colab": {
     "base_uri": "https://localhost:8080/",
     "height": 291
    },
    "execution": {
     "iopub.execute_input": "2024-11-05T13:45:17.786203Z",
     "iopub.status.busy": "2024-11-05T13:45:17.786101Z",
     "iopub.status.idle": "2024-11-05T13:45:17.838123Z",
     "shell.execute_reply": "2024-11-05T13:45:17.837869Z"
    },
    "id": "a1xSXAxbkOvj",
    "outputId": "c1fae3f9-bcaf-44c2-b9c7-8dfd10792ac1",
    "papermill": {
     "duration": 0.056161,
     "end_time": "2024-11-05T13:45:17.838843",
     "exception": false,
     "start_time": "2024-11-05T13:45:17.782682",
     "status": "completed"
    },
    "tags": []
   },
   "outputs": [
    {
     "data": {
      "image/png": "[encoded data removed]",
      "text/plain": [
       "<Figure size 800x300 with 1 Axes>"
      ]
     },
     "metadata": {},
     "output_type": "display_data"
    }
   ],
   "source": [
    "plt.figure(figsize=(8, 3))\n",
    "plt.plot(y_df.values)\n",
    "plt.show()"
   ]
  },
  {
   "cell_type": "markdown",
   "id": "f2b1a0a1",
   "metadata": {
    "id": "fE92ElwDChF2",
    "papermill": {
     "duration": 0.003409,
     "end_time": "2024-11-05T13:45:17.845978",
     "exception": false,
     "start_time": "2024-11-05T13:45:17.842569",
     "status": "completed"
    },
    "tags": []
   },
   "source": [
    "## 載入原始數據切割成 LSTM 格式的區段"
   ]
  },
  {
   "cell_type": "code",
   "execution_count": 15,
   "id": "32220344",
   "metadata": {
    "colab": {
     "base_uri": "https://localhost:8080/"
    },
    "execution": {
     "iopub.execute_input": "2024-11-05T13:45:17.853519Z",
     "iopub.status.busy": "2024-11-05T13:45:17.853334Z",
     "iopub.status.idle": "2024-11-05T13:45:17.855353Z",
     "shell.execute_reply": "2024-11-05T13:45:17.855119Z"
    },
    "id": "H7WUuzYABTpe",
    "outputId": "e9f42d3a-810d-44ba-9f30-ffd99a2c2985",
    "papermill": {
     "duration": 0.006465,
     "end_time": "2024-11-05T13:45:17.856009",
     "exception": false,
     "start_time": "2024-11-05T13:45:17.849544",
     "status": "completed"
    },
    "tags": []
   },
   "outputs": [
    {
     "name": "stdout",
     "output_type": "stream",
     "text": [
      "\u001b[93m# 切割訓練、驗證和測試資料集\u001b[0m\n",
      "x_train.shape: (316, 1)\n",
      "y_train.shape: (316, 1)\n",
      "x_val.shape: (39, 1)\n",
      "y_val.shape: (39, 1)\n",
      "x_test.shape: (40, 1)\n",
      "y_test.shape: (40, 1)\n"
     ]
    }
   ],
   "source": [
    "# 這邊只是為了驗證數據的正確性\n",
    "x_train_origin, y_train_origin, x_val_origin, y_val_origin, x_test_origin, y_test_origin = \\\n",
    "    lstm.train_val_test_split(\n",
    "        y_df.values,\n",
    "        train_split_rate = train_split_rate,\n",
    "        val_split_rate = val_split_rate\n",
    "    )"
   ]
  },
  {
   "cell_type": "markdown",
   "id": "ffcf693c",
   "metadata": {
    "id": "94Q14TQA69Ef",
    "papermill": {
     "duration": 0.003426,
     "end_time": "2024-11-05T13:45:17.862978",
     "exception": false,
     "start_time": "2024-11-05T13:45:17.859552",
     "status": "completed"
    },
    "tags": []
   },
   "source": [
    "## 訓練集"
   ]
  },
  {
   "cell_type": "code",
   "execution_count": 16,
   "id": "76360187",
   "metadata": {
    "colab": {
     "base_uri": "https://localhost:8080/",
     "height": 555
    },
    "execution": {
     "iopub.execute_input": "2024-11-05T13:45:17.870427Z",
     "iopub.status.busy": "2024-11-05T13:45:17.870323Z",
     "iopub.status.idle": "2024-11-05T13:45:17.958165Z",
     "shell.execute_reply": "2024-11-05T13:45:17.957922Z"
    },
    "id": "OAefcLYb6SOc",
    "outputId": "ed812b69-4c9b-4bbe-b47f-650a806dc9b5",
    "papermill": {
     "duration": 0.092359,
     "end_time": "2024-11-05T13:45:17.958886",
     "exception": false,
     "start_time": "2024-11-05T13:45:17.866527",
     "status": "completed"
    },
    "tags": []
   },
   "outputs": [
    {
     "name": "stdout",
     "output_type": "stream",
     "text": [
      "原始資料 (316, 1)\n",
      "[[4825]\n",
      " [4981]\n",
      " [4912]]\n",
      "還原原始資料 (301, 1)\n",
      "[[4981.]\n",
      " [4912.]]\n"
     ]
    },
    {
     "data": {
      "image/png": "[encoded data removed]",
      "text/plain": [
       "<Figure size 800x200 with 1 Axes>"
      ]
     },
     "metadata": {},
     "output_type": "display_data"
    },
    {
     "data": {
      "image/png": "[encoded data removed]",
      "text/plain": [
       "<Figure size 800x200 with 1 Axes>"
      ]
     },
     "metadata": {},
     "output_type": "display_data"
    }
   ],
   "source": [
    "print('原始資料' , y_train_origin.shape)\n",
    "print(y_train_origin[-3:])\n",
    "\n",
    "print('還原原始資料', actual_inverse_train.shape)\n",
    "print(actual_inverse_train[-2:])\n",
    "\n",
    "lstm.show_predict_chart(\n",
    "    actual = actual_inverse_train,\n",
    "    predict = predict_inverse_train,\n",
    "    title = f'Train {labels[0]}:{predicteds}, MAE:{round(mae_train, 5)}, MAPE:{round(mape_train, 5)}'\n",
    ")"
   ]
  },
  {
   "cell_type": "markdown",
   "id": "78114236",
   "metadata": {
    "id": "PQHtjGd2ATaJ",
    "papermill": {
     "duration": 0.003851,
     "end_time": "2024-11-05T13:45:17.966942",
     "exception": false,
     "start_time": "2024-11-05T13:45:17.963091",
     "status": "completed"
    },
    "tags": []
   },
   "source": [
    "## 驗證集"
   ]
  },
  {
   "cell_type": "code",
   "execution_count": 17,
   "id": "95368111",
   "metadata": {
    "colab": {
     "base_uri": "https://localhost:8080/",
     "height": 556
    },
    "execution": {
     "iopub.execute_input": "2024-11-05T13:45:17.974996Z",
     "iopub.status.busy": "2024-11-05T13:45:17.974877Z",
     "iopub.status.idle": "2024-11-05T13:45:18.052650Z",
     "shell.execute_reply": "2024-11-05T13:45:18.052403Z"
    },
    "id": "7MdNVyoEAU8t",
    "outputId": "18ba3502-24f0-4bc3-8806-40423a28cf9c",
    "papermill": {
     "duration": 0.082627,
     "end_time": "2024-11-05T13:45:18.053369",
     "exception": false,
     "start_time": "2024-11-05T13:45:17.970742",
     "status": "completed"
    },
    "tags": []
   },
   "outputs": [
    {
     "name": "stdout",
     "output_type": "stream",
     "text": [
      "原始資料 (39, 1)\n",
      "[[32478]\n",
      " [29006]\n",
      " [30415]]\n",
      "還原原始資料 (24, 1)\n",
      "[[29006.]\n",
      " [30415.]]\n"
     ]
    },
    {
     "data": {
      "image/png": "[encoded data removed]",
      "text/plain": [
       "<Figure size 800x200 with 1 Axes>"
      ]
     },
     "metadata": {},
     "output_type": "display_data"
    },
    {
     "data": {
      "image/png": "[encoded data removed]",
      "text/plain": [
       "<Figure size 800x200 with 1 Axes>"
      ]
     },
     "metadata": {},
     "output_type": "display_data"
    }
   ],
   "source": [
    "print('原始資料' , y_val_origin.shape)\n",
    "print(y_val_origin[-3:])\n",
    "\n",
    "print('還原原始資料', actual_inverse_val.shape)\n",
    "print(actual_inverse_val[-2:])\n",
    "\n",
    "lstm.show_predict_chart(\n",
    "    actual = actual_inverse_val,\n",
    "    predict = predict_inverse_val,\n",
    "    title = f'Val {labels[0]}:{predicteds}, MAE:{round(mae_val, 5)}, MAPE:{round(mape_val, 5)}'\n",
    ")"
   ]
  },
  {
   "cell_type": "markdown",
   "id": "1ec17612",
   "metadata": {
    "id": "sb12RcTA7CyN",
    "papermill": {
     "duration": 0.004891,
     "end_time": "2024-11-05T13:45:18.062757",
     "exception": false,
     "start_time": "2024-11-05T13:45:18.057866",
     "status": "completed"
    },
    "tags": []
   },
   "source": [
    "## 測試集"
   ]
  },
  {
   "cell_type": "code",
   "execution_count": 18,
   "id": "374f4405",
   "metadata": {
    "colab": {
     "base_uri": "https://localhost:8080/",
     "height": 573
    },
    "execution": {
     "iopub.execute_input": "2024-11-05T13:45:18.071713Z",
     "iopub.status.busy": "2024-11-05T13:45:18.071592Z",
     "iopub.status.idle": "2024-11-05T13:45:18.152231Z",
     "shell.execute_reply": "2024-11-05T13:45:18.151973Z"
    },
    "id": "cBXpSzdw5vJL",
    "outputId": "e4baa2fe-0761-4553-ccdd-acbe6bb539f3",
    "papermill": {
     "duration": 0.085874,
     "end_time": "2024-11-05T13:45:18.152936",
     "exception": false,
     "start_time": "2024-11-05T13:45:18.067062",
     "status": "completed"
    },
    "tags": []
   },
   "outputs": [
    {
     "name": "stdout",
     "output_type": "stream",
     "text": [
      "原始資料 (40, 1)\n",
      "[[12238]\n",
      " [19482]\n",
      " [20069]]\n",
      "還原原始資料 (25, 1)\n",
      "[[19482.]\n",
      " [20069.]]\n",
      "Test GroupCount:[1], BatchSize:14, MAE:18219.41725, MAPE:0.51474\n"
     ]
    },
    {
     "data": {
      "image/png": "[encoded data removed]",
      "text/plain": [
       "<Figure size 800x200 with 1 Axes>"
      ]
     },
     "metadata": {},
     "output_type": "display_data"
    },
    {
     "data": {
      "image/png": "[encoded data removed]",
      "text/plain": [
       "<Figure size 800x200 with 1 Axes>"
      ]
     },
     "metadata": {},
     "output_type": "display_data"
    }
   ],
   "source": [
    "print('原始資料' , y_test_origin.shape)\n",
    "print(y_test_origin[-3:])\n",
    "\n",
    "print('還原原始資料', actual_inverse_test.shape)\n",
    "print(actual_inverse_test[-2:])\n",
    "\n",
    "title = f'Test {labels[0]}:{predicteds}, BatchSize:{batch_size}, MAE:{round(mae_test, 5)}, MAPE:{round(mape_test, 5)}'\n",
    "\n",
    "print(title)\n",
    "lstm.show_predict_chart(\n",
    "    actual = actual_inverse_test,\n",
    "    predict = predict_inverse_test,\n",
    "    title = title\n",
    ")"
   ]
  },
  {
   "cell_type": "markdown",
   "id": "44ff5f9e",
   "metadata": {
    "papermill": {
     "duration": 0.004459,
     "end_time": "2024-11-05T13:45:18.162170",
     "exception": false,
     "start_time": "2024-11-05T13:45:18.157711",
     "status": "completed"
    },
    "tags": []
   },
   "source": [
    "# 儲存結果"
   ]
  },
  {
   "cell_type": "code",
   "execution_count": 19,
   "id": "f51b26a7",
   "metadata": {
    "execution": {
     "iopub.execute_input": "2024-11-05T13:45:18.171566Z",
     "iopub.status.busy": "2024-11-05T13:45:18.171414Z",
     "iopub.status.idle": "2024-11-05T13:45:18.173497Z",
     "shell.execute_reply": "2024-11-05T13:45:18.173279Z"
    },
    "papermill": {
     "duration": 0.007555,
     "end_time": "2024-11-05T13:45:18.174124",
     "exception": false,
     "start_time": "2024-11-05T13:45:18.166569",
     "status": "completed"
    },
    "tags": []
   },
   "outputs": [
    {
     "name": "stdout",
     "output_type": "stream",
     "text": [
      "{'type': 'NoDecomp', 'labels': ['GroupCount'], 'model_type': 3, 'predicteds': [1], 'batch_size': 14, 'train_mae': 5436.60313, 'train_mape': 0.23444, 'test_mae': 18219.41725, 'test_mape': 0.51474, 'kfold': None, 'imfs': None}\n",
      "儲存評估結果到 NoDecomp/_Model/GroupCount_mt3_data1_batch14.result.json\n"
     ]
    }
   ],
   "source": [
    "lstm.save_json_file(\n",
    "    result_file_name, model_dir, labels, model_type, predicteds, \n",
    "    batch_size, mae_train, mape_train, mae_test, mape_test,\n",
    "    kfold = None\n",
    ")"
   ]
  }
 ],
 "metadata": {
  "colab": {
   "provenance": [],
   "toc_visible": true
  },
  "kernelspec": {
   "display_name": "nckuenv",
   "language": "python",
   "name": "python3"
  },
  "language_info": {
   "codemirror_mode": {
    "name": "ipython",
    "version": 3
   },
   "file_extension": ".py",
   "mimetype": "text/x-python",
   "name": "python",
   "nbconvert_exporter": "python",
   "pygments_lexer": "ipython3",
   "version": "3.12.4"
  },
  "papermill": {
   "default_parameters": {},
   "duration": 9.998274,
   "end_time": "2024-11-05T13:45:18.702597",
   "environment_variables": {},
   "exception": null,
   "input_path": "Temp_runtime.ipynb",
   "output_path": "NoDecomp/GroupCount/NoDecomp_mt3_data1_batch14.ipynb",
   "parameters": {},
   "start_time": "2024-11-05T13:45:08.704323",
   "version": "2.6.0"
  }
 },
 "nbformat": 4,
 "nbformat_minor": 5
}