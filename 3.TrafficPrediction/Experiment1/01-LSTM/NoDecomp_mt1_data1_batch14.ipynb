{
 "cells": [
  {
   "cell_type": "markdown",
   "id": "8ee48115",
   "metadata": {
    "id": "kk4Hl1aJGMqf",
    "papermill": {
     "duration": 0.007278,
     "end_time": "2024-10-26T09:43:46.411461",
     "exception": false,
     "start_time": "2024-10-26T09:43:46.404183",
     "status": "completed"
    },
    "tags": []
   },
   "source": [
    "# 參數設定(未使用訊號分解)"
   ]
  },
  {
   "cell_type": "code",
   "execution_count": 1,
   "id": "9966377e",
   "metadata": {
    "colab": {
     "base_uri": "https://localhost:8080/"
    },
    "execution": {
     "iopub.execute_input": "2024-10-26T09:43:46.431435Z",
     "iopub.status.busy": "2024-10-26T09:43:46.431207Z",
     "iopub.status.idle": "2024-10-26T09:43:46.435293Z",
     "shell.execute_reply": "2024-10-26T09:43:46.434633Z"
    },
    "id": "pVQVdyLWgoQG",
    "outputId": "3d2bcb27-027f-4166-ea2d-241cca3fa08a",
    "papermill": {
     "duration": 0.01433,
     "end_time": "2024-10-26T09:43:46.436675",
     "exception": false,
     "start_time": "2024-10-26T09:43:46.422345",
     "status": "completed"
    },
    "tags": []
   },
   "outputs": [],
   "source": [
    "import os\n",
    "\n",
    "labels = ['GroupCount']\n",
    "model_type = 1 # 使用模型\n",
    "predicteds = [1] # 預測類別 \n",
    "batch_size = 14  # 批次大小\n",
    "\n",
    "# labels = ['GroupCount']\n",
    "# model_type = 1 # 使用模型\n",
    "# predicteds = [1] # 預測類別 \n",
    "# batch_size = 14  # 批次大小\n",
    "\n",
    "\n",
    "# ==== 底下的參數基本上都不要亂動 ====\n",
    "past_day = 14  # 過去天數，用於訓練資料中的歷史資料長度\n",
    "future_day = 1\n",
    "\n",
    "train_split_rate = 0.8  # 訓練集佔整體資料集的比例\n",
    "val_split_rate = 0.1 # 驗證集占整體資料集的比例\n",
    "  \n",
    "model_dir = 'NoDecomp/_Model'"
   ]
  },
  {
   "cell_type": "markdown",
   "id": "dcfde12e",
   "metadata": {
    "id": "Mvow40rcSzyH",
    "papermill": {
     "duration": 0.002405,
     "end_time": "2024-10-26T09:43:46.442214",
     "exception": false,
     "start_time": "2024-10-26T09:43:46.439809",
     "status": "completed"
    },
    "tags": []
   },
   "source": [
    "# 定義類別"
   ]
  },
  {
   "cell_type": "code",
   "execution_count": 2,
   "id": "1092fdcd",
   "metadata": {
    "execution": {
     "iopub.execute_input": "2024-10-26T09:43:46.447677Z",
     "iopub.status.busy": "2024-10-26T09:43:46.447532Z",
     "iopub.status.idle": "2024-10-26T09:43:48.862894Z",
     "shell.execute_reply": "2024-10-26T09:43:48.862619Z"
    },
    "id": "yRw6GSTVSzyJ",
    "papermill": {
     "duration": 2.419169,
     "end_time": "2024-10-26T09:43:48.863642",
     "exception": false,
     "start_time": "2024-10-26T09:43:46.444473",
     "status": "completed"
    },
    "tags": []
   },
   "outputs": [
    {
     "name": "stdout",
     "output_type": "stream",
     "text": [
      "/Users/elliesu/Developer/nckuenv\n"
     ]
    }
   ],
   "source": [
    "import joblib\n",
    "\n",
    "# 重新載入 Lib，讓檔案可以直接修改使用 \n",
    "import importlib\n",
    "import LstmLib \n",
    "importlib.reload(LstmLib)   \n",
    "\n",
    "from LstmLib import * \n",
    "lstm = LstmLib()\n",
    "\n",
    "import sys\n",
    "print(sys.prefix)"
   ]
  },
  {
   "cell_type": "markdown",
   "id": "9faa3ea1",
   "metadata": {
    "papermill": {
     "duration": 0.002536,
     "end_time": "2024-10-26T09:43:48.868558",
     "exception": false,
     "start_time": "2024-10-26T09:43:48.866022",
     "status": "completed"
    },
    "tags": []
   },
   "source": [
    "# 清除舊的訓練資料"
   ]
  },
  {
   "cell_type": "code",
   "execution_count": 3,
   "id": "77bcfd32",
   "metadata": {
    "execution": {
     "iopub.execute_input": "2024-10-26T09:43:48.873098Z",
     "iopub.status.busy": "2024-10-26T09:43:48.872925Z",
     "iopub.status.idle": "2024-10-26T09:43:48.875122Z",
     "shell.execute_reply": "2024-10-26T09:43:48.874922Z"
    },
    "papermill": {
     "duration": 0.005157,
     "end_time": "2024-10-26T09:43:48.875716",
     "exception": false,
     "start_time": "2024-10-26T09:43:48.870559",
     "status": "completed"
    },
    "tags": []
   },
   "outputs": [
    {
     "name": "stdout",
     "output_type": "stream",
     "text": [
      "x_scaler_file_name: NoDecomp/_Model/GroupCount_mt1_data1_batch14.x_scaler.pkl\n",
      "y_scaler_file_name: NoDecomp/_Model/GroupCount_mt1_data1_batch14.y_scaler.pkl\n",
      "model_file_name: NoDecomp/_Model/GroupCount_mt1_data1_batch14.model.keras\n",
      "result_file_name: NoDecomp/_Model/GroupCount_mt1_data1_batch14.result.json\n"
     ]
    }
   ],
   "source": [
    "x_scaler_file_name, y_scaler_file_name, model_file_name, result_file_name = \\\n",
    "    lstm.reset_data(model_dir, labels, model_type, predicteds, batch_size)"
   ]
  },
  {
   "cell_type": "markdown",
   "id": "4ceb5e41",
   "metadata": {
    "id": "NipcqBZf-Smu",
    "papermill": {
     "duration": 0.0021,
     "end_time": "2024-10-26T09:43:48.880032",
     "exception": false,
     "start_time": "2024-10-26T09:43:48.877932",
     "status": "completed"
    },
    "tags": []
   },
   "source": [
    "# 載入數據"
   ]
  },
  {
   "cell_type": "code",
   "execution_count": 4,
   "id": "d9cd5e53",
   "metadata": {
    "colab": {
     "base_uri": "https://localhost:8080/",
     "height": 261
    },
    "execution": {
     "iopub.execute_input": "2024-10-26T09:43:48.884613Z",
     "iopub.status.busy": "2024-10-26T09:43:48.884529Z",
     "iopub.status.idle": "2024-10-26T09:43:48.893310Z",
     "shell.execute_reply": "2024-10-26T09:43:48.893102Z"
    },
    "id": "7PH7QM4NwPtK",
    "outputId": "8b83d42f-c0f7-4b8d-a1b4-464faa7a07e0",
    "papermill": {
     "duration": 0.011781,
     "end_time": "2024-10-26T09:43:48.893916",
     "exception": false,
     "start_time": "2024-10-26T09:43:48.882135",
     "status": "completed"
    },
    "tags": []
   },
   "outputs": [
    {
     "name": "stdout",
     "output_type": "stream",
     "text": [
      "\u001b[93m# 載入數據\u001b[0m\n",
      "395\n"
     ]
    },
    {
     "data": {
      "text/html": [
       "<div>\n",
       "<style scoped>\n",
       "    .dataframe tbody tr th:only-of-type {\n",
       "        vertical-align: middle;\n",
       "    }\n",
       "\n",
       "    .dataframe tbody tr th {\n",
       "        vertical-align: top;\n",
       "    }\n",
       "\n",
       "    .dataframe thead th {\n",
       "        text-align: right;\n",
       "    }\n",
       "</style>\n",
       "<table border=\"1\" class=\"dataframe\">\n",
       "  <thead>\n",
       "    <tr style=\"text-align: right;\">\n",
       "      <th></th>\n",
       "      <th>RequestTime</th>\n",
       "      <th>Predicted</th>\n",
       "      <th>SendBytes</th>\n",
       "      <th>ReceiveBytes</th>\n",
       "      <th>TimeTaken</th>\n",
       "      <th>UrlType1</th>\n",
       "      <th>UrlType2</th>\n",
       "      <th>UrlType3</th>\n",
       "      <th>Method_GET</th>\n",
       "      <th>Method_POST</th>\n",
       "      <th>Method_PUT</th>\n",
       "      <th>Method_DELETE</th>\n",
       "      <th>Method_HEAD</th>\n",
       "      <th>Method_OPTIONS</th>\n",
       "      <th>Method_PATCH</th>\n",
       "      <th>GroupCount</th>\n",
       "    </tr>\n",
       "  </thead>\n",
       "  <tbody>\n",
       "    <tr>\n",
       "      <th>0</th>\n",
       "      <td>2023-04-02</td>\n",
       "      <td>[1]</td>\n",
       "      <td>133985276</td>\n",
       "      <td>9489146</td>\n",
       "      <td>1284508</td>\n",
       "      <td>9923</td>\n",
       "      <td>0</td>\n",
       "      <td>0</td>\n",
       "      <td>8410</td>\n",
       "      <td>1513</td>\n",
       "      <td>0</td>\n",
       "      <td>0</td>\n",
       "      <td>0</td>\n",
       "      <td>0</td>\n",
       "      <td>0</td>\n",
       "      <td>9923</td>\n",
       "    </tr>\n",
       "    <tr>\n",
       "      <th>1</th>\n",
       "      <td>2023-04-03</td>\n",
       "      <td>[1]</td>\n",
       "      <td>173845707</td>\n",
       "      <td>12345851</td>\n",
       "      <td>1795732</td>\n",
       "      <td>13065</td>\n",
       "      <td>0</td>\n",
       "      <td>0</td>\n",
       "      <td>11090</td>\n",
       "      <td>1975</td>\n",
       "      <td>0</td>\n",
       "      <td>0</td>\n",
       "      <td>0</td>\n",
       "      <td>0</td>\n",
       "      <td>0</td>\n",
       "      <td>13065</td>\n",
       "    </tr>\n",
       "    <tr>\n",
       "      <th>2</th>\n",
       "      <td>2023-04-04</td>\n",
       "      <td>[1]</td>\n",
       "      <td>179977352</td>\n",
       "      <td>13984392</td>\n",
       "      <td>1640886</td>\n",
       "      <td>14207</td>\n",
       "      <td>0</td>\n",
       "      <td>0</td>\n",
       "      <td>11796</td>\n",
       "      <td>2411</td>\n",
       "      <td>0</td>\n",
       "      <td>0</td>\n",
       "      <td>0</td>\n",
       "      <td>0</td>\n",
       "      <td>0</td>\n",
       "      <td>14207</td>\n",
       "    </tr>\n",
       "    <tr>\n",
       "      <th>3</th>\n",
       "      <td>2023-04-05</td>\n",
       "      <td>[1]</td>\n",
       "      <td>163981342</td>\n",
       "      <td>15044918</td>\n",
       "      <td>1672361</td>\n",
       "      <td>15636</td>\n",
       "      <td>0</td>\n",
       "      <td>0</td>\n",
       "      <td>13201</td>\n",
       "      <td>2435</td>\n",
       "      <td>0</td>\n",
       "      <td>0</td>\n",
       "      <td>0</td>\n",
       "      <td>0</td>\n",
       "      <td>0</td>\n",
       "      <td>15636</td>\n",
       "    </tr>\n",
       "    <tr>\n",
       "      <th>4</th>\n",
       "      <td>2023-04-06</td>\n",
       "      <td>[1]</td>\n",
       "      <td>386294578</td>\n",
       "      <td>38072811</td>\n",
       "      <td>4094537</td>\n",
       "      <td>38862</td>\n",
       "      <td>0</td>\n",
       "      <td>0</td>\n",
       "      <td>32274</td>\n",
       "      <td>6587</td>\n",
       "      <td>0</td>\n",
       "      <td>1</td>\n",
       "      <td>0</td>\n",
       "      <td>0</td>\n",
       "      <td>0</td>\n",
       "      <td>38862</td>\n",
       "    </tr>\n",
       "  </tbody>\n",
       "</table>\n",
       "</div>"
      ],
      "text/plain": [
       "  RequestTime Predicted  SendBytes  ReceiveBytes  TimeTaken  UrlType1  \\\n",
       "0  2023-04-02       [1]  133985276       9489146    1284508      9923   \n",
       "1  2023-04-03       [1]  173845707      12345851    1795732     13065   \n",
       "2  2023-04-04       [1]  179977352      13984392    1640886     14207   \n",
       "3  2023-04-05       [1]  163981342      15044918    1672361     15636   \n",
       "4  2023-04-06       [1]  386294578      38072811    4094537     38862   \n",
       "\n",
       "   UrlType2  UrlType3  Method_GET  Method_POST  Method_PUT  Method_DELETE  \\\n",
       "0         0         0        8410         1513           0              0   \n",
       "1         0         0       11090         1975           0              0   \n",
       "2         0         0       11796         2411           0              0   \n",
       "3         0         0       13201         2435           0              0   \n",
       "4         0         0       32274         6587           0              1   \n",
       "\n",
       "   Method_HEAD  Method_OPTIONS  Method_PATCH  GroupCount  \n",
       "0            0               0             0        9923  \n",
       "1            0               0             0       13065  \n",
       "2            0               0             0       14207  \n",
       "3            0               0             0       15636  \n",
       "4            0               0             0       38862  "
      ]
     },
     "execution_count": 4,
     "metadata": {},
     "output_type": "execute_result"
    }
   ],
   "source": [
    "df_source = lstm.load_data(predicteds)\n",
    "\n",
    "print(len(df_source))\n",
    "df_source.head()"
   ]
  },
  {
   "cell_type": "markdown",
   "id": "1d5c9e49",
   "metadata": {
    "id": "M4RY1aaz-XJa",
    "papermill": {
     "duration": 0.002245,
     "end_time": "2024-10-26T09:43:48.898555",
     "exception": false,
     "start_time": "2024-10-26T09:43:48.896310",
     "status": "completed"
    },
    "tags": []
   },
   "source": [
    "# 最小最大正規化"
   ]
  },
  {
   "cell_type": "code",
   "execution_count": 5,
   "id": "8951f6d0",
   "metadata": {
    "colab": {
     "base_uri": "https://localhost:8080/"
    },
    "execution": {
     "iopub.execute_input": "2024-10-26T09:43:48.903507Z",
     "iopub.status.busy": "2024-10-26T09:43:48.903409Z",
     "iopub.status.idle": "2024-10-26T09:43:48.907012Z",
     "shell.execute_reply": "2024-10-26T09:43:48.906808Z"
    },
    "id": "qgrzu6Sxf7WE",
    "outputId": "ccbf983d-edd3-4a11-d9a6-4c688782d363",
    "papermill": {
     "duration": 0.006714,
     "end_time": "2024-10-26T09:43:48.907597",
     "exception": false,
     "start_time": "2024-10-26T09:43:48.900883",
     "status": "completed"
    },
    "tags": []
   },
   "outputs": [
    {
     "name": "stdout",
     "output_type": "stream",
     "text": [
      "\u001b[93m# 最小最大正規化\u001b[0m\n",
      "x_norm.shape:(395, 1)\n",
      "y_norm.shape:(395, 1)\n",
      "儲存最小最大縮放參數\n"
     ]
    }
   ],
   "source": [
    "x_norm, y_norm, x_scaler, y_scaler, x_df, y_df = \\\n",
    "    lstm.normalize(df_source[labels], labels, x_scaler = None, y_scaler = None);\n",
    "\n",
    "joblib.dump(x_scaler, x_scaler_file_name)\n",
    "joblib.dump(y_scaler, y_scaler_file_name)\n",
    "print('儲存最小最大縮放參數')"
   ]
  },
  {
   "cell_type": "markdown",
   "id": "631fd322",
   "metadata": {
    "id": "G3k2Q3zr-c8i",
    "papermill": {
     "duration": 0.002272,
     "end_time": "2024-10-26T09:43:48.912160",
     "exception": false,
     "start_time": "2024-10-26T09:43:48.909888",
     "status": "completed"
    },
    "tags": []
   },
   "source": [
    "# 切割訓練、驗證和測試資料集"
   ]
  },
  {
   "cell_type": "code",
   "execution_count": 6,
   "id": "9f59d986",
   "metadata": {
    "colab": {
     "base_uri": "https://localhost:8080/"
    },
    "execution": {
     "iopub.execute_input": "2024-10-26T09:43:48.916963Z",
     "iopub.status.busy": "2024-10-26T09:43:48.916876Z",
     "iopub.status.idle": "2024-10-26T09:43:48.918623Z",
     "shell.execute_reply": "2024-10-26T09:43:48.918430Z"
    },
    "id": "xfCDR3YwiIzp",
    "outputId": "7e65a012-6799-4064-a7b4-c8e51502ffb9",
    "papermill": {
     "duration": 0.004929,
     "end_time": "2024-10-26T09:43:48.919296",
     "exception": false,
     "start_time": "2024-10-26T09:43:48.914367",
     "status": "completed"
    },
    "tags": []
   },
   "outputs": [
    {
     "name": "stdout",
     "output_type": "stream",
     "text": [
      "\u001b[93m# 切割訓練、驗證和測試資料集\u001b[0m\n",
      "x_train.shape: (316, 1)\n",
      "y_train.shape: (316, 1)\n",
      "x_val.shape: (39, 1)\n",
      "y_val.shape: (39, 1)\n",
      "x_test.shape: (40, 1)\n",
      "y_test.shape: (40, 1)\n"
     ]
    }
   ],
   "source": [
    "x_train, y_train, x_val, y_val, x_test, y_test = \\\n",
    "    lstm.train_val_test_split(\n",
    "        x_norm,\n",
    "        train_split_rate = train_split_rate,\n",
    "        val_split_rate = val_split_rate\n",
    "    )"
   ]
  },
  {
   "cell_type": "markdown",
   "id": "1df597f8",
   "metadata": {
    "id": "AqdSy5pL-i7X",
    "papermill": {
     "duration": 0.002285,
     "end_time": "2024-10-26T09:43:48.923982",
     "exception": false,
     "start_time": "2024-10-26T09:43:48.921697",
     "status": "completed"
    },
    "tags": []
   },
   "source": [
    "# 將資料轉成 LSTM 模型所需資料格式(三維)"
   ]
  },
  {
   "cell_type": "code",
   "execution_count": 7,
   "id": "611c83dc",
   "metadata": {
    "colab": {
     "base_uri": "https://localhost:8080/"
    },
    "execution": {
     "iopub.execute_input": "2024-10-26T09:43:48.928878Z",
     "iopub.status.busy": "2024-10-26T09:43:48.928785Z",
     "iopub.status.idle": "2024-10-26T09:43:48.932373Z",
     "shell.execute_reply": "2024-10-26T09:43:48.932127Z"
    },
    "id": "Ugd7Ujt_kmJP",
    "outputId": "fe6a4a50-d74e-43a5-b96d-884373684359",
    "papermill": {
     "duration": 0.006747,
     "end_time": "2024-10-26T09:43:48.932954",
     "exception": false,
     "start_time": "2024-10-26T09:43:48.926207",
     "status": "completed"
    },
    "tags": []
   },
   "outputs": [
    {
     "name": "stdout",
     "output_type": "stream",
     "text": [
      "\u001b[93m# 將資料轉成 LSTM 模型所需資料格式，LSTM 的輸入必須是三維\u001b[0m\n",
      "====== Train DataSet ======\n",
      "訓練集 : x_k_lstm_train (筆數, 天數, 特徵數) : (301, 14, 1)\n",
      "訓練集 : y_k_lstm_train (筆數, 天數, 標籤數) : (301, 1)\n",
      "\u001b[93m# 將資料轉成 LSTM 模型所需資料格式，LSTM 的輸入必須是三維\u001b[0m\n",
      "====== Val DataSet ======\n",
      "驗證集 : x_k_lstm_test (筆數, 天數, 特徵數) : (24, 14, 1)\n",
      "驗證集 : y_k_lstm_test (筆數, 天數, 標籤數) : (24, 1)\n",
      "\u001b[93m# 將資料轉成 LSTM 模型所需資料格式，LSTM 的輸入必須是三維\u001b[0m\n",
      "====== Test DataSet ======\n",
      "測試集 : x_lstm_test (筆數, 天數, 特徵數) : (25, 14, 1)\n",
      "測試集 : y_lstm_test (筆數, 天數, 標籤數) : (25, 1)\n"
     ]
    }
   ],
   "source": [
    "# 訓練集\n",
    "x_lstm_train, y_lstm_train, _ = \\\n",
    "    lstm.reshape_data_for_lstm(\n",
    "        x_train, y_train,\n",
    "        date_array = None,\n",
    "        past_day = past_day,\n",
    "        future_day = future_day\n",
    "    )\n",
    "print('====== Train DataSet ======')\n",
    "print('訓練集 : x_k_lstm_train (筆數, 天數, 特徵數) :', x_lstm_train.shape)\n",
    "print('訓練集 : y_k_lstm_train (筆數, 天數, 標籤數) :', y_lstm_train.shape)\n",
    "\n",
    "# 驗證集\n",
    "x_lstm_val, y_lstm_val, _ = \\\n",
    "    lstm.reshape_data_for_lstm(\n",
    "        x_val, y_val,\n",
    "        date_array = None,\n",
    "        past_day = past_day,\n",
    "        future_day = future_day\n",
    "    )\n",
    "print('====== Val DataSet ======')\n",
    "print('驗證集 : x_k_lstm_test (筆數, 天數, 特徵數) :', x_lstm_val.shape)\n",
    "print('驗證集 : y_k_lstm_test (筆數, 天數, 標籤數) :', y_lstm_val.shape)\n",
    "\n",
    "# 測試集\n",
    "x_lstm_test, y_lstm_test, _ = \\\n",
    "    lstm.reshape_data_for_lstm(\n",
    "        x_test, y_test,\n",
    "        date_array = None,\n",
    "        past_day = past_day,\n",
    "        future_day = future_day\n",
    "    )\n",
    "print('====== Test DataSet ======')\n",
    "print('測試集 : x_lstm_test (筆數, 天數, 特徵數) :', x_lstm_test.shape)\n",
    "print('測試集 : y_lstm_test (筆數, 天數, 標籤數) :', y_lstm_test.shape)"
   ]
  },
  {
   "cell_type": "markdown",
   "id": "7e0e0848",
   "metadata": {
    "id": "hptadCRG-mnK",
    "papermill": {
     "duration": 0.002328,
     "end_time": "2024-10-26T09:43:48.937676",
     "exception": false,
     "start_time": "2024-10-26T09:43:48.935348",
     "status": "completed"
    },
    "tags": []
   },
   "source": [
    "# 定義 Model"
   ]
  },
  {
   "cell_type": "code",
   "execution_count": 8,
   "id": "e0f1ee73",
   "metadata": {
    "colab": {
     "base_uri": "https://localhost:8080/",
     "height": 338
    },
    "execution": {
     "iopub.execute_input": "2024-10-26T09:43:48.942710Z",
     "iopub.status.busy": "2024-10-26T09:43:48.942571Z",
     "iopub.status.idle": "2024-10-26T09:43:48.975683Z",
     "shell.execute_reply": "2024-10-26T09:43:48.975481Z"
    },
    "id": "5xqMw5ZhrrxC",
    "outputId": "ca3118aa-96c7-4e80-9b3d-5451af076422",
    "papermill": {
     "duration": 0.036371,
     "end_time": "2024-10-26T09:43:48.976371",
     "exception": false,
     "start_time": "2024-10-26T09:43:48.940000",
     "status": "completed"
    },
    "tags": []
   },
   "outputs": [
    {
     "name": "stdout",
     "output_type": "stream",
     "text": [
      "\u001b[93m# 定義 Model：1\u001b[0m\n",
      "LSTM\n"
     ]
    },
    {
     "data": {
      "text/html": [
       "<pre style=\"white-space:pre;overflow-x:auto;line-height:normal;font-family:Menlo,'DejaVu Sans Mono',consolas,'Courier New',monospace\"><span style=\"font-weight: bold\">Model: \"sequential\"</span>\n",
       "</pre>\n"
      ],
      "text/plain": [
       "\u001b[1mModel: \"sequential\"\u001b[0m\n"
      ]
     },
     "metadata": {},
     "output_type": "display_data"
    },
    {
     "data": {
      "text/html": [
       "<pre style=\"white-space:pre;overflow-x:auto;line-height:normal;font-family:Menlo,'DejaVu Sans Mono',consolas,'Courier New',monospace\">┏━━━━━━━━━━━━━━━━━━━━━━━━━━━━━━━━━━━━━━┳━━━━━━━━━━━━━━━━━━━━━━━━━━━━━┳━━━━━━━━━━━━━━━━━┓\n",
       "┃<span style=\"font-weight: bold\"> Layer (type)                         </span>┃<span style=\"font-weight: bold\"> Output Shape                </span>┃<span style=\"font-weight: bold\">         Param # </span>┃\n",
       "┡━━━━━━━━━━━━━━━━━━━━━━━━━━━━━━━━━━━━━━╇━━━━━━━━━━━━━━━━━━━━━━━━━━━━━╇━━━━━━━━━━━━━━━━━┩\n",
       "│ lstm (<span style=\"color: #0087ff; text-decoration-color: #0087ff\">LSTM</span>)                          │ (<span style=\"color: #00d7ff; text-decoration-color: #00d7ff\">None</span>, <span style=\"color: #00af00; text-decoration-color: #00af00\">100</span>)                 │          <span style=\"color: #00af00; text-decoration-color: #00af00\">40,800</span> │\n",
       "├──────────────────────────────────────┼─────────────────────────────┼─────────────────┤\n",
       "│ dense (<span style=\"color: #0087ff; text-decoration-color: #0087ff\">Dense</span>)                        │ (<span style=\"color: #00d7ff; text-decoration-color: #00d7ff\">None</span>, <span style=\"color: #00af00; text-decoration-color: #00af00\">150</span>)                 │          <span style=\"color: #00af00; text-decoration-color: #00af00\">15,150</span> │\n",
       "├──────────────────────────────────────┼─────────────────────────────┼─────────────────┤\n",
       "│ dense_1 (<span style=\"color: #0087ff; text-decoration-color: #0087ff\">Dense</span>)                      │ (<span style=\"color: #00d7ff; text-decoration-color: #00d7ff\">None</span>, <span style=\"color: #00af00; text-decoration-color: #00af00\">150</span>)                 │          <span style=\"color: #00af00; text-decoration-color: #00af00\">22,650</span> │\n",
       "├──────────────────────────────────────┼─────────────────────────────┼─────────────────┤\n",
       "│ dense_2 (<span style=\"color: #0087ff; text-decoration-color: #0087ff\">Dense</span>)                      │ (<span style=\"color: #00d7ff; text-decoration-color: #00d7ff\">None</span>, <span style=\"color: #00af00; text-decoration-color: #00af00\">1</span>)                   │             <span style=\"color: #00af00; text-decoration-color: #00af00\">151</span> │\n",
       "└──────────────────────────────────────┴─────────────────────────────┴─────────────────┘\n",
       "</pre>\n"
      ],
      "text/plain": [
       "┏━━━━━━━━━━━━━━━━━━━━━━━━━━━━━━━━━━━━━━┳━━━━━━━━━━━━━━━━━━━━━━━━━━━━━┳━━━━━━━━━━━━━━━━━┓\n",
       "┃\u001b[1m \u001b[0m\u001b[1mLayer (type)                        \u001b[0m\u001b[1m \u001b[0m┃\u001b[1m \u001b[0m\u001b[1mOutput Shape               \u001b[0m\u001b[1m \u001b[0m┃\u001b[1m \u001b[0m\u001b[1m        Param #\u001b[0m\u001b[1m \u001b[0m┃\n",
       "┡━━━━━━━━━━━━━━━━━━━━━━━━━━━━━━━━━━━━━━╇━━━━━━━━━━━━━━━━━━━━━━━━━━━━━╇━━━━━━━━━━━━━━━━━┩\n",
       "│ lstm (\u001b[38;5;33mLSTM\u001b[0m)                          │ (\u001b[38;5;45mNone\u001b[0m, \u001b[38;5;34m100\u001b[0m)                 │          \u001b[38;5;34m40,800\u001b[0m │\n",
       "├──────────────────────────────────────┼─────────────────────────────┼─────────────────┤\n",
       "│ dense (\u001b[38;5;33mDense\u001b[0m)                        │ (\u001b[38;5;45mNone\u001b[0m, \u001b[38;5;34m150\u001b[0m)                 │          \u001b[38;5;34m15,150\u001b[0m │\n",
       "├──────────────────────────────────────┼─────────────────────────────┼─────────────────┤\n",
       "│ dense_1 (\u001b[38;5;33mDense\u001b[0m)                      │ (\u001b[38;5;45mNone\u001b[0m, \u001b[38;5;34m150\u001b[0m)                 │          \u001b[38;5;34m22,650\u001b[0m │\n",
       "├──────────────────────────────────────┼─────────────────────────────┼─────────────────┤\n",
       "│ dense_2 (\u001b[38;5;33mDense\u001b[0m)                      │ (\u001b[38;5;45mNone\u001b[0m, \u001b[38;5;34m1\u001b[0m)                   │             \u001b[38;5;34m151\u001b[0m │\n",
       "└──────────────────────────────────────┴─────────────────────────────┴─────────────────┘\n"
      ]
     },
     "metadata": {},
     "output_type": "display_data"
    },
    {
     "data": {
      "text/html": [
       "<pre style=\"white-space:pre;overflow-x:auto;line-height:normal;font-family:Menlo,'DejaVu Sans Mono',consolas,'Courier New',monospace\"><span style=\"font-weight: bold\"> Total params: </span><span style=\"color: #00af00; text-decoration-color: #00af00\">78,751</span> (307.62 KB)\n",
       "</pre>\n"
      ],
      "text/plain": [
       "\u001b[1m Total params: \u001b[0m\u001b[38;5;34m78,751\u001b[0m (307.62 KB)\n"
      ]
     },
     "metadata": {},
     "output_type": "display_data"
    },
    {
     "data": {
      "text/html": [
       "<pre style=\"white-space:pre;overflow-x:auto;line-height:normal;font-family:Menlo,'DejaVu Sans Mono',consolas,'Courier New',monospace\"><span style=\"font-weight: bold\"> Trainable params: </span><span style=\"color: #00af00; text-decoration-color: #00af00\">78,751</span> (307.62 KB)\n",
       "</pre>\n"
      ],
      "text/plain": [
       "\u001b[1m Trainable params: \u001b[0m\u001b[38;5;34m78,751\u001b[0m (307.62 KB)\n"
      ]
     },
     "metadata": {},
     "output_type": "display_data"
    },
    {
     "data": {
      "text/html": [
       "<pre style=\"white-space:pre;overflow-x:auto;line-height:normal;font-family:Menlo,'DejaVu Sans Mono',consolas,'Courier New',monospace\"><span style=\"font-weight: bold\"> Non-trainable params: </span><span style=\"color: #00af00; text-decoration-color: #00af00\">0</span> (0.00 B)\n",
       "</pre>\n"
      ],
      "text/plain": [
       "\u001b[1m Non-trainable params: \u001b[0m\u001b[38;5;34m0\u001b[0m (0.00 B)\n"
      ]
     },
     "metadata": {},
     "output_type": "display_data"
    }
   ],
   "source": [
    "# 定義 Model\n",
    "model = lstm.build_model(\n",
    "    model_type = model_type,\n",
    "    time_step = past_day,\n",
    "    n_predictions = future_day\n",
    ")"
   ]
  },
  {
   "cell_type": "markdown",
   "id": "de63d29b",
   "metadata": {
    "id": "8aZNVtRBbDOm",
    "papermill": {
     "duration": 0.002561,
     "end_time": "2024-10-26T09:43:48.981866",
     "exception": false,
     "start_time": "2024-10-26T09:43:48.979305",
     "status": "completed"
    },
    "tags": []
   },
   "source": [
    "# 訓練"
   ]
  },
  {
   "cell_type": "code",
   "execution_count": 9,
   "id": "25e06d8c",
   "metadata": {
    "colab": {
     "base_uri": "https://localhost:8080/"
    },
    "execution": {
     "iopub.execute_input": "2024-10-26T09:43:48.987375Z",
     "iopub.status.busy": "2024-10-26T09:43:48.987273Z",
     "iopub.status.idle": "2024-10-26T09:43:56.157346Z",
     "shell.execute_reply": "2024-10-26T09:43:56.157041Z"
    },
    "id": "hMXCRbjlZdei",
    "outputId": "80def6f9-aebc-4e92-b983-812004825ade",
    "papermill": {
     "duration": 7.173807,
     "end_time": "2024-10-26T09:43:56.158245",
     "exception": false,
     "start_time": "2024-10-26T09:43:48.984438",
     "status": "completed"
    },
    "tags": []
   },
   "outputs": [
    {
     "name": "stdout",
     "output_type": "stream",
     "text": [
      "\u001b[93m# 訓練 Model\u001b[0m\n",
      "EarlyStopping => mointor: val_loss，patience: 50\n"
     ]
    }
   ],
   "source": [
    "train_history = lstm.model_fit(\n",
    "    model = model,\n",
    "    batch_size = batch_size,\n",
    "    x_train = x_lstm_train,\n",
    "    y_train = y_lstm_train,\n",
    "    x_val = x_lstm_val,\n",
    "    y_val = y_lstm_val,\n",
    ")"
   ]
  },
  {
   "cell_type": "markdown",
   "id": "f1e336c2",
   "metadata": {
    "id": "nQBChPvvFP5d",
    "papermill": {
     "duration": 0.002602,
     "end_time": "2024-10-26T09:43:56.163794",
     "exception": false,
     "start_time": "2024-10-26T09:43:56.161192",
     "status": "completed"
    },
    "tags": []
   },
   "source": [
    "# 儲存模型"
   ]
  },
  {
   "cell_type": "code",
   "execution_count": 10,
   "id": "10441608",
   "metadata": {
    "colab": {
     "base_uri": "https://localhost:8080/"
    },
    "execution": {
     "iopub.execute_input": "2024-10-26T09:43:56.169676Z",
     "iopub.status.busy": "2024-10-26T09:43:56.169467Z",
     "iopub.status.idle": "2024-10-26T09:43:56.184062Z",
     "shell.execute_reply": "2024-10-26T09:43:56.183840Z"
    },
    "id": "QpQTO-ziFTSo",
    "outputId": "b140abd3-0a2e-45ea-a319-dff8a69712d3",
    "papermill": {
     "duration": 0.018156,
     "end_time": "2024-10-26T09:43:56.184688",
     "exception": false,
     "start_time": "2024-10-26T09:43:56.166532",
     "status": "completed"
    },
    "tags": []
   },
   "outputs": [
    {
     "name": "stdout",
     "output_type": "stream",
     "text": [
      "儲存模型到 NoDecomp/_Model/GroupCount_mt1_data1_batch14.model.keras\n"
     ]
    }
   ],
   "source": [
    "model.save(model_file_name)\n",
    "print(f'儲存模型到 {model_file_name}')"
   ]
  },
  {
   "cell_type": "markdown",
   "id": "c6667e92",
   "metadata": {
    "id": "StSWwUTn-s3u",
    "papermill": {
     "duration": 0.002619,
     "end_time": "2024-10-26T09:43:56.190143",
     "exception": false,
     "start_time": "2024-10-26T09:43:56.187524",
     "status": "completed"
    },
    "tags": []
   },
   "source": [
    "# 預測"
   ]
  },
  {
   "cell_type": "code",
   "execution_count": 11,
   "id": "8982e28a",
   "metadata": {
    "colab": {
     "base_uri": "https://localhost:8080/"
    },
    "execution": {
     "iopub.execute_input": "2024-10-26T09:43:56.195956Z",
     "iopub.status.busy": "2024-10-26T09:43:56.195852Z",
     "iopub.status.idle": "2024-10-26T09:43:56.364503Z",
     "shell.execute_reply": "2024-10-26T09:43:56.364244Z"
    },
    "id": "63_mpMrE2toM",
    "outputId": "f1aba8cf-37a1-4ca1-f8cd-3d9c9e7b9b59",
    "papermill": {
     "duration": 0.172352,
     "end_time": "2024-10-26T09:43:56.365213",
     "exception": false,
     "start_time": "2024-10-26T09:43:56.192861",
     "status": "completed"
    },
    "tags": []
   },
   "outputs": [
    {
     "name": "stdout",
     "output_type": "stream",
     "text": [
      "\u001b[93m# 預測\u001b[0m\n",
      "\r",
      "\u001b[1m 1/10\u001b[0m \u001b[32m━━\u001b[0m\u001b[37m━━━━━━━━━━━━━━━━━━\u001b[0m \u001b[1m0s\u001b[0m 54ms/step"
     ]
    },
    {
     "name": "stdout",
     "output_type": "stream",
     "text": [
      "\b\b\b\b\b\b\b\b\b\b\b\b\b\b\b\b\b\b\b\b\b\b\b\b\b\b\b\b\b\b\b\b\b\b\b\b\b\b\b\r",
      "\u001b[1m10/10\u001b[0m \u001b[32m━━━━━━━━━━━━━━━━━━━━\u001b[0m\u001b[37m\u001b[0m \u001b[1m0s\u001b[0m 7ms/step "
     ]
    },
    {
     "name": "stdout",
     "output_type": "stream",
     "text": [
      "\b\b\b\b\b\b\b\b\b\b\b\b\b\b\b\b\b\b\b\b\b\b\b\b\b\b\b\b\b\b\b\b\b\b\b\b\b\b\r",
      "\u001b[1m10/10\u001b[0m \u001b[32m━━━━━━━━━━━━━━━━━━━━\u001b[0m\u001b[37m\u001b[0m \u001b[1m0s\u001b[0m 7ms/step\n"
     ]
    },
    {
     "name": "stdout",
     "output_type": "stream",
     "text": [
      "預測 shape : (301, 1)\n",
      "預測 train.shape : (301, 1)\n",
      "\u001b[93m# 預測\u001b[0m\n",
      "\r",
      "\u001b[1m1/1\u001b[0m \u001b[32m━━━━━━━━━━━━━━━━━━━━\u001b[0m\u001b[37m\u001b[0m \u001b[1m0s\u001b[0m 7ms/step"
     ]
    },
    {
     "name": "stdout",
     "output_type": "stream",
     "text": [
      "\b\b\b\b\b\b\b\b\b\b\b\b\b\b\b\b\b\b\b\b\b\b\b\b\b\b\b\b\b\b\b\b\b\b\b\b\r",
      "\u001b[1m1/1\u001b[0m \u001b[32m━━━━━━━━━━━━━━━━━━━━\u001b[0m\u001b[37m\u001b[0m \u001b[1m0s\u001b[0m 8ms/step\n"
     ]
    },
    {
     "name": "stdout",
     "output_type": "stream",
     "text": [
      "預測 shape : (24, 1)\n",
      "預測 val.shape : (24, 1)\n",
      "\u001b[93m# 預測\u001b[0m\n",
      "\r",
      "\u001b[1m1/1\u001b[0m \u001b[32m━━━━━━━━━━━━━━━━━━━━\u001b[0m\u001b[37m\u001b[0m \u001b[1m0s\u001b[0m 7ms/step"
     ]
    },
    {
     "name": "stdout",
     "output_type": "stream",
     "text": [
      "\b\b\b\b\b\b\b\b\b\b\b\b\b\b\b\b\b\b\b\b\b\b\b\b\b\b\b\b\b\b\b\b\b\b\b\b\r",
      "\u001b[1m1/1\u001b[0m \u001b[32m━━━━━━━━━━━━━━━━━━━━\u001b[0m\u001b[37m\u001b[0m \u001b[1m0s\u001b[0m 8ms/step\n"
     ]
    },
    {
     "name": "stdout",
     "output_type": "stream",
     "text": [
      "預測 shape : (25, 1)\n",
      "預測 test.shape : (25, 1)\n"
     ]
    }
   ],
   "source": [
    "predict_train = lstm.predict(model, x_lstm_train)\n",
    "print(f'預測 train.shape : {predict_train.shape}')\n",
    "\n",
    "predict_val = lstm.predict(model, x_lstm_val)\n",
    "print(f'預測 val.shape : {predict_val.shape}')\n",
    "\n",
    "predict_test = lstm.predict(model, x_lstm_test)\n",
    "print(f'預測 test.shape : {predict_test.shape}')"
   ]
  },
  {
   "cell_type": "markdown",
   "id": "e5308315",
   "metadata": {
    "id": "aeV6X1B3-uyx",
    "papermill": {
     "duration": 0.002824,
     "end_time": "2024-10-26T09:43:56.371151",
     "exception": false,
     "start_time": "2024-10-26T09:43:56.368327",
     "status": "completed"
    },
    "tags": []
   },
   "source": [
    "# 回復預測資料值為原始數據的規模"
   ]
  },
  {
   "cell_type": "code",
   "execution_count": 12,
   "id": "d6dd68f7",
   "metadata": {
    "colab": {
     "base_uri": "https://localhost:8080/"
    },
    "execution": {
     "iopub.execute_input": "2024-10-26T09:43:56.377119Z",
     "iopub.status.busy": "2024-10-26T09:43:56.377011Z",
     "iopub.status.idle": "2024-10-26T09:43:56.379479Z",
     "shell.execute_reply": "2024-10-26T09:43:56.379268Z"
    },
    "id": "Ra1FCvHh4exK",
    "outputId": "203c8f5c-3d4d-4d89-b130-7ba1bfb7914c",
    "papermill": {
     "duration": 0.006136,
     "end_time": "2024-10-26T09:43:56.380048",
     "exception": false,
     "start_time": "2024-10-26T09:43:56.373912",
     "status": "completed"
    },
    "tags": []
   },
   "outputs": [
    {
     "name": "stdout",
     "output_type": "stream",
     "text": [
      "\u001b[93m# 回復預測資料值為原始數據的規模\u001b[0m\n",
      "\u001b[93m# 回復預測資料值為原始數據的規模\u001b[0m\n",
      "\u001b[93m# 回復預測資料值為原始數據的規模\u001b[0m\n"
     ]
    }
   ],
   "source": [
    "# 訓練\n",
    "predict_inverse_train, actual_inverse_train, predict_train, actual_train = \\\n",
    "    lstm.denormalize_and_reshape_back(\n",
    "        y_predict = predict_train,\n",
    "        y_lstm_actual = y_lstm_train,\n",
    "        y_scaler = y_scaler,\n",
    "        n_predictions = future_day\n",
    "    )\n",
    "\n",
    "# 驗證\n",
    "predict_inverse_val, actual_inverse_val, predict_val, actual_val = \\\n",
    "    lstm.denormalize_and_reshape_back(\n",
    "        y_predict = predict_val,\n",
    "        y_lstm_actual = y_lstm_val,\n",
    "        y_scaler = y_scaler,\n",
    "        n_predictions = future_day\n",
    "    )\n",
    "\n",
    "# 測試\n",
    "predict_inverse_test, actual_inverse_test, predict_test, actual_test = \\\n",
    "    lstm.denormalize_and_reshape_back(\n",
    "        y_predict = predict_test,\n",
    "        y_lstm_actual = y_lstm_test,\n",
    "        y_scaler = y_scaler,\n",
    "        n_predictions = future_day\n",
    "    )"
   ]
  },
  {
   "cell_type": "markdown",
   "id": "4416eb75",
   "metadata": {
    "id": "QFm-OEs4-xya",
    "papermill": {
     "duration": 0.002854,
     "end_time": "2024-10-26T09:43:56.385974",
     "exception": false,
     "start_time": "2024-10-26T09:43:56.383120",
     "status": "completed"
    },
    "tags": []
   },
   "source": [
    "# 查看訓練 & 驗證 & 測試集評估數據"
   ]
  },
  {
   "cell_type": "code",
   "execution_count": 13,
   "id": "41938ac4",
   "metadata": {
    "colab": {
     "base_uri": "https://localhost:8080/"
    },
    "execution": {
     "iopub.execute_input": "2024-10-26T09:43:56.392058Z",
     "iopub.status.busy": "2024-10-26T09:43:56.391961Z",
     "iopub.status.idle": "2024-10-26T09:43:56.472710Z",
     "shell.execute_reply": "2024-10-26T09:43:56.472464Z"
    },
    "id": "Cq0TR64Z47Fu",
    "outputId": "cd9e6803-a8bb-4e49-a9b1-0324b8627ee4",
    "papermill": {
     "duration": 0.084497,
     "end_time": "2024-10-26T09:43:56.473339",
     "exception": false,
     "start_time": "2024-10-26T09:43:56.388842",
     "status": "completed"
    },
    "tags": []
   },
   "outputs": [
    {
     "name": "stdout",
     "output_type": "stream",
     "text": [
      "\u001b[93m# 查看訓練 & 驗證 & 測試集評估數據\u001b[0m\n",
      "\u001b[31m------------------------------------------------------------------------\u001b[0m\n",
      "\u001b[31mTrain Evaluate\u001b[0m\n",
      "\u001b[31m------------------------------------------------------------------------\u001b[0m\n"
     ]
    },
    {
     "name": "stdout",
     "output_type": "stream",
     "text": [
      "\r",
      "\u001b[1m 1/10\u001b[0m \u001b[32m━━\u001b[0m\u001b[37m━━━━━━━━━━━━━━━━━━\u001b[0m \u001b[1m0s\u001b[0m 8ms/step - loss: 0.0018 - mean_absolute_percentage_error: 26.2690"
     ]
    },
    {
     "name": "stdout",
     "output_type": "stream",
     "text": [
      "\b\b\b\b\b\b\b\b\b\b\b\b\b\b\b\b\b\b\b\b\b\b\b\b\b\b\b\b\b\b\b\b\b\b\b\b\b\b\b\b\b\b\b\b\b\b\b\b\b\b\b\b\b\b\b\b\b\b\b\b\b\b\b\b\b\b\b\b\b\b\b\b\b\b\b\b\b\b\b\b\b\b\b\b\b\b\b\b\b\b\b\b\b\b\b\r",
      "\u001b[1m10/10\u001b[0m \u001b[32m━━━━━━━━━━━━━━━━━━━━\u001b[0m\u001b[37m\u001b[0m \u001b[1m0s\u001b[0m 1ms/step - loss: 0.0072 - mean_absolute_percentage_error: 13759.4053\n"
     ]
    },
    {
     "name": "stdout",
     "output_type": "stream",
     "text": [
      "--- 訓練值比較 --- \n",
      "Actual shape: (301, 1), Predict shape: (301, 1)\n",
      "MAE:0.03202，MAPE:339936996464.827，MSE:0.00488，RMSE:0.06985，R square:0.26271\n",
      "--- 原始值比較 --- \n",
      "Actual shape: (301, 1), Predict shape: (301, 1)\n",
      "MAE:6256.41929，MAPE:0.2509，MSE:186270221.10412，RMSE:13648.08489，R square:0.26271\n",
      "\n",
      "\u001b[31m------------------------------------------------------------------------\u001b[0m\n",
      "\u001b[31mVal Evaluate\u001b[0m\n",
      "\u001b[31m------------------------------------------------------------------------\u001b[0m\n",
      "\r",
      "\u001b[1m1/1\u001b[0m \u001b[32m━━━━━━━━━━━━━━━━━━━━\u001b[0m\u001b[37m\u001b[0m \u001b[1m0s\u001b[0m 8ms/step - loss: 0.0021 - mean_absolute_percentage_error: 31.7754"
     ]
    },
    {
     "name": "stdout",
     "output_type": "stream",
     "text": [
      "\b\b\b\b\b\b\b\b\b\b\b\b\b\b\b\b\b\b\b\b\b\b\b\b\b\b\b\b\b\b\b\b\b\b\b\b\b\b\b\b\b\b\b\b\b\b\b\b\b\b\b\b\b\b\b\b\b\b\b\b\b\b\b\b\b\b\b\b\b\b\b\b\b\b\b\b\b\b\b\b\b\b\b\b\b\b\b\b\b\b\b\b\b\r",
      "\u001b[1m1/1\u001b[0m \u001b[32m━━━━━━━━━━━━━━━━━━━━\u001b[0m\u001b[37m\u001b[0m \u001b[1m0s\u001b[0m 8ms/step - loss: 0.0021 - mean_absolute_percentage_error: 31.7754\n"
     ]
    },
    {
     "name": "stdout",
     "output_type": "stream",
     "text": [
      "--- 正規化比較 --- \n",
      "Actual shape: (24, 1), Predict shape: (24, 1)\n",
      "MAE:0.03444，MAPE:0.31775，MSE:0.0021，RMSE:0.04578，R square:-0.68402\n",
      "--- 原始值比較 --- \n",
      "Actual shape: (24, 1), Predict shape: (24, 1)\n",
      "MAE:6729.13688，MAPE:0.25147，MSE:80011556.04444，RMSE:8944.91789，R square:-0.68402\n",
      "\n",
      "\u001b[31m------------------------------------------------------------------------\u001b[0m\n",
      "\u001b[31mTest Evaluate\u001b[0m\n",
      "\u001b[31m------------------------------------------------------------------------\u001b[0m\n",
      "\r",
      "\u001b[1m1/1\u001b[0m \u001b[32m━━━━━━━━━━━━━━━━━━━━\u001b[0m\u001b[37m\u001b[0m \u001b[1m0s\u001b[0m 8ms/step - loss: 0.0141 - mean_absolute_percentage_error: 55.6730"
     ]
    },
    {
     "name": "stdout",
     "output_type": "stream",
     "text": [
      "\b\b\b\b\b\b\b\b\b\b\b\b\b\b\b\b\b\b\b\b\b\b\b\b\b\b\b\b\b\b\b\b\b\b\b\b\b\b\b\b\b\b\b\b\b\b\b\b\b\b\b\b\b\b\b\b\b\b\b\b\b\b\b\b\b\b\b\b\b\b\b\b\b\b\b\b\b\b\b\b\b\b\b\b\b\b\b\b\b\b\b\b\b\r",
      "\u001b[1m1/1\u001b[0m \u001b[32m━━━━━━━━━━━━━━━━━━━━\u001b[0m\u001b[37m\u001b[0m \u001b[1m0s\u001b[0m 9ms/step - loss: 0.0141 - mean_absolute_percentage_error: 55.6730\n"
     ]
    },
    {
     "name": "stdout",
     "output_type": "stream",
     "text": [
      "--- 正規化比較 --- \n",
      "Actual shape: (25, 1), Predict shape: (25, 1)\n",
      "MAE:0.09114，MAPE:0.55673，MSE:0.01412，RMSE:0.11881，R square:0.17366\n",
      "--- 原始值比較 --- \n",
      "Actual shape: (25, 1), Predict shape: (25, 1)\n",
      "MAE:17807.51152，MAPE:0.43863，MSE:538911990.78367，RMSE:23214.47804，R square:0.17366\n",
      "\n"
     ]
    }
   ],
   "source": [
    "# 查看訓練 & 驗證 & 測試集評估數據\n",
    "print('\\033[93m# 查看訓練 & 驗證 & 測試集評估數據\\x1b[0m')\n",
    "\n",
    "print('\\x1b[31m------------------------------------------------------------------------\\x1b[0m')\n",
    "print('\\x1b[31mTrain Evaluate\\x1b[0m')\n",
    "print('\\x1b[31m------------------------------------------------------------------------\\x1b[0m')\n",
    "lstm.evaluation(model, x_lstm_train, y_lstm_train)\n",
    "print('--- 訓練值比較 --- ')\n",
    "lstm.score(actual_train, predict_train)\n",
    "print('--- 原始值比較 --- ')\n",
    "mae_train, mape_train = lstm.score(actual_inverse_train, predict_inverse_train)\n",
    "print('')\n",
    "\n",
    "print('\\x1b[31m------------------------------------------------------------------------\\x1b[0m')\n",
    "print('\\x1b[31mVal Evaluate\\x1b[0m')\n",
    "print('\\x1b[31m------------------------------------------------------------------------\\x1b[0m')\n",
    "lstm.evaluation(model, x_lstm_val, y_lstm_val)\n",
    "print('--- 正規化比較 --- ')\n",
    "lstm.score(actual_val, predict_val)\n",
    "print('--- 原始值比較 --- ')\n",
    "mae_val, mape_val = lstm.score(actual_inverse_val, predict_inverse_val)\n",
    "print('')\n",
    "\n",
    "print('\\x1b[31m------------------------------------------------------------------------\\x1b[0m')\n",
    "print('\\x1b[31mTest Evaluate\\x1b[0m')\n",
    "print('\\x1b[31m------------------------------------------------------------------------\\x1b[0m')\n",
    "evaluations = lstm.evaluation(model, x_lstm_test, y_lstm_test)\n",
    "print('--- 正規化比較 --- ')\n",
    "lstm.score(actual_test, predict_test)\n",
    "print('--- 原始值比較 --- ')\n",
    "mae_test, mape_test = lstm.score(actual_inverse_test, predict_inverse_test)\n",
    "print('')"
   ]
  },
  {
   "cell_type": "markdown",
   "id": "fd8c697c",
   "metadata": {
    "id": "D9aEVglH1d_j",
    "papermill": {
     "duration": 0.003026,
     "end_time": "2024-10-26T09:43:56.479704",
     "exception": false,
     "start_time": "2024-10-26T09:43:56.476678",
     "status": "completed"
    },
    "tags": []
   },
   "source": [
    "# 顯示預測圖表"
   ]
  },
  {
   "cell_type": "code",
   "execution_count": 14,
   "id": "0d54db61",
   "metadata": {
    "colab": {
     "base_uri": "https://localhost:8080/",
     "height": 291
    },
    "execution": {
     "iopub.execute_input": "2024-10-26T09:43:56.486131Z",
     "iopub.status.busy": "2024-10-26T09:43:56.486030Z",
     "iopub.status.idle": "2024-10-26T09:43:56.536786Z",
     "shell.execute_reply": "2024-10-26T09:43:56.536557Z"
    },
    "id": "a1xSXAxbkOvj",
    "outputId": "c1fae3f9-bcaf-44c2-b9c7-8dfd10792ac1",
    "papermill": {
     "duration": 0.054813,
     "end_time": "2024-10-26T09:43:56.537520",
     "exception": false,
     "start_time": "2024-10-26T09:43:56.482707",
     "status": "completed"
    },
    "tags": []
   },
   "outputs": [
    {
     "data": {
      "image/png": "[encoded data removed]",
      "text/plain": [
       "<Figure size 800x300 with 1 Axes>"
      ]
     },
     "metadata": {},
     "output_type": "display_data"
    }
   ],
   "source": [
    "plt.figure(figsize=(8, 3))\n",
    "plt.plot(y_df.values)\n",
    "plt.show()"
   ]
  },
  {
   "cell_type": "markdown",
   "id": "61a80670",
   "metadata": {
    "id": "fE92ElwDChF2",
    "papermill": {
     "duration": 0.003399,
     "end_time": "2024-10-26T09:43:56.544719",
     "exception": false,
     "start_time": "2024-10-26T09:43:56.541320",
     "status": "completed"
    },
    "tags": []
   },
   "source": [
    "## 載入原始數據切割成 LSTM 格式的區段"
   ]
  },
  {
   "cell_type": "code",
   "execution_count": 15,
   "id": "f2abd577",
   "metadata": {
    "colab": {
     "base_uri": "https://localhost:8080/"
    },
    "execution": {
     "iopub.execute_input": "2024-10-26T09:43:56.551931Z",
     "iopub.status.busy": "2024-10-26T09:43:56.551816Z",
     "iopub.status.idle": "2024-10-26T09:43:56.553807Z",
     "shell.execute_reply": "2024-10-26T09:43:56.553607Z"
    },
    "id": "H7WUuzYABTpe",
    "outputId": "e9f42d3a-810d-44ba-9f30-ffd99a2c2985",
    "papermill": {
     "duration": 0.006321,
     "end_time": "2024-10-26T09:43:56.554431",
     "exception": false,
     "start_time": "2024-10-26T09:43:56.548110",
     "status": "completed"
    },
    "tags": []
   },
   "outputs": [
    {
     "name": "stdout",
     "output_type": "stream",
     "text": [
      "\u001b[93m# 切割訓練、驗證和測試資料集\u001b[0m\n",
      "x_train.shape: (316, 1)\n",
      "y_train.shape: (316, 1)\n",
      "x_val.shape: (39, 1)\n",
      "y_val.shape: (39, 1)\n",
      "x_test.shape: (40, 1)\n",
      "y_test.shape: (40, 1)\n"
     ]
    }
   ],
   "source": [
    "# 這邊只是為了驗證數據的正確性\n",
    "x_train_origin, y_train_origin, x_val_origin, y_val_origin, x_test_origin, y_test_origin = \\\n",
    "    lstm.train_val_test_split(\n",
    "        y_df.values,\n",
    "        train_split_rate = train_split_rate,\n",
    "        val_split_rate = val_split_rate\n",
    "    )"
   ]
  },
  {
   "cell_type": "markdown",
   "id": "cacd2f51",
   "metadata": {
    "id": "94Q14TQA69Ef",
    "papermill": {
     "duration": 0.003424,
     "end_time": "2024-10-26T09:43:56.561483",
     "exception": false,
     "start_time": "2024-10-26T09:43:56.558059",
     "status": "completed"
    },
    "tags": []
   },
   "source": [
    "## 訓練集"
   ]
  },
  {
   "cell_type": "code",
   "execution_count": 16,
   "id": "eb7ccba2",
   "metadata": {
    "colab": {
     "base_uri": "https://localhost:8080/",
     "height": 555
    },
    "execution": {
     "iopub.execute_input": "2024-10-26T09:43:56.568747Z",
     "iopub.status.busy": "2024-10-26T09:43:56.568646Z",
     "iopub.status.idle": "2024-10-26T09:43:56.721920Z",
     "shell.execute_reply": "2024-10-26T09:43:56.721685Z"
    },
    "id": "OAefcLYb6SOc",
    "outputId": "ed812b69-4c9b-4bbe-b47f-650a806dc9b5",
    "papermill": {
     "duration": 0.157625,
     "end_time": "2024-10-26T09:43:56.722586",
     "exception": false,
     "start_time": "2024-10-26T09:43:56.564961",
     "status": "completed"
    },
    "tags": []
   },
   "outputs": [
    {
     "name": "stdout",
     "output_type": "stream",
     "text": [
      "原始資料 (316, 1)\n",
      "[[4825]\n",
      " [4981]\n",
      " [4912]]\n",
      "還原原始資料 (301, 1)\n",
      "[[4981.]\n",
      " [4912.]]\n"
     ]
    },
    {
     "data": {
      "image/png": "[encoded data removed]",
      "text/plain": [
       "<Figure size 800x200 with 1 Axes>"
      ]
     },
     "metadata": {},
     "output_type": "display_data"
    },
    {
     "data": {
      "image/png": "[encoded data removed]",
      "text/plain": [
       "<Figure size 800x200 with 1 Axes>"
      ]
     },
     "metadata": {},
     "output_type": "display_data"
    }
   ],
   "source": [
    "print('原始資料' , y_train_origin.shape)\n",
    "print(y_train_origin[-3:])\n",
    "\n",
    "print('還原原始資料', actual_inverse_train.shape)\n",
    "print(actual_inverse_train[-2:])\n",
    "\n",
    "lstm.show_predict_chart(\n",
    "    actual = actual_inverse_train,\n",
    "    predict = predict_inverse_train,\n",
    "    title = f'Train {labels[0]}:{predicteds}, MAE:{round(mae_train, 5)}, MAPE:{round(mape_train, 5)}'\n",
    ")"
   ]
  },
  {
   "cell_type": "markdown",
   "id": "d38e6e56",
   "metadata": {
    "id": "PQHtjGd2ATaJ",
    "papermill": {
     "duration": 0.003821,
     "end_time": "2024-10-26T09:43:56.730654",
     "exception": false,
     "start_time": "2024-10-26T09:43:56.726833",
     "status": "completed"
    },
    "tags": []
   },
   "source": [
    "## 驗證集"
   ]
  },
  {
   "cell_type": "code",
   "execution_count": 17,
   "id": "55bfa9b7",
   "metadata": {
    "colab": {
     "base_uri": "https://localhost:8080/",
     "height": 556
    },
    "execution": {
     "iopub.execute_input": "2024-10-26T09:43:56.738650Z",
     "iopub.status.busy": "2024-10-26T09:43:56.738506Z",
     "iopub.status.idle": "2024-10-26T09:43:56.816108Z",
     "shell.execute_reply": "2024-10-26T09:43:56.815852Z"
    },
    "id": "7MdNVyoEAU8t",
    "outputId": "18ba3502-24f0-4bc3-8806-40423a28cf9c",
    "papermill": {
     "duration": 0.082353,
     "end_time": "2024-10-26T09:43:56.816773",
     "exception": false,
     "start_time": "2024-10-26T09:43:56.734420",
     "status": "completed"
    },
    "tags": []
   },
   "outputs": [
    {
     "name": "stdout",
     "output_type": "stream",
     "text": [
      "原始資料 (39, 1)\n",
      "[[32478]\n",
      " [29006]\n",
      " [30415]]\n",
      "還原原始資料 (24, 1)\n",
      "[[29006.]\n",
      " [30415.]]\n"
     ]
    },
    {
     "data": {
      "image/png": "[encoded data removed]",
      "text/plain": [
       "<Figure size 800x200 with 1 Axes>"
      ]
     },
     "metadata": {},
     "output_type": "display_data"
    },
    {
     "data": {
      "image/png": "[encoded data removed]",
      "text/plain": [
       "<Figure size 800x200 with 1 Axes>"
      ]
     },
     "metadata": {},
     "output_type": "display_data"
    }
   ],
   "source": [
    "print('原始資料' , y_val_origin.shape)\n",
    "print(y_val_origin[-3:])\n",
    "\n",
    "print('還原原始資料', actual_inverse_val.shape)\n",
    "print(actual_inverse_val[-2:])\n",
    "\n",
    "lstm.show_predict_chart(\n",
    "    actual = actual_inverse_val,\n",
    "    predict = predict_inverse_val,\n",
    "    title = f'Val {labels[0]}:{predicteds}, MAE:{round(mae_val, 5)}, MAPE:{round(mape_val, 5)}'\n",
    ")"
   ]
  },
  {
   "cell_type": "markdown",
   "id": "12421a60",
   "metadata": {
    "id": "sb12RcTA7CyN",
    "papermill": {
     "duration": 0.004121,
     "end_time": "2024-10-26T09:43:56.825408",
     "exception": false,
     "start_time": "2024-10-26T09:43:56.821287",
     "status": "completed"
    },
    "tags": []
   },
   "source": [
    "## 測試集"
   ]
  },
  {
   "cell_type": "code",
   "execution_count": 18,
   "id": "823ee847",
   "metadata": {
    "colab": {
     "base_uri": "https://localhost:8080/",
     "height": 573
    },
    "execution": {
     "iopub.execute_input": "2024-10-26T09:43:56.834145Z",
     "iopub.status.busy": "2024-10-26T09:43:56.834041Z",
     "iopub.status.idle": "2024-10-26T09:43:56.912892Z",
     "shell.execute_reply": "2024-10-26T09:43:56.912657Z"
    },
    "id": "cBXpSzdw5vJL",
    "outputId": "e4baa2fe-0761-4553-ccdd-acbe6bb539f3",
    "papermill": {
     "duration": 0.083974,
     "end_time": "2024-10-26T09:43:56.913585",
     "exception": false,
     "start_time": "2024-10-26T09:43:56.829611",
     "status": "completed"
    },
    "tags": []
   },
   "outputs": [
    {
     "name": "stdout",
     "output_type": "stream",
     "text": [
      "原始資料 (40, 1)\n",
      "[[12238]\n",
      " [19482]\n",
      " [20069]]\n",
      "還原原始資料 (25, 1)\n",
      "[[19482.]\n",
      " [20069.]]\n",
      "Test GroupCount:[1], BatchSize:14, MAE:17807.51152, MAPE:0.43863\n"
     ]
    },
    {
     "data": {
      "image/png": "[encoded data removed]",
      "text/plain": [
       "<Figure size 800x200 with 1 Axes>"
      ]
     },
     "metadata": {},
     "output_type": "display_data"
    },
    {
     "data": {
      "image/png": "[encoded data removed]",
      "text/plain": [
       "<Figure size 800x200 with 1 Axes>"
      ]
     },
     "metadata": {},
     "output_type": "display_data"
    }
   ],
   "source": [
    "print('原始資料' , y_test_origin.shape)\n",
    "print(y_test_origin[-3:])\n",
    "\n",
    "print('還原原始資料', actual_inverse_test.shape)\n",
    "print(actual_inverse_test[-2:])\n",
    "\n",
    "title = f'Test {labels[0]}:{predicteds}, BatchSize:{batch_size}, MAE:{round(mae_test, 5)}, MAPE:{round(mape_test, 5)}'\n",
    "\n",
    "print(title)\n",
    "lstm.show_predict_chart(\n",
    "    actual = actual_inverse_test,\n",
    "    predict = predict_inverse_test,\n",
    "    title = title\n",
    ")"
   ]
  },
  {
   "cell_type": "markdown",
   "id": "87dbaaa0",
   "metadata": {
    "papermill": {
     "duration": 0.005089,
     "end_time": "2024-10-26T09:43:56.923444",
     "exception": false,
     "start_time": "2024-10-26T09:43:56.918355",
     "status": "completed"
    },
    "tags": []
   },
   "source": [
    "# 儲存結果"
   ]
  },
  {
   "cell_type": "code",
   "execution_count": 19,
   "id": "049336a7",
   "metadata": {
    "execution": {
     "iopub.execute_input": "2024-10-26T09:43:56.934268Z",
     "iopub.status.busy": "2024-10-26T09:43:56.933954Z",
     "iopub.status.idle": "2024-10-26T09:43:56.937372Z",
     "shell.execute_reply": "2024-10-26T09:43:56.937083Z"
    },
    "papermill": {
     "duration": 0.010213,
     "end_time": "2024-10-26T09:43:56.938222",
     "exception": false,
     "start_time": "2024-10-26T09:43:56.928009",
     "status": "completed"
    },
    "tags": []
   },
   "outputs": [
    {
     "name": "stdout",
     "output_type": "stream",
     "text": [
      "{'type': 'NoDecomp', 'labels': ['GroupCount'], 'model_type': 1, 'predicteds': [1], 'batch_size': 14, 'train_mae': 6256.41929, 'train_mape': 0.2509, 'test_mae': 17807.51152, 'test_mape': 0.43863, 'kfold': None, 'imfs': None}\n",
      "儲存評估結果到 NoDecomp/_Model/GroupCount_mt1_data1_batch14.result.json\n"
     ]
    }
   ],
   "source": [
    "lstm.save_json_file(\n",
    "    result_file_name, model_dir, labels, model_type, predicteds, \n",
    "    batch_size, mae_train, mape_train, mae_test, mape_test,\n",
    "    kfold = None\n",
    ")"
   ]
  }
 ],
 "metadata": {
  "colab": {
   "provenance": [],
   "toc_visible": true
  },
  "kernelspec": {
   "display_name": "nckuenv",
   "language": "python",
   "name": "python3"
  },
  "language_info": {
   "codemirror_mode": {
    "name": "ipython",
    "version": 3
   },
   "file_extension": ".py",
   "mimetype": "text/x-python",
   "name": "python",
   "nbconvert_exporter": "python",
   "pygments_lexer": "ipython3",
   "version": "3.12.4"
  },
  "papermill": {
   "default_parameters": {},
   "duration": 11.897211,
   "end_time": "2024-10-26T09:43:57.472181",
   "environment_variables": {},
   "exception": null,
   "input_path": "Temp_runtime.ipynb",
   "output_path": "NoDecomp/GroupCount/NoDecomp_mt1_data1_batch14.ipynb",
   "parameters": {},
   "start_time": "2024-10-26T09:43:45.574970",
   "version": "2.6.0"
  }
 },
 "nbformat": 4,
 "nbformat_minor": 5
}