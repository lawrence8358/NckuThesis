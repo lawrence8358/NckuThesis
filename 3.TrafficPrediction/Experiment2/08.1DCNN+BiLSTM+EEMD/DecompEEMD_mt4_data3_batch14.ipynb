{
 "cells": [
  {
   "cell_type": "markdown",
   "id": "e0940c71",
   "metadata": {
    "papermill": {
     "duration": 0.016975,
     "end_time": "2024-10-26T11:26:09.305511",
     "exception": false,
     "start_time": "2024-10-26T11:26:09.288536",
     "status": "completed"
    },
    "tags": []
   },
   "source": [
    "# 參數設定 (使用訊號分解)"
   ]
  },
  {
   "cell_type": "code",
   "execution_count": 1,
   "id": "049d2163",
   "metadata": {
    "execution": {
     "iopub.execute_input": "2024-10-26T11:26:09.324040Z",
     "iopub.status.busy": "2024-10-26T11:26:09.323579Z",
     "iopub.status.idle": "2024-10-26T11:26:09.329205Z",
     "shell.execute_reply": "2024-10-26T11:26:09.328733Z"
    },
    "papermill": {
     "duration": 0.015308,
     "end_time": "2024-10-26T11:26:09.330533",
     "exception": false,
     "start_time": "2024-10-26T11:26:09.315225",
     "status": "completed"
    },
    "tags": []
   },
   "outputs": [],
   "source": [
    "import os\n",
    "\n",
    "labels = ['GroupCount']\n",
    "model_type = 4 # 使用模型\n",
    "predicteds = [3] # 預測類別 \n",
    "batch_size = 14  # 批次大小\n",
    "\n",
    "# labels = ['GroupCount']\n",
    "# model_type = 1 # 使用模型\n",
    "# predicteds = [1] # 預測類別 \n",
    "# batch_size = 14  # 批次大小\n",
    "\n",
    "\n",
    "# ==== 底下的參數基本上都不要亂動 ====\n",
    "past_day = 14  # 過去天數，用於訓練資料中的歷史資料長度\n",
    "future_day = 1\n",
    "\n",
    "train_split_rate = 0.8  # 訓練集佔整體資料集的比例\n",
    "val_split_rate = 0.1 # 驗證集占整體資料集的比例\n",
    "\n",
    "is_emd = False # 是否使用 EMD，False 則使用 EEMD\n",
    " \n",
    "model_dir = 'DecompEEMD/_Model'\n",
    "\n",
    "# !pip install EMD-signal\n",
    "# https://github.com/laszukdawid/PyEMD/tree/master"
   ]
  },
  {
   "cell_type": "markdown",
   "id": "520ed247",
   "metadata": {
    "papermill": {
     "duration": 0.00524,
     "end_time": "2024-10-26T11:26:09.341350",
     "exception": false,
     "start_time": "2024-10-26T11:26:09.336110",
     "status": "completed"
    },
    "tags": []
   },
   "source": [
    "# 定義類別"
   ]
  },
  {
   "cell_type": "code",
   "execution_count": 2,
   "id": "75515151",
   "metadata": {
    "execution": {
     "iopub.execute_input": "2024-10-26T11:26:09.350478Z",
     "iopub.status.busy": "2024-10-26T11:26:09.350311Z",
     "iopub.status.idle": "2024-10-26T11:26:11.622158Z",
     "shell.execute_reply": "2024-10-26T11:26:11.621906Z"
    },
    "papermill": {
     "duration": 2.276998,
     "end_time": "2024-10-26T11:26:11.622793",
     "exception": false,
     "start_time": "2024-10-26T11:26:09.345795",
     "status": "completed"
    },
    "tags": []
   },
   "outputs": [
    {
     "name": "stdout",
     "output_type": "stream",
     "text": [
      "/Users/elliesu/Developer/nckuenv\n"
     ]
    }
   ],
   "source": [
    "import joblib\n",
    "\n",
    "# 重新載入 Lib，讓檔案可以直接修改使用 \n",
    "import importlib\n",
    "import LstmLib \n",
    "importlib.reload(LstmLib)   \n",
    "\n",
    "from LstmLib import * \n",
    "lstm = LstmLib()\n",
    "\n",
    "import sys\n",
    "print(sys.prefix)"
   ]
  },
  {
   "cell_type": "markdown",
   "id": "67a6119c",
   "metadata": {
    "papermill": {
     "duration": 0.002737,
     "end_time": "2024-10-26T11:26:11.628104",
     "exception": false,
     "start_time": "2024-10-26T11:26:11.625367",
     "status": "completed"
    },
    "tags": []
   },
   "source": [
    "# 清除舊的訓練資料"
   ]
  },
  {
   "cell_type": "code",
   "execution_count": 3,
   "id": "92028e84",
   "metadata": {
    "execution": {
     "iopub.execute_input": "2024-10-26T11:26:11.633237Z",
     "iopub.status.busy": "2024-10-26T11:26:11.632944Z",
     "iopub.status.idle": "2024-10-26T11:26:11.635121Z",
     "shell.execute_reply": "2024-10-26T11:26:11.634901Z"
    },
    "papermill": {
     "duration": 0.005417,
     "end_time": "2024-10-26T11:26:11.635761",
     "exception": false,
     "start_time": "2024-10-26T11:26:11.630344",
     "status": "completed"
    },
    "tags": []
   },
   "outputs": [
    {
     "name": "stdout",
     "output_type": "stream",
     "text": [
      "x_scaler_file_name: DecompEEMD/_Model/GroupCount_mt4_data3_batch14.x_scaler.pkl\n",
      "y_scaler_file_name: DecompEEMD/_Model/GroupCount_mt4_data3_batch14.y_scaler.pkl\n",
      "model_file_name: DecompEEMD/_Model/GroupCount_mt4_data3_batch14.model.keras\n",
      "result_file_name: DecompEEMD/_Model/GroupCount_mt4_data3_batch14.result.json\n"
     ]
    }
   ],
   "source": [
    "x_scaler_file_name, y_scaler_file_name, model_file_name, result_file_name = \\\n",
    "    lstm.reset_data(model_dir, labels, model_type, predicteds, batch_size)"
   ]
  },
  {
   "cell_type": "markdown",
   "id": "232ebe01",
   "metadata": {
    "id": "NipcqBZf-Smu",
    "papermill": {
     "duration": 0.002335,
     "end_time": "2024-10-26T11:26:11.640471",
     "exception": false,
     "start_time": "2024-10-26T11:26:11.638136",
     "status": "completed"
    },
    "tags": []
   },
   "source": [
    "# 載入數據"
   ]
  },
  {
   "cell_type": "code",
   "execution_count": 4,
   "id": "5820c470",
   "metadata": {
    "colab": {
     "base_uri": "https://localhost:8080/",
     "height": 261
    },
    "execution": {
     "iopub.execute_input": "2024-10-26T11:26:11.645429Z",
     "iopub.status.busy": "2024-10-26T11:26:11.645325Z",
     "iopub.status.idle": "2024-10-26T11:26:11.654251Z",
     "shell.execute_reply": "2024-10-26T11:26:11.654027Z"
    },
    "id": "7PH7QM4NwPtK",
    "outputId": "76b2463d-36ef-4ccd-f4b9-8690d9804d01",
    "papermill": {
     "duration": 0.012114,
     "end_time": "2024-10-26T11:26:11.654833",
     "exception": false,
     "start_time": "2024-10-26T11:26:11.642719",
     "status": "completed"
    },
    "tags": []
   },
   "outputs": [
    {
     "name": "stdout",
     "output_type": "stream",
     "text": [
      "\u001b[93m# 載入數據\u001b[0m\n",
      "395\n"
     ]
    },
    {
     "data": {
      "text/html": [
       "<div>\n",
       "<style scoped>\n",
       "    .dataframe tbody tr th:only-of-type {\n",
       "        vertical-align: middle;\n",
       "    }\n",
       "\n",
       "    .dataframe tbody tr th {\n",
       "        vertical-align: top;\n",
       "    }\n",
       "\n",
       "    .dataframe thead th {\n",
       "        text-align: right;\n",
       "    }\n",
       "</style>\n",
       "<table border=\"1\" class=\"dataframe\">\n",
       "  <thead>\n",
       "    <tr style=\"text-align: right;\">\n",
       "      <th></th>\n",
       "      <th>RequestTime</th>\n",
       "      <th>Predicted</th>\n",
       "      <th>SendBytes</th>\n",
       "      <th>ReceiveBytes</th>\n",
       "      <th>TimeTaken</th>\n",
       "      <th>UrlType1</th>\n",
       "      <th>UrlType2</th>\n",
       "      <th>UrlType3</th>\n",
       "      <th>Method_GET</th>\n",
       "      <th>Method_POST</th>\n",
       "      <th>Method_PUT</th>\n",
       "      <th>Method_DELETE</th>\n",
       "      <th>Method_HEAD</th>\n",
       "      <th>Method_OPTIONS</th>\n",
       "      <th>Method_PATCH</th>\n",
       "      <th>GroupCount</th>\n",
       "    </tr>\n",
       "  </thead>\n",
       "  <tbody>\n",
       "    <tr>\n",
       "      <th>0</th>\n",
       "      <td>2023-04-02</td>\n",
       "      <td>[3]</td>\n",
       "      <td>434228991</td>\n",
       "      <td>7104327</td>\n",
       "      <td>1514391</td>\n",
       "      <td>0</td>\n",
       "      <td>12161</td>\n",
       "      <td>11</td>\n",
       "      <td>12143</td>\n",
       "      <td>0</td>\n",
       "      <td>0</td>\n",
       "      <td>0</td>\n",
       "      <td>29</td>\n",
       "      <td>0</td>\n",
       "      <td>0</td>\n",
       "      <td>12172</td>\n",
       "    </tr>\n",
       "    <tr>\n",
       "      <th>1</th>\n",
       "      <td>2023-04-03</td>\n",
       "      <td>[3]</td>\n",
       "      <td>514748677</td>\n",
       "      <td>8374632</td>\n",
       "      <td>1685290</td>\n",
       "      <td>0</td>\n",
       "      <td>14413</td>\n",
       "      <td>14</td>\n",
       "      <td>14401</td>\n",
       "      <td>1</td>\n",
       "      <td>0</td>\n",
       "      <td>0</td>\n",
       "      <td>25</td>\n",
       "      <td>0</td>\n",
       "      <td>0</td>\n",
       "      <td>14427</td>\n",
       "    </tr>\n",
       "    <tr>\n",
       "      <th>2</th>\n",
       "      <td>2023-04-04</td>\n",
       "      <td>[3]</td>\n",
       "      <td>495403671</td>\n",
       "      <td>8015605</td>\n",
       "      <td>2356346</td>\n",
       "      <td>0</td>\n",
       "      <td>13724</td>\n",
       "      <td>7</td>\n",
       "      <td>13698</td>\n",
       "      <td>1</td>\n",
       "      <td>0</td>\n",
       "      <td>0</td>\n",
       "      <td>32</td>\n",
       "      <td>0</td>\n",
       "      <td>0</td>\n",
       "      <td>13731</td>\n",
       "    </tr>\n",
       "    <tr>\n",
       "      <th>3</th>\n",
       "      <td>2023-04-05</td>\n",
       "      <td>[3]</td>\n",
       "      <td>650814803</td>\n",
       "      <td>10389288</td>\n",
       "      <td>1805140</td>\n",
       "      <td>0</td>\n",
       "      <td>17785</td>\n",
       "      <td>40</td>\n",
       "      <td>17817</td>\n",
       "      <td>1</td>\n",
       "      <td>0</td>\n",
       "      <td>0</td>\n",
       "      <td>7</td>\n",
       "      <td>0</td>\n",
       "      <td>0</td>\n",
       "      <td>17825</td>\n",
       "    </tr>\n",
       "    <tr>\n",
       "      <th>4</th>\n",
       "      <td>2023-04-06</td>\n",
       "      <td>[3]</td>\n",
       "      <td>1515791439</td>\n",
       "      <td>24958451</td>\n",
       "      <td>4215703</td>\n",
       "      <td>0</td>\n",
       "      <td>41506</td>\n",
       "      <td>15</td>\n",
       "      <td>41508</td>\n",
       "      <td>0</td>\n",
       "      <td>0</td>\n",
       "      <td>0</td>\n",
       "      <td>13</td>\n",
       "      <td>0</td>\n",
       "      <td>0</td>\n",
       "      <td>41521</td>\n",
       "    </tr>\n",
       "  </tbody>\n",
       "</table>\n",
       "</div>"
      ],
      "text/plain": [
       "  RequestTime Predicted   SendBytes  ReceiveBytes  TimeTaken  UrlType1  \\\n",
       "0  2023-04-02       [3]   434228991       7104327    1514391         0   \n",
       "1  2023-04-03       [3]   514748677       8374632    1685290         0   \n",
       "2  2023-04-04       [3]   495403671       8015605    2356346         0   \n",
       "3  2023-04-05       [3]   650814803      10389288    1805140         0   \n",
       "4  2023-04-06       [3]  1515791439      24958451    4215703         0   \n",
       "\n",
       "   UrlType2  UrlType3  Method_GET  Method_POST  Method_PUT  Method_DELETE  \\\n",
       "0     12161        11       12143            0           0              0   \n",
       "1     14413        14       14401            1           0              0   \n",
       "2     13724         7       13698            1           0              0   \n",
       "3     17785        40       17817            1           0              0   \n",
       "4     41506        15       41508            0           0              0   \n",
       "\n",
       "   Method_HEAD  Method_OPTIONS  Method_PATCH  GroupCount  \n",
       "0           29               0             0       12172  \n",
       "1           25               0             0       14427  \n",
       "2           32               0             0       13731  \n",
       "3            7               0             0       17825  \n",
       "4           13               0             0       41521  "
      ]
     },
     "execution_count": 4,
     "metadata": {},
     "output_type": "execute_result"
    }
   ],
   "source": [
    "df_source = lstm.load_data(predicteds)\n",
    "\n",
    "print(len(df_source))\n",
    "df_source.head()"
   ]
  },
  {
   "cell_type": "markdown",
   "id": "d40b3ac0",
   "metadata": {
    "id": "tJ1RjR73sIZE",
    "papermill": {
     "duration": 0.002441,
     "end_time": "2024-10-26T11:26:11.659846",
     "exception": false,
     "start_time": "2024-10-26T11:26:11.657405",
     "status": "completed"
    },
    "tags": []
   },
   "source": [
    "# 訊號分解"
   ]
  },
  {
   "cell_type": "code",
   "execution_count": 5,
   "id": "571afa62",
   "metadata": {
    "colab": {
     "base_uri": "https://localhost:8080/",
     "height": 1000
    },
    "execution": {
     "iopub.execute_input": "2024-10-26T11:26:11.664976Z",
     "iopub.status.busy": "2024-10-26T11:26:11.664874Z",
     "iopub.status.idle": "2024-10-26T11:26:12.765560Z",
     "shell.execute_reply": "2024-10-26T11:26:12.765300Z"
    },
    "id": "WbKdFBG0sDP5",
    "outputId": "f974db92-c38d-4056-f1ec-cc66238d7bb5",
    "papermill": {
     "duration": 1.104259,
     "end_time": "2024-10-26T11:26:12.766445",
     "exception": false,
     "start_time": "2024-10-26T11:26:11.662186",
     "status": "completed"
    },
    "tags": []
   },
   "outputs": [
    {
     "name": "stdout",
     "output_type": "stream",
     "text": [
      "\u001b[93m# 訊號分解\u001b[0m\n",
      "EEMD\n"
     ]
    },
    {
     "name": "stdout",
     "output_type": "stream",
     "text": [
      "IMFs shape : (8, 395)\n",
      "eIMFs shape : (8, 395)\n",
      "residue shape : (395,)\n"
     ]
    },
    {
     "data": {
      "image/png": "[encoded data removed]",
      "text/plain": [
       "<Figure size 1000x1200 with 10 Axes>"
      ]
     },
     "metadata": {},
     "output_type": "display_data"
    }
   ],
   "source": [
    "data_source = df_source[labels].values\n",
    "eIMFs, residue, imfs = lstm.decomposition(data_source, is_emd = is_emd)"
   ]
  },
  {
   "cell_type": "markdown",
   "id": "745a2fc5",
   "metadata": {
    "papermill": {
     "duration": 0.00318,
     "end_time": "2024-10-26T11:26:12.773144",
     "exception": false,
     "start_time": "2024-10-26T11:26:12.769964",
     "status": "completed"
    },
    "tags": []
   },
   "source": [
    "# 刪除訊號分解後的訓練資料"
   ]
  },
  {
   "cell_type": "code",
   "execution_count": 6,
   "id": "043d126e",
   "metadata": {
    "execution": {
     "iopub.execute_input": "2024-10-26T11:26:12.779862Z",
     "iopub.status.busy": "2024-10-26T11:26:12.779708Z",
     "iopub.status.idle": "2024-10-26T11:26:12.782712Z",
     "shell.execute_reply": "2024-10-26T11:26:12.782497Z"
    },
    "papermill": {
     "duration": 0.007126,
     "end_time": "2024-10-26T11:26:12.783369",
     "exception": false,
     "start_time": "2024-10-26T11:26:12.776243",
     "status": "completed"
    },
    "tags": []
   },
   "outputs": [
    {
     "name": "stdout",
     "output_type": "stream",
     "text": [
      "\u001b[31m------------------------------------------------------------------------\u001b[0m\n",
      "\u001b[31m第 1 個 IMF\u001b[0m\n",
      "\u001b[31m------------------------------------------------------------------------\u001b[0m\n",
      "\u001b[31m------------------------------------------------------------------------\u001b[0m\n",
      "\u001b[31m第 2 個 IMF\u001b[0m\n",
      "\u001b[31m------------------------------------------------------------------------\u001b[0m\n",
      "\u001b[31m------------------------------------------------------------------------\u001b[0m\n",
      "\u001b[31m第 3 個 IMF\u001b[0m\n",
      "\u001b[31m------------------------------------------------------------------------\u001b[0m\n",
      "\u001b[31m------------------------------------------------------------------------\u001b[0m\n",
      "\u001b[31m第 4 個 IMF\u001b[0m\n",
      "\u001b[31m------------------------------------------------------------------------\u001b[0m\n",
      "\u001b[31m------------------------------------------------------------------------\u001b[0m\n",
      "\u001b[31m第 5 個 IMF\u001b[0m\n",
      "\u001b[31m------------------------------------------------------------------------\u001b[0m\n",
      "\u001b[31m------------------------------------------------------------------------\u001b[0m\n",
      "\u001b[31m第 6 個 IMF\u001b[0m\n",
      "\u001b[31m------------------------------------------------------------------------\u001b[0m\n",
      "\u001b[31m------------------------------------------------------------------------\u001b[0m\n",
      "\u001b[31m第 7 個 IMF\u001b[0m\n",
      "\u001b[31m------------------------------------------------------------------------\u001b[0m\n",
      "\u001b[31m------------------------------------------------------------------------\u001b[0m\n",
      "\u001b[31m第 8 個 IMF\u001b[0m\n",
      "\u001b[31m------------------------------------------------------------------------\u001b[0m\n",
      "\u001b[31m------------------------------------------------------------------------\u001b[0m\n",
      "\u001b[31m殘差\u001b[0m\n"
     ]
    }
   ],
   "source": [
    "def print_step(index):\n",
    "    print('\\x1b[31m------------------------------------------------------------------------\\x1b[0m')\n",
    "    # 最後一個是殘差\n",
    "    if index == len(imfs):\n",
    "        print(f'\\x1b[31m殘差\\x1b[0m')\n",
    "    else:\n",
    "        print(f'\\x1b[31m第 {index} 個 IMF\\x1b[0m')\n",
    "        print('\\x1b[31m------------------------------------------------------------------------\\x1b[0m')\n",
    "   \n",
    "\n",
    "for i in range(len(imfs)):\n",
    "    print_step(i + 1)\n",
    "\n",
    "    lstm.del_file(x_scaler_file_name.replace('.pkl', f'.{i + 1}.pkl'))\n",
    "    lstm.del_file(y_scaler_file_name.replace('.pkl', f'.{i + 1}.pkl'))\n",
    "    lstm.del_file(model_file_name.replace('.keras', f'.{i + 1}.keras'))"
   ]
  },
  {
   "cell_type": "markdown",
   "id": "11a49fa9",
   "metadata": {
    "id": "UTI5KTRCNaZP",
    "papermill": {
     "duration": 0.003239,
     "end_time": "2024-10-26T11:26:12.790062",
     "exception": false,
     "start_time": "2024-10-26T11:26:12.786823",
     "status": "completed"
    },
    "tags": []
   },
   "source": [
    "# 最小最大正規化"
   ]
  },
  {
   "cell_type": "code",
   "execution_count": 7,
   "id": "282b9e85",
   "metadata": {
    "execution": {
     "iopub.execute_input": "2024-10-26T11:26:12.796890Z",
     "iopub.status.busy": "2024-10-26T11:26:12.796788Z",
     "iopub.status.idle": "2024-10-26T11:26:12.805540Z",
     "shell.execute_reply": "2024-10-26T11:26:12.805317Z"
    },
    "papermill": {
     "duration": 0.012906,
     "end_time": "2024-10-26T11:26:12.806162",
     "exception": false,
     "start_time": "2024-10-26T11:26:12.793256",
     "status": "completed"
    },
    "tags": []
   },
   "outputs": [
    {
     "name": "stdout",
     "output_type": "stream",
     "text": [
      "\u001b[31m------------------------------------------------------------------------\u001b[0m\n",
      "\u001b[31m第 1 個 IMF\u001b[0m\n",
      "\u001b[31m------------------------------------------------------------------------\u001b[0m\n",
      "\u001b[93m# 最小最大正規化\u001b[0m\n",
      "x_norm.shape:(395, 1)\n",
      "y_norm.shape:(395, 1)\n",
      "儲存最小最大縮放參數\n",
      "\u001b[31m------------------------------------------------------------------------\u001b[0m\n",
      "\u001b[31m第 2 個 IMF\u001b[0m\n",
      "\u001b[31m------------------------------------------------------------------------\u001b[0m\n",
      "\u001b[93m# 最小最大正規化\u001b[0m\n",
      "x_norm.shape:(395, 1)\n",
      "y_norm.shape:(395, 1)\n",
      "儲存最小最大縮放參數\n",
      "\u001b[31m------------------------------------------------------------------------\u001b[0m\n",
      "\u001b[31m第 3 個 IMF\u001b[0m\n",
      "\u001b[31m------------------------------------------------------------------------\u001b[0m\n",
      "\u001b[93m# 最小最大正規化\u001b[0m\n",
      "x_norm.shape:(395, 1)\n",
      "y_norm.shape:(395, 1)\n",
      "儲存最小最大縮放參數\n",
      "\u001b[31m------------------------------------------------------------------------\u001b[0m\n",
      "\u001b[31m第 4 個 IMF\u001b[0m\n",
      "\u001b[31m------------------------------------------------------------------------\u001b[0m\n",
      "\u001b[93m# 最小最大正規化\u001b[0m\n",
      "x_norm.shape:(395, 1)\n",
      "y_norm.shape:(395, 1)\n",
      "儲存最小最大縮放參數\n",
      "\u001b[31m------------------------------------------------------------------------\u001b[0m\n",
      "\u001b[31m第 5 個 IMF\u001b[0m\n",
      "\u001b[31m------------------------------------------------------------------------\u001b[0m\n",
      "\u001b[93m# 最小最大正規化\u001b[0m\n",
      "x_norm.shape:(395, 1)\n",
      "y_norm.shape:(395, 1)\n",
      "儲存最小最大縮放參數\n",
      "\u001b[31m------------------------------------------------------------------------\u001b[0m\n",
      "\u001b[31m第 6 個 IMF\u001b[0m\n",
      "\u001b[31m------------------------------------------------------------------------\u001b[0m\n",
      "\u001b[93m# 最小最大正規化\u001b[0m\n",
      "x_norm.shape:(395, 1)\n",
      "y_norm.shape:(395, 1)\n",
      "儲存最小最大縮放參數\n",
      "\u001b[31m------------------------------------------------------------------------\u001b[0m\n",
      "\u001b[31m第 7 個 IMF\u001b[0m\n",
      "\u001b[31m------------------------------------------------------------------------\u001b[0m\n",
      "\u001b[93m# 最小最大正規化\u001b[0m\n",
      "x_norm.shape:(395, 1)\n",
      "y_norm.shape:(395, 1)\n",
      "儲存最小最大縮放參數\n",
      "\u001b[31m------------------------------------------------------------------------\u001b[0m\n",
      "\u001b[31m第 8 個 IMF\u001b[0m\n",
      "\u001b[31m------------------------------------------------------------------------\u001b[0m\n",
      "\u001b[93m# 最小最大正規化\u001b[0m\n",
      "x_norm.shape:(395, 1)\n",
      "y_norm.shape:(395, 1)\n",
      "儲存最小最大縮放參數\n",
      "\u001b[31m------------------------------------------------------------------------\u001b[0m\n",
      "\u001b[31m殘差\u001b[0m\n",
      "\u001b[93m# 最小最大正規化\u001b[0m\n",
      "x_norm.shape:(395, 1)\n",
      "y_norm.shape:(395, 1)\n",
      "儲存最小最大縮放參數\n"
     ]
    }
   ],
   "source": [
    "x_norms = []\n",
    "y_norms = []\n",
    "x_scalers = []\n",
    "y_scalers = []\n",
    "\n",
    "for i in range(1, len(imfs) + 1):\n",
    "    print_step(i) \n",
    "    x_norm, y_norm, x_scaler, y_scaler = \\\n",
    "        lstm.normalize_by_decomposition(imfs[i - 1]); \n",
    "\n",
    "    x_norms.append(x_norm)\n",
    "    y_norms.append(y_norm)\n",
    "    x_scalers.append(x_scaler)\n",
    "    y_scalers.append(y_scaler)\n",
    "\n",
    "    joblib.dump(x_scaler, x_scaler_file_name.replace('.pkl', f'.{i}.pkl'))\n",
    "    joblib.dump(y_scaler, y_scaler_file_name.replace('.pkl', f'.{i}.pkl'))\n",
    "    print('儲存最小最大縮放參數')\n",
    "  "
   ]
  },
  {
   "cell_type": "markdown",
   "id": "afd27adf",
   "metadata": {
    "id": "G3k2Q3zr-c8i",
    "papermill": {
     "duration": 0.003263,
     "end_time": "2024-10-26T11:26:12.812746",
     "exception": false,
     "start_time": "2024-10-26T11:26:12.809483",
     "status": "completed"
    },
    "tags": []
   },
   "source": [
    "# 切割訓練、驗證和測試資料集"
   ]
  },
  {
   "cell_type": "code",
   "execution_count": 8,
   "id": "83108fe7",
   "metadata": {
    "execution": {
     "iopub.execute_input": "2024-10-26T11:26:12.819626Z",
     "iopub.status.busy": "2024-10-26T11:26:12.819532Z",
     "iopub.status.idle": "2024-10-26T11:26:12.822803Z",
     "shell.execute_reply": "2024-10-26T11:26:12.822576Z"
    },
    "papermill": {
     "duration": 0.007429,
     "end_time": "2024-10-26T11:26:12.823382",
     "exception": false,
     "start_time": "2024-10-26T11:26:12.815953",
     "status": "completed"
    },
    "tags": []
   },
   "outputs": [
    {
     "name": "stdout",
     "output_type": "stream",
     "text": [
      "\u001b[31m------------------------------------------------------------------------\u001b[0m\n",
      "\u001b[31m第 1 個 IMF\u001b[0m\n",
      "\u001b[31m------------------------------------------------------------------------\u001b[0m\n",
      "\u001b[93m# 切割訓練、驗證和測試資料集\u001b[0m\n",
      "x_train.shape: (316, 1)\n",
      "y_train.shape: (316, 1)\n",
      "x_val.shape: (39, 1)\n",
      "y_val.shape: (39, 1)\n",
      "x_test.shape: (40, 1)\n",
      "y_test.shape: (40, 1)\n",
      "\u001b[31m------------------------------------------------------------------------\u001b[0m\n",
      "\u001b[31m第 2 個 IMF\u001b[0m\n",
      "\u001b[31m------------------------------------------------------------------------\u001b[0m\n",
      "\u001b[93m# 切割訓練、驗證和測試資料集\u001b[0m\n",
      "x_train.shape: (316, 1)\n",
      "y_train.shape: (316, 1)\n",
      "x_val.shape: (39, 1)\n",
      "y_val.shape: (39, 1)\n",
      "x_test.shape: (40, 1)\n",
      "y_test.shape: (40, 1)\n",
      "\u001b[31m------------------------------------------------------------------------\u001b[0m\n",
      "\u001b[31m第 3 個 IMF\u001b[0m\n",
      "\u001b[31m------------------------------------------------------------------------\u001b[0m\n",
      "\u001b[93m# 切割訓練、驗證和測試資料集\u001b[0m\n",
      "x_train.shape: (316, 1)\n",
      "y_train.shape: (316, 1)\n",
      "x_val.shape: (39, 1)\n",
      "y_val.shape: (39, 1)\n",
      "x_test.shape: (40, 1)\n",
      "y_test.shape: (40, 1)\n",
      "\u001b[31m------------------------------------------------------------------------\u001b[0m\n",
      "\u001b[31m第 4 個 IMF\u001b[0m\n",
      "\u001b[31m------------------------------------------------------------------------\u001b[0m\n",
      "\u001b[93m# 切割訓練、驗證和測試資料集\u001b[0m\n",
      "x_train.shape: (316, 1)\n",
      "y_train.shape: (316, 1)\n",
      "x_val.shape: (39, 1)\n",
      "y_val.shape: (39, 1)\n",
      "x_test.shape: (40, 1)\n",
      "y_test.shape: (40, 1)\n",
      "\u001b[31m------------------------------------------------------------------------\u001b[0m\n",
      "\u001b[31m第 5 個 IMF\u001b[0m\n",
      "\u001b[31m------------------------------------------------------------------------\u001b[0m\n",
      "\u001b[93m# 切割訓練、驗證和測試資料集\u001b[0m\n",
      "x_train.shape: (316, 1)\n",
      "y_train.shape: (316, 1)\n",
      "x_val.shape: (39, 1)\n",
      "y_val.shape: (39, 1)\n",
      "x_test.shape: (40, 1)\n",
      "y_test.shape: (40, 1)\n",
      "\u001b[31m------------------------------------------------------------------------\u001b[0m\n",
      "\u001b[31m第 6 個 IMF\u001b[0m\n",
      "\u001b[31m------------------------------------------------------------------------\u001b[0m\n",
      "\u001b[93m# 切割訓練、驗證和測試資料集\u001b[0m\n",
      "x_train.shape: (316, 1)\n",
      "y_train.shape: (316, 1)\n",
      "x_val.shape: (39, 1)\n",
      "y_val.shape: (39, 1)\n",
      "x_test.shape: (40, 1)\n",
      "y_test.shape: (40, 1)\n",
      "\u001b[31m------------------------------------------------------------------------\u001b[0m\n",
      "\u001b[31m第 7 個 IMF\u001b[0m\n",
      "\u001b[31m------------------------------------------------------------------------\u001b[0m\n",
      "\u001b[93m# 切割訓練、驗證和測試資料集\u001b[0m\n",
      "x_train.shape: (316, 1)\n",
      "y_train.shape: (316, 1)\n",
      "x_val.shape: (39, 1)\n",
      "y_val.shape: (39, 1)\n",
      "x_test.shape: (40, 1)\n",
      "y_test.shape: (40, 1)\n",
      "\u001b[31m------------------------------------------------------------------------\u001b[0m\n",
      "\u001b[31m第 8 個 IMF\u001b[0m\n",
      "\u001b[31m------------------------------------------------------------------------\u001b[0m\n",
      "\u001b[93m# 切割訓練、驗證和測試資料集\u001b[0m\n",
      "x_train.shape: (316, 1)\n",
      "y_train.shape: (316, 1)\n",
      "x_val.shape: (39, 1)\n",
      "y_val.shape: (39, 1)\n",
      "x_test.shape: (40, 1)\n",
      "y_test.shape: (40, 1)\n",
      "\u001b[31m------------------------------------------------------------------------\u001b[0m\n",
      "\u001b[31m殘差\u001b[0m\n",
      "\u001b[93m# 切割訓練、驗證和測試資料集\u001b[0m\n",
      "x_train.shape: (316, 1)\n",
      "y_train.shape: (316, 1)\n",
      "x_val.shape: (39, 1)\n",
      "y_val.shape: (39, 1)\n",
      "x_test.shape: (40, 1)\n",
      "y_test.shape: (40, 1)\n",
      "\n",
      "\u001b[31m------------------------------------------------------------------------\u001b[0m\n",
      "\u001b[31m已切割\u001b[0m\n",
      "\u001b[31m------------------------------------------------------------------------\u001b[0m\n",
      "x_trains len : 9\n",
      "y_trains len : 9\n",
      "x_vals len : 9\n",
      "y_vals len : 9\n",
      "x_tests len : 9\n",
      "y_tests len : 9\n"
     ]
    }
   ],
   "source": [
    "x_trains = []\n",
    "y_trains = []\n",
    "\n",
    "x_vals = []\n",
    "y_vals = []\n",
    "\n",
    "x_tests = []\n",
    "y_tests = []\n",
    "\n",
    "for i in range(len(x_norms)):\n",
    "    print_step(i + 1)\n",
    "    \n",
    "    x_train, y_train, x_val, y_val, x_test, y_test = \\\n",
    "        lstm.train_val_test_split(\n",
    "            x_norms[i],  \n",
    "            train_split_rate = train_split_rate,\n",
    "            val_split_rate = val_split_rate\n",
    "        )\n",
    "\n",
    "    x_trains.append(x_train)\n",
    "    y_trains.append(y_train)\n",
    "\n",
    "    x_vals.append(x_val)\n",
    "    y_vals.append(y_val)\n",
    "\n",
    "    x_tests.append(x_test)\n",
    "    y_tests.append(y_test)\n",
    "    \n",
    "\n",
    "print('\\n\\x1b[31m------------------------------------------------------------------------\\x1b[0m')\n",
    "print('\\x1b[31m已切割\\x1b[0m')\n",
    "print('\\x1b[31m------------------------------------------------------------------------\\x1b[0m')\n",
    "print(f'x_trains len : {len(x_trains)}')\n",
    "print(f'y_trains len : {len(y_trains)}')\n",
    "print(f'x_vals len : {len(x_vals)}')\n",
    "print(f'y_vals len : {len(y_vals)}')\n",
    "print(f'x_tests len : {len(x_tests)}')\n",
    "print(f'y_tests len : {len(y_tests)}')\n"
   ]
  },
  {
   "cell_type": "markdown",
   "id": "64894c5d",
   "metadata": {
    "id": "AqdSy5pL-i7X",
    "papermill": {
     "duration": 0.003354,
     "end_time": "2024-10-26T11:26:12.830191",
     "exception": false,
     "start_time": "2024-10-26T11:26:12.826837",
     "status": "completed"
    },
    "tags": []
   },
   "source": [
    "# 將資料轉成 LSTM 模型所需資料格式(三維)"
   ]
  },
  {
   "cell_type": "code",
   "execution_count": 9,
   "id": "bd30b131",
   "metadata": {
    "execution": {
     "iopub.execute_input": "2024-10-26T11:26:12.837219Z",
     "iopub.status.busy": "2024-10-26T11:26:12.837120Z",
     "iopub.status.idle": "2024-10-26T11:26:12.844747Z",
     "shell.execute_reply": "2024-10-26T11:26:12.844537Z"
    },
    "papermill": {
     "duration": 0.011919,
     "end_time": "2024-10-26T11:26:12.845382",
     "exception": false,
     "start_time": "2024-10-26T11:26:12.833463",
     "status": "completed"
    },
    "tags": []
   },
   "outputs": [
    {
     "name": "stdout",
     "output_type": "stream",
     "text": [
      "\u001b[31m------------------------------------------------------------------------\u001b[0m\n",
      "\u001b[31m第 1 個 IMF\u001b[0m\n",
      "\u001b[31m------------------------------------------------------------------------\u001b[0m\n",
      "\u001b[93m# 將資料轉成 LSTM 模型所需資料格式，LSTM 的輸入必須是三維\u001b[0m\n",
      "====== Train DataSet ======\n",
      "訓練集 : x_k_lstm_train (筆數, 天數, 特徵數) : (301, 14, 1)\n",
      "訓練集 : y_k_lstm_train (筆數, 天數, 標籤數) : (301, 1)\n",
      "\u001b[93m# 將資料轉成 LSTM 模型所需資料格式，LSTM 的輸入必須是三維\u001b[0m\n",
      "====== Val DataSet ======\n",
      "驗證集 : x_k_lstm_test (筆數, 天數, 特徵數) : (24, 14, 1)\n",
      "驗證集 : y_k_lstm_test (筆數, 天數, 標籤數) : (24, 1)\n",
      "\u001b[93m# 將資料轉成 LSTM 模型所需資料格式，LSTM 的輸入必須是三維\u001b[0m\n",
      "====== Test DataSet ======\n",
      "測試集 : x_lstm_test (筆數, 天數, 特徵數) : (25, 14, 1)\n",
      "測試集 : y_lstm_test (筆數, 天數, 標籤數) : (25, 1)\n",
      "\u001b[31m------------------------------------------------------------------------\u001b[0m\n",
      "\u001b[31m第 2 個 IMF\u001b[0m\n",
      "\u001b[31m------------------------------------------------------------------------\u001b[0m\n",
      "\u001b[93m# 將資料轉成 LSTM 模型所需資料格式，LSTM 的輸入必須是三維\u001b[0m\n",
      "====== Train DataSet ======\n",
      "訓練集 : x_k_lstm_train (筆數, 天數, 特徵數) : (301, 14, 1)\n",
      "訓練集 : y_k_lstm_train (筆數, 天數, 標籤數) : (301, 1)\n",
      "\u001b[93m# 將資料轉成 LSTM 模型所需資料格式，LSTM 的輸入必須是三維\u001b[0m\n",
      "====== Val DataSet ======\n",
      "驗證集 : x_k_lstm_test (筆數, 天數, 特徵數) : (24, 14, 1)\n",
      "驗證集 : y_k_lstm_test (筆數, 天數, 標籤數) : (24, 1)\n",
      "\u001b[93m# 將資料轉成 LSTM 模型所需資料格式，LSTM 的輸入必須是三維\u001b[0m\n",
      "====== Test DataSet ======\n",
      "測試集 : x_lstm_test (筆數, 天數, 特徵數) : (25, 14, 1)\n",
      "測試集 : y_lstm_test (筆數, 天數, 標籤數) : (25, 1)\n",
      "\u001b[31m------------------------------------------------------------------------\u001b[0m\n",
      "\u001b[31m第 3 個 IMF\u001b[0m\n",
      "\u001b[31m------------------------------------------------------------------------\u001b[0m\n",
      "\u001b[93m# 將資料轉成 LSTM 模型所需資料格式，LSTM 的輸入必須是三維\u001b[0m\n",
      "====== Train DataSet ======\n",
      "訓練集 : x_k_lstm_train (筆數, 天數, 特徵數) : (301, 14, 1)\n",
      "訓練集 : y_k_lstm_train (筆數, 天數, 標籤數) : (301, 1)\n",
      "\u001b[93m# 將資料轉成 LSTM 模型所需資料格式，LSTM 的輸入必須是三維\u001b[0m\n",
      "====== Val DataSet ======\n",
      "驗證集 : x_k_lstm_test (筆數, 天數, 特徵數) : (24, 14, 1)\n",
      "驗證集 : y_k_lstm_test (筆數, 天數, 標籤數) : (24, 1)\n",
      "\u001b[93m# 將資料轉成 LSTM 模型所需資料格式，LSTM 的輸入必須是三維\u001b[0m\n",
      "====== Test DataSet ======\n",
      "測試集 : x_lstm_test (筆數, 天數, 特徵數) : (25, 14, 1)\n",
      "測試集 : y_lstm_test (筆數, 天數, 標籤數) : (25, 1)\n",
      "\u001b[31m------------------------------------------------------------------------\u001b[0m\n",
      "\u001b[31m第 4 個 IMF\u001b[0m\n",
      "\u001b[31m------------------------------------------------------------------------\u001b[0m\n",
      "\u001b[93m# 將資料轉成 LSTM 模型所需資料格式，LSTM 的輸入必須是三維\u001b[0m\n",
      "====== Train DataSet ======\n",
      "訓練集 : x_k_lstm_train (筆數, 天數, 特徵數) : (301, 14, 1)\n",
      "訓練集 : y_k_lstm_train (筆數, 天數, 標籤數) : (301, 1)\n",
      "\u001b[93m# 將資料轉成 LSTM 模型所需資料格式，LSTM 的輸入必須是三維\u001b[0m\n",
      "====== Val DataSet ======\n",
      "驗證集 : x_k_lstm_test (筆數, 天數, 特徵數) : (24, 14, 1)\n",
      "驗證集 : y_k_lstm_test (筆數, 天數, 標籤數) : (24, 1)\n",
      "\u001b[93m# 將資料轉成 LSTM 模型所需資料格式，LSTM 的輸入必須是三維\u001b[0m\n",
      "====== Test DataSet ======\n",
      "測試集 : x_lstm_test (筆數, 天數, 特徵數) : (25, 14, 1)\n",
      "測試集 : y_lstm_test (筆數, 天數, 標籤數) : (25, 1)\n",
      "\u001b[31m------------------------------------------------------------------------\u001b[0m\n",
      "\u001b[31m第 5 個 IMF\u001b[0m\n",
      "\u001b[31m------------------------------------------------------------------------\u001b[0m\n",
      "\u001b[93m# 將資料轉成 LSTM 模型所需資料格式，LSTM 的輸入必須是三維\u001b[0m\n",
      "====== Train DataSet ======\n",
      "訓練集 : x_k_lstm_train (筆數, 天數, 特徵數) : (301, 14, 1)\n",
      "訓練集 : y_k_lstm_train (筆數, 天數, 標籤數) : (301, 1)\n",
      "\u001b[93m# 將資料轉成 LSTM 模型所需資料格式，LSTM 的輸入必須是三維\u001b[0m\n",
      "====== Val DataSet ======\n",
      "驗證集 : x_k_lstm_test (筆數, 天數, 特徵數) : (24, 14, 1)\n",
      "驗證集 : y_k_lstm_test (筆數, 天數, 標籤數) : (24, 1)\n",
      "\u001b[93m# 將資料轉成 LSTM 模型所需資料格式，LSTM 的輸入必須是三維\u001b[0m\n",
      "====== Test DataSet ======\n",
      "測試集 : x_lstm_test (筆數, 天數, 特徵數) : (25, 14, 1)\n",
      "測試集 : y_lstm_test (筆數, 天數, 標籤數) : (25, 1)\n",
      "\u001b[31m------------------------------------------------------------------------\u001b[0m\n",
      "\u001b[31m第 6 個 IMF\u001b[0m\n",
      "\u001b[31m------------------------------------------------------------------------\u001b[0m\n",
      "\u001b[93m# 將資料轉成 LSTM 模型所需資料格式，LSTM 的輸入必須是三維\u001b[0m\n",
      "====== Train DataSet ======\n",
      "訓練集 : x_k_lstm_train (筆數, 天數, 特徵數) : (301, 14, 1)\n",
      "訓練集 : y_k_lstm_train (筆數, 天數, 標籤數) : (301, 1)\n",
      "\u001b[93m# 將資料轉成 LSTM 模型所需資料格式，LSTM 的輸入必須是三維\u001b[0m\n",
      "====== Val DataSet ======\n",
      "驗證集 : x_k_lstm_test (筆數, 天數, 特徵數) : (24, 14, 1)\n",
      "驗證集 : y_k_lstm_test (筆數, 天數, 標籤數) : (24, 1)\n",
      "\u001b[93m# 將資料轉成 LSTM 模型所需資料格式，LSTM 的輸入必須是三維\u001b[0m\n",
      "====== Test DataSet ======\n",
      "測試集 : x_lstm_test (筆數, 天數, 特徵數) : (25, 14, 1)\n",
      "測試集 : y_lstm_test (筆數, 天數, 標籤數) : (25, 1)\n",
      "\u001b[31m------------------------------------------------------------------------\u001b[0m\n",
      "\u001b[31m第 7 個 IMF\u001b[0m\n",
      "\u001b[31m------------------------------------------------------------------------\u001b[0m\n",
      "\u001b[93m# 將資料轉成 LSTM 模型所需資料格式，LSTM 的輸入必須是三維\u001b[0m\n",
      "====== Train DataSet ======\n",
      "訓練集 : x_k_lstm_train (筆數, 天數, 特徵數) : (301, 14, 1)\n",
      "訓練集 : y_k_lstm_train (筆數, 天數, 標籤數) : (301, 1)\n",
      "\u001b[93m# 將資料轉成 LSTM 模型所需資料格式，LSTM 的輸入必須是三維\u001b[0m\n",
      "====== Val DataSet ======\n",
      "驗證集 : x_k_lstm_test (筆數, 天數, 特徵數) : (24, 14, 1)\n",
      "驗證集 : y_k_lstm_test (筆數, 天數, 標籤數) : (24, 1)\n",
      "\u001b[93m# 將資料轉成 LSTM 模型所需資料格式，LSTM 的輸入必須是三維\u001b[0m\n",
      "====== Test DataSet ======\n",
      "測試集 : x_lstm_test (筆數, 天數, 特徵數) : (25, 14, 1)\n",
      "測試集 : y_lstm_test (筆數, 天數, 標籤數) : (25, 1)\n",
      "\u001b[31m------------------------------------------------------------------------\u001b[0m\n",
      "\u001b[31m第 8 個 IMF\u001b[0m\n",
      "\u001b[31m------------------------------------------------------------------------\u001b[0m\n",
      "\u001b[93m# 將資料轉成 LSTM 模型所需資料格式，LSTM 的輸入必須是三維\u001b[0m\n",
      "====== Train DataSet ======\n",
      "訓練集 : x_k_lstm_train (筆數, 天數, 特徵數) : (301, 14, 1)\n",
      "訓練集 : y_k_lstm_train (筆數, 天數, 標籤數) : (301, 1)\n",
      "\u001b[93m# 將資料轉成 LSTM 模型所需資料格式，LSTM 的輸入必須是三維\u001b[0m\n",
      "====== Val DataSet ======\n",
      "驗證集 : x_k_lstm_test (筆數, 天數, 特徵數) : (24, 14, 1)\n",
      "驗證集 : y_k_lstm_test (筆數, 天數, 標籤數) : (24, 1)\n",
      "\u001b[93m# 將資料轉成 LSTM 模型所需資料格式，LSTM 的輸入必須是三維\u001b[0m\n",
      "====== Test DataSet ======\n",
      "測試集 : x_lstm_test (筆數, 天數, 特徵數) : (25, 14, 1)\n",
      "測試集 : y_lstm_test (筆數, 天數, 標籤數) : (25, 1)\n",
      "\u001b[31m------------------------------------------------------------------------\u001b[0m\n",
      "\u001b[31m殘差\u001b[0m\n",
      "\u001b[93m# 將資料轉成 LSTM 模型所需資料格式，LSTM 的輸入必須是三維\u001b[0m\n",
      "====== Train DataSet ======\n",
      "訓練集 : x_k_lstm_train (筆數, 天數, 特徵數) : (301, 14, 1)\n",
      "訓練集 : y_k_lstm_train (筆數, 天數, 標籤數) : (301, 1)\n",
      "\u001b[93m# 將資料轉成 LSTM 模型所需資料格式，LSTM 的輸入必須是三維\u001b[0m\n",
      "====== Val DataSet ======\n",
      "驗證集 : x_k_lstm_test (筆數, 天數, 特徵數) : (24, 14, 1)\n",
      "驗證集 : y_k_lstm_test (筆數, 天數, 標籤數) : (24, 1)\n",
      "\u001b[93m# 將資料轉成 LSTM 模型所需資料格式，LSTM 的輸入必須是三維\u001b[0m\n",
      "====== Test DataSet ======\n",
      "測試集 : x_lstm_test (筆數, 天數, 特徵數) : (25, 14, 1)\n",
      "測試集 : y_lstm_test (筆數, 天數, 標籤數) : (25, 1)\n",
      "\u001b[31m------------------------------------------------------------------------\u001b[0m\n",
      "\u001b[31m已轉換\u001b[0m\n",
      "\u001b[31m------------------------------------------------------------------------\u001b[0m\n",
      "x_lstm_trains len : 9\n",
      "y_lstm_trains len : 9\n",
      "x_lstm_vals len : 9\n",
      "y_lstm_vals len : 9\n",
      "x_lstm_tests len : 9\n",
      "y_lstm_tests len : 9\n"
     ]
    }
   ],
   "source": [
    "x_lstm_trains = []\n",
    "y_lstm_trains = []\n",
    "\n",
    "x_lstm_vals = []\n",
    "y_lstm_vals = []\n",
    "\n",
    "x_lstm_tests = []\n",
    "y_lstm_tests = []\n",
    "\n",
    "for i in range(len(x_trains)):\n",
    "    print_step(i + 1)\n",
    "    \n",
    "    # 訓練集\n",
    "    x_lstm_train, y_lstm_train, _ = \\\n",
    "        lstm.reshape_data_for_lstm(\n",
    "            x_trains[i], y_trains[i],\n",
    "            date_array = None,\n",
    "            past_day = past_day,\n",
    "            future_day = future_day\n",
    "        ) \n",
    "    print('====== Train DataSet ======')\n",
    "    print('訓練集 : x_k_lstm_train (筆數, 天數, 特徵數) :', x_lstm_train.shape)\n",
    "    print('訓練集 : y_k_lstm_train (筆數, 天數, 標籤數) :', y_lstm_train.shape)\n",
    "\n",
    "    # 驗證集\n",
    "    x_lstm_val, y_lstm_val, _ = \\\n",
    "        lstm.reshape_data_for_lstm(\n",
    "            x_vals[i], y_vals[i],\n",
    "            date_array = None,\n",
    "            past_day = past_day,\n",
    "            future_day = future_day\n",
    "        )\n",
    "    print('====== Val DataSet ======')\n",
    "    print('驗證集 : x_k_lstm_test (筆數, 天數, 特徵數) :', x_lstm_val.shape)\n",
    "    print('驗證集 : y_k_lstm_test (筆數, 天數, 標籤數) :', y_lstm_val.shape)\n",
    "\n",
    "    # 測試集\n",
    "    x_lstm_test, y_lstm_test, _ = \\\n",
    "        lstm.reshape_data_for_lstm(\n",
    "            x_tests[i], y_tests[i],\n",
    "            date_array = None,\n",
    "            past_day = past_day,\n",
    "            future_day = future_day\n",
    "        )\n",
    "    print('====== Test DataSet ======')\n",
    "    print('測試集 : x_lstm_test (筆數, 天數, 特徵數) :', x_lstm_test.shape)\n",
    "    print('測試集 : y_lstm_test (筆數, 天數, 標籤數) :', y_lstm_test.shape)\n",
    "     \n",
    "    x_lstm_trains.append(x_lstm_train)\n",
    "    y_lstm_trains.append(y_lstm_train)\n",
    "\n",
    "    x_lstm_vals.append(x_lstm_val)\n",
    "    y_lstm_vals.append(y_lstm_val)\n",
    "\n",
    "    x_lstm_tests.append(x_lstm_test)\n",
    "    y_lstm_tests.append(y_lstm_test)\n",
    "\n",
    "print('\\x1b[31m------------------------------------------------------------------------\\x1b[0m')\n",
    "print('\\x1b[31m已轉換\\x1b[0m')\n",
    "print('\\x1b[31m------------------------------------------------------------------------\\x1b[0m')\n",
    "print(f'x_lstm_trains len : {len(x_lstm_trains)}')\n",
    "print(f'y_lstm_trains len : {len(y_lstm_trains)}')\n",
    "print(f'x_lstm_vals len : {len(x_lstm_vals)}')\n",
    "print(f'y_lstm_vals len : {len(y_lstm_vals)}')\n",
    "print(f'x_lstm_tests len : {len(x_lstm_tests)}')\n",
    "print(f'y_lstm_tests len : {len(y_lstm_tests)}')"
   ]
  },
  {
   "cell_type": "markdown",
   "id": "0bd21c42",
   "metadata": {
    "id": "hptadCRG-mnK",
    "papermill": {
     "duration": 0.00343,
     "end_time": "2024-10-26T11:26:12.852346",
     "exception": false,
     "start_time": "2024-10-26T11:26:12.848916",
     "status": "completed"
    },
    "tags": []
   },
   "source": [
    "# 定義 Model"
   ]
  },
  {
   "cell_type": "code",
   "execution_count": 10,
   "id": "fd179d10",
   "metadata": {
    "execution": {
     "iopub.execute_input": "2024-10-26T11:26:12.859515Z",
     "iopub.status.busy": "2024-10-26T11:26:12.859415Z",
     "iopub.status.idle": "2024-10-26T11:26:13.183298Z",
     "shell.execute_reply": "2024-10-26T11:26:13.183072Z"
    },
    "papermill": {
     "duration": 0.328312,
     "end_time": "2024-10-26T11:26:13.184014",
     "exception": false,
     "start_time": "2024-10-26T11:26:12.855702",
     "status": "completed"
    },
    "tags": []
   },
   "outputs": [
    {
     "name": "stdout",
     "output_type": "stream",
     "text": [
      "\u001b[31m------------------------------------------------------------------------\u001b[0m\n",
      "\u001b[31m第 1 個 IMF\u001b[0m\n",
      "\u001b[31m------------------------------------------------------------------------\u001b[0m\n",
      "\u001b[93m# 定義 Model：4\u001b[0m\n",
      "CNN-BiLSTM\n"
     ]
    },
    {
     "data": {
      "text/html": [
       "<pre style=\"white-space:pre;overflow-x:auto;line-height:normal;font-family:Menlo,'DejaVu Sans Mono',consolas,'Courier New',monospace\"><span style=\"font-weight: bold\">Model: \"sequential\"</span>\n",
       "</pre>\n"
      ],
      "text/plain": [
       "\u001b[1mModel: \"sequential\"\u001b[0m\n"
      ]
     },
     "metadata": {},
     "output_type": "display_data"
    },
    {
     "data": {
      "text/html": [
       "<pre style=\"white-space:pre;overflow-x:auto;line-height:normal;font-family:Menlo,'DejaVu Sans Mono',consolas,'Courier New',monospace\">┏━━━━━━━━━━━━━━━━━━━━━━━━━━━━━━━━━━━━━━┳━━━━━━━━━━━━━━━━━━━━━━━━━━━━━┳━━━━━━━━━━━━━━━━━┓\n",
       "┃<span style=\"font-weight: bold\"> Layer (type)                         </span>┃<span style=\"font-weight: bold\"> Output Shape                </span>┃<span style=\"font-weight: bold\">         Param # </span>┃\n",
       "┡━━━━━━━━━━━━━━━━━━━━━━━━━━━━━━━━━━━━━━╇━━━━━━━━━━━━━━━━━━━━━━━━━━━━━╇━━━━━━━━━━━━━━━━━┩\n",
       "│ conv1d (<span style=\"color: #0087ff; text-decoration-color: #0087ff\">Conv1D</span>)                      │ (<span style=\"color: #00d7ff; text-decoration-color: #00d7ff\">None</span>, <span style=\"color: #00af00; text-decoration-color: #00af00\">13</span>, <span style=\"color: #00af00; text-decoration-color: #00af00\">7</span>)               │              <span style=\"color: #00af00; text-decoration-color: #00af00\">21</span> │\n",
       "├──────────────────────────────────────┼─────────────────────────────┼─────────────────┤\n",
       "│ max_pooling1d (<span style=\"color: #0087ff; text-decoration-color: #0087ff\">MaxPooling1D</span>)         │ (<span style=\"color: #00d7ff; text-decoration-color: #00d7ff\">None</span>, <span style=\"color: #00af00; text-decoration-color: #00af00\">6</span>, <span style=\"color: #00af00; text-decoration-color: #00af00\">7</span>)                │               <span style=\"color: #00af00; text-decoration-color: #00af00\">0</span> │\n",
       "├──────────────────────────────────────┼─────────────────────────────┼─────────────────┤\n",
       "│ bidirectional (<span style=\"color: #0087ff; text-decoration-color: #0087ff\">Bidirectional</span>)        │ (<span style=\"color: #00d7ff; text-decoration-color: #00d7ff\">None</span>, <span style=\"color: #00af00; text-decoration-color: #00af00\">200</span>)                 │          <span style=\"color: #00af00; text-decoration-color: #00af00\">86,400</span> │\n",
       "├──────────────────────────────────────┼─────────────────────────────┼─────────────────┤\n",
       "│ dense (<span style=\"color: #0087ff; text-decoration-color: #0087ff\">Dense</span>)                        │ (<span style=\"color: #00d7ff; text-decoration-color: #00d7ff\">None</span>, <span style=\"color: #00af00; text-decoration-color: #00af00\">150</span>)                 │          <span style=\"color: #00af00; text-decoration-color: #00af00\">30,150</span> │\n",
       "├──────────────────────────────────────┼─────────────────────────────┼─────────────────┤\n",
       "│ dense_1 (<span style=\"color: #0087ff; text-decoration-color: #0087ff\">Dense</span>)                      │ (<span style=\"color: #00d7ff; text-decoration-color: #00d7ff\">None</span>, <span style=\"color: #00af00; text-decoration-color: #00af00\">150</span>)                 │          <span style=\"color: #00af00; text-decoration-color: #00af00\">22,650</span> │\n",
       "├──────────────────────────────────────┼─────────────────────────────┼─────────────────┤\n",
       "│ dense_2 (<span style=\"color: #0087ff; text-decoration-color: #0087ff\">Dense</span>)                      │ (<span style=\"color: #00d7ff; text-decoration-color: #00d7ff\">None</span>, <span style=\"color: #00af00; text-decoration-color: #00af00\">1</span>)                   │             <span style=\"color: #00af00; text-decoration-color: #00af00\">151</span> │\n",
       "└──────────────────────────────────────┴─────────────────────────────┴─────────────────┘\n",
       "</pre>\n"
      ],
      "text/plain": [
       "┏━━━━━━━━━━━━━━━━━━━━━━━━━━━━━━━━━━━━━━┳━━━━━━━━━━━━━━━━━━━━━━━━━━━━━┳━━━━━━━━━━━━━━━━━┓\n",
       "┃\u001b[1m \u001b[0m\u001b[1mLayer (type)                        \u001b[0m\u001b[1m \u001b[0m┃\u001b[1m \u001b[0m\u001b[1mOutput Shape               \u001b[0m\u001b[1m \u001b[0m┃\u001b[1m \u001b[0m\u001b[1m        Param #\u001b[0m\u001b[1m \u001b[0m┃\n",
       "┡━━━━━━━━━━━━━━━━━━━━━━━━━━━━━━━━━━━━━━╇━━━━━━━━━━━━━━━━━━━━━━━━━━━━━╇━━━━━━━━━━━━━━━━━┩\n",
       "│ conv1d (\u001b[38;5;33mConv1D\u001b[0m)                      │ (\u001b[38;5;45mNone\u001b[0m, \u001b[38;5;34m13\u001b[0m, \u001b[38;5;34m7\u001b[0m)               │              \u001b[38;5;34m21\u001b[0m │\n",
       "├──────────────────────────────────────┼─────────────────────────────┼─────────────────┤\n",
       "│ max_pooling1d (\u001b[38;5;33mMaxPooling1D\u001b[0m)         │ (\u001b[38;5;45mNone\u001b[0m, \u001b[38;5;34m6\u001b[0m, \u001b[38;5;34m7\u001b[0m)                │               \u001b[38;5;34m0\u001b[0m │\n",
       "├──────────────────────────────────────┼─────────────────────────────┼─────────────────┤\n",
       "│ bidirectional (\u001b[38;5;33mBidirectional\u001b[0m)        │ (\u001b[38;5;45mNone\u001b[0m, \u001b[38;5;34m200\u001b[0m)                 │          \u001b[38;5;34m86,400\u001b[0m │\n",
       "├──────────────────────────────────────┼─────────────────────────────┼─────────────────┤\n",
       "│ dense (\u001b[38;5;33mDense\u001b[0m)                        │ (\u001b[38;5;45mNone\u001b[0m, \u001b[38;5;34m150\u001b[0m)                 │          \u001b[38;5;34m30,150\u001b[0m │\n",
       "├──────────────────────────────────────┼─────────────────────────────┼─────────────────┤\n",
       "│ dense_1 (\u001b[38;5;33mDense\u001b[0m)                      │ (\u001b[38;5;45mNone\u001b[0m, \u001b[38;5;34m150\u001b[0m)                 │          \u001b[38;5;34m22,650\u001b[0m │\n",
       "├──────────────────────────────────────┼─────────────────────────────┼─────────────────┤\n",
       "│ dense_2 (\u001b[38;5;33mDense\u001b[0m)                      │ (\u001b[38;5;45mNone\u001b[0m, \u001b[38;5;34m1\u001b[0m)                   │             \u001b[38;5;34m151\u001b[0m │\n",
       "└──────────────────────────────────────┴─────────────────────────────┴─────────────────┘\n"
      ]
     },
     "metadata": {},
     "output_type": "display_data"
    },
    {
     "data": {
      "text/html": [
       "<pre style=\"white-space:pre;overflow-x:auto;line-height:normal;font-family:Menlo,'DejaVu Sans Mono',consolas,'Courier New',monospace\"><span style=\"font-weight: bold\"> Total params: </span><span style=\"color: #00af00; text-decoration-color: #00af00\">139,372</span> (544.42 KB)\n",
       "</pre>\n"
      ],
      "text/plain": [
       "\u001b[1m Total params: \u001b[0m\u001b[38;5;34m139,372\u001b[0m (544.42 KB)\n"
      ]
     },
     "metadata": {},
     "output_type": "display_data"
    },
    {
     "data": {
      "text/html": [
       "<pre style=\"white-space:pre;overflow-x:auto;line-height:normal;font-family:Menlo,'DejaVu Sans Mono',consolas,'Courier New',monospace\"><span style=\"font-weight: bold\"> Trainable params: </span><span style=\"color: #00af00; text-decoration-color: #00af00\">139,372</span> (544.42 KB)\n",
       "</pre>\n"
      ],
      "text/plain": [
       "\u001b[1m Trainable params: \u001b[0m\u001b[38;5;34m139,372\u001b[0m (544.42 KB)\n"
      ]
     },
     "metadata": {},
     "output_type": "display_data"
    },
    {
     "data": {
      "text/html": [
       "<pre style=\"white-space:pre;overflow-x:auto;line-height:normal;font-family:Menlo,'DejaVu Sans Mono',consolas,'Courier New',monospace\"><span style=\"font-weight: bold\"> Non-trainable params: </span><span style=\"color: #00af00; text-decoration-color: #00af00\">0</span> (0.00 B)\n",
       "</pre>\n"
      ],
      "text/plain": [
       "\u001b[1m Non-trainable params: \u001b[0m\u001b[38;5;34m0\u001b[0m (0.00 B)\n"
      ]
     },
     "metadata": {},
     "output_type": "display_data"
    },
    {
     "name": "stdout",
     "output_type": "stream",
     "text": [
      "\u001b[31m------------------------------------------------------------------------\u001b[0m\n",
      "\u001b[31m第 2 個 IMF\u001b[0m\n",
      "\u001b[31m------------------------------------------------------------------------\u001b[0m\n",
      "\u001b[93m# 定義 Model：4\u001b[0m\n",
      "CNN-BiLSTM\n"
     ]
    },
    {
     "data": {
      "text/html": [
       "<pre style=\"white-space:pre;overflow-x:auto;line-height:normal;font-family:Menlo,'DejaVu Sans Mono',consolas,'Courier New',monospace\"><span style=\"font-weight: bold\">Model: \"sequential_1\"</span>\n",
       "</pre>\n"
      ],
      "text/plain": [
       "\u001b[1mModel: \"sequential_1\"\u001b[0m\n"
      ]
     },
     "metadata": {},
     "output_type": "display_data"
    },
    {
     "data": {
      "text/html": [
       "<pre style=\"white-space:pre;overflow-x:auto;line-height:normal;font-family:Menlo,'DejaVu Sans Mono',consolas,'Courier New',monospace\">┏━━━━━━━━━━━━━━━━━━━━━━━━━━━━━━━━━━━━━━┳━━━━━━━━━━━━━━━━━━━━━━━━━━━━━┳━━━━━━━━━━━━━━━━━┓\n",
       "┃<span style=\"font-weight: bold\"> Layer (type)                         </span>┃<span style=\"font-weight: bold\"> Output Shape                </span>┃<span style=\"font-weight: bold\">         Param # </span>┃\n",
       "┡━━━━━━━━━━━━━━━━━━━━━━━━━━━━━━━━━━━━━━╇━━━━━━━━━━━━━━━━━━━━━━━━━━━━━╇━━━━━━━━━━━━━━━━━┩\n",
       "│ conv1d_1 (<span style=\"color: #0087ff; text-decoration-color: #0087ff\">Conv1D</span>)                    │ (<span style=\"color: #00d7ff; text-decoration-color: #00d7ff\">None</span>, <span style=\"color: #00af00; text-decoration-color: #00af00\">13</span>, <span style=\"color: #00af00; text-decoration-color: #00af00\">7</span>)               │              <span style=\"color: #00af00; text-decoration-color: #00af00\">21</span> │\n",
       "├──────────────────────────────────────┼─────────────────────────────┼─────────────────┤\n",
       "│ max_pooling1d_1 (<span style=\"color: #0087ff; text-decoration-color: #0087ff\">MaxPooling1D</span>)       │ (<span style=\"color: #00d7ff; text-decoration-color: #00d7ff\">None</span>, <span style=\"color: #00af00; text-decoration-color: #00af00\">6</span>, <span style=\"color: #00af00; text-decoration-color: #00af00\">7</span>)                │               <span style=\"color: #00af00; text-decoration-color: #00af00\">0</span> │\n",
       "├──────────────────────────────────────┼─────────────────────────────┼─────────────────┤\n",
       "│ bidirectional_1 (<span style=\"color: #0087ff; text-decoration-color: #0087ff\">Bidirectional</span>)      │ (<span style=\"color: #00d7ff; text-decoration-color: #00d7ff\">None</span>, <span style=\"color: #00af00; text-decoration-color: #00af00\">200</span>)                 │          <span style=\"color: #00af00; text-decoration-color: #00af00\">86,400</span> │\n",
       "├──────────────────────────────────────┼─────────────────────────────┼─────────────────┤\n",
       "│ dense_3 (<span style=\"color: #0087ff; text-decoration-color: #0087ff\">Dense</span>)                      │ (<span style=\"color: #00d7ff; text-decoration-color: #00d7ff\">None</span>, <span style=\"color: #00af00; text-decoration-color: #00af00\">150</span>)                 │          <span style=\"color: #00af00; text-decoration-color: #00af00\">30,150</span> │\n",
       "├──────────────────────────────────────┼─────────────────────────────┼─────────────────┤\n",
       "│ dense_4 (<span style=\"color: #0087ff; text-decoration-color: #0087ff\">Dense</span>)                      │ (<span style=\"color: #00d7ff; text-decoration-color: #00d7ff\">None</span>, <span style=\"color: #00af00; text-decoration-color: #00af00\">150</span>)                 │          <span style=\"color: #00af00; text-decoration-color: #00af00\">22,650</span> │\n",
       "├──────────────────────────────────────┼─────────────────────────────┼─────────────────┤\n",
       "│ dense_5 (<span style=\"color: #0087ff; text-decoration-color: #0087ff\">Dense</span>)                      │ (<span style=\"color: #00d7ff; text-decoration-color: #00d7ff\">None</span>, <span style=\"color: #00af00; text-decoration-color: #00af00\">1</span>)                   │             <span style=\"color: #00af00; text-decoration-color: #00af00\">151</span> │\n",
       "└──────────────────────────────────────┴─────────────────────────────┴─────────────────┘\n",
       "</pre>\n"
      ],
      "text/plain": [
       "┏━━━━━━━━━━━━━━━━━━━━━━━━━━━━━━━━━━━━━━┳━━━━━━━━━━━━━━━━━━━━━━━━━━━━━┳━━━━━━━━━━━━━━━━━┓\n",
       "┃\u001b[1m \u001b[0m\u001b[1mLayer (type)                        \u001b[0m\u001b[1m \u001b[0m┃\u001b[1m \u001b[0m\u001b[1mOutput Shape               \u001b[0m\u001b[1m \u001b[0m┃\u001b[1m \u001b[0m\u001b[1m        Param #\u001b[0m\u001b[1m \u001b[0m┃\n",
       "┡━━━━━━━━━━━━━━━━━━━━━━━━━━━━━━━━━━━━━━╇━━━━━━━━━━━━━━━━━━━━━━━━━━━━━╇━━━━━━━━━━━━━━━━━┩\n",
       "│ conv1d_1 (\u001b[38;5;33mConv1D\u001b[0m)                    │ (\u001b[38;5;45mNone\u001b[0m, \u001b[38;5;34m13\u001b[0m, \u001b[38;5;34m7\u001b[0m)               │              \u001b[38;5;34m21\u001b[0m │\n",
       "├──────────────────────────────────────┼─────────────────────────────┼─────────────────┤\n",
       "│ max_pooling1d_1 (\u001b[38;5;33mMaxPooling1D\u001b[0m)       │ (\u001b[38;5;45mNone\u001b[0m, \u001b[38;5;34m6\u001b[0m, \u001b[38;5;34m7\u001b[0m)                │               \u001b[38;5;34m0\u001b[0m │\n",
       "├──────────────────────────────────────┼─────────────────────────────┼─────────────────┤\n",
       "│ bidirectional_1 (\u001b[38;5;33mBidirectional\u001b[0m)      │ (\u001b[38;5;45mNone\u001b[0m, \u001b[38;5;34m200\u001b[0m)                 │          \u001b[38;5;34m86,400\u001b[0m │\n",
       "├──────────────────────────────────────┼─────────────────────────────┼─────────────────┤\n",
       "│ dense_3 (\u001b[38;5;33mDense\u001b[0m)                      │ (\u001b[38;5;45mNone\u001b[0m, \u001b[38;5;34m150\u001b[0m)                 │          \u001b[38;5;34m30,150\u001b[0m │\n",
       "├──────────────────────────────────────┼─────────────────────────────┼─────────────────┤\n",
       "│ dense_4 (\u001b[38;5;33mDense\u001b[0m)                      │ (\u001b[38;5;45mNone\u001b[0m, \u001b[38;5;34m150\u001b[0m)                 │          \u001b[38;5;34m22,650\u001b[0m │\n",
       "├──────────────────────────────────────┼─────────────────────────────┼─────────────────┤\n",
       "│ dense_5 (\u001b[38;5;33mDense\u001b[0m)                      │ (\u001b[38;5;45mNone\u001b[0m, \u001b[38;5;34m1\u001b[0m)                   │             \u001b[38;5;34m151\u001b[0m │\n",
       "└──────────────────────────────────────┴─────────────────────────────┴─────────────────┘\n"
      ]
     },
     "metadata": {},
     "output_type": "display_data"
    },
    {
     "data": {
      "text/html": [
       "<pre style=\"white-space:pre;overflow-x:auto;line-height:normal;font-family:Menlo,'DejaVu Sans Mono',consolas,'Courier New',monospace\"><span style=\"font-weight: bold\"> Total params: </span><span style=\"color: #00af00; text-decoration-color: #00af00\">139,372</span> (544.42 KB)\n",
       "</pre>\n"
      ],
      "text/plain": [
       "\u001b[1m Total params: \u001b[0m\u001b[38;5;34m139,372\u001b[0m (544.42 KB)\n"
      ]
     },
     "metadata": {},
     "output_type": "display_data"
    },
    {
     "data": {
      "text/html": [
       "<pre style=\"white-space:pre;overflow-x:auto;line-height:normal;font-family:Menlo,'DejaVu Sans Mono',consolas,'Courier New',monospace\"><span style=\"font-weight: bold\"> Trainable params: </span><span style=\"color: #00af00; text-decoration-color: #00af00\">139,372</span> (544.42 KB)\n",
       "</pre>\n"
      ],
      "text/plain": [
       "\u001b[1m Trainable params: \u001b[0m\u001b[38;5;34m139,372\u001b[0m (544.42 KB)\n"
      ]
     },
     "metadata": {},
     "output_type": "display_data"
    },
    {
     "data": {
      "text/html": [
       "<pre style=\"white-space:pre;overflow-x:auto;line-height:normal;font-family:Menlo,'DejaVu Sans Mono',consolas,'Courier New',monospace\"><span style=\"font-weight: bold\"> Non-trainable params: </span><span style=\"color: #00af00; text-decoration-color: #00af00\">0</span> (0.00 B)\n",
       "</pre>\n"
      ],
      "text/plain": [
       "\u001b[1m Non-trainable params: \u001b[0m\u001b[38;5;34m0\u001b[0m (0.00 B)\n"
      ]
     },
     "metadata": {},
     "output_type": "display_data"
    },
    {
     "name": "stdout",
     "output_type": "stream",
     "text": [
      "\u001b[31m------------------------------------------------------------------------\u001b[0m\n",
      "\u001b[31m第 3 個 IMF\u001b[0m\n",
      "\u001b[31m------------------------------------------------------------------------\u001b[0m\n",
      "\u001b[93m# 定義 Model：4\u001b[0m\n",
      "CNN-BiLSTM\n"
     ]
    },
    {
     "data": {
      "text/html": [
       "<pre style=\"white-space:pre;overflow-x:auto;line-height:normal;font-family:Menlo,'DejaVu Sans Mono',consolas,'Courier New',monospace\"><span style=\"font-weight: bold\">Model: \"sequential_2\"</span>\n",
       "</pre>\n"
      ],
      "text/plain": [
       "\u001b[1mModel: \"sequential_2\"\u001b[0m\n"
      ]
     },
     "metadata": {},
     "output_type": "display_data"
    },
    {
     "data": {
      "text/html": [
       "<pre style=\"white-space:pre;overflow-x:auto;line-height:normal;font-family:Menlo,'DejaVu Sans Mono',consolas,'Courier New',monospace\">┏━━━━━━━━━━━━━━━━━━━━━━━━━━━━━━━━━━━━━━┳━━━━━━━━━━━━━━━━━━━━━━━━━━━━━┳━━━━━━━━━━━━━━━━━┓\n",
       "┃<span style=\"font-weight: bold\"> Layer (type)                         </span>┃<span style=\"font-weight: bold\"> Output Shape                </span>┃<span style=\"font-weight: bold\">         Param # </span>┃\n",
       "┡━━━━━━━━━━━━━━━━━━━━━━━━━━━━━━━━━━━━━━╇━━━━━━━━━━━━━━━━━━━━━━━━━━━━━╇━━━━━━━━━━━━━━━━━┩\n",
       "│ conv1d_2 (<span style=\"color: #0087ff; text-decoration-color: #0087ff\">Conv1D</span>)                    │ (<span style=\"color: #00d7ff; text-decoration-color: #00d7ff\">None</span>, <span style=\"color: #00af00; text-decoration-color: #00af00\">13</span>, <span style=\"color: #00af00; text-decoration-color: #00af00\">7</span>)               │              <span style=\"color: #00af00; text-decoration-color: #00af00\">21</span> │\n",
       "├──────────────────────────────────────┼─────────────────────────────┼─────────────────┤\n",
       "│ max_pooling1d_2 (<span style=\"color: #0087ff; text-decoration-color: #0087ff\">MaxPooling1D</span>)       │ (<span style=\"color: #00d7ff; text-decoration-color: #00d7ff\">None</span>, <span style=\"color: #00af00; text-decoration-color: #00af00\">6</span>, <span style=\"color: #00af00; text-decoration-color: #00af00\">7</span>)                │               <span style=\"color: #00af00; text-decoration-color: #00af00\">0</span> │\n",
       "├──────────────────────────────────────┼─────────────────────────────┼─────────────────┤\n",
       "│ bidirectional_2 (<span style=\"color: #0087ff; text-decoration-color: #0087ff\">Bidirectional</span>)      │ (<span style=\"color: #00d7ff; text-decoration-color: #00d7ff\">None</span>, <span style=\"color: #00af00; text-decoration-color: #00af00\">200</span>)                 │          <span style=\"color: #00af00; text-decoration-color: #00af00\">86,400</span> │\n",
       "├──────────────────────────────────────┼─────────────────────────────┼─────────────────┤\n",
       "│ dense_6 (<span style=\"color: #0087ff; text-decoration-color: #0087ff\">Dense</span>)                      │ (<span style=\"color: #00d7ff; text-decoration-color: #00d7ff\">None</span>, <span style=\"color: #00af00; text-decoration-color: #00af00\">150</span>)                 │          <span style=\"color: #00af00; text-decoration-color: #00af00\">30,150</span> │\n",
       "├──────────────────────────────────────┼─────────────────────────────┼─────────────────┤\n",
       "│ dense_7 (<span style=\"color: #0087ff; text-decoration-color: #0087ff\">Dense</span>)                      │ (<span style=\"color: #00d7ff; text-decoration-color: #00d7ff\">None</span>, <span style=\"color: #00af00; text-decoration-color: #00af00\">150</span>)                 │          <span style=\"color: #00af00; text-decoration-color: #00af00\">22,650</span> │\n",
       "├──────────────────────────────────────┼─────────────────────────────┼─────────────────┤\n",
       "│ dense_8 (<span style=\"color: #0087ff; text-decoration-color: #0087ff\">Dense</span>)                      │ (<span style=\"color: #00d7ff; text-decoration-color: #00d7ff\">None</span>, <span style=\"color: #00af00; text-decoration-color: #00af00\">1</span>)                   │             <span style=\"color: #00af00; text-decoration-color: #00af00\">151</span> │\n",
       "└──────────────────────────────────────┴─────────────────────────────┴─────────────────┘\n",
       "</pre>\n"
      ],
      "text/plain": [
       "┏━━━━━━━━━━━━━━━━━━━━━━━━━━━━━━━━━━━━━━┳━━━━━━━━━━━━━━━━━━━━━━━━━━━━━┳━━━━━━━━━━━━━━━━━┓\n",
       "┃\u001b[1m \u001b[0m\u001b[1mLayer (type)                        \u001b[0m\u001b[1m \u001b[0m┃\u001b[1m \u001b[0m\u001b[1mOutput Shape               \u001b[0m\u001b[1m \u001b[0m┃\u001b[1m \u001b[0m\u001b[1m        Param #\u001b[0m\u001b[1m \u001b[0m┃\n",
       "┡━━━━━━━━━━━━━━━━━━━━━━━━━━━━━━━━━━━━━━╇━━━━━━━━━━━━━━━━━━━━━━━━━━━━━╇━━━━━━━━━━━━━━━━━┩\n",
       "│ conv1d_2 (\u001b[38;5;33mConv1D\u001b[0m)                    │ (\u001b[38;5;45mNone\u001b[0m, \u001b[38;5;34m13\u001b[0m, \u001b[38;5;34m7\u001b[0m)               │              \u001b[38;5;34m21\u001b[0m │\n",
       "├──────────────────────────────────────┼─────────────────────────────┼─────────────────┤\n",
       "│ max_pooling1d_2 (\u001b[38;5;33mMaxPooling1D\u001b[0m)       │ (\u001b[38;5;45mNone\u001b[0m, \u001b[38;5;34m6\u001b[0m, \u001b[38;5;34m7\u001b[0m)                │               \u001b[38;5;34m0\u001b[0m │\n",
       "├──────────────────────────────────────┼─────────────────────────────┼─────────────────┤\n",
       "│ bidirectional_2 (\u001b[38;5;33mBidirectional\u001b[0m)      │ (\u001b[38;5;45mNone\u001b[0m, \u001b[38;5;34m200\u001b[0m)                 │          \u001b[38;5;34m86,400\u001b[0m │\n",
       "├──────────────────────────────────────┼─────────────────────────────┼─────────────────┤\n",
       "│ dense_6 (\u001b[38;5;33mDense\u001b[0m)                      │ (\u001b[38;5;45mNone\u001b[0m, \u001b[38;5;34m150\u001b[0m)                 │          \u001b[38;5;34m30,150\u001b[0m │\n",
       "├──────────────────────────────────────┼─────────────────────────────┼─────────────────┤\n",
       "│ dense_7 (\u001b[38;5;33mDense\u001b[0m)                      │ (\u001b[38;5;45mNone\u001b[0m, \u001b[38;5;34m150\u001b[0m)                 │          \u001b[38;5;34m22,650\u001b[0m │\n",
       "├──────────────────────────────────────┼─────────────────────────────┼─────────────────┤\n",
       "│ dense_8 (\u001b[38;5;33mDense\u001b[0m)                      │ (\u001b[38;5;45mNone\u001b[0m, \u001b[38;5;34m1\u001b[0m)                   │             \u001b[38;5;34m151\u001b[0m │\n",
       "└──────────────────────────────────────┴─────────────────────────────┴─────────────────┘\n"
      ]
     },
     "metadata": {},
     "output_type": "display_data"
    },
    {
     "data": {
      "text/html": [
       "<pre style=\"white-space:pre;overflow-x:auto;line-height:normal;font-family:Menlo,'DejaVu Sans Mono',consolas,'Courier New',monospace\"><span style=\"font-weight: bold\"> Total params: </span><span style=\"color: #00af00; text-decoration-color: #00af00\">139,372</span> (544.42 KB)\n",
       "</pre>\n"
      ],
      "text/plain": [
       "\u001b[1m Total params: \u001b[0m\u001b[38;5;34m139,372\u001b[0m (544.42 KB)\n"
      ]
     },
     "metadata": {},
     "output_type": "display_data"
    },
    {
     "data": {
      "text/html": [
       "<pre style=\"white-space:pre;overflow-x:auto;line-height:normal;font-family:Menlo,'DejaVu Sans Mono',consolas,'Courier New',monospace\"><span style=\"font-weight: bold\"> Trainable params: </span><span style=\"color: #00af00; text-decoration-color: #00af00\">139,372</span> (544.42 KB)\n",
       "</pre>\n"
      ],
      "text/plain": [
       "\u001b[1m Trainable params: \u001b[0m\u001b[38;5;34m139,372\u001b[0m (544.42 KB)\n"
      ]
     },
     "metadata": {},
     "output_type": "display_data"
    },
    {
     "data": {
      "text/html": [
       "<pre style=\"white-space:pre;overflow-x:auto;line-height:normal;font-family:Menlo,'DejaVu Sans Mono',consolas,'Courier New',monospace\"><span style=\"font-weight: bold\"> Non-trainable params: </span><span style=\"color: #00af00; text-decoration-color: #00af00\">0</span> (0.00 B)\n",
       "</pre>\n"
      ],
      "text/plain": [
       "\u001b[1m Non-trainable params: \u001b[0m\u001b[38;5;34m0\u001b[0m (0.00 B)\n"
      ]
     },
     "metadata": {},
     "output_type": "display_data"
    },
    {
     "name": "stdout",
     "output_type": "stream",
     "text": [
      "\u001b[31m------------------------------------------------------------------------\u001b[0m\n",
      "\u001b[31m第 4 個 IMF\u001b[0m\n",
      "\u001b[31m------------------------------------------------------------------------\u001b[0m\n",
      "\u001b[93m# 定義 Model：4\u001b[0m\n",
      "CNN-BiLSTM\n"
     ]
    },
    {
     "data": {
      "text/html": [
       "<pre style=\"white-space:pre;overflow-x:auto;line-height:normal;font-family:Menlo,'DejaVu Sans Mono',consolas,'Courier New',monospace\"><span style=\"font-weight: bold\">Model: \"sequential_3\"</span>\n",
       "</pre>\n"
      ],
      "text/plain": [
       "\u001b[1mModel: \"sequential_3\"\u001b[0m\n"
      ]
     },
     "metadata": {},
     "output_type": "display_data"
    },
    {
     "data": {
      "text/html": [
       "<pre style=\"white-space:pre;overflow-x:auto;line-height:normal;font-family:Menlo,'DejaVu Sans Mono',consolas,'Courier New',monospace\">┏━━━━━━━━━━━━━━━━━━━━━━━━━━━━━━━━━━━━━━┳━━━━━━━━━━━━━━━━━━━━━━━━━━━━━┳━━━━━━━━━━━━━━━━━┓\n",
       "┃<span style=\"font-weight: bold\"> Layer (type)                         </span>┃<span style=\"font-weight: bold\"> Output Shape                </span>┃<span style=\"font-weight: bold\">         Param # </span>┃\n",
       "┡━━━━━━━━━━━━━━━━━━━━━━━━━━━━━━━━━━━━━━╇━━━━━━━━━━━━━━━━━━━━━━━━━━━━━╇━━━━━━━━━━━━━━━━━┩\n",
       "│ conv1d_3 (<span style=\"color: #0087ff; text-decoration-color: #0087ff\">Conv1D</span>)                    │ (<span style=\"color: #00d7ff; text-decoration-color: #00d7ff\">None</span>, <span style=\"color: #00af00; text-decoration-color: #00af00\">13</span>, <span style=\"color: #00af00; text-decoration-color: #00af00\">7</span>)               │              <span style=\"color: #00af00; text-decoration-color: #00af00\">21</span> │\n",
       "├──────────────────────────────────────┼─────────────────────────────┼─────────────────┤\n",
       "│ max_pooling1d_3 (<span style=\"color: #0087ff; text-decoration-color: #0087ff\">MaxPooling1D</span>)       │ (<span style=\"color: #00d7ff; text-decoration-color: #00d7ff\">None</span>, <span style=\"color: #00af00; text-decoration-color: #00af00\">6</span>, <span style=\"color: #00af00; text-decoration-color: #00af00\">7</span>)                │               <span style=\"color: #00af00; text-decoration-color: #00af00\">0</span> │\n",
       "├──────────────────────────────────────┼─────────────────────────────┼─────────────────┤\n",
       "│ bidirectional_3 (<span style=\"color: #0087ff; text-decoration-color: #0087ff\">Bidirectional</span>)      │ (<span style=\"color: #00d7ff; text-decoration-color: #00d7ff\">None</span>, <span style=\"color: #00af00; text-decoration-color: #00af00\">200</span>)                 │          <span style=\"color: #00af00; text-decoration-color: #00af00\">86,400</span> │\n",
       "├──────────────────────────────────────┼─────────────────────────────┼─────────────────┤\n",
       "│ dense_9 (<span style=\"color: #0087ff; text-decoration-color: #0087ff\">Dense</span>)                      │ (<span style=\"color: #00d7ff; text-decoration-color: #00d7ff\">None</span>, <span style=\"color: #00af00; text-decoration-color: #00af00\">150</span>)                 │          <span style=\"color: #00af00; text-decoration-color: #00af00\">30,150</span> │\n",
       "├──────────────────────────────────────┼─────────────────────────────┼─────────────────┤\n",
       "│ dense_10 (<span style=\"color: #0087ff; text-decoration-color: #0087ff\">Dense</span>)                     │ (<span style=\"color: #00d7ff; text-decoration-color: #00d7ff\">None</span>, <span style=\"color: #00af00; text-decoration-color: #00af00\">150</span>)                 │          <span style=\"color: #00af00; text-decoration-color: #00af00\">22,650</span> │\n",
       "├──────────────────────────────────────┼─────────────────────────────┼─────────────────┤\n",
       "│ dense_11 (<span style=\"color: #0087ff; text-decoration-color: #0087ff\">Dense</span>)                     │ (<span style=\"color: #00d7ff; text-decoration-color: #00d7ff\">None</span>, <span style=\"color: #00af00; text-decoration-color: #00af00\">1</span>)                   │             <span style=\"color: #00af00; text-decoration-color: #00af00\">151</span> │\n",
       "└──────────────────────────────────────┴─────────────────────────────┴─────────────────┘\n",
       "</pre>\n"
      ],
      "text/plain": [
       "┏━━━━━━━━━━━━━━━━━━━━━━━━━━━━━━━━━━━━━━┳━━━━━━━━━━━━━━━━━━━━━━━━━━━━━┳━━━━━━━━━━━━━━━━━┓\n",
       "┃\u001b[1m \u001b[0m\u001b[1mLayer (type)                        \u001b[0m\u001b[1m \u001b[0m┃\u001b[1m \u001b[0m\u001b[1mOutput Shape               \u001b[0m\u001b[1m \u001b[0m┃\u001b[1m \u001b[0m\u001b[1m        Param #\u001b[0m\u001b[1m \u001b[0m┃\n",
       "┡━━━━━━━━━━━━━━━━━━━━━━━━━━━━━━━━━━━━━━╇━━━━━━━━━━━━━━━━━━━━━━━━━━━━━╇━━━━━━━━━━━━━━━━━┩\n",
       "│ conv1d_3 (\u001b[38;5;33mConv1D\u001b[0m)                    │ (\u001b[38;5;45mNone\u001b[0m, \u001b[38;5;34m13\u001b[0m, \u001b[38;5;34m7\u001b[0m)               │              \u001b[38;5;34m21\u001b[0m │\n",
       "├──────────────────────────────────────┼─────────────────────────────┼─────────────────┤\n",
       "│ max_pooling1d_3 (\u001b[38;5;33mMaxPooling1D\u001b[0m)       │ (\u001b[38;5;45mNone\u001b[0m, \u001b[38;5;34m6\u001b[0m, \u001b[38;5;34m7\u001b[0m)                │               \u001b[38;5;34m0\u001b[0m │\n",
       "├──────────────────────────────────────┼─────────────────────────────┼─────────────────┤\n",
       "│ bidirectional_3 (\u001b[38;5;33mBidirectional\u001b[0m)      │ (\u001b[38;5;45mNone\u001b[0m, \u001b[38;5;34m200\u001b[0m)                 │          \u001b[38;5;34m86,400\u001b[0m │\n",
       "├──────────────────────────────────────┼─────────────────────────────┼─────────────────┤\n",
       "│ dense_9 (\u001b[38;5;33mDense\u001b[0m)                      │ (\u001b[38;5;45mNone\u001b[0m, \u001b[38;5;34m150\u001b[0m)                 │          \u001b[38;5;34m30,150\u001b[0m │\n",
       "├──────────────────────────────────────┼─────────────────────────────┼─────────────────┤\n",
       "│ dense_10 (\u001b[38;5;33mDense\u001b[0m)                     │ (\u001b[38;5;45mNone\u001b[0m, \u001b[38;5;34m150\u001b[0m)                 │          \u001b[38;5;34m22,650\u001b[0m │\n",
       "├──────────────────────────────────────┼─────────────────────────────┼─────────────────┤\n",
       "│ dense_11 (\u001b[38;5;33mDense\u001b[0m)                     │ (\u001b[38;5;45mNone\u001b[0m, \u001b[38;5;34m1\u001b[0m)                   │             \u001b[38;5;34m151\u001b[0m │\n",
       "└──────────────────────────────────────┴─────────────────────────────┴─────────────────┘\n"
      ]
     },
     "metadata": {},
     "output_type": "display_data"
    },
    {
     "data": {
      "text/html": [
       "<pre style=\"white-space:pre;overflow-x:auto;line-height:normal;font-family:Menlo,'DejaVu Sans Mono',consolas,'Courier New',monospace\"><span style=\"font-weight: bold\"> Total params: </span><span style=\"color: #00af00; text-decoration-color: #00af00\">139,372</span> (544.42 KB)\n",
       "</pre>\n"
      ],
      "text/plain": [
       "\u001b[1m Total params: \u001b[0m\u001b[38;5;34m139,372\u001b[0m (544.42 KB)\n"
      ]
     },
     "metadata": {},
     "output_type": "display_data"
    },
    {
     "data": {
      "text/html": [
       "<pre style=\"white-space:pre;overflow-x:auto;line-height:normal;font-family:Menlo,'DejaVu Sans Mono',consolas,'Courier New',monospace\"><span style=\"font-weight: bold\"> Trainable params: </span><span style=\"color: #00af00; text-decoration-color: #00af00\">139,372</span> (544.42 KB)\n",
       "</pre>\n"
      ],
      "text/plain": [
       "\u001b[1m Trainable params: \u001b[0m\u001b[38;5;34m139,372\u001b[0m (544.42 KB)\n"
      ]
     },
     "metadata": {},
     "output_type": "display_data"
    },
    {
     "data": {
      "text/html": [
       "<pre style=\"white-space:pre;overflow-x:auto;line-height:normal;font-family:Menlo,'DejaVu Sans Mono',consolas,'Courier New',monospace\"><span style=\"font-weight: bold\"> Non-trainable params: </span><span style=\"color: #00af00; text-decoration-color: #00af00\">0</span> (0.00 B)\n",
       "</pre>\n"
      ],
      "text/plain": [
       "\u001b[1m Non-trainable params: \u001b[0m\u001b[38;5;34m0\u001b[0m (0.00 B)\n"
      ]
     },
     "metadata": {},
     "output_type": "display_data"
    },
    {
     "name": "stdout",
     "output_type": "stream",
     "text": [
      "\u001b[31m------------------------------------------------------------------------\u001b[0m\n",
      "\u001b[31m第 5 個 IMF\u001b[0m\n",
      "\u001b[31m------------------------------------------------------------------------\u001b[0m\n",
      "\u001b[93m# 定義 Model：4\u001b[0m\n",
      "CNN-BiLSTM\n"
     ]
    },
    {
     "data": {
      "text/html": [
       "<pre style=\"white-space:pre;overflow-x:auto;line-height:normal;font-family:Menlo,'DejaVu Sans Mono',consolas,'Courier New',monospace\"><span style=\"font-weight: bold\">Model: \"sequential_4\"</span>\n",
       "</pre>\n"
      ],
      "text/plain": [
       "\u001b[1mModel: \"sequential_4\"\u001b[0m\n"
      ]
     },
     "metadata": {},
     "output_type": "display_data"
    },
    {
     "data": {
      "text/html": [
       "<pre style=\"white-space:pre;overflow-x:auto;line-height:normal;font-family:Menlo,'DejaVu Sans Mono',consolas,'Courier New',monospace\">┏━━━━━━━━━━━━━━━━━━━━━━━━━━━━━━━━━━━━━━┳━━━━━━━━━━━━━━━━━━━━━━━━━━━━━┳━━━━━━━━━━━━━━━━━┓\n",
       "┃<span style=\"font-weight: bold\"> Layer (type)                         </span>┃<span style=\"font-weight: bold\"> Output Shape                </span>┃<span style=\"font-weight: bold\">         Param # </span>┃\n",
       "┡━━━━━━━━━━━━━━━━━━━━━━━━━━━━━━━━━━━━━━╇━━━━━━━━━━━━━━━━━━━━━━━━━━━━━╇━━━━━━━━━━━━━━━━━┩\n",
       "│ conv1d_4 (<span style=\"color: #0087ff; text-decoration-color: #0087ff\">Conv1D</span>)                    │ (<span style=\"color: #00d7ff; text-decoration-color: #00d7ff\">None</span>, <span style=\"color: #00af00; text-decoration-color: #00af00\">13</span>, <span style=\"color: #00af00; text-decoration-color: #00af00\">7</span>)               │              <span style=\"color: #00af00; text-decoration-color: #00af00\">21</span> │\n",
       "├──────────────────────────────────────┼─────────────────────────────┼─────────────────┤\n",
       "│ max_pooling1d_4 (<span style=\"color: #0087ff; text-decoration-color: #0087ff\">MaxPooling1D</span>)       │ (<span style=\"color: #00d7ff; text-decoration-color: #00d7ff\">None</span>, <span style=\"color: #00af00; text-decoration-color: #00af00\">6</span>, <span style=\"color: #00af00; text-decoration-color: #00af00\">7</span>)                │               <span style=\"color: #00af00; text-decoration-color: #00af00\">0</span> │\n",
       "├──────────────────────────────────────┼─────────────────────────────┼─────────────────┤\n",
       "│ bidirectional_4 (<span style=\"color: #0087ff; text-decoration-color: #0087ff\">Bidirectional</span>)      │ (<span style=\"color: #00d7ff; text-decoration-color: #00d7ff\">None</span>, <span style=\"color: #00af00; text-decoration-color: #00af00\">200</span>)                 │          <span style=\"color: #00af00; text-decoration-color: #00af00\">86,400</span> │\n",
       "├──────────────────────────────────────┼─────────────────────────────┼─────────────────┤\n",
       "│ dense_12 (<span style=\"color: #0087ff; text-decoration-color: #0087ff\">Dense</span>)                     │ (<span style=\"color: #00d7ff; text-decoration-color: #00d7ff\">None</span>, <span style=\"color: #00af00; text-decoration-color: #00af00\">150</span>)                 │          <span style=\"color: #00af00; text-decoration-color: #00af00\">30,150</span> │\n",
       "├──────────────────────────────────────┼─────────────────────────────┼─────────────────┤\n",
       "│ dense_13 (<span style=\"color: #0087ff; text-decoration-color: #0087ff\">Dense</span>)                     │ (<span style=\"color: #00d7ff; text-decoration-color: #00d7ff\">None</span>, <span style=\"color: #00af00; text-decoration-color: #00af00\">150</span>)                 │          <span style=\"color: #00af00; text-decoration-color: #00af00\">22,650</span> │\n",
       "├──────────────────────────────────────┼─────────────────────────────┼─────────────────┤\n",
       "│ dense_14 (<span style=\"color: #0087ff; text-decoration-color: #0087ff\">Dense</span>)                     │ (<span style=\"color: #00d7ff; text-decoration-color: #00d7ff\">None</span>, <span style=\"color: #00af00; text-decoration-color: #00af00\">1</span>)                   │             <span style=\"color: #00af00; text-decoration-color: #00af00\">151</span> │\n",
       "└──────────────────────────────────────┴─────────────────────────────┴─────────────────┘\n",
       "</pre>\n"
      ],
      "text/plain": [
       "┏━━━━━━━━━━━━━━━━━━━━━━━━━━━━━━━━━━━━━━┳━━━━━━━━━━━━━━━━━━━━━━━━━━━━━┳━━━━━━━━━━━━━━━━━┓\n",
       "┃\u001b[1m \u001b[0m\u001b[1mLayer (type)                        \u001b[0m\u001b[1m \u001b[0m┃\u001b[1m \u001b[0m\u001b[1mOutput Shape               \u001b[0m\u001b[1m \u001b[0m┃\u001b[1m \u001b[0m\u001b[1m        Param #\u001b[0m\u001b[1m \u001b[0m┃\n",
       "┡━━━━━━━━━━━━━━━━━━━━━━━━━━━━━━━━━━━━━━╇━━━━━━━━━━━━━━━━━━━━━━━━━━━━━╇━━━━━━━━━━━━━━━━━┩\n",
       "│ conv1d_4 (\u001b[38;5;33mConv1D\u001b[0m)                    │ (\u001b[38;5;45mNone\u001b[0m, \u001b[38;5;34m13\u001b[0m, \u001b[38;5;34m7\u001b[0m)               │              \u001b[38;5;34m21\u001b[0m │\n",
       "├──────────────────────────────────────┼─────────────────────────────┼─────────────────┤\n",
       "│ max_pooling1d_4 (\u001b[38;5;33mMaxPooling1D\u001b[0m)       │ (\u001b[38;5;45mNone\u001b[0m, \u001b[38;5;34m6\u001b[0m, \u001b[38;5;34m7\u001b[0m)                │               \u001b[38;5;34m0\u001b[0m │\n",
       "├──────────────────────────────────────┼─────────────────────────────┼─────────────────┤\n",
       "│ bidirectional_4 (\u001b[38;5;33mBidirectional\u001b[0m)      │ (\u001b[38;5;45mNone\u001b[0m, \u001b[38;5;34m200\u001b[0m)                 │          \u001b[38;5;34m86,400\u001b[0m │\n",
       "├──────────────────────────────────────┼─────────────────────────────┼─────────────────┤\n",
       "│ dense_12 (\u001b[38;5;33mDense\u001b[0m)                     │ (\u001b[38;5;45mNone\u001b[0m, \u001b[38;5;34m150\u001b[0m)                 │          \u001b[38;5;34m30,150\u001b[0m │\n",
       "├──────────────────────────────────────┼─────────────────────────────┼─────────────────┤\n",
       "│ dense_13 (\u001b[38;5;33mDense\u001b[0m)                     │ (\u001b[38;5;45mNone\u001b[0m, \u001b[38;5;34m150\u001b[0m)                 │          \u001b[38;5;34m22,650\u001b[0m │\n",
       "├──────────────────────────────────────┼─────────────────────────────┼─────────────────┤\n",
       "│ dense_14 (\u001b[38;5;33mDense\u001b[0m)                     │ (\u001b[38;5;45mNone\u001b[0m, \u001b[38;5;34m1\u001b[0m)                   │             \u001b[38;5;34m151\u001b[0m │\n",
       "└──────────────────────────────────────┴─────────────────────────────┴─────────────────┘\n"
      ]
     },
     "metadata": {},
     "output_type": "display_data"
    },
    {
     "data": {
      "text/html": [
       "<pre style=\"white-space:pre;overflow-x:auto;line-height:normal;font-family:Menlo,'DejaVu Sans Mono',consolas,'Courier New',monospace\"><span style=\"font-weight: bold\"> Total params: </span><span style=\"color: #00af00; text-decoration-color: #00af00\">139,372</span> (544.42 KB)\n",
       "</pre>\n"
      ],
      "text/plain": [
       "\u001b[1m Total params: \u001b[0m\u001b[38;5;34m139,372\u001b[0m (544.42 KB)\n"
      ]
     },
     "metadata": {},
     "output_type": "display_data"
    },
    {
     "data": {
      "text/html": [
       "<pre style=\"white-space:pre;overflow-x:auto;line-height:normal;font-family:Menlo,'DejaVu Sans Mono',consolas,'Courier New',monospace\"><span style=\"font-weight: bold\"> Trainable params: </span><span style=\"color: #00af00; text-decoration-color: #00af00\">139,372</span> (544.42 KB)\n",
       "</pre>\n"
      ],
      "text/plain": [
       "\u001b[1m Trainable params: \u001b[0m\u001b[38;5;34m139,372\u001b[0m (544.42 KB)\n"
      ]
     },
     "metadata": {},
     "output_type": "display_data"
    },
    {
     "data": {
      "text/html": [
       "<pre style=\"white-space:pre;overflow-x:auto;line-height:normal;font-family:Menlo,'DejaVu Sans Mono',consolas,'Courier New',monospace\"><span style=\"font-weight: bold\"> Non-trainable params: </span><span style=\"color: #00af00; text-decoration-color: #00af00\">0</span> (0.00 B)\n",
       "</pre>\n"
      ],
      "text/plain": [
       "\u001b[1m Non-trainable params: \u001b[0m\u001b[38;5;34m0\u001b[0m (0.00 B)\n"
      ]
     },
     "metadata": {},
     "output_type": "display_data"
    },
    {
     "name": "stdout",
     "output_type": "stream",
     "text": [
      "\u001b[31m------------------------------------------------------------------------\u001b[0m\n",
      "\u001b[31m第 6 個 IMF\u001b[0m\n",
      "\u001b[31m------------------------------------------------------------------------\u001b[0m\n",
      "\u001b[93m# 定義 Model：4\u001b[0m\n",
      "CNN-BiLSTM\n"
     ]
    },
    {
     "data": {
      "text/html": [
       "<pre style=\"white-space:pre;overflow-x:auto;line-height:normal;font-family:Menlo,'DejaVu Sans Mono',consolas,'Courier New',monospace\"><span style=\"font-weight: bold\">Model: \"sequential_5\"</span>\n",
       "</pre>\n"
      ],
      "text/plain": [
       "\u001b[1mModel: \"sequential_5\"\u001b[0m\n"
      ]
     },
     "metadata": {},
     "output_type": "display_data"
    },
    {
     "data": {
      "text/html": [
       "<pre style=\"white-space:pre;overflow-x:auto;line-height:normal;font-family:Menlo,'DejaVu Sans Mono',consolas,'Courier New',monospace\">┏━━━━━━━━━━━━━━━━━━━━━━━━━━━━━━━━━━━━━━┳━━━━━━━━━━━━━━━━━━━━━━━━━━━━━┳━━━━━━━━━━━━━━━━━┓\n",
       "┃<span style=\"font-weight: bold\"> Layer (type)                         </span>┃<span style=\"font-weight: bold\"> Output Shape                </span>┃<span style=\"font-weight: bold\">         Param # </span>┃\n",
       "┡━━━━━━━━━━━━━━━━━━━━━━━━━━━━━━━━━━━━━━╇━━━━━━━━━━━━━━━━━━━━━━━━━━━━━╇━━━━━━━━━━━━━━━━━┩\n",
       "│ conv1d_5 (<span style=\"color: #0087ff; text-decoration-color: #0087ff\">Conv1D</span>)                    │ (<span style=\"color: #00d7ff; text-decoration-color: #00d7ff\">None</span>, <span style=\"color: #00af00; text-decoration-color: #00af00\">13</span>, <span style=\"color: #00af00; text-decoration-color: #00af00\">7</span>)               │              <span style=\"color: #00af00; text-decoration-color: #00af00\">21</span> │\n",
       "├──────────────────────────────────────┼─────────────────────────────┼─────────────────┤\n",
       "│ max_pooling1d_5 (<span style=\"color: #0087ff; text-decoration-color: #0087ff\">MaxPooling1D</span>)       │ (<span style=\"color: #00d7ff; text-decoration-color: #00d7ff\">None</span>, <span style=\"color: #00af00; text-decoration-color: #00af00\">6</span>, <span style=\"color: #00af00; text-decoration-color: #00af00\">7</span>)                │               <span style=\"color: #00af00; text-decoration-color: #00af00\">0</span> │\n",
       "├──────────────────────────────────────┼─────────────────────────────┼─────────────────┤\n",
       "│ bidirectional_5 (<span style=\"color: #0087ff; text-decoration-color: #0087ff\">Bidirectional</span>)      │ (<span style=\"color: #00d7ff; text-decoration-color: #00d7ff\">None</span>, <span style=\"color: #00af00; text-decoration-color: #00af00\">200</span>)                 │          <span style=\"color: #00af00; text-decoration-color: #00af00\">86,400</span> │\n",
       "├──────────────────────────────────────┼─────────────────────────────┼─────────────────┤\n",
       "│ dense_15 (<span style=\"color: #0087ff; text-decoration-color: #0087ff\">Dense</span>)                     │ (<span style=\"color: #00d7ff; text-decoration-color: #00d7ff\">None</span>, <span style=\"color: #00af00; text-decoration-color: #00af00\">150</span>)                 │          <span style=\"color: #00af00; text-decoration-color: #00af00\">30,150</span> │\n",
       "├──────────────────────────────────────┼─────────────────────────────┼─────────────────┤\n",
       "│ dense_16 (<span style=\"color: #0087ff; text-decoration-color: #0087ff\">Dense</span>)                     │ (<span style=\"color: #00d7ff; text-decoration-color: #00d7ff\">None</span>, <span style=\"color: #00af00; text-decoration-color: #00af00\">150</span>)                 │          <span style=\"color: #00af00; text-decoration-color: #00af00\">22,650</span> │\n",
       "├──────────────────────────────────────┼─────────────────────────────┼─────────────────┤\n",
       "│ dense_17 (<span style=\"color: #0087ff; text-decoration-color: #0087ff\">Dense</span>)                     │ (<span style=\"color: #00d7ff; text-decoration-color: #00d7ff\">None</span>, <span style=\"color: #00af00; text-decoration-color: #00af00\">1</span>)                   │             <span style=\"color: #00af00; text-decoration-color: #00af00\">151</span> │\n",
       "└──────────────────────────────────────┴─────────────────────────────┴─────────────────┘\n",
       "</pre>\n"
      ],
      "text/plain": [
       "┏━━━━━━━━━━━━━━━━━━━━━━━━━━━━━━━━━━━━━━┳━━━━━━━━━━━━━━━━━━━━━━━━━━━━━┳━━━━━━━━━━━━━━━━━┓\n",
       "┃\u001b[1m \u001b[0m\u001b[1mLayer (type)                        \u001b[0m\u001b[1m \u001b[0m┃\u001b[1m \u001b[0m\u001b[1mOutput Shape               \u001b[0m\u001b[1m \u001b[0m┃\u001b[1m \u001b[0m\u001b[1m        Param #\u001b[0m\u001b[1m \u001b[0m┃\n",
       "┡━━━━━━━━━━━━━━━━━━━━━━━━━━━━━━━━━━━━━━╇━━━━━━━━━━━━━━━━━━━━━━━━━━━━━╇━━━━━━━━━━━━━━━━━┩\n",
       "│ conv1d_5 (\u001b[38;5;33mConv1D\u001b[0m)                    │ (\u001b[38;5;45mNone\u001b[0m, \u001b[38;5;34m13\u001b[0m, \u001b[38;5;34m7\u001b[0m)               │              \u001b[38;5;34m21\u001b[0m │\n",
       "├──────────────────────────────────────┼─────────────────────────────┼─────────────────┤\n",
       "│ max_pooling1d_5 (\u001b[38;5;33mMaxPooling1D\u001b[0m)       │ (\u001b[38;5;45mNone\u001b[0m, \u001b[38;5;34m6\u001b[0m, \u001b[38;5;34m7\u001b[0m)                │               \u001b[38;5;34m0\u001b[0m │\n",
       "├──────────────────────────────────────┼─────────────────────────────┼─────────────────┤\n",
       "│ bidirectional_5 (\u001b[38;5;33mBidirectional\u001b[0m)      │ (\u001b[38;5;45mNone\u001b[0m, \u001b[38;5;34m200\u001b[0m)                 │          \u001b[38;5;34m86,400\u001b[0m │\n",
       "├──────────────────────────────────────┼─────────────────────────────┼─────────────────┤\n",
       "│ dense_15 (\u001b[38;5;33mDense\u001b[0m)                     │ (\u001b[38;5;45mNone\u001b[0m, \u001b[38;5;34m150\u001b[0m)                 │          \u001b[38;5;34m30,150\u001b[0m │\n",
       "├──────────────────────────────────────┼─────────────────────────────┼─────────────────┤\n",
       "│ dense_16 (\u001b[38;5;33mDense\u001b[0m)                     │ (\u001b[38;5;45mNone\u001b[0m, \u001b[38;5;34m150\u001b[0m)                 │          \u001b[38;5;34m22,650\u001b[0m │\n",
       "├──────────────────────────────────────┼─────────────────────────────┼─────────────────┤\n",
       "│ dense_17 (\u001b[38;5;33mDense\u001b[0m)                     │ (\u001b[38;5;45mNone\u001b[0m, \u001b[38;5;34m1\u001b[0m)                   │             \u001b[38;5;34m151\u001b[0m │\n",
       "└──────────────────────────────────────┴─────────────────────────────┴─────────────────┘\n"
      ]
     },
     "metadata": {},
     "output_type": "display_data"
    },
    {
     "data": {
      "text/html": [
       "<pre style=\"white-space:pre;overflow-x:auto;line-height:normal;font-family:Menlo,'DejaVu Sans Mono',consolas,'Courier New',monospace\"><span style=\"font-weight: bold\"> Total params: </span><span style=\"color: #00af00; text-decoration-color: #00af00\">139,372</span> (544.42 KB)\n",
       "</pre>\n"
      ],
      "text/plain": [
       "\u001b[1m Total params: \u001b[0m\u001b[38;5;34m139,372\u001b[0m (544.42 KB)\n"
      ]
     },
     "metadata": {},
     "output_type": "display_data"
    },
    {
     "data": {
      "text/html": [
       "<pre style=\"white-space:pre;overflow-x:auto;line-height:normal;font-family:Menlo,'DejaVu Sans Mono',consolas,'Courier New',monospace\"><span style=\"font-weight: bold\"> Trainable params: </span><span style=\"color: #00af00; text-decoration-color: #00af00\">139,372</span> (544.42 KB)\n",
       "</pre>\n"
      ],
      "text/plain": [
       "\u001b[1m Trainable params: \u001b[0m\u001b[38;5;34m139,372\u001b[0m (544.42 KB)\n"
      ]
     },
     "metadata": {},
     "output_type": "display_data"
    },
    {
     "data": {
      "text/html": [
       "<pre style=\"white-space:pre;overflow-x:auto;line-height:normal;font-family:Menlo,'DejaVu Sans Mono',consolas,'Courier New',monospace\"><span style=\"font-weight: bold\"> Non-trainable params: </span><span style=\"color: #00af00; text-decoration-color: #00af00\">0</span> (0.00 B)\n",
       "</pre>\n"
      ],
      "text/plain": [
       "\u001b[1m Non-trainable params: \u001b[0m\u001b[38;5;34m0\u001b[0m (0.00 B)\n"
      ]
     },
     "metadata": {},
     "output_type": "display_data"
    },
    {
     "name": "stdout",
     "output_type": "stream",
     "text": [
      "\u001b[31m------------------------------------------------------------------------\u001b[0m\n",
      "\u001b[31m第 7 個 IMF\u001b[0m\n",
      "\u001b[31m------------------------------------------------------------------------\u001b[0m\n",
      "\u001b[93m# 定義 Model：4\u001b[0m\n",
      "CNN-BiLSTM\n"
     ]
    },
    {
     "data": {
      "text/html": [
       "<pre style=\"white-space:pre;overflow-x:auto;line-height:normal;font-family:Menlo,'DejaVu Sans Mono',consolas,'Courier New',monospace\"><span style=\"font-weight: bold\">Model: \"sequential_6\"</span>\n",
       "</pre>\n"
      ],
      "text/plain": [
       "\u001b[1mModel: \"sequential_6\"\u001b[0m\n"
      ]
     },
     "metadata": {},
     "output_type": "display_data"
    },
    {
     "data": {
      "text/html": [
       "<pre style=\"white-space:pre;overflow-x:auto;line-height:normal;font-family:Menlo,'DejaVu Sans Mono',consolas,'Courier New',monospace\">┏━━━━━━━━━━━━━━━━━━━━━━━━━━━━━━━━━━━━━━┳━━━━━━━━━━━━━━━━━━━━━━━━━━━━━┳━━━━━━━━━━━━━━━━━┓\n",
       "┃<span style=\"font-weight: bold\"> Layer (type)                         </span>┃<span style=\"font-weight: bold\"> Output Shape                </span>┃<span style=\"font-weight: bold\">         Param # </span>┃\n",
       "┡━━━━━━━━━━━━━━━━━━━━━━━━━━━━━━━━━━━━━━╇━━━━━━━━━━━━━━━━━━━━━━━━━━━━━╇━━━━━━━━━━━━━━━━━┩\n",
       "│ conv1d_6 (<span style=\"color: #0087ff; text-decoration-color: #0087ff\">Conv1D</span>)                    │ (<span style=\"color: #00d7ff; text-decoration-color: #00d7ff\">None</span>, <span style=\"color: #00af00; text-decoration-color: #00af00\">13</span>, <span style=\"color: #00af00; text-decoration-color: #00af00\">7</span>)               │              <span style=\"color: #00af00; text-decoration-color: #00af00\">21</span> │\n",
       "├──────────────────────────────────────┼─────────────────────────────┼─────────────────┤\n",
       "│ max_pooling1d_6 (<span style=\"color: #0087ff; text-decoration-color: #0087ff\">MaxPooling1D</span>)       │ (<span style=\"color: #00d7ff; text-decoration-color: #00d7ff\">None</span>, <span style=\"color: #00af00; text-decoration-color: #00af00\">6</span>, <span style=\"color: #00af00; text-decoration-color: #00af00\">7</span>)                │               <span style=\"color: #00af00; text-decoration-color: #00af00\">0</span> │\n",
       "├──────────────────────────────────────┼─────────────────────────────┼─────────────────┤\n",
       "│ bidirectional_6 (<span style=\"color: #0087ff; text-decoration-color: #0087ff\">Bidirectional</span>)      │ (<span style=\"color: #00d7ff; text-decoration-color: #00d7ff\">None</span>, <span style=\"color: #00af00; text-decoration-color: #00af00\">200</span>)                 │          <span style=\"color: #00af00; text-decoration-color: #00af00\">86,400</span> │\n",
       "├──────────────────────────────────────┼─────────────────────────────┼─────────────────┤\n",
       "│ dense_18 (<span style=\"color: #0087ff; text-decoration-color: #0087ff\">Dense</span>)                     │ (<span style=\"color: #00d7ff; text-decoration-color: #00d7ff\">None</span>, <span style=\"color: #00af00; text-decoration-color: #00af00\">150</span>)                 │          <span style=\"color: #00af00; text-decoration-color: #00af00\">30,150</span> │\n",
       "├──────────────────────────────────────┼─────────────────────────────┼─────────────────┤\n",
       "│ dense_19 (<span style=\"color: #0087ff; text-decoration-color: #0087ff\">Dense</span>)                     │ (<span style=\"color: #00d7ff; text-decoration-color: #00d7ff\">None</span>, <span style=\"color: #00af00; text-decoration-color: #00af00\">150</span>)                 │          <span style=\"color: #00af00; text-decoration-color: #00af00\">22,650</span> │\n",
       "├──────────────────────────────────────┼─────────────────────────────┼─────────────────┤\n",
       "│ dense_20 (<span style=\"color: #0087ff; text-decoration-color: #0087ff\">Dense</span>)                     │ (<span style=\"color: #00d7ff; text-decoration-color: #00d7ff\">None</span>, <span style=\"color: #00af00; text-decoration-color: #00af00\">1</span>)                   │             <span style=\"color: #00af00; text-decoration-color: #00af00\">151</span> │\n",
       "└──────────────────────────────────────┴─────────────────────────────┴─────────────────┘\n",
       "</pre>\n"
      ],
      "text/plain": [
       "┏━━━━━━━━━━━━━━━━━━━━━━━━━━━━━━━━━━━━━━┳━━━━━━━━━━━━━━━━━━━━━━━━━━━━━┳━━━━━━━━━━━━━━━━━┓\n",
       "┃\u001b[1m \u001b[0m\u001b[1mLayer (type)                        \u001b[0m\u001b[1m \u001b[0m┃\u001b[1m \u001b[0m\u001b[1mOutput Shape               \u001b[0m\u001b[1m \u001b[0m┃\u001b[1m \u001b[0m\u001b[1m        Param #\u001b[0m\u001b[1m \u001b[0m┃\n",
       "┡━━━━━━━━━━━━━━━━━━━━━━━━━━━━━━━━━━━━━━╇━━━━━━━━━━━━━━━━━━━━━━━━━━━━━╇━━━━━━━━━━━━━━━━━┩\n",
       "│ conv1d_6 (\u001b[38;5;33mConv1D\u001b[0m)                    │ (\u001b[38;5;45mNone\u001b[0m, \u001b[38;5;34m13\u001b[0m, \u001b[38;5;34m7\u001b[0m)               │              \u001b[38;5;34m21\u001b[0m │\n",
       "├──────────────────────────────────────┼─────────────────────────────┼─────────────────┤\n",
       "│ max_pooling1d_6 (\u001b[38;5;33mMaxPooling1D\u001b[0m)       │ (\u001b[38;5;45mNone\u001b[0m, \u001b[38;5;34m6\u001b[0m, \u001b[38;5;34m7\u001b[0m)                │               \u001b[38;5;34m0\u001b[0m │\n",
       "├──────────────────────────────────────┼─────────────────────────────┼─────────────────┤\n",
       "│ bidirectional_6 (\u001b[38;5;33mBidirectional\u001b[0m)      │ (\u001b[38;5;45mNone\u001b[0m, \u001b[38;5;34m200\u001b[0m)                 │          \u001b[38;5;34m86,400\u001b[0m │\n",
       "├──────────────────────────────────────┼─────────────────────────────┼─────────────────┤\n",
       "│ dense_18 (\u001b[38;5;33mDense\u001b[0m)                     │ (\u001b[38;5;45mNone\u001b[0m, \u001b[38;5;34m150\u001b[0m)                 │          \u001b[38;5;34m30,150\u001b[0m │\n",
       "├──────────────────────────────────────┼─────────────────────────────┼─────────────────┤\n",
       "│ dense_19 (\u001b[38;5;33mDense\u001b[0m)                     │ (\u001b[38;5;45mNone\u001b[0m, \u001b[38;5;34m150\u001b[0m)                 │          \u001b[38;5;34m22,650\u001b[0m │\n",
       "├──────────────────────────────────────┼─────────────────────────────┼─────────────────┤\n",
       "│ dense_20 (\u001b[38;5;33mDense\u001b[0m)                     │ (\u001b[38;5;45mNone\u001b[0m, \u001b[38;5;34m1\u001b[0m)                   │             \u001b[38;5;34m151\u001b[0m │\n",
       "└──────────────────────────────────────┴─────────────────────────────┴─────────────────┘\n"
      ]
     },
     "metadata": {},
     "output_type": "display_data"
    },
    {
     "data": {
      "text/html": [
       "<pre style=\"white-space:pre;overflow-x:auto;line-height:normal;font-family:Menlo,'DejaVu Sans Mono',consolas,'Courier New',monospace\"><span style=\"font-weight: bold\"> Total params: </span><span style=\"color: #00af00; text-decoration-color: #00af00\">139,372</span> (544.42 KB)\n",
       "</pre>\n"
      ],
      "text/plain": [
       "\u001b[1m Total params: \u001b[0m\u001b[38;5;34m139,372\u001b[0m (544.42 KB)\n"
      ]
     },
     "metadata": {},
     "output_type": "display_data"
    },
    {
     "data": {
      "text/html": [
       "<pre style=\"white-space:pre;overflow-x:auto;line-height:normal;font-family:Menlo,'DejaVu Sans Mono',consolas,'Courier New',monospace\"><span style=\"font-weight: bold\"> Trainable params: </span><span style=\"color: #00af00; text-decoration-color: #00af00\">139,372</span> (544.42 KB)\n",
       "</pre>\n"
      ],
      "text/plain": [
       "\u001b[1m Trainable params: \u001b[0m\u001b[38;5;34m139,372\u001b[0m (544.42 KB)\n"
      ]
     },
     "metadata": {},
     "output_type": "display_data"
    },
    {
     "data": {
      "text/html": [
       "<pre style=\"white-space:pre;overflow-x:auto;line-height:normal;font-family:Menlo,'DejaVu Sans Mono',consolas,'Courier New',monospace\"><span style=\"font-weight: bold\"> Non-trainable params: </span><span style=\"color: #00af00; text-decoration-color: #00af00\">0</span> (0.00 B)\n",
       "</pre>\n"
      ],
      "text/plain": [
       "\u001b[1m Non-trainable params: \u001b[0m\u001b[38;5;34m0\u001b[0m (0.00 B)\n"
      ]
     },
     "metadata": {},
     "output_type": "display_data"
    },
    {
     "name": "stdout",
     "output_type": "stream",
     "text": [
      "\u001b[31m------------------------------------------------------------------------\u001b[0m\n",
      "\u001b[31m第 8 個 IMF\u001b[0m\n",
      "\u001b[31m------------------------------------------------------------------------\u001b[0m\n",
      "\u001b[93m# 定義 Model：4\u001b[0m\n",
      "CNN-BiLSTM\n"
     ]
    },
    {
     "data": {
      "text/html": [
       "<pre style=\"white-space:pre;overflow-x:auto;line-height:normal;font-family:Menlo,'DejaVu Sans Mono',consolas,'Courier New',monospace\"><span style=\"font-weight: bold\">Model: \"sequential_7\"</span>\n",
       "</pre>\n"
      ],
      "text/plain": [
       "\u001b[1mModel: \"sequential_7\"\u001b[0m\n"
      ]
     },
     "metadata": {},
     "output_type": "display_data"
    },
    {
     "data": {
      "text/html": [
       "<pre style=\"white-space:pre;overflow-x:auto;line-height:normal;font-family:Menlo,'DejaVu Sans Mono',consolas,'Courier New',monospace\">┏━━━━━━━━━━━━━━━━━━━━━━━━━━━━━━━━━━━━━━┳━━━━━━━━━━━━━━━━━━━━━━━━━━━━━┳━━━━━━━━━━━━━━━━━┓\n",
       "┃<span style=\"font-weight: bold\"> Layer (type)                         </span>┃<span style=\"font-weight: bold\"> Output Shape                </span>┃<span style=\"font-weight: bold\">         Param # </span>┃\n",
       "┡━━━━━━━━━━━━━━━━━━━━━━━━━━━━━━━━━━━━━━╇━━━━━━━━━━━━━━━━━━━━━━━━━━━━━╇━━━━━━━━━━━━━━━━━┩\n",
       "│ conv1d_7 (<span style=\"color: #0087ff; text-decoration-color: #0087ff\">Conv1D</span>)                    │ (<span style=\"color: #00d7ff; text-decoration-color: #00d7ff\">None</span>, <span style=\"color: #00af00; text-decoration-color: #00af00\">13</span>, <span style=\"color: #00af00; text-decoration-color: #00af00\">7</span>)               │              <span style=\"color: #00af00; text-decoration-color: #00af00\">21</span> │\n",
       "├──────────────────────────────────────┼─────────────────────────────┼─────────────────┤\n",
       "│ max_pooling1d_7 (<span style=\"color: #0087ff; text-decoration-color: #0087ff\">MaxPooling1D</span>)       │ (<span style=\"color: #00d7ff; text-decoration-color: #00d7ff\">None</span>, <span style=\"color: #00af00; text-decoration-color: #00af00\">6</span>, <span style=\"color: #00af00; text-decoration-color: #00af00\">7</span>)                │               <span style=\"color: #00af00; text-decoration-color: #00af00\">0</span> │\n",
       "├──────────────────────────────────────┼─────────────────────────────┼─────────────────┤\n",
       "│ bidirectional_7 (<span style=\"color: #0087ff; text-decoration-color: #0087ff\">Bidirectional</span>)      │ (<span style=\"color: #00d7ff; text-decoration-color: #00d7ff\">None</span>, <span style=\"color: #00af00; text-decoration-color: #00af00\">200</span>)                 │          <span style=\"color: #00af00; text-decoration-color: #00af00\">86,400</span> │\n",
       "├──────────────────────────────────────┼─────────────────────────────┼─────────────────┤\n",
       "│ dense_21 (<span style=\"color: #0087ff; text-decoration-color: #0087ff\">Dense</span>)                     │ (<span style=\"color: #00d7ff; text-decoration-color: #00d7ff\">None</span>, <span style=\"color: #00af00; text-decoration-color: #00af00\">150</span>)                 │          <span style=\"color: #00af00; text-decoration-color: #00af00\">30,150</span> │\n",
       "├──────────────────────────────────────┼─────────────────────────────┼─────────────────┤\n",
       "│ dense_22 (<span style=\"color: #0087ff; text-decoration-color: #0087ff\">Dense</span>)                     │ (<span style=\"color: #00d7ff; text-decoration-color: #00d7ff\">None</span>, <span style=\"color: #00af00; text-decoration-color: #00af00\">150</span>)                 │          <span style=\"color: #00af00; text-decoration-color: #00af00\">22,650</span> │\n",
       "├──────────────────────────────────────┼─────────────────────────────┼─────────────────┤\n",
       "│ dense_23 (<span style=\"color: #0087ff; text-decoration-color: #0087ff\">Dense</span>)                     │ (<span style=\"color: #00d7ff; text-decoration-color: #00d7ff\">None</span>, <span style=\"color: #00af00; text-decoration-color: #00af00\">1</span>)                   │             <span style=\"color: #00af00; text-decoration-color: #00af00\">151</span> │\n",
       "└──────────────────────────────────────┴─────────────────────────────┴─────────────────┘\n",
       "</pre>\n"
      ],
      "text/plain": [
       "┏━━━━━━━━━━━━━━━━━━━━━━━━━━━━━━━━━━━━━━┳━━━━━━━━━━━━━━━━━━━━━━━━━━━━━┳━━━━━━━━━━━━━━━━━┓\n",
       "┃\u001b[1m \u001b[0m\u001b[1mLayer (type)                        \u001b[0m\u001b[1m \u001b[0m┃\u001b[1m \u001b[0m\u001b[1mOutput Shape               \u001b[0m\u001b[1m \u001b[0m┃\u001b[1m \u001b[0m\u001b[1m        Param #\u001b[0m\u001b[1m \u001b[0m┃\n",
       "┡━━━━━━━━━━━━━━━━━━━━━━━━━━━━━━━━━━━━━━╇━━━━━━━━━━━━━━━━━━━━━━━━━━━━━╇━━━━━━━━━━━━━━━━━┩\n",
       "│ conv1d_7 (\u001b[38;5;33mConv1D\u001b[0m)                    │ (\u001b[38;5;45mNone\u001b[0m, \u001b[38;5;34m13\u001b[0m, \u001b[38;5;34m7\u001b[0m)               │              \u001b[38;5;34m21\u001b[0m │\n",
       "├──────────────────────────────────────┼─────────────────────────────┼─────────────────┤\n",
       "│ max_pooling1d_7 (\u001b[38;5;33mMaxPooling1D\u001b[0m)       │ (\u001b[38;5;45mNone\u001b[0m, \u001b[38;5;34m6\u001b[0m, \u001b[38;5;34m7\u001b[0m)                │               \u001b[38;5;34m0\u001b[0m │\n",
       "├──────────────────────────────────────┼─────────────────────────────┼─────────────────┤\n",
       "│ bidirectional_7 (\u001b[38;5;33mBidirectional\u001b[0m)      │ (\u001b[38;5;45mNone\u001b[0m, \u001b[38;5;34m200\u001b[0m)                 │          \u001b[38;5;34m86,400\u001b[0m │\n",
       "├──────────────────────────────────────┼─────────────────────────────┼─────────────────┤\n",
       "│ dense_21 (\u001b[38;5;33mDense\u001b[0m)                     │ (\u001b[38;5;45mNone\u001b[0m, \u001b[38;5;34m150\u001b[0m)                 │          \u001b[38;5;34m30,150\u001b[0m │\n",
       "├──────────────────────────────────────┼─────────────────────────────┼─────────────────┤\n",
       "│ dense_22 (\u001b[38;5;33mDense\u001b[0m)                     │ (\u001b[38;5;45mNone\u001b[0m, \u001b[38;5;34m150\u001b[0m)                 │          \u001b[38;5;34m22,650\u001b[0m │\n",
       "├──────────────────────────────────────┼─────────────────────────────┼─────────────────┤\n",
       "│ dense_23 (\u001b[38;5;33mDense\u001b[0m)                     │ (\u001b[38;5;45mNone\u001b[0m, \u001b[38;5;34m1\u001b[0m)                   │             \u001b[38;5;34m151\u001b[0m │\n",
       "└──────────────────────────────────────┴─────────────────────────────┴─────────────────┘\n"
      ]
     },
     "metadata": {},
     "output_type": "display_data"
    },
    {
     "data": {
      "text/html": [
       "<pre style=\"white-space:pre;overflow-x:auto;line-height:normal;font-family:Menlo,'DejaVu Sans Mono',consolas,'Courier New',monospace\"><span style=\"font-weight: bold\"> Total params: </span><span style=\"color: #00af00; text-decoration-color: #00af00\">139,372</span> (544.42 KB)\n",
       "</pre>\n"
      ],
      "text/plain": [
       "\u001b[1m Total params: \u001b[0m\u001b[38;5;34m139,372\u001b[0m (544.42 KB)\n"
      ]
     },
     "metadata": {},
     "output_type": "display_data"
    },
    {
     "data": {
      "text/html": [
       "<pre style=\"white-space:pre;overflow-x:auto;line-height:normal;font-family:Menlo,'DejaVu Sans Mono',consolas,'Courier New',monospace\"><span style=\"font-weight: bold\"> Trainable params: </span><span style=\"color: #00af00; text-decoration-color: #00af00\">139,372</span> (544.42 KB)\n",
       "</pre>\n"
      ],
      "text/plain": [
       "\u001b[1m Trainable params: \u001b[0m\u001b[38;5;34m139,372\u001b[0m (544.42 KB)\n"
      ]
     },
     "metadata": {},
     "output_type": "display_data"
    },
    {
     "data": {
      "text/html": [
       "<pre style=\"white-space:pre;overflow-x:auto;line-height:normal;font-family:Menlo,'DejaVu Sans Mono',consolas,'Courier New',monospace\"><span style=\"font-weight: bold\"> Non-trainable params: </span><span style=\"color: #00af00; text-decoration-color: #00af00\">0</span> (0.00 B)\n",
       "</pre>\n"
      ],
      "text/plain": [
       "\u001b[1m Non-trainable params: \u001b[0m\u001b[38;5;34m0\u001b[0m (0.00 B)\n"
      ]
     },
     "metadata": {},
     "output_type": "display_data"
    },
    {
     "name": "stdout",
     "output_type": "stream",
     "text": [
      "\u001b[31m------------------------------------------------------------------------\u001b[0m\n",
      "\u001b[31m殘差\u001b[0m\n",
      "\u001b[93m# 定義 Model：4\u001b[0m\n",
      "CNN-BiLSTM\n"
     ]
    },
    {
     "data": {
      "text/html": [
       "<pre style=\"white-space:pre;overflow-x:auto;line-height:normal;font-family:Menlo,'DejaVu Sans Mono',consolas,'Courier New',monospace\"><span style=\"font-weight: bold\">Model: \"sequential_8\"</span>\n",
       "</pre>\n"
      ],
      "text/plain": [
       "\u001b[1mModel: \"sequential_8\"\u001b[0m\n"
      ]
     },
     "metadata": {},
     "output_type": "display_data"
    },
    {
     "data": {
      "text/html": [
       "<pre style=\"white-space:pre;overflow-x:auto;line-height:normal;font-family:Menlo,'DejaVu Sans Mono',consolas,'Courier New',monospace\">┏━━━━━━━━━━━━━━━━━━━━━━━━━━━━━━━━━━━━━━┳━━━━━━━━━━━━━━━━━━━━━━━━━━━━━┳━━━━━━━━━━━━━━━━━┓\n",
       "┃<span style=\"font-weight: bold\"> Layer (type)                         </span>┃<span style=\"font-weight: bold\"> Output Shape                </span>┃<span style=\"font-weight: bold\">         Param # </span>┃\n",
       "┡━━━━━━━━━━━━━━━━━━━━━━━━━━━━━━━━━━━━━━╇━━━━━━━━━━━━━━━━━━━━━━━━━━━━━╇━━━━━━━━━━━━━━━━━┩\n",
       "│ conv1d_8 (<span style=\"color: #0087ff; text-decoration-color: #0087ff\">Conv1D</span>)                    │ (<span style=\"color: #00d7ff; text-decoration-color: #00d7ff\">None</span>, <span style=\"color: #00af00; text-decoration-color: #00af00\">13</span>, <span style=\"color: #00af00; text-decoration-color: #00af00\">7</span>)               │              <span style=\"color: #00af00; text-decoration-color: #00af00\">21</span> │\n",
       "├──────────────────────────────────────┼─────────────────────────────┼─────────────────┤\n",
       "│ max_pooling1d_8 (<span style=\"color: #0087ff; text-decoration-color: #0087ff\">MaxPooling1D</span>)       │ (<span style=\"color: #00d7ff; text-decoration-color: #00d7ff\">None</span>, <span style=\"color: #00af00; text-decoration-color: #00af00\">6</span>, <span style=\"color: #00af00; text-decoration-color: #00af00\">7</span>)                │               <span style=\"color: #00af00; text-decoration-color: #00af00\">0</span> │\n",
       "├──────────────────────────────────────┼─────────────────────────────┼─────────────────┤\n",
       "│ bidirectional_8 (<span style=\"color: #0087ff; text-decoration-color: #0087ff\">Bidirectional</span>)      │ (<span style=\"color: #00d7ff; text-decoration-color: #00d7ff\">None</span>, <span style=\"color: #00af00; text-decoration-color: #00af00\">200</span>)                 │          <span style=\"color: #00af00; text-decoration-color: #00af00\">86,400</span> │\n",
       "├──────────────────────────────────────┼─────────────────────────────┼─────────────────┤\n",
       "│ dense_24 (<span style=\"color: #0087ff; text-decoration-color: #0087ff\">Dense</span>)                     │ (<span style=\"color: #00d7ff; text-decoration-color: #00d7ff\">None</span>, <span style=\"color: #00af00; text-decoration-color: #00af00\">150</span>)                 │          <span style=\"color: #00af00; text-decoration-color: #00af00\">30,150</span> │\n",
       "├──────────────────────────────────────┼─────────────────────────────┼─────────────────┤\n",
       "│ dense_25 (<span style=\"color: #0087ff; text-decoration-color: #0087ff\">Dense</span>)                     │ (<span style=\"color: #00d7ff; text-decoration-color: #00d7ff\">None</span>, <span style=\"color: #00af00; text-decoration-color: #00af00\">150</span>)                 │          <span style=\"color: #00af00; text-decoration-color: #00af00\">22,650</span> │\n",
       "├──────────────────────────────────────┼─────────────────────────────┼─────────────────┤\n",
       "│ dense_26 (<span style=\"color: #0087ff; text-decoration-color: #0087ff\">Dense</span>)                     │ (<span style=\"color: #00d7ff; text-decoration-color: #00d7ff\">None</span>, <span style=\"color: #00af00; text-decoration-color: #00af00\">1</span>)                   │             <span style=\"color: #00af00; text-decoration-color: #00af00\">151</span> │\n",
       "└──────────────────────────────────────┴─────────────────────────────┴─────────────────┘\n",
       "</pre>\n"
      ],
      "text/plain": [
       "┏━━━━━━━━━━━━━━━━━━━━━━━━━━━━━━━━━━━━━━┳━━━━━━━━━━━━━━━━━━━━━━━━━━━━━┳━━━━━━━━━━━━━━━━━┓\n",
       "┃\u001b[1m \u001b[0m\u001b[1mLayer (type)                        \u001b[0m\u001b[1m \u001b[0m┃\u001b[1m \u001b[0m\u001b[1mOutput Shape               \u001b[0m\u001b[1m \u001b[0m┃\u001b[1m \u001b[0m\u001b[1m        Param #\u001b[0m\u001b[1m \u001b[0m┃\n",
       "┡━━━━━━━━━━━━━━━━━━━━━━━━━━━━━━━━━━━━━━╇━━━━━━━━━━━━━━━━━━━━━━━━━━━━━╇━━━━━━━━━━━━━━━━━┩\n",
       "│ conv1d_8 (\u001b[38;5;33mConv1D\u001b[0m)                    │ (\u001b[38;5;45mNone\u001b[0m, \u001b[38;5;34m13\u001b[0m, \u001b[38;5;34m7\u001b[0m)               │              \u001b[38;5;34m21\u001b[0m │\n",
       "├──────────────────────────────────────┼─────────────────────────────┼─────────────────┤\n",
       "│ max_pooling1d_8 (\u001b[38;5;33mMaxPooling1D\u001b[0m)       │ (\u001b[38;5;45mNone\u001b[0m, \u001b[38;5;34m6\u001b[0m, \u001b[38;5;34m7\u001b[0m)                │               \u001b[38;5;34m0\u001b[0m │\n",
       "├──────────────────────────────────────┼─────────────────────────────┼─────────────────┤\n",
       "│ bidirectional_8 (\u001b[38;5;33mBidirectional\u001b[0m)      │ (\u001b[38;5;45mNone\u001b[0m, \u001b[38;5;34m200\u001b[0m)                 │          \u001b[38;5;34m86,400\u001b[0m │\n",
       "├──────────────────────────────────────┼─────────────────────────────┼─────────────────┤\n",
       "│ dense_24 (\u001b[38;5;33mDense\u001b[0m)                     │ (\u001b[38;5;45mNone\u001b[0m, \u001b[38;5;34m150\u001b[0m)                 │          \u001b[38;5;34m30,150\u001b[0m │\n",
       "├──────────────────────────────────────┼─────────────────────────────┼─────────────────┤\n",
       "│ dense_25 (\u001b[38;5;33mDense\u001b[0m)                     │ (\u001b[38;5;45mNone\u001b[0m, \u001b[38;5;34m150\u001b[0m)                 │          \u001b[38;5;34m22,650\u001b[0m │\n",
       "├──────────────────────────────────────┼─────────────────────────────┼─────────────────┤\n",
       "│ dense_26 (\u001b[38;5;33mDense\u001b[0m)                     │ (\u001b[38;5;45mNone\u001b[0m, \u001b[38;5;34m1\u001b[0m)                   │             \u001b[38;5;34m151\u001b[0m │\n",
       "└──────────────────────────────────────┴─────────────────────────────┴─────────────────┘\n"
      ]
     },
     "metadata": {},
     "output_type": "display_data"
    },
    {
     "data": {
      "text/html": [
       "<pre style=\"white-space:pre;overflow-x:auto;line-height:normal;font-family:Menlo,'DejaVu Sans Mono',consolas,'Courier New',monospace\"><span style=\"font-weight: bold\"> Total params: </span><span style=\"color: #00af00; text-decoration-color: #00af00\">139,372</span> (544.42 KB)\n",
       "</pre>\n"
      ],
      "text/plain": [
       "\u001b[1m Total params: \u001b[0m\u001b[38;5;34m139,372\u001b[0m (544.42 KB)\n"
      ]
     },
     "metadata": {},
     "output_type": "display_data"
    },
    {
     "data": {
      "text/html": [
       "<pre style=\"white-space:pre;overflow-x:auto;line-height:normal;font-family:Menlo,'DejaVu Sans Mono',consolas,'Courier New',monospace\"><span style=\"font-weight: bold\"> Trainable params: </span><span style=\"color: #00af00; text-decoration-color: #00af00\">139,372</span> (544.42 KB)\n",
       "</pre>\n"
      ],
      "text/plain": [
       "\u001b[1m Trainable params: \u001b[0m\u001b[38;5;34m139,372\u001b[0m (544.42 KB)\n"
      ]
     },
     "metadata": {},
     "output_type": "display_data"
    },
    {
     "data": {
      "text/html": [
       "<pre style=\"white-space:pre;overflow-x:auto;line-height:normal;font-family:Menlo,'DejaVu Sans Mono',consolas,'Courier New',monospace\"><span style=\"font-weight: bold\"> Non-trainable params: </span><span style=\"color: #00af00; text-decoration-color: #00af00\">0</span> (0.00 B)\n",
       "</pre>\n"
      ],
      "text/plain": [
       "\u001b[1m Non-trainable params: \u001b[0m\u001b[38;5;34m0\u001b[0m (0.00 B)\n"
      ]
     },
     "metadata": {},
     "output_type": "display_data"
    }
   ],
   "source": [
    "models = []\n",
    "\n",
    "for i in range(len(x_trains)):\n",
    "    print_step(i + 1)    \n",
    "    \n",
    "    # 定義 Model\n",
    "    model = lstm.build_model(\n",
    "        model_type = model_type,\n",
    "        time_step = past_day,\n",
    "        n_predictions = future_day\n",
    "    )\n",
    "    \n",
    "    models.append(model)"
   ]
  },
  {
   "cell_type": "markdown",
   "id": "d1f16103",
   "metadata": {
    "id": "8aZNVtRBbDOm",
    "papermill": {
     "duration": 0.00549,
     "end_time": "2024-10-26T11:26:13.195448",
     "exception": false,
     "start_time": "2024-10-26T11:26:13.189958",
     "status": "completed"
    },
    "tags": []
   },
   "source": [
    "# 訓練"
   ]
  },
  {
   "cell_type": "code",
   "execution_count": 11,
   "id": "03a5940d",
   "metadata": {
    "execution": {
     "iopub.execute_input": "2024-10-26T11:26:13.206993Z",
     "iopub.status.busy": "2024-10-26T11:26:13.206793Z",
     "iopub.status.idle": "2024-10-26T11:27:29.288532Z",
     "shell.execute_reply": "2024-10-26T11:27:29.288218Z"
    },
    "papermill": {
     "duration": 76.088385,
     "end_time": "2024-10-26T11:27:29.289326",
     "exception": false,
     "start_time": "2024-10-26T11:26:13.200941",
     "status": "completed"
    },
    "tags": []
   },
   "outputs": [
    {
     "name": "stdout",
     "output_type": "stream",
     "text": [
      "\u001b[31m------------------------------------------------------------------------\u001b[0m\n",
      "\u001b[31m第 1 個 IMF\u001b[0m\n",
      "\u001b[31m------------------------------------------------------------------------\u001b[0m\n",
      "\u001b[93m# 訓練 Model\u001b[0m\n",
      "EarlyStopping => mointor: val_loss，patience: 50\n"
     ]
    },
    {
     "name": "stdout",
     "output_type": "stream",
     "text": [
      "\u001b[31m------------------------------------------------------------------------\u001b[0m\n",
      "\u001b[31m第 2 個 IMF\u001b[0m\n",
      "\u001b[31m------------------------------------------------------------------------\u001b[0m\n",
      "\u001b[93m# 訓練 Model\u001b[0m\n",
      "EarlyStopping => mointor: val_loss，patience: 50\n"
     ]
    },
    {
     "name": "stdout",
     "output_type": "stream",
     "text": [
      "\u001b[31m------------------------------------------------------------------------\u001b[0m\n",
      "\u001b[31m第 3 個 IMF\u001b[0m\n",
      "\u001b[31m------------------------------------------------------------------------\u001b[0m\n",
      "\u001b[93m# 訓練 Model\u001b[0m\n",
      "EarlyStopping => mointor: val_loss，patience: 50\n"
     ]
    },
    {
     "name": "stdout",
     "output_type": "stream",
     "text": [
      "\u001b[31m------------------------------------------------------------------------\u001b[0m\n",
      "\u001b[31m第 4 個 IMF\u001b[0m\n",
      "\u001b[31m------------------------------------------------------------------------\u001b[0m\n",
      "\u001b[93m# 訓練 Model\u001b[0m\n",
      "EarlyStopping => mointor: val_loss，patience: 50\n"
     ]
    },
    {
     "name": "stdout",
     "output_type": "stream",
     "text": [
      "\u001b[31m------------------------------------------------------------------------\u001b[0m\n",
      "\u001b[31m第 5 個 IMF\u001b[0m\n",
      "\u001b[31m------------------------------------------------------------------------\u001b[0m\n",
      "\u001b[93m# 訓練 Model\u001b[0m\n",
      "EarlyStopping => mointor: val_loss，patience: 50\n"
     ]
    },
    {
     "name": "stdout",
     "output_type": "stream",
     "text": [
      "\u001b[31m------------------------------------------------------------------------\u001b[0m\n",
      "\u001b[31m第 6 個 IMF\u001b[0m\n",
      "\u001b[31m------------------------------------------------------------------------\u001b[0m\n",
      "\u001b[93m# 訓練 Model\u001b[0m\n",
      "EarlyStopping => mointor: val_loss，patience: 50\n"
     ]
    },
    {
     "name": "stdout",
     "output_type": "stream",
     "text": [
      "\u001b[31m------------------------------------------------------------------------\u001b[0m\n",
      "\u001b[31m第 7 個 IMF\u001b[0m\n",
      "\u001b[31m------------------------------------------------------------------------\u001b[0m\n",
      "\u001b[93m# 訓練 Model\u001b[0m\n",
      "EarlyStopping => mointor: val_loss，patience: 50\n"
     ]
    },
    {
     "name": "stdout",
     "output_type": "stream",
     "text": [
      "\u001b[31m------------------------------------------------------------------------\u001b[0m\n",
      "\u001b[31m第 8 個 IMF\u001b[0m\n",
      "\u001b[31m------------------------------------------------------------------------\u001b[0m\n",
      "\u001b[93m# 訓練 Model\u001b[0m\n",
      "EarlyStopping => mointor: val_loss，patience: 50\n"
     ]
    },
    {
     "name": "stdout",
     "output_type": "stream",
     "text": [
      "\u001b[31m------------------------------------------------------------------------\u001b[0m\n",
      "\u001b[31m殘差\u001b[0m\n",
      "\u001b[93m# 訓練 Model\u001b[0m\n",
      "EarlyStopping => mointor: val_loss，patience: 50\n"
     ]
    }
   ],
   "source": [
    "train_historys = []\n",
    "\n",
    "for i in range(len(models)):\n",
    "    print_step(i + 1) \n",
    "        \n",
    "    train_history = lstm.model_fit(\n",
    "        model = models[i],\n",
    "        batch_size = batch_size,\n",
    "        x_train = x_lstm_trains[i],\n",
    "        y_train = y_lstm_trains[i],\n",
    "        x_val = x_lstm_vals[i],\n",
    "        y_val = y_lstm_vals[i],\n",
    "    ) \n",
    "    \n",
    "    train_historys.append(train_history) "
   ]
  },
  {
   "cell_type": "markdown",
   "id": "d451146e",
   "metadata": {
    "papermill": {
     "duration": 0.005959,
     "end_time": "2024-10-26T11:27:29.301373",
     "exception": false,
     "start_time": "2024-10-26T11:27:29.295414",
     "status": "completed"
    },
    "tags": []
   },
   "source": [
    "# 儲存模型"
   ]
  },
  {
   "cell_type": "code",
   "execution_count": 12,
   "id": "27bca013",
   "metadata": {
    "execution": {
     "iopub.execute_input": "2024-10-26T11:27:29.313293Z",
     "iopub.status.busy": "2024-10-26T11:27:29.313179Z",
     "iopub.status.idle": "2024-10-26T11:27:29.424949Z",
     "shell.execute_reply": "2024-10-26T11:27:29.424648Z"
    },
    "papermill": {
     "duration": 0.118518,
     "end_time": "2024-10-26T11:27:29.425633",
     "exception": false,
     "start_time": "2024-10-26T11:27:29.307115",
     "status": "completed"
    },
    "tags": []
   },
   "outputs": [
    {
     "name": "stdout",
     "output_type": "stream",
     "text": [
      "\u001b[31m------------------------------------------------------------------------\u001b[0m\n",
      "\u001b[31m第 1 個 IMF\u001b[0m\n",
      "\u001b[31m------------------------------------------------------------------------\u001b[0m\n",
      "儲存模型到 DecompEEMD/_Model/GroupCount_mt4_data3_batch14.model.1.keras\n",
      "\u001b[31m------------------------------------------------------------------------\u001b[0m\n",
      "\u001b[31m第 2 個 IMF\u001b[0m\n",
      "\u001b[31m------------------------------------------------------------------------\u001b[0m\n",
      "儲存模型到 DecompEEMD/_Model/GroupCount_mt4_data3_batch14.model.2.keras\n",
      "\u001b[31m------------------------------------------------------------------------\u001b[0m\n",
      "\u001b[31m第 3 個 IMF\u001b[0m\n",
      "\u001b[31m------------------------------------------------------------------------\u001b[0m\n",
      "儲存模型到 DecompEEMD/_Model/GroupCount_mt4_data3_batch14.model.3.keras\n",
      "\u001b[31m------------------------------------------------------------------------\u001b[0m\n",
      "\u001b[31m第 4 個 IMF\u001b[0m\n",
      "\u001b[31m------------------------------------------------------------------------\u001b[0m\n",
      "儲存模型到 DecompEEMD/_Model/GroupCount_mt4_data3_batch14.model.4.keras\n",
      "\u001b[31m------------------------------------------------------------------------\u001b[0m\n",
      "\u001b[31m第 5 個 IMF\u001b[0m\n",
      "\u001b[31m------------------------------------------------------------------------\u001b[0m\n",
      "儲存模型到 DecompEEMD/_Model/GroupCount_mt4_data3_batch14.model.5.keras\n",
      "\u001b[31m------------------------------------------------------------------------\u001b[0m\n",
      "\u001b[31m第 6 個 IMF\u001b[0m\n",
      "\u001b[31m------------------------------------------------------------------------\u001b[0m\n",
      "儲存模型到 DecompEEMD/_Model/GroupCount_mt4_data3_batch14.model.6.keras\n",
      "\u001b[31m------------------------------------------------------------------------\u001b[0m\n",
      "\u001b[31m第 7 個 IMF\u001b[0m\n",
      "\u001b[31m------------------------------------------------------------------------\u001b[0m\n",
      "儲存模型到 DecompEEMD/_Model/GroupCount_mt4_data3_batch14.model.7.keras\n",
      "\u001b[31m------------------------------------------------------------------------\u001b[0m\n",
      "\u001b[31m第 8 個 IMF\u001b[0m\n",
      "\u001b[31m------------------------------------------------------------------------\u001b[0m\n",
      "儲存模型到 DecompEEMD/_Model/GroupCount_mt4_data3_batch14.model.8.keras\n",
      "\u001b[31m------------------------------------------------------------------------\u001b[0m\n",
      "\u001b[31m殘差\u001b[0m\n",
      "儲存模型到 DecompEEMD/_Model/GroupCount_mt4_data3_batch14.model.9.keras\n"
     ]
    }
   ],
   "source": [
    "for i in range(len(models)):\n",
    "    print_step(i + 1)   \n",
    "\n",
    "    file_name = f'{model_file_name.replace(\".keras\", f\".{i + 1}.keras\")}'\n",
    "    models[i].save(file_name)\n",
    "    print(f'儲存模型到 {file_name}')"
   ]
  },
  {
   "cell_type": "markdown",
   "id": "d381daff",
   "metadata": {
    "id": "StSWwUTn-s3u",
    "papermill": {
     "duration": 0.00582,
     "end_time": "2024-10-26T11:27:29.437650",
     "exception": false,
     "start_time": "2024-10-26T11:27:29.431830",
     "status": "completed"
    },
    "tags": []
   },
   "source": [
    "# 預測"
   ]
  },
  {
   "cell_type": "code",
   "execution_count": 13,
   "id": "56a5c0ca",
   "metadata": {
    "execution": {
     "iopub.execute_input": "2024-10-26T11:27:29.449660Z",
     "iopub.status.busy": "2024-10-26T11:27:29.449550Z",
     "iopub.status.idle": "2024-10-26T11:27:31.720443Z",
     "shell.execute_reply": "2024-10-26T11:27:31.720144Z"
    },
    "papermill": {
     "duration": 2.277708,
     "end_time": "2024-10-26T11:27:31.721117",
     "exception": false,
     "start_time": "2024-10-26T11:27:29.443409",
     "status": "completed"
    },
    "tags": []
   },
   "outputs": [
    {
     "name": "stdout",
     "output_type": "stream",
     "text": [
      "\u001b[31m------------------------------------------------------------------------\u001b[0m\n",
      "\u001b[31m第 1 個 IMF\u001b[0m\n",
      "\u001b[31m------------------------------------------------------------------------\u001b[0m\n",
      "\u001b[93m# 預測\u001b[0m\n"
     ]
    },
    {
     "name": "stdout",
     "output_type": "stream",
     "text": [
      "\r",
      "\u001b[1m 1/10\u001b[0m \u001b[32m━━\u001b[0m\u001b[37m━━━━━━━━━━━━━━━━━━\u001b[0m \u001b[1m0s\u001b[0m 99ms/step"
     ]
    },
    {
     "name": "stdout",
     "output_type": "stream",
     "text": [
      "\b\b\b\b\b\b\b\b\b\b\b\b\b\b\b\b\b\b\b\b\b\b\b\b\b\b\b\b\b\b\b\b\b\b\b\b\b\b\b\r",
      "\u001b[1m10/10\u001b[0m \u001b[32m━━━━━━━━━━━━━━━━━━━━\u001b[0m\u001b[37m\u001b[0m \u001b[1m0s\u001b[0m 12ms/step"
     ]
    },
    {
     "name": "stdout",
     "output_type": "stream",
     "text": [
      "\b\b\b\b\b\b\b\b\b\b\b\b\b\b\b\b\b\b\b\b\b\b\b\b\b\b\b\b\b\b\b\b\b\b\b\b\b\b\b\r",
      "\u001b[1m10/10\u001b[0m \u001b[32m━━━━━━━━━━━━━━━━━━━━\u001b[0m\u001b[37m\u001b[0m \u001b[1m0s\u001b[0m 12ms/step\n"
     ]
    },
    {
     "name": "stdout",
     "output_type": "stream",
     "text": [
      "預測 shape : (301, 1)\n",
      "預測 train.shape : (301, 1)\n",
      "\u001b[93m# 預測\u001b[0m\n",
      "\r",
      "\u001b[1m1/1\u001b[0m \u001b[32m━━━━━━━━━━━━━━━━━━━━\u001b[0m\u001b[37m\u001b[0m \u001b[1m0s\u001b[0m 7ms/step"
     ]
    },
    {
     "name": "stdout",
     "output_type": "stream",
     "text": [
      "\b\b\b\b\b\b\b\b\b\b\b\b\b\b\b\b\b\b\b\b\b\b\b\b\b\b\b\b\b\b\b\b\b\b\b\b\r",
      "\u001b[1m1/1\u001b[0m \u001b[32m━━━━━━━━━━━━━━━━━━━━\u001b[0m\u001b[37m\u001b[0m \u001b[1m0s\u001b[0m 7ms/step\n"
     ]
    },
    {
     "name": "stdout",
     "output_type": "stream",
     "text": [
      "預測 shape : (24, 1)\n",
      "預測 val.shape : (24, 1)\n",
      "\u001b[93m# 預測\u001b[0m\n",
      "\r",
      "\u001b[1m1/1\u001b[0m \u001b[32m━━━━━━━━━━━━━━━━━━━━\u001b[0m\u001b[37m\u001b[0m \u001b[1m0s\u001b[0m 7ms/step"
     ]
    },
    {
     "name": "stdout",
     "output_type": "stream",
     "text": [
      "\b\b\b\b\b\b\b\b\b\b\b\b\b\b\b\b\b\b\b\b\b\b\b\b\b\b\b\b\b\b\b\b\b\b\b\b\r",
      "\u001b[1m1/1\u001b[0m \u001b[32m━━━━━━━━━━━━━━━━━━━━\u001b[0m\u001b[37m\u001b[0m \u001b[1m0s\u001b[0m 7ms/step\n"
     ]
    },
    {
     "name": "stdout",
     "output_type": "stream",
     "text": [
      "預測 shape : (25, 1)\n",
      "預測 test.shape : (25, 1)\n",
      "\u001b[31m------------------------------------------------------------------------\u001b[0m\n",
      "\u001b[31m第 2 個 IMF\u001b[0m\n",
      "\u001b[31m------------------------------------------------------------------------\u001b[0m\n",
      "\u001b[93m# 預測\u001b[0m\n"
     ]
    },
    {
     "name": "stdout",
     "output_type": "stream",
     "text": [
      "\r",
      "\u001b[1m 1/10\u001b[0m \u001b[32m━━\u001b[0m\u001b[37m━━━━━━━━━━━━━━━━━━\u001b[0m \u001b[1m0s\u001b[0m 97ms/step"
     ]
    },
    {
     "name": "stdout",
     "output_type": "stream",
     "text": [
      "\b\b\b\b\b\b\b\b\b\b\b\b\b\b\b\b\b\b\b\b\b\b\b\b\b\b\b\b\b\b\b\b\b\b\b\b\b\b\b\r",
      "\u001b[1m10/10\u001b[0m \u001b[32m━━━━━━━━━━━━━━━━━━━━\u001b[0m\u001b[37m\u001b[0m \u001b[1m0s\u001b[0m 11ms/step"
     ]
    },
    {
     "name": "stdout",
     "output_type": "stream",
     "text": [
      "\b\b\b\b\b\b\b\b\b\b\b\b\b\b\b\b\b\b\b\b\b\b\b\b\b\b\b\b\b\b\b\b\b\b\b\b\b\b\b\r",
      "\u001b[1m10/10\u001b[0m \u001b[32m━━━━━━━━━━━━━━━━━━━━\u001b[0m\u001b[37m\u001b[0m \u001b[1m0s\u001b[0m 11ms/step\n"
     ]
    },
    {
     "name": "stdout",
     "output_type": "stream",
     "text": [
      "預測 shape : (301, 1)\n",
      "預測 train.shape : (301, 1)\n",
      "\u001b[93m# 預測\u001b[0m\n",
      "\r",
      "\u001b[1m1/1\u001b[0m \u001b[32m━━━━━━━━━━━━━━━━━━━━\u001b[0m\u001b[37m\u001b[0m \u001b[1m0s\u001b[0m 7ms/step"
     ]
    },
    {
     "name": "stdout",
     "output_type": "stream",
     "text": [
      "\b\b\b\b\b\b\b\b\b\b\b\b\b\b\b\b\b\b\b\b\b\b\b\b\b\b\b\b\b\b\b\b\b\b\b\b\r",
      "\u001b[1m1/1\u001b[0m \u001b[32m━━━━━━━━━━━━━━━━━━━━\u001b[0m\u001b[37m\u001b[0m \u001b[1m0s\u001b[0m 7ms/step\n"
     ]
    },
    {
     "name": "stdout",
     "output_type": "stream",
     "text": [
      "預測 shape : (24, 1)\n",
      "預測 val.shape : (24, 1)\n",
      "\u001b[93m# 預測\u001b[0m\n",
      "\r",
      "\u001b[1m1/1\u001b[0m \u001b[32m━━━━━━━━━━━━━━━━━━━━\u001b[0m\u001b[37m\u001b[0m \u001b[1m0s\u001b[0m 7ms/step"
     ]
    },
    {
     "name": "stdout",
     "output_type": "stream",
     "text": [
      "\b\b\b\b\b\b\b\b\b\b\b\b\b\b\b\b\b\b\b\b\b\b\b\b\b\b\b\b\b\b\b\b\b\b\b\b\r",
      "\u001b[1m1/1\u001b[0m \u001b[32m━━━━━━━━━━━━━━━━━━━━\u001b[0m\u001b[37m\u001b[0m \u001b[1m0s\u001b[0m 7ms/step\n"
     ]
    },
    {
     "name": "stdout",
     "output_type": "stream",
     "text": [
      "預測 shape : (25, 1)\n",
      "預測 test.shape : (25, 1)\n",
      "\u001b[31m------------------------------------------------------------------------\u001b[0m\n",
      "\u001b[31m第 3 個 IMF\u001b[0m\n",
      "\u001b[31m------------------------------------------------------------------------\u001b[0m\n",
      "\u001b[93m# 預測\u001b[0m\n"
     ]
    },
    {
     "name": "stdout",
     "output_type": "stream",
     "text": [
      "\r",
      "\u001b[1m 1/10\u001b[0m \u001b[32m━━\u001b[0m\u001b[37m━━━━━━━━━━━━━━━━━━\u001b[0m \u001b[1m0s\u001b[0m 99ms/step"
     ]
    },
    {
     "name": "stdout",
     "output_type": "stream",
     "text": [
      "\b\b\b\b\b\b\b\b\b\b\b\b\b\b\b\b\b\b\b\b\b\b\b\b\b\b\b\b\b\b\b\b\b\b\b\b\b\b\b\r",
      "\u001b[1m10/10\u001b[0m \u001b[32m━━━━━━━━━━━━━━━━━━━━\u001b[0m\u001b[37m\u001b[0m \u001b[1m0s\u001b[0m 11ms/step"
     ]
    },
    {
     "name": "stdout",
     "output_type": "stream",
     "text": [
      "\b\b\b\b\b\b\b\b\b\b\b\b\b\b\b\b\b\b\b\b\b\b\b\b\b\b\b\b\b\b\b\b\b\b\b\b\b\b\b\r",
      "\u001b[1m10/10\u001b[0m \u001b[32m━━━━━━━━━━━━━━━━━━━━\u001b[0m\u001b[37m\u001b[0m \u001b[1m0s\u001b[0m 11ms/step\n"
     ]
    },
    {
     "name": "stdout",
     "output_type": "stream",
     "text": [
      "預測 shape : (301, 1)\n",
      "預測 train.shape : (301, 1)\n",
      "\u001b[93m# 預測\u001b[0m\n",
      "\r",
      "\u001b[1m1/1\u001b[0m \u001b[32m━━━━━━━━━━━━━━━━━━━━\u001b[0m\u001b[37m\u001b[0m \u001b[1m0s\u001b[0m 7ms/step"
     ]
    },
    {
     "name": "stdout",
     "output_type": "stream",
     "text": [
      "\b\b\b\b\b\b\b\b\b\b\b\b\b\b\b\b\b\b\b\b\b\b\b\b\b\b\b\b\b\b\b\b\b\b\b\b\r",
      "\u001b[1m1/1\u001b[0m \u001b[32m━━━━━━━━━━━━━━━━━━━━\u001b[0m\u001b[37m\u001b[0m \u001b[1m0s\u001b[0m 7ms/step\n"
     ]
    },
    {
     "name": "stdout",
     "output_type": "stream",
     "text": [
      "預測 shape : (24, 1)\n",
      "預測 val.shape : (24, 1)\n",
      "\u001b[93m# 預測\u001b[0m\n",
      "\r",
      "\u001b[1m1/1\u001b[0m \u001b[32m━━━━━━━━━━━━━━━━━━━━\u001b[0m\u001b[37m\u001b[0m \u001b[1m0s\u001b[0m 7ms/step"
     ]
    },
    {
     "name": "stdout",
     "output_type": "stream",
     "text": [
      "\b\b\b\b\b\b\b\b\b\b\b\b\b\b\b\b\b\b\b\b\b\b\b\b\b\b\b\b\b\b\b\b\b\b\b\b\r",
      "\u001b[1m1/1\u001b[0m \u001b[32m━━━━━━━━━━━━━━━━━━━━\u001b[0m\u001b[37m\u001b[0m \u001b[1m0s\u001b[0m 7ms/step\n"
     ]
    },
    {
     "name": "stdout",
     "output_type": "stream",
     "text": [
      "預測 shape : (25, 1)\n",
      "預測 test.shape : (25, 1)\n",
      "\u001b[31m------------------------------------------------------------------------\u001b[0m\n",
      "\u001b[31m第 4 個 IMF\u001b[0m\n",
      "\u001b[31m------------------------------------------------------------------------\u001b[0m\n",
      "\u001b[93m# 預測\u001b[0m\n"
     ]
    },
    {
     "name": "stdout",
     "output_type": "stream",
     "text": [
      "\r",
      "\u001b[1m 1/10\u001b[0m \u001b[32m━━\u001b[0m\u001b[37m━━━━━━━━━━━━━━━━━━\u001b[0m \u001b[1m0s\u001b[0m 97ms/step"
     ]
    },
    {
     "name": "stdout",
     "output_type": "stream",
     "text": [
      "\b\b\b\b\b\b\b\b\b\b\b\b\b\b\b\b\b\b\b\b\b\b\b\b\b\b\b\b\b\b\b\b\b\b\b\b\b\b\b\r",
      "\u001b[1m10/10\u001b[0m \u001b[32m━━━━━━━━━━━━━━━━━━━━\u001b[0m\u001b[37m\u001b[0m \u001b[1m0s\u001b[0m 11ms/step"
     ]
    },
    {
     "name": "stdout",
     "output_type": "stream",
     "text": [
      "\b\b\b\b\b\b\b\b\b\b\b\b\b\b\b\b\b\b\b\b\b\b\b\b\b\b\b\b\b\b\b\b\b\b\b\b\b\b\b\r",
      "\u001b[1m10/10\u001b[0m \u001b[32m━━━━━━━━━━━━━━━━━━━━\u001b[0m\u001b[37m\u001b[0m \u001b[1m0s\u001b[0m 11ms/step\n"
     ]
    },
    {
     "name": "stdout",
     "output_type": "stream",
     "text": [
      "預測 shape : (301, 1)\n",
      "預測 train.shape : (301, 1)\n",
      "\u001b[93m# 預測\u001b[0m\n",
      "\r",
      "\u001b[1m1/1\u001b[0m \u001b[32m━━━━━━━━━━━━━━━━━━━━\u001b[0m\u001b[37m\u001b[0m \u001b[1m0s\u001b[0m 7ms/step"
     ]
    },
    {
     "name": "stdout",
     "output_type": "stream",
     "text": [
      "\b\b\b\b\b\b\b\b\b\b\b\b\b\b\b\b\b\b\b\b\b\b\b\b\b\b\b\b\b\b\b\b\b\b\b\b\r",
      "\u001b[1m1/1\u001b[0m \u001b[32m━━━━━━━━━━━━━━━━━━━━\u001b[0m\u001b[37m\u001b[0m \u001b[1m0s\u001b[0m 8ms/step\n"
     ]
    },
    {
     "name": "stdout",
     "output_type": "stream",
     "text": [
      "預測 shape : (24, 1)\n",
      "預測 val.shape : (24, 1)\n",
      "\u001b[93m# 預測\u001b[0m\n",
      "\r",
      "\u001b[1m1/1\u001b[0m \u001b[32m━━━━━━━━━━━━━━━━━━━━\u001b[0m\u001b[37m\u001b[0m \u001b[1m0s\u001b[0m 7ms/step"
     ]
    },
    {
     "name": "stdout",
     "output_type": "stream",
     "text": [
      "\b\b\b\b\b\b\b\b\b\b\b\b\b\b\b\b\b\b\b\b\b\b\b\b\b\b\b\b\b\b\b\b\b\b\b\b\r",
      "\u001b[1m1/1\u001b[0m \u001b[32m━━━━━━━━━━━━━━━━━━━━\u001b[0m\u001b[37m\u001b[0m \u001b[1m0s\u001b[0m 7ms/step\n"
     ]
    },
    {
     "name": "stdout",
     "output_type": "stream",
     "text": [
      "預測 shape : (25, 1)\n",
      "預測 test.shape : (25, 1)\n",
      "\u001b[31m------------------------------------------------------------------------\u001b[0m\n",
      "\u001b[31m第 5 個 IMF\u001b[0m\n",
      "\u001b[31m------------------------------------------------------------------------\u001b[0m\n",
      "\u001b[93m# 預測\u001b[0m\n"
     ]
    },
    {
     "name": "stdout",
     "output_type": "stream",
     "text": [
      "\r",
      "\u001b[1m 1/10\u001b[0m \u001b[32m━━\u001b[0m\u001b[37m━━━━━━━━━━━━━━━━━━\u001b[0m \u001b[1m0s\u001b[0m 98ms/step"
     ]
    },
    {
     "name": "stdout",
     "output_type": "stream",
     "text": [
      "\b\b\b\b\b\b\b\b\b\b\b\b\b\b\b\b\b\b\b\b\b\b\b\b\b\b\b\b\b\b\b\b\b\b\b\b\b\b\b\r",
      "\u001b[1m10/10\u001b[0m \u001b[32m━━━━━━━━━━━━━━━━━━━━\u001b[0m\u001b[37m\u001b[0m \u001b[1m0s\u001b[0m 11ms/step"
     ]
    },
    {
     "name": "stdout",
     "output_type": "stream",
     "text": [
      "\b\b\b\b\b\b\b\b\b\b\b\b\b\b\b\b\b\b\b\b\b\b\b\b\b\b\b\b\b\b\b\b\b\b\b\b\b\b\b\r",
      "\u001b[1m10/10\u001b[0m \u001b[32m━━━━━━━━━━━━━━━━━━━━\u001b[0m\u001b[37m\u001b[0m \u001b[1m0s\u001b[0m 11ms/step\n"
     ]
    },
    {
     "name": "stdout",
     "output_type": "stream",
     "text": [
      "預測 shape : (301, 1)\n",
      "預測 train.shape : (301, 1)\n",
      "\u001b[93m# 預測\u001b[0m\n",
      "\r",
      "\u001b[1m1/1\u001b[0m \u001b[32m━━━━━━━━━━━━━━━━━━━━\u001b[0m\u001b[37m\u001b[0m \u001b[1m0s\u001b[0m 7ms/step"
     ]
    },
    {
     "name": "stdout",
     "output_type": "stream",
     "text": [
      "\b\b\b\b\b\b\b\b\b\b\b\b\b\b\b\b\b\b\b\b\b\b\b\b\b\b\b\b\b\b\b\b\b\b\b\b\r",
      "\u001b[1m1/1\u001b[0m \u001b[32m━━━━━━━━━━━━━━━━━━━━\u001b[0m\u001b[37m\u001b[0m \u001b[1m0s\u001b[0m 7ms/step\n"
     ]
    },
    {
     "name": "stdout",
     "output_type": "stream",
     "text": [
      "預測 shape : (24, 1)\n",
      "預測 val.shape : (24, 1)\n",
      "\u001b[93m# 預測\u001b[0m\n",
      "\r",
      "\u001b[1m1/1\u001b[0m \u001b[32m━━━━━━━━━━━━━━━━━━━━\u001b[0m\u001b[37m\u001b[0m \u001b[1m0s\u001b[0m 7ms/step"
     ]
    },
    {
     "name": "stdout",
     "output_type": "stream",
     "text": [
      "\b\b\b\b\b\b\b\b\b\b\b\b\b\b\b\b\b\b\b\b\b\b\b\b\b\b\b\b\b\b\b\b\b\b\b\b\r",
      "\u001b[1m1/1\u001b[0m \u001b[32m━━━━━━━━━━━━━━━━━━━━\u001b[0m\u001b[37m\u001b[0m \u001b[1m0s\u001b[0m 7ms/step\n"
     ]
    },
    {
     "name": "stdout",
     "output_type": "stream",
     "text": [
      "預測 shape : (25, 1)\n",
      "預測 test.shape : (25, 1)\n",
      "\u001b[31m------------------------------------------------------------------------\u001b[0m\n",
      "\u001b[31m第 6 個 IMF\u001b[0m\n",
      "\u001b[31m------------------------------------------------------------------------\u001b[0m\n",
      "\u001b[93m# 預測\u001b[0m\n"
     ]
    },
    {
     "name": "stdout",
     "output_type": "stream",
     "text": [
      "\r",
      "\u001b[1m 1/10\u001b[0m \u001b[32m━━\u001b[0m\u001b[37m━━━━━━━━━━━━━━━━━━\u001b[0m \u001b[1m0s\u001b[0m 97ms/step"
     ]
    },
    {
     "name": "stdout",
     "output_type": "stream",
     "text": [
      "\b\b\b\b\b\b\b\b\b\b\b\b\b\b\b\b\b\b\b\b\b\b\b\b\b\b\b\b\b\b\b\b\b\b\b\b\b\b\b\r",
      "\u001b[1m10/10\u001b[0m \u001b[32m━━━━━━━━━━━━━━━━━━━━\u001b[0m\u001b[37m\u001b[0m \u001b[1m0s\u001b[0m 11ms/step"
     ]
    },
    {
     "name": "stdout",
     "output_type": "stream",
     "text": [
      "\b\b\b\b\b\b\b\b\b\b\b\b\b\b\b\b\b\b\b\b\b\b\b\b\b\b\b\b\b\b\b\b\b\b\b\b\b\b\b\r",
      "\u001b[1m10/10\u001b[0m \u001b[32m━━━━━━━━━━━━━━━━━━━━\u001b[0m\u001b[37m\u001b[0m \u001b[1m0s\u001b[0m 11ms/step\n"
     ]
    },
    {
     "name": "stdout",
     "output_type": "stream",
     "text": [
      "預測 shape : (301, 1)\n",
      "預測 train.shape : (301, 1)\n",
      "\u001b[93m# 預測\u001b[0m\n",
      "\r",
      "\u001b[1m1/1\u001b[0m \u001b[32m━━━━━━━━━━━━━━━━━━━━\u001b[0m\u001b[37m\u001b[0m \u001b[1m0s\u001b[0m 7ms/step"
     ]
    },
    {
     "name": "stdout",
     "output_type": "stream",
     "text": [
      "\b\b\b\b\b\b\b\b\b\b\b\b\b\b\b\b\b\b\b\b\b\b\b\b\b\b\b\b\b\b\b\b\b\b\b\b\r",
      "\u001b[1m1/1\u001b[0m \u001b[32m━━━━━━━━━━━━━━━━━━━━\u001b[0m\u001b[37m\u001b[0m \u001b[1m0s\u001b[0m 7ms/step\n"
     ]
    },
    {
     "name": "stdout",
     "output_type": "stream",
     "text": [
      "預測 shape : (24, 1)\n",
      "預測 val.shape : (24, 1)\n",
      "\u001b[93m# 預測\u001b[0m\n",
      "\r",
      "\u001b[1m1/1\u001b[0m \u001b[32m━━━━━━━━━━━━━━━━━━━━\u001b[0m\u001b[37m\u001b[0m \u001b[1m0s\u001b[0m 7ms/step"
     ]
    },
    {
     "name": "stdout",
     "output_type": "stream",
     "text": [
      "\b\b\b\b\b\b\b\b\b\b\b\b\b\b\b\b\b\b\b\b\b\b\b\b\b\b\b\b\b\b\b\b\b\b\b\b\r",
      "\u001b[1m1/1\u001b[0m \u001b[32m━━━━━━━━━━━━━━━━━━━━\u001b[0m\u001b[37m\u001b[0m \u001b[1m0s\u001b[0m 7ms/step\n"
     ]
    },
    {
     "name": "stdout",
     "output_type": "stream",
     "text": [
      "預測 shape : (25, 1)\n",
      "預測 test.shape : (25, 1)\n",
      "\u001b[31m------------------------------------------------------------------------\u001b[0m\n",
      "\u001b[31m第 7 個 IMF\u001b[0m\n",
      "\u001b[31m------------------------------------------------------------------------\u001b[0m\n",
      "\u001b[93m# 預測\u001b[0m\n"
     ]
    },
    {
     "name": "stdout",
     "output_type": "stream",
     "text": [
      "\r",
      "\u001b[1m 1/10\u001b[0m \u001b[32m━━\u001b[0m\u001b[37m━━━━━━━━━━━━━━━━━━\u001b[0m \u001b[1m0s\u001b[0m 97ms/step"
     ]
    },
    {
     "name": "stdout",
     "output_type": "stream",
     "text": [
      "\b\b\b\b\b\b\b\b\b\b\b\b\b\b\b\b\b\b\b\b\b\b\b\b\b\b\b\b\b\b\b\b\b\b\b\b\b\b\b\r",
      "\u001b[1m10/10\u001b[0m \u001b[32m━━━━━━━━━━━━━━━━━━━━\u001b[0m\u001b[37m\u001b[0m \u001b[1m0s\u001b[0m 11ms/step"
     ]
    },
    {
     "name": "stdout",
     "output_type": "stream",
     "text": [
      "\b\b\b\b\b\b\b\b\b\b\b\b\b\b\b\b\b\b\b\b\b\b\b\b\b\b\b\b\b\b\b\b\b\b\b\b\b\b\b\r",
      "\u001b[1m10/10\u001b[0m \u001b[32m━━━━━━━━━━━━━━━━━━━━\u001b[0m\u001b[37m\u001b[0m \u001b[1m0s\u001b[0m 12ms/step\n"
     ]
    },
    {
     "name": "stdout",
     "output_type": "stream",
     "text": [
      "預測 shape : (301, 1)\n",
      "預測 train.shape : (301, 1)\n",
      "\u001b[93m# 預測\u001b[0m\n",
      "\r",
      "\u001b[1m1/1\u001b[0m \u001b[32m━━━━━━━━━━━━━━━━━━━━\u001b[0m\u001b[37m\u001b[0m \u001b[1m0s\u001b[0m 7ms/step"
     ]
    },
    {
     "name": "stdout",
     "output_type": "stream",
     "text": [
      "\b\b\b\b\b\b\b\b\b\b\b\b\b\b\b\b\b\b\b\b\b\b\b\b\b\b\b\b\b\b\b\b\b\b\b\b\r",
      "\u001b[1m1/1\u001b[0m \u001b[32m━━━━━━━━━━━━━━━━━━━━\u001b[0m\u001b[37m\u001b[0m \u001b[1m0s\u001b[0m 7ms/step\n"
     ]
    },
    {
     "name": "stdout",
     "output_type": "stream",
     "text": [
      "預測 shape : (24, 1)\n",
      "預測 val.shape : (24, 1)\n",
      "\u001b[93m# 預測\u001b[0m\n",
      "\r",
      "\u001b[1m1/1\u001b[0m \u001b[32m━━━━━━━━━━━━━━━━━━━━\u001b[0m\u001b[37m\u001b[0m \u001b[1m0s\u001b[0m 7ms/step"
     ]
    },
    {
     "name": "stdout",
     "output_type": "stream",
     "text": [
      "\b\b\b\b\b\b\b\b\b\b\b\b\b\b\b\b\b\b\b\b\b\b\b\b\b\b\b\b\b\b\b\b\b\b\b\b\r",
      "\u001b[1m1/1\u001b[0m \u001b[32m━━━━━━━━━━━━━━━━━━━━\u001b[0m\u001b[37m\u001b[0m \u001b[1m0s\u001b[0m 7ms/step\n"
     ]
    },
    {
     "name": "stdout",
     "output_type": "stream",
     "text": [
      "預測 shape : (25, 1)\n",
      "預測 test.shape : (25, 1)\n",
      "\u001b[31m------------------------------------------------------------------------\u001b[0m\n",
      "\u001b[31m第 8 個 IMF\u001b[0m\n",
      "\u001b[31m------------------------------------------------------------------------\u001b[0m\n",
      "\u001b[93m# 預測\u001b[0m\n"
     ]
    },
    {
     "name": "stdout",
     "output_type": "stream",
     "text": [
      "\r",
      "\u001b[1m 1/10\u001b[0m \u001b[32m━━\u001b[0m\u001b[37m━━━━━━━━━━━━━━━━━━\u001b[0m \u001b[1m0s\u001b[0m 97ms/step"
     ]
    },
    {
     "name": "stdout",
     "output_type": "stream",
     "text": [
      "\b\b\b\b\b\b\b\b\b\b\b\b\b\b\b\b\b\b\b\b\b\b\b\b\b\b\b\b\b\b\b\b\b\b\b\b\b\b\b\r",
      "\u001b[1m10/10\u001b[0m \u001b[32m━━━━━━━━━━━━━━━━━━━━\u001b[0m\u001b[37m\u001b[0m \u001b[1m0s\u001b[0m 11ms/step"
     ]
    },
    {
     "name": "stdout",
     "output_type": "stream",
     "text": [
      "\b\b\b\b\b\b\b\b\b\b\b\b\b\b\b\b\b\b\b\b\b\b\b\b\b\b\b\b\b\b\b\b\b\b\b\b\b\b\b\r",
      "\u001b[1m10/10\u001b[0m \u001b[32m━━━━━━━━━━━━━━━━━━━━\u001b[0m\u001b[37m\u001b[0m \u001b[1m0s\u001b[0m 11ms/step\n"
     ]
    },
    {
     "name": "stdout",
     "output_type": "stream",
     "text": [
      "預測 shape : (301, 1)\n",
      "預測 train.shape : (301, 1)\n",
      "\u001b[93m# 預測\u001b[0m\n",
      "\r",
      "\u001b[1m1/1\u001b[0m \u001b[32m━━━━━━━━━━━━━━━━━━━━\u001b[0m\u001b[37m\u001b[0m \u001b[1m0s\u001b[0m 7ms/step"
     ]
    },
    {
     "name": "stdout",
     "output_type": "stream",
     "text": [
      "\b\b\b\b\b\b\b\b\b\b\b\b\b\b\b\b\b\b\b\b\b\b\b\b\b\b\b\b\b\b\b\b\b\b\b\b\r",
      "\u001b[1m1/1\u001b[0m \u001b[32m━━━━━━━━━━━━━━━━━━━━\u001b[0m\u001b[37m\u001b[0m \u001b[1m0s\u001b[0m 7ms/step\n"
     ]
    },
    {
     "name": "stdout",
     "output_type": "stream",
     "text": [
      "預測 shape : (24, 1)\n",
      "預測 val.shape : (24, 1)\n",
      "\u001b[93m# 預測\u001b[0m\n",
      "\r",
      "\u001b[1m1/1\u001b[0m \u001b[32m━━━━━━━━━━━━━━━━━━━━\u001b[0m\u001b[37m\u001b[0m \u001b[1m0s\u001b[0m 7ms/step"
     ]
    },
    {
     "name": "stdout",
     "output_type": "stream",
     "text": [
      "\b\b\b\b\b\b\b\b\b\b\b\b\b\b\b\b\b\b\b\b\b\b\b\b\b\b\b\b\b\b\b\b\b\b\b\b\r",
      "\u001b[1m1/1\u001b[0m \u001b[32m━━━━━━━━━━━━━━━━━━━━\u001b[0m\u001b[37m\u001b[0m \u001b[1m0s\u001b[0m 7ms/step\n"
     ]
    },
    {
     "name": "stdout",
     "output_type": "stream",
     "text": [
      "預測 shape : (25, 1)\n",
      "預測 test.shape : (25, 1)\n",
      "\u001b[31m------------------------------------------------------------------------\u001b[0m\n",
      "\u001b[31m殘差\u001b[0m\n",
      "\u001b[93m# 預測\u001b[0m\n"
     ]
    },
    {
     "name": "stdout",
     "output_type": "stream",
     "text": [
      "\r",
      "\u001b[1m 1/10\u001b[0m \u001b[32m━━\u001b[0m\u001b[37m━━━━━━━━━━━━━━━━━━\u001b[0m \u001b[1m0s\u001b[0m 97ms/step"
     ]
    },
    {
     "name": "stdout",
     "output_type": "stream",
     "text": [
      "\b\b\b\b\b\b\b\b\b\b\b\b\b\b\b\b\b\b\b\b\b\b\b\b\b\b\b\b\b\b\b\b\b\b\b\b\b\b\b\r",
      "\u001b[1m10/10\u001b[0m \u001b[32m━━━━━━━━━━━━━━━━━━━━\u001b[0m\u001b[37m\u001b[0m \u001b[1m0s\u001b[0m 11ms/step"
     ]
    },
    {
     "name": "stdout",
     "output_type": "stream",
     "text": [
      "\b\b\b\b\b\b\b\b\b\b\b\b\b\b\b\b\b\b\b\b\b\b\b\b\b\b\b\b\b\b\b\b\b\b\b\b\b\b\b\r",
      "\u001b[1m10/10\u001b[0m \u001b[32m━━━━━━━━━━━━━━━━━━━━\u001b[0m\u001b[37m\u001b[0m \u001b[1m0s\u001b[0m 12ms/step\n"
     ]
    },
    {
     "name": "stdout",
     "output_type": "stream",
     "text": [
      "預測 shape : (301, 1)\n",
      "預測 train.shape : (301, 1)\n",
      "\u001b[93m# 預測\u001b[0m\n",
      "\r",
      "\u001b[1m1/1\u001b[0m \u001b[32m━━━━━━━━━━━━━━━━━━━━\u001b[0m\u001b[37m\u001b[0m \u001b[1m0s\u001b[0m 7ms/step"
     ]
    },
    {
     "name": "stdout",
     "output_type": "stream",
     "text": [
      "\b\b\b\b\b\b\b\b\b\b\b\b\b\b\b\b\b\b\b\b\b\b\b\b\b\b\b\b\b\b\b\b\b\b\b\b\r",
      "\u001b[1m1/1\u001b[0m \u001b[32m━━━━━━━━━━━━━━━━━━━━\u001b[0m\u001b[37m\u001b[0m \u001b[1m0s\u001b[0m 7ms/step\n"
     ]
    },
    {
     "name": "stdout",
     "output_type": "stream",
     "text": [
      "預測 shape : (24, 1)\n",
      "預測 val.shape : (24, 1)\n",
      "\u001b[93m# 預測\u001b[0m\n",
      "\r",
      "\u001b[1m1/1\u001b[0m \u001b[32m━━━━━━━━━━━━━━━━━━━━\u001b[0m\u001b[37m\u001b[0m \u001b[1m0s\u001b[0m 7ms/step"
     ]
    },
    {
     "name": "stdout",
     "output_type": "stream",
     "text": [
      "\b\b\b\b\b\b\b\b\b\b\b\b\b\b\b\b\b\b\b\b\b\b\b\b\b\b\b\b\b\b\b\b\b\b\b\b\r",
      "\u001b[1m1/1\u001b[0m \u001b[32m━━━━━━━━━━━━━━━━━━━━\u001b[0m\u001b[37m\u001b[0m \u001b[1m0s\u001b[0m 7ms/step\n"
     ]
    },
    {
     "name": "stdout",
     "output_type": "stream",
     "text": [
      "預測 shape : (25, 1)\n",
      "預測 test.shape : (25, 1)\n"
     ]
    }
   ],
   "source": [
    "predict_trains = []\n",
    "predict_vals = []\n",
    "predict_tests = []\n",
    "\n",
    "for i in range(len(models)):\n",
    "    print_step(i + 1)    \n",
    "  \n",
    "    predict_train = lstm.predict(models[i], x_lstm_trains[i])\n",
    "    print(f'預測 train.shape : {predict_train.shape}')\n",
    "\n",
    "    predict_val = lstm.predict(models[i], x_lstm_vals[i])\n",
    "    print(f'預測 val.shape : {predict_val.shape}')\n",
    "\n",
    "    predict_test = lstm.predict(models[i], x_lstm_tests[i])\n",
    "    print(f'預測 test.shape : {predict_test.shape}') \n",
    "    \n",
    "    predict_trains.append(predict_train)\n",
    "    predict_vals.append(predict_val)\n",
    "    predict_tests.append(predict_test)"
   ]
  },
  {
   "cell_type": "markdown",
   "id": "697cfa56",
   "metadata": {
    "id": "aeV6X1B3-uyx",
    "papermill": {
     "duration": 0.007131,
     "end_time": "2024-10-26T11:27:31.735875",
     "exception": false,
     "start_time": "2024-10-26T11:27:31.728744",
     "status": "completed"
    },
    "tags": []
   },
   "source": [
    "# 回復預測資料值為原始數據的規模"
   ]
  },
  {
   "cell_type": "code",
   "execution_count": 14,
   "id": "21947df9",
   "metadata": {
    "execution": {
     "iopub.execute_input": "2024-10-26T11:27:31.750586Z",
     "iopub.status.busy": "2024-10-26T11:27:31.750478Z",
     "iopub.status.idle": "2024-10-26T11:27:31.756021Z",
     "shell.execute_reply": "2024-10-26T11:27:31.755793Z"
    },
    "papermill": {
     "duration": 0.013643,
     "end_time": "2024-10-26T11:27:31.756636",
     "exception": false,
     "start_time": "2024-10-26T11:27:31.742993",
     "status": "completed"
    },
    "tags": []
   },
   "outputs": [
    {
     "name": "stdout",
     "output_type": "stream",
     "text": [
      "\u001b[31m------------------------------------------------------------------------\u001b[0m\n",
      "\u001b[31m第 1 個 IMF\u001b[0m\n",
      "\u001b[31m------------------------------------------------------------------------\u001b[0m\n",
      "\u001b[93m# 回復預測資料值為原始數據的規模\u001b[0m\n",
      "predict_inverse_train.shape : (301, 1)\n",
      "actual_inverse_train.shape : (301, 1)\n",
      "\u001b[93m# 回復預測資料值為原始數據的規模\u001b[0m\n",
      "predict_inverse_val.shape : (24, 1)\n",
      "actual_inverse_val.shape : (24, 1)\n",
      "\u001b[93m# 回復預測資料值為原始數據的規模\u001b[0m\n",
      "predict_inverse_test.shape : (25, 1)\n",
      "actual_inverse_test.shape : (25, 1)\n",
      "\u001b[31m------------------------------------------------------------------------\u001b[0m\n",
      "\u001b[31m第 2 個 IMF\u001b[0m\n",
      "\u001b[31m------------------------------------------------------------------------\u001b[0m\n",
      "\u001b[93m# 回復預測資料值為原始數據的規模\u001b[0m\n",
      "predict_inverse_train.shape : (301, 1)\n",
      "actual_inverse_train.shape : (301, 1)\n",
      "\u001b[93m# 回復預測資料值為原始數據的規模\u001b[0m\n",
      "predict_inverse_val.shape : (24, 1)\n",
      "actual_inverse_val.shape : (24, 1)\n",
      "\u001b[93m# 回復預測資料值為原始數據的規模\u001b[0m\n",
      "predict_inverse_test.shape : (25, 1)\n",
      "actual_inverse_test.shape : (25, 1)\n",
      "\u001b[31m------------------------------------------------------------------------\u001b[0m\n",
      "\u001b[31m第 3 個 IMF\u001b[0m\n",
      "\u001b[31m------------------------------------------------------------------------\u001b[0m\n",
      "\u001b[93m# 回復預測資料值為原始數據的規模\u001b[0m\n",
      "predict_inverse_train.shape : (301, 1)\n",
      "actual_inverse_train.shape : (301, 1)\n",
      "\u001b[93m# 回復預測資料值為原始數據的規模\u001b[0m\n",
      "predict_inverse_val.shape : (24, 1)\n",
      "actual_inverse_val.shape : (24, 1)\n",
      "\u001b[93m# 回復預測資料值為原始數據的規模\u001b[0m\n",
      "predict_inverse_test.shape : (25, 1)\n",
      "actual_inverse_test.shape : (25, 1)\n",
      "\u001b[31m------------------------------------------------------------------------\u001b[0m\n",
      "\u001b[31m第 4 個 IMF\u001b[0m\n",
      "\u001b[31m------------------------------------------------------------------------\u001b[0m\n",
      "\u001b[93m# 回復預測資料值為原始數據的規模\u001b[0m\n",
      "predict_inverse_train.shape : (301, 1)\n",
      "actual_inverse_train.shape : (301, 1)\n",
      "\u001b[93m# 回復預測資料值為原始數據的規模\u001b[0m\n",
      "predict_inverse_val.shape : (24, 1)\n",
      "actual_inverse_val.shape : (24, 1)\n",
      "\u001b[93m# 回復預測資料值為原始數據的規模\u001b[0m\n",
      "predict_inverse_test.shape : (25, 1)\n",
      "actual_inverse_test.shape : (25, 1)\n",
      "\u001b[31m------------------------------------------------------------------------\u001b[0m\n",
      "\u001b[31m第 5 個 IMF\u001b[0m\n",
      "\u001b[31m------------------------------------------------------------------------\u001b[0m\n",
      "\u001b[93m# 回復預測資料值為原始數據的規模\u001b[0m\n",
      "predict_inverse_train.shape : (301, 1)\n",
      "actual_inverse_train.shape : (301, 1)\n",
      "\u001b[93m# 回復預測資料值為原始數據的規模\u001b[0m\n",
      "predict_inverse_val.shape : (24, 1)\n",
      "actual_inverse_val.shape : (24, 1)\n",
      "\u001b[93m# 回復預測資料值為原始數據的規模\u001b[0m\n",
      "predict_inverse_test.shape : (25, 1)\n",
      "actual_inverse_test.shape : (25, 1)\n",
      "\u001b[31m------------------------------------------------------------------------\u001b[0m\n",
      "\u001b[31m第 6 個 IMF\u001b[0m\n",
      "\u001b[31m------------------------------------------------------------------------\u001b[0m\n",
      "\u001b[93m# 回復預測資料值為原始數據的規模\u001b[0m\n",
      "predict_inverse_train.shape : (301, 1)\n",
      "actual_inverse_train.shape : (301, 1)\n",
      "\u001b[93m# 回復預測資料值為原始數據的規模\u001b[0m\n",
      "predict_inverse_val.shape : (24, 1)\n",
      "actual_inverse_val.shape : (24, 1)\n",
      "\u001b[93m# 回復預測資料值為原始數據的規模\u001b[0m\n",
      "predict_inverse_test.shape : (25, 1)\n",
      "actual_inverse_test.shape : (25, 1)\n",
      "\u001b[31m------------------------------------------------------------------------\u001b[0m\n",
      "\u001b[31m第 7 個 IMF\u001b[0m\n",
      "\u001b[31m------------------------------------------------------------------------\u001b[0m\n",
      "\u001b[93m# 回復預測資料值為原始數據的規模\u001b[0m\n",
      "predict_inverse_train.shape : (301, 1)\n",
      "actual_inverse_train.shape : (301, 1)\n",
      "\u001b[93m# 回復預測資料值為原始數據的規模\u001b[0m\n",
      "predict_inverse_val.shape : (24, 1)\n",
      "actual_inverse_val.shape : (24, 1)\n",
      "\u001b[93m# 回復預測資料值為原始數據的規模\u001b[0m\n",
      "predict_inverse_test.shape : (25, 1)\n",
      "actual_inverse_test.shape : (25, 1)\n",
      "\u001b[31m------------------------------------------------------------------------\u001b[0m\n",
      "\u001b[31m第 8 個 IMF\u001b[0m\n",
      "\u001b[31m------------------------------------------------------------------------\u001b[0m\n",
      "\u001b[93m# 回復預測資料值為原始數據的規模\u001b[0m\n",
      "predict_inverse_train.shape : (301, 1)\n",
      "actual_inverse_train.shape : (301, 1)\n",
      "\u001b[93m# 回復預測資料值為原始數據的規模\u001b[0m\n",
      "predict_inverse_val.shape : (24, 1)\n",
      "actual_inverse_val.shape : (24, 1)\n",
      "\u001b[93m# 回復預測資料值為原始數據的規模\u001b[0m\n",
      "predict_inverse_test.shape : (25, 1)\n",
      "actual_inverse_test.shape : (25, 1)\n",
      "\u001b[31m------------------------------------------------------------------------\u001b[0m\n",
      "\u001b[31m殘差\u001b[0m\n",
      "\u001b[93m# 回復預測資料值為原始數據的規模\u001b[0m\n",
      "predict_inverse_train.shape : (301, 1)\n",
      "actual_inverse_train.shape : (301, 1)\n",
      "\u001b[93m# 回復預測資料值為原始數據的規模\u001b[0m\n",
      "predict_inverse_val.shape : (24, 1)\n",
      "actual_inverse_val.shape : (24, 1)\n",
      "\u001b[93m# 回復預測資料值為原始數據的規模\u001b[0m\n",
      "predict_inverse_test.shape : (25, 1)\n",
      "actual_inverse_test.shape : (25, 1)\n"
     ]
    }
   ],
   "source": [
    "predict_inverse_trains = []\n",
    "predict_inverse_vals = []\n",
    "predict_inverse_tests = []\n",
    "\n",
    "actual_inverse_trains = []\n",
    "actual_inverse_vals = []\n",
    "actual_inverse_tests = []\n",
    "\n",
    "actual_trains = []\n",
    "actual_vals = []\n",
    "actual_tests = []\n",
    "\n",
    "\n",
    "for i in range(len(models)):\n",
    "    print_step(i + 1)\n",
    "    \n",
    "    # 訓練\n",
    "    predict_inverse_train, actual_inverse_train, predict_train, actual_train = \\\n",
    "        lstm.denormalize_and_reshape_back(\n",
    "            y_predict = predict_trains[i],\n",
    "            y_lstm_actual = y_lstm_trains[i],\n",
    "            y_scaler = y_scalers[i],\n",
    "            n_predictions = future_day\n",
    "        )\n",
    "    print(f'predict_inverse_train.shape : {predict_inverse_train.shape}') \n",
    "    print(f'actual_inverse_train.shape : {actual_inverse_train.shape}')\n",
    "\n",
    "    # 驗證\n",
    "    predict_inverse_val, actual_inverse_val, predict_val, actual_val = \\\n",
    "        lstm.denormalize_and_reshape_back(\n",
    "            y_predict = predict_vals[i],\n",
    "            y_lstm_actual = y_lstm_vals[i],\n",
    "            y_scaler = y_scalers[i],\n",
    "            n_predictions = future_day\n",
    "        )\n",
    "    print(f'predict_inverse_val.shape : {predict_inverse_val.shape}')\n",
    "    print(f'actual_inverse_val.shape : {actual_inverse_val.shape}')\n",
    "    \n",
    "    # 測試\n",
    "    predict_inverse_test, actual_inverse_test, predict_test, actual_test = \\\n",
    "        lstm.denormalize_and_reshape_back(\n",
    "            y_predict = predict_tests[i],\n",
    "            y_lstm_actual = y_lstm_tests[i],\n",
    "            y_scaler = y_scalers[i],\n",
    "            n_predictions = future_day\n",
    "        )\n",
    "    print(f'predict_inverse_test.shape : {predict_inverse_test.shape}')\n",
    "    print(f'actual_inverse_test.shape : {actual_inverse_test.shape}')\n",
    "\n",
    "    predict_inverse_trains.append(predict_inverse_train)\n",
    "    predict_inverse_vals.append(predict_inverse_val)\n",
    "    predict_inverse_tests.append(predict_inverse_test)\n",
    "\n",
    "    actual_inverse_trains.append(actual_inverse_train)\n",
    "    actual_inverse_vals.append(actual_inverse_val)\n",
    "    actual_inverse_tests.append(actual_inverse_test)\n",
    "\n",
    "    actual_trains.append(actual_train)\n",
    "    actual_vals.append(actual_val)\n",
    "    actual_tests.append(actual_test)\n",
    "    "
   ]
  },
  {
   "cell_type": "markdown",
   "id": "6e3e45f2",
   "metadata": {
    "id": "QbvGCwra87xM",
    "papermill": {
     "duration": 0.007169,
     "end_time": "2024-10-26T11:27:31.771117",
     "exception": false,
     "start_time": "2024-10-26T11:27:31.763948",
     "status": "completed"
    },
    "tags": []
   },
   "source": [
    "# 預測資料加總"
   ]
  },
  {
   "cell_type": "code",
   "execution_count": 15,
   "id": "1e7e6929",
   "metadata": {
    "colab": {
     "base_uri": "https://localhost:8080/"
    },
    "execution": {
     "iopub.execute_input": "2024-10-26T11:27:31.785935Z",
     "iopub.status.busy": "2024-10-26T11:27:31.785833Z",
     "iopub.status.idle": "2024-10-26T11:27:31.790116Z",
     "shell.execute_reply": "2024-10-26T11:27:31.789882Z"
    },
    "id": "AYpqTXZ6JiWH",
    "outputId": "938085fa-1333-4c03-dcc1-77d001d0e484",
    "papermill": {
     "duration": 0.012448,
     "end_time": "2024-10-26T11:27:31.790740",
     "exception": false,
     "start_time": "2024-10-26T11:27:31.778292",
     "status": "completed"
    },
    "tags": []
   },
   "outputs": [
    {
     "name": "stdout",
     "output_type": "stream",
     "text": [
      "\u001b[93m# 切割訓練、驗證和測試資料集\u001b[0m\n",
      "x_train.shape: (316, 1)\n",
      "y_train.shape: (316, 1)\n",
      "x_val.shape: (39, 1)\n",
      "y_val.shape: (39, 1)\n",
      "x_test.shape: (40, 1)\n",
      "y_test.shape: (40, 1)\n",
      "\u001b[93m# 將資料轉成 LSTM 模型所需資料格式，LSTM 的輸入必須是三維\u001b[0m\n",
      "x_lstm_origin_train.shape : (301, 1)\n",
      "y_lstm_origin_train.shape : (301, 1)\n",
      "\u001b[93m# 將資料轉成 LSTM 模型所需資料格式，LSTM 的輸入必須是三維\u001b[0m\n",
      "x_lstm_origin_test.shape : (25, 14, 1)\n",
      "y_lstm_origin_test.shape : (25, 1)\n",
      "\u001b[93m# 將資料轉成 LSTM 模型所需資料格式，LSTM 的輸入必須是三維\u001b[0m\n",
      "x_lstm_origin_val.shape : (24, 14, 1)\n",
      "y_lstm_origin_val.shape : (24, 1)\n"
     ]
    }
   ],
   "source": [
    "# 根據原始數據進行切割\n",
    "x_train_origin, y_train_origin , x_val_origin, y_val_origin, x_test_origin, y_test_origin = \\\n",
    "    lstm.train_val_test_split(data_source, train_split_rate, val_split_rate)\n",
    "\n",
    "# 使用原始數據進行 LSTM 模型所需的格式資料轉換\n",
    "# 主要是為了後面的驗證圖表\n",
    "y_lstm_origin_train, y_lstm_origin_train, _ = lstm.reshape_data_for_lstm(\n",
    "    x_train_origin, y_train_origin,\n",
    "    date_array = None,\n",
    "    past_day = past_day,\n",
    "    future_day = future_day\n",
    ")\n",
    "y_lstm_origin_train = y_lstm_origin_train.reshape(\n",
    "    y_lstm_origin_train.shape[0], \n",
    "    y_lstm_origin_train.shape[1]\n",
    ")\n",
    "\n",
    "print(f'x_lstm_origin_train.shape : {y_lstm_origin_train.shape}')\n",
    "print(f'y_lstm_origin_train.shape : {y_lstm_origin_train.shape}')\n",
    "\n",
    "x_lstm_origin_test, y_lstm_origin_test, _ = lstm.reshape_data_for_lstm(\n",
    "    x_test_origin, y_test_origin,\n",
    "    date_array = None,\n",
    "    past_day = past_day,\n",
    "    future_day = future_day\n",
    ")\n",
    "y_lstm_origin_test = y_lstm_origin_test.reshape(\n",
    "    y_lstm_origin_test.shape[0], \n",
    "    y_lstm_origin_test.shape[1]\n",
    ")\n",
    "\n",
    "print(f'x_lstm_origin_test.shape : {x_lstm_origin_test.shape}')\n",
    "print(f'y_lstm_origin_test.shape : {y_lstm_origin_test.shape}')\n",
    "\n",
    "x_lstm_origin_val, y_lstm_origin_val, _ = lstm.reshape_data_for_lstm(\n",
    "    x_val_origin, y_val_origin,\n",
    "    date_array = None,\n",
    "    past_day = past_day,\n",
    "    future_day = future_day\n",
    ")\n",
    "y_lstm_origin_val = y_lstm_origin_val.reshape(\n",
    "    y_lstm_origin_val.shape[0], \n",
    "    y_lstm_origin_val.shape[1]\n",
    ")\n",
    "\n",
    "print(f'x_lstm_origin_val.shape : {x_lstm_origin_val.shape}')\n",
    "print(f'y_lstm_origin_val.shape : {y_lstm_origin_val.shape}')"
   ]
  },
  {
   "cell_type": "code",
   "execution_count": 16,
   "id": "60ee7751",
   "metadata": {
    "colab": {
     "base_uri": "https://localhost:8080/"
    },
    "execution": {
     "iopub.execute_input": "2024-10-26T11:27:31.805690Z",
     "iopub.status.busy": "2024-10-26T11:27:31.805589Z",
     "iopub.status.idle": "2024-10-26T11:27:31.808347Z",
     "shell.execute_reply": "2024-10-26T11:27:31.808135Z"
    },
    "id": "Xy7noNN78JlX",
    "outputId": "250b3fbe-e4f4-43f5-93d2-6c0816bbfa3a",
    "papermill": {
     "duration": 0.010869,
     "end_time": "2024-10-26T11:27:31.808919",
     "exception": false,
     "start_time": "2024-10-26T11:27:31.798050",
     "status": "completed"
    },
    "tags": []
   },
   "outputs": [
    {
     "name": "stdout",
     "output_type": "stream",
     "text": [
      "predict_inverse_train_sum (301, 1)\n",
      "actual_inverse_train_sum (301, 1)\n",
      "predict_inverse_val_sum (24, 1)\n",
      "actual_inverse_val_sum (24, 1)\n",
      "predict_inverse_test_sum (25, 1)\n",
      "actual_inverse_test_sum (25, 1)\n"
     ]
    }
   ],
   "source": [
    "predict_inverse_train_sum = np.sum(predict_inverse_trains, axis=0)\n",
    "actual_inverse_train_sum = np.sum(actual_inverse_trains, axis=0)\n",
    "\n",
    "predict_inverse_val_sum = np.sum(predict_inverse_vals, axis=0)\n",
    "actual_inverse_val_sum = np.sum(actual_inverse_vals, axis=0)\n",
    "\n",
    "predict_inverse_test_sum = np.sum(predict_inverse_tests, axis=0)\n",
    "actual_inverse_test_sum = np.sum(actual_inverse_tests, axis=0)\n",
    "\n",
    "print('predict_inverse_train_sum', predict_inverse_train_sum.shape)\n",
    "print('actual_inverse_train_sum', actual_inverse_train_sum.shape)\n",
    "\n",
    "print('predict_inverse_val_sum', predict_inverse_val_sum.shape)\n",
    "print('actual_inverse_val_sum', actual_inverse_val_sum.shape)\n",
    "\n",
    "print('predict_inverse_test_sum', predict_inverse_test_sum.shape)\n",
    "print('actual_inverse_test_sum', actual_inverse_test_sum.shape)"
   ]
  },
  {
   "cell_type": "markdown",
   "id": "f6bafee1",
   "metadata": {
    "id": "QFm-OEs4-xya",
    "papermill": {
     "duration": 0.007216,
     "end_time": "2024-10-26T11:27:31.823564",
     "exception": false,
     "start_time": "2024-10-26T11:27:31.816348",
     "status": "completed"
    },
    "tags": []
   },
   "source": [
    "# 查看訓練 & 驗證 & 測試集評估數據"
   ]
  },
  {
   "cell_type": "code",
   "execution_count": 17,
   "id": "74a4e864",
   "metadata": {
    "execution": {
     "iopub.execute_input": "2024-10-26T11:27:31.838458Z",
     "iopub.status.busy": "2024-10-26T11:27:31.838369Z",
     "iopub.status.idle": "2024-10-26T11:27:32.541002Z",
     "shell.execute_reply": "2024-10-26T11:27:32.540751Z"
    },
    "papermill": {
     "duration": 0.710807,
     "end_time": "2024-10-26T11:27:32.541651",
     "exception": false,
     "start_time": "2024-10-26T11:27:31.830844",
     "status": "completed"
    },
    "tags": []
   },
   "outputs": [
    {
     "name": "stdout",
     "output_type": "stream",
     "text": [
      "\u001b[31m------------------------------------------------------------------------\u001b[0m\n",
      "\u001b[31m第 1 個 IMF\u001b[0m\n",
      "\u001b[31m------------------------------------------------------------------------\u001b[0m\n",
      "\u001b[93m# 查看訓練 & 驗證 & 測試集評估數據\u001b[0m\n",
      "====== Train Evaluate ======\n",
      "\r",
      "\u001b[1m 1/10\u001b[0m \u001b[32m━━\u001b[0m\u001b[37m━━━━━━━━━━━━━━━━━━\u001b[0m \u001b[1m0s\u001b[0m 8ms/step - loss: 0.0023 - mean_absolute_percentage_error: 8.3418"
     ]
    },
    {
     "name": "stdout",
     "output_type": "stream",
     "text": [
      "\b\b\b\b\b\b\b\b\b\b\b\b\b\b\b\b\b\b\b\b\b\b\b\b\b\b\b\b\b\b\b\b\b\b\b\b\b\b\b\b\b\b\b\b\b\b\b\b\b\b\b\b\b\b\b\b\b\b\b\b\b\b\b\b\b\b\b\b\b\b\b\b\b\b\b\b\b\b\b\b\b\b\b\b\b\b\b\b\b\b\b\b\b\b\r",
      "\u001b[1m10/10\u001b[0m \u001b[32m━━━━━━━━━━━━━━━━━━━━\u001b[0m\u001b[37m\u001b[0m \u001b[1m0s\u001b[0m 1ms/step - loss: 0.0067 - mean_absolute_percentage_error: 2300423.2500\n"
     ]
    },
    {
     "name": "stdout",
     "output_type": "stream",
     "text": [
      "--- 訓練值比較 --- \n",
      "Actual shape: (301, 1), Predict shape: (301, 1)\n",
      "MAE:0.04743，MAPE:5934337852371.882，MSE:0.00513，RMSE:0.07163，R square:0.21801\n",
      "--- 原始值比較 --- \n",
      "Actual shape: (301, 1), Predict shape: (301, 1)\n",
      "MAE:3857.17006，MAPE:3.09294，MSE:33937345.89582，RMSE:5825.57687，R square:0.21801\n",
      "\n",
      "====== Val Evaluate ======\n"
     ]
    },
    {
     "name": "stdout",
     "output_type": "stream",
     "text": [
      "\r",
      "\u001b[1m1/1\u001b[0m \u001b[32m━━━━━━━━━━━━━━━━━━━━\u001b[0m\u001b[37m\u001b[0m \u001b[1m0s\u001b[0m 8ms/step - loss: 0.0023 - mean_absolute_percentage_error: 8.8712"
     ]
    },
    {
     "name": "stdout",
     "output_type": "stream",
     "text": [
      "\b\b\b\b\b\b\b\b\b\b\b\b\b\b\b\b\b\b\b\b\b\b\b\b\b\b\b\b\b\b\b\b\b\b\b\b\b\b\b\b\b\b\b\b\b\b\b\b\b\b\b\b\b\b\b\b\b\b\b\b\b\b\b\b\b\b\b\b\b\b\b\b\b\b\b\b\b\b\b\b\b\b\b\b\b\b\b\b\b\b\b\b\r",
      "\u001b[1m1/1\u001b[0m \u001b[32m━━━━━━━━━━━━━━━━━━━━\u001b[0m\u001b[37m\u001b[0m \u001b[1m0s\u001b[0m 9ms/step - loss: 0.0023 - mean_absolute_percentage_error: 8.8712\n"
     ]
    },
    {
     "name": "stdout",
     "output_type": "stream",
     "text": [
      "--- 正規化比較 --- \n",
      "Actual shape: (24, 1), Predict shape: (24, 1)\n",
      "MAE:0.03983，MAPE:0.08871，MSE:0.00232，RMSE:0.04822，R square:0.65845\n",
      "--- 原始值比較 --- \n",
      "Actual shape: (24, 1), Predict shape: (24, 1)\n",
      "MAE:3239.54801，MAPE:0.95999，MSE:15375427.17602，RMSE:3921.15126，R square:0.65845\n",
      "\n",
      "====== Test Evaluate ======\n"
     ]
    },
    {
     "name": "stdout",
     "output_type": "stream",
     "text": [
      "\r",
      "\u001b[1m1/1\u001b[0m \u001b[32m━━━━━━━━━━━━━━━━━━━━\u001b[0m\u001b[37m\u001b[0m \u001b[1m0s\u001b[0m 8ms/step - loss: 0.0046 - mean_absolute_percentage_error: 11.8961"
     ]
    },
    {
     "name": "stdout",
     "output_type": "stream",
     "text": [
      "\b\b\b\b\b\b\b\b\b\b\b\b\b\b\b\b\b\b\b\b\b\b\b\b\b\b\b\b\b\b\b\b\b\b\b\b\b\b\b\b\b\b\b\b\b\b\b\b\b\b\b\b\b\b\b\b\b\b\b\b\b\b\b\b\b\b\b\b\b\b\b\b\b\b\b\b\b\b\b\b\b\b\b\b\b\b\b\b\b\b\b\b\b\r",
      "\u001b[1m1/1\u001b[0m \u001b[32m━━━━━━━━━━━━━━━━━━━━\u001b[0m\u001b[37m\u001b[0m \u001b[1m0s\u001b[0m 9ms/step - loss: 0.0046 - mean_absolute_percentage_error: 11.8961\n"
     ]
    },
    {
     "name": "stdout",
     "output_type": "stream",
     "text": [
      "--- 正規化比較 --- \n",
      "Actual shape: (25, 1), Predict shape: (25, 1)\n",
      "MAE:0.0541，MAPE:0.11896，MSE:0.00458，RMSE:0.06765，R square:0.32339\n",
      "--- 原始值比較 --- \n",
      "Actual shape: (25, 1), Predict shape: (25, 1)\n",
      "MAE:4399.91434，MAPE:1.46844，MSE:30270902.15664，RMSE:5501.89987，R square:0.32339\n",
      "\n",
      "\u001b[31m------------------------------------------------------------------------\u001b[0m\n",
      "\u001b[31m第 2 個 IMF\u001b[0m\n",
      "\u001b[31m------------------------------------------------------------------------\u001b[0m\n",
      "\u001b[93m# 查看訓練 & 驗證 & 測試集評估數據\u001b[0m\n",
      "====== Train Evaluate ======\n"
     ]
    },
    {
     "name": "stdout",
     "output_type": "stream",
     "text": [
      "\r",
      "\u001b[1m 1/10\u001b[0m \u001b[32m━━\u001b[0m\u001b[37m━━━━━━━━━━━━━━━━━━\u001b[0m \u001b[1m0s\u001b[0m 8ms/step - loss: 0.0014 - mean_absolute_percentage_error: 6.6172"
     ]
    },
    {
     "name": "stdout",
     "output_type": "stream",
     "text": [
      "\b\b\b\b\b\b\b\b\b\b\b\b\b\b\b\b\b\b\b\b\b\b\b\b\b\b\b\b\b\b\b\b\b\b\b\b\b\b\b\b\b\b\b\b\b\b\b\b\b\b\b\b\b\b\b\b\b\b\b\b\b\b\b\b\b\b\b\b\b\b\b\b\b\b\b\b\b\b\b\b\b\b\b\b\b\b\b\b\b\b\b\b\b\b\r",
      "\u001b[1m10/10\u001b[0m \u001b[32m━━━━━━━━━━━━━━━━━━━━\u001b[0m\u001b[37m\u001b[0m \u001b[1m0s\u001b[0m 1ms/step - loss: 0.0033 - mean_absolute_percentage_error: 1731603.5000\n"
     ]
    },
    {
     "name": "stdout",
     "output_type": "stream",
     "text": [
      "--- 訓練值比較 --- \n",
      "Actual shape: (301, 1), Predict shape: (301, 1)\n",
      "MAE:0.03457，MAPE:4466954160202.958，MSE:0.0026，RMSE:0.05097，R square:0.77575\n",
      "--- 原始值比較 --- \n",
      "Actual shape: (301, 1), Predict shape: (301, 1)\n",
      "MAE:2267.85268，MAPE:11.08193，MSE:11182380.99427，RMSE:3344.00673，R square:0.77575\n",
      "\n",
      "====== Val Evaluate ======\n"
     ]
    },
    {
     "name": "stdout",
     "output_type": "stream",
     "text": [
      "\r",
      "\u001b[1m1/1\u001b[0m \u001b[32m━━━━━━━━━━━━━━━━━━━━\u001b[0m\u001b[37m\u001b[0m \u001b[1m0s\u001b[0m 8ms/step - loss: 0.0017 - mean_absolute_percentage_error: 6.6709"
     ]
    },
    {
     "name": "stdout",
     "output_type": "stream",
     "text": [
      "\b\b\b\b\b\b\b\b\b\b\b\b\b\b\b\b\b\b\b\b\b\b\b\b\b\b\b\b\b\b\b\b\b\b\b\b\b\b\b\b\b\b\b\b\b\b\b\b\b\b\b\b\b\b\b\b\b\b\b\b\b\b\b\b\b\b\b\b\b\b\b\b\b\b\b\b\b\b\b\b\b\b\b\b\b\b\b\b\b\b\b\b\r",
      "\u001b[1m1/1\u001b[0m \u001b[32m━━━━━━━━━━━━━━━━━━━━\u001b[0m\u001b[37m\u001b[0m \u001b[1m0s\u001b[0m 9ms/step - loss: 0.0017 - mean_absolute_percentage_error: 6.6709\n"
     ]
    },
    {
     "name": "stdout",
     "output_type": "stream",
     "text": [
      "--- 正規化比較 --- \n",
      "Actual shape: (24, 1), Predict shape: (24, 1)\n",
      "MAE:0.03302，MAPE:0.06671，MSE:0.00173，RMSE:0.04155，R square:0.80159\n",
      "--- 原始值比較 --- \n",
      "Actual shape: (24, 1), Predict shape: (24, 1)\n",
      "MAE:2166.13791，MAPE:0.63941，MSE:7430235.0129，RMSE:2725.84574，R square:0.80159\n",
      "\n",
      "====== Test Evaluate ======\n"
     ]
    },
    {
     "name": "stdout",
     "output_type": "stream",
     "text": [
      "\r",
      "\u001b[1m1/1\u001b[0m \u001b[32m━━━━━━━━━━━━━━━━━━━━\u001b[0m\u001b[37m\u001b[0m \u001b[1m0s\u001b[0m 8ms/step - loss: 0.0020 - mean_absolute_percentage_error: 7.3543"
     ]
    },
    {
     "name": "stdout",
     "output_type": "stream",
     "text": [
      "\b\b\b\b\b\b\b\b\b\b\b\b\b\b\b\b\b\b\b\b\b\b\b\b\b\b\b\b\b\b\b\b\b\b\b\b\b\b\b\b\b\b\b\b\b\b\b\b\b\b\b\b\b\b\b\b\b\b\b\b\b\b\b\b\b\b\b\b\b\b\b\b\b\b\b\b\b\b\b\b\b\b\b\b\b\b\b\b\b\b\b\b\r",
      "\u001b[1m1/1\u001b[0m \u001b[32m━━━━━━━━━━━━━━━━━━━━\u001b[0m\u001b[37m\u001b[0m \u001b[1m0s\u001b[0m 9ms/step - loss: 0.0020 - mean_absolute_percentage_error: 7.3543\n"
     ]
    },
    {
     "name": "stdout",
     "output_type": "stream",
     "text": [
      "--- 正規化比較 --- \n",
      "Actual shape: (25, 1), Predict shape: (25, 1)\n",
      "MAE:0.03472，MAPE:0.07354，MSE:0.002，RMSE:0.0447，R square:0.77178\n",
      "--- 原始值比較 --- \n",
      "Actual shape: (25, 1), Predict shape: (25, 1)\n",
      "MAE:2277.69577，MAPE:1.08564，MSE:8598136.35178，RMSE:2932.25789，R square:0.77178\n",
      "\n",
      "\u001b[31m------------------------------------------------------------------------\u001b[0m\n",
      "\u001b[31m第 3 個 IMF\u001b[0m\n",
      "\u001b[31m------------------------------------------------------------------------\u001b[0m\n",
      "\u001b[93m# 查看訓練 & 驗證 & 測試集評估數據\u001b[0m\n",
      "====== Train Evaluate ======\n"
     ]
    },
    {
     "name": "stdout",
     "output_type": "stream",
     "text": [
      "\r",
      "\u001b[1m 1/10\u001b[0m \u001b[32m━━\u001b[0m\u001b[37m━━━━━━━━━━━━━━━━━━\u001b[0m \u001b[1m0s\u001b[0m 8ms/step - loss: 6.1920e-04 - mean_absolute_percentage_error: 4.1082"
     ]
    },
    {
     "name": "stdout",
     "output_type": "stream",
     "text": [
      "\b\b\b\b\b\b\b\b\b\b\b\b\b\b\b\b\b\b\b\b\b\b\b\b\b\b\b\b\b\b\b\b\b\b\b\b\b\b\b\b\b\b\b\b\b\b\b\b\b\b\b\b\b\b\b\b\b\b\b\b\b\b\b\b\b\b\b\b\b\b\b\b\b\b\b\b\b\b\b\b\b\b\b\b\b\b\b\b\b\b\b\b\b\b\b\b\b\b\r",
      "\u001b[1m10/10\u001b[0m \u001b[32m━━━━━━━━━━━━━━━━━━━━\u001b[0m\u001b[37m\u001b[0m \u001b[1m0s\u001b[0m 1ms/step - loss: 7.5103e-04 - mean_absolute_percentage_error: 68634.7500\n"
     ]
    },
    {
     "name": "stdout",
     "output_type": "stream",
     "text": [
      "--- 訓練值比較 --- \n",
      "Actual shape: (301, 1), Predict shape: (301, 1)\n",
      "MAE:0.01737，MAPE:177037154583.01843，MSE:0.00058，RMSE:0.02399，R square:0.95741\n",
      "--- 原始值比較 --- \n",
      "Actual shape: (301, 1), Predict shape: (301, 1)\n",
      "MAE:851.65524，MAPE:2.61944，MSE:1384272.89759，RMSE:1176.55127，R square:0.95741\n",
      "\n",
      "====== Val Evaluate ======\n"
     ]
    },
    {
     "name": "stdout",
     "output_type": "stream",
     "text": [
      "\r",
      "\u001b[1m1/1\u001b[0m \u001b[32m━━━━━━━━━━━━━━━━━━━━\u001b[0m\u001b[37m\u001b[0m \u001b[1m0s\u001b[0m 8ms/step - loss: 6.6048e-04 - mean_absolute_percentage_error: 4.7064"
     ]
    },
    {
     "name": "stdout",
     "output_type": "stream",
     "text": [
      "\b\b\b\b\b\b\b\b\b\b\b\b\b\b\b\b\b\b\b\b\b\b\b\b\b\b\b\b\b\b\b\b\b\b\b\b\b\b\b\b\b\b\b\b\b\b\b\b\b\b\b\b\b\b\b\b\b\b\b\b\b\b\b\b\b\b\b\b\b\b\b\b\b\b\b\b\b\b\b\b\b\b\b\b\b\b\b\b\b\b\b\b\b\b\b\b\r",
      "\u001b[1m1/1\u001b[0m \u001b[32m━━━━━━━━━━━━━━━━━━━━\u001b[0m\u001b[37m\u001b[0m \u001b[1m0s\u001b[0m 9ms/step - loss: 6.6048e-04 - mean_absolute_percentage_error: 4.7064\n"
     ]
    },
    {
     "name": "stdout",
     "output_type": "stream",
     "text": [
      "--- 正規化比較 --- \n",
      "Actual shape: (24, 1), Predict shape: (24, 1)\n",
      "MAE:0.01894，MAPE:0.04706，MSE:0.00066，RMSE:0.0257，R square:0.78164\n",
      "--- 原始值比較 --- \n",
      "Actual shape: (24, 1), Predict shape: (24, 1)\n",
      "MAE:928.74979，MAPE:1.43789，MSE:1588413.55459，RMSE:1260.3228，R square:0.78164\n",
      "\n",
      "====== Test Evaluate ======\n",
      "\r",
      "\u001b[1m1/1\u001b[0m \u001b[32m━━━━━━━━━━━━━━━━━━━━\u001b[0m\u001b[37m\u001b[0m \u001b[1m0s\u001b[0m 8ms/step - loss: 8.9819e-04 - mean_absolute_percentage_error: 6.3156"
     ]
    },
    {
     "name": "stdout",
     "output_type": "stream",
     "text": [
      "\b\b\b\b\b\b\b\b\b\b\b\b\b\b\b\b\b\b\b\b\b\b\b\b\b\b\b\b\b\b\b\b\b\b\b\b\b\b\b\b\b\b\b\b\b\b\b\b\b\b\b\b\b\b\b\b\b\b\b\b\b\b\b\b\b\b\b\b\b\b\b\b\b\b\b\b\b\b\b\b\b\b\b\b\b\b\b\b\b\b\b\b\b\b\b\b\r",
      "\u001b[1m1/1\u001b[0m \u001b[32m━━━━━━━━━━━━━━━━━━━━\u001b[0m\u001b[37m\u001b[0m \u001b[1m0s\u001b[0m 9ms/step - loss: 8.9819e-04 - mean_absolute_percentage_error: 6.3156\n"
     ]
    },
    {
     "name": "stdout",
     "output_type": "stream",
     "text": [
      "--- 正規化比較 --- \n",
      "Actual shape: (25, 1), Predict shape: (25, 1)\n",
      "MAE:0.02772，MAPE:0.06316，MSE:0.0009，RMSE:0.02997，R square:0.96459\n",
      "--- 原始值比較 --- \n",
      "Actual shape: (25, 1), Predict shape: (25, 1)\n",
      "MAE:1359.17987，MAPE:0.64277，MSE:2160109.51891，RMSE:1469.7311，R square:0.96459\n",
      "\n",
      "\u001b[31m------------------------------------------------------------------------\u001b[0m\n",
      "\u001b[31m第 4 個 IMF\u001b[0m\n",
      "\u001b[31m------------------------------------------------------------------------\u001b[0m\n",
      "\u001b[93m# 查看訓練 & 驗證 & 測試集評估數據\u001b[0m\n",
      "====== Train Evaluate ======\n"
     ]
    },
    {
     "name": "stdout",
     "output_type": "stream",
     "text": [
      "\r",
      "\u001b[1m 1/10\u001b[0m \u001b[32m━━\u001b[0m\u001b[37m━━━━━━━━━━━━━━━━━━\u001b[0m \u001b[1m0s\u001b[0m 8ms/step - loss: 5.9148e-04 - mean_absolute_percentage_error: 9.4720"
     ]
    },
    {
     "name": "stdout",
     "output_type": "stream",
     "text": [
      "\b\b\b\b\b\b\b\b\b\b\b\b\b\b\b\b\b\b\b\b\b\b\b\b\b\b\b\b\b\b\b\b\b\b\b\b\b\b\b\b\b\b\b\b\b\b\b\b\b\b\b\b\b\b\b\b\b\b\b\b\b\b\b\b\b\b\b\b\b\b\b\b\b\b\b\b\b\b\b\b\b\b\b\b\b\b\b\b\b\b\b\b\b\b\b\b\b\b\r",
      "\u001b[1m10/10\u001b[0m \u001b[32m━━━━━━━━━━━━━━━━━━━━\u001b[0m\u001b[37m\u001b[0m \u001b[1m0s\u001b[0m 1ms/step - loss: 3.7962e-04 - mean_absolute_percentage_error: 53513.9570\n"
     ]
    },
    {
     "name": "stdout",
     "output_type": "stream",
     "text": [
      "--- 訓練值比較 --- \n",
      "Actual shape: (301, 1), Predict shape: (301, 1)\n",
      "MAE:0.01373，MAPE:138010340301.07092，MSE:0.00028，RMSE:0.01666，R square:0.99021\n",
      "--- 原始值比較 --- \n",
      "Actual shape: (301, 1), Predict shape: (301, 1)\n",
      "MAE:405.16569，MAPE:0.80711，MSE:241949.33641，RMSE:491.88346，R square:0.99021\n",
      "\n",
      "====== Val Evaluate ======\n"
     ]
    },
    {
     "name": "stdout",
     "output_type": "stream",
     "text": [
      "\r",
      "\u001b[1m1/1\u001b[0m \u001b[32m━━━━━━━━━━━━━━━━━━━━\u001b[0m\u001b[37m\u001b[0m \u001b[1m0s\u001b[0m 8ms/step - loss: 4.3992e-04 - mean_absolute_percentage_error: 4.3744"
     ]
    },
    {
     "name": "stdout",
     "output_type": "stream",
     "text": [
      "\b\b\b\b\b\b\b\b\b\b\b\b\b\b\b\b\b\b\b\b\b\b\b\b\b\b\b\b\b\b\b\b\b\b\b\b\b\b\b\b\b\b\b\b\b\b\b\b\b\b\b\b\b\b\b\b\b\b\b\b\b\b\b\b\b\b\b\b\b\b\b\b\b\b\b\b\b\b\b\b\b\b\b\b\b\b\b\b\b\b\b\b\b\b\b\b\r",
      "\u001b[1m1/1\u001b[0m \u001b[32m━━━━━━━━━━━━━━━━━━━━\u001b[0m\u001b[37m\u001b[0m \u001b[1m0s\u001b[0m 9ms/step - loss: 4.3992e-04 - mean_absolute_percentage_error: 4.3744\n"
     ]
    },
    {
     "name": "stdout",
     "output_type": "stream",
     "text": [
      "--- 正規化比較 --- \n",
      "Actual shape: (24, 1), Predict shape: (24, 1)\n",
      "MAE:0.02041，MAPE:0.04374，MSE:0.00044，RMSE:0.02097，R square:0.61446\n",
      "--- 原始值比較 --- \n",
      "Actual shape: (24, 1), Predict shape: (24, 1)\n",
      "MAE:602.39621，MAPE:0.28324，MSE:383279.91902，RMSE:619.09605，R square:0.61446\n",
      "\n",
      "====== Test Evaluate ======\n"
     ]
    },
    {
     "name": "stdout",
     "output_type": "stream",
     "text": [
      "\r",
      "\u001b[1m1/1\u001b[0m \u001b[32m━━━━━━━━━━━━━━━━━━━━\u001b[0m\u001b[37m\u001b[0m \u001b[1m0s\u001b[0m 8ms/step - loss: 4.0652e-04 - mean_absolute_percentage_error: 3.9168"
     ]
    },
    {
     "name": "stdout",
     "output_type": "stream",
     "text": [
      "\b\b\b\b\b\b\b\b\b\b\b\b\b\b\b\b\b\b\b\b\b\b\b\b\b\b\b\b\b\b\b\b\b\b\b\b\b\b\b\b\b\b\b\b\b\b\b\b\b\b\b\b\b\b\b\b\b\b\b\b\b\b\b\b\b\b\b\b\b\b\b\b\b\b\b\b\b\b\b\b\b\b\b\b\b\b\b\b\b\b\b\b\b\b\b\b\r",
      "\u001b[1m1/1\u001b[0m \u001b[32m━━━━━━━━━━━━━━━━━━━━\u001b[0m\u001b[37m\u001b[0m \u001b[1m0s\u001b[0m 9ms/step - loss: 4.0652e-04 - mean_absolute_percentage_error: 3.9168\n"
     ]
    },
    {
     "name": "stdout",
     "output_type": "stream",
     "text": [
      "--- 正規化比較 --- \n",
      "Actual shape: (25, 1), Predict shape: (25, 1)\n",
      "MAE:0.01708，MAPE:0.03917，MSE:0.00041，RMSE:0.02016，R square:0.98174\n",
      "--- 原始值比較 --- \n",
      "Actual shape: (25, 1), Predict shape: (25, 1)\n",
      "MAE:504.04325，MAPE:0.20334，MSE:354175.82422，RMSE:595.12673，R square:0.98174\n",
      "\n",
      "\u001b[31m------------------------------------------------------------------------\u001b[0m\n",
      "\u001b[31m第 5 個 IMF\u001b[0m\n",
      "\u001b[31m------------------------------------------------------------------------\u001b[0m\n",
      "\u001b[93m# 查看訓練 & 驗證 & 測試集評估數據\u001b[0m\n",
      "====== Train Evaluate ======\n"
     ]
    },
    {
     "name": "stdout",
     "output_type": "stream",
     "text": [
      "\r",
      "\u001b[1m 1/10\u001b[0m \u001b[32m━━\u001b[0m\u001b[37m━━━━━━━━━━━━━━━━━━\u001b[0m \u001b[1m0s\u001b[0m 8ms/step - loss: 5.9752e-05 - mean_absolute_percentage_error: 132777.4688"
     ]
    },
    {
     "name": "stdout",
     "output_type": "stream",
     "text": [
      "\b\b\b\b\b\b\b\b\b\b\b\b\b\b\b\b\b\b\b\b\b\b\b\b\b\b\b\b\b\b\b\b\b\b\b\b\b\b\b\b\b\b\b\b\b\b\b\b\b\b\b\b\b\b\b\b\b\b\b\b\b\b\b\b\b\b\b\b\b\b\b\b\b\b\b\b\b\b\b\b\b\b\b\b\b\b\b\b\b\b\b\b\b\b\b\b\b\b\b\b\b\b\b\r",
      "\u001b[1m10/10\u001b[0m \u001b[32m━━━━━━━━━━━━━━━━━━━━\u001b[0m\u001b[37m\u001b[0m \u001b[1m0s\u001b[0m 1ms/step - loss: 1.4230e-04 - mean_absolute_percentage_error: 36716.7070 \n"
     ]
    },
    {
     "name": "stdout",
     "output_type": "stream",
     "text": [
      "--- 訓練值比較 --- \n",
      "Actual shape: (301, 1), Predict shape: (301, 1)\n",
      "MAE:0.01083，MAPE:63547133503.02693，MSE:0.00016，RMSE:0.01254，R square:0.99726\n",
      "--- 原始值比較 --- \n",
      "Actual shape: (301, 1), Predict shape: (301, 1)\n",
      "MAE:153.27989，MAPE:0.1392，MSE:31532.85954，RMSE:177.57494，R square:0.99726\n",
      "\n",
      "====== Val Evaluate ======\n"
     ]
    },
    {
     "name": "stdout",
     "output_type": "stream",
     "text": [
      "\r",
      "\u001b[1m1/1\u001b[0m \u001b[32m━━━━━━━━━━━━━━━━━━━━\u001b[0m\u001b[37m\u001b[0m \u001b[1m0s\u001b[0m 8ms/step - loss: 3.6056e-04 - mean_absolute_percentage_error: 3.1228"
     ]
    },
    {
     "name": "stdout",
     "output_type": "stream",
     "text": [
      "\b\b\b\b\b\b\b\b\b\b\b\b\b\b\b\b\b\b\b\b\b\b\b\b\b\b\b\b\b\b\b\b\b\b\b\b\b\b\b\b\b\b\b\b\b\b\b\b\b\b\b\b\b\b\b\b\b\b\b\b\b\b\b\b\b\b\b\b\b\b\b\b\b\b\b\b\b\b\b\b\b\b\b\b\b\b\b\b\b\b\b\b\b\b\b\b\r",
      "\u001b[1m1/1\u001b[0m \u001b[32m━━━━━━━━━━━━━━━━━━━━\u001b[0m\u001b[37m\u001b[0m \u001b[1m0s\u001b[0m 9ms/step - loss: 3.6056e-04 - mean_absolute_percentage_error: 3.1228\n"
     ]
    },
    {
     "name": "stdout",
     "output_type": "stream",
     "text": [
      "--- 正規化比較 --- \n",
      "Actual shape: (24, 1), Predict shape: (24, 1)\n",
      "MAE:0.01839，MAPE:0.03123，MSE:0.00036，RMSE:0.01899，R square:0.71029\n",
      "--- 原始值比較 --- \n",
      "Actual shape: (24, 1), Predict shape: (24, 1)\n",
      "MAE:260.36208，MAPE:0.08947，MSE:72271.18944，RMSE:268.83301，R square:0.71029\n",
      "\n",
      "====== Test Evaluate ======\n"
     ]
    },
    {
     "name": "stdout",
     "output_type": "stream",
     "text": [
      "\r",
      "\u001b[1m1/1\u001b[0m \u001b[32m━━━━━━━━━━━━━━━━━━━━\u001b[0m\u001b[37m\u001b[0m \u001b[1m0s\u001b[0m 8ms/step - loss: 2.7839e-04 - mean_absolute_percentage_error: 4.8358"
     ]
    },
    {
     "name": "stdout",
     "output_type": "stream",
     "text": [
      "\b\b\b\b\b\b\b\b\b\b\b\b\b\b\b\b\b\b\b\b\b\b\b\b\b\b\b\b\b\b\b\b\b\b\b\b\b\b\b\b\b\b\b\b\b\b\b\b\b\b\b\b\b\b\b\b\b\b\b\b\b\b\b\b\b\b\b\b\b\b\b\b\b\b\b\b\b\b\b\b\b\b\b\b\b\b\b\b\b\b\b\b\b\b\b\b\r",
      "\u001b[1m1/1\u001b[0m \u001b[32m━━━━━━━━━━━━━━━━━━━━\u001b[0m\u001b[37m\u001b[0m \u001b[1m0s\u001b[0m 9ms/step - loss: 2.7839e-04 - mean_absolute_percentage_error: 4.8358\n"
     ]
    },
    {
     "name": "stdout",
     "output_type": "stream",
     "text": [
      "--- 正規化比較 --- \n",
      "Actual shape: (25, 1), Predict shape: (25, 1)\n",
      "MAE:0.01661，MAPE:0.04836，MSE:0.00028，RMSE:0.01668，R square:0.45958\n",
      "--- 原始值比較 --- \n",
      "Actual shape: (25, 1), Predict shape: (25, 1)\n",
      "MAE:235.16567，MAPE:6.69408，MSE:55800.328，RMSE:236.22093，R square:0.45958\n",
      "\n",
      "\u001b[31m------------------------------------------------------------------------\u001b[0m\n",
      "\u001b[31m第 6 個 IMF\u001b[0m\n",
      "\u001b[31m------------------------------------------------------------------------\u001b[0m\n",
      "\u001b[93m# 查看訓練 & 驗證 & 測試集評估數據\u001b[0m\n",
      "====== Train Evaluate ======\n"
     ]
    },
    {
     "name": "stdout",
     "output_type": "stream",
     "text": [
      "\r",
      "\u001b[1m 1/10\u001b[0m \u001b[32m━━\u001b[0m\u001b[37m━━━━━━━━━━━━━━━━━━\u001b[0m \u001b[1m0s\u001b[0m 8ms/step - loss: 3.8214e-05 - mean_absolute_percentage_error: 2.5421"
     ]
    },
    {
     "name": "stdout",
     "output_type": "stream",
     "text": [
      "\b\b\b\b\b\b\b\b\b\b\b\b\b\b\b\b\b\b\b\b\b\b\b\b\b\b\b\b\b\b\b\b\b\b\b\b\b\b\b\b\b\b\b\b\b\b\b\b\b\b\b\b\b\b\b\b\b\b\b\b\b\b\b\b\b\b\b\b\b\b\b\b\b\b\b\b\b\b\b\b\b\b\b\b\b\b\b\b\b\b\b\b\b\b\b\b\b\b\r",
      "\u001b[1m10/10\u001b[0m \u001b[32m━━━━━━━━━━━━━━━━━━━━\u001b[0m\u001b[37m\u001b[0m \u001b[1m0s\u001b[0m 1ms/step - loss: 4.4876e-04 - mean_absolute_percentage_error: 12560.6387\n"
     ]
    },
    {
     "name": "stdout",
     "output_type": "stream",
     "text": [
      "--- 訓練值比較 --- \n",
      "Actual shape: (301, 1), Predict shape: (301, 1)\n",
      "MAE:0.01544，MAPE:87063627579.06395，MSE:0.00038，RMSE:0.01941，R square:0.99606\n",
      "--- 原始值比較 --- \n",
      "Actual shape: (301, 1), Predict shape: (301, 1)\n",
      "MAE:134.84092，MAPE:2.99191，MSE:28729.83686，RMSE:169.49878，R square:0.99606\n",
      "\n",
      "====== Val Evaluate ======\n"
     ]
    },
    {
     "name": "stdout",
     "output_type": "stream",
     "text": [
      "\r",
      "\u001b[1m1/1\u001b[0m \u001b[32m━━━━━━━━━━━━━━━━━━━━\u001b[0m\u001b[37m\u001b[0m \u001b[1m0s\u001b[0m 8ms/step - loss: 2.6889e-04 - mean_absolute_percentage_error: 2.2449"
     ]
    },
    {
     "name": "stdout",
     "output_type": "stream",
     "text": [
      "\b\b\b\b\b\b\b\b\b\b\b\b\b\b\b\b\b\b\b\b\b\b\b\b\b\b\b\b\b\b\b\b\b\b\b\b\b\b\b\b\b\b\b\b\b\b\b\b\b\b\b\b\b\b\b\b\b\b\b\b\b\b\b\b\b\b\b\b\b\b\b\b\b\b\b\b\b\b\b\b\b\b\b\b\b\b\b\b\b\b\b\b\b\b\b\b\r",
      "\u001b[1m1/1\u001b[0m \u001b[32m━━━━━━━━━━━━━━━━━━━━\u001b[0m\u001b[37m\u001b[0m \u001b[1m0s\u001b[0m 9ms/step - loss: 2.6889e-04 - mean_absolute_percentage_error: 2.2449\n"
     ]
    },
    {
     "name": "stdout",
     "output_type": "stream",
     "text": [
      "--- 正規化比較 --- \n",
      "Actual shape: (24, 1), Predict shape: (24, 1)\n",
      "MAE:0.01609，MAPE:0.02245，MSE:0.00027，RMSE:0.0164，R square:0.97252\n",
      "--- 原始值比較 --- \n",
      "Actual shape: (24, 1), Predict shape: (24, 1)\n",
      "MAE:140.53478，MAPE:0.02934，MSE:20513.39809，RMSE:143.22499，R square:0.97252\n",
      "\n",
      "====== Test Evaluate ======\n"
     ]
    },
    {
     "name": "stdout",
     "output_type": "stream",
     "text": [
      "\r",
      "\u001b[1m1/1\u001b[0m \u001b[32m━━━━━━━━━━━━━━━━━━━━\u001b[0m\u001b[37m\u001b[0m \u001b[1m0s\u001b[0m 8ms/step - loss: 7.9426e-04 - mean_absolute_percentage_error: 2.8485"
     ]
    },
    {
     "name": "stdout",
     "output_type": "stream",
     "text": [
      "\b\b\b\b\b\b\b\b\b\b\b\b\b\b\b\b\b\b\b\b\b\b\b\b\b\b\b\b\b\b\b\b\b\b\b\b\b\b\b\b\b\b\b\b\b\b\b\b\b\b\b\b\b\b\b\b\b\b\b\b\b\b\b\b\b\b\b\b\b\b\b\b\b\b\b\b\b\b\b\b\b\b\b\b\b\b\b\b\b\b\b\b\b\b\b\b\r",
      "\u001b[1m1/1\u001b[0m \u001b[32m━━━━━━━━━━━━━━━━━━━━\u001b[0m\u001b[37m\u001b[0m \u001b[1m0s\u001b[0m 9ms/step - loss: 7.9426e-04 - mean_absolute_percentage_error: 2.8485\n"
     ]
    },
    {
     "name": "stdout",
     "output_type": "stream",
     "text": [
      "--- 正規化比較 --- \n",
      "Actual shape: (25, 1), Predict shape: (25, 1)\n",
      "MAE:0.0281，MAPE:0.02848，MSE:0.00079，RMSE:0.02818，R square:-3.92593\n",
      "--- 原始值比較 --- \n",
      "Actual shape: (25, 1), Predict shape: (25, 1)\n",
      "MAE:245.41958，MAPE:0.03417，MSE:60592.32543，RMSE:246.15508，R square:-3.92594\n",
      "\n",
      "\u001b[31m------------------------------------------------------------------------\u001b[0m\n",
      "\u001b[31m第 7 個 IMF\u001b[0m\n",
      "\u001b[31m------------------------------------------------------------------------\u001b[0m\n",
      "\u001b[93m# 查看訓練 & 驗證 & 測試集評估數據\u001b[0m\n",
      "====== Train Evaluate ======\n"
     ]
    },
    {
     "name": "stdout",
     "output_type": "stream",
     "text": [
      "\r",
      "\u001b[1m 1/10\u001b[0m \u001b[32m━━\u001b[0m\u001b[37m━━━━━━━━━━━━━━━━━━\u001b[0m \u001b[1m0s\u001b[0m 8ms/step - loss: 1.7165e-04 - mean_absolute_percentage_error: 1.2967"
     ]
    },
    {
     "name": "stdout",
     "output_type": "stream",
     "text": [
      "\b\b\b\b\b\b\b\b\b\b\b\b\b\b\b\b\b\b\b\b\b\b\b\b\b\b\b\b\b\b\b\b\b\b\b\b\b\b\b\b\b\b\b\b\b\b\b\b\b\b\b\b\b\b\b\b\b\b\b\b\b\b\b\b\b\b\b\b\b\b\b\b\b\b\b\b\b\b\b\b\b\b\b\b\b\b\b\b\b\b\b\b\b\b\b\b\b\b\r",
      "\u001b[1m10/10\u001b[0m \u001b[32m━━━━━━━━━━━━━━━━━━━━\u001b[0m\u001b[37m\u001b[0m \u001b[1m0s\u001b[0m 1ms/step - loss: 8.5394e-05 - mean_absolute_percentage_error: 15316.6807\n"
     ]
    },
    {
     "name": "stdout",
     "output_type": "stream",
     "text": [
      "--- 訓練值比較 --- \n",
      "Actual shape: (301, 1), Predict shape: (301, 1)\n",
      "MAE:0.00828，MAPE:135560741355.82028，MSE:0.0001，RMSE:0.01004，R square:0.99927\n",
      "--- 原始值比較 --- \n",
      "Actual shape: (301, 1), Predict shape: (301, 1)\n",
      "MAE:61.33171，MAPE:0.00254，MSE:5530.64313，RMSE:74.36829，R square:0.99927\n",
      "\n",
      "====== Val Evaluate ======\n"
     ]
    },
    {
     "name": "stdout",
     "output_type": "stream",
     "text": [
      "\r",
      "\u001b[1m1/1\u001b[0m \u001b[32m━━━━━━━━━━━━━━━━━━━━\u001b[0m\u001b[37m\u001b[0m \u001b[1m0s\u001b[0m 8ms/step - loss: 0.0014 - mean_absolute_percentage_error: 10.5721"
     ]
    },
    {
     "name": "stdout",
     "output_type": "stream",
     "text": [
      "\b\b\b\b\b\b\b\b\b\b\b\b\b\b\b\b\b\b\b\b\b\b\b\b\b\b\b\b\b\b\b\b\b\b\b\b\b\b\b\b\b\b\b\b\b\b\b\b\b\b\b\b\b\b\b\b\b\b\b\b\b\b\b\b\b\b\b\b\b\b\b\b\b\b\b\b\b\b\b\b\b\b\b\b\b\b\b\b\b\b\b\b\b\r",
      "\u001b[1m1/1\u001b[0m \u001b[32m━━━━━━━━━━━━━━━━━━━━\u001b[0m\u001b[37m\u001b[0m \u001b[1m0s\u001b[0m 9ms/step - loss: 0.0014 - mean_absolute_percentage_error: 10.5721\n"
     ]
    },
    {
     "name": "stdout",
     "output_type": "stream",
     "text": [
      "--- 正規化比較 --- \n",
      "Actual shape: (24, 1), Predict shape: (24, 1)\n",
      "MAE:0.03721，MAPE:0.10572，MSE:0.00139，RMSE:0.03723，R square:-0.81918\n",
      "--- 原始值比較 --- \n",
      "Actual shape: (24, 1), Predict shape: (24, 1)\n",
      "MAE:275.7306，MAPE:0.01146，MSE:76090.28125，RMSE:275.84467，R square:-0.81918\n",
      "\n",
      "====== Test Evaluate ======\n"
     ]
    },
    {
     "name": "stdout",
     "output_type": "stream",
     "text": [
      "\r",
      "\u001b[1m1/1\u001b[0m \u001b[32m━━━━━━━━━━━━━━━━━━━━\u001b[0m\u001b[37m\u001b[0m \u001b[1m0s\u001b[0m 8ms/step - loss: 0.0012 - mean_absolute_percentage_error: 7.6108"
     ]
    },
    {
     "name": "stdout",
     "output_type": "stream",
     "text": [
      "\b\b\b\b\b\b\b\b\b\b\b\b\b\b\b\b\b\b\b\b\b\b\b\b\b\b\b\b\b\b\b\b\b\b\b\b\b\b\b\b\b\b\b\b\b\b\b\b\b\b\b\b\b\b\b\b\b\b\b\b\b\b\b\b\b\b\b\b\b\b\b\b\b\b\b\b\b\b\b\b\b\b\b\b\b\b\b\b\b\b\b\b\r",
      "\u001b[1m1/1\u001b[0m \u001b[32m━━━━━━━━━━━━━━━━━━━━\u001b[0m\u001b[37m\u001b[0m \u001b[1m0s\u001b[0m 9ms/step - loss: 0.0012 - mean_absolute_percentage_error: 7.6108\n"
     ]
    },
    {
     "name": "stdout",
     "output_type": "stream",
     "text": [
      "--- 正規化比較 --- \n",
      "Actual shape: (25, 1), Predict shape: (25, 1)\n",
      "MAE:0.03465，MAPE:0.07611，MSE:0.0012，RMSE:0.03468，R square:-26.19094\n",
      "--- 原始值比較 --- \n",
      "Actual shape: (25, 1), Predict shape: (25, 1)\n",
      "MAE:256.70366，MAPE:0.01035，MSE:66046.02062，RMSE:256.9942，R square:-26.19091\n",
      "\n",
      "\u001b[31m------------------------------------------------------------------------\u001b[0m\n",
      "\u001b[31m第 8 個 IMF\u001b[0m\n",
      "\u001b[31m------------------------------------------------------------------------\u001b[0m\n",
      "\u001b[93m# 查看訓練 & 驗證 & 測試集評估數據\u001b[0m\n",
      "====== Train Evaluate ======\n"
     ]
    },
    {
     "name": "stdout",
     "output_type": "stream",
     "text": [
      "\r",
      "\u001b[1m 1/10\u001b[0m \u001b[32m━━\u001b[0m\u001b[37m━━━━━━━━━━━━━━━━━━\u001b[0m \u001b[1m0s\u001b[0m 8ms/step - loss: 4.0201e-05 - mean_absolute_percentage_error: 0.6596"
     ]
    },
    {
     "name": "stdout",
     "output_type": "stream",
     "text": [
      "\b\b\b\b\b\b\b\b\b\b\b\b\b\b\b\b\b\b\b\b\b\b\b\b\b\b\b\b\b\b\b\b\b\b\b\b\b\b\b\b\b\b\b\b\b\b\b\b\b\b\b\b\b\b\b\b\b\b\b\b\b\b\b\b\b\b\b\b\b\b\b\b\b\b\b\b\b\b\b\b\b\b\b\b\b\b\b\b\b\b\b\b\b\b\b\b\b\b\r",
      "\u001b[1m10/10\u001b[0m \u001b[32m━━━━━━━━━━━━━━━━━━━━\u001b[0m\u001b[37m\u001b[0m \u001b[1m0s\u001b[0m 1ms/step - loss: 2.1898e-05 - mean_absolute_percentage_error: 0.6437\n"
     ]
    },
    {
     "name": "stdout",
     "output_type": "stream",
     "text": [
      "--- 訓練值比較 --- \n",
      "Actual shape: (301, 1), Predict shape: (301, 1)\n",
      "MAE:0.00393，MAPE:0.00788，MSE:2e-05，RMSE:0.00405，R square:0.99974\n",
      "--- 原始值比較 --- \n",
      "Actual shape: (301, 1), Predict shape: (301, 1)\n",
      "MAE:16.80158，MAPE:0.0005，MSE:299.52112，RMSE:17.30668，R square:0.99974\n",
      "\n",
      "====== Val Evaluate ======\n"
     ]
    },
    {
     "name": "stdout",
     "output_type": "stream",
     "text": [
      "\r",
      "\u001b[1m1/1\u001b[0m \u001b[32m━━━━━━━━━━━━━━━━━━━━\u001b[0m\u001b[37m\u001b[0m \u001b[1m0s\u001b[0m 8ms/step - loss: 4.3351e-06 - mean_absolute_percentage_error: 2.3337"
     ]
    },
    {
     "name": "stdout",
     "output_type": "stream",
     "text": [
      "\b\b\b\b\b\b\b\b\b\b\b\b\b\b\b\b\b\b\b\b\b\b\b\b\b\b\b\b\b\b\b\b\b\b\b\b\b\b\b\b\b\b\b\b\b\b\b\b\b\b\b\b\b\b\b\b\b\b\b\b\b\b\b\b\b\b\b\b\b\b\b\b\b\b\b\b\b\b\b\b\b\b\b\b\b\b\b\b\b\b\b\b\b\b\b\b\r",
      "\u001b[1m1/1\u001b[0m \u001b[32m━━━━━━━━━━━━━━━━━━━━\u001b[0m\u001b[37m\u001b[0m \u001b[1m0s\u001b[0m 9ms/step - loss: 4.3351e-06 - mean_absolute_percentage_error: 2.3337\n"
     ]
    },
    {
     "name": "stdout",
     "output_type": "stream",
     "text": [
      "--- 正規化比較 --- \n",
      "Actual shape: (24, 1), Predict shape: (24, 1)\n",
      "MAE:0.00208，MAPE:0.02334，MSE:0.0，RMSE:0.00208，R square:0.97996\n",
      "--- 原始值比較 --- \n",
      "Actual shape: (24, 1), Predict shape: (24, 1)\n",
      "MAE:8.90231，MAPE:0.00028，MSE:79.26378，RMSE:8.90302，R square:0.97996\n",
      "\n",
      "====== Test Evaluate ======\n"
     ]
    },
    {
     "name": "stdout",
     "output_type": "stream",
     "text": [
      "\r",
      "\u001b[1m1/1\u001b[0m \u001b[32m━━━━━━━━━━━━━━━━━━━━\u001b[0m\u001b[37m\u001b[0m \u001b[1m0s\u001b[0m 8ms/step - loss: 5.1162e-06 - mean_absolute_percentage_error: 78934.1797"
     ]
    },
    {
     "name": "stdout",
     "output_type": "stream",
     "text": [
      "\b\b\b\b\b\b\b\b\b\b\b\b\b\b\b\b\b\b\b\b\b\b\b\b\b\b\b\b\b\b\b\b\b\b\b\b\b\b\b\b\b\b\b\b\b\b\b\b\b\b\b\b\b\b\b\b\b\b\b\b\b\b\b\b\b\b\b\b\b\b\b\b\b\b\b\b\b\b\b\b\b\b\b\b\b\b\b\b\b\b\b\b\b\b\b\b\b\b\b\b\r",
      "\u001b[1m1/1\u001b[0m \u001b[32m━━━━━━━━━━━━━━━━━━━━\u001b[0m\u001b[37m\u001b[0m \u001b[1m0s\u001b[0m 9ms/step - loss: 5.1162e-06 - mean_absolute_percentage_error: 78934.1797\n"
     ]
    },
    {
     "name": "stdout",
     "output_type": "stream",
     "text": [
      "--- 正規化比較 --- \n",
      "Actual shape: (25, 1), Predict shape: (25, 1)\n",
      "MAE:0.00216，MAPE:355417100124.3173，MSE:1e-05，RMSE:0.00226，R square:0.96023\n",
      "--- 原始值比較 --- \n",
      "Actual shape: (25, 1), Predict shape: (25, 1)\n",
      "MAE:9.23952，MAPE:0.0003，MSE:93.53976，RMSE:9.6716，R square:0.96023\n",
      "\n",
      "\u001b[31m------------------------------------------------------------------------\u001b[0m\n",
      "\u001b[31m殘差\u001b[0m\n",
      "\u001b[93m# 查看訓練 & 驗證 & 測試集評估數據\u001b[0m\n",
      "====== Train Evaluate ======\n"
     ]
    },
    {
     "name": "stdout",
     "output_type": "stream",
     "text": [
      "\r",
      "\u001b[1m 1/10\u001b[0m \u001b[32m━━\u001b[0m\u001b[37m━━━━━━━━━━━━━━━━━━\u001b[0m \u001b[1m0s\u001b[0m 8ms/step - loss: 0.0089 - mean_absolute_percentage_error: 48.9906"
     ]
    },
    {
     "name": "stdout",
     "output_type": "stream",
     "text": [
      "\b\b\b\b\b\b\b\b\b\b\b\b\b\b\b\b\b\b\b\b\b\b\b\b\b\b\b\b\b\b\b\b\b\b\b\b\b\b\b\b\b\b\b\b\b\b\b\b\b\b\b\b\b\b\b\b\b\b\b\b\b\b\b\b\b\b\b\b\b\b\b\b\b\b\b\b\b\b\b\b\b\b\b\b\b\b\b\b\b\b\b\b\b\b\b\r",
      "\u001b[1m10/10\u001b[0m \u001b[32m━━━━━━━━━━━━━━━━━━━━\u001b[0m\u001b[37m\u001b[0m \u001b[1m0s\u001b[0m 1ms/step - loss: 0.0106 - mean_absolute_percentage_error: 1421776.1250\n"
     ]
    },
    {
     "name": "stdout",
     "output_type": "stream",
     "text": [
      "--- 訓練值比較 --- \n",
      "Actual shape: (301, 1), Predict shape: (301, 1)\n",
      "MAE:0.08036，MAPE:3667658606068.321，MSE:0.01051，RMSE:0.1025，R square:0.55283\n",
      "--- 原始值比較 --- \n",
      "Actual shape: (301, 1), Predict shape: (301, 1)\n",
      "MAE:637.81279，MAPE:0.02488，MSE:661872.38931，RMSE:813.5554，R square:0.55283\n",
      "\n",
      "====== Val Evaluate ======\n"
     ]
    },
    {
     "name": "stdout",
     "output_type": "stream",
     "text": [
      "\r",
      "\u001b[1m1/1\u001b[0m \u001b[32m━━━━━━━━━━━━━━━━━━━━\u001b[0m\u001b[37m\u001b[0m \u001b[1m0s\u001b[0m 8ms/step - loss: 0.0131 - mean_absolute_percentage_error: 12.7998"
     ]
    },
    {
     "name": "stdout",
     "output_type": "stream",
     "text": [
      "\b\b\b\b\b\b\b\b\b\b\b\b\b\b\b\b\b\b\b\b\b\b\b\b\b\b\b\b\b\b\b\b\b\b\b\b\b\b\b\b\b\b\b\b\b\b\b\b\b\b\b\b\b\b\b\b\b\b\b\b\b\b\b\b\b\b\b\b\b\b\b\b\b\b\b\b\b\b\b\b\b\b\b\b\b\b\b\b\b\b\b\b\b\r",
      "\u001b[1m1/1\u001b[0m \u001b[32m━━━━━━━━━━━━━━━━━━━━\u001b[0m\u001b[37m\u001b[0m \u001b[1m0s\u001b[0m 9ms/step - loss: 0.0131 - mean_absolute_percentage_error: 12.7998\n"
     ]
    },
    {
     "name": "stdout",
     "output_type": "stream",
     "text": [
      "--- 正規化比較 --- \n",
      "Actual shape: (24, 1), Predict shape: (24, 1)\n",
      "MAE:0.08726，MAPE:0.128，MSE:0.01311，RMSE:0.11452，R square:-0.08897\n",
      "--- 原始值比較 --- \n",
      "Actual shape: (24, 1), Predict shape: (24, 1)\n",
      "MAE:692.59853，MAPE:0.02936，MSE:826123.44613，RMSE:908.91333，R square:-0.08897\n",
      "\n",
      "====== Test Evaluate ======\n"
     ]
    },
    {
     "name": "stdout",
     "output_type": "stream",
     "text": [
      "\r",
      "\u001b[1m1/1\u001b[0m \u001b[32m━━━━━━━━━━━━━━━━━━━━\u001b[0m\u001b[37m\u001b[0m \u001b[1m0s\u001b[0m 8ms/step - loss: 0.0078 - mean_absolute_percentage_error: 12.7282"
     ]
    },
    {
     "name": "stdout",
     "output_type": "stream",
     "text": [
      "\b\b\b\b\b\b\b\b\b\b\b\b\b\b\b\b\b\b\b\b\b\b\b\b\b\b\b\b\b\b\b\b\b\b\b\b\b\b\b\b\b\b\b\b\b\b\b\b\b\b\b\b\b\b\b\b\b\b\b\b\b\b\b\b\b\b\b\b\b\b\b\b\b\b\b\b\b\b\b\b\b\b\b\b\b\b\b\b\b\b\b\b\b\r",
      "\u001b[1m1/1\u001b[0m \u001b[32m━━━━━━━━━━━━━━━━━━━━\u001b[0m\u001b[37m\u001b[0m \u001b[1m0s\u001b[0m 9ms/step - loss: 0.0078 - mean_absolute_percentage_error: 12.7282\n"
     ]
    },
    {
     "name": "stdout",
     "output_type": "stream",
     "text": [
      "--- 正規化比較 --- \n",
      "Actual shape: (25, 1), Predict shape: (25, 1)\n",
      "MAE:0.07464，MAPE:0.12728，MSE:0.00784，RMSE:0.08855，R square:-0.08201\n",
      "--- 原始值比較 --- \n",
      "Actual shape: (25, 1), Predict shape: (25, 1)\n",
      "MAE:592.37766，MAPE:0.02421，MSE:493924.60419，RMSE:702.7977，R square:-0.08201\n",
      "\n",
      "\u001b[31m------------------------------------------------------------------------\u001b[0m\n",
      "\u001b[31m合併後 Train Evaluate\u001b[0m\n",
      "\u001b[31m------------------------------------------------------------------------\u001b[0m\n",
      "Actual shape: (301, 1), Predict shape: (301, 1)\n",
      "MAE:4468.28304，MAPE:0.15133，MSE:46546451.79762，RMSE:6822.49601，R square:0.81675\n",
      "\n",
      "\u001b[31m------------------------------------------------------------------------\u001b[0m\n",
      "\u001b[31m合併後 Val Evaluate\u001b[0m\n",
      "\u001b[31m------------------------------------------------------------------------\u001b[0m\n",
      "Actual shape: (24, 1), Predict shape: (24, 1)\n",
      "MAE:3740.49854，MAPE:0.09821，MSE:23343759.19073，RMSE:4831.53797，R square:0.80557\n",
      "\n",
      "\u001b[31m------------------------------------------------------------------------\u001b[0m\n",
      "\u001b[31m合併後 Test Evaluate\u001b[0m\n",
      "\u001b[31m------------------------------------------------------------------------\u001b[0m\n",
      "Actual shape: (25, 1), Predict shape: (25, 1)\n",
      "MAE:5422.81211，MAPE:0.13435，MSE:44867442.43393，RMSE:6698.31639，R square:0.76685\n",
      "\n"
     ]
    }
   ],
   "source": [
    "for i in range(len(models)):\n",
    "    print_step(i + 1)\n",
    "    print('\\033[93m# 查看訓練 & 驗證 & 測試集評估數據\\x1b[0m')\n",
    "\n",
    "    print('====== Train Evaluate ======')\n",
    "    lstm.evaluation(models[i], x_lstm_trains[i], y_lstm_trains[i])\n",
    "    print('--- 訓練值比較 --- ')\n",
    "    lstm.score(actual_trains[i], predict_trains[i])\n",
    "    print('--- 原始值比較 --- ')\n",
    "    lstm.score(actual_inverse_trains[i], predict_inverse_trains[i])\n",
    "    print('')\n",
    "\n",
    "    print('====== Val Evaluate ======')\n",
    "    lstm.evaluation(models[i], x_lstm_vals[i], y_lstm_vals[i])\n",
    "    print('--- 正規化比較 --- ')\n",
    "    lstm.score(actual_vals[i], predict_vals[i])\n",
    "    print('--- 原始值比較 --- ')\n",
    "    lstm.score(actual_inverse_vals[i], predict_inverse_vals[i])\n",
    "    print('')\n",
    "\n",
    "    print('====== Test Evaluate ======')\n",
    "    lstm.evaluation(models[i], x_lstm_tests[i], y_lstm_tests[i])\n",
    "    print('--- 正規化比較 --- ')\n",
    "    lstm.score(actual_tests[i], predict_tests[i])\n",
    "    print('--- 原始值比較 --- ')\n",
    "    lstm.score(actual_inverse_tests[i], predict_inverse_tests[i])\n",
    "    print('')\n",
    "    \n",
    "print('\\x1b[31m------------------------------------------------------------------------\\x1b[0m')\n",
    "print('\\x1b[31m合併後 Train Evaluate\\x1b[0m')\n",
    "print('\\x1b[31m------------------------------------------------------------------------\\x1b[0m')\n",
    "mae_train, mape_train = lstm.score(y_lstm_origin_train, predict_inverse_train_sum)\n",
    "print('')\n",
    "\n",
    "print('\\x1b[31m------------------------------------------------------------------------\\x1b[0m')\n",
    "print('\\x1b[31m合併後 Val Evaluate\\x1b[0m')\n",
    "print('\\x1b[31m------------------------------------------------------------------------\\x1b[0m')\n",
    "mae_val, mape_val = lstm.score(y_lstm_origin_val, predict_inverse_val_sum)\n",
    "print('')\n",
    "\n",
    "print('\\x1b[31m------------------------------------------------------------------------\\x1b[0m')\n",
    "print('\\x1b[31m合併後 Test Evaluate\\x1b[0m')\n",
    "print('\\x1b[31m------------------------------------------------------------------------\\x1b[0m')\n",
    "mae_test, mape_test = lstm.score(y_lstm_origin_test, predict_inverse_test_sum)\n",
    "print('')"
   ]
  },
  {
   "cell_type": "markdown",
   "id": "bd2edc3a",
   "metadata": {
    "id": "D9aEVglH1d_j",
    "papermill": {
     "duration": 0.009012,
     "end_time": "2024-10-26T11:27:32.560078",
     "exception": false,
     "start_time": "2024-10-26T11:27:32.551066",
     "status": "completed"
    },
    "tags": []
   },
   "source": [
    "# 顯示預測圖表"
   ]
  },
  {
   "cell_type": "code",
   "execution_count": 18,
   "id": "47e8d6e4",
   "metadata": {
    "colab": {
     "base_uri": "https://localhost:8080/",
     "height": 306
    },
    "execution": {
     "iopub.execute_input": "2024-10-26T11:27:32.578285Z",
     "iopub.status.busy": "2024-10-26T11:27:32.578170Z",
     "iopub.status.idle": "2024-10-26T11:27:32.625602Z",
     "shell.execute_reply": "2024-10-26T11:27:32.625380Z"
    },
    "id": "hNfsqVzk867U",
    "outputId": "43d75a15-b0c5-4963-d789-a9a29f5f1000",
    "papermill": {
     "duration": 0.057424,
     "end_time": "2024-10-26T11:27:32.626353",
     "exception": false,
     "start_time": "2024-10-26T11:27:32.568929",
     "status": "completed"
    },
    "tags": []
   },
   "outputs": [
    {
     "data": {
      "image/png": "[encoded data removed]",
      "text/plain": [
       "<Figure size 800x300 with 1 Axes>"
      ]
     },
     "metadata": {},
     "output_type": "display_data"
    }
   ],
   "source": [
    "plt.figure(figsize=(8, 3))\n",
    "plt.plot(data_source)\n",
    "plt.show()"
   ]
  },
  {
   "cell_type": "markdown",
   "id": "f9983501",
   "metadata": {
    "id": "94Q14TQA69Ef",
    "papermill": {
     "duration": 0.009839,
     "end_time": "2024-10-26T11:27:32.646351",
     "exception": false,
     "start_time": "2024-10-26T11:27:32.636512",
     "status": "completed"
    },
    "tags": []
   },
   "source": [
    "## 訓練集"
   ]
  },
  {
   "cell_type": "code",
   "execution_count": 19,
   "id": "c5aed492",
   "metadata": {
    "colab": {
     "base_uri": "https://localhost:8080/",
     "height": 717
    },
    "execution": {
     "iopub.execute_input": "2024-10-26T11:27:32.666338Z",
     "iopub.status.busy": "2024-10-26T11:27:32.666191Z",
     "iopub.status.idle": "2024-10-26T11:27:32.750330Z",
     "shell.execute_reply": "2024-10-26T11:27:32.750083Z"
    },
    "id": "OAefcLYb6SOc",
    "outputId": "b8087992-6990-4d15-a857-693c5f486155",
    "papermill": {
     "duration": 0.095052,
     "end_time": "2024-10-26T11:27:32.751053",
     "exception": false,
     "start_time": "2024-10-26T11:27:32.656001",
     "status": "completed"
    },
    "tags": []
   },
   "outputs": [
    {
     "name": "stdout",
     "output_type": "stream",
     "text": [
      "原始資料 (316, 1)\n",
      "[[6840]\n",
      " [8052]\n",
      " [7822]]\n",
      "原始資料2 (301, 1)\n",
      "[[6840]\n",
      " [8052]\n",
      " [7822]]\n",
      "還原原始資料 (301, 1)\n",
      "[[-24629.5280247 ]\n",
      " [-23496.76581996]]\n"
     ]
    },
    {
     "data": {
      "image/png": "[encoded data removed]",
      "text/plain": [
       "<Figure size 800x200 with 1 Axes>"
      ]
     },
     "metadata": {},
     "output_type": "display_data"
    },
    {
     "data": {
      "image/png": "[encoded data removed]",
      "text/plain": [
       "<Figure size 800x200 with 1 Axes>"
      ]
     },
     "metadata": {},
     "output_type": "display_data"
    }
   ],
   "source": [
    "print('原始資料' , y_train_origin.shape)\n",
    "print(y_train_origin[-3:])\n",
    "\n",
    "print('原始資料2', y_lstm_origin_train.shape)\n",
    "print(y_lstm_origin_train[-3:])\n",
    "\n",
    "print('還原原始資料', actual_inverse_train.shape)\n",
    "print(actual_inverse_train[-2:])\n",
    "\n",
    "lstm.show_predict_chart(\n",
    "    actual = y_lstm_origin_train,\n",
    "    predict = predict_inverse_train_sum,\n",
    "    title = f'Train {labels[0]}:{predicteds}, MAE:{round(mae_train, 5)}, MAPE:{round(mape_train, 5)}'\n",
    ")"
   ]
  },
  {
   "cell_type": "markdown",
   "id": "401d27fd",
   "metadata": {
    "id": "Q0x7vn2z_Ga2",
    "papermill": {
     "duration": 0.010165,
     "end_time": "2024-10-26T11:27:32.772721",
     "exception": false,
     "start_time": "2024-10-26T11:27:32.762556",
     "status": "completed"
    },
    "tags": []
   },
   "source": [
    "## 驗證集"
   ]
  },
  {
   "cell_type": "code",
   "execution_count": 20,
   "id": "2e220a2b",
   "metadata": {
    "colab": {
     "base_uri": "https://localhost:8080/",
     "height": 625
    },
    "execution": {
     "iopub.execute_input": "2024-10-26T11:27:32.793442Z",
     "iopub.status.busy": "2024-10-26T11:27:32.793323Z",
     "iopub.status.idle": "2024-10-26T11:27:32.870569Z",
     "shell.execute_reply": "2024-10-26T11:27:32.870342Z"
    },
    "id": "CUX7wXgX_LBn",
    "outputId": "036c03ce-0259-4879-8c5c-d8266aa50258",
    "papermill": {
     "duration": 0.088535,
     "end_time": "2024-10-26T11:27:32.871350",
     "exception": false,
     "start_time": "2024-10-26T11:27:32.782815",
     "status": "completed"
    },
    "tags": []
   },
   "outputs": [
    {
     "name": "stdout",
     "output_type": "stream",
     "text": [
      "原始資料 (39, 1)\n",
      "[[52838]\n",
      " [48851]\n",
      " [47947]]\n",
      "原始資料2 (24, 1)\n",
      "[[52838]\n",
      " [48851]\n",
      " [47947]]\n",
      "還原原始資料 (24, 1)\n",
      "[[-24765.82069637]\n",
      " [-24598.67026628]]\n"
     ]
    },
    {
     "data": {
      "image/png": "[encoded data removed]",
      "text/plain": [
       "<Figure size 800x200 with 1 Axes>"
      ]
     },
     "metadata": {},
     "output_type": "display_data"
    },
    {
     "data": {
      "image/png": "[encoded data removed]",
      "text/plain": [
       "<Figure size 800x200 with 1 Axes>"
      ]
     },
     "metadata": {},
     "output_type": "display_data"
    }
   ],
   "source": [
    "print('原始資料' , y_val_origin.shape)\n",
    "print(y_val_origin[-3:])\n",
    "\n",
    "print('原始資料2', y_lstm_origin_val.shape)\n",
    "print(y_lstm_origin_val[-3:])\n",
    "\n",
    "print('還原原始資料', actual_inverse_val.shape)\n",
    "print(actual_inverse_val[-2:])\n",
    "\n",
    "lstm.show_predict_chart(\n",
    "    actual = y_lstm_origin_val,\n",
    "    predict = predict_inverse_val_sum,\n",
    "    title = f'Val {labels[0]}:{predicteds}, MAE:{round(mae_val, 5)}, MAPE:{round(mape_val, 5)}'\n",
    ")"
   ]
  },
  {
   "cell_type": "markdown",
   "id": "a33c7bcb",
   "metadata": {
    "id": "sb12RcTA7CyN",
    "papermill": {
     "duration": 0.010449,
     "end_time": "2024-10-26T11:27:32.892740",
     "exception": false,
     "start_time": "2024-10-26T11:27:32.882291",
     "status": "completed"
    },
    "tags": []
   },
   "source": [
    "## 測試集"
   ]
  },
  {
   "cell_type": "code",
   "execution_count": 21,
   "id": "f954ff7a",
   "metadata": {
    "colab": {
     "base_uri": "https://localhost:8080/",
     "height": 625
    },
    "execution": {
     "iopub.execute_input": "2024-10-26T11:27:32.926083Z",
     "iopub.status.busy": "2024-10-26T11:27:32.925934Z",
     "iopub.status.idle": "2024-10-26T11:27:33.004401Z",
     "shell.execute_reply": "2024-10-26T11:27:33.004159Z"
    },
    "id": "cBXpSzdw5vJL",
    "outputId": "70558be3-5527-4893-e141-04485ff12568",
    "papermill": {
     "duration": 0.090265,
     "end_time": "2024-10-26T11:27:33.005092",
     "exception": false,
     "start_time": "2024-10-26T11:27:32.914827",
     "status": "completed"
    },
    "tags": []
   },
   "outputs": [
    {
     "name": "stdout",
     "output_type": "stream",
     "text": [
      "原始資料 (40, 1)\n",
      "[[19550]\n",
      " [34535]\n",
      " [33590]]\n",
      "原始資料2 (25, 1)\n",
      "[[19550]\n",
      " [34535]\n",
      " [33590]]\n",
      "還原原始資料 (25, 1)\n",
      "[[-23369.82891531]\n",
      " [-25865.2871721 ]]\n",
      "Test GroupCount:[3], BatchSize:14, MAE:5422.81211, MAPE:0.13435\n"
     ]
    },
    {
     "data": {
      "image/png": "[encoded data removed]",
      "text/plain": [
       "<Figure size 800x200 with 1 Axes>"
      ]
     },
     "metadata": {},
     "output_type": "display_data"
    },
    {
     "data": {
      "image/png": "[encoded data removed]",
      "text/plain": [
       "<Figure size 800x200 with 1 Axes>"
      ]
     },
     "metadata": {},
     "output_type": "display_data"
    }
   ],
   "source": [
    "print('原始資料' , y_test_origin.shape)\n",
    "print(y_test_origin[-3:])\n",
    "\n",
    "print('原始資料2', y_lstm_origin_test.shape)\n",
    "print(y_lstm_origin_test[-3:])\n",
    "\n",
    "print('還原原始資料', actual_inverse_test.shape)\n",
    "print(actual_inverse_test[-2:]) \n",
    "\n",
    "title = f'Test {labels[0]}:{predicteds}, BatchSize:{batch_size}, MAE:{round(mae_test, 5)}, MAPE:{round(mape_test, 5)}'\n",
    "print(title)\n",
    "\n",
    "lstm.show_predict_chart(\n",
    "    actual = y_lstm_origin_test,\n",
    "    predict = predict_inverse_test_sum,\n",
    "    title = title\n",
    ")"
   ]
  },
  {
   "cell_type": "markdown",
   "id": "779ddf2c",
   "metadata": {
    "papermill": {
     "duration": 0.010918,
     "end_time": "2024-10-26T11:27:33.027285",
     "exception": false,
     "start_time": "2024-10-26T11:27:33.016367",
     "status": "completed"
    },
    "tags": []
   },
   "source": [
    "# 儲存結果"
   ]
  },
  {
   "cell_type": "code",
   "execution_count": 22,
   "id": "4103ad08",
   "metadata": {
    "execution": {
     "iopub.execute_input": "2024-10-26T11:27:33.049553Z",
     "iopub.status.busy": "2024-10-26T11:27:33.049417Z",
     "iopub.status.idle": "2024-10-26T11:27:33.051894Z",
     "shell.execute_reply": "2024-10-26T11:27:33.051683Z"
    },
    "papermill": {
     "duration": 0.014456,
     "end_time": "2024-10-26T11:27:33.052598",
     "exception": false,
     "start_time": "2024-10-26T11:27:33.038142",
     "status": "completed"
    },
    "tags": []
   },
   "outputs": [
    {
     "name": "stdout",
     "output_type": "stream",
     "text": [
      "{'type': 'DecompEEMD', 'labels': ['GroupCount'], 'model_type': 4, 'predicteds': [3], 'batch_size': 14, 'train_mae': 4468.28304, 'train_mape': 0.15133, 'test_mae': 5422.81211, 'test_mape': 0.13435, 'kfold': None, 'imfs': 9}\n",
      "儲存評估結果到 DecompEEMD/_Model/GroupCount_mt4_data3_batch14.result.json\n"
     ]
    }
   ],
   "source": [
    "lstm.save_json_file(\n",
    "    result_file_name, model_dir, labels, model_type, predicteds, \n",
    "    batch_size, mae_train, mape_train, mae_test, mape_test,\n",
    "    imfs = len(imfs)\n",
    ")"
   ]
  }
 ],
 "metadata": {
  "colab": {
   "provenance": [],
   "toc_visible": true
  },
  "kernelspec": {
   "display_name": "nckuenv",
   "language": "python",
   "name": "nckuenv"
  },
  "language_info": {
   "codemirror_mode": {
    "name": "ipython",
    "version": 3
   },
   "file_extension": ".py",
   "mimetype": "text/x-python",
   "name": "python",
   "nbconvert_exporter": "python",
   "pygments_lexer": "ipython3",
   "version": "3.12.4"
  },
  "papermill": {
   "default_parameters": {},
   "duration": 85.745209,
   "end_time": "2024-10-26T11:27:34.201623",
   "environment_variables": {},
   "exception": null,
   "input_path": "Temp_runtime.ipynb",
   "output_path": "DecompEEMD/GroupCount/DecompEEMD_mt4_data3_batch14.ipynb",
   "parameters": {},
   "start_time": "2024-10-26T11:26:08.456414",
   "version": "2.6.0"
  }
 },
 "nbformat": 4,
 "nbformat_minor": 5
}