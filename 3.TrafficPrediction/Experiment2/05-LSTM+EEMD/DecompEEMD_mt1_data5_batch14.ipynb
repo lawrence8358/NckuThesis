{
 "cells": [
  {
   "cell_type": "markdown",
   "id": "646dbd34",
   "metadata": {
    "papermill": {
     "duration": 0.017336,
     "end_time": "2024-10-26T11:10:42.419381",
     "exception": false,
     "start_time": "2024-10-26T11:10:42.402045",
     "status": "completed"
    },
    "tags": []
   },
   "source": [
    "# 參數設定 (使用訊號分解)"
   ]
  },
  {
   "cell_type": "code",
   "execution_count": 1,
   "id": "c0bb7c91",
   "metadata": {
    "execution": {
     "iopub.execute_input": "2024-10-26T11:10:42.436993Z",
     "iopub.status.busy": "2024-10-26T11:10:42.436688Z",
     "iopub.status.idle": "2024-10-26T11:10:42.442436Z",
     "shell.execute_reply": "2024-10-26T11:10:42.441989Z"
    },
    "papermill": {
     "duration": 0.015369,
     "end_time": "2024-10-26T11:10:42.443717",
     "exception": false,
     "start_time": "2024-10-26T11:10:42.428348",
     "status": "completed"
    },
    "tags": []
   },
   "outputs": [],
   "source": [
    "import os\n",
    "\n",
    "labels = ['GroupCount']\n",
    "model_type = 1 # 使用模型\n",
    "predicteds = [5] # 預測類別 \n",
    "batch_size = 14  # 批次大小\n",
    "\n",
    "# labels = ['GroupCount']\n",
    "# model_type = 1 # 使用模型\n",
    "# predicteds = [1] # 預測類別 \n",
    "# batch_size = 14  # 批次大小\n",
    "\n",
    "\n",
    "# ==== 底下的參數基本上都不要亂動 ====\n",
    "past_day = 14  # 過去天數，用於訓練資料中的歷史資料長度\n",
    "future_day = 1\n",
    "\n",
    "train_split_rate = 0.8  # 訓練集佔整體資料集的比例\n",
    "val_split_rate = 0.1 # 驗證集占整體資料集的比例\n",
    "\n",
    "is_emd = False # 是否使用 EMD，False 則使用 EEMD\n",
    " \n",
    "model_dir = 'DecompEEMD/_Model'\n",
    "\n",
    "# !pip install EMD-signal\n",
    "# https://github.com/laszukdawid/PyEMD/tree/master"
   ]
  },
  {
   "cell_type": "markdown",
   "id": "d759533b",
   "metadata": {
    "papermill": {
     "duration": 0.005362,
     "end_time": "2024-10-26T11:10:42.454889",
     "exception": false,
     "start_time": "2024-10-26T11:10:42.449527",
     "status": "completed"
    },
    "tags": []
   },
   "source": [
    "# 定義類別"
   ]
  },
  {
   "cell_type": "code",
   "execution_count": 2,
   "id": "e10983d8",
   "metadata": {
    "execution": {
     "iopub.execute_input": "2024-10-26T11:10:42.464057Z",
     "iopub.status.busy": "2024-10-26T11:10:42.463911Z",
     "iopub.status.idle": "2024-10-26T11:10:44.740750Z",
     "shell.execute_reply": "2024-10-26T11:10:44.740478Z"
    },
    "papermill": {
     "duration": 2.282067,
     "end_time": "2024-10-26T11:10:44.741461",
     "exception": false,
     "start_time": "2024-10-26T11:10:42.459394",
     "status": "completed"
    },
    "tags": []
   },
   "outputs": [
    {
     "name": "stdout",
     "output_type": "stream",
     "text": [
      "/Users/elliesu/Developer/nckuenv\n"
     ]
    }
   ],
   "source": [
    "import joblib\n",
    "\n",
    "# 重新載入 Lib，讓檔案可以直接修改使用 \n",
    "import importlib\n",
    "import LstmLib \n",
    "importlib.reload(LstmLib)   \n",
    "\n",
    "from LstmLib import * \n",
    "lstm = LstmLib()\n",
    "\n",
    "import sys\n",
    "print(sys.prefix)"
   ]
  },
  {
   "cell_type": "markdown",
   "id": "4ce62d0a",
   "metadata": {
    "papermill": {
     "duration": 0.002754,
     "end_time": "2024-10-26T11:10:44.746847",
     "exception": false,
     "start_time": "2024-10-26T11:10:44.744093",
     "status": "completed"
    },
    "tags": []
   },
   "source": [
    "# 清除舊的訓練資料"
   ]
  },
  {
   "cell_type": "code",
   "execution_count": 3,
   "id": "43bbd084",
   "metadata": {
    "execution": {
     "iopub.execute_input": "2024-10-26T11:10:44.751919Z",
     "iopub.status.busy": "2024-10-26T11:10:44.751748Z",
     "iopub.status.idle": "2024-10-26T11:10:44.754011Z",
     "shell.execute_reply": "2024-10-26T11:10:44.753772Z"
    },
    "papermill": {
     "duration": 0.005518,
     "end_time": "2024-10-26T11:10:44.754641",
     "exception": false,
     "start_time": "2024-10-26T11:10:44.749123",
     "status": "completed"
    },
    "tags": []
   },
   "outputs": [
    {
     "name": "stdout",
     "output_type": "stream",
     "text": [
      "x_scaler_file_name: DecompEEMD/_Model/GroupCount_mt1_data5_batch14.x_scaler.pkl\n",
      "y_scaler_file_name: DecompEEMD/_Model/GroupCount_mt1_data5_batch14.y_scaler.pkl\n",
      "model_file_name: DecompEEMD/_Model/GroupCount_mt1_data5_batch14.model.keras\n",
      "result_file_name: DecompEEMD/_Model/GroupCount_mt1_data5_batch14.result.json\n"
     ]
    }
   ],
   "source": [
    "x_scaler_file_name, y_scaler_file_name, model_file_name, result_file_name = \\\n",
    "    lstm.reset_data(model_dir, labels, model_type, predicteds, batch_size)"
   ]
  },
  {
   "cell_type": "markdown",
   "id": "6808ce55",
   "metadata": {
    "id": "NipcqBZf-Smu",
    "papermill": {
     "duration": 0.002325,
     "end_time": "2024-10-26T11:10:44.759347",
     "exception": false,
     "start_time": "2024-10-26T11:10:44.757022",
     "status": "completed"
    },
    "tags": []
   },
   "source": [
    "# 載入數據"
   ]
  },
  {
   "cell_type": "code",
   "execution_count": 4,
   "id": "066198b4",
   "metadata": {
    "colab": {
     "base_uri": "https://localhost:8080/",
     "height": 261
    },
    "execution": {
     "iopub.execute_input": "2024-10-26T11:10:44.764290Z",
     "iopub.status.busy": "2024-10-26T11:10:44.764198Z",
     "iopub.status.idle": "2024-10-26T11:10:44.772962Z",
     "shell.execute_reply": "2024-10-26T11:10:44.772756Z"
    },
    "id": "7PH7QM4NwPtK",
    "outputId": "76b2463d-36ef-4ccd-f4b9-8690d9804d01",
    "papermill": {
     "duration": 0.011942,
     "end_time": "2024-10-26T11:10:44.773563",
     "exception": false,
     "start_time": "2024-10-26T11:10:44.761621",
     "status": "completed"
    },
    "tags": []
   },
   "outputs": [
    {
     "name": "stdout",
     "output_type": "stream",
     "text": [
      "\u001b[93m# 載入數據\u001b[0m\n",
      "395\n"
     ]
    },
    {
     "data": {
      "text/html": [
       "<div>\n",
       "<style scoped>\n",
       "    .dataframe tbody tr th:only-of-type {\n",
       "        vertical-align: middle;\n",
       "    }\n",
       "\n",
       "    .dataframe tbody tr th {\n",
       "        vertical-align: top;\n",
       "    }\n",
       "\n",
       "    .dataframe thead th {\n",
       "        text-align: right;\n",
       "    }\n",
       "</style>\n",
       "<table border=\"1\" class=\"dataframe\">\n",
       "  <thead>\n",
       "    <tr style=\"text-align: right;\">\n",
       "      <th></th>\n",
       "      <th>RequestTime</th>\n",
       "      <th>Predicted</th>\n",
       "      <th>SendBytes</th>\n",
       "      <th>ReceiveBytes</th>\n",
       "      <th>TimeTaken</th>\n",
       "      <th>UrlType1</th>\n",
       "      <th>UrlType2</th>\n",
       "      <th>UrlType3</th>\n",
       "      <th>Method_GET</th>\n",
       "      <th>Method_POST</th>\n",
       "      <th>Method_PUT</th>\n",
       "      <th>Method_DELETE</th>\n",
       "      <th>Method_HEAD</th>\n",
       "      <th>Method_OPTIONS</th>\n",
       "      <th>Method_PATCH</th>\n",
       "      <th>GroupCount</th>\n",
       "    </tr>\n",
       "  </thead>\n",
       "  <tbody>\n",
       "    <tr>\n",
       "      <th>0</th>\n",
       "      <td>2023-04-02</td>\n",
       "      <td>[5]</td>\n",
       "      <td>156009964</td>\n",
       "      <td>1063367</td>\n",
       "      <td>873569</td>\n",
       "      <td>9</td>\n",
       "      <td>2531</td>\n",
       "      <td>64</td>\n",
       "      <td>2604</td>\n",
       "      <td>0</td>\n",
       "      <td>0</td>\n",
       "      <td>0</td>\n",
       "      <td>0</td>\n",
       "      <td>0</td>\n",
       "      <td>0</td>\n",
       "      <td>2604</td>\n",
       "    </tr>\n",
       "    <tr>\n",
       "      <th>1</th>\n",
       "      <td>2023-04-03</td>\n",
       "      <td>[5]</td>\n",
       "      <td>266983699</td>\n",
       "      <td>1670644</td>\n",
       "      <td>1289435</td>\n",
       "      <td>33</td>\n",
       "      <td>3928</td>\n",
       "      <td>75</td>\n",
       "      <td>4034</td>\n",
       "      <td>2</td>\n",
       "      <td>0</td>\n",
       "      <td>0</td>\n",
       "      <td>0</td>\n",
       "      <td>0</td>\n",
       "      <td>0</td>\n",
       "      <td>4036</td>\n",
       "    </tr>\n",
       "    <tr>\n",
       "      <th>2</th>\n",
       "      <td>2023-04-04</td>\n",
       "      <td>[5]</td>\n",
       "      <td>198064713</td>\n",
       "      <td>1377806</td>\n",
       "      <td>881103</td>\n",
       "      <td>8</td>\n",
       "      <td>3552</td>\n",
       "      <td>72</td>\n",
       "      <td>3630</td>\n",
       "      <td>2</td>\n",
       "      <td>0</td>\n",
       "      <td>0</td>\n",
       "      <td>0</td>\n",
       "      <td>0</td>\n",
       "      <td>0</td>\n",
       "      <td>3632</td>\n",
       "    </tr>\n",
       "    <tr>\n",
       "      <th>3</th>\n",
       "      <td>2023-04-05</td>\n",
       "      <td>[5]</td>\n",
       "      <td>275355693</td>\n",
       "      <td>1804631</td>\n",
       "      <td>1005218</td>\n",
       "      <td>8</td>\n",
       "      <td>4270</td>\n",
       "      <td>101</td>\n",
       "      <td>4378</td>\n",
       "      <td>1</td>\n",
       "      <td>0</td>\n",
       "      <td>0</td>\n",
       "      <td>0</td>\n",
       "      <td>0</td>\n",
       "      <td>0</td>\n",
       "      <td>4379</td>\n",
       "    </tr>\n",
       "    <tr>\n",
       "      <th>4</th>\n",
       "      <td>2023-04-06</td>\n",
       "      <td>[5]</td>\n",
       "      <td>226168175</td>\n",
       "      <td>2059599</td>\n",
       "      <td>1254506</td>\n",
       "      <td>40</td>\n",
       "      <td>5491</td>\n",
       "      <td>82</td>\n",
       "      <td>5612</td>\n",
       "      <td>0</td>\n",
       "      <td>0</td>\n",
       "      <td>0</td>\n",
       "      <td>1</td>\n",
       "      <td>0</td>\n",
       "      <td>0</td>\n",
       "      <td>5613</td>\n",
       "    </tr>\n",
       "  </tbody>\n",
       "</table>\n",
       "</div>"
      ],
      "text/plain": [
       "  RequestTime Predicted  SendBytes  ReceiveBytes  TimeTaken  UrlType1  \\\n",
       "0  2023-04-02       [5]  156009964       1063367     873569         9   \n",
       "1  2023-04-03       [5]  266983699       1670644    1289435        33   \n",
       "2  2023-04-04       [5]  198064713       1377806     881103         8   \n",
       "3  2023-04-05       [5]  275355693       1804631    1005218         8   \n",
       "4  2023-04-06       [5]  226168175       2059599    1254506        40   \n",
       "\n",
       "   UrlType2  UrlType3  Method_GET  Method_POST  Method_PUT  Method_DELETE  \\\n",
       "0      2531        64        2604            0           0              0   \n",
       "1      3928        75        4034            2           0              0   \n",
       "2      3552        72        3630            2           0              0   \n",
       "3      4270       101        4378            1           0              0   \n",
       "4      5491        82        5612            0           0              0   \n",
       "\n",
       "   Method_HEAD  Method_OPTIONS  Method_PATCH  GroupCount  \n",
       "0            0               0             0        2604  \n",
       "1            0               0             0        4036  \n",
       "2            0               0             0        3632  \n",
       "3            0               0             0        4379  \n",
       "4            1               0             0        5613  "
      ]
     },
     "execution_count": 4,
     "metadata": {},
     "output_type": "execute_result"
    }
   ],
   "source": [
    "df_source = lstm.load_data(predicteds)\n",
    "\n",
    "print(len(df_source))\n",
    "df_source.head()"
   ]
  },
  {
   "cell_type": "markdown",
   "id": "b74dbaf5",
   "metadata": {
    "id": "tJ1RjR73sIZE",
    "papermill": {
     "duration": 0.002447,
     "end_time": "2024-10-26T11:10:44.778546",
     "exception": false,
     "start_time": "2024-10-26T11:10:44.776099",
     "status": "completed"
    },
    "tags": []
   },
   "source": [
    "# 訊號分解"
   ]
  },
  {
   "cell_type": "code",
   "execution_count": 5,
   "id": "4edc1792",
   "metadata": {
    "colab": {
     "base_uri": "https://localhost:8080/",
     "height": 1000
    },
    "execution": {
     "iopub.execute_input": "2024-10-26T11:10:44.783738Z",
     "iopub.status.busy": "2024-10-26T11:10:44.783645Z",
     "iopub.status.idle": "2024-10-26T11:10:45.888147Z",
     "shell.execute_reply": "2024-10-26T11:10:45.887908Z"
    },
    "id": "WbKdFBG0sDP5",
    "outputId": "f974db92-c38d-4056-f1ec-cc66238d7bb5",
    "papermill": {
     "duration": 1.108144,
     "end_time": "2024-10-26T11:10:45.889087",
     "exception": false,
     "start_time": "2024-10-26T11:10:44.780943",
     "status": "completed"
    },
    "tags": []
   },
   "outputs": [
    {
     "name": "stdout",
     "output_type": "stream",
     "text": [
      "\u001b[93m# 訊號分解\u001b[0m\n",
      "EEMD\n"
     ]
    },
    {
     "name": "stdout",
     "output_type": "stream",
     "text": [
      "IMFs shape : (8, 395)\n",
      "eIMFs shape : (8, 395)\n",
      "residue shape : (395,)\n"
     ]
    },
    {
     "data": {
      "image/png": "[encoded data removed]",
      "text/plain": [
       "<Figure size 1000x1200 with 10 Axes>"
      ]
     },
     "metadata": {},
     "output_type": "display_data"
    }
   ],
   "source": [
    "data_source = df_source[labels].values\n",
    "eIMFs, residue, imfs = lstm.decomposition(data_source, is_emd = is_emd)"
   ]
  },
  {
   "cell_type": "markdown",
   "id": "c5e7fbfb",
   "metadata": {
    "papermill": {
     "duration": 0.003193,
     "end_time": "2024-10-26T11:10:45.895836",
     "exception": false,
     "start_time": "2024-10-26T11:10:45.892643",
     "status": "completed"
    },
    "tags": []
   },
   "source": [
    "# 刪除訊號分解後的訓練資料"
   ]
  },
  {
   "cell_type": "code",
   "execution_count": 6,
   "id": "decb29b5",
   "metadata": {
    "execution": {
     "iopub.execute_input": "2024-10-26T11:10:45.902578Z",
     "iopub.status.busy": "2024-10-26T11:10:45.902469Z",
     "iopub.status.idle": "2024-10-26T11:10:45.905545Z",
     "shell.execute_reply": "2024-10-26T11:10:45.905338Z"
    },
    "papermill": {
     "duration": 0.007221,
     "end_time": "2024-10-26T11:10:45.906175",
     "exception": false,
     "start_time": "2024-10-26T11:10:45.898954",
     "status": "completed"
    },
    "tags": []
   },
   "outputs": [
    {
     "name": "stdout",
     "output_type": "stream",
     "text": [
      "\u001b[31m------------------------------------------------------------------------\u001b[0m\n",
      "\u001b[31m第 1 個 IMF\u001b[0m\n",
      "\u001b[31m------------------------------------------------------------------------\u001b[0m\n",
      "\u001b[31m------------------------------------------------------------------------\u001b[0m\n",
      "\u001b[31m第 2 個 IMF\u001b[0m\n",
      "\u001b[31m------------------------------------------------------------------------\u001b[0m\n",
      "\u001b[31m------------------------------------------------------------------------\u001b[0m\n",
      "\u001b[31m第 3 個 IMF\u001b[0m\n",
      "\u001b[31m------------------------------------------------------------------------\u001b[0m\n",
      "\u001b[31m------------------------------------------------------------------------\u001b[0m\n",
      "\u001b[31m第 4 個 IMF\u001b[0m\n",
      "\u001b[31m------------------------------------------------------------------------\u001b[0m\n",
      "\u001b[31m------------------------------------------------------------------------\u001b[0m\n",
      "\u001b[31m第 5 個 IMF\u001b[0m\n",
      "\u001b[31m------------------------------------------------------------------------\u001b[0m\n",
      "\u001b[31m------------------------------------------------------------------------\u001b[0m\n",
      "\u001b[31m第 6 個 IMF\u001b[0m\n",
      "\u001b[31m------------------------------------------------------------------------\u001b[0m\n",
      "\u001b[31m------------------------------------------------------------------------\u001b[0m\n",
      "\u001b[31m第 7 個 IMF\u001b[0m\n",
      "\u001b[31m------------------------------------------------------------------------\u001b[0m\n",
      "\u001b[31m------------------------------------------------------------------------\u001b[0m\n",
      "\u001b[31m第 8 個 IMF\u001b[0m\n",
      "\u001b[31m------------------------------------------------------------------------\u001b[0m\n",
      "\u001b[31m------------------------------------------------------------------------\u001b[0m\n",
      "\u001b[31m殘差\u001b[0m\n"
     ]
    }
   ],
   "source": [
    "def print_step(index):\n",
    "    print('\\x1b[31m------------------------------------------------------------------------\\x1b[0m')\n",
    "    # 最後一個是殘差\n",
    "    if index == len(imfs):\n",
    "        print(f'\\x1b[31m殘差\\x1b[0m')\n",
    "    else:\n",
    "        print(f'\\x1b[31m第 {index} 個 IMF\\x1b[0m')\n",
    "        print('\\x1b[31m------------------------------------------------------------------------\\x1b[0m')\n",
    "   \n",
    "\n",
    "for i in range(len(imfs)):\n",
    "    print_step(i + 1)\n",
    "\n",
    "    lstm.del_file(x_scaler_file_name.replace('.pkl', f'.{i + 1}.pkl'))\n",
    "    lstm.del_file(y_scaler_file_name.replace('.pkl', f'.{i + 1}.pkl'))\n",
    "    lstm.del_file(model_file_name.replace('.keras', f'.{i + 1}.keras'))"
   ]
  },
  {
   "cell_type": "markdown",
   "id": "328b68d8",
   "metadata": {
    "id": "UTI5KTRCNaZP",
    "papermill": {
     "duration": 0.00331,
     "end_time": "2024-10-26T11:10:45.912872",
     "exception": false,
     "start_time": "2024-10-26T11:10:45.909562",
     "status": "completed"
    },
    "tags": []
   },
   "source": [
    "# 最小最大正規化"
   ]
  },
  {
   "cell_type": "code",
   "execution_count": 7,
   "id": "ff28cd57",
   "metadata": {
    "execution": {
     "iopub.execute_input": "2024-10-26T11:10:45.919768Z",
     "iopub.status.busy": "2024-10-26T11:10:45.919668Z",
     "iopub.status.idle": "2024-10-26T11:10:45.928360Z",
     "shell.execute_reply": "2024-10-26T11:10:45.928150Z"
    },
    "papermill": {
     "duration": 0.012919,
     "end_time": "2024-10-26T11:10:45.928996",
     "exception": false,
     "start_time": "2024-10-26T11:10:45.916077",
     "status": "completed"
    },
    "tags": []
   },
   "outputs": [
    {
     "name": "stdout",
     "output_type": "stream",
     "text": [
      "\u001b[31m------------------------------------------------------------------------\u001b[0m\n",
      "\u001b[31m第 1 個 IMF\u001b[0m\n",
      "\u001b[31m------------------------------------------------------------------------\u001b[0m\n",
      "\u001b[93m# 最小最大正規化\u001b[0m\n",
      "x_norm.shape:(395, 1)\n",
      "y_norm.shape:(395, 1)\n",
      "儲存最小最大縮放參數\n",
      "\u001b[31m------------------------------------------------------------------------\u001b[0m\n",
      "\u001b[31m第 2 個 IMF\u001b[0m\n",
      "\u001b[31m------------------------------------------------------------------------\u001b[0m\n",
      "\u001b[93m# 最小最大正規化\u001b[0m\n",
      "x_norm.shape:(395, 1)\n",
      "y_norm.shape:(395, 1)\n",
      "儲存最小最大縮放參數\n",
      "\u001b[31m------------------------------------------------------------------------\u001b[0m\n",
      "\u001b[31m第 3 個 IMF\u001b[0m\n",
      "\u001b[31m------------------------------------------------------------------------\u001b[0m\n",
      "\u001b[93m# 最小最大正規化\u001b[0m\n",
      "x_norm.shape:(395, 1)\n",
      "y_norm.shape:(395, 1)\n",
      "儲存最小最大縮放參數\n",
      "\u001b[31m------------------------------------------------------------------------\u001b[0m\n",
      "\u001b[31m第 4 個 IMF\u001b[0m\n",
      "\u001b[31m------------------------------------------------------------------------\u001b[0m\n",
      "\u001b[93m# 最小最大正規化\u001b[0m\n",
      "x_norm.shape:(395, 1)\n",
      "y_norm.shape:(395, 1)\n",
      "儲存最小最大縮放參數\n",
      "\u001b[31m------------------------------------------------------------------------\u001b[0m\n",
      "\u001b[31m第 5 個 IMF\u001b[0m\n",
      "\u001b[31m------------------------------------------------------------------------\u001b[0m\n",
      "\u001b[93m# 最小最大正規化\u001b[0m\n",
      "x_norm.shape:(395, 1)\n",
      "y_norm.shape:(395, 1)\n",
      "儲存最小最大縮放參數\n",
      "\u001b[31m------------------------------------------------------------------------\u001b[0m\n",
      "\u001b[31m第 6 個 IMF\u001b[0m\n",
      "\u001b[31m------------------------------------------------------------------------\u001b[0m\n",
      "\u001b[93m# 最小最大正規化\u001b[0m\n",
      "x_norm.shape:(395, 1)\n",
      "y_norm.shape:(395, 1)\n",
      "儲存最小最大縮放參數\n",
      "\u001b[31m------------------------------------------------------------------------\u001b[0m\n",
      "\u001b[31m第 7 個 IMF\u001b[0m\n",
      "\u001b[31m------------------------------------------------------------------------\u001b[0m\n",
      "\u001b[93m# 最小最大正規化\u001b[0m\n",
      "x_norm.shape:(395, 1)\n",
      "y_norm.shape:(395, 1)\n",
      "儲存最小最大縮放參數\n",
      "\u001b[31m------------------------------------------------------------------------\u001b[0m\n",
      "\u001b[31m第 8 個 IMF\u001b[0m\n",
      "\u001b[31m------------------------------------------------------------------------\u001b[0m\n",
      "\u001b[93m# 最小最大正規化\u001b[0m\n",
      "x_norm.shape:(395, 1)\n",
      "y_norm.shape:(395, 1)\n",
      "儲存最小最大縮放參數\n",
      "\u001b[31m------------------------------------------------------------------------\u001b[0m\n",
      "\u001b[31m殘差\u001b[0m\n",
      "\u001b[93m# 最小最大正規化\u001b[0m\n",
      "x_norm.shape:(395, 1)\n",
      "y_norm.shape:(395, 1)\n",
      "儲存最小最大縮放參數\n"
     ]
    }
   ],
   "source": [
    "x_norms = []\n",
    "y_norms = []\n",
    "x_scalers = []\n",
    "y_scalers = []\n",
    "\n",
    "for i in range(1, len(imfs) + 1):\n",
    "    print_step(i) \n",
    "    x_norm, y_norm, x_scaler, y_scaler = \\\n",
    "        lstm.normalize_by_decomposition(imfs[i - 1]); \n",
    "\n",
    "    x_norms.append(x_norm)\n",
    "    y_norms.append(y_norm)\n",
    "    x_scalers.append(x_scaler)\n",
    "    y_scalers.append(y_scaler)\n",
    "\n",
    "    joblib.dump(x_scaler, x_scaler_file_name.replace('.pkl', f'.{i}.pkl'))\n",
    "    joblib.dump(y_scaler, y_scaler_file_name.replace('.pkl', f'.{i}.pkl'))\n",
    "    print('儲存最小最大縮放參數')\n",
    "  "
   ]
  },
  {
   "cell_type": "markdown",
   "id": "fd055eba",
   "metadata": {
    "id": "G3k2Q3zr-c8i",
    "papermill": {
     "duration": 0.003288,
     "end_time": "2024-10-26T11:10:45.935646",
     "exception": false,
     "start_time": "2024-10-26T11:10:45.932358",
     "status": "completed"
    },
    "tags": []
   },
   "source": [
    "# 切割訓練、驗證和測試資料集"
   ]
  },
  {
   "cell_type": "code",
   "execution_count": 8,
   "id": "fcd28561",
   "metadata": {
    "execution": {
     "iopub.execute_input": "2024-10-26T11:10:45.942587Z",
     "iopub.status.busy": "2024-10-26T11:10:45.942486Z",
     "iopub.status.idle": "2024-10-26T11:10:45.945546Z",
     "shell.execute_reply": "2024-10-26T11:10:45.945309Z"
    },
    "papermill": {
     "duration": 0.007271,
     "end_time": "2024-10-26T11:10:45.946132",
     "exception": false,
     "start_time": "2024-10-26T11:10:45.938861",
     "status": "completed"
    },
    "tags": []
   },
   "outputs": [
    {
     "name": "stdout",
     "output_type": "stream",
     "text": [
      "\u001b[31m------------------------------------------------------------------------\u001b[0m\n",
      "\u001b[31m第 1 個 IMF\u001b[0m\n",
      "\u001b[31m------------------------------------------------------------------------\u001b[0m\n",
      "\u001b[93m# 切割訓練、驗證和測試資料集\u001b[0m\n",
      "x_train.shape: (316, 1)\n",
      "y_train.shape: (316, 1)\n",
      "x_val.shape: (39, 1)\n",
      "y_val.shape: (39, 1)\n",
      "x_test.shape: (40, 1)\n",
      "y_test.shape: (40, 1)\n",
      "\u001b[31m------------------------------------------------------------------------\u001b[0m\n",
      "\u001b[31m第 2 個 IMF\u001b[0m\n",
      "\u001b[31m------------------------------------------------------------------------\u001b[0m\n",
      "\u001b[93m# 切割訓練、驗證和測試資料集\u001b[0m\n",
      "x_train.shape: (316, 1)\n",
      "y_train.shape: (316, 1)\n",
      "x_val.shape: (39, 1)\n",
      "y_val.shape: (39, 1)\n",
      "x_test.shape: (40, 1)\n",
      "y_test.shape: (40, 1)\n",
      "\u001b[31m------------------------------------------------------------------------\u001b[0m\n",
      "\u001b[31m第 3 個 IMF\u001b[0m\n",
      "\u001b[31m------------------------------------------------------------------------\u001b[0m\n",
      "\u001b[93m# 切割訓練、驗證和測試資料集\u001b[0m\n",
      "x_train.shape: (316, 1)\n",
      "y_train.shape: (316, 1)\n",
      "x_val.shape: (39, 1)\n",
      "y_val.shape: (39, 1)\n",
      "x_test.shape: (40, 1)\n",
      "y_test.shape: (40, 1)\n",
      "\u001b[31m------------------------------------------------------------------------\u001b[0m\n",
      "\u001b[31m第 4 個 IMF\u001b[0m\n",
      "\u001b[31m------------------------------------------------------------------------\u001b[0m\n",
      "\u001b[93m# 切割訓練、驗證和測試資料集\u001b[0m\n",
      "x_train.shape: (316, 1)\n",
      "y_train.shape: (316, 1)\n",
      "x_val.shape: (39, 1)\n",
      "y_val.shape: (39, 1)\n",
      "x_test.shape: (40, 1)\n",
      "y_test.shape: (40, 1)\n",
      "\u001b[31m------------------------------------------------------------------------\u001b[0m\n",
      "\u001b[31m第 5 個 IMF\u001b[0m\n",
      "\u001b[31m------------------------------------------------------------------------\u001b[0m\n",
      "\u001b[93m# 切割訓練、驗證和測試資料集\u001b[0m\n",
      "x_train.shape: (316, 1)\n",
      "y_train.shape: (316, 1)\n",
      "x_val.shape: (39, 1)\n",
      "y_val.shape: (39, 1)\n",
      "x_test.shape: (40, 1)\n",
      "y_test.shape: (40, 1)\n",
      "\u001b[31m------------------------------------------------------------------------\u001b[0m\n",
      "\u001b[31m第 6 個 IMF\u001b[0m\n",
      "\u001b[31m------------------------------------------------------------------------\u001b[0m\n",
      "\u001b[93m# 切割訓練、驗證和測試資料集\u001b[0m\n",
      "x_train.shape: (316, 1)\n",
      "y_train.shape: (316, 1)\n",
      "x_val.shape: (39, 1)\n",
      "y_val.shape: (39, 1)\n",
      "x_test.shape: (40, 1)\n",
      "y_test.shape: (40, 1)\n",
      "\u001b[31m------------------------------------------------------------------------\u001b[0m\n",
      "\u001b[31m第 7 個 IMF\u001b[0m\n",
      "\u001b[31m------------------------------------------------------------------------\u001b[0m\n",
      "\u001b[93m# 切割訓練、驗證和測試資料集\u001b[0m\n",
      "x_train.shape: (316, 1)\n",
      "y_train.shape: (316, 1)\n",
      "x_val.shape: (39, 1)\n",
      "y_val.shape: (39, 1)\n",
      "x_test.shape: (40, 1)\n",
      "y_test.shape: (40, 1)\n",
      "\u001b[31m------------------------------------------------------------------------\u001b[0m\n",
      "\u001b[31m第 8 個 IMF\u001b[0m\n",
      "\u001b[31m------------------------------------------------------------------------\u001b[0m\n",
      "\u001b[93m# 切割訓練、驗證和測試資料集\u001b[0m\n",
      "x_train.shape: (316, 1)\n",
      "y_train.shape: (316, 1)\n",
      "x_val.shape: (39, 1)\n",
      "y_val.shape: (39, 1)\n",
      "x_test.shape: (40, 1)\n",
      "y_test.shape: (40, 1)\n",
      "\u001b[31m------------------------------------------------------------------------\u001b[0m\n",
      "\u001b[31m殘差\u001b[0m\n",
      "\u001b[93m# 切割訓練、驗證和測試資料集\u001b[0m\n",
      "x_train.shape: (316, 1)\n",
      "y_train.shape: (316, 1)\n",
      "x_val.shape: (39, 1)\n",
      "y_val.shape: (39, 1)\n",
      "x_test.shape: (40, 1)\n",
      "y_test.shape: (40, 1)\n",
      "\n",
      "\u001b[31m------------------------------------------------------------------------\u001b[0m\n",
      "\u001b[31m已切割\u001b[0m\n",
      "\u001b[31m------------------------------------------------------------------------\u001b[0m\n",
      "x_trains len : 9\n",
      "y_trains len : 9\n",
      "x_vals len : 9\n",
      "y_vals len : 9\n",
      "x_tests len : 9\n",
      "y_tests len : 9\n"
     ]
    }
   ],
   "source": [
    "x_trains = []\n",
    "y_trains = []\n",
    "\n",
    "x_vals = []\n",
    "y_vals = []\n",
    "\n",
    "x_tests = []\n",
    "y_tests = []\n",
    "\n",
    "for i in range(len(x_norms)):\n",
    "    print_step(i + 1)\n",
    "    \n",
    "    x_train, y_train, x_val, y_val, x_test, y_test = \\\n",
    "        lstm.train_val_test_split(\n",
    "            x_norms[i],  \n",
    "            train_split_rate = train_split_rate,\n",
    "            val_split_rate = val_split_rate\n",
    "        )\n",
    "\n",
    "    x_trains.append(x_train)\n",
    "    y_trains.append(y_train)\n",
    "\n",
    "    x_vals.append(x_val)\n",
    "    y_vals.append(y_val)\n",
    "\n",
    "    x_tests.append(x_test)\n",
    "    y_tests.append(y_test)\n",
    "    \n",
    "\n",
    "print('\\n\\x1b[31m------------------------------------------------------------------------\\x1b[0m')\n",
    "print('\\x1b[31m已切割\\x1b[0m')\n",
    "print('\\x1b[31m------------------------------------------------------------------------\\x1b[0m')\n",
    "print(f'x_trains len : {len(x_trains)}')\n",
    "print(f'y_trains len : {len(y_trains)}')\n",
    "print(f'x_vals len : {len(x_vals)}')\n",
    "print(f'y_vals len : {len(y_vals)}')\n",
    "print(f'x_tests len : {len(x_tests)}')\n",
    "print(f'y_tests len : {len(y_tests)}')\n"
   ]
  },
  {
   "cell_type": "markdown",
   "id": "6cda5274",
   "metadata": {
    "id": "AqdSy5pL-i7X",
    "papermill": {
     "duration": 0.003342,
     "end_time": "2024-10-26T11:10:45.952864",
     "exception": false,
     "start_time": "2024-10-26T11:10:45.949522",
     "status": "completed"
    },
    "tags": []
   },
   "source": [
    "# 將資料轉成 LSTM 模型所需資料格式(三維)"
   ]
  },
  {
   "cell_type": "code",
   "execution_count": 9,
   "id": "3bf162c5",
   "metadata": {
    "execution": {
     "iopub.execute_input": "2024-10-26T11:10:45.959985Z",
     "iopub.status.busy": "2024-10-26T11:10:45.959863Z",
     "iopub.status.idle": "2024-10-26T11:10:45.967253Z",
     "shell.execute_reply": "2024-10-26T11:10:45.967046Z"
    },
    "papermill": {
     "duration": 0.01164,
     "end_time": "2024-10-26T11:10:45.967812",
     "exception": false,
     "start_time": "2024-10-26T11:10:45.956172",
     "status": "completed"
    },
    "tags": []
   },
   "outputs": [
    {
     "name": "stdout",
     "output_type": "stream",
     "text": [
      "\u001b[31m------------------------------------------------------------------------\u001b[0m\n",
      "\u001b[31m第 1 個 IMF\u001b[0m\n",
      "\u001b[31m------------------------------------------------------------------------\u001b[0m\n",
      "\u001b[93m# 將資料轉成 LSTM 模型所需資料格式，LSTM 的輸入必須是三維\u001b[0m\n",
      "====== Train DataSet ======\n",
      "訓練集 : x_k_lstm_train (筆數, 天數, 特徵數) : (301, 14, 1)\n",
      "訓練集 : y_k_lstm_train (筆數, 天數, 標籤數) : (301, 1)\n",
      "\u001b[93m# 將資料轉成 LSTM 模型所需資料格式，LSTM 的輸入必須是三維\u001b[0m\n",
      "====== Val DataSet ======\n",
      "驗證集 : x_k_lstm_test (筆數, 天數, 特徵數) : (24, 14, 1)\n",
      "驗證集 : y_k_lstm_test (筆數, 天數, 標籤數) : (24, 1)\n",
      "\u001b[93m# 將資料轉成 LSTM 模型所需資料格式，LSTM 的輸入必須是三維\u001b[0m\n",
      "====== Test DataSet ======\n",
      "測試集 : x_lstm_test (筆數, 天數, 特徵數) : (25, 14, 1)\n",
      "測試集 : y_lstm_test (筆數, 天數, 標籤數) : (25, 1)\n",
      "\u001b[31m------------------------------------------------------------------------\u001b[0m\n",
      "\u001b[31m第 2 個 IMF\u001b[0m\n",
      "\u001b[31m------------------------------------------------------------------------\u001b[0m\n",
      "\u001b[93m# 將資料轉成 LSTM 模型所需資料格式，LSTM 的輸入必須是三維\u001b[0m\n",
      "====== Train DataSet ======\n",
      "訓練集 : x_k_lstm_train (筆數, 天數, 特徵數) : (301, 14, 1)\n",
      "訓練集 : y_k_lstm_train (筆數, 天數, 標籤數) : (301, 1)\n",
      "\u001b[93m# 將資料轉成 LSTM 模型所需資料格式，LSTM 的輸入必須是三維\u001b[0m\n",
      "====== Val DataSet ======\n",
      "驗證集 : x_k_lstm_test (筆數, 天數, 特徵數) : (24, 14, 1)\n",
      "驗證集 : y_k_lstm_test (筆數, 天數, 標籤數) : (24, 1)\n",
      "\u001b[93m# 將資料轉成 LSTM 模型所需資料格式，LSTM 的輸入必須是三維\u001b[0m\n",
      "====== Test DataSet ======\n",
      "測試集 : x_lstm_test (筆數, 天數, 特徵數) : (25, 14, 1)\n",
      "測試集 : y_lstm_test (筆數, 天數, 標籤數) : (25, 1)\n",
      "\u001b[31m------------------------------------------------------------------------\u001b[0m\n",
      "\u001b[31m第 3 個 IMF\u001b[0m\n",
      "\u001b[31m------------------------------------------------------------------------\u001b[0m\n",
      "\u001b[93m# 將資料轉成 LSTM 模型所需資料格式，LSTM 的輸入必須是三維\u001b[0m\n",
      "====== Train DataSet ======\n",
      "訓練集 : x_k_lstm_train (筆數, 天數, 特徵數) : (301, 14, 1)\n",
      "訓練集 : y_k_lstm_train (筆數, 天數, 標籤數) : (301, 1)\n",
      "\u001b[93m# 將資料轉成 LSTM 模型所需資料格式，LSTM 的輸入必須是三維\u001b[0m\n",
      "====== Val DataSet ======\n",
      "驗證集 : x_k_lstm_test (筆數, 天數, 特徵數) : (24, 14, 1)\n",
      "驗證集 : y_k_lstm_test (筆數, 天數, 標籤數) : (24, 1)\n",
      "\u001b[93m# 將資料轉成 LSTM 模型所需資料格式，LSTM 的輸入必須是三維\u001b[0m\n",
      "====== Test DataSet ======\n",
      "測試集 : x_lstm_test (筆數, 天數, 特徵數) : (25, 14, 1)\n",
      "測試集 : y_lstm_test (筆數, 天數, 標籤數) : (25, 1)\n",
      "\u001b[31m------------------------------------------------------------------------\u001b[0m\n",
      "\u001b[31m第 4 個 IMF\u001b[0m\n",
      "\u001b[31m------------------------------------------------------------------------\u001b[0m\n",
      "\u001b[93m# 將資料轉成 LSTM 模型所需資料格式，LSTM 的輸入必須是三維\u001b[0m\n",
      "====== Train DataSet ======\n",
      "訓練集 : x_k_lstm_train (筆數, 天數, 特徵數) : (301, 14, 1)\n",
      "訓練集 : y_k_lstm_train (筆數, 天數, 標籤數) : (301, 1)\n",
      "\u001b[93m# 將資料轉成 LSTM 模型所需資料格式，LSTM 的輸入必須是三維\u001b[0m\n",
      "====== Val DataSet ======\n",
      "驗證集 : x_k_lstm_test (筆數, 天數, 特徵數) : (24, 14, 1)\n",
      "驗證集 : y_k_lstm_test (筆數, 天數, 標籤數) : (24, 1)\n",
      "\u001b[93m# 將資料轉成 LSTM 模型所需資料格式，LSTM 的輸入必須是三維\u001b[0m\n",
      "====== Test DataSet ======\n",
      "測試集 : x_lstm_test (筆數, 天數, 特徵數) : (25, 14, 1)\n",
      "測試集 : y_lstm_test (筆數, 天數, 標籤數) : (25, 1)\n",
      "\u001b[31m------------------------------------------------------------------------\u001b[0m\n",
      "\u001b[31m第 5 個 IMF\u001b[0m\n",
      "\u001b[31m------------------------------------------------------------------------\u001b[0m\n",
      "\u001b[93m# 將資料轉成 LSTM 模型所需資料格式，LSTM 的輸入必須是三維\u001b[0m\n",
      "====== Train DataSet ======\n",
      "訓練集 : x_k_lstm_train (筆數, 天數, 特徵數) : (301, 14, 1)\n",
      "訓練集 : y_k_lstm_train (筆數, 天數, 標籤數) : (301, 1)\n",
      "\u001b[93m# 將資料轉成 LSTM 模型所需資料格式，LSTM 的輸入必須是三維\u001b[0m\n",
      "====== Val DataSet ======\n",
      "驗證集 : x_k_lstm_test (筆數, 天數, 特徵數) : (24, 14, 1)\n",
      "驗證集 : y_k_lstm_test (筆數, 天數, 標籤數) : (24, 1)\n",
      "\u001b[93m# 將資料轉成 LSTM 模型所需資料格式，LSTM 的輸入必須是三維\u001b[0m\n",
      "====== Test DataSet ======\n",
      "測試集 : x_lstm_test (筆數, 天數, 特徵數) : (25, 14, 1)\n",
      "測試集 : y_lstm_test (筆數, 天數, 標籤數) : (25, 1)\n",
      "\u001b[31m------------------------------------------------------------------------\u001b[0m\n",
      "\u001b[31m第 6 個 IMF\u001b[0m\n",
      "\u001b[31m------------------------------------------------------------------------\u001b[0m\n",
      "\u001b[93m# 將資料轉成 LSTM 模型所需資料格式，LSTM 的輸入必須是三維\u001b[0m\n",
      "====== Train DataSet ======\n",
      "訓練集 : x_k_lstm_train (筆數, 天數, 特徵數) : (301, 14, 1)\n",
      "訓練集 : y_k_lstm_train (筆數, 天數, 標籤數) : (301, 1)\n",
      "\u001b[93m# 將資料轉成 LSTM 模型所需資料格式，LSTM 的輸入必須是三維\u001b[0m\n",
      "====== Val DataSet ======\n",
      "驗證集 : x_k_lstm_test (筆數, 天數, 特徵數) : (24, 14, 1)\n",
      "驗證集 : y_k_lstm_test (筆數, 天數, 標籤數) : (24, 1)\n",
      "\u001b[93m# 將資料轉成 LSTM 模型所需資料格式，LSTM 的輸入必須是三維\u001b[0m\n",
      "====== Test DataSet ======\n",
      "測試集 : x_lstm_test (筆數, 天數, 特徵數) : (25, 14, 1)\n",
      "測試集 : y_lstm_test (筆數, 天數, 標籤數) : (25, 1)\n",
      "\u001b[31m------------------------------------------------------------------------\u001b[0m\n",
      "\u001b[31m第 7 個 IMF\u001b[0m\n",
      "\u001b[31m------------------------------------------------------------------------\u001b[0m\n",
      "\u001b[93m# 將資料轉成 LSTM 模型所需資料格式，LSTM 的輸入必須是三維\u001b[0m\n",
      "====== Train DataSet ======\n",
      "訓練集 : x_k_lstm_train (筆數, 天數, 特徵數) : (301, 14, 1)\n",
      "訓練集 : y_k_lstm_train (筆數, 天數, 標籤數) : (301, 1)\n",
      "\u001b[93m# 將資料轉成 LSTM 模型所需資料格式，LSTM 的輸入必須是三維\u001b[0m\n",
      "====== Val DataSet ======\n",
      "驗證集 : x_k_lstm_test (筆數, 天數, 特徵數) : (24, 14, 1)\n",
      "驗證集 : y_k_lstm_test (筆數, 天數, 標籤數) : (24, 1)\n",
      "\u001b[93m# 將資料轉成 LSTM 模型所需資料格式，LSTM 的輸入必須是三維\u001b[0m\n",
      "====== Test DataSet ======\n",
      "測試集 : x_lstm_test (筆數, 天數, 特徵數) : (25, 14, 1)\n",
      "測試集 : y_lstm_test (筆數, 天數, 標籤數) : (25, 1)\n",
      "\u001b[31m------------------------------------------------------------------------\u001b[0m\n",
      "\u001b[31m第 8 個 IMF\u001b[0m\n",
      "\u001b[31m------------------------------------------------------------------------\u001b[0m\n",
      "\u001b[93m# 將資料轉成 LSTM 模型所需資料格式，LSTM 的輸入必須是三維\u001b[0m\n",
      "====== Train DataSet ======\n",
      "訓練集 : x_k_lstm_train (筆數, 天數, 特徵數) : (301, 14, 1)\n",
      "訓練集 : y_k_lstm_train (筆數, 天數, 標籤數) : (301, 1)\n",
      "\u001b[93m# 將資料轉成 LSTM 模型所需資料格式，LSTM 的輸入必須是三維\u001b[0m\n",
      "====== Val DataSet ======\n",
      "驗證集 : x_k_lstm_test (筆數, 天數, 特徵數) : (24, 14, 1)\n",
      "驗證集 : y_k_lstm_test (筆數, 天數, 標籤數) : (24, 1)\n",
      "\u001b[93m# 將資料轉成 LSTM 模型所需資料格式，LSTM 的輸入必須是三維\u001b[0m\n",
      "====== Test DataSet ======\n",
      "測試集 : x_lstm_test (筆數, 天數, 特徵數) : (25, 14, 1)\n",
      "測試集 : y_lstm_test (筆數, 天數, 標籤數) : (25, 1)\n",
      "\u001b[31m------------------------------------------------------------------------\u001b[0m\n",
      "\u001b[31m殘差\u001b[0m\n",
      "\u001b[93m# 將資料轉成 LSTM 模型所需資料格式，LSTM 的輸入必須是三維\u001b[0m\n",
      "====== Train DataSet ======\n",
      "訓練集 : x_k_lstm_train (筆數, 天數, 特徵數) : (301, 14, 1)\n",
      "訓練集 : y_k_lstm_train (筆數, 天數, 標籤數) : (301, 1)\n",
      "\u001b[93m# 將資料轉成 LSTM 模型所需資料格式，LSTM 的輸入必須是三維\u001b[0m\n",
      "====== Val DataSet ======\n",
      "驗證集 : x_k_lstm_test (筆數, 天數, 特徵數) : (24, 14, 1)\n",
      "驗證集 : y_k_lstm_test (筆數, 天數, 標籤數) : (24, 1)\n",
      "\u001b[93m# 將資料轉成 LSTM 模型所需資料格式，LSTM 的輸入必須是三維\u001b[0m\n",
      "====== Test DataSet ======\n",
      "測試集 : x_lstm_test (筆數, 天數, 特徵數) : (25, 14, 1)\n",
      "測試集 : y_lstm_test (筆數, 天數, 標籤數) : (25, 1)\n",
      "\u001b[31m------------------------------------------------------------------------\u001b[0m\n",
      "\u001b[31m已轉換\u001b[0m\n",
      "\u001b[31m------------------------------------------------------------------------\u001b[0m\n",
      "x_lstm_trains len : 9\n",
      "y_lstm_trains len : 9\n",
      "x_lstm_vals len : 9\n",
      "y_lstm_vals len : 9\n",
      "x_lstm_tests len : 9\n",
      "y_lstm_tests len : 9\n"
     ]
    }
   ],
   "source": [
    "x_lstm_trains = []\n",
    "y_lstm_trains = []\n",
    "\n",
    "x_lstm_vals = []\n",
    "y_lstm_vals = []\n",
    "\n",
    "x_lstm_tests = []\n",
    "y_lstm_tests = []\n",
    "\n",
    "for i in range(len(x_trains)):\n",
    "    print_step(i + 1)\n",
    "    \n",
    "    # 訓練集\n",
    "    x_lstm_train, y_lstm_train, _ = \\\n",
    "        lstm.reshape_data_for_lstm(\n",
    "            x_trains[i], y_trains[i],\n",
    "            date_array = None,\n",
    "            past_day = past_day,\n",
    "            future_day = future_day\n",
    "        ) \n",
    "    print('====== Train DataSet ======')\n",
    "    print('訓練集 : x_k_lstm_train (筆數, 天數, 特徵數) :', x_lstm_train.shape)\n",
    "    print('訓練集 : y_k_lstm_train (筆數, 天數, 標籤數) :', y_lstm_train.shape)\n",
    "\n",
    "    # 驗證集\n",
    "    x_lstm_val, y_lstm_val, _ = \\\n",
    "        lstm.reshape_data_for_lstm(\n",
    "            x_vals[i], y_vals[i],\n",
    "            date_array = None,\n",
    "            past_day = past_day,\n",
    "            future_day = future_day\n",
    "        )\n",
    "    print('====== Val DataSet ======')\n",
    "    print('驗證集 : x_k_lstm_test (筆數, 天數, 特徵數) :', x_lstm_val.shape)\n",
    "    print('驗證集 : y_k_lstm_test (筆數, 天數, 標籤數) :', y_lstm_val.shape)\n",
    "\n",
    "    # 測試集\n",
    "    x_lstm_test, y_lstm_test, _ = \\\n",
    "        lstm.reshape_data_for_lstm(\n",
    "            x_tests[i], y_tests[i],\n",
    "            date_array = None,\n",
    "            past_day = past_day,\n",
    "            future_day = future_day\n",
    "        )\n",
    "    print('====== Test DataSet ======')\n",
    "    print('測試集 : x_lstm_test (筆數, 天數, 特徵數) :', x_lstm_test.shape)\n",
    "    print('測試集 : y_lstm_test (筆數, 天數, 標籤數) :', y_lstm_test.shape)\n",
    "     \n",
    "    x_lstm_trains.append(x_lstm_train)\n",
    "    y_lstm_trains.append(y_lstm_train)\n",
    "\n",
    "    x_lstm_vals.append(x_lstm_val)\n",
    "    y_lstm_vals.append(y_lstm_val)\n",
    "\n",
    "    x_lstm_tests.append(x_lstm_test)\n",
    "    y_lstm_tests.append(y_lstm_test)\n",
    "\n",
    "print('\\x1b[31m------------------------------------------------------------------------\\x1b[0m')\n",
    "print('\\x1b[31m已轉換\\x1b[0m')\n",
    "print('\\x1b[31m------------------------------------------------------------------------\\x1b[0m')\n",
    "print(f'x_lstm_trains len : {len(x_lstm_trains)}')\n",
    "print(f'y_lstm_trains len : {len(y_lstm_trains)}')\n",
    "print(f'x_lstm_vals len : {len(x_lstm_vals)}')\n",
    "print(f'y_lstm_vals len : {len(y_lstm_vals)}')\n",
    "print(f'x_lstm_tests len : {len(x_lstm_tests)}')\n",
    "print(f'y_lstm_tests len : {len(y_lstm_tests)}')"
   ]
  },
  {
   "cell_type": "markdown",
   "id": "1163c210",
   "metadata": {
    "id": "hptadCRG-mnK",
    "papermill": {
     "duration": 0.003508,
     "end_time": "2024-10-26T11:10:45.974900",
     "exception": false,
     "start_time": "2024-10-26T11:10:45.971392",
     "status": "completed"
    },
    "tags": []
   },
   "source": [
    "# 定義 Model"
   ]
  },
  {
   "cell_type": "code",
   "execution_count": 10,
   "id": "d2d7e96f",
   "metadata": {
    "execution": {
     "iopub.execute_input": "2024-10-26T11:10:45.982182Z",
     "iopub.status.busy": "2024-10-26T11:10:45.982074Z",
     "iopub.status.idle": "2024-10-26T11:10:46.213436Z",
     "shell.execute_reply": "2024-10-26T11:10:46.213209Z"
    },
    "papermill": {
     "duration": 0.235805,
     "end_time": "2024-10-26T11:10:46.214114",
     "exception": false,
     "start_time": "2024-10-26T11:10:45.978309",
     "status": "completed"
    },
    "tags": []
   },
   "outputs": [
    {
     "name": "stdout",
     "output_type": "stream",
     "text": [
      "\u001b[31m------------------------------------------------------------------------\u001b[0m\n",
      "\u001b[31m第 1 個 IMF\u001b[0m\n",
      "\u001b[31m------------------------------------------------------------------------\u001b[0m\n",
      "\u001b[93m# 定義 Model：1\u001b[0m\n",
      "LSTM\n"
     ]
    },
    {
     "data": {
      "text/html": [
       "<pre style=\"white-space:pre;overflow-x:auto;line-height:normal;font-family:Menlo,'DejaVu Sans Mono',consolas,'Courier New',monospace\"><span style=\"font-weight: bold\">Model: \"sequential\"</span>\n",
       "</pre>\n"
      ],
      "text/plain": [
       "\u001b[1mModel: \"sequential\"\u001b[0m\n"
      ]
     },
     "metadata": {},
     "output_type": "display_data"
    },
    {
     "data": {
      "text/html": [
       "<pre style=\"white-space:pre;overflow-x:auto;line-height:normal;font-family:Menlo,'DejaVu Sans Mono',consolas,'Courier New',monospace\">┏━━━━━━━━━━━━━━━━━━━━━━━━━━━━━━━━━━━━━━┳━━━━━━━━━━━━━━━━━━━━━━━━━━━━━┳━━━━━━━━━━━━━━━━━┓\n",
       "┃<span style=\"font-weight: bold\"> Layer (type)                         </span>┃<span style=\"font-weight: bold\"> Output Shape                </span>┃<span style=\"font-weight: bold\">         Param # </span>┃\n",
       "┡━━━━━━━━━━━━━━━━━━━━━━━━━━━━━━━━━━━━━━╇━━━━━━━━━━━━━━━━━━━━━━━━━━━━━╇━━━━━━━━━━━━━━━━━┩\n",
       "│ lstm (<span style=\"color: #0087ff; text-decoration-color: #0087ff\">LSTM</span>)                          │ (<span style=\"color: #00d7ff; text-decoration-color: #00d7ff\">None</span>, <span style=\"color: #00af00; text-decoration-color: #00af00\">100</span>)                 │          <span style=\"color: #00af00; text-decoration-color: #00af00\">40,800</span> │\n",
       "├──────────────────────────────────────┼─────────────────────────────┼─────────────────┤\n",
       "│ dense (<span style=\"color: #0087ff; text-decoration-color: #0087ff\">Dense</span>)                        │ (<span style=\"color: #00d7ff; text-decoration-color: #00d7ff\">None</span>, <span style=\"color: #00af00; text-decoration-color: #00af00\">150</span>)                 │          <span style=\"color: #00af00; text-decoration-color: #00af00\">15,150</span> │\n",
       "├──────────────────────────────────────┼─────────────────────────────┼─────────────────┤\n",
       "│ dense_1 (<span style=\"color: #0087ff; text-decoration-color: #0087ff\">Dense</span>)                      │ (<span style=\"color: #00d7ff; text-decoration-color: #00d7ff\">None</span>, <span style=\"color: #00af00; text-decoration-color: #00af00\">150</span>)                 │          <span style=\"color: #00af00; text-decoration-color: #00af00\">22,650</span> │\n",
       "├──────────────────────────────────────┼─────────────────────────────┼─────────────────┤\n",
       "│ dense_2 (<span style=\"color: #0087ff; text-decoration-color: #0087ff\">Dense</span>)                      │ (<span style=\"color: #00d7ff; text-decoration-color: #00d7ff\">None</span>, <span style=\"color: #00af00; text-decoration-color: #00af00\">1</span>)                   │             <span style=\"color: #00af00; text-decoration-color: #00af00\">151</span> │\n",
       "└──────────────────────────────────────┴─────────────────────────────┴─────────────────┘\n",
       "</pre>\n"
      ],
      "text/plain": [
       "┏━━━━━━━━━━━━━━━━━━━━━━━━━━━━━━━━━━━━━━┳━━━━━━━━━━━━━━━━━━━━━━━━━━━━━┳━━━━━━━━━━━━━━━━━┓\n",
       "┃\u001b[1m \u001b[0m\u001b[1mLayer (type)                        \u001b[0m\u001b[1m \u001b[0m┃\u001b[1m \u001b[0m\u001b[1mOutput Shape               \u001b[0m\u001b[1m \u001b[0m┃\u001b[1m \u001b[0m\u001b[1m        Param #\u001b[0m\u001b[1m \u001b[0m┃\n",
       "┡━━━━━━━━━━━━━━━━━━━━━━━━━━━━━━━━━━━━━━╇━━━━━━━━━━━━━━━━━━━━━━━━━━━━━╇━━━━━━━━━━━━━━━━━┩\n",
       "│ lstm (\u001b[38;5;33mLSTM\u001b[0m)                          │ (\u001b[38;5;45mNone\u001b[0m, \u001b[38;5;34m100\u001b[0m)                 │          \u001b[38;5;34m40,800\u001b[0m │\n",
       "├──────────────────────────────────────┼─────────────────────────────┼─────────────────┤\n",
       "│ dense (\u001b[38;5;33mDense\u001b[0m)                        │ (\u001b[38;5;45mNone\u001b[0m, \u001b[38;5;34m150\u001b[0m)                 │          \u001b[38;5;34m15,150\u001b[0m │\n",
       "├──────────────────────────────────────┼─────────────────────────────┼─────────────────┤\n",
       "│ dense_1 (\u001b[38;5;33mDense\u001b[0m)                      │ (\u001b[38;5;45mNone\u001b[0m, \u001b[38;5;34m150\u001b[0m)                 │          \u001b[38;5;34m22,650\u001b[0m │\n",
       "├──────────────────────────────────────┼─────────────────────────────┼─────────────────┤\n",
       "│ dense_2 (\u001b[38;5;33mDense\u001b[0m)                      │ (\u001b[38;5;45mNone\u001b[0m, \u001b[38;5;34m1\u001b[0m)                   │             \u001b[38;5;34m151\u001b[0m │\n",
       "└──────────────────────────────────────┴─────────────────────────────┴─────────────────┘\n"
      ]
     },
     "metadata": {},
     "output_type": "display_data"
    },
    {
     "data": {
      "text/html": [
       "<pre style=\"white-space:pre;overflow-x:auto;line-height:normal;font-family:Menlo,'DejaVu Sans Mono',consolas,'Courier New',monospace\"><span style=\"font-weight: bold\"> Total params: </span><span style=\"color: #00af00; text-decoration-color: #00af00\">78,751</span> (307.62 KB)\n",
       "</pre>\n"
      ],
      "text/plain": [
       "\u001b[1m Total params: \u001b[0m\u001b[38;5;34m78,751\u001b[0m (307.62 KB)\n"
      ]
     },
     "metadata": {},
     "output_type": "display_data"
    },
    {
     "data": {
      "text/html": [
       "<pre style=\"white-space:pre;overflow-x:auto;line-height:normal;font-family:Menlo,'DejaVu Sans Mono',consolas,'Courier New',monospace\"><span style=\"font-weight: bold\"> Trainable params: </span><span style=\"color: #00af00; text-decoration-color: #00af00\">78,751</span> (307.62 KB)\n",
       "</pre>\n"
      ],
      "text/plain": [
       "\u001b[1m Trainable params: \u001b[0m\u001b[38;5;34m78,751\u001b[0m (307.62 KB)\n"
      ]
     },
     "metadata": {},
     "output_type": "display_data"
    },
    {
     "data": {
      "text/html": [
       "<pre style=\"white-space:pre;overflow-x:auto;line-height:normal;font-family:Menlo,'DejaVu Sans Mono',consolas,'Courier New',monospace\"><span style=\"font-weight: bold\"> Non-trainable params: </span><span style=\"color: #00af00; text-decoration-color: #00af00\">0</span> (0.00 B)\n",
       "</pre>\n"
      ],
      "text/plain": [
       "\u001b[1m Non-trainable params: \u001b[0m\u001b[38;5;34m0\u001b[0m (0.00 B)\n"
      ]
     },
     "metadata": {},
     "output_type": "display_data"
    },
    {
     "name": "stdout",
     "output_type": "stream",
     "text": [
      "\u001b[31m------------------------------------------------------------------------\u001b[0m\n",
      "\u001b[31m第 2 個 IMF\u001b[0m\n",
      "\u001b[31m------------------------------------------------------------------------\u001b[0m\n",
      "\u001b[93m# 定義 Model：1\u001b[0m\n",
      "LSTM\n"
     ]
    },
    {
     "data": {
      "text/html": [
       "<pre style=\"white-space:pre;overflow-x:auto;line-height:normal;font-family:Menlo,'DejaVu Sans Mono',consolas,'Courier New',monospace\"><span style=\"font-weight: bold\">Model: \"sequential_1\"</span>\n",
       "</pre>\n"
      ],
      "text/plain": [
       "\u001b[1mModel: \"sequential_1\"\u001b[0m\n"
      ]
     },
     "metadata": {},
     "output_type": "display_data"
    },
    {
     "data": {
      "text/html": [
       "<pre style=\"white-space:pre;overflow-x:auto;line-height:normal;font-family:Menlo,'DejaVu Sans Mono',consolas,'Courier New',monospace\">┏━━━━━━━━━━━━━━━━━━━━━━━━━━━━━━━━━━━━━━┳━━━━━━━━━━━━━━━━━━━━━━━━━━━━━┳━━━━━━━━━━━━━━━━━┓\n",
       "┃<span style=\"font-weight: bold\"> Layer (type)                         </span>┃<span style=\"font-weight: bold\"> Output Shape                </span>┃<span style=\"font-weight: bold\">         Param # </span>┃\n",
       "┡━━━━━━━━━━━━━━━━━━━━━━━━━━━━━━━━━━━━━━╇━━━━━━━━━━━━━━━━━━━━━━━━━━━━━╇━━━━━━━━━━━━━━━━━┩\n",
       "│ lstm_1 (<span style=\"color: #0087ff; text-decoration-color: #0087ff\">LSTM</span>)                        │ (<span style=\"color: #00d7ff; text-decoration-color: #00d7ff\">None</span>, <span style=\"color: #00af00; text-decoration-color: #00af00\">100</span>)                 │          <span style=\"color: #00af00; text-decoration-color: #00af00\">40,800</span> │\n",
       "├──────────────────────────────────────┼─────────────────────────────┼─────────────────┤\n",
       "│ dense_3 (<span style=\"color: #0087ff; text-decoration-color: #0087ff\">Dense</span>)                      │ (<span style=\"color: #00d7ff; text-decoration-color: #00d7ff\">None</span>, <span style=\"color: #00af00; text-decoration-color: #00af00\">150</span>)                 │          <span style=\"color: #00af00; text-decoration-color: #00af00\">15,150</span> │\n",
       "├──────────────────────────────────────┼─────────────────────────────┼─────────────────┤\n",
       "│ dense_4 (<span style=\"color: #0087ff; text-decoration-color: #0087ff\">Dense</span>)                      │ (<span style=\"color: #00d7ff; text-decoration-color: #00d7ff\">None</span>, <span style=\"color: #00af00; text-decoration-color: #00af00\">150</span>)                 │          <span style=\"color: #00af00; text-decoration-color: #00af00\">22,650</span> │\n",
       "├──────────────────────────────────────┼─────────────────────────────┼─────────────────┤\n",
       "│ dense_5 (<span style=\"color: #0087ff; text-decoration-color: #0087ff\">Dense</span>)                      │ (<span style=\"color: #00d7ff; text-decoration-color: #00d7ff\">None</span>, <span style=\"color: #00af00; text-decoration-color: #00af00\">1</span>)                   │             <span style=\"color: #00af00; text-decoration-color: #00af00\">151</span> │\n",
       "└──────────────────────────────────────┴─────────────────────────────┴─────────────────┘\n",
       "</pre>\n"
      ],
      "text/plain": [
       "┏━━━━━━━━━━━━━━━━━━━━━━━━━━━━━━━━━━━━━━┳━━━━━━━━━━━━━━━━━━━━━━━━━━━━━┳━━━━━━━━━━━━━━━━━┓\n",
       "┃\u001b[1m \u001b[0m\u001b[1mLayer (type)                        \u001b[0m\u001b[1m \u001b[0m┃\u001b[1m \u001b[0m\u001b[1mOutput Shape               \u001b[0m\u001b[1m \u001b[0m┃\u001b[1m \u001b[0m\u001b[1m        Param #\u001b[0m\u001b[1m \u001b[0m┃\n",
       "┡━━━━━━━━━━━━━━━━━━━━━━━━━━━━━━━━━━━━━━╇━━━━━━━━━━━━━━━━━━━━━━━━━━━━━╇━━━━━━━━━━━━━━━━━┩\n",
       "│ lstm_1 (\u001b[38;5;33mLSTM\u001b[0m)                        │ (\u001b[38;5;45mNone\u001b[0m, \u001b[38;5;34m100\u001b[0m)                 │          \u001b[38;5;34m40,800\u001b[0m │\n",
       "├──────────────────────────────────────┼─────────────────────────────┼─────────────────┤\n",
       "│ dense_3 (\u001b[38;5;33mDense\u001b[0m)                      │ (\u001b[38;5;45mNone\u001b[0m, \u001b[38;5;34m150\u001b[0m)                 │          \u001b[38;5;34m15,150\u001b[0m │\n",
       "├──────────────────────────────────────┼─────────────────────────────┼─────────────────┤\n",
       "│ dense_4 (\u001b[38;5;33mDense\u001b[0m)                      │ (\u001b[38;5;45mNone\u001b[0m, \u001b[38;5;34m150\u001b[0m)                 │          \u001b[38;5;34m22,650\u001b[0m │\n",
       "├──────────────────────────────────────┼─────────────────────────────┼─────────────────┤\n",
       "│ dense_5 (\u001b[38;5;33mDense\u001b[0m)                      │ (\u001b[38;5;45mNone\u001b[0m, \u001b[38;5;34m1\u001b[0m)                   │             \u001b[38;5;34m151\u001b[0m │\n",
       "└──────────────────────────────────────┴─────────────────────────────┴─────────────────┘\n"
      ]
     },
     "metadata": {},
     "output_type": "display_data"
    },
    {
     "data": {
      "text/html": [
       "<pre style=\"white-space:pre;overflow-x:auto;line-height:normal;font-family:Menlo,'DejaVu Sans Mono',consolas,'Courier New',monospace\"><span style=\"font-weight: bold\"> Total params: </span><span style=\"color: #00af00; text-decoration-color: #00af00\">78,751</span> (307.62 KB)\n",
       "</pre>\n"
      ],
      "text/plain": [
       "\u001b[1m Total params: \u001b[0m\u001b[38;5;34m78,751\u001b[0m (307.62 KB)\n"
      ]
     },
     "metadata": {},
     "output_type": "display_data"
    },
    {
     "data": {
      "text/html": [
       "<pre style=\"white-space:pre;overflow-x:auto;line-height:normal;font-family:Menlo,'DejaVu Sans Mono',consolas,'Courier New',monospace\"><span style=\"font-weight: bold\"> Trainable params: </span><span style=\"color: #00af00; text-decoration-color: #00af00\">78,751</span> (307.62 KB)\n",
       "</pre>\n"
      ],
      "text/plain": [
       "\u001b[1m Trainable params: \u001b[0m\u001b[38;5;34m78,751\u001b[0m (307.62 KB)\n"
      ]
     },
     "metadata": {},
     "output_type": "display_data"
    },
    {
     "data": {
      "text/html": [
       "<pre style=\"white-space:pre;overflow-x:auto;line-height:normal;font-family:Menlo,'DejaVu Sans Mono',consolas,'Courier New',monospace\"><span style=\"font-weight: bold\"> Non-trainable params: </span><span style=\"color: #00af00; text-decoration-color: #00af00\">0</span> (0.00 B)\n",
       "</pre>\n"
      ],
      "text/plain": [
       "\u001b[1m Non-trainable params: \u001b[0m\u001b[38;5;34m0\u001b[0m (0.00 B)\n"
      ]
     },
     "metadata": {},
     "output_type": "display_data"
    },
    {
     "name": "stdout",
     "output_type": "stream",
     "text": [
      "\u001b[31m------------------------------------------------------------------------\u001b[0m\n",
      "\u001b[31m第 3 個 IMF\u001b[0m\n",
      "\u001b[31m------------------------------------------------------------------------\u001b[0m\n",
      "\u001b[93m# 定義 Model：1\u001b[0m\n",
      "LSTM\n"
     ]
    },
    {
     "data": {
      "text/html": [
       "<pre style=\"white-space:pre;overflow-x:auto;line-height:normal;font-family:Menlo,'DejaVu Sans Mono',consolas,'Courier New',monospace\"><span style=\"font-weight: bold\">Model: \"sequential_2\"</span>\n",
       "</pre>\n"
      ],
      "text/plain": [
       "\u001b[1mModel: \"sequential_2\"\u001b[0m\n"
      ]
     },
     "metadata": {},
     "output_type": "display_data"
    },
    {
     "data": {
      "text/html": [
       "<pre style=\"white-space:pre;overflow-x:auto;line-height:normal;font-family:Menlo,'DejaVu Sans Mono',consolas,'Courier New',monospace\">┏━━━━━━━━━━━━━━━━━━━━━━━━━━━━━━━━━━━━━━┳━━━━━━━━━━━━━━━━━━━━━━━━━━━━━┳━━━━━━━━━━━━━━━━━┓\n",
       "┃<span style=\"font-weight: bold\"> Layer (type)                         </span>┃<span style=\"font-weight: bold\"> Output Shape                </span>┃<span style=\"font-weight: bold\">         Param # </span>┃\n",
       "┡━━━━━━━━━━━━━━━━━━━━━━━━━━━━━━━━━━━━━━╇━━━━━━━━━━━━━━━━━━━━━━━━━━━━━╇━━━━━━━━━━━━━━━━━┩\n",
       "│ lstm_2 (<span style=\"color: #0087ff; text-decoration-color: #0087ff\">LSTM</span>)                        │ (<span style=\"color: #00d7ff; text-decoration-color: #00d7ff\">None</span>, <span style=\"color: #00af00; text-decoration-color: #00af00\">100</span>)                 │          <span style=\"color: #00af00; text-decoration-color: #00af00\">40,800</span> │\n",
       "├──────────────────────────────────────┼─────────────────────────────┼─────────────────┤\n",
       "│ dense_6 (<span style=\"color: #0087ff; text-decoration-color: #0087ff\">Dense</span>)                      │ (<span style=\"color: #00d7ff; text-decoration-color: #00d7ff\">None</span>, <span style=\"color: #00af00; text-decoration-color: #00af00\">150</span>)                 │          <span style=\"color: #00af00; text-decoration-color: #00af00\">15,150</span> │\n",
       "├──────────────────────────────────────┼─────────────────────────────┼─────────────────┤\n",
       "│ dense_7 (<span style=\"color: #0087ff; text-decoration-color: #0087ff\">Dense</span>)                      │ (<span style=\"color: #00d7ff; text-decoration-color: #00d7ff\">None</span>, <span style=\"color: #00af00; text-decoration-color: #00af00\">150</span>)                 │          <span style=\"color: #00af00; text-decoration-color: #00af00\">22,650</span> │\n",
       "├──────────────────────────────────────┼─────────────────────────────┼─────────────────┤\n",
       "│ dense_8 (<span style=\"color: #0087ff; text-decoration-color: #0087ff\">Dense</span>)                      │ (<span style=\"color: #00d7ff; text-decoration-color: #00d7ff\">None</span>, <span style=\"color: #00af00; text-decoration-color: #00af00\">1</span>)                   │             <span style=\"color: #00af00; text-decoration-color: #00af00\">151</span> │\n",
       "└──────────────────────────────────────┴─────────────────────────────┴─────────────────┘\n",
       "</pre>\n"
      ],
      "text/plain": [
       "┏━━━━━━━━━━━━━━━━━━━━━━━━━━━━━━━━━━━━━━┳━━━━━━━━━━━━━━━━━━━━━━━━━━━━━┳━━━━━━━━━━━━━━━━━┓\n",
       "┃\u001b[1m \u001b[0m\u001b[1mLayer (type)                        \u001b[0m\u001b[1m \u001b[0m┃\u001b[1m \u001b[0m\u001b[1mOutput Shape               \u001b[0m\u001b[1m \u001b[0m┃\u001b[1m \u001b[0m\u001b[1m        Param #\u001b[0m\u001b[1m \u001b[0m┃\n",
       "┡━━━━━━━━━━━━━━━━━━━━━━━━━━━━━━━━━━━━━━╇━━━━━━━━━━━━━━━━━━━━━━━━━━━━━╇━━━━━━━━━━━━━━━━━┩\n",
       "│ lstm_2 (\u001b[38;5;33mLSTM\u001b[0m)                        │ (\u001b[38;5;45mNone\u001b[0m, \u001b[38;5;34m100\u001b[0m)                 │          \u001b[38;5;34m40,800\u001b[0m │\n",
       "├──────────────────────────────────────┼─────────────────────────────┼─────────────────┤\n",
       "│ dense_6 (\u001b[38;5;33mDense\u001b[0m)                      │ (\u001b[38;5;45mNone\u001b[0m, \u001b[38;5;34m150\u001b[0m)                 │          \u001b[38;5;34m15,150\u001b[0m │\n",
       "├──────────────────────────────────────┼─────────────────────────────┼─────────────────┤\n",
       "│ dense_7 (\u001b[38;5;33mDense\u001b[0m)                      │ (\u001b[38;5;45mNone\u001b[0m, \u001b[38;5;34m150\u001b[0m)                 │          \u001b[38;5;34m22,650\u001b[0m │\n",
       "├──────────────────────────────────────┼─────────────────────────────┼─────────────────┤\n",
       "│ dense_8 (\u001b[38;5;33mDense\u001b[0m)                      │ (\u001b[38;5;45mNone\u001b[0m, \u001b[38;5;34m1\u001b[0m)                   │             \u001b[38;5;34m151\u001b[0m │\n",
       "└──────────────────────────────────────┴─────────────────────────────┴─────────────────┘\n"
      ]
     },
     "metadata": {},
     "output_type": "display_data"
    },
    {
     "data": {
      "text/html": [
       "<pre style=\"white-space:pre;overflow-x:auto;line-height:normal;font-family:Menlo,'DejaVu Sans Mono',consolas,'Courier New',monospace\"><span style=\"font-weight: bold\"> Total params: </span><span style=\"color: #00af00; text-decoration-color: #00af00\">78,751</span> (307.62 KB)\n",
       "</pre>\n"
      ],
      "text/plain": [
       "\u001b[1m Total params: \u001b[0m\u001b[38;5;34m78,751\u001b[0m (307.62 KB)\n"
      ]
     },
     "metadata": {},
     "output_type": "display_data"
    },
    {
     "data": {
      "text/html": [
       "<pre style=\"white-space:pre;overflow-x:auto;line-height:normal;font-family:Menlo,'DejaVu Sans Mono',consolas,'Courier New',monospace\"><span style=\"font-weight: bold\"> Trainable params: </span><span style=\"color: #00af00; text-decoration-color: #00af00\">78,751</span> (307.62 KB)\n",
       "</pre>\n"
      ],
      "text/plain": [
       "\u001b[1m Trainable params: \u001b[0m\u001b[38;5;34m78,751\u001b[0m (307.62 KB)\n"
      ]
     },
     "metadata": {},
     "output_type": "display_data"
    },
    {
     "data": {
      "text/html": [
       "<pre style=\"white-space:pre;overflow-x:auto;line-height:normal;font-family:Menlo,'DejaVu Sans Mono',consolas,'Courier New',monospace\"><span style=\"font-weight: bold\"> Non-trainable params: </span><span style=\"color: #00af00; text-decoration-color: #00af00\">0</span> (0.00 B)\n",
       "</pre>\n"
      ],
      "text/plain": [
       "\u001b[1m Non-trainable params: \u001b[0m\u001b[38;5;34m0\u001b[0m (0.00 B)\n"
      ]
     },
     "metadata": {},
     "output_type": "display_data"
    },
    {
     "name": "stdout",
     "output_type": "stream",
     "text": [
      "\u001b[31m------------------------------------------------------------------------\u001b[0m\n",
      "\u001b[31m第 4 個 IMF\u001b[0m\n",
      "\u001b[31m------------------------------------------------------------------------\u001b[0m\n",
      "\u001b[93m# 定義 Model：1\u001b[0m\n",
      "LSTM\n"
     ]
    },
    {
     "data": {
      "text/html": [
       "<pre style=\"white-space:pre;overflow-x:auto;line-height:normal;font-family:Menlo,'DejaVu Sans Mono',consolas,'Courier New',monospace\"><span style=\"font-weight: bold\">Model: \"sequential_3\"</span>\n",
       "</pre>\n"
      ],
      "text/plain": [
       "\u001b[1mModel: \"sequential_3\"\u001b[0m\n"
      ]
     },
     "metadata": {},
     "output_type": "display_data"
    },
    {
     "data": {
      "text/html": [
       "<pre style=\"white-space:pre;overflow-x:auto;line-height:normal;font-family:Menlo,'DejaVu Sans Mono',consolas,'Courier New',monospace\">┏━━━━━━━━━━━━━━━━━━━━━━━━━━━━━━━━━━━━━━┳━━━━━━━━━━━━━━━━━━━━━━━━━━━━━┳━━━━━━━━━━━━━━━━━┓\n",
       "┃<span style=\"font-weight: bold\"> Layer (type)                         </span>┃<span style=\"font-weight: bold\"> Output Shape                </span>┃<span style=\"font-weight: bold\">         Param # </span>┃\n",
       "┡━━━━━━━━━━━━━━━━━━━━━━━━━━━━━━━━━━━━━━╇━━━━━━━━━━━━━━━━━━━━━━━━━━━━━╇━━━━━━━━━━━━━━━━━┩\n",
       "│ lstm_3 (<span style=\"color: #0087ff; text-decoration-color: #0087ff\">LSTM</span>)                        │ (<span style=\"color: #00d7ff; text-decoration-color: #00d7ff\">None</span>, <span style=\"color: #00af00; text-decoration-color: #00af00\">100</span>)                 │          <span style=\"color: #00af00; text-decoration-color: #00af00\">40,800</span> │\n",
       "├──────────────────────────────────────┼─────────────────────────────┼─────────────────┤\n",
       "│ dense_9 (<span style=\"color: #0087ff; text-decoration-color: #0087ff\">Dense</span>)                      │ (<span style=\"color: #00d7ff; text-decoration-color: #00d7ff\">None</span>, <span style=\"color: #00af00; text-decoration-color: #00af00\">150</span>)                 │          <span style=\"color: #00af00; text-decoration-color: #00af00\">15,150</span> │\n",
       "├──────────────────────────────────────┼─────────────────────────────┼─────────────────┤\n",
       "│ dense_10 (<span style=\"color: #0087ff; text-decoration-color: #0087ff\">Dense</span>)                     │ (<span style=\"color: #00d7ff; text-decoration-color: #00d7ff\">None</span>, <span style=\"color: #00af00; text-decoration-color: #00af00\">150</span>)                 │          <span style=\"color: #00af00; text-decoration-color: #00af00\">22,650</span> │\n",
       "├──────────────────────────────────────┼─────────────────────────────┼─────────────────┤\n",
       "│ dense_11 (<span style=\"color: #0087ff; text-decoration-color: #0087ff\">Dense</span>)                     │ (<span style=\"color: #00d7ff; text-decoration-color: #00d7ff\">None</span>, <span style=\"color: #00af00; text-decoration-color: #00af00\">1</span>)                   │             <span style=\"color: #00af00; text-decoration-color: #00af00\">151</span> │\n",
       "└──────────────────────────────────────┴─────────────────────────────┴─────────────────┘\n",
       "</pre>\n"
      ],
      "text/plain": [
       "┏━━━━━━━━━━━━━━━━━━━━━━━━━━━━━━━━━━━━━━┳━━━━━━━━━━━━━━━━━━━━━━━━━━━━━┳━━━━━━━━━━━━━━━━━┓\n",
       "┃\u001b[1m \u001b[0m\u001b[1mLayer (type)                        \u001b[0m\u001b[1m \u001b[0m┃\u001b[1m \u001b[0m\u001b[1mOutput Shape               \u001b[0m\u001b[1m \u001b[0m┃\u001b[1m \u001b[0m\u001b[1m        Param #\u001b[0m\u001b[1m \u001b[0m┃\n",
       "┡━━━━━━━━━━━━━━━━━━━━━━━━━━━━━━━━━━━━━━╇━━━━━━━━━━━━━━━━━━━━━━━━━━━━━╇━━━━━━━━━━━━━━━━━┩\n",
       "│ lstm_3 (\u001b[38;5;33mLSTM\u001b[0m)                        │ (\u001b[38;5;45mNone\u001b[0m, \u001b[38;5;34m100\u001b[0m)                 │          \u001b[38;5;34m40,800\u001b[0m │\n",
       "├──────────────────────────────────────┼─────────────────────────────┼─────────────────┤\n",
       "│ dense_9 (\u001b[38;5;33mDense\u001b[0m)                      │ (\u001b[38;5;45mNone\u001b[0m, \u001b[38;5;34m150\u001b[0m)                 │          \u001b[38;5;34m15,150\u001b[0m │\n",
       "├──────────────────────────────────────┼─────────────────────────────┼─────────────────┤\n",
       "│ dense_10 (\u001b[38;5;33mDense\u001b[0m)                     │ (\u001b[38;5;45mNone\u001b[0m, \u001b[38;5;34m150\u001b[0m)                 │          \u001b[38;5;34m22,650\u001b[0m │\n",
       "├──────────────────────────────────────┼─────────────────────────────┼─────────────────┤\n",
       "│ dense_11 (\u001b[38;5;33mDense\u001b[0m)                     │ (\u001b[38;5;45mNone\u001b[0m, \u001b[38;5;34m1\u001b[0m)                   │             \u001b[38;5;34m151\u001b[0m │\n",
       "└──────────────────────────────────────┴─────────────────────────────┴─────────────────┘\n"
      ]
     },
     "metadata": {},
     "output_type": "display_data"
    },
    {
     "data": {
      "text/html": [
       "<pre style=\"white-space:pre;overflow-x:auto;line-height:normal;font-family:Menlo,'DejaVu Sans Mono',consolas,'Courier New',monospace\"><span style=\"font-weight: bold\"> Total params: </span><span style=\"color: #00af00; text-decoration-color: #00af00\">78,751</span> (307.62 KB)\n",
       "</pre>\n"
      ],
      "text/plain": [
       "\u001b[1m Total params: \u001b[0m\u001b[38;5;34m78,751\u001b[0m (307.62 KB)\n"
      ]
     },
     "metadata": {},
     "output_type": "display_data"
    },
    {
     "data": {
      "text/html": [
       "<pre style=\"white-space:pre;overflow-x:auto;line-height:normal;font-family:Menlo,'DejaVu Sans Mono',consolas,'Courier New',monospace\"><span style=\"font-weight: bold\"> Trainable params: </span><span style=\"color: #00af00; text-decoration-color: #00af00\">78,751</span> (307.62 KB)\n",
       "</pre>\n"
      ],
      "text/plain": [
       "\u001b[1m Trainable params: \u001b[0m\u001b[38;5;34m78,751\u001b[0m (307.62 KB)\n"
      ]
     },
     "metadata": {},
     "output_type": "display_data"
    },
    {
     "data": {
      "text/html": [
       "<pre style=\"white-space:pre;overflow-x:auto;line-height:normal;font-family:Menlo,'DejaVu Sans Mono',consolas,'Courier New',monospace\"><span style=\"font-weight: bold\"> Non-trainable params: </span><span style=\"color: #00af00; text-decoration-color: #00af00\">0</span> (0.00 B)\n",
       "</pre>\n"
      ],
      "text/plain": [
       "\u001b[1m Non-trainable params: \u001b[0m\u001b[38;5;34m0\u001b[0m (0.00 B)\n"
      ]
     },
     "metadata": {},
     "output_type": "display_data"
    },
    {
     "name": "stdout",
     "output_type": "stream",
     "text": [
      "\u001b[31m------------------------------------------------------------------------\u001b[0m\n",
      "\u001b[31m第 5 個 IMF\u001b[0m\n",
      "\u001b[31m------------------------------------------------------------------------\u001b[0m\n",
      "\u001b[93m# 定義 Model：1\u001b[0m\n",
      "LSTM\n"
     ]
    },
    {
     "data": {
      "text/html": [
       "<pre style=\"white-space:pre;overflow-x:auto;line-height:normal;font-family:Menlo,'DejaVu Sans Mono',consolas,'Courier New',monospace\"><span style=\"font-weight: bold\">Model: \"sequential_4\"</span>\n",
       "</pre>\n"
      ],
      "text/plain": [
       "\u001b[1mModel: \"sequential_4\"\u001b[0m\n"
      ]
     },
     "metadata": {},
     "output_type": "display_data"
    },
    {
     "data": {
      "text/html": [
       "<pre style=\"white-space:pre;overflow-x:auto;line-height:normal;font-family:Menlo,'DejaVu Sans Mono',consolas,'Courier New',monospace\">┏━━━━━━━━━━━━━━━━━━━━━━━━━━━━━━━━━━━━━━┳━━━━━━━━━━━━━━━━━━━━━━━━━━━━━┳━━━━━━━━━━━━━━━━━┓\n",
       "┃<span style=\"font-weight: bold\"> Layer (type)                         </span>┃<span style=\"font-weight: bold\"> Output Shape                </span>┃<span style=\"font-weight: bold\">         Param # </span>┃\n",
       "┡━━━━━━━━━━━━━━━━━━━━━━━━━━━━━━━━━━━━━━╇━━━━━━━━━━━━━━━━━━━━━━━━━━━━━╇━━━━━━━━━━━━━━━━━┩\n",
       "│ lstm_4 (<span style=\"color: #0087ff; text-decoration-color: #0087ff\">LSTM</span>)                        │ (<span style=\"color: #00d7ff; text-decoration-color: #00d7ff\">None</span>, <span style=\"color: #00af00; text-decoration-color: #00af00\">100</span>)                 │          <span style=\"color: #00af00; text-decoration-color: #00af00\">40,800</span> │\n",
       "├──────────────────────────────────────┼─────────────────────────────┼─────────────────┤\n",
       "│ dense_12 (<span style=\"color: #0087ff; text-decoration-color: #0087ff\">Dense</span>)                     │ (<span style=\"color: #00d7ff; text-decoration-color: #00d7ff\">None</span>, <span style=\"color: #00af00; text-decoration-color: #00af00\">150</span>)                 │          <span style=\"color: #00af00; text-decoration-color: #00af00\">15,150</span> │\n",
       "├──────────────────────────────────────┼─────────────────────────────┼─────────────────┤\n",
       "│ dense_13 (<span style=\"color: #0087ff; text-decoration-color: #0087ff\">Dense</span>)                     │ (<span style=\"color: #00d7ff; text-decoration-color: #00d7ff\">None</span>, <span style=\"color: #00af00; text-decoration-color: #00af00\">150</span>)                 │          <span style=\"color: #00af00; text-decoration-color: #00af00\">22,650</span> │\n",
       "├──────────────────────────────────────┼─────────────────────────────┼─────────────────┤\n",
       "│ dense_14 (<span style=\"color: #0087ff; text-decoration-color: #0087ff\">Dense</span>)                     │ (<span style=\"color: #00d7ff; text-decoration-color: #00d7ff\">None</span>, <span style=\"color: #00af00; text-decoration-color: #00af00\">1</span>)                   │             <span style=\"color: #00af00; text-decoration-color: #00af00\">151</span> │\n",
       "└──────────────────────────────────────┴─────────────────────────────┴─────────────────┘\n",
       "</pre>\n"
      ],
      "text/plain": [
       "┏━━━━━━━━━━━━━━━━━━━━━━━━━━━━━━━━━━━━━━┳━━━━━━━━━━━━━━━━━━━━━━━━━━━━━┳━━━━━━━━━━━━━━━━━┓\n",
       "┃\u001b[1m \u001b[0m\u001b[1mLayer (type)                        \u001b[0m\u001b[1m \u001b[0m┃\u001b[1m \u001b[0m\u001b[1mOutput Shape               \u001b[0m\u001b[1m \u001b[0m┃\u001b[1m \u001b[0m\u001b[1m        Param #\u001b[0m\u001b[1m \u001b[0m┃\n",
       "┡━━━━━━━━━━━━━━━━━━━━━━━━━━━━━━━━━━━━━━╇━━━━━━━━━━━━━━━━━━━━━━━━━━━━━╇━━━━━━━━━━━━━━━━━┩\n",
       "│ lstm_4 (\u001b[38;5;33mLSTM\u001b[0m)                        │ (\u001b[38;5;45mNone\u001b[0m, \u001b[38;5;34m100\u001b[0m)                 │          \u001b[38;5;34m40,800\u001b[0m │\n",
       "├──────────────────────────────────────┼─────────────────────────────┼─────────────────┤\n",
       "│ dense_12 (\u001b[38;5;33mDense\u001b[0m)                     │ (\u001b[38;5;45mNone\u001b[0m, \u001b[38;5;34m150\u001b[0m)                 │          \u001b[38;5;34m15,150\u001b[0m │\n",
       "├──────────────────────────────────────┼─────────────────────────────┼─────────────────┤\n",
       "│ dense_13 (\u001b[38;5;33mDense\u001b[0m)                     │ (\u001b[38;5;45mNone\u001b[0m, \u001b[38;5;34m150\u001b[0m)                 │          \u001b[38;5;34m22,650\u001b[0m │\n",
       "├──────────────────────────────────────┼─────────────────────────────┼─────────────────┤\n",
       "│ dense_14 (\u001b[38;5;33mDense\u001b[0m)                     │ (\u001b[38;5;45mNone\u001b[0m, \u001b[38;5;34m1\u001b[0m)                   │             \u001b[38;5;34m151\u001b[0m │\n",
       "└──────────────────────────────────────┴─────────────────────────────┴─────────────────┘\n"
      ]
     },
     "metadata": {},
     "output_type": "display_data"
    },
    {
     "data": {
      "text/html": [
       "<pre style=\"white-space:pre;overflow-x:auto;line-height:normal;font-family:Menlo,'DejaVu Sans Mono',consolas,'Courier New',monospace\"><span style=\"font-weight: bold\"> Total params: </span><span style=\"color: #00af00; text-decoration-color: #00af00\">78,751</span> (307.62 KB)\n",
       "</pre>\n"
      ],
      "text/plain": [
       "\u001b[1m Total params: \u001b[0m\u001b[38;5;34m78,751\u001b[0m (307.62 KB)\n"
      ]
     },
     "metadata": {},
     "output_type": "display_data"
    },
    {
     "data": {
      "text/html": [
       "<pre style=\"white-space:pre;overflow-x:auto;line-height:normal;font-family:Menlo,'DejaVu Sans Mono',consolas,'Courier New',monospace\"><span style=\"font-weight: bold\"> Trainable params: </span><span style=\"color: #00af00; text-decoration-color: #00af00\">78,751</span> (307.62 KB)\n",
       "</pre>\n"
      ],
      "text/plain": [
       "\u001b[1m Trainable params: \u001b[0m\u001b[38;5;34m78,751\u001b[0m (307.62 KB)\n"
      ]
     },
     "metadata": {},
     "output_type": "display_data"
    },
    {
     "data": {
      "text/html": [
       "<pre style=\"white-space:pre;overflow-x:auto;line-height:normal;font-family:Menlo,'DejaVu Sans Mono',consolas,'Courier New',monospace\"><span style=\"font-weight: bold\"> Non-trainable params: </span><span style=\"color: #00af00; text-decoration-color: #00af00\">0</span> (0.00 B)\n",
       "</pre>\n"
      ],
      "text/plain": [
       "\u001b[1m Non-trainable params: \u001b[0m\u001b[38;5;34m0\u001b[0m (0.00 B)\n"
      ]
     },
     "metadata": {},
     "output_type": "display_data"
    },
    {
     "name": "stdout",
     "output_type": "stream",
     "text": [
      "\u001b[31m------------------------------------------------------------------------\u001b[0m\n",
      "\u001b[31m第 6 個 IMF\u001b[0m\n",
      "\u001b[31m------------------------------------------------------------------------\u001b[0m\n",
      "\u001b[93m# 定義 Model：1\u001b[0m\n",
      "LSTM\n"
     ]
    },
    {
     "data": {
      "text/html": [
       "<pre style=\"white-space:pre;overflow-x:auto;line-height:normal;font-family:Menlo,'DejaVu Sans Mono',consolas,'Courier New',monospace\"><span style=\"font-weight: bold\">Model: \"sequential_5\"</span>\n",
       "</pre>\n"
      ],
      "text/plain": [
       "\u001b[1mModel: \"sequential_5\"\u001b[0m\n"
      ]
     },
     "metadata": {},
     "output_type": "display_data"
    },
    {
     "data": {
      "text/html": [
       "<pre style=\"white-space:pre;overflow-x:auto;line-height:normal;font-family:Menlo,'DejaVu Sans Mono',consolas,'Courier New',monospace\">┏━━━━━━━━━━━━━━━━━━━━━━━━━━━━━━━━━━━━━━┳━━━━━━━━━━━━━━━━━━━━━━━━━━━━━┳━━━━━━━━━━━━━━━━━┓\n",
       "┃<span style=\"font-weight: bold\"> Layer (type)                         </span>┃<span style=\"font-weight: bold\"> Output Shape                </span>┃<span style=\"font-weight: bold\">         Param # </span>┃\n",
       "┡━━━━━━━━━━━━━━━━━━━━━━━━━━━━━━━━━━━━━━╇━━━━━━━━━━━━━━━━━━━━━━━━━━━━━╇━━━━━━━━━━━━━━━━━┩\n",
       "│ lstm_5 (<span style=\"color: #0087ff; text-decoration-color: #0087ff\">LSTM</span>)                        │ (<span style=\"color: #00d7ff; text-decoration-color: #00d7ff\">None</span>, <span style=\"color: #00af00; text-decoration-color: #00af00\">100</span>)                 │          <span style=\"color: #00af00; text-decoration-color: #00af00\">40,800</span> │\n",
       "├──────────────────────────────────────┼─────────────────────────────┼─────────────────┤\n",
       "│ dense_15 (<span style=\"color: #0087ff; text-decoration-color: #0087ff\">Dense</span>)                     │ (<span style=\"color: #00d7ff; text-decoration-color: #00d7ff\">None</span>, <span style=\"color: #00af00; text-decoration-color: #00af00\">150</span>)                 │          <span style=\"color: #00af00; text-decoration-color: #00af00\">15,150</span> │\n",
       "├──────────────────────────────────────┼─────────────────────────────┼─────────────────┤\n",
       "│ dense_16 (<span style=\"color: #0087ff; text-decoration-color: #0087ff\">Dense</span>)                     │ (<span style=\"color: #00d7ff; text-decoration-color: #00d7ff\">None</span>, <span style=\"color: #00af00; text-decoration-color: #00af00\">150</span>)                 │          <span style=\"color: #00af00; text-decoration-color: #00af00\">22,650</span> │\n",
       "├──────────────────────────────────────┼─────────────────────────────┼─────────────────┤\n",
       "│ dense_17 (<span style=\"color: #0087ff; text-decoration-color: #0087ff\">Dense</span>)                     │ (<span style=\"color: #00d7ff; text-decoration-color: #00d7ff\">None</span>, <span style=\"color: #00af00; text-decoration-color: #00af00\">1</span>)                   │             <span style=\"color: #00af00; text-decoration-color: #00af00\">151</span> │\n",
       "└──────────────────────────────────────┴─────────────────────────────┴─────────────────┘\n",
       "</pre>\n"
      ],
      "text/plain": [
       "┏━━━━━━━━━━━━━━━━━━━━━━━━━━━━━━━━━━━━━━┳━━━━━━━━━━━━━━━━━━━━━━━━━━━━━┳━━━━━━━━━━━━━━━━━┓\n",
       "┃\u001b[1m \u001b[0m\u001b[1mLayer (type)                        \u001b[0m\u001b[1m \u001b[0m┃\u001b[1m \u001b[0m\u001b[1mOutput Shape               \u001b[0m\u001b[1m \u001b[0m┃\u001b[1m \u001b[0m\u001b[1m        Param #\u001b[0m\u001b[1m \u001b[0m┃\n",
       "┡━━━━━━━━━━━━━━━━━━━━━━━━━━━━━━━━━━━━━━╇━━━━━━━━━━━━━━━━━━━━━━━━━━━━━╇━━━━━━━━━━━━━━━━━┩\n",
       "│ lstm_5 (\u001b[38;5;33mLSTM\u001b[0m)                        │ (\u001b[38;5;45mNone\u001b[0m, \u001b[38;5;34m100\u001b[0m)                 │          \u001b[38;5;34m40,800\u001b[0m │\n",
       "├──────────────────────────────────────┼─────────────────────────────┼─────────────────┤\n",
       "│ dense_15 (\u001b[38;5;33mDense\u001b[0m)                     │ (\u001b[38;5;45mNone\u001b[0m, \u001b[38;5;34m150\u001b[0m)                 │          \u001b[38;5;34m15,150\u001b[0m │\n",
       "├──────────────────────────────────────┼─────────────────────────────┼─────────────────┤\n",
       "│ dense_16 (\u001b[38;5;33mDense\u001b[0m)                     │ (\u001b[38;5;45mNone\u001b[0m, \u001b[38;5;34m150\u001b[0m)                 │          \u001b[38;5;34m22,650\u001b[0m │\n",
       "├──────────────────────────────────────┼─────────────────────────────┼─────────────────┤\n",
       "│ dense_17 (\u001b[38;5;33mDense\u001b[0m)                     │ (\u001b[38;5;45mNone\u001b[0m, \u001b[38;5;34m1\u001b[0m)                   │             \u001b[38;5;34m151\u001b[0m │\n",
       "└──────────────────────────────────────┴─────────────────────────────┴─────────────────┘\n"
      ]
     },
     "metadata": {},
     "output_type": "display_data"
    },
    {
     "data": {
      "text/html": [
       "<pre style=\"white-space:pre;overflow-x:auto;line-height:normal;font-family:Menlo,'DejaVu Sans Mono',consolas,'Courier New',monospace\"><span style=\"font-weight: bold\"> Total params: </span><span style=\"color: #00af00; text-decoration-color: #00af00\">78,751</span> (307.62 KB)\n",
       "</pre>\n"
      ],
      "text/plain": [
       "\u001b[1m Total params: \u001b[0m\u001b[38;5;34m78,751\u001b[0m (307.62 KB)\n"
      ]
     },
     "metadata": {},
     "output_type": "display_data"
    },
    {
     "data": {
      "text/html": [
       "<pre style=\"white-space:pre;overflow-x:auto;line-height:normal;font-family:Menlo,'DejaVu Sans Mono',consolas,'Courier New',monospace\"><span style=\"font-weight: bold\"> Trainable params: </span><span style=\"color: #00af00; text-decoration-color: #00af00\">78,751</span> (307.62 KB)\n",
       "</pre>\n"
      ],
      "text/plain": [
       "\u001b[1m Trainable params: \u001b[0m\u001b[38;5;34m78,751\u001b[0m (307.62 KB)\n"
      ]
     },
     "metadata": {},
     "output_type": "display_data"
    },
    {
     "data": {
      "text/html": [
       "<pre style=\"white-space:pre;overflow-x:auto;line-height:normal;font-family:Menlo,'DejaVu Sans Mono',consolas,'Courier New',monospace\"><span style=\"font-weight: bold\"> Non-trainable params: </span><span style=\"color: #00af00; text-decoration-color: #00af00\">0</span> (0.00 B)\n",
       "</pre>\n"
      ],
      "text/plain": [
       "\u001b[1m Non-trainable params: \u001b[0m\u001b[38;5;34m0\u001b[0m (0.00 B)\n"
      ]
     },
     "metadata": {},
     "output_type": "display_data"
    },
    {
     "name": "stdout",
     "output_type": "stream",
     "text": [
      "\u001b[31m------------------------------------------------------------------------\u001b[0m\n",
      "\u001b[31m第 7 個 IMF\u001b[0m\n",
      "\u001b[31m------------------------------------------------------------------------\u001b[0m\n",
      "\u001b[93m# 定義 Model：1\u001b[0m\n",
      "LSTM\n"
     ]
    },
    {
     "data": {
      "text/html": [
       "<pre style=\"white-space:pre;overflow-x:auto;line-height:normal;font-family:Menlo,'DejaVu Sans Mono',consolas,'Courier New',monospace\"><span style=\"font-weight: bold\">Model: \"sequential_6\"</span>\n",
       "</pre>\n"
      ],
      "text/plain": [
       "\u001b[1mModel: \"sequential_6\"\u001b[0m\n"
      ]
     },
     "metadata": {},
     "output_type": "display_data"
    },
    {
     "data": {
      "text/html": [
       "<pre style=\"white-space:pre;overflow-x:auto;line-height:normal;font-family:Menlo,'DejaVu Sans Mono',consolas,'Courier New',monospace\">┏━━━━━━━━━━━━━━━━━━━━━━━━━━━━━━━━━━━━━━┳━━━━━━━━━━━━━━━━━━━━━━━━━━━━━┳━━━━━━━━━━━━━━━━━┓\n",
       "┃<span style=\"font-weight: bold\"> Layer (type)                         </span>┃<span style=\"font-weight: bold\"> Output Shape                </span>┃<span style=\"font-weight: bold\">         Param # </span>┃\n",
       "┡━━━━━━━━━━━━━━━━━━━━━━━━━━━━━━━━━━━━━━╇━━━━━━━━━━━━━━━━━━━━━━━━━━━━━╇━━━━━━━━━━━━━━━━━┩\n",
       "│ lstm_6 (<span style=\"color: #0087ff; text-decoration-color: #0087ff\">LSTM</span>)                        │ (<span style=\"color: #00d7ff; text-decoration-color: #00d7ff\">None</span>, <span style=\"color: #00af00; text-decoration-color: #00af00\">100</span>)                 │          <span style=\"color: #00af00; text-decoration-color: #00af00\">40,800</span> │\n",
       "├──────────────────────────────────────┼─────────────────────────────┼─────────────────┤\n",
       "│ dense_18 (<span style=\"color: #0087ff; text-decoration-color: #0087ff\">Dense</span>)                     │ (<span style=\"color: #00d7ff; text-decoration-color: #00d7ff\">None</span>, <span style=\"color: #00af00; text-decoration-color: #00af00\">150</span>)                 │          <span style=\"color: #00af00; text-decoration-color: #00af00\">15,150</span> │\n",
       "├──────────────────────────────────────┼─────────────────────────────┼─────────────────┤\n",
       "│ dense_19 (<span style=\"color: #0087ff; text-decoration-color: #0087ff\">Dense</span>)                     │ (<span style=\"color: #00d7ff; text-decoration-color: #00d7ff\">None</span>, <span style=\"color: #00af00; text-decoration-color: #00af00\">150</span>)                 │          <span style=\"color: #00af00; text-decoration-color: #00af00\">22,650</span> │\n",
       "├──────────────────────────────────────┼─────────────────────────────┼─────────────────┤\n",
       "│ dense_20 (<span style=\"color: #0087ff; text-decoration-color: #0087ff\">Dense</span>)                     │ (<span style=\"color: #00d7ff; text-decoration-color: #00d7ff\">None</span>, <span style=\"color: #00af00; text-decoration-color: #00af00\">1</span>)                   │             <span style=\"color: #00af00; text-decoration-color: #00af00\">151</span> │\n",
       "└──────────────────────────────────────┴─────────────────────────────┴─────────────────┘\n",
       "</pre>\n"
      ],
      "text/plain": [
       "┏━━━━━━━━━━━━━━━━━━━━━━━━━━━━━━━━━━━━━━┳━━━━━━━━━━━━━━━━━━━━━━━━━━━━━┳━━━━━━━━━━━━━━━━━┓\n",
       "┃\u001b[1m \u001b[0m\u001b[1mLayer (type)                        \u001b[0m\u001b[1m \u001b[0m┃\u001b[1m \u001b[0m\u001b[1mOutput Shape               \u001b[0m\u001b[1m \u001b[0m┃\u001b[1m \u001b[0m\u001b[1m        Param #\u001b[0m\u001b[1m \u001b[0m┃\n",
       "┡━━━━━━━━━━━━━━━━━━━━━━━━━━━━━━━━━━━━━━╇━━━━━━━━━━━━━━━━━━━━━━━━━━━━━╇━━━━━━━━━━━━━━━━━┩\n",
       "│ lstm_6 (\u001b[38;5;33mLSTM\u001b[0m)                        │ (\u001b[38;5;45mNone\u001b[0m, \u001b[38;5;34m100\u001b[0m)                 │          \u001b[38;5;34m40,800\u001b[0m │\n",
       "├──────────────────────────────────────┼─────────────────────────────┼─────────────────┤\n",
       "│ dense_18 (\u001b[38;5;33mDense\u001b[0m)                     │ (\u001b[38;5;45mNone\u001b[0m, \u001b[38;5;34m150\u001b[0m)                 │          \u001b[38;5;34m15,150\u001b[0m │\n",
       "├──────────────────────────────────────┼─────────────────────────────┼─────────────────┤\n",
       "│ dense_19 (\u001b[38;5;33mDense\u001b[0m)                     │ (\u001b[38;5;45mNone\u001b[0m, \u001b[38;5;34m150\u001b[0m)                 │          \u001b[38;5;34m22,650\u001b[0m │\n",
       "├──────────────────────────────────────┼─────────────────────────────┼─────────────────┤\n",
       "│ dense_20 (\u001b[38;5;33mDense\u001b[0m)                     │ (\u001b[38;5;45mNone\u001b[0m, \u001b[38;5;34m1\u001b[0m)                   │             \u001b[38;5;34m151\u001b[0m │\n",
       "└──────────────────────────────────────┴─────────────────────────────┴─────────────────┘\n"
      ]
     },
     "metadata": {},
     "output_type": "display_data"
    },
    {
     "data": {
      "text/html": [
       "<pre style=\"white-space:pre;overflow-x:auto;line-height:normal;font-family:Menlo,'DejaVu Sans Mono',consolas,'Courier New',monospace\"><span style=\"font-weight: bold\"> Total params: </span><span style=\"color: #00af00; text-decoration-color: #00af00\">78,751</span> (307.62 KB)\n",
       "</pre>\n"
      ],
      "text/plain": [
       "\u001b[1m Total params: \u001b[0m\u001b[38;5;34m78,751\u001b[0m (307.62 KB)\n"
      ]
     },
     "metadata": {},
     "output_type": "display_data"
    },
    {
     "data": {
      "text/html": [
       "<pre style=\"white-space:pre;overflow-x:auto;line-height:normal;font-family:Menlo,'DejaVu Sans Mono',consolas,'Courier New',monospace\"><span style=\"font-weight: bold\"> Trainable params: </span><span style=\"color: #00af00; text-decoration-color: #00af00\">78,751</span> (307.62 KB)\n",
       "</pre>\n"
      ],
      "text/plain": [
       "\u001b[1m Trainable params: \u001b[0m\u001b[38;5;34m78,751\u001b[0m (307.62 KB)\n"
      ]
     },
     "metadata": {},
     "output_type": "display_data"
    },
    {
     "data": {
      "text/html": [
       "<pre style=\"white-space:pre;overflow-x:auto;line-height:normal;font-family:Menlo,'DejaVu Sans Mono',consolas,'Courier New',monospace\"><span style=\"font-weight: bold\"> Non-trainable params: </span><span style=\"color: #00af00; text-decoration-color: #00af00\">0</span> (0.00 B)\n",
       "</pre>\n"
      ],
      "text/plain": [
       "\u001b[1m Non-trainable params: \u001b[0m\u001b[38;5;34m0\u001b[0m (0.00 B)\n"
      ]
     },
     "metadata": {},
     "output_type": "display_data"
    },
    {
     "name": "stdout",
     "output_type": "stream",
     "text": [
      "\u001b[31m------------------------------------------------------------------------\u001b[0m\n",
      "\u001b[31m第 8 個 IMF\u001b[0m\n",
      "\u001b[31m------------------------------------------------------------------------\u001b[0m\n",
      "\u001b[93m# 定義 Model：1\u001b[0m\n",
      "LSTM\n"
     ]
    },
    {
     "data": {
      "text/html": [
       "<pre style=\"white-space:pre;overflow-x:auto;line-height:normal;font-family:Menlo,'DejaVu Sans Mono',consolas,'Courier New',monospace\"><span style=\"font-weight: bold\">Model: \"sequential_7\"</span>\n",
       "</pre>\n"
      ],
      "text/plain": [
       "\u001b[1mModel: \"sequential_7\"\u001b[0m\n"
      ]
     },
     "metadata": {},
     "output_type": "display_data"
    },
    {
     "data": {
      "text/html": [
       "<pre style=\"white-space:pre;overflow-x:auto;line-height:normal;font-family:Menlo,'DejaVu Sans Mono',consolas,'Courier New',monospace\">┏━━━━━━━━━━━━━━━━━━━━━━━━━━━━━━━━━━━━━━┳━━━━━━━━━━━━━━━━━━━━━━━━━━━━━┳━━━━━━━━━━━━━━━━━┓\n",
       "┃<span style=\"font-weight: bold\"> Layer (type)                         </span>┃<span style=\"font-weight: bold\"> Output Shape                </span>┃<span style=\"font-weight: bold\">         Param # </span>┃\n",
       "┡━━━━━━━━━━━━━━━━━━━━━━━━━━━━━━━━━━━━━━╇━━━━━━━━━━━━━━━━━━━━━━━━━━━━━╇━━━━━━━━━━━━━━━━━┩\n",
       "│ lstm_7 (<span style=\"color: #0087ff; text-decoration-color: #0087ff\">LSTM</span>)                        │ (<span style=\"color: #00d7ff; text-decoration-color: #00d7ff\">None</span>, <span style=\"color: #00af00; text-decoration-color: #00af00\">100</span>)                 │          <span style=\"color: #00af00; text-decoration-color: #00af00\">40,800</span> │\n",
       "├──────────────────────────────────────┼─────────────────────────────┼─────────────────┤\n",
       "│ dense_21 (<span style=\"color: #0087ff; text-decoration-color: #0087ff\">Dense</span>)                     │ (<span style=\"color: #00d7ff; text-decoration-color: #00d7ff\">None</span>, <span style=\"color: #00af00; text-decoration-color: #00af00\">150</span>)                 │          <span style=\"color: #00af00; text-decoration-color: #00af00\">15,150</span> │\n",
       "├──────────────────────────────────────┼─────────────────────────────┼─────────────────┤\n",
       "│ dense_22 (<span style=\"color: #0087ff; text-decoration-color: #0087ff\">Dense</span>)                     │ (<span style=\"color: #00d7ff; text-decoration-color: #00d7ff\">None</span>, <span style=\"color: #00af00; text-decoration-color: #00af00\">150</span>)                 │          <span style=\"color: #00af00; text-decoration-color: #00af00\">22,650</span> │\n",
       "├──────────────────────────────────────┼─────────────────────────────┼─────────────────┤\n",
       "│ dense_23 (<span style=\"color: #0087ff; text-decoration-color: #0087ff\">Dense</span>)                     │ (<span style=\"color: #00d7ff; text-decoration-color: #00d7ff\">None</span>, <span style=\"color: #00af00; text-decoration-color: #00af00\">1</span>)                   │             <span style=\"color: #00af00; text-decoration-color: #00af00\">151</span> │\n",
       "└──────────────────────────────────────┴─────────────────────────────┴─────────────────┘\n",
       "</pre>\n"
      ],
      "text/plain": [
       "┏━━━━━━━━━━━━━━━━━━━━━━━━━━━━━━━━━━━━━━┳━━━━━━━━━━━━━━━━━━━━━━━━━━━━━┳━━━━━━━━━━━━━━━━━┓\n",
       "┃\u001b[1m \u001b[0m\u001b[1mLayer (type)                        \u001b[0m\u001b[1m \u001b[0m┃\u001b[1m \u001b[0m\u001b[1mOutput Shape               \u001b[0m\u001b[1m \u001b[0m┃\u001b[1m \u001b[0m\u001b[1m        Param #\u001b[0m\u001b[1m \u001b[0m┃\n",
       "┡━━━━━━━━━━━━━━━━━━━━━━━━━━━━━━━━━━━━━━╇━━━━━━━━━━━━━━━━━━━━━━━━━━━━━╇━━━━━━━━━━━━━━━━━┩\n",
       "│ lstm_7 (\u001b[38;5;33mLSTM\u001b[0m)                        │ (\u001b[38;5;45mNone\u001b[0m, \u001b[38;5;34m100\u001b[0m)                 │          \u001b[38;5;34m40,800\u001b[0m │\n",
       "├──────────────────────────────────────┼─────────────────────────────┼─────────────────┤\n",
       "│ dense_21 (\u001b[38;5;33mDense\u001b[0m)                     │ (\u001b[38;5;45mNone\u001b[0m, \u001b[38;5;34m150\u001b[0m)                 │          \u001b[38;5;34m15,150\u001b[0m │\n",
       "├──────────────────────────────────────┼─────────────────────────────┼─────────────────┤\n",
       "│ dense_22 (\u001b[38;5;33mDense\u001b[0m)                     │ (\u001b[38;5;45mNone\u001b[0m, \u001b[38;5;34m150\u001b[0m)                 │          \u001b[38;5;34m22,650\u001b[0m │\n",
       "├──────────────────────────────────────┼─────────────────────────────┼─────────────────┤\n",
       "│ dense_23 (\u001b[38;5;33mDense\u001b[0m)                     │ (\u001b[38;5;45mNone\u001b[0m, \u001b[38;5;34m1\u001b[0m)                   │             \u001b[38;5;34m151\u001b[0m │\n",
       "└──────────────────────────────────────┴─────────────────────────────┴─────────────────┘\n"
      ]
     },
     "metadata": {},
     "output_type": "display_data"
    },
    {
     "data": {
      "text/html": [
       "<pre style=\"white-space:pre;overflow-x:auto;line-height:normal;font-family:Menlo,'DejaVu Sans Mono',consolas,'Courier New',monospace\"><span style=\"font-weight: bold\"> Total params: </span><span style=\"color: #00af00; text-decoration-color: #00af00\">78,751</span> (307.62 KB)\n",
       "</pre>\n"
      ],
      "text/plain": [
       "\u001b[1m Total params: \u001b[0m\u001b[38;5;34m78,751\u001b[0m (307.62 KB)\n"
      ]
     },
     "metadata": {},
     "output_type": "display_data"
    },
    {
     "data": {
      "text/html": [
       "<pre style=\"white-space:pre;overflow-x:auto;line-height:normal;font-family:Menlo,'DejaVu Sans Mono',consolas,'Courier New',monospace\"><span style=\"font-weight: bold\"> Trainable params: </span><span style=\"color: #00af00; text-decoration-color: #00af00\">78,751</span> (307.62 KB)\n",
       "</pre>\n"
      ],
      "text/plain": [
       "\u001b[1m Trainable params: \u001b[0m\u001b[38;5;34m78,751\u001b[0m (307.62 KB)\n"
      ]
     },
     "metadata": {},
     "output_type": "display_data"
    },
    {
     "data": {
      "text/html": [
       "<pre style=\"white-space:pre;overflow-x:auto;line-height:normal;font-family:Menlo,'DejaVu Sans Mono',consolas,'Courier New',monospace\"><span style=\"font-weight: bold\"> Non-trainable params: </span><span style=\"color: #00af00; text-decoration-color: #00af00\">0</span> (0.00 B)\n",
       "</pre>\n"
      ],
      "text/plain": [
       "\u001b[1m Non-trainable params: \u001b[0m\u001b[38;5;34m0\u001b[0m (0.00 B)\n"
      ]
     },
     "metadata": {},
     "output_type": "display_data"
    },
    {
     "name": "stdout",
     "output_type": "stream",
     "text": [
      "\u001b[31m------------------------------------------------------------------------\u001b[0m\n",
      "\u001b[31m殘差\u001b[0m\n",
      "\u001b[93m# 定義 Model：1\u001b[0m\n",
      "LSTM\n"
     ]
    },
    {
     "data": {
      "text/html": [
       "<pre style=\"white-space:pre;overflow-x:auto;line-height:normal;font-family:Menlo,'DejaVu Sans Mono',consolas,'Courier New',monospace\"><span style=\"font-weight: bold\">Model: \"sequential_8\"</span>\n",
       "</pre>\n"
      ],
      "text/plain": [
       "\u001b[1mModel: \"sequential_8\"\u001b[0m\n"
      ]
     },
     "metadata": {},
     "output_type": "display_data"
    },
    {
     "data": {
      "text/html": [
       "<pre style=\"white-space:pre;overflow-x:auto;line-height:normal;font-family:Menlo,'DejaVu Sans Mono',consolas,'Courier New',monospace\">┏━━━━━━━━━━━━━━━━━━━━━━━━━━━━━━━━━━━━━━┳━━━━━━━━━━━━━━━━━━━━━━━━━━━━━┳━━━━━━━━━━━━━━━━━┓\n",
       "┃<span style=\"font-weight: bold\"> Layer (type)                         </span>┃<span style=\"font-weight: bold\"> Output Shape                </span>┃<span style=\"font-weight: bold\">         Param # </span>┃\n",
       "┡━━━━━━━━━━━━━━━━━━━━━━━━━━━━━━━━━━━━━━╇━━━━━━━━━━━━━━━━━━━━━━━━━━━━━╇━━━━━━━━━━━━━━━━━┩\n",
       "│ lstm_8 (<span style=\"color: #0087ff; text-decoration-color: #0087ff\">LSTM</span>)                        │ (<span style=\"color: #00d7ff; text-decoration-color: #00d7ff\">None</span>, <span style=\"color: #00af00; text-decoration-color: #00af00\">100</span>)                 │          <span style=\"color: #00af00; text-decoration-color: #00af00\">40,800</span> │\n",
       "├──────────────────────────────────────┼─────────────────────────────┼─────────────────┤\n",
       "│ dense_24 (<span style=\"color: #0087ff; text-decoration-color: #0087ff\">Dense</span>)                     │ (<span style=\"color: #00d7ff; text-decoration-color: #00d7ff\">None</span>, <span style=\"color: #00af00; text-decoration-color: #00af00\">150</span>)                 │          <span style=\"color: #00af00; text-decoration-color: #00af00\">15,150</span> │\n",
       "├──────────────────────────────────────┼─────────────────────────────┼─────────────────┤\n",
       "│ dense_25 (<span style=\"color: #0087ff; text-decoration-color: #0087ff\">Dense</span>)                     │ (<span style=\"color: #00d7ff; text-decoration-color: #00d7ff\">None</span>, <span style=\"color: #00af00; text-decoration-color: #00af00\">150</span>)                 │          <span style=\"color: #00af00; text-decoration-color: #00af00\">22,650</span> │\n",
       "├──────────────────────────────────────┼─────────────────────────────┼─────────────────┤\n",
       "│ dense_26 (<span style=\"color: #0087ff; text-decoration-color: #0087ff\">Dense</span>)                     │ (<span style=\"color: #00d7ff; text-decoration-color: #00d7ff\">None</span>, <span style=\"color: #00af00; text-decoration-color: #00af00\">1</span>)                   │             <span style=\"color: #00af00; text-decoration-color: #00af00\">151</span> │\n",
       "└──────────────────────────────────────┴─────────────────────────────┴─────────────────┘\n",
       "</pre>\n"
      ],
      "text/plain": [
       "┏━━━━━━━━━━━━━━━━━━━━━━━━━━━━━━━━━━━━━━┳━━━━━━━━━━━━━━━━━━━━━━━━━━━━━┳━━━━━━━━━━━━━━━━━┓\n",
       "┃\u001b[1m \u001b[0m\u001b[1mLayer (type)                        \u001b[0m\u001b[1m \u001b[0m┃\u001b[1m \u001b[0m\u001b[1mOutput Shape               \u001b[0m\u001b[1m \u001b[0m┃\u001b[1m \u001b[0m\u001b[1m        Param #\u001b[0m\u001b[1m \u001b[0m┃\n",
       "┡━━━━━━━━━━━━━━━━━━━━━━━━━━━━━━━━━━━━━━╇━━━━━━━━━━━━━━━━━━━━━━━━━━━━━╇━━━━━━━━━━━━━━━━━┩\n",
       "│ lstm_8 (\u001b[38;5;33mLSTM\u001b[0m)                        │ (\u001b[38;5;45mNone\u001b[0m, \u001b[38;5;34m100\u001b[0m)                 │          \u001b[38;5;34m40,800\u001b[0m │\n",
       "├──────────────────────────────────────┼─────────────────────────────┼─────────────────┤\n",
       "│ dense_24 (\u001b[38;5;33mDense\u001b[0m)                     │ (\u001b[38;5;45mNone\u001b[0m, \u001b[38;5;34m150\u001b[0m)                 │          \u001b[38;5;34m15,150\u001b[0m │\n",
       "├──────────────────────────────────────┼─────────────────────────────┼─────────────────┤\n",
       "│ dense_25 (\u001b[38;5;33mDense\u001b[0m)                     │ (\u001b[38;5;45mNone\u001b[0m, \u001b[38;5;34m150\u001b[0m)                 │          \u001b[38;5;34m22,650\u001b[0m │\n",
       "├──────────────────────────────────────┼─────────────────────────────┼─────────────────┤\n",
       "│ dense_26 (\u001b[38;5;33mDense\u001b[0m)                     │ (\u001b[38;5;45mNone\u001b[0m, \u001b[38;5;34m1\u001b[0m)                   │             \u001b[38;5;34m151\u001b[0m │\n",
       "└──────────────────────────────────────┴─────────────────────────────┴─────────────────┘\n"
      ]
     },
     "metadata": {},
     "output_type": "display_data"
    },
    {
     "data": {
      "text/html": [
       "<pre style=\"white-space:pre;overflow-x:auto;line-height:normal;font-family:Menlo,'DejaVu Sans Mono',consolas,'Courier New',monospace\"><span style=\"font-weight: bold\"> Total params: </span><span style=\"color: #00af00; text-decoration-color: #00af00\">78,751</span> (307.62 KB)\n",
       "</pre>\n"
      ],
      "text/plain": [
       "\u001b[1m Total params: \u001b[0m\u001b[38;5;34m78,751\u001b[0m (307.62 KB)\n"
      ]
     },
     "metadata": {},
     "output_type": "display_data"
    },
    {
     "data": {
      "text/html": [
       "<pre style=\"white-space:pre;overflow-x:auto;line-height:normal;font-family:Menlo,'DejaVu Sans Mono',consolas,'Courier New',monospace\"><span style=\"font-weight: bold\"> Trainable params: </span><span style=\"color: #00af00; text-decoration-color: #00af00\">78,751</span> (307.62 KB)\n",
       "</pre>\n"
      ],
      "text/plain": [
       "\u001b[1m Trainable params: \u001b[0m\u001b[38;5;34m78,751\u001b[0m (307.62 KB)\n"
      ]
     },
     "metadata": {},
     "output_type": "display_data"
    },
    {
     "data": {
      "text/html": [
       "<pre style=\"white-space:pre;overflow-x:auto;line-height:normal;font-family:Menlo,'DejaVu Sans Mono',consolas,'Courier New',monospace\"><span style=\"font-weight: bold\"> Non-trainable params: </span><span style=\"color: #00af00; text-decoration-color: #00af00\">0</span> (0.00 B)\n",
       "</pre>\n"
      ],
      "text/plain": [
       "\u001b[1m Non-trainable params: \u001b[0m\u001b[38;5;34m0\u001b[0m (0.00 B)\n"
      ]
     },
     "metadata": {},
     "output_type": "display_data"
    }
   ],
   "source": [
    "models = []\n",
    "\n",
    "for i in range(len(x_trains)):\n",
    "    print_step(i + 1)    \n",
    "    \n",
    "    # 定義 Model\n",
    "    model = lstm.build_model(\n",
    "        model_type = model_type,\n",
    "        time_step = past_day,\n",
    "        n_predictions = future_day\n",
    "    )\n",
    "    \n",
    "    models.append(model)"
   ]
  },
  {
   "cell_type": "markdown",
   "id": "295dee70",
   "metadata": {
    "id": "8aZNVtRBbDOm",
    "papermill": {
     "duration": 0.005429,
     "end_time": "2024-10-26T11:10:46.225481",
     "exception": false,
     "start_time": "2024-10-26T11:10:46.220052",
     "status": "completed"
    },
    "tags": []
   },
   "source": [
    "# 訓練"
   ]
  },
  {
   "cell_type": "code",
   "execution_count": 11,
   "id": "eb4cda74",
   "metadata": {
    "execution": {
     "iopub.execute_input": "2024-10-26T11:10:46.236696Z",
     "iopub.status.busy": "2024-10-26T11:10:46.236596Z",
     "iopub.status.idle": "2024-10-26T11:11:49.665037Z",
     "shell.execute_reply": "2024-10-26T11:11:49.664719Z"
    },
    "papermill": {
     "duration": 63.435054,
     "end_time": "2024-10-26T11:11:49.665895",
     "exception": false,
     "start_time": "2024-10-26T11:10:46.230841",
     "status": "completed"
    },
    "tags": []
   },
   "outputs": [
    {
     "name": "stdout",
     "output_type": "stream",
     "text": [
      "\u001b[31m------------------------------------------------------------------------\u001b[0m\n",
      "\u001b[31m第 1 個 IMF\u001b[0m\n",
      "\u001b[31m------------------------------------------------------------------------\u001b[0m\n",
      "\u001b[93m# 訓練 Model\u001b[0m\n",
      "EarlyStopping => mointor: val_loss，patience: 50\n"
     ]
    },
    {
     "name": "stdout",
     "output_type": "stream",
     "text": [
      "\u001b[31m------------------------------------------------------------------------\u001b[0m\n",
      "\u001b[31m第 2 個 IMF\u001b[0m\n",
      "\u001b[31m------------------------------------------------------------------------\u001b[0m\n",
      "\u001b[93m# 訓練 Model\u001b[0m\n",
      "EarlyStopping => mointor: val_loss，patience: 50\n"
     ]
    },
    {
     "name": "stdout",
     "output_type": "stream",
     "text": [
      "\u001b[31m------------------------------------------------------------------------\u001b[0m\n",
      "\u001b[31m第 3 個 IMF\u001b[0m\n",
      "\u001b[31m------------------------------------------------------------------------\u001b[0m\n",
      "\u001b[93m# 訓練 Model\u001b[0m\n",
      "EarlyStopping => mointor: val_loss，patience: 50\n"
     ]
    },
    {
     "name": "stdout",
     "output_type": "stream",
     "text": [
      "\u001b[31m------------------------------------------------------------------------\u001b[0m\n",
      "\u001b[31m第 4 個 IMF\u001b[0m\n",
      "\u001b[31m------------------------------------------------------------------------\u001b[0m\n",
      "\u001b[93m# 訓練 Model\u001b[0m\n",
      "EarlyStopping => mointor: val_loss，patience: 50\n"
     ]
    },
    {
     "name": "stdout",
     "output_type": "stream",
     "text": [
      "\u001b[31m------------------------------------------------------------------------\u001b[0m\n",
      "\u001b[31m第 5 個 IMF\u001b[0m\n",
      "\u001b[31m------------------------------------------------------------------------\u001b[0m\n",
      "\u001b[93m# 訓練 Model\u001b[0m\n",
      "EarlyStopping => mointor: val_loss，patience: 50\n"
     ]
    },
    {
     "name": "stdout",
     "output_type": "stream",
     "text": [
      "\u001b[31m------------------------------------------------------------------------\u001b[0m\n",
      "\u001b[31m第 6 個 IMF\u001b[0m\n",
      "\u001b[31m------------------------------------------------------------------------\u001b[0m\n",
      "\u001b[93m# 訓練 Model\u001b[0m\n",
      "EarlyStopping => mointor: val_loss，patience: 50\n"
     ]
    },
    {
     "name": "stdout",
     "output_type": "stream",
     "text": [
      "\u001b[31m------------------------------------------------------------------------\u001b[0m\n",
      "\u001b[31m第 7 個 IMF\u001b[0m\n",
      "\u001b[31m------------------------------------------------------------------------\u001b[0m\n",
      "\u001b[93m# 訓練 Model\u001b[0m\n",
      "EarlyStopping => mointor: val_loss，patience: 50\n"
     ]
    },
    {
     "name": "stdout",
     "output_type": "stream",
     "text": [
      "\u001b[31m------------------------------------------------------------------------\u001b[0m\n",
      "\u001b[31m第 8 個 IMF\u001b[0m\n",
      "\u001b[31m------------------------------------------------------------------------\u001b[0m\n",
      "\u001b[93m# 訓練 Model\u001b[0m\n",
      "EarlyStopping => mointor: val_loss，patience: 50\n"
     ]
    },
    {
     "name": "stdout",
     "output_type": "stream",
     "text": [
      "\u001b[31m------------------------------------------------------------------------\u001b[0m\n",
      "\u001b[31m殘差\u001b[0m\n",
      "\u001b[93m# 訓練 Model\u001b[0m\n",
      "EarlyStopping => mointor: val_loss，patience: 50\n"
     ]
    }
   ],
   "source": [
    "train_historys = []\n",
    "\n",
    "for i in range(len(models)):\n",
    "    print_step(i + 1) \n",
    "        \n",
    "    train_history = lstm.model_fit(\n",
    "        model = models[i],\n",
    "        batch_size = batch_size,\n",
    "        x_train = x_lstm_trains[i],\n",
    "        y_train = y_lstm_trains[i],\n",
    "        x_val = x_lstm_vals[i],\n",
    "        y_val = y_lstm_vals[i],\n",
    "    ) \n",
    "    \n",
    "    train_historys.append(train_history) "
   ]
  },
  {
   "cell_type": "markdown",
   "id": "b8a88b08",
   "metadata": {
    "papermill": {
     "duration": 0.005763,
     "end_time": "2024-10-26T11:11:49.677938",
     "exception": false,
     "start_time": "2024-10-26T11:11:49.672175",
     "status": "completed"
    },
    "tags": []
   },
   "source": [
    "# 儲存模型"
   ]
  },
  {
   "cell_type": "code",
   "execution_count": 12,
   "id": "268150b4",
   "metadata": {
    "execution": {
     "iopub.execute_input": "2024-10-26T11:11:49.689582Z",
     "iopub.status.busy": "2024-10-26T11:11:49.689479Z",
     "iopub.status.idle": "2024-10-26T11:11:49.768248Z",
     "shell.execute_reply": "2024-10-26T11:11:49.767995Z"
    },
    "papermill": {
     "duration": 0.085407,
     "end_time": "2024-10-26T11:11:49.768912",
     "exception": false,
     "start_time": "2024-10-26T11:11:49.683505",
     "status": "completed"
    },
    "tags": []
   },
   "outputs": [
    {
     "name": "stdout",
     "output_type": "stream",
     "text": [
      "\u001b[31m------------------------------------------------------------------------\u001b[0m\n",
      "\u001b[31m第 1 個 IMF\u001b[0m\n",
      "\u001b[31m------------------------------------------------------------------------\u001b[0m\n",
      "儲存模型到 DecompEEMD/_Model/GroupCount_mt1_data5_batch14.model.1.keras\n",
      "\u001b[31m------------------------------------------------------------------------\u001b[0m\n",
      "\u001b[31m第 2 個 IMF\u001b[0m\n",
      "\u001b[31m------------------------------------------------------------------------\u001b[0m\n",
      "儲存模型到 DecompEEMD/_Model/GroupCount_mt1_data5_batch14.model.2.keras\n",
      "\u001b[31m------------------------------------------------------------------------\u001b[0m\n",
      "\u001b[31m第 3 個 IMF\u001b[0m\n",
      "\u001b[31m------------------------------------------------------------------------\u001b[0m\n",
      "儲存模型到 DecompEEMD/_Model/GroupCount_mt1_data5_batch14.model.3.keras\n",
      "\u001b[31m------------------------------------------------------------------------\u001b[0m\n",
      "\u001b[31m第 4 個 IMF\u001b[0m\n",
      "\u001b[31m------------------------------------------------------------------------\u001b[0m\n",
      "儲存模型到 DecompEEMD/_Model/GroupCount_mt1_data5_batch14.model.4.keras\n",
      "\u001b[31m------------------------------------------------------------------------\u001b[0m\n",
      "\u001b[31m第 5 個 IMF\u001b[0m\n",
      "\u001b[31m------------------------------------------------------------------------\u001b[0m\n",
      "儲存模型到 DecompEEMD/_Model/GroupCount_mt1_data5_batch14.model.5.keras\n",
      "\u001b[31m------------------------------------------------------------------------\u001b[0m\n",
      "\u001b[31m第 6 個 IMF\u001b[0m\n",
      "\u001b[31m------------------------------------------------------------------------\u001b[0m\n",
      "儲存模型到 DecompEEMD/_Model/GroupCount_mt1_data5_batch14.model.6.keras\n",
      "\u001b[31m------------------------------------------------------------------------\u001b[0m\n",
      "\u001b[31m第 7 個 IMF\u001b[0m\n",
      "\u001b[31m------------------------------------------------------------------------\u001b[0m\n",
      "儲存模型到 DecompEEMD/_Model/GroupCount_mt1_data5_batch14.model.7.keras\n",
      "\u001b[31m------------------------------------------------------------------------\u001b[0m\n",
      "\u001b[31m第 8 個 IMF\u001b[0m\n",
      "\u001b[31m------------------------------------------------------------------------\u001b[0m\n",
      "儲存模型到 DecompEEMD/_Model/GroupCount_mt1_data5_batch14.model.8.keras\n",
      "\u001b[31m------------------------------------------------------------------------\u001b[0m\n",
      "\u001b[31m殘差\u001b[0m\n",
      "儲存模型到 DecompEEMD/_Model/GroupCount_mt1_data5_batch14.model.9.keras\n"
     ]
    }
   ],
   "source": [
    "for i in range(len(models)):\n",
    "    print_step(i + 1)   \n",
    "\n",
    "    file_name = f'{model_file_name.replace(\".keras\", f\".{i + 1}.keras\")}'\n",
    "    models[i].save(file_name)\n",
    "    print(f'儲存模型到 {file_name}')"
   ]
  },
  {
   "cell_type": "markdown",
   "id": "2680aab3",
   "metadata": {
    "id": "StSWwUTn-s3u",
    "papermill": {
     "duration": 0.005682,
     "end_time": "2024-10-26T11:11:49.780597",
     "exception": false,
     "start_time": "2024-10-26T11:11:49.774915",
     "status": "completed"
    },
    "tags": []
   },
   "source": [
    "# 預測"
   ]
  },
  {
   "cell_type": "code",
   "execution_count": 13,
   "id": "479ac37c",
   "metadata": {
    "execution": {
     "iopub.execute_input": "2024-10-26T11:11:49.792274Z",
     "iopub.status.busy": "2024-10-26T11:11:49.792165Z",
     "iopub.status.idle": "2024-10-26T11:11:51.289698Z",
     "shell.execute_reply": "2024-10-26T11:11:51.289400Z"
    },
    "papermill": {
     "duration": 1.504196,
     "end_time": "2024-10-26T11:11:51.290387",
     "exception": false,
     "start_time": "2024-10-26T11:11:49.786191",
     "status": "completed"
    },
    "tags": []
   },
   "outputs": [
    {
     "name": "stdout",
     "output_type": "stream",
     "text": [
      "\u001b[31m------------------------------------------------------------------------\u001b[0m\n",
      "\u001b[31m第 1 個 IMF\u001b[0m\n",
      "\u001b[31m------------------------------------------------------------------------\u001b[0m\n",
      "\u001b[93m# 預測\u001b[0m\n",
      "\r",
      "\u001b[1m 1/10\u001b[0m \u001b[32m━━\u001b[0m\u001b[37m━━━━━━━━━━━━━━━━━━\u001b[0m \u001b[1m0s\u001b[0m 53ms/step"
     ]
    },
    {
     "name": "stdout",
     "output_type": "stream",
     "text": [
      "\b\b\b\b\b\b\b\b\b\b\b\b\b\b\b\b\b\b\b\b\b\b\b\b\b\b\b\b\b\b\b\b\b\b\b\b\b\b\b\r",
      "\u001b[1m10/10\u001b[0m \u001b[32m━━━━━━━━━━━━━━━━━━━━\u001b[0m\u001b[37m\u001b[0m \u001b[1m0s\u001b[0m 7ms/step "
     ]
    },
    {
     "name": "stdout",
     "output_type": "stream",
     "text": [
      "\b\b\b\b\b\b\b\b\b\b\b\b\b\b\b\b\b\b\b\b\b\b\b\b\b\b\b\b\b\b\b\b\b\b\b\b\b\b\r",
      "\u001b[1m10/10\u001b[0m \u001b[32m━━━━━━━━━━━━━━━━━━━━\u001b[0m\u001b[37m\u001b[0m \u001b[1m0s\u001b[0m 7ms/step\n"
     ]
    },
    {
     "name": "stdout",
     "output_type": "stream",
     "text": [
      "預測 shape : (301, 1)\n",
      "預測 train.shape : (301, 1)\n",
      "\u001b[93m# 預測\u001b[0m\n",
      "\r",
      "\u001b[1m1/1\u001b[0m \u001b[32m━━━━━━━━━━━━━━━━━━━━\u001b[0m\u001b[37m\u001b[0m \u001b[1m0s\u001b[0m 7ms/step"
     ]
    },
    {
     "name": "stdout",
     "output_type": "stream",
     "text": [
      "\b\b\b\b\b\b\b\b\b\b\b\b\b\b\b\b\b\b\b\b\b\b\b\b\b\b\b\b\b\b\b\b\b\b\b\b\r",
      "\u001b[1m1/1\u001b[0m \u001b[32m━━━━━━━━━━━━━━━━━━━━\u001b[0m\u001b[37m\u001b[0m \u001b[1m0s\u001b[0m 8ms/step\n"
     ]
    },
    {
     "name": "stdout",
     "output_type": "stream",
     "text": [
      "預測 shape : (24, 1)\n",
      "預測 val.shape : (24, 1)\n",
      "\u001b[93m# 預測\u001b[0m\n",
      "\r",
      "\u001b[1m1/1\u001b[0m \u001b[32m━━━━━━━━━━━━━━━━━━━━\u001b[0m\u001b[37m\u001b[0m \u001b[1m0s\u001b[0m 7ms/step"
     ]
    },
    {
     "name": "stdout",
     "output_type": "stream",
     "text": [
      "\b\b\b\b\b\b\b\b\b\b\b\b\b\b\b\b\b\b\b\b\b\b\b\b\b\b\b\b\b\b\b\b\b\b\b\b\r",
      "\u001b[1m1/1\u001b[0m \u001b[32m━━━━━━━━━━━━━━━━━━━━\u001b[0m\u001b[37m\u001b[0m \u001b[1m0s\u001b[0m 8ms/step\n"
     ]
    },
    {
     "name": "stdout",
     "output_type": "stream",
     "text": [
      "預測 shape : (25, 1)\n",
      "預測 test.shape : (25, 1)\n",
      "\u001b[31m------------------------------------------------------------------------\u001b[0m\n",
      "\u001b[31m第 2 個 IMF\u001b[0m\n",
      "\u001b[31m------------------------------------------------------------------------\u001b[0m\n",
      "\u001b[93m# 預測\u001b[0m\n"
     ]
    },
    {
     "name": "stdout",
     "output_type": "stream",
     "text": [
      "\r",
      "\u001b[1m 1/10\u001b[0m \u001b[32m━━\u001b[0m\u001b[37m━━━━━━━━━━━━━━━━━━\u001b[0m \u001b[1m0s\u001b[0m 53ms/step"
     ]
    },
    {
     "name": "stdout",
     "output_type": "stream",
     "text": [
      "\b\b\b\b\b\b\b\b\b\b\b\b\b\b\b\b\b\b\b\b\b\b\b\b\b\b\b\b\b\b\b\b\b\b\b\b\b\b\b\r",
      "\u001b[1m10/10\u001b[0m \u001b[32m━━━━━━━━━━━━━━━━━━━━\u001b[0m\u001b[37m\u001b[0m \u001b[1m0s\u001b[0m 7ms/step "
     ]
    },
    {
     "name": "stdout",
     "output_type": "stream",
     "text": [
      "\b\b\b\b\b\b\b\b\b\b\b\b\b\b\b\b\b\b\b\b\b\b\b\b\b\b\b\b\b\b\b\b\b\b\b\b\b\b\r",
      "\u001b[1m10/10\u001b[0m \u001b[32m━━━━━━━━━━━━━━━━━━━━\u001b[0m\u001b[37m\u001b[0m \u001b[1m0s\u001b[0m 7ms/step\n"
     ]
    },
    {
     "name": "stdout",
     "output_type": "stream",
     "text": [
      "預測 shape : (301, 1)\n",
      "預測 train.shape : (301, 1)\n",
      "\u001b[93m# 預測\u001b[0m\n",
      "\r",
      "\u001b[1m1/1\u001b[0m \u001b[32m━━━━━━━━━━━━━━━━━━━━\u001b[0m\u001b[37m\u001b[0m \u001b[1m0s\u001b[0m 7ms/step"
     ]
    },
    {
     "name": "stdout",
     "output_type": "stream",
     "text": [
      "\b\b\b\b\b\b\b\b\b\b\b\b\b\b\b\b\b\b\b\b\b\b\b\b\b\b\b\b\b\b\b\b\b\b\b\b\r",
      "\u001b[1m1/1\u001b[0m \u001b[32m━━━━━━━━━━━━━━━━━━━━\u001b[0m\u001b[37m\u001b[0m \u001b[1m0s\u001b[0m 7ms/step\n"
     ]
    },
    {
     "name": "stdout",
     "output_type": "stream",
     "text": [
      "預測 shape : (24, 1)\n",
      "預測 val.shape : (24, 1)\n",
      "\u001b[93m# 預測\u001b[0m\n"
     ]
    },
    {
     "name": "stdout",
     "output_type": "stream",
     "text": [
      "\r",
      "\u001b[1m1/1\u001b[0m \u001b[32m━━━━━━━━━━━━━━━━━━━━\u001b[0m\u001b[37m\u001b[0m \u001b[1m0s\u001b[0m 7ms/step"
     ]
    },
    {
     "name": "stdout",
     "output_type": "stream",
     "text": [
      "\b\b\b\b\b\b\b\b\b\b\b\b\b\b\b\b\b\b\b\b\b\b\b\b\b\b\b\b\b\b\b\b\b\b\b\b\r",
      "\u001b[1m1/1\u001b[0m \u001b[32m━━━━━━━━━━━━━━━━━━━━\u001b[0m\u001b[37m\u001b[0m \u001b[1m0s\u001b[0m 8ms/step\n"
     ]
    },
    {
     "name": "stdout",
     "output_type": "stream",
     "text": [
      "預測 shape : (25, 1)\n",
      "預測 test.shape : (25, 1)\n",
      "\u001b[31m------------------------------------------------------------------------\u001b[0m\n",
      "\u001b[31m第 3 個 IMF\u001b[0m\n",
      "\u001b[31m------------------------------------------------------------------------\u001b[0m\n",
      "\u001b[93m# 預測\u001b[0m\n"
     ]
    },
    {
     "name": "stdout",
     "output_type": "stream",
     "text": [
      "\r",
      "\u001b[1m 1/10\u001b[0m \u001b[32m━━\u001b[0m\u001b[37m━━━━━━━━━━━━━━━━━━\u001b[0m \u001b[1m0s\u001b[0m 53ms/step"
     ]
    },
    {
     "name": "stdout",
     "output_type": "stream",
     "text": [
      "\b\b\b\b\b\b\b\b\b\b\b\b\b\b\b\b\b\b\b\b\b\b\b\b\b\b\b\b\b\b\b\b\b\b\b\b\b\b\b\r",
      "\u001b[1m10/10\u001b[0m \u001b[32m━━━━━━━━━━━━━━━━━━━━\u001b[0m\u001b[37m\u001b[0m \u001b[1m0s\u001b[0m 7ms/step "
     ]
    },
    {
     "name": "stdout",
     "output_type": "stream",
     "text": [
      "\b\b\b\b\b\b\b\b\b\b\b\b\b\b\b\b\b\b\b\b\b\b\b\b\b\b\b\b\b\b\b\b\b\b\b\b\b\b\r",
      "\u001b[1m10/10\u001b[0m \u001b[32m━━━━━━━━━━━━━━━━━━━━\u001b[0m\u001b[37m\u001b[0m \u001b[1m0s\u001b[0m 7ms/step\n"
     ]
    },
    {
     "name": "stdout",
     "output_type": "stream",
     "text": [
      "預測 shape : (301, 1)\n",
      "預測 train.shape : (301, 1)\n",
      "\u001b[93m# 預測\u001b[0m\n",
      "\r",
      "\u001b[1m1/1\u001b[0m \u001b[32m━━━━━━━━━━━━━━━━━━━━\u001b[0m\u001b[37m\u001b[0m \u001b[1m0s\u001b[0m 7ms/step"
     ]
    },
    {
     "name": "stdout",
     "output_type": "stream",
     "text": [
      "\b\b\b\b\b\b\b\b\b\b\b\b\b\b\b\b\b\b\b\b\b\b\b\b\b\b\b\b\b\b\b\b\b\b\b\b\r",
      "\u001b[1m1/1\u001b[0m \u001b[32m━━━━━━━━━━━━━━━━━━━━\u001b[0m\u001b[37m\u001b[0m \u001b[1m0s\u001b[0m 8ms/step\n"
     ]
    },
    {
     "name": "stdout",
     "output_type": "stream",
     "text": [
      "預測 shape : (24, 1)\n",
      "預測 val.shape : (24, 1)\n",
      "\u001b[93m# 預測\u001b[0m\n"
     ]
    },
    {
     "name": "stdout",
     "output_type": "stream",
     "text": [
      "\r",
      "\u001b[1m1/1\u001b[0m \u001b[32m━━━━━━━━━━━━━━━━━━━━\u001b[0m\u001b[37m\u001b[0m \u001b[1m0s\u001b[0m 7ms/step"
     ]
    },
    {
     "name": "stdout",
     "output_type": "stream",
     "text": [
      "\b\b\b\b\b\b\b\b\b\b\b\b\b\b\b\b\b\b\b\b\b\b\b\b\b\b\b\b\b\b\b\b\b\b\b\b\r",
      "\u001b[1m1/1\u001b[0m \u001b[32m━━━━━━━━━━━━━━━━━━━━\u001b[0m\u001b[37m\u001b[0m \u001b[1m0s\u001b[0m 8ms/step\n"
     ]
    },
    {
     "name": "stdout",
     "output_type": "stream",
     "text": [
      "預測 shape : (25, 1)\n",
      "預測 test.shape : (25, 1)\n",
      "\u001b[31m------------------------------------------------------------------------\u001b[0m\n",
      "\u001b[31m第 4 個 IMF\u001b[0m\n",
      "\u001b[31m------------------------------------------------------------------------\u001b[0m\n",
      "\u001b[93m# 預測\u001b[0m\n"
     ]
    },
    {
     "name": "stdout",
     "output_type": "stream",
     "text": [
      "\r",
      "\u001b[1m 1/10\u001b[0m \u001b[32m━━\u001b[0m\u001b[37m━━━━━━━━━━━━━━━━━━\u001b[0m \u001b[1m0s\u001b[0m 54ms/step"
     ]
    },
    {
     "name": "stdout",
     "output_type": "stream",
     "text": [
      "\b\b\b\b\b\b\b\b\b\b\b\b\b\b\b\b\b\b\b\b\b\b\b\b\b\b\b\b\b\b\b\b\b\b\b\b\b\b\b\r",
      "\u001b[1m10/10\u001b[0m \u001b[32m━━━━━━━━━━━━━━━━━━━━\u001b[0m\u001b[37m\u001b[0m \u001b[1m0s\u001b[0m 7ms/step "
     ]
    },
    {
     "name": "stdout",
     "output_type": "stream",
     "text": [
      "\b\b\b\b\b\b\b\b\b\b\b\b\b\b\b\b\b\b\b\b\b\b\b\b\b\b\b\b\b\b\b\b\b\b\b\b\b\b\r",
      "\u001b[1m10/10\u001b[0m \u001b[32m━━━━━━━━━━━━━━━━━━━━\u001b[0m\u001b[37m\u001b[0m \u001b[1m0s\u001b[0m 7ms/step\n"
     ]
    },
    {
     "name": "stdout",
     "output_type": "stream",
     "text": [
      "預測 shape : (301, 1)\n",
      "預測 train.shape : (301, 1)\n",
      "\u001b[93m# 預測\u001b[0m\n",
      "\r",
      "\u001b[1m1/1\u001b[0m \u001b[32m━━━━━━━━━━━━━━━━━━━━\u001b[0m\u001b[37m\u001b[0m \u001b[1m0s\u001b[0m 7ms/step"
     ]
    },
    {
     "name": "stdout",
     "output_type": "stream",
     "text": [
      "\b\b\b\b\b\b\b\b\b\b\b\b\b\b\b\b\b\b\b\b\b\b\b\b\b\b\b\b\b\b\b\b\b\b\b\b\r",
      "\u001b[1m1/1\u001b[0m \u001b[32m━━━━━━━━━━━━━━━━━━━━\u001b[0m\u001b[37m\u001b[0m \u001b[1m0s\u001b[0m 8ms/step\n"
     ]
    },
    {
     "name": "stdout",
     "output_type": "stream",
     "text": [
      "預測 shape : (24, 1)\n",
      "預測 val.shape : (24, 1)\n",
      "\u001b[93m# 預測\u001b[0m\n"
     ]
    },
    {
     "name": "stdout",
     "output_type": "stream",
     "text": [
      "\r",
      "\u001b[1m1/1\u001b[0m \u001b[32m━━━━━━━━━━━━━━━━━━━━\u001b[0m\u001b[37m\u001b[0m \u001b[1m0s\u001b[0m 7ms/step"
     ]
    },
    {
     "name": "stdout",
     "output_type": "stream",
     "text": [
      "\b\b\b\b\b\b\b\b\b\b\b\b\b\b\b\b\b\b\b\b\b\b\b\b\b\b\b\b\b\b\b\b\b\b\b\b\r",
      "\u001b[1m1/1\u001b[0m \u001b[32m━━━━━━━━━━━━━━━━━━━━\u001b[0m\u001b[37m\u001b[0m \u001b[1m0s\u001b[0m 8ms/step\n"
     ]
    },
    {
     "name": "stdout",
     "output_type": "stream",
     "text": [
      "預測 shape : (25, 1)\n",
      "預測 test.shape : (25, 1)\n",
      "\u001b[31m------------------------------------------------------------------------\u001b[0m\n",
      "\u001b[31m第 5 個 IMF\u001b[0m\n",
      "\u001b[31m------------------------------------------------------------------------\u001b[0m\n",
      "\u001b[93m# 預測\u001b[0m\n"
     ]
    },
    {
     "name": "stdout",
     "output_type": "stream",
     "text": [
      "\r",
      "\u001b[1m 1/10\u001b[0m \u001b[32m━━\u001b[0m\u001b[37m━━━━━━━━━━━━━━━━━━\u001b[0m \u001b[1m0s\u001b[0m 54ms/step"
     ]
    },
    {
     "name": "stdout",
     "output_type": "stream",
     "text": [
      "\b\b\b\b\b\b\b\b\b\b\b\b\b\b\b\b\b\b\b\b\b\b\b\b\b\b\b\b\b\b\b\b\b\b\b\b\b\b\b\r",
      "\u001b[1m10/10\u001b[0m \u001b[32m━━━━━━━━━━━━━━━━━━━━\u001b[0m\u001b[37m\u001b[0m \u001b[1m0s\u001b[0m 7ms/step "
     ]
    },
    {
     "name": "stdout",
     "output_type": "stream",
     "text": [
      "\b\b\b\b\b\b\b\b\b\b\b\b\b\b\b\b\b\b\b\b\b\b\b\b\b\b\b\b\b\b\b\b\b\b\b\b\b\b\r",
      "\u001b[1m10/10\u001b[0m \u001b[32m━━━━━━━━━━━━━━━━━━━━\u001b[0m\u001b[37m\u001b[0m \u001b[1m0s\u001b[0m 7ms/step\n"
     ]
    },
    {
     "name": "stdout",
     "output_type": "stream",
     "text": [
      "預測 shape : (301, 1)\n",
      "預測 train.shape : (301, 1)\n",
      "\u001b[93m# 預測\u001b[0m\n",
      "\r",
      "\u001b[1m1/1\u001b[0m \u001b[32m━━━━━━━━━━━━━━━━━━━━\u001b[0m\u001b[37m\u001b[0m \u001b[1m0s\u001b[0m 7ms/step"
     ]
    },
    {
     "name": "stdout",
     "output_type": "stream",
     "text": [
      "\b\b\b\b\b\b\b\b\b\b\b\b\b\b\b\b\b\b\b\b\b\b\b\b\b\b\b\b\b\b\b\b\b\b\b\b\r",
      "\u001b[1m1/1\u001b[0m \u001b[32m━━━━━━━━━━━━━━━━━━━━\u001b[0m\u001b[37m\u001b[0m \u001b[1m0s\u001b[0m 8ms/step\n"
     ]
    },
    {
     "name": "stdout",
     "output_type": "stream",
     "text": [
      "預測 shape : (24, 1)\n",
      "預測 val.shape : (24, 1)\n",
      "\u001b[93m# 預測\u001b[0m\n"
     ]
    },
    {
     "name": "stdout",
     "output_type": "stream",
     "text": [
      "\r",
      "\u001b[1m1/1\u001b[0m \u001b[32m━━━━━━━━━━━━━━━━━━━━\u001b[0m\u001b[37m\u001b[0m \u001b[1m0s\u001b[0m 7ms/step"
     ]
    },
    {
     "name": "stdout",
     "output_type": "stream",
     "text": [
      "\b\b\b\b\b\b\b\b\b\b\b\b\b\b\b\b\b\b\b\b\b\b\b\b\b\b\b\b\b\b\b\b\b\b\b\b\r",
      "\u001b[1m1/1\u001b[0m \u001b[32m━━━━━━━━━━━━━━━━━━━━\u001b[0m\u001b[37m\u001b[0m \u001b[1m0s\u001b[0m 8ms/step\n"
     ]
    },
    {
     "name": "stdout",
     "output_type": "stream",
     "text": [
      "預測 shape : (25, 1)\n",
      "預測 test.shape : (25, 1)\n",
      "\u001b[31m------------------------------------------------------------------------\u001b[0m\n",
      "\u001b[31m第 6 個 IMF\u001b[0m\n",
      "\u001b[31m------------------------------------------------------------------------\u001b[0m\n",
      "\u001b[93m# 預測\u001b[0m\n"
     ]
    },
    {
     "name": "stdout",
     "output_type": "stream",
     "text": [
      "\r",
      "\u001b[1m 1/10\u001b[0m \u001b[32m━━\u001b[0m\u001b[37m━━━━━━━━━━━━━━━━━━\u001b[0m \u001b[1m0s\u001b[0m 54ms/step"
     ]
    },
    {
     "name": "stdout",
     "output_type": "stream",
     "text": [
      "\b\b\b\b\b\b\b\b\b\b\b\b\b\b\b\b\b\b\b\b\b\b\b\b\b\b\b\b\b\b\b\b\b\b\b\b\b\b\b\r",
      "\u001b[1m10/10\u001b[0m \u001b[32m━━━━━━━━━━━━━━━━━━━━\u001b[0m\u001b[37m\u001b[0m \u001b[1m0s\u001b[0m 7ms/step "
     ]
    },
    {
     "name": "stdout",
     "output_type": "stream",
     "text": [
      "\b\b\b\b\b\b\b\b\b\b\b\b\b\b\b\b\b\b\b\b\b\b\b\b\b\b\b\b\b\b\b\b\b\b\b\b\b\b\r",
      "\u001b[1m10/10\u001b[0m \u001b[32m━━━━━━━━━━━━━━━━━━━━\u001b[0m\u001b[37m\u001b[0m \u001b[1m0s\u001b[0m 7ms/step\n"
     ]
    },
    {
     "name": "stdout",
     "output_type": "stream",
     "text": [
      "預測 shape : (301, 1)\n",
      "預測 train.shape : (301, 1)\n",
      "\u001b[93m# 預測\u001b[0m\n",
      "\r",
      "\u001b[1m1/1\u001b[0m \u001b[32m━━━━━━━━━━━━━━━━━━━━\u001b[0m\u001b[37m\u001b[0m \u001b[1m0s\u001b[0m 7ms/step"
     ]
    },
    {
     "name": "stdout",
     "output_type": "stream",
     "text": [
      "\b\b\b\b\b\b\b\b\b\b\b\b\b\b\b\b\b\b\b\b\b\b\b\b\b\b\b\b\b\b\b\b\b\b\b\b\r",
      "\u001b[1m1/1\u001b[0m \u001b[32m━━━━━━━━━━━━━━━━━━━━\u001b[0m\u001b[37m\u001b[0m \u001b[1m0s\u001b[0m 8ms/step\n"
     ]
    },
    {
     "name": "stdout",
     "output_type": "stream",
     "text": [
      "預測 shape : (24, 1)\n",
      "預測 val.shape : (24, 1)\n",
      "\u001b[93m# 預測\u001b[0m\n"
     ]
    },
    {
     "name": "stdout",
     "output_type": "stream",
     "text": [
      "\r",
      "\u001b[1m1/1\u001b[0m \u001b[32m━━━━━━━━━━━━━━━━━━━━\u001b[0m\u001b[37m\u001b[0m \u001b[1m0s\u001b[0m 7ms/step"
     ]
    },
    {
     "name": "stdout",
     "output_type": "stream",
     "text": [
      "\b\b\b\b\b\b\b\b\b\b\b\b\b\b\b\b\b\b\b\b\b\b\b\b\b\b\b\b\b\b\b\b\b\b\b\b\r",
      "\u001b[1m1/1\u001b[0m \u001b[32m━━━━━━━━━━━━━━━━━━━━\u001b[0m\u001b[37m\u001b[0m \u001b[1m0s\u001b[0m 8ms/step\n"
     ]
    },
    {
     "name": "stdout",
     "output_type": "stream",
     "text": [
      "預測 shape : (25, 1)\n",
      "預測 test.shape : (25, 1)\n",
      "\u001b[31m------------------------------------------------------------------------\u001b[0m\n",
      "\u001b[31m第 7 個 IMF\u001b[0m\n",
      "\u001b[31m------------------------------------------------------------------------\u001b[0m\n",
      "\u001b[93m# 預測\u001b[0m\n"
     ]
    },
    {
     "name": "stdout",
     "output_type": "stream",
     "text": [
      "\r",
      "\u001b[1m 1/10\u001b[0m \u001b[32m━━\u001b[0m\u001b[37m━━━━━━━━━━━━━━━━━━\u001b[0m \u001b[1m0s\u001b[0m 53ms/step"
     ]
    },
    {
     "name": "stdout",
     "output_type": "stream",
     "text": [
      "\b\b\b\b\b\b\b\b\b\b\b\b\b\b\b\b\b\b\b\b\b\b\b\b\b\b\b\b\b\b\b\b\b\b\b\b\b\b\b\r",
      "\u001b[1m10/10\u001b[0m \u001b[32m━━━━━━━━━━━━━━━━━━━━\u001b[0m\u001b[37m\u001b[0m \u001b[1m0s\u001b[0m 7ms/step "
     ]
    },
    {
     "name": "stdout",
     "output_type": "stream",
     "text": [
      "\b\b\b\b\b\b\b\b\b\b\b\b\b\b\b\b\b\b\b\b\b\b\b\b\b\b\b\b\b\b\b\b\b\b\b\b\b\b\r",
      "\u001b[1m10/10\u001b[0m \u001b[32m━━━━━━━━━━━━━━━━━━━━\u001b[0m\u001b[37m\u001b[0m \u001b[1m0s\u001b[0m 7ms/step\n"
     ]
    },
    {
     "name": "stdout",
     "output_type": "stream",
     "text": [
      "預測 shape : (301, 1)\n",
      "預測 train.shape : (301, 1)\n",
      "\u001b[93m# 預測\u001b[0m\n",
      "\r",
      "\u001b[1m1/1\u001b[0m \u001b[32m━━━━━━━━━━━━━━━━━━━━\u001b[0m\u001b[37m\u001b[0m \u001b[1m0s\u001b[0m 7ms/step"
     ]
    },
    {
     "name": "stdout",
     "output_type": "stream",
     "text": [
      "\b\b\b\b\b\b\b\b\b\b\b\b\b\b\b\b\b\b\b\b\b\b\b\b\b\b\b\b\b\b\b\b\b\b\b\b\r",
      "\u001b[1m1/1\u001b[0m \u001b[32m━━━━━━━━━━━━━━━━━━━━\u001b[0m\u001b[37m\u001b[0m \u001b[1m0s\u001b[0m 8ms/step\n"
     ]
    },
    {
     "name": "stdout",
     "output_type": "stream",
     "text": [
      "預測 shape : (24, 1)\n",
      "預測 val.shape : (24, 1)\n",
      "\u001b[93m# 預測\u001b[0m\n"
     ]
    },
    {
     "name": "stdout",
     "output_type": "stream",
     "text": [
      "\r",
      "\u001b[1m1/1\u001b[0m \u001b[32m━━━━━━━━━━━━━━━━━━━━\u001b[0m\u001b[37m\u001b[0m \u001b[1m0s\u001b[0m 7ms/step"
     ]
    },
    {
     "name": "stdout",
     "output_type": "stream",
     "text": [
      "\b\b\b\b\b\b\b\b\b\b\b\b\b\b\b\b\b\b\b\b\b\b\b\b\b\b\b\b\b\b\b\b\b\b\b\b\r",
      "\u001b[1m1/1\u001b[0m \u001b[32m━━━━━━━━━━━━━━━━━━━━\u001b[0m\u001b[37m\u001b[0m \u001b[1m0s\u001b[0m 8ms/step\n"
     ]
    },
    {
     "name": "stdout",
     "output_type": "stream",
     "text": [
      "預測 shape : (25, 1)\n",
      "預測 test.shape : (25, 1)\n",
      "\u001b[31m------------------------------------------------------------------------\u001b[0m\n",
      "\u001b[31m第 8 個 IMF\u001b[0m\n",
      "\u001b[31m------------------------------------------------------------------------\u001b[0m\n",
      "\u001b[93m# 預測\u001b[0m\n"
     ]
    },
    {
     "name": "stdout",
     "output_type": "stream",
     "text": [
      "\r",
      "\u001b[1m 1/10\u001b[0m \u001b[32m━━\u001b[0m\u001b[37m━━━━━━━━━━━━━━━━━━\u001b[0m \u001b[1m0s\u001b[0m 54ms/step"
     ]
    },
    {
     "name": "stdout",
     "output_type": "stream",
     "text": [
      "\b\b\b\b\b\b\b\b\b\b\b\b\b\b\b\b\b\b\b\b\b\b\b\b\b\b\b\b\b\b\b\b\b\b\b\b\b\b\b\r",
      "\u001b[1m10/10\u001b[0m \u001b[32m━━━━━━━━━━━━━━━━━━━━\u001b[0m\u001b[37m\u001b[0m \u001b[1m0s\u001b[0m 6ms/step "
     ]
    },
    {
     "name": "stdout",
     "output_type": "stream",
     "text": [
      "\b\b\b\b\b\b\b\b\b\b\b\b\b\b\b\b\b\b\b\b\b\b\b\b\b\b\b\b\b\b\b\b\b\b\b\b\b\b\r",
      "\u001b[1m10/10\u001b[0m \u001b[32m━━━━━━━━━━━━━━━━━━━━\u001b[0m\u001b[37m\u001b[0m \u001b[1m0s\u001b[0m 7ms/step\n"
     ]
    },
    {
     "name": "stdout",
     "output_type": "stream",
     "text": [
      "預測 shape : (301, 1)\n",
      "預測 train.shape : (301, 1)\n",
      "\u001b[93m# 預測\u001b[0m\n",
      "\r",
      "\u001b[1m1/1\u001b[0m \u001b[32m━━━━━━━━━━━━━━━━━━━━\u001b[0m\u001b[37m\u001b[0m \u001b[1m0s\u001b[0m 7ms/step"
     ]
    },
    {
     "name": "stdout",
     "output_type": "stream",
     "text": [
      "\b\b\b\b\b\b\b\b\b\b\b\b\b\b\b\b\b\b\b\b\b\b\b\b\b\b\b\b\b\b\b\b\b\b\b\b\r",
      "\u001b[1m1/1\u001b[0m \u001b[32m━━━━━━━━━━━━━━━━━━━━\u001b[0m\u001b[37m\u001b[0m \u001b[1m0s\u001b[0m 8ms/step\n"
     ]
    },
    {
     "name": "stdout",
     "output_type": "stream",
     "text": [
      "預測 shape : (24, 1)\n",
      "預測 val.shape : (24, 1)\n",
      "\u001b[93m# 預測\u001b[0m\n"
     ]
    },
    {
     "name": "stdout",
     "output_type": "stream",
     "text": [
      "\r",
      "\u001b[1m1/1\u001b[0m \u001b[32m━━━━━━━━━━━━━━━━━━━━\u001b[0m\u001b[37m\u001b[0m \u001b[1m0s\u001b[0m 7ms/step"
     ]
    },
    {
     "name": "stdout",
     "output_type": "stream",
     "text": [
      "\b\b\b\b\b\b\b\b\b\b\b\b\b\b\b\b\b\b\b\b\b\b\b\b\b\b\b\b\b\b\b\b\b\b\b\b\r",
      "\u001b[1m1/1\u001b[0m \u001b[32m━━━━━━━━━━━━━━━━━━━━\u001b[0m\u001b[37m\u001b[0m \u001b[1m0s\u001b[0m 8ms/step\n"
     ]
    },
    {
     "name": "stdout",
     "output_type": "stream",
     "text": [
      "預測 shape : (25, 1)\n",
      "預測 test.shape : (25, 1)\n",
      "\u001b[31m------------------------------------------------------------------------\u001b[0m\n",
      "\u001b[31m殘差\u001b[0m\n",
      "\u001b[93m# 預測\u001b[0m\n"
     ]
    },
    {
     "name": "stdout",
     "output_type": "stream",
     "text": [
      "\r",
      "\u001b[1m 1/10\u001b[0m \u001b[32m━━\u001b[0m\u001b[37m━━━━━━━━━━━━━━━━━━\u001b[0m \u001b[1m0s\u001b[0m 53ms/step"
     ]
    },
    {
     "name": "stdout",
     "output_type": "stream",
     "text": [
      "\b\b\b\b\b\b\b\b\b\b\b\b\b\b\b\b\b\b\b\b\b\b\b\b\b\b\b\b\b\b\b\b\b\b\b\b\b\b\b\r",
      "\u001b[1m10/10\u001b[0m \u001b[32m━━━━━━━━━━━━━━━━━━━━\u001b[0m\u001b[37m\u001b[0m \u001b[1m0s\u001b[0m 7ms/step "
     ]
    },
    {
     "name": "stdout",
     "output_type": "stream",
     "text": [
      "\b\b\b\b\b\b\b\b\b\b\b\b\b\b\b\b\b\b\b\b\b\b\b\b\b\b\b\b\b\b\b\b\b\b\b\b\b\b\r",
      "\u001b[1m10/10\u001b[0m \u001b[32m━━━━━━━━━━━━━━━━━━━━\u001b[0m\u001b[37m\u001b[0m \u001b[1m0s\u001b[0m 7ms/step\n"
     ]
    },
    {
     "name": "stdout",
     "output_type": "stream",
     "text": [
      "預測 shape : (301, 1)\n",
      "預測 train.shape : (301, 1)\n",
      "\u001b[93m# 預測\u001b[0m\n",
      "\r",
      "\u001b[1m1/1\u001b[0m \u001b[32m━━━━━━━━━━━━━━━━━━━━\u001b[0m\u001b[37m\u001b[0m \u001b[1m0s\u001b[0m 7ms/step"
     ]
    },
    {
     "name": "stdout",
     "output_type": "stream",
     "text": [
      "\b\b\b\b\b\b\b\b\b\b\b\b\b\b\b\b\b\b\b\b\b\b\b\b\b\b\b\b\b\b\b\b\b\b\b\b\r",
      "\u001b[1m1/1\u001b[0m \u001b[32m━━━━━━━━━━━━━━━━━━━━\u001b[0m\u001b[37m\u001b[0m \u001b[1m0s\u001b[0m 8ms/step\n"
     ]
    },
    {
     "name": "stdout",
     "output_type": "stream",
     "text": [
      "預測 shape : (24, 1)\n",
      "預測 val.shape : (24, 1)\n",
      "\u001b[93m# 預測\u001b[0m\n"
     ]
    },
    {
     "name": "stdout",
     "output_type": "stream",
     "text": [
      "\r",
      "\u001b[1m1/1\u001b[0m \u001b[32m━━━━━━━━━━━━━━━━━━━━\u001b[0m\u001b[37m\u001b[0m \u001b[1m0s\u001b[0m 7ms/step"
     ]
    },
    {
     "name": "stdout",
     "output_type": "stream",
     "text": [
      "\b\b\b\b\b\b\b\b\b\b\b\b\b\b\b\b\b\b\b\b\b\b\b\b\b\b\b\b\b\b\b\b\b\b\b\b\r",
      "\u001b[1m1/1\u001b[0m \u001b[32m━━━━━━━━━━━━━━━━━━━━\u001b[0m\u001b[37m\u001b[0m \u001b[1m0s\u001b[0m 7ms/step\n"
     ]
    },
    {
     "name": "stdout",
     "output_type": "stream",
     "text": [
      "預測 shape : (25, 1)\n",
      "預測 test.shape : (25, 1)\n"
     ]
    }
   ],
   "source": [
    "predict_trains = []\n",
    "predict_vals = []\n",
    "predict_tests = []\n",
    "\n",
    "for i in range(len(models)):\n",
    "    print_step(i + 1)    \n",
    "  \n",
    "    predict_train = lstm.predict(models[i], x_lstm_trains[i])\n",
    "    print(f'預測 train.shape : {predict_train.shape}')\n",
    "\n",
    "    predict_val = lstm.predict(models[i], x_lstm_vals[i])\n",
    "    print(f'預測 val.shape : {predict_val.shape}')\n",
    "\n",
    "    predict_test = lstm.predict(models[i], x_lstm_tests[i])\n",
    "    print(f'預測 test.shape : {predict_test.shape}') \n",
    "    \n",
    "    predict_trains.append(predict_train)\n",
    "    predict_vals.append(predict_val)\n",
    "    predict_tests.append(predict_test)"
   ]
  },
  {
   "cell_type": "markdown",
   "id": "f1e32534",
   "metadata": {
    "id": "aeV6X1B3-uyx",
    "papermill": {
     "duration": 0.007238,
     "end_time": "2024-10-26T11:11:51.305357",
     "exception": false,
     "start_time": "2024-10-26T11:11:51.298119",
     "status": "completed"
    },
    "tags": []
   },
   "source": [
    "# 回復預測資料值為原始數據的規模"
   ]
  },
  {
   "cell_type": "code",
   "execution_count": 14,
   "id": "4eb0a587",
   "metadata": {
    "execution": {
     "iopub.execute_input": "2024-10-26T11:11:51.320263Z",
     "iopub.status.busy": "2024-10-26T11:11:51.320157Z",
     "iopub.status.idle": "2024-10-26T11:11:51.325951Z",
     "shell.execute_reply": "2024-10-26T11:11:51.325740Z"
    },
    "papermill": {
     "duration": 0.014002,
     "end_time": "2024-10-26T11:11:51.326578",
     "exception": false,
     "start_time": "2024-10-26T11:11:51.312576",
     "status": "completed"
    },
    "tags": []
   },
   "outputs": [
    {
     "name": "stdout",
     "output_type": "stream",
     "text": [
      "\u001b[31m------------------------------------------------------------------------\u001b[0m\n",
      "\u001b[31m第 1 個 IMF\u001b[0m\n",
      "\u001b[31m------------------------------------------------------------------------\u001b[0m\n",
      "\u001b[93m# 回復預測資料值為原始數據的規模\u001b[0m\n",
      "predict_inverse_train.shape : (301, 1)\n",
      "actual_inverse_train.shape : (301, 1)\n",
      "\u001b[93m# 回復預測資料值為原始數據的規模\u001b[0m\n",
      "predict_inverse_val.shape : (24, 1)\n",
      "actual_inverse_val.shape : (24, 1)\n",
      "\u001b[93m# 回復預測資料值為原始數據的規模\u001b[0m\n",
      "predict_inverse_test.shape : (25, 1)\n",
      "actual_inverse_test.shape : (25, 1)\n",
      "\u001b[31m------------------------------------------------------------------------\u001b[0m\n",
      "\u001b[31m第 2 個 IMF\u001b[0m\n",
      "\u001b[31m------------------------------------------------------------------------\u001b[0m\n",
      "\u001b[93m# 回復預測資料值為原始數據的規模\u001b[0m\n",
      "predict_inverse_train.shape : (301, 1)\n",
      "actual_inverse_train.shape : (301, 1)\n",
      "\u001b[93m# 回復預測資料值為原始數據的規模\u001b[0m\n",
      "predict_inverse_val.shape : (24, 1)\n",
      "actual_inverse_val.shape : (24, 1)\n",
      "\u001b[93m# 回復預測資料值為原始數據的規模\u001b[0m\n",
      "predict_inverse_test.shape : (25, 1)\n",
      "actual_inverse_test.shape : (25, 1)\n",
      "\u001b[31m------------------------------------------------------------------------\u001b[0m\n",
      "\u001b[31m第 3 個 IMF\u001b[0m\n",
      "\u001b[31m------------------------------------------------------------------------\u001b[0m\n",
      "\u001b[93m# 回復預測資料值為原始數據的規模\u001b[0m\n",
      "predict_inverse_train.shape : (301, 1)\n",
      "actual_inverse_train.shape : (301, 1)\n",
      "\u001b[93m# 回復預測資料值為原始數據的規模\u001b[0m\n",
      "predict_inverse_val.shape : (24, 1)\n",
      "actual_inverse_val.shape : (24, 1)\n",
      "\u001b[93m# 回復預測資料值為原始數據的規模\u001b[0m\n",
      "predict_inverse_test.shape : (25, 1)\n",
      "actual_inverse_test.shape : (25, 1)\n",
      "\u001b[31m------------------------------------------------------------------------\u001b[0m\n",
      "\u001b[31m第 4 個 IMF\u001b[0m\n",
      "\u001b[31m------------------------------------------------------------------------\u001b[0m\n",
      "\u001b[93m# 回復預測資料值為原始數據的規模\u001b[0m\n",
      "predict_inverse_train.shape : (301, 1)\n",
      "actual_inverse_train.shape : (301, 1)\n",
      "\u001b[93m# 回復預測資料值為原始數據的規模\u001b[0m\n",
      "predict_inverse_val.shape : (24, 1)\n",
      "actual_inverse_val.shape : (24, 1)\n",
      "\u001b[93m# 回復預測資料值為原始數據的規模\u001b[0m\n",
      "predict_inverse_test.shape : (25, 1)\n",
      "actual_inverse_test.shape : (25, 1)\n",
      "\u001b[31m------------------------------------------------------------------------\u001b[0m\n",
      "\u001b[31m第 5 個 IMF\u001b[0m\n",
      "\u001b[31m------------------------------------------------------------------------\u001b[0m\n",
      "\u001b[93m# 回復預測資料值為原始數據的規模\u001b[0m\n",
      "predict_inverse_train.shape : (301, 1)\n",
      "actual_inverse_train.shape : (301, 1)\n",
      "\u001b[93m# 回復預測資料值為原始數據的規模\u001b[0m\n"
     ]
    },
    {
     "name": "stdout",
     "output_type": "stream",
     "text": [
      "predict_inverse_val.shape : (24, 1)\n",
      "actual_inverse_val.shape : (24, 1)\n",
      "\u001b[93m# 回復預測資料值為原始數據的規模\u001b[0m\n",
      "predict_inverse_test.shape : (25, 1)\n",
      "actual_inverse_test.shape : (25, 1)\n",
      "\u001b[31m------------------------------------------------------------------------\u001b[0m\n",
      "\u001b[31m第 6 個 IMF\u001b[0m\n",
      "\u001b[31m------------------------------------------------------------------------\u001b[0m\n",
      "\u001b[93m# 回復預測資料值為原始數據的規模\u001b[0m\n"
     ]
    },
    {
     "name": "stdout",
     "output_type": "stream",
     "text": [
      "predict_inverse_train.shape : (301, 1)\n",
      "actual_inverse_train.shape : (301, 1)\n",
      "\u001b[93m# 回復預測資料值為原始數據的規模\u001b[0m\n",
      "predict_inverse_val.shape : (24, 1)\n",
      "actual_inverse_val.shape : (24, 1)\n",
      "\u001b[93m# 回復預測資料值為原始數據的規模\u001b[0m\n",
      "predict_inverse_test.shape : (25, 1)\n",
      "actual_inverse_test.shape : (25, 1)\n",
      "\u001b[31m------------------------------------------------------------------------\u001b[0m\n",
      "\u001b[31m第 7 個 IMF\u001b[0m\n",
      "\u001b[31m------------------------------------------------------------------------\u001b[0m\n",
      "\u001b[93m# 回復預測資料值為原始數據的規模\u001b[0m\n",
      "predict_inverse_train.shape : (301, 1)\n",
      "actual_inverse_train.shape : (301, 1)\n",
      "\u001b[93m# 回復預測資料值為原始數據的規模\u001b[0m\n",
      "predict_inverse_val.shape : (24, 1)\n",
      "actual_inverse_val.shape : (24, 1)\n",
      "\u001b[93m# 回復預測資料值為原始數據的規模\u001b[0m\n",
      "predict_inverse_test.shape : (25, 1)\n",
      "actual_inverse_test.shape : (25, 1)\n",
      "\u001b[31m------------------------------------------------------------------------\u001b[0m\n",
      "\u001b[31m第 8 個 IMF\u001b[0m\n",
      "\u001b[31m------------------------------------------------------------------------\u001b[0m\n",
      "\u001b[93m# 回復預測資料值為原始數據的規模\u001b[0m\n",
      "predict_inverse_train.shape : (301, 1)\n",
      "actual_inverse_train.shape : (301, 1)\n",
      "\u001b[93m# 回復預測資料值為原始數據的規模\u001b[0m\n",
      "predict_inverse_val.shape : (24, 1)\n",
      "actual_inverse_val.shape : (24, 1)\n",
      "\u001b[93m# 回復預測資料值為原始數據的規模\u001b[0m\n",
      "predict_inverse_test.shape : (25, 1)\n",
      "actual_inverse_test.shape : (25, 1)\n",
      "\u001b[31m------------------------------------------------------------------------\u001b[0m\n",
      "\u001b[31m殘差\u001b[0m\n",
      "\u001b[93m# 回復預測資料值為原始數據的規模\u001b[0m\n",
      "predict_inverse_train.shape : (301, 1)\n",
      "actual_inverse_train.shape : (301, 1)\n",
      "\u001b[93m# 回復預測資料值為原始數據的規模\u001b[0m\n",
      "predict_inverse_val.shape : (24, 1)\n",
      "actual_inverse_val.shape : (24, 1)\n",
      "\u001b[93m# 回復預測資料值為原始數據的規模\u001b[0m\n",
      "predict_inverse_test.shape : (25, 1)\n",
      "actual_inverse_test.shape : (25, 1)\n"
     ]
    }
   ],
   "source": [
    "predict_inverse_trains = []\n",
    "predict_inverse_vals = []\n",
    "predict_inverse_tests = []\n",
    "\n",
    "actual_inverse_trains = []\n",
    "actual_inverse_vals = []\n",
    "actual_inverse_tests = []\n",
    "\n",
    "actual_trains = []\n",
    "actual_vals = []\n",
    "actual_tests = []\n",
    "\n",
    "\n",
    "for i in range(len(models)):\n",
    "    print_step(i + 1)\n",
    "    \n",
    "    # 訓練\n",
    "    predict_inverse_train, actual_inverse_train, predict_train, actual_train = \\\n",
    "        lstm.denormalize_and_reshape_back(\n",
    "            y_predict = predict_trains[i],\n",
    "            y_lstm_actual = y_lstm_trains[i],\n",
    "            y_scaler = y_scalers[i],\n",
    "            n_predictions = future_day\n",
    "        )\n",
    "    print(f'predict_inverse_train.shape : {predict_inverse_train.shape}') \n",
    "    print(f'actual_inverse_train.shape : {actual_inverse_train.shape}')\n",
    "\n",
    "    # 驗證\n",
    "    predict_inverse_val, actual_inverse_val, predict_val, actual_val = \\\n",
    "        lstm.denormalize_and_reshape_back(\n",
    "            y_predict = predict_vals[i],\n",
    "            y_lstm_actual = y_lstm_vals[i],\n",
    "            y_scaler = y_scalers[i],\n",
    "            n_predictions = future_day\n",
    "        )\n",
    "    print(f'predict_inverse_val.shape : {predict_inverse_val.shape}')\n",
    "    print(f'actual_inverse_val.shape : {actual_inverse_val.shape}')\n",
    "    \n",
    "    # 測試\n",
    "    predict_inverse_test, actual_inverse_test, predict_test, actual_test = \\\n",
    "        lstm.denormalize_and_reshape_back(\n",
    "            y_predict = predict_tests[i],\n",
    "            y_lstm_actual = y_lstm_tests[i],\n",
    "            y_scaler = y_scalers[i],\n",
    "            n_predictions = future_day\n",
    "        )\n",
    "    print(f'predict_inverse_test.shape : {predict_inverse_test.shape}')\n",
    "    print(f'actual_inverse_test.shape : {actual_inverse_test.shape}')\n",
    "\n",
    "    predict_inverse_trains.append(predict_inverse_train)\n",
    "    predict_inverse_vals.append(predict_inverse_val)\n",
    "    predict_inverse_tests.append(predict_inverse_test)\n",
    "\n",
    "    actual_inverse_trains.append(actual_inverse_train)\n",
    "    actual_inverse_vals.append(actual_inverse_val)\n",
    "    actual_inverse_tests.append(actual_inverse_test)\n",
    "\n",
    "    actual_trains.append(actual_train)\n",
    "    actual_vals.append(actual_val)\n",
    "    actual_tests.append(actual_test)\n",
    "    "
   ]
  },
  {
   "cell_type": "markdown",
   "id": "a0e75028",
   "metadata": {
    "id": "QbvGCwra87xM",
    "papermill": {
     "duration": 0.007467,
     "end_time": "2024-10-26T11:11:51.341647",
     "exception": false,
     "start_time": "2024-10-26T11:11:51.334180",
     "status": "completed"
    },
    "tags": []
   },
   "source": [
    "# 預測資料加總"
   ]
  },
  {
   "cell_type": "code",
   "execution_count": 15,
   "id": "7d8862d0",
   "metadata": {
    "colab": {
     "base_uri": "https://localhost:8080/"
    },
    "execution": {
     "iopub.execute_input": "2024-10-26T11:11:51.356913Z",
     "iopub.status.busy": "2024-10-26T11:11:51.356815Z",
     "iopub.status.idle": "2024-10-26T11:11:51.361132Z",
     "shell.execute_reply": "2024-10-26T11:11:51.360916Z"
    },
    "id": "AYpqTXZ6JiWH",
    "outputId": "938085fa-1333-4c03-dcc1-77d001d0e484",
    "papermill": {
     "duration": 0.012671,
     "end_time": "2024-10-26T11:11:51.361750",
     "exception": false,
     "start_time": "2024-10-26T11:11:51.349079",
     "status": "completed"
    },
    "tags": []
   },
   "outputs": [
    {
     "name": "stdout",
     "output_type": "stream",
     "text": [
      "\u001b[93m# 切割訓練、驗證和測試資料集\u001b[0m\n",
      "x_train.shape: (316, 1)\n",
      "y_train.shape: (316, 1)\n",
      "x_val.shape: (39, 1)\n",
      "y_val.shape: (39, 1)\n",
      "x_test.shape: (40, 1)\n",
      "y_test.shape: (40, 1)\n",
      "\u001b[93m# 將資料轉成 LSTM 模型所需資料格式，LSTM 的輸入必須是三維\u001b[0m\n",
      "x_lstm_origin_train.shape : (301, 1)\n",
      "y_lstm_origin_train.shape : (301, 1)\n",
      "\u001b[93m# 將資料轉成 LSTM 模型所需資料格式，LSTM 的輸入必須是三維\u001b[0m\n",
      "x_lstm_origin_test.shape : (25, 14, 1)\n",
      "y_lstm_origin_test.shape : (25, 1)\n",
      "\u001b[93m# 將資料轉成 LSTM 模型所需資料格式，LSTM 的輸入必須是三維\u001b[0m\n",
      "x_lstm_origin_val.shape : (24, 14, 1)\n",
      "y_lstm_origin_val.shape : (24, 1)\n"
     ]
    }
   ],
   "source": [
    "# 根據原始數據進行切割\n",
    "x_train_origin, y_train_origin , x_val_origin, y_val_origin, x_test_origin, y_test_origin = \\\n",
    "    lstm.train_val_test_split(data_source, train_split_rate, val_split_rate)\n",
    "\n",
    "# 使用原始數據進行 LSTM 模型所需的格式資料轉換\n",
    "# 主要是為了後面的驗證圖表\n",
    "y_lstm_origin_train, y_lstm_origin_train, _ = lstm.reshape_data_for_lstm(\n",
    "    x_train_origin, y_train_origin,\n",
    "    date_array = None,\n",
    "    past_day = past_day,\n",
    "    future_day = future_day\n",
    ")\n",
    "y_lstm_origin_train = y_lstm_origin_train.reshape(\n",
    "    y_lstm_origin_train.shape[0], \n",
    "    y_lstm_origin_train.shape[1]\n",
    ")\n",
    "\n",
    "print(f'x_lstm_origin_train.shape : {y_lstm_origin_train.shape}')\n",
    "print(f'y_lstm_origin_train.shape : {y_lstm_origin_train.shape}')\n",
    "\n",
    "x_lstm_origin_test, y_lstm_origin_test, _ = lstm.reshape_data_for_lstm(\n",
    "    x_test_origin, y_test_origin,\n",
    "    date_array = None,\n",
    "    past_day = past_day,\n",
    "    future_day = future_day\n",
    ")\n",
    "y_lstm_origin_test = y_lstm_origin_test.reshape(\n",
    "    y_lstm_origin_test.shape[0], \n",
    "    y_lstm_origin_test.shape[1]\n",
    ")\n",
    "\n",
    "print(f'x_lstm_origin_test.shape : {x_lstm_origin_test.shape}')\n",
    "print(f'y_lstm_origin_test.shape : {y_lstm_origin_test.shape}')\n",
    "\n",
    "x_lstm_origin_val, y_lstm_origin_val, _ = lstm.reshape_data_for_lstm(\n",
    "    x_val_origin, y_val_origin,\n",
    "    date_array = None,\n",
    "    past_day = past_day,\n",
    "    future_day = future_day\n",
    ")\n",
    "y_lstm_origin_val = y_lstm_origin_val.reshape(\n",
    "    y_lstm_origin_val.shape[0], \n",
    "    y_lstm_origin_val.shape[1]\n",
    ")\n",
    "\n",
    "print(f'x_lstm_origin_val.shape : {x_lstm_origin_val.shape}')\n",
    "print(f'y_lstm_origin_val.shape : {y_lstm_origin_val.shape}')"
   ]
  },
  {
   "cell_type": "code",
   "execution_count": 16,
   "id": "0eb8b7b8",
   "metadata": {
    "colab": {
     "base_uri": "https://localhost:8080/"
    },
    "execution": {
     "iopub.execute_input": "2024-10-26T11:11:51.377042Z",
     "iopub.status.busy": "2024-10-26T11:11:51.376939Z",
     "iopub.status.idle": "2024-10-26T11:11:51.379652Z",
     "shell.execute_reply": "2024-10-26T11:11:51.379436Z"
    },
    "id": "Xy7noNN78JlX",
    "outputId": "250b3fbe-e4f4-43f5-93d2-6c0816bbfa3a",
    "papermill": {
     "duration": 0.010932,
     "end_time": "2024-10-26T11:11:51.380198",
     "exception": false,
     "start_time": "2024-10-26T11:11:51.369266",
     "status": "completed"
    },
    "tags": []
   },
   "outputs": [
    {
     "name": "stdout",
     "output_type": "stream",
     "text": [
      "predict_inverse_train_sum (301, 1)\n",
      "actual_inverse_train_sum (301, 1)\n",
      "predict_inverse_val_sum (24, 1)\n",
      "actual_inverse_val_sum (24, 1)\n",
      "predict_inverse_test_sum (25, 1)\n",
      "actual_inverse_test_sum (25, 1)\n"
     ]
    }
   ],
   "source": [
    "predict_inverse_train_sum = np.sum(predict_inverse_trains, axis=0)\n",
    "actual_inverse_train_sum = np.sum(actual_inverse_trains, axis=0)\n",
    "\n",
    "predict_inverse_val_sum = np.sum(predict_inverse_vals, axis=0)\n",
    "actual_inverse_val_sum = np.sum(actual_inverse_vals, axis=0)\n",
    "\n",
    "predict_inverse_test_sum = np.sum(predict_inverse_tests, axis=0)\n",
    "actual_inverse_test_sum = np.sum(actual_inverse_tests, axis=0)\n",
    "\n",
    "print('predict_inverse_train_sum', predict_inverse_train_sum.shape)\n",
    "print('actual_inverse_train_sum', actual_inverse_train_sum.shape)\n",
    "\n",
    "print('predict_inverse_val_sum', predict_inverse_val_sum.shape)\n",
    "print('actual_inverse_val_sum', actual_inverse_val_sum.shape)\n",
    "\n",
    "print('predict_inverse_test_sum', predict_inverse_test_sum.shape)\n",
    "print('actual_inverse_test_sum', actual_inverse_test_sum.shape)"
   ]
  },
  {
   "cell_type": "markdown",
   "id": "efebb480",
   "metadata": {
    "id": "QFm-OEs4-xya",
    "papermill": {
     "duration": 0.007416,
     "end_time": "2024-10-26T11:11:51.395173",
     "exception": false,
     "start_time": "2024-10-26T11:11:51.387757",
     "status": "completed"
    },
    "tags": []
   },
   "source": [
    "# 查看訓練 & 驗證 & 測試集評估數據"
   ]
  },
  {
   "cell_type": "code",
   "execution_count": 17,
   "id": "3d89fdb4",
   "metadata": {
    "execution": {
     "iopub.execute_input": "2024-10-26T11:11:51.410458Z",
     "iopub.status.busy": "2024-10-26T11:11:51.410359Z",
     "iopub.status.idle": "2024-10-26T11:11:52.099526Z",
     "shell.execute_reply": "2024-10-26T11:11:52.099238Z"
    },
    "papermill": {
     "duration": 0.697551,
     "end_time": "2024-10-26T11:11:52.100182",
     "exception": false,
     "start_time": "2024-10-26T11:11:51.402631",
     "status": "completed"
    },
    "tags": []
   },
   "outputs": [
    {
     "name": "stdout",
     "output_type": "stream",
     "text": [
      "\u001b[31m------------------------------------------------------------------------\u001b[0m\n",
      "\u001b[31m第 1 個 IMF\u001b[0m\n",
      "\u001b[31m------------------------------------------------------------------------\u001b[0m\n",
      "\u001b[93m# 查看訓練 & 驗證 & 測試集評估數據\u001b[0m\n",
      "====== Train Evaluate ======\n",
      "\r",
      "\u001b[1m 1/10\u001b[0m \u001b[32m━━\u001b[0m\u001b[37m━━━━━━━━━━━━━━━━━━\u001b[0m \u001b[1m0s\u001b[0m 8ms/step - loss: 0.0048 - mean_absolute_percentage_error: 11.7263"
     ]
    },
    {
     "name": "stdout",
     "output_type": "stream",
     "text": [
      "\b\b\b\b\b\b\b\b\b\b\b\b\b\b\b\b\b\b\b\b\b\b\b\b\b\b\b\b\b\b\b\b\b\b\b\b\b\b\b\b\b\b\b\b\b\b\b\b\b\b\b\b\b\b\b\b\b\b\b\b\b\b\b\b\b\b\b\b\b\b\b\b\b\b\b\b\b\b\b\b\b\b\b\b\b\b\b\b\b\b\b\b\b\b\b\r",
      "\u001b[1m10/10\u001b[0m \u001b[32m━━━━━━━━━━━━━━━━━━━━\u001b[0m\u001b[37m\u001b[0m \u001b[1m0s\u001b[0m 1ms/step - loss: 0.0100 - mean_absolute_percentage_error: 974361.2500\n"
     ]
    },
    {
     "name": "stdout",
     "output_type": "stream",
     "text": [
      "--- 訓練值比較 --- \n",
      "Actual shape: (301, 1), Predict shape: (301, 1)\n",
      "MAE:0.06135，MAPE:8673760474680.524，MSE:0.00932，RMSE:0.09651，R square:0.10042\n",
      "--- 原始值比較 --- \n",
      "Actual shape: (301, 1), Predict shape: (301, 1)\n",
      "MAE:410.77616，MAPE:2.25366，MSE:417548.20544，RMSE:646.1797，R square:0.10042\n",
      "\n",
      "====== Val Evaluate ======\n"
     ]
    },
    {
     "name": "stdout",
     "output_type": "stream",
     "text": [
      "\r",
      "\u001b[1m1/1\u001b[0m \u001b[32m━━━━━━━━━━━━━━━━━━━━\u001b[0m\u001b[37m\u001b[0m \u001b[1m0s\u001b[0m 8ms/step - loss: 0.0038 - mean_absolute_percentage_error: 10.1370"
     ]
    },
    {
     "name": "stdout",
     "output_type": "stream",
     "text": [
      "\b\b\b\b\b\b\b\b\b\b\b\b\b\b\b\b\b\b\b\b\b\b\b\b\b\b\b\b\b\b\b\b\b\b\b\b\b\b\b\b\b\b\b\b\b\b\b\b\b\b\b\b\b\b\b\b\b\b\b\b\b\b\b\b\b\b\b\b\b\b\b\b\b\b\b\b\b\b\b\b\b\b\b\b\b\b\b\b\b\b\b\b\b\r",
      "\u001b[1m1/1\u001b[0m \u001b[32m━━━━━━━━━━━━━━━━━━━━\u001b[0m\u001b[37m\u001b[0m \u001b[1m0s\u001b[0m 8ms/step - loss: 0.0038 - mean_absolute_percentage_error: 10.1370\n"
     ]
    },
    {
     "name": "stdout",
     "output_type": "stream",
     "text": [
      "--- 正規化比較 --- \n",
      "Actual shape: (24, 1), Predict shape: (24, 1)\n",
      "MAE:0.04933，MAPE:0.10137，MSE:0.00376，RMSE:0.06132，R square:0.13926\n",
      "--- 原始值比較 --- \n",
      "Actual shape: (24, 1), Predict shape: (24, 1)\n",
      "MAE:330.28361，MAPE:1.80335，MSE:168558.00733，RMSE:410.55817，R square:0.13926\n",
      "\n",
      "====== Test Evaluate ======\n"
     ]
    },
    {
     "name": "stdout",
     "output_type": "stream",
     "text": [
      "\r",
      "\u001b[1m1/1\u001b[0m \u001b[32m━━━━━━━━━━━━━━━━━━━━\u001b[0m\u001b[37m\u001b[0m \u001b[1m0s\u001b[0m 8ms/step - loss: 0.0019 - mean_absolute_percentage_error: 7.5641"
     ]
    },
    {
     "name": "stdout",
     "output_type": "stream",
     "text": [
      "\b\b\b\b\b\b\b\b\b\b\b\b\b\b\b\b\b\b\b\b\b\b\b\b\b\b\b\b\b\b\b\b\b\b\b\b\b\b\b\b\b\b\b\b\b\b\b\b\b\b\b\b\b\b\b\b\b\b\b\b\b\b\b\b\b\b\b\b\b\b\b\b\b\b\b\b\b\b\b\b\b\b\b\b\b\b\b\b\b\b\b\b\r",
      "\u001b[1m1/1\u001b[0m \u001b[32m━━━━━━━━━━━━━━━━━━━━\u001b[0m\u001b[37m\u001b[0m \u001b[1m0s\u001b[0m 8ms/step - loss: 0.0019 - mean_absolute_percentage_error: 7.5641\n"
     ]
    },
    {
     "name": "stdout",
     "output_type": "stream",
     "text": [
      "--- 正規化比較 --- \n",
      "Actual shape: (25, 1), Predict shape: (25, 1)\n",
      "MAE:0.03714，MAPE:0.07564，MSE:0.00189，RMSE:0.04343，R square:0.16896\n",
      "--- 原始值比較 --- \n",
      "Actual shape: (25, 1), Predict shape: (25, 1)\n",
      "MAE:248.68547，MAPE:1.49392，MSE:84555.90374，RMSE:290.78498，R square:0.16896\n",
      "\n",
      "\u001b[31m------------------------------------------------------------------------\u001b[0m\n",
      "\u001b[31m第 2 個 IMF\u001b[0m\n",
      "\u001b[31m------------------------------------------------------------------------\u001b[0m\n",
      "\u001b[93m# 查看訓練 & 驗證 & 測試集評估數據\u001b[0m\n",
      "====== Train Evaluate ======\n"
     ]
    },
    {
     "name": "stdout",
     "output_type": "stream",
     "text": [
      "\r",
      "\u001b[1m 1/10\u001b[0m \u001b[32m━━\u001b[0m\u001b[37m━━━━━━━━━━━━━━━━━━\u001b[0m \u001b[1m0s\u001b[0m 8ms/step - loss: 0.0011 - mean_absolute_percentage_error: 6.8274"
     ]
    },
    {
     "name": "stdout",
     "output_type": "stream",
     "text": [
      "\b\b\b\b\b\b\b\b\b\b\b\b\b\b\b\b\b\b\b\b\b\b\b\b\b\b\b\b\b\b\b\b\b\b\b\b\b\b\b\b\b\b\b\b\b\b\b\b\b\b\b\b\b\b\b\b\b\b\b\b\b\b\b\b\b\b\b\b\b\b\b\b\b\b\b\b\b\b\b\b\b\b\b\b\b\b\b\b\b\b\b\b\b\b\r",
      "\u001b[1m10/10\u001b[0m \u001b[32m━━━━━━━━━━━━━━━━━━━━\u001b[0m\u001b[37m\u001b[0m \u001b[1m0s\u001b[0m 1ms/step - loss: 0.0035 - mean_absolute_percentage_error: 1330902.8750\n"
     ]
    },
    {
     "name": "stdout",
     "output_type": "stream",
     "text": [
      "--- 訓練值比較 --- \n",
      "Actual shape: (301, 1), Predict shape: (301, 1)\n",
      "MAE:0.03821，MAPE:3433240432572.1777，MSE:0.00342，RMSE:0.05848，R square:0.80979\n",
      "--- 原始值比較 --- \n",
      "Actual shape: (301, 1), Predict shape: (301, 1)\n",
      "MAE:192.50213，MAPE:1.0842，MSE:86812.57779，RMSE:294.63974，R square:0.80979\n",
      "\n",
      "====== Val Evaluate ======\n"
     ]
    },
    {
     "name": "stdout",
     "output_type": "stream",
     "text": [
      "\r",
      "\u001b[1m1/1\u001b[0m \u001b[32m━━━━━━━━━━━━━━━━━━━━\u001b[0m\u001b[37m\u001b[0m \u001b[1m0s\u001b[0m 7ms/step - loss: 0.0015 - mean_absolute_percentage_error: 8.2449"
     ]
    },
    {
     "name": "stdout",
     "output_type": "stream",
     "text": [
      "\b\b\b\b\b\b\b\b\b\b\b\b\b\b\b\b\b\b\b\b\b\b\b\b\b\b\b\b\b\b\b\b\b\b\b\b\b\b\b\b\b\b\b\b\b\b\b\b\b\b\b\b\b\b\b\b\b\b\b\b\b\b\b\b\b\b\b\b\b\b\b\b\b\b\b\b\b\b\b\b\b\b\b\b\b\b\b\b\b\b\b\b\r",
      "\u001b[1m1/1\u001b[0m \u001b[32m━━━━━━━━━━━━━━━━━━━━\u001b[0m\u001b[37m\u001b[0m \u001b[1m0s\u001b[0m 8ms/step - loss: 0.0015 - mean_absolute_percentage_error: 8.2449\n"
     ]
    },
    {
     "name": "stdout",
     "output_type": "stream",
     "text": [
      "--- 正規化比較 --- \n",
      "Actual shape: (24, 1), Predict shape: (24, 1)\n",
      "MAE:0.03317，MAPE:0.08245，MSE:0.00152，RMSE:0.03894，R square:0.78852\n",
      "--- 原始值比較 --- \n",
      "Actual shape: (24, 1), Predict shape: (24, 1)\n",
      "MAE:167.11397，MAPE:0.59122，MSE:38487.90575，RMSE:196.18335，R square:0.78853\n",
      "\n",
      "====== Test Evaluate ======\n",
      "\r",
      "\u001b[1m1/1\u001b[0m \u001b[32m━━━━━━━━━━━━━━━━━━━━\u001b[0m\u001b[37m\u001b[0m \u001b[1m0s\u001b[0m 8ms/step - loss: 7.8520e-04 - mean_absolute_percentage_error: 5.7385"
     ]
    },
    {
     "name": "stdout",
     "output_type": "stream",
     "text": [
      "\b\b\b\b\b\b\b\b\b\b\b\b\b\b\b\b\b\b\b\b\b\b\b\b\b\b\b\b\b\b\b\b\b\b\b\b\b\b\b\b\b\b\b\b\b\b\b\b\b\b\b\b\b\b\b\b\b\b\b\b\b\b\b\b\b\b\b\b\b\b\b\b\b\b\b\b\b\b\b\b\b\b\b\b\b\b\b\b\b\b\b\b\b\b\b\b\r",
      "\u001b[1m1/1\u001b[0m \u001b[32m━━━━━━━━━━━━━━━━━━━━\u001b[0m\u001b[37m\u001b[0m \u001b[1m0s\u001b[0m 8ms/step - loss: 7.8520e-04 - mean_absolute_percentage_error: 5.7385\n"
     ]
    },
    {
     "name": "stdout",
     "output_type": "stream",
     "text": [
      "--- 正規化比較 --- \n",
      "Actual shape: (25, 1), Predict shape: (25, 1)\n",
      "MAE:0.02339，MAPE:0.05739，MSE:0.00079，RMSE:0.02802，R square:0.89536\n",
      "--- 原始值比較 --- \n",
      "Actual shape: (25, 1), Predict shape: (25, 1)\n",
      "MAE:117.84574，MAPE:0.40542，MSE:19932.69579，RMSE:141.1832，R square:0.89536\n",
      "\n",
      "\u001b[31m------------------------------------------------------------------------\u001b[0m\n",
      "\u001b[31m第 3 個 IMF\u001b[0m\n",
      "\u001b[31m------------------------------------------------------------------------\u001b[0m\n",
      "\u001b[93m# 查看訓練 & 驗證 & 測試集評估數據\u001b[0m\n",
      "====== Train Evaluate ======\n"
     ]
    },
    {
     "name": "stdout",
     "output_type": "stream",
     "text": [
      "\r",
      "\u001b[1m 1/10\u001b[0m \u001b[32m━━\u001b[0m\u001b[37m━━━━━━━━━━━━━━━━━━\u001b[0m \u001b[1m0s\u001b[0m 8ms/step - loss: 0.0010 - mean_absolute_percentage_error: 6.6642"
     ]
    },
    {
     "name": "stdout",
     "output_type": "stream",
     "text": [
      "\b\b\b\b\b\b\b\b\b\b\b\b\b\b\b\b\b\b\b\b\b\b\b\b\b\b\b\b\b\b\b\b\b\b\b\b\b\b\b\b\b\b\b\b\b\b\b\b\b\b\b\b\b\b\b\b\b\b\b\b\b\b\b\b\b\b\b\b\b\b\b\b\b\b\b\b\b\b\b\b\b\b\b\b\b\b\b\b\b\b\b\b\b\b\r",
      "\u001b[1m10/10\u001b[0m \u001b[32m━━━━━━━━━━━━━━━━━━━━\u001b[0m\u001b[37m\u001b[0m \u001b[1m0s\u001b[0m 1ms/step - loss: 0.0012 - mean_absolute_percentage_error: 35346.8516\n"
     ]
    },
    {
     "name": "stdout",
     "output_type": "stream",
     "text": [
      "--- 訓練值比較 --- \n",
      "Actual shape: (301, 1), Predict shape: (301, 1)\n",
      "MAE:0.02693，MAPE:91160549872.77061，MSE:0.001，RMSE:0.03169，R square:0.96866\n",
      "--- 原始值比較 --- \n",
      "Actual shape: (301, 1), Predict shape: (301, 1)\n",
      "MAE:110.9083，MAPE:2.44075，MSE:17033.94788，RMSE:130.51417，R square:0.96866\n",
      "\n",
      "====== Val Evaluate ======\n"
     ]
    },
    {
     "name": "stdout",
     "output_type": "stream",
     "text": [
      "\r",
      "\u001b[1m1/1\u001b[0m \u001b[32m━━━━━━━━━━━━━━━━━━━━\u001b[0m\u001b[37m\u001b[0m \u001b[1m0s\u001b[0m 8ms/step - loss: 6.3114e-04 - mean_absolute_percentage_error: 5.9216"
     ]
    },
    {
     "name": "stdout",
     "output_type": "stream",
     "text": [
      "\b\b\b\b\b\b\b\b\b\b\b\b\b\b\b\b\b\b\b\b\b\b\b\b\b\b\b\b\b\b\b\b\b\b\b\b\b\b\b\b\b\b\b\b\b\b\b\b\b\b\b\b\b\b\b\b\b\b\b\b\b\b\b\b\b\b\b\b\b\b\b\b\b\b\b\b\b\b\b\b\b\b\b\b\b\b\b\b\b\b\b\b\b\b\b\b\r",
      "\u001b[1m1/1\u001b[0m \u001b[32m━━━━━━━━━━━━━━━━━━━━\u001b[0m\u001b[37m\u001b[0m \u001b[1m0s\u001b[0m 9ms/step - loss: 6.3114e-04 - mean_absolute_percentage_error: 5.9216\n"
     ]
    },
    {
     "name": "stdout",
     "output_type": "stream",
     "text": [
      "--- 正規化比較 --- \n",
      "Actual shape: (24, 1), Predict shape: (24, 1)\n",
      "MAE:0.02318，MAPE:0.05922，MSE:0.00063，RMSE:0.02512，R square:0.86442\n",
      "--- 原始值比較 --- \n",
      "Actual shape: (24, 1), Predict shape: (24, 1)\n",
      "MAE:95.47643，MAPE:2.25049，MSE:10706.7653，RMSE:103.4735，R square:0.86442\n",
      "\n",
      "====== Test Evaluate ======\n",
      "\r",
      "\u001b[1m1/1\u001b[0m \u001b[32m━━━━━━━━━━━━━━━━━━━━\u001b[0m\u001b[37m\u001b[0m \u001b[1m0s\u001b[0m 8ms/step - loss: 6.2260e-04 - mean_absolute_percentage_error: 5.1187"
     ]
    },
    {
     "name": "stdout",
     "output_type": "stream",
     "text": [
      "\b\b\b\b\b\b\b\b\b\b\b\b\b\b\b\b\b\b\b\b\b\b\b\b\b\b\b\b\b\b\b\b\b\b\b\b\b\b\b\b\b\b\b\b\b\b\b\b\b\b\b\b\b\b\b\b\b\b\b\b\b\b\b\b\b\b\b\b\b\b\b\b\b\b\b\b\b\b\b\b\b\b\b\b\b\b\b\b\b\b\b\b\b\b\b\b\r",
      "\u001b[1m1/1\u001b[0m \u001b[32m━━━━━━━━━━━━━━━━━━━━\u001b[0m\u001b[37m\u001b[0m \u001b[1m0s\u001b[0m 9ms/step - loss: 6.2260e-04 - mean_absolute_percentage_error: 5.1187\n"
     ]
    },
    {
     "name": "stdout",
     "output_type": "stream",
     "text": [
      "--- 正規化比較 --- \n",
      "Actual shape: (25, 1), Predict shape: (25, 1)\n",
      "MAE:0.02285，MAPE:0.05119，MSE:0.00062，RMSE:0.02495，R square:0.7901\n",
      "--- 原始值比較 --- \n",
      "Actual shape: (25, 1), Predict shape: (25, 1)\n",
      "MAE:94.13426，MAPE:217.12358，MSE:10561.98617，RMSE:102.77152，R square:0.7901\n",
      "\n",
      "\u001b[31m------------------------------------------------------------------------\u001b[0m\n",
      "\u001b[31m第 4 個 IMF\u001b[0m\n",
      "\u001b[31m------------------------------------------------------------------------\u001b[0m\n",
      "\u001b[93m# 查看訓練 & 驗證 & 測試集評估數據\u001b[0m\n",
      "====== Train Evaluate ======\n"
     ]
    },
    {
     "name": "stdout",
     "output_type": "stream",
     "text": [
      "\r",
      "\u001b[1m 1/10\u001b[0m \u001b[32m━━\u001b[0m\u001b[37m━━━━━━━━━━━━━━━━━━\u001b[0m \u001b[1m0s\u001b[0m 8ms/step - loss: 3.1188e-05 - mean_absolute_percentage_error: 1.1779"
     ]
    },
    {
     "name": "stdout",
     "output_type": "stream",
     "text": [
      "\b\b\b\b\b\b\b\b\b\b\b\b\b\b\b\b\b\b\b\b\b\b\b\b\b\b\b\b\b\b\b\b\b\b\b\b\b\b\b\b\b\b\b\b\b\b\b\b\b\b\b\b\b\b\b\b\b\b\b\b\b\b\b\b\b\b\b\b\b\b\b\b\b\b\b\b\b\b\b\b\b\b\b\b\b\b\b\b\b\b\b\b\b\b\b\b\b\b\r",
      "\u001b[1m10/10\u001b[0m \u001b[32m━━━━━━━━━━━━━━━━━━━━\u001b[0m\u001b[37m\u001b[0m \u001b[1m0s\u001b[0m 1ms/step - loss: 4.9692e-05 - mean_absolute_percentage_error: 21739.8926\n"
     ]
    },
    {
     "name": "stdout",
     "output_type": "stream",
     "text": [
      "--- 訓練值比較 --- \n",
      "Actual shape: (301, 1), Predict shape: (301, 1)\n",
      "MAE:0.00434，MAPE:74257887953.25381，MSE:4e-05，RMSE:0.00617，R square:0.99863\n",
      "--- 原始值比較 --- \n",
      "Actual shape: (301, 1), Predict shape: (301, 1)\n",
      "MAE:10.88003，MAPE:0.13004，MSE:238.76075，RMSE:15.45188，R square:0.99863\n",
      "\n",
      "====== Val Evaluate ======\n"
     ]
    },
    {
     "name": "stdout",
     "output_type": "stream",
     "text": [
      "\r",
      "\u001b[1m1/1\u001b[0m \u001b[32m━━━━━━━━━━━━━━━━━━━━\u001b[0m\u001b[37m\u001b[0m \u001b[1m0s\u001b[0m 8ms/step - loss: 1.2533e-05 - mean_absolute_percentage_error: 0.7579"
     ]
    },
    {
     "name": "stdout",
     "output_type": "stream",
     "text": [
      "\b\b\b\b\b\b\b\b\b\b\b\b\b\b\b\b\b\b\b\b\b\b\b\b\b\b\b\b\b\b\b\b\b\b\b\b\b\b\b\b\b\b\b\b\b\b\b\b\b\b\b\b\b\b\b\b\b\b\b\b\b\b\b\b\b\b\b\b\b\b\b\b\b\b\b\b\b\b\b\b\b\b\b\b\b\b\b\b\b\b\b\b\b\b\b\b\r",
      "\u001b[1m1/1\u001b[0m \u001b[32m━━━━━━━━━━━━━━━━━━━━\u001b[0m\u001b[37m\u001b[0m \u001b[1m0s\u001b[0m 9ms/step - loss: 1.2533e-05 - mean_absolute_percentage_error: 0.7579\n"
     ]
    },
    {
     "name": "stdout",
     "output_type": "stream",
     "text": [
      "--- 正規化比較 --- \n",
      "Actual shape: (24, 1), Predict shape: (24, 1)\n",
      "MAE:0.00303，MAPE:0.00758，MSE:1e-05，RMSE:0.00354，R square:0.99652\n",
      "--- 原始值比較 --- \n",
      "Actual shape: (24, 1), Predict shape: (24, 1)\n",
      "MAE:7.59625，MAPE:0.1022，MSE:78.71553，RMSE:8.87218，R square:0.99652\n",
      "\n",
      "====== Test Evaluate ======\n"
     ]
    },
    {
     "name": "stdout",
     "output_type": "stream",
     "text": [
      "\r",
      "\u001b[1m1/1\u001b[0m \u001b[32m━━━━━━━━━━━━━━━━━━━━\u001b[0m\u001b[37m\u001b[0m \u001b[1m0s\u001b[0m 7ms/step - loss: 5.5861e-06 - mean_absolute_percentage_error: 0.4891"
     ]
    },
    {
     "name": "stdout",
     "output_type": "stream",
     "text": [
      "\b\b\b\b\b\b\b\b\b\b\b\b\b\b\b\b\b\b\b\b\b\b\b\b\b\b\b\b\b\b\b\b\b\b\b\b\b\b\b\b\b\b\b\b\b\b\b\b\b\b\b\b\b\b\b\b\b\b\b\b\b\b\b\b\b\b\b\b\b\b\b\b\b\b\b\b\b\b\b\b\b\b\b\b\b\b\b\b\b\b\b\b\b\b\b\b\r",
      "\u001b[1m1/1\u001b[0m \u001b[32m━━━━━━━━━━━━━━━━━━━━\u001b[0m\u001b[37m\u001b[0m \u001b[1m0s\u001b[0m 8ms/step - loss: 5.5861e-06 - mean_absolute_percentage_error: 0.4891\n"
     ]
    },
    {
     "name": "stdout",
     "output_type": "stream",
     "text": [
      "--- 正規化比較 --- \n",
      "Actual shape: (25, 1), Predict shape: (25, 1)\n",
      "MAE:0.00209，MAPE:0.00489，MSE:1e-05，RMSE:0.00236，R square:0.99875\n",
      "--- 原始值比較 --- \n",
      "Actual shape: (25, 1), Predict shape: (25, 1)\n",
      "MAE:5.2335，MAPE:0.04548，MSE:35.08492，RMSE:5.92325，R square:0.99875\n",
      "\n",
      "\u001b[31m------------------------------------------------------------------------\u001b[0m\n",
      "\u001b[31m第 5 個 IMF\u001b[0m\n",
      "\u001b[31m------------------------------------------------------------------------\u001b[0m\n",
      "\u001b[93m# 查看訓練 & 驗證 & 測試集評估數據\u001b[0m\n",
      "====== Train Evaluate ======\n"
     ]
    },
    {
     "name": "stdout",
     "output_type": "stream",
     "text": [
      "\r",
      "\u001b[1m 1/10\u001b[0m \u001b[32m━━\u001b[0m\u001b[37m━━━━━━━━━━━━━━━━━━\u001b[0m \u001b[1m0s\u001b[0m 8ms/step - loss: 8.2911e-05 - mean_absolute_percentage_error: 1.7619"
     ]
    },
    {
     "name": "stdout",
     "output_type": "stream",
     "text": [
      "\b\b\b\b\b\b\b\b\b\b\b\b\b\b\b\b\b\b\b\b\b\b\b\b\b\b\b\b\b\b\b\b\b\b\b\b\b\b\b\b\b\b\b\b\b\b\b\b\b\b\b\b\b\b\b\b\b\b\b\b\b\b\b\b\b\b\b\b\b\b\b\b\b\b\b\b\b\b\b\b\b\b\b\b\b\b\b\b\b\b\b\b\b\b\b\b\b\b\r",
      "\u001b[1m10/10\u001b[0m \u001b[32m━━━━━━━━━━━━━━━━━━━━\u001b[0m\u001b[37m\u001b[0m \u001b[1m0s\u001b[0m 1ms/step - loss: 1.1347e-04 - mean_absolute_percentage_error: 23780.1934\n"
     ]
    },
    {
     "name": "stdout",
     "output_type": "stream",
     "text": [
      "--- 訓練值比較 --- \n",
      "Actual shape: (301, 1), Predict shape: (301, 1)\n",
      "MAE:0.00958，MAPE:130598196928.43724，MSE:0.00011，RMSE:0.01038，R square:0.99837\n",
      "--- 原始值比較 --- \n",
      "Actual shape: (301, 1), Predict shape: (301, 1)\n",
      "MAE:17.82351，MAPE:0.21266，MSE:373.29595，RMSE:19.32087，R square:0.99837\n",
      "\n",
      "====== Val Evaluate ======\n"
     ]
    },
    {
     "name": "stdout",
     "output_type": "stream",
     "text": [
      "\r",
      "\u001b[1m1/1\u001b[0m \u001b[32m━━━━━━━━━━━━━━━━━━━━\u001b[0m\u001b[37m\u001b[0m \u001b[1m0s\u001b[0m 8ms/step - loss: 1.1635e-04 - mean_absolute_percentage_error: 1.6287"
     ]
    },
    {
     "name": "stdout",
     "output_type": "stream",
     "text": [
      "\b\b\b\b\b\b\b\b\b\b\b\b\b\b\b\b\b\b\b\b\b\b\b\b\b\b\b\b\b\b\b\b\b\b\b\b\b\b\b\b\b\b\b\b\b\b\b\b\b\b\b\b\b\b\b\b\b\b\b\b\b\b\b\b\b\b\b\b\b\b\b\b\b\b\b\b\b\b\b\b\b\b\b\b\b\b\b\b\b\b\b\b\b\b\b\b\r",
      "\u001b[1m1/1\u001b[0m \u001b[32m━━━━━━━━━━━━━━━━━━━━\u001b[0m\u001b[37m\u001b[0m \u001b[1m0s\u001b[0m 9ms/step - loss: 1.1635e-04 - mean_absolute_percentage_error: 1.6287\n"
     ]
    },
    {
     "name": "stdout",
     "output_type": "stream",
     "text": [
      "--- 正規化比較 --- \n",
      "Actual shape: (24, 1), Predict shape: (24, 1)\n",
      "MAE:0.01074，MAPE:0.01629，MSE:0.00012，RMSE:0.01079，R square:0.98078\n",
      "--- 原始值比較 --- \n",
      "Actual shape: (24, 1), Predict shape: (24, 1)\n",
      "MAE:19.99469，MAPE:0.06895，MSE:403.02353，RMSE:20.07545，R square:0.98078\n",
      "\n",
      "====== Test Evaluate ======\n"
     ]
    },
    {
     "name": "stdout",
     "output_type": "stream",
     "text": [
      "\r",
      "\u001b[1m1/1\u001b[0m \u001b[32m━━━━━━━━━━━━━━━━━━━━\u001b[0m\u001b[37m\u001b[0m \u001b[1m0s\u001b[0m 7ms/step - loss: 8.9238e-05 - mean_absolute_percentage_error: 4.0847"
     ]
    },
    {
     "name": "stdout",
     "output_type": "stream",
     "text": [
      "\b\b\b\b\b\b\b\b\b\b\b\b\b\b\b\b\b\b\b\b\b\b\b\b\b\b\b\b\b\b\b\b\b\b\b\b\b\b\b\b\b\b\b\b\b\b\b\b\b\b\b\b\b\b\b\b\b\b\b\b\b\b\b\b\b\b\b\b\b\b\b\b\b\b\b\b\b\b\b\b\b\b\b\b\b\b\b\b\b\b\b\b\b\b\b\b\r",
      "\u001b[1m1/1\u001b[0m \u001b[32m━━━━━━━━━━━━━━━━━━━━\u001b[0m\u001b[37m\u001b[0m \u001b[1m0s\u001b[0m 8ms/step - loss: 8.9238e-05 - mean_absolute_percentage_error: 4.0847\n"
     ]
    },
    {
     "name": "stdout",
     "output_type": "stream",
     "text": [
      "--- 正規化比較 --- \n",
      "Actual shape: (25, 1), Predict shape: (25, 1)\n",
      "MAE:0.00926，MAPE:0.04085，MSE:9e-05，RMSE:0.00945，R square:0.62355\n",
      "--- 原始值比較 --- \n",
      "Actual shape: (25, 1), Predict shape: (25, 1)\n",
      "MAE:17.22741，MAPE:0.03885，MSE:309.11068，RMSE:17.58154，R square:0.62355\n",
      "\n",
      "\u001b[31m------------------------------------------------------------------------\u001b[0m\n",
      "\u001b[31m第 6 個 IMF\u001b[0m\n",
      "\u001b[31m------------------------------------------------------------------------\u001b[0m\n",
      "\u001b[93m# 查看訓練 & 驗證 & 測試集評估數據\u001b[0m\n",
      "====== Train Evaluate ======\n"
     ]
    },
    {
     "name": "stdout",
     "output_type": "stream",
     "text": [
      "\r",
      "\u001b[1m 1/10\u001b[0m \u001b[32m━━\u001b[0m\u001b[37m━━━━━━━━━━━━━━━━━━\u001b[0m \u001b[1m0s\u001b[0m 8ms/step - loss: 4.5002e-05 - mean_absolute_percentage_error: 0.9701"
     ]
    },
    {
     "name": "stdout",
     "output_type": "stream",
     "text": [
      "\b\b\b\b\b\b\b\b\b\b\b\b\b\b\b\b\b\b\b\b\b\b\b\b\b\b\b\b\b\b\b\b\b\b\b\b\b\b\b\b\b\b\b\b\b\b\b\b\b\b\b\b\b\b\b\b\b\b\b\b\b\b\b\b\b\b\b\b\b\b\b\b\b\b\b\b\b\b\b\b\b\b\b\b\b\b\b\b\b\b\b\b\b\b\b\b\b\b\r",
      "\u001b[1m10/10\u001b[0m \u001b[32m━━━━━━━━━━━━━━━━━━━━\u001b[0m\u001b[37m\u001b[0m \u001b[1m0s\u001b[0m 1ms/step - loss: 2.3405e-05 - mean_absolute_percentage_error: 9438.4570\n"
     ]
    },
    {
     "name": "stdout",
     "output_type": "stream",
     "text": [
      "--- 訓練值比較 --- \n",
      "Actual shape: (301, 1), Predict shape: (301, 1)\n",
      "MAE:0.00354，MAPE:65111692503.3093，MSE:2e-05，RMSE:0.00393，R square:0.99983\n",
      "--- 原始值比較 --- \n",
      "Actual shape: (301, 1), Predict shape: (301, 1)\n",
      "MAE:5.73028，MAPE:0.03699，MSE:40.50402，RMSE:6.36428，R square:0.99983\n",
      "\n",
      "====== Val Evaluate ======\n"
     ]
    },
    {
     "name": "stdout",
     "output_type": "stream",
     "text": [
      "\r",
      "\u001b[1m1/1\u001b[0m \u001b[32m━━━━━━━━━━━━━━━━━━━━\u001b[0m\u001b[37m\u001b[0m \u001b[1m0s\u001b[0m 7ms/step - loss: 2.6651e-05 - mean_absolute_percentage_error: 0.5301"
     ]
    },
    {
     "name": "stdout",
     "output_type": "stream",
     "text": [
      "\b\b\b\b\b\b\b\b\b\b\b\b\b\b\b\b\b\b\b\b\b\b\b\b\b\b\b\b\b\b\b\b\b\b\b\b\b\b\b\b\b\b\b\b\b\b\b\b\b\b\b\b\b\b\b\b\b\b\b\b\b\b\b\b\b\b\b\b\b\b\b\b\b\b\b\b\b\b\b\b\b\b\b\b\b\b\b\b\b\b\b\b\b\b\b\b\r",
      "\u001b[1m1/1\u001b[0m \u001b[32m━━━━━━━━━━━━━━━━━━━━\u001b[0m\u001b[37m\u001b[0m \u001b[1m0s\u001b[0m 8ms/step - loss: 2.6651e-05 - mean_absolute_percentage_error: 0.5301\n"
     ]
    },
    {
     "name": "stdout",
     "output_type": "stream",
     "text": [
      "--- 正規化比較 --- \n",
      "Actual shape: (24, 1), Predict shape: (24, 1)\n",
      "MAE:0.00499，MAPE:0.0053，MSE:3e-05，RMSE:0.00516，R square:0.97177\n",
      "--- 原始值比較 --- \n",
      "Actual shape: (24, 1), Predict shape: (24, 1)\n",
      "MAE:8.08826，MAPE:0.00917，MSE:69.88178，RMSE:8.35953，R square:0.97177\n",
      "\n",
      "====== Test Evaluate ======\n"
     ]
    },
    {
     "name": "stdout",
     "output_type": "stream",
     "text": [
      "\r",
      "\u001b[1m1/1\u001b[0m \u001b[32m━━━━━━━━━━━━━━━━━━━━\u001b[0m\u001b[37m\u001b[0m \u001b[1m0s\u001b[0m 8ms/step - loss: 1.3022e-04 - mean_absolute_percentage_error: 1.1456"
     ]
    },
    {
     "name": "stdout",
     "output_type": "stream",
     "text": [
      "\b\b\b\b\b\b\b\b\b\b\b\b\b\b\b\b\b\b\b\b\b\b\b\b\b\b\b\b\b\b\b\b\b\b\b\b\b\b\b\b\b\b\b\b\b\b\b\b\b\b\b\b\b\b\b\b\b\b\b\b\b\b\b\b\b\b\b\b\b\b\b\b\b\b\b\b\b\b\b\b\b\b\b\b\b\b\b\b\b\b\b\b\b\b\b\b\r",
      "\u001b[1m1/1\u001b[0m \u001b[32m━━━━━━━━━━━━━━━━━━━━\u001b[0m\u001b[37m\u001b[0m \u001b[1m0s\u001b[0m 8ms/step - loss: 1.3022e-04 - mean_absolute_percentage_error: 1.1456\n"
     ]
    },
    {
     "name": "stdout",
     "output_type": "stream",
     "text": [
      "--- 正規化比較 --- \n",
      "Actual shape: (25, 1), Predict shape: (25, 1)\n",
      "MAE:0.01139，MAPE:0.01146，MSE:0.00013，RMSE:0.01141，R square:-4.01389\n",
      "--- 原始值比較 --- \n",
      "Actual shape: (25, 1), Predict shape: (25, 1)\n",
      "MAE:18.4509，MAPE:0.01905，MSE:341.46428，RMSE:18.47875，R square:-4.01388\n",
      "\n",
      "\u001b[31m------------------------------------------------------------------------\u001b[0m\n",
      "\u001b[31m第 7 個 IMF\u001b[0m\n",
      "\u001b[31m------------------------------------------------------------------------\u001b[0m\n",
      "\u001b[93m# 查看訓練 & 驗證 & 測試集評估數據\u001b[0m\n",
      "====== Train Evaluate ======\n"
     ]
    },
    {
     "name": "stdout",
     "output_type": "stream",
     "text": [
      "\r",
      "\u001b[1m 1/10\u001b[0m \u001b[32m━━\u001b[0m\u001b[37m━━━━━━━━━━━━━━━━━━\u001b[0m \u001b[1m0s\u001b[0m 8ms/step - loss: 2.1767e-05 - mean_absolute_percentage_error: 0.4697"
     ]
    },
    {
     "name": "stdout",
     "output_type": "stream",
     "text": [
      "\b\b\b\b\b\b\b\b\b\b\b\b\b\b\b\b\b\b\b\b\b\b\b\b\b\b\b\b\b\b\b\b\b\b\b\b\b\b\b\b\b\b\b\b\b\b\b\b\b\b\b\b\b\b\b\b\b\b\b\b\b\b\b\b\b\b\b\b\b\b\b\b\b\b\b\b\b\b\b\b\b\b\b\b\b\b\b\b\b\b\b\b\b\b\b\b\b\b\r",
      "\u001b[1m10/10\u001b[0m \u001b[32m━━━━━━━━━━━━━━━━━━━━\u001b[0m\u001b[37m\u001b[0m \u001b[1m0s\u001b[0m 1ms/step - loss: 2.1620e-05 - mean_absolute_percentage_error: 2.8743\n"
     ]
    },
    {
     "name": "stdout",
     "output_type": "stream",
     "text": [
      "--- 訓練值比較 --- \n",
      "Actual shape: (301, 1), Predict shape: (301, 1)\n",
      "MAE:0.00318，MAPE:0.09424，MSE:1e-05，RMSE:0.00375，R square:0.99989\n",
      "--- 原始值比較 --- \n",
      "Actual shape: (301, 1), Predict shape: (301, 1)\n",
      "MAE:4.94044，MAPE:0.00127，MSE:33.83802，RMSE:5.81705，R square:0.99989\n",
      "\n",
      "====== Val Evaluate ======\n"
     ]
    },
    {
     "name": "stdout",
     "output_type": "stream",
     "text": [
      "\r",
      "\u001b[1m1/1\u001b[0m \u001b[32m━━━━━━━━━━━━━━━━━━━━\u001b[0m\u001b[37m\u001b[0m \u001b[1m0s\u001b[0m 8ms/step - loss: 7.2291e-06 - mean_absolute_percentage_error: 33.8064"
     ]
    },
    {
     "name": "stdout",
     "output_type": "stream",
     "text": [
      "\b\b\b\b\b\b\b\b\b\b\b\b\b\b\b\b\b\b\b\b\b\b\b\b\b\b\b\b\b\b\b\b\b\b\b\b\b\b\b\b\b\b\b\b\b\b\b\b\b\b\b\b\b\b\b\b\b\b\b\b\b\b\b\b\b\b\b\b\b\b\b\b\b\b\b\b\b\b\b\b\b\b\b\b\b\b\b\b\b\b\b\b\b\b\b\b\b\r",
      "\u001b[1m1/1\u001b[0m \u001b[32m━━━━━━━━━━━━━━━━━━━━\u001b[0m\u001b[37m\u001b[0m \u001b[1m0s\u001b[0m 9ms/step - loss: 7.2291e-06 - mean_absolute_percentage_error: 33.8064\n"
     ]
    },
    {
     "name": "stdout",
     "output_type": "stream",
     "text": [
      "--- 正規化比較 --- \n",
      "Actual shape: (24, 1), Predict shape: (24, 1)\n",
      "MAE:0.00269，MAPE:0.33806，MSE:1e-05，RMSE:0.00269，R square:-9.17303\n",
      "--- 原始值比較 --- \n",
      "Actual shape: (24, 1), Predict shape: (24, 1)\n",
      "MAE:4.17116，MAPE:0.00136，MSE:17.42445，RMSE:4.17426，R square:-9.17316\n",
      "\n",
      "====== Test Evaluate ======\n"
     ]
    },
    {
     "name": "stdout",
     "output_type": "stream",
     "text": [
      "\r",
      "\u001b[1m1/1\u001b[0m \u001b[32m━━━━━━━━━━━━━━━━━━━━\u001b[0m\u001b[37m\u001b[0m \u001b[1m0s\u001b[0m 8ms/step - loss: 7.8590e-07 - mean_absolute_percentage_error: 11341.7285"
     ]
    },
    {
     "name": "stdout",
     "output_type": "stream",
     "text": [
      "\b\b\b\b\b\b\b\b\b\b\b\b\b\b\b\b\b\b\b\b\b\b\b\b\b\b\b\b\b\b\b\b\b\b\b\b\b\b\b\b\b\b\b\b\b\b\b\b\b\b\b\b\b\b\b\b\b\b\b\b\b\b\b\b\b\b\b\b\b\b\b\b\b\b\b\b\b\b\b\b\b\b\b\b\b\b\b\b\b\b\b\b\b\b\b\b\b\b\b\b\r",
      "\u001b[1m1/1\u001b[0m \u001b[32m━━━━━━━━━━━━━━━━━━━━\u001b[0m\u001b[37m\u001b[0m \u001b[1m0s\u001b[0m 9ms/step - loss: 7.8590e-07 - mean_absolute_percentage_error: 11341.7285\n"
     ]
    },
    {
     "name": "stdout",
     "output_type": "stream",
     "text": [
      "--- 正規化比較 --- \n",
      "Actual shape: (25, 1), Predict shape: (25, 1)\n",
      "MAE:0.00073，MAPE:51012215767.18741，MSE:0.0，RMSE:0.00089，R square:0.86141\n",
      "--- 原始值比較 --- \n",
      "Actual shape: (25, 1), Predict shape: (25, 1)\n",
      "MAE:1.13669，MAPE:0.00037，MSE:1.89426，RMSE:1.37632，R square:0.86141\n",
      "\n",
      "\u001b[31m------------------------------------------------------------------------\u001b[0m\n",
      "\u001b[31m第 8 個 IMF\u001b[0m\n",
      "\u001b[31m------------------------------------------------------------------------\u001b[0m\n",
      "\u001b[93m# 查看訓練 & 驗證 & 測試集評估數據\u001b[0m\n",
      "====== Train Evaluate ======\n"
     ]
    },
    {
     "name": "stdout",
     "output_type": "stream",
     "text": [
      "\r",
      "\u001b[1m 1/10\u001b[0m \u001b[32m━━\u001b[0m\u001b[37m━━━━━━━━━━━━━━━━━━\u001b[0m \u001b[1m0s\u001b[0m 8ms/step - loss: 2.2930e-06 - mean_absolute_percentage_error: 0.1520"
     ]
    },
    {
     "name": "stdout",
     "output_type": "stream",
     "text": [
      "\b\b\b\b\b\b\b\b\b\b\b\b\b\b\b\b\b\b\b\b\b\b\b\b\b\b\b\b\b\b\b\b\b\b\b\b\b\b\b\b\b\b\b\b\b\b\b\b\b\b\b\b\b\b\b\b\b\b\b\b\b\b\b\b\b\b\b\b\b\b\b\b\b\b\b\b\b\b\b\b\b\b\b\b\b\b\b\b\b\b\b\b\b\b\b\b\b\b\r",
      "\u001b[1m10/10\u001b[0m \u001b[32m━━━━━━━━━━━━━━━━━━━━\u001b[0m\u001b[37m\u001b[0m \u001b[1m0s\u001b[0m 1ms/step - loss: 7.4126e-07 - mean_absolute_percentage_error: 0.0858\n"
     ]
    },
    {
     "name": "stdout",
     "output_type": "stream",
     "text": [
      "--- 訓練值比較 --- \n",
      "Actual shape: (301, 1), Predict shape: (301, 1)\n",
      "MAE:0.00049，MAPE:0.00108，MSE:0.0，RMSE:0.00066，R square:0.99999\n",
      "--- 原始值比較 --- \n",
      "Actual shape: (301, 1), Predict shape: (301, 1)\n",
      "MAE:0.63728，MAPE:0.00015，MSE:0.73392，RMSE:0.85669，R square:0.99999\n",
      "\n",
      "====== Val Evaluate ======\n"
     ]
    },
    {
     "name": "stdout",
     "output_type": "stream",
     "text": [
      "\r",
      "\u001b[1m1/1\u001b[0m \u001b[32m━━━━━━━━━━━━━━━━━━━━\u001b[0m\u001b[37m\u001b[0m \u001b[1m0s\u001b[0m 7ms/step - loss: 4.2305e-06 - mean_absolute_percentage_error: 2.2801"
     ]
    },
    {
     "name": "stdout",
     "output_type": "stream",
     "text": [
      "\b\b\b\b\b\b\b\b\b\b\b\b\b\b\b\b\b\b\b\b\b\b\b\b\b\b\b\b\b\b\b\b\b\b\b\b\b\b\b\b\b\b\b\b\b\b\b\b\b\b\b\b\b\b\b\b\b\b\b\b\b\b\b\b\b\b\b\b\b\b\b\b\b\b\b\b\b\b\b\b\b\b\b\b\b\b\b\b\b\b\b\b\b\b\b\b\r",
      "\u001b[1m1/1\u001b[0m \u001b[32m━━━━━━━━━━━━━━━━━━━━\u001b[0m\u001b[37m\u001b[0m \u001b[1m0s\u001b[0m 8ms/step - loss: 4.2305e-06 - mean_absolute_percentage_error: 2.2801\n"
     ]
    },
    {
     "name": "stdout",
     "output_type": "stream",
     "text": [
      "--- 正規化比較 --- \n",
      "Actual shape: (24, 1), Predict shape: (24, 1)\n",
      "MAE:0.00205，MAPE:0.0228，MSE:0.0，RMSE:0.00206，R square:0.98154\n",
      "--- 原始值比較 --- \n",
      "Actual shape: (24, 1), Predict shape: (24, 1)\n",
      "MAE:2.6683，MAPE:0.00074，MSE:7.20056，RMSE:2.68339，R square:0.98154\n",
      "\n",
      "====== Test Evaluate ======\n"
     ]
    },
    {
     "name": "stdout",
     "output_type": "stream",
     "text": [
      "\r",
      "\u001b[1m1/1\u001b[0m \u001b[32m━━━━━━━━━━━━━━━━━━━━\u001b[0m\u001b[37m\u001b[0m \u001b[1m0s\u001b[0m 7ms/step - loss: 8.6850e-06 - mean_absolute_percentage_error: 121387.8984"
     ]
    },
    {
     "name": "stdout",
     "output_type": "stream",
     "text": [
      "\b\b\b\b\b\b\b\b\b\b\b\b\b\b\b\b\b\b\b\b\b\b\b\b\b\b\b\b\b\b\b\b\b\b\b\b\b\b\b\b\b\b\b\b\b\b\b\b\b\b\b\b\b\b\b\b\b\b\b\b\b\b\b\b\b\b\b\b\b\b\b\b\b\b\b\b\b\b\b\b\b\b\b\b\b\b\b\b\b\b\b\b\b\b\b\b\b\b\b\b\b\r",
      "\u001b[1m1/1\u001b[0m \u001b[32m━━━━━━━━━━━━━━━━━━━━\u001b[0m\u001b[37m\u001b[0m \u001b[1m0s\u001b[0m 8ms/step - loss: 8.6850e-06 - mean_absolute_percentage_error: 121387.8984\n"
     ]
    },
    {
     "name": "stdout",
     "output_type": "stream",
     "text": [
      "--- 正規化比較 --- \n",
      "Actual shape: (25, 1), Predict shape: (25, 1)\n",
      "MAE:0.00295，MAPE:546542138163.51166，MSE:1e-05，RMSE:0.00295，R square:0.93515\n",
      "--- 原始值比較 --- \n",
      "Actual shape: (25, 1), Predict shape: (25, 1)\n",
      "MAE:3.84336，MAPE:0.00109，MSE:14.78208，RMSE:3.84475，R square:0.93516\n",
      "\n",
      "\u001b[31m------------------------------------------------------------------------\u001b[0m\n",
      "\u001b[31m殘差\u001b[0m\n",
      "\u001b[93m# 查看訓練 & 驗證 & 測試集評估數據\u001b[0m\n",
      "====== Train Evaluate ======\n"
     ]
    },
    {
     "name": "stdout",
     "output_type": "stream",
     "text": [
      "\r",
      "\u001b[1m 1/10\u001b[0m \u001b[32m━━\u001b[0m\u001b[37m━━━━━━━━━━━━━━━━━━\u001b[0m \u001b[1m0s\u001b[0m 8ms/step - loss: 0.0039 - mean_absolute_percentage_error: 4828160.5000"
     ]
    },
    {
     "name": "stdout",
     "output_type": "stream",
     "text": [
      "\b\b\b\b\b\b\b\b\b\b\b\b\b\b\b\b\b\b\b\b\b\b\b\b\b\b\b\b\b\b\b\b\b\b\b\b\b\b\b\b\b\b\b\b\b\b\b\b\b\b\b\b\b\b\b\b\b\b\b\b\b\b\b\b\b\b\b\b\b\b\b\b\b\b\b\b\b\b\b\b\b\b\b\b\b\b\b\b\b\b\b\b\b\b\b\b\b\b\b\b\r",
      "\u001b[1m10/10\u001b[0m \u001b[32m━━━━━━━━━━━━━━━━━━━━\u001b[0m\u001b[37m\u001b[0m \u001b[1m0s\u001b[0m 1ms/step - loss: 0.0033 - mean_absolute_percentage_error: 1335036.7500\n"
     ]
    },
    {
     "name": "stdout",
     "output_type": "stream",
     "text": [
      "--- 訓練值比較 --- \n",
      "Actual shape: (301, 1), Predict shape: (301, 1)\n",
      "MAE:0.04765，MAPE:2311650211493.1265，MSE:0.00343，RMSE:0.05856，R square:0.91779\n",
      "--- 原始值比較 --- \n",
      "Actual shape: (301, 1), Predict shape: (301, 1)\n",
      "MAE:69.36661，MAPE:0.01893，MSE:7268.63327，RMSE:85.25628，R square:0.91779\n",
      "\n",
      "====== Val Evaluate ======\n"
     ]
    },
    {
     "name": "stdout",
     "output_type": "stream",
     "text": [
      "\r",
      "\u001b[1m1/1\u001b[0m \u001b[32m━━━━━━━━━━━━━━━━━━━━\u001b[0m\u001b[37m\u001b[0m \u001b[1m0s\u001b[0m 7ms/step - loss: 0.0051 - mean_absolute_percentage_error: 6.8175"
     ]
    },
    {
     "name": "stdout",
     "output_type": "stream",
     "text": [
      "\b\b\b\b\b\b\b\b\b\b\b\b\b\b\b\b\b\b\b\b\b\b\b\b\b\b\b\b\b\b\b\b\b\b\b\b\b\b\b\b\b\b\b\b\b\b\b\b\b\b\b\b\b\b\b\b\b\b\b\b\b\b\b\b\b\b\b\b\b\b\b\b\b\b\b\b\b\b\b\b\b\b\b\b\b\b\b\b\b\b\b\b\r",
      "\u001b[1m1/1\u001b[0m \u001b[32m━━━━━━━━━━━━━━━━━━━━\u001b[0m\u001b[37m\u001b[0m \u001b[1m0s\u001b[0m 8ms/step - loss: 0.0051 - mean_absolute_percentage_error: 6.8175\n"
     ]
    },
    {
     "name": "stdout",
     "output_type": "stream",
     "text": [
      "--- 正規化比較 --- \n",
      "Actual shape: (24, 1), Predict shape: (24, 1)\n",
      "MAE:0.05899，MAPE:0.06817，MSE:0.0051，RMSE:0.07139，R square:-1.05646\n",
      "--- 原始值比較 --- \n",
      "Actual shape: (24, 1), Predict shape: (24, 1)\n",
      "MAE:85.87761，MAPE:0.02741，MSE:10800.5239，RMSE:103.92557，R square:-1.05647\n",
      "\n",
      "====== Test Evaluate ======\n"
     ]
    },
    {
     "name": "stdout",
     "output_type": "stream",
     "text": [
      "\r",
      "\u001b[1m1/1\u001b[0m \u001b[32m━━━━━━━━━━━━━━━━━━━━\u001b[0m\u001b[37m\u001b[0m \u001b[1m0s\u001b[0m 7ms/step - loss: 0.0064 - mean_absolute_percentage_error: 7.1050"
     ]
    },
    {
     "name": "stdout",
     "output_type": "stream",
     "text": [
      "\b\b\b\b\b\b\b\b\b\b\b\b\b\b\b\b\b\b\b\b\b\b\b\b\b\b\b\b\b\b\b\b\b\b\b\b\b\b\b\b\b\b\b\b\b\b\b\b\b\b\b\b\b\b\b\b\b\b\b\b\b\b\b\b\b\b\b\b\b\b\b\b\b\b\b\b\b\b\b\b\b\b\b\b\b\b\b\b\b\b\b\b\r",
      "\u001b[1m1/1\u001b[0m \u001b[32m━━━━━━━━━━━━━━━━━━━━\u001b[0m\u001b[37m\u001b[0m \u001b[1m0s\u001b[0m 8ms/step - loss: 0.0064 - mean_absolute_percentage_error: 7.1050\n"
     ]
    },
    {
     "name": "stdout",
     "output_type": "stream",
     "text": [
      "--- 正規化比較 --- \n",
      "Actual shape: (25, 1), Predict shape: (25, 1)\n",
      "MAE:0.06664，MAPE:0.07105，MSE:0.00637，RMSE:0.07982，R square:-2.51698\n",
      "--- 原始值比較 --- \n",
      "Actual shape: (25, 1), Predict shape: (25, 1)\n",
      "MAE:97.00765，MAPE:0.03204，MSE:13503.73996，RMSE:116.20559，R square:-2.51699\n",
      "\n",
      "\u001b[31m------------------------------------------------------------------------\u001b[0m\n",
      "\u001b[31m合併後 Train Evaluate\u001b[0m\n",
      "\u001b[31m------------------------------------------------------------------------\u001b[0m\n",
      "Actual shape: (301, 1), Predict shape: (301, 1)\n",
      "MAE:493.36628，MAPE:0.11265，MSE:618840.77913，RMSE:786.66434，R square:0.82167\n",
      "\n",
      "\u001b[31m------------------------------------------------------------------------\u001b[0m\n",
      "\u001b[31m合併後 Val Evaluate\u001b[0m\n",
      "\u001b[31m------------------------------------------------------------------------\u001b[0m\n",
      "Actual shape: (24, 1), Predict shape: (24, 1)\n",
      "MAE:437.27974，MAPE:0.09103，MSE:292789.28825，RMSE:541.10007，R square:0.42738\n",
      "\n",
      "\u001b[31m------------------------------------------------------------------------\u001b[0m\n",
      "\u001b[31m合併後 Test Evaluate\u001b[0m\n",
      "\u001b[31m------------------------------------------------------------------------\u001b[0m\n",
      "Actual shape: (25, 1), Predict shape: (25, 1)\n",
      "MAE:395.64662，MAPE:0.09502，MSE:207940.64192，RMSE:456.00509，R square:0.56915\n",
      "\n"
     ]
    }
   ],
   "source": [
    "for i in range(len(models)):\n",
    "    print_step(i + 1)\n",
    "    print('\\033[93m# 查看訓練 & 驗證 & 測試集評估數據\\x1b[0m')\n",
    "\n",
    "    print('====== Train Evaluate ======')\n",
    "    lstm.evaluation(models[i], x_lstm_trains[i], y_lstm_trains[i])\n",
    "    print('--- 訓練值比較 --- ')\n",
    "    lstm.score(actual_trains[i], predict_trains[i])\n",
    "    print('--- 原始值比較 --- ')\n",
    "    lstm.score(actual_inverse_trains[i], predict_inverse_trains[i])\n",
    "    print('')\n",
    "\n",
    "    print('====== Val Evaluate ======')\n",
    "    lstm.evaluation(models[i], x_lstm_vals[i], y_lstm_vals[i])\n",
    "    print('--- 正規化比較 --- ')\n",
    "    lstm.score(actual_vals[i], predict_vals[i])\n",
    "    print('--- 原始值比較 --- ')\n",
    "    lstm.score(actual_inverse_vals[i], predict_inverse_vals[i])\n",
    "    print('')\n",
    "\n",
    "    print('====== Test Evaluate ======')\n",
    "    lstm.evaluation(models[i], x_lstm_tests[i], y_lstm_tests[i])\n",
    "    print('--- 正規化比較 --- ')\n",
    "    lstm.score(actual_tests[i], predict_tests[i])\n",
    "    print('--- 原始值比較 --- ')\n",
    "    lstm.score(actual_inverse_tests[i], predict_inverse_tests[i])\n",
    "    print('')\n",
    "    \n",
    "print('\\x1b[31m------------------------------------------------------------------------\\x1b[0m')\n",
    "print('\\x1b[31m合併後 Train Evaluate\\x1b[0m')\n",
    "print('\\x1b[31m------------------------------------------------------------------------\\x1b[0m')\n",
    "mae_train, mape_train = lstm.score(y_lstm_origin_train, predict_inverse_train_sum)\n",
    "print('')\n",
    "\n",
    "print('\\x1b[31m------------------------------------------------------------------------\\x1b[0m')\n",
    "print('\\x1b[31m合併後 Val Evaluate\\x1b[0m')\n",
    "print('\\x1b[31m------------------------------------------------------------------------\\x1b[0m')\n",
    "mae_val, mape_val = lstm.score(y_lstm_origin_val, predict_inverse_val_sum)\n",
    "print('')\n",
    "\n",
    "print('\\x1b[31m------------------------------------------------------------------------\\x1b[0m')\n",
    "print('\\x1b[31m合併後 Test Evaluate\\x1b[0m')\n",
    "print('\\x1b[31m------------------------------------------------------------------------\\x1b[0m')\n",
    "mae_test, mape_test = lstm.score(y_lstm_origin_test, predict_inverse_test_sum)\n",
    "print('')"
   ]
  },
  {
   "cell_type": "markdown",
   "id": "5c0958d8",
   "metadata": {
    "id": "D9aEVglH1d_j",
    "papermill": {
     "duration": 0.008995,
     "end_time": "2024-10-26T11:11:52.118661",
     "exception": false,
     "start_time": "2024-10-26T11:11:52.109666",
     "status": "completed"
    },
    "tags": []
   },
   "source": [
    "# 顯示預測圖表"
   ]
  },
  {
   "cell_type": "code",
   "execution_count": 18,
   "id": "d6a5b55b",
   "metadata": {
    "colab": {
     "base_uri": "https://localhost:8080/",
     "height": 306
    },
    "execution": {
     "iopub.execute_input": "2024-10-26T11:11:52.137132Z",
     "iopub.status.busy": "2024-10-26T11:11:52.137032Z",
     "iopub.status.idle": "2024-10-26T11:11:52.183564Z",
     "shell.execute_reply": "2024-10-26T11:11:52.183305Z"
    },
    "id": "hNfsqVzk867U",
    "outputId": "43d75a15-b0c5-4963-d789-a9a29f5f1000",
    "papermill": {
     "duration": 0.056617,
     "end_time": "2024-10-26T11:11:52.184274",
     "exception": false,
     "start_time": "2024-10-26T11:11:52.127657",
     "status": "completed"
    },
    "tags": []
   },
   "outputs": [
    {
     "data": {
      "image/png": "[encoded data removed]",
      "text/plain": [
       "<Figure size 800x300 with 1 Axes>"
      ]
     },
     "metadata": {},
     "output_type": "display_data"
    }
   ],
   "source": [
    "plt.figure(figsize=(8, 3))\n",
    "plt.plot(data_source)\n",
    "plt.show()"
   ]
  },
  {
   "cell_type": "markdown",
   "id": "16b578a6",
   "metadata": {
    "id": "94Q14TQA69Ef",
    "papermill": {
     "duration": 0.009957,
     "end_time": "2024-10-26T11:11:52.204536",
     "exception": false,
     "start_time": "2024-10-26T11:11:52.194579",
     "status": "completed"
    },
    "tags": []
   },
   "source": [
    "## 訓練集"
   ]
  },
  {
   "cell_type": "code",
   "execution_count": 19,
   "id": "9b6bd90c",
   "metadata": {
    "colab": {
     "base_uri": "https://localhost:8080/",
     "height": 717
    },
    "execution": {
     "iopub.execute_input": "2024-10-26T11:11:52.224851Z",
     "iopub.status.busy": "2024-10-26T11:11:52.224715Z",
     "iopub.status.idle": "2024-10-26T11:11:52.304783Z",
     "shell.execute_reply": "2024-10-26T11:11:52.304557Z"
    },
    "id": "OAefcLYb6SOc",
    "outputId": "b8087992-6990-4d15-a857-693c5f486155",
    "papermill": {
     "duration": 0.091067,
     "end_time": "2024-10-26T11:11:52.305469",
     "exception": false,
     "start_time": "2024-10-26T11:11:52.214402",
     "status": "completed"
    },
    "tags": []
   },
   "outputs": [
    {
     "name": "stdout",
     "output_type": "stream",
     "text": [
      "原始資料 (316, 1)\n",
      "[[2178]\n",
      " [2917]\n",
      " [2357]]\n",
      "原始資料2 (301, 1)\n",
      "[[2178]\n",
      " [2917]\n",
      " [2357]]\n",
      "還原原始資料 (301, 1)\n",
      "[[-3168.72103489]\n",
      " [-3267.22423433]]\n"
     ]
    },
    {
     "data": {
      "image/png": "[encoded data removed]",
      "text/plain": [
       "<Figure size 800x200 with 1 Axes>"
      ]
     },
     "metadata": {},
     "output_type": "display_data"
    },
    {
     "data": {
      "image/png": "[encoded data removed]",
      "text/plain": [
       "<Figure size 800x200 with 1 Axes>"
      ]
     },
     "metadata": {},
     "output_type": "display_data"
    }
   ],
   "source": [
    "print('原始資料' , y_train_origin.shape)\n",
    "print(y_train_origin[-3:])\n",
    "\n",
    "print('原始資料2', y_lstm_origin_train.shape)\n",
    "print(y_lstm_origin_train[-3:])\n",
    "\n",
    "print('還原原始資料', actual_inverse_train.shape)\n",
    "print(actual_inverse_train[-2:])\n",
    "\n",
    "lstm.show_predict_chart(\n",
    "    actual = y_lstm_origin_train,\n",
    "    predict = predict_inverse_train_sum,\n",
    "    title = f'Train {labels[0]}:{predicteds}, MAE:{round(mae_train, 5)}, MAPE:{round(mape_train, 5)}'\n",
    ")"
   ]
  },
  {
   "cell_type": "markdown",
   "id": "a3bb5c50",
   "metadata": {
    "id": "Q0x7vn2z_Ga2",
    "papermill": {
     "duration": 0.010323,
     "end_time": "2024-10-26T11:11:52.326535",
     "exception": false,
     "start_time": "2024-10-26T11:11:52.316212",
     "status": "completed"
    },
    "tags": []
   },
   "source": [
    "## 驗證集"
   ]
  },
  {
   "cell_type": "code",
   "execution_count": 20,
   "id": "a1a972e9",
   "metadata": {
    "colab": {
     "base_uri": "https://localhost:8080/",
     "height": 625
    },
    "execution": {
     "iopub.execute_input": "2024-10-26T11:11:52.347631Z",
     "iopub.status.busy": "2024-10-26T11:11:52.347444Z",
     "iopub.status.idle": "2024-10-26T11:11:52.422102Z",
     "shell.execute_reply": "2024-10-26T11:11:52.421868Z"
    },
    "id": "CUX7wXgX_LBn",
    "outputId": "036c03ce-0259-4879-8c5c-d8266aa50258",
    "papermill": {
     "duration": 0.085987,
     "end_time": "2024-10-26T11:11:52.422772",
     "exception": false,
     "start_time": "2024-10-26T11:11:52.336785",
     "status": "completed"
    },
    "tags": []
   },
   "outputs": [
    {
     "name": "stdout",
     "output_type": "stream",
     "text": [
      "原始資料 (39, 1)\n",
      "[[5237]\n",
      " [5122]\n",
      " [5679]]\n",
      "原始資料2 (24, 1)\n",
      "[[5237]\n",
      " [5122]\n",
      " [5679]]\n",
      "還原原始資料 (24, 1)\n",
      "[[-3255.9202    ]\n",
      " [-3020.01459065]]\n"
     ]
    },
    {
     "data": {
      "image/png": "[encoded data removed]",
      "text/plain": [
       "<Figure size 800x200 with 1 Axes>"
      ]
     },
     "metadata": {},
     "output_type": "display_data"
    },
    {
     "data": {
      "image/png": "[encoded data removed]",
      "text/plain": [
       "<Figure size 800x200 with 1 Axes>"
      ]
     },
     "metadata": {},
     "output_type": "display_data"
    }
   ],
   "source": [
    "print('原始資料' , y_val_origin.shape)\n",
    "print(y_val_origin[-3:])\n",
    "\n",
    "print('原始資料2', y_lstm_origin_val.shape)\n",
    "print(y_lstm_origin_val[-3:])\n",
    "\n",
    "print('還原原始資料', actual_inverse_val.shape)\n",
    "print(actual_inverse_val[-2:])\n",
    "\n",
    "lstm.show_predict_chart(\n",
    "    actual = y_lstm_origin_val,\n",
    "    predict = predict_inverse_val_sum,\n",
    "    title = f'Val {labels[0]}:{predicteds}, MAE:{round(mae_val, 5)}, MAPE:{round(mape_val, 5)}'\n",
    ")"
   ]
  },
  {
   "cell_type": "markdown",
   "id": "898e5738",
   "metadata": {
    "id": "sb12RcTA7CyN",
    "papermill": {
     "duration": 0.010564,
     "end_time": "2024-10-26T11:11:52.444479",
     "exception": false,
     "start_time": "2024-10-26T11:11:52.433915",
     "status": "completed"
    },
    "tags": []
   },
   "source": [
    "## 測試集"
   ]
  },
  {
   "cell_type": "code",
   "execution_count": 21,
   "id": "147c36dd",
   "metadata": {
    "colab": {
     "base_uri": "https://localhost:8080/",
     "height": 625
    },
    "execution": {
     "iopub.execute_input": "2024-10-26T11:11:52.477779Z",
     "iopub.status.busy": "2024-10-26T11:11:52.477648Z",
     "iopub.status.idle": "2024-10-26T11:11:52.561240Z",
     "shell.execute_reply": "2024-10-26T11:11:52.560991Z"
    },
    "id": "cBXpSzdw5vJL",
    "outputId": "70558be3-5527-4893-e141-04485ff12568",
    "papermill": {
     "duration": 0.095428,
     "end_time": "2024-10-26T11:11:52.561933",
     "exception": false,
     "start_time": "2024-10-26T11:11:52.466505",
     "status": "completed"
    },
    "tags": []
   },
   "outputs": [
    {
     "name": "stdout",
     "output_type": "stream",
     "text": [
      "原始資料 (40, 1)\n",
      "[[2964]\n",
      " [3799]\n",
      " [5001]]\n",
      "原始資料2 (25, 1)\n",
      "[[2964]\n",
      " [3799]\n",
      " [5001]]\n",
      "還原原始資料 (25, 1)\n",
      "[[-2941.04131015]\n",
      " [-2989.84404302]]\n",
      "Test GroupCount:[5], BatchSize:14, MAE:395.64662, MAPE:0.09502\n"
     ]
    },
    {
     "data": {
      "image/png": "[encoded data removed]",
      "text/plain": [
       "<Figure size 800x200 with 1 Axes>"
      ]
     },
     "metadata": {},
     "output_type": "display_data"
    },
    {
     "data": {
      "image/png": "[encoded data removed]",
      "text/plain": [
       "<Figure size 800x200 with 1 Axes>"
      ]
     },
     "metadata": {},
     "output_type": "display_data"
    }
   ],
   "source": [
    "print('原始資料' , y_test_origin.shape)\n",
    "print(y_test_origin[-3:])\n",
    "\n",
    "print('原始資料2', y_lstm_origin_test.shape)\n",
    "print(y_lstm_origin_test[-3:])\n",
    "\n",
    "print('還原原始資料', actual_inverse_test.shape)\n",
    "print(actual_inverse_test[-2:]) \n",
    "\n",
    "title = f'Test {labels[0]}:{predicteds}, BatchSize:{batch_size}, MAE:{round(mae_test, 5)}, MAPE:{round(mape_test, 5)}'\n",
    "print(title)\n",
    "\n",
    "lstm.show_predict_chart(\n",
    "    actual = y_lstm_origin_test,\n",
    "    predict = predict_inverse_test_sum,\n",
    "    title = title\n",
    ")"
   ]
  },
  {
   "cell_type": "markdown",
   "id": "70aaf4db",
   "metadata": {
    "papermill": {
     "duration": 0.010924,
     "end_time": "2024-10-26T11:11:52.584286",
     "exception": false,
     "start_time": "2024-10-26T11:11:52.573362",
     "status": "completed"
    },
    "tags": []
   },
   "source": [
    "# 儲存結果"
   ]
  },
  {
   "cell_type": "code",
   "execution_count": 22,
   "id": "dbb844b9",
   "metadata": {
    "execution": {
     "iopub.execute_input": "2024-10-26T11:11:52.606422Z",
     "iopub.status.busy": "2024-10-26T11:11:52.606311Z",
     "iopub.status.idle": "2024-10-26T11:11:52.608748Z",
     "shell.execute_reply": "2024-10-26T11:11:52.608516Z"
    },
    "papermill": {
     "duration": 0.01432,
     "end_time": "2024-10-26T11:11:52.609405",
     "exception": false,
     "start_time": "2024-10-26T11:11:52.595085",
     "status": "completed"
    },
    "tags": []
   },
   "outputs": [
    {
     "name": "stdout",
     "output_type": "stream",
     "text": [
      "{'type': 'DecompEEMD', 'labels': ['GroupCount'], 'model_type': 1, 'predicteds': [5], 'batch_size': 14, 'train_mae': 493.36628, 'train_mape': 0.11265, 'test_mae': 395.64662, 'test_mape': 0.09502, 'kfold': None, 'imfs': 9}\n",
      "儲存評估結果到 DecompEEMD/_Model/GroupCount_mt1_data5_batch14.result.json\n"
     ]
    }
   ],
   "source": [
    "lstm.save_json_file(\n",
    "    result_file_name, model_dir, labels, model_type, predicteds, \n",
    "    batch_size, mae_train, mape_train, mae_test, mape_test,\n",
    "    imfs = len(imfs)\n",
    ")"
   ]
  }
 ],
 "metadata": {
  "colab": {
   "provenance": [],
   "toc_visible": true
  },
  "kernelspec": {
   "display_name": "nckuenv",
   "language": "python",
   "name": "nckuenv"
  },
  "language_info": {
   "codemirror_mode": {
    "name": "ipython",
    "version": 3
   },
   "file_extension": ".py",
   "mimetype": "text/x-python",
   "name": "python",
   "nbconvert_exporter": "python",
   "pygments_lexer": "ipython3",
   "version": "3.12.4"
  },
  "papermill": {
   "default_parameters": {},
   "duration": 71.879122,
   "end_time": "2024-10-26T11:11:53.450604",
   "environment_variables": {},
   "exception": null,
   "input_path": "Temp_runtime.ipynb",
   "output_path": "DecompEEMD/GroupCount/DecompEEMD_mt1_data5_batch14.ipynb",
   "parameters": {},
   "start_time": "2024-10-26T11:10:41.571482",
   "version": "2.6.0"
  }
 },
 "nbformat": 4,
 "nbformat_minor": 5
}